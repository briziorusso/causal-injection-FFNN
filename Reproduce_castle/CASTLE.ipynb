{
 "cells": [
  {
   "cell_type": "code",
   "execution_count": 1,
   "metadata": {},
   "outputs": [
    {
     "name": "stderr",
     "output_type": "stream",
     "text": [
      "/homes/fr920/.local/lib/python3.6/site-packages/tensorflow/python/framework/dtypes.py:516: FutureWarning: Passing (type, 1) or '1type' as a synonym of type is deprecated; in a future version of numpy, it will be understood as (type, (1,)) / '(1,)type'.\n",
      "  _np_qint8 = np.dtype([(\"qint8\", np.int8, 1)])\n",
      "/homes/fr920/.local/lib/python3.6/site-packages/tensorflow/python/framework/dtypes.py:517: FutureWarning: Passing (type, 1) or '1type' as a synonym of type is deprecated; in a future version of numpy, it will be understood as (type, (1,)) / '(1,)type'.\n",
      "  _np_quint8 = np.dtype([(\"quint8\", np.uint8, 1)])\n",
      "/homes/fr920/.local/lib/python3.6/site-packages/tensorflow/python/framework/dtypes.py:518: FutureWarning: Passing (type, 1) or '1type' as a synonym of type is deprecated; in a future version of numpy, it will be understood as (type, (1,)) / '(1,)type'.\n",
      "  _np_qint16 = np.dtype([(\"qint16\", np.int16, 1)])\n",
      "/homes/fr920/.local/lib/python3.6/site-packages/tensorflow/python/framework/dtypes.py:519: FutureWarning: Passing (type, 1) or '1type' as a synonym of type is deprecated; in a future version of numpy, it will be understood as (type, (1,)) / '(1,)type'.\n",
      "  _np_quint16 = np.dtype([(\"quint16\", np.uint16, 1)])\n",
      "/homes/fr920/.local/lib/python3.6/site-packages/tensorflow/python/framework/dtypes.py:520: FutureWarning: Passing (type, 1) or '1type' as a synonym of type is deprecated; in a future version of numpy, it will be understood as (type, (1,)) / '(1,)type'.\n",
      "  _np_qint32 = np.dtype([(\"qint32\", np.int32, 1)])\n",
      "/homes/fr920/.local/lib/python3.6/site-packages/tensorflow/python/framework/dtypes.py:525: FutureWarning: Passing (type, 1) or '1type' as a synonym of type is deprecated; in a future version of numpy, it will be understood as (type, (1,)) / '(1,)type'.\n",
      "  np_resource = np.dtype([(\"resource\", np.ubyte, 1)])\n",
      "/homes/fr920/.local/lib/python3.6/site-packages/tensorboard/compat/tensorflow_stub/dtypes.py:541: FutureWarning: Passing (type, 1) or '1type' as a synonym of type is deprecated; in a future version of numpy, it will be understood as (type, (1,)) / '(1,)type'.\n",
      "  _np_qint8 = np.dtype([(\"qint8\", np.int8, 1)])\n",
      "/homes/fr920/.local/lib/python3.6/site-packages/tensorboard/compat/tensorflow_stub/dtypes.py:542: FutureWarning: Passing (type, 1) or '1type' as a synonym of type is deprecated; in a future version of numpy, it will be understood as (type, (1,)) / '(1,)type'.\n",
      "  _np_quint8 = np.dtype([(\"quint8\", np.uint8, 1)])\n",
      "/homes/fr920/.local/lib/python3.6/site-packages/tensorboard/compat/tensorflow_stub/dtypes.py:543: FutureWarning: Passing (type, 1) or '1type' as a synonym of type is deprecated; in a future version of numpy, it will be understood as (type, (1,)) / '(1,)type'.\n",
      "  _np_qint16 = np.dtype([(\"qint16\", np.int16, 1)])\n",
      "/homes/fr920/.local/lib/python3.6/site-packages/tensorboard/compat/tensorflow_stub/dtypes.py:544: FutureWarning: Passing (type, 1) or '1type' as a synonym of type is deprecated; in a future version of numpy, it will be understood as (type, (1,)) / '(1,)type'.\n",
      "  _np_quint16 = np.dtype([(\"quint16\", np.uint16, 1)])\n",
      "/homes/fr920/.local/lib/python3.6/site-packages/tensorboard/compat/tensorflow_stub/dtypes.py:545: FutureWarning: Passing (type, 1) or '1type' as a synonym of type is deprecated; in a future version of numpy, it will be understood as (type, (1,)) / '(1,)type'.\n",
      "  _np_qint32 = np.dtype([(\"qint32\", np.int32, 1)])\n",
      "/homes/fr920/.local/lib/python3.6/site-packages/tensorboard/compat/tensorflow_stub/dtypes.py:550: FutureWarning: Passing (type, 1) or '1type' as a synonym of type is deprecated; in a future version of numpy, it will be understood as (type, (1,)) / '(1,)type'.\n",
      "  np_resource = np.dtype([(\"resource\", np.ubyte, 1)])\n"
     ]
    },
    {
     "name": "stdout",
     "output_type": "stream",
     "text": [
      "WARNING:tensorflow:From /homes/fr920/.local/lib/python3.6/site-packages/tensorflow/python/compat/v2_compat.py:61: disable_resource_variables (from tensorflow.python.ops.variable_scope) is deprecated and will be removed in a future version.\n",
      "Instructions for updating:\n",
      "non-resource variables are not supported in the long term\n"
     ]
    }
   ],
   "source": [
    "import numpy as np\n",
    "np.set_printoptions(suppress=True)\n",
    "import networkx as nx\n",
    "import random\n",
    "import pandas as pd\n",
    "#import tensorflow as tf\n",
    "#Disable TensorFlow 2 behaviour\n",
    "from sklearn.model_selection import KFold  \n",
    "from sklearn.preprocessing import StandardScaler \n",
    "from sklearn import preprocessing\n",
    "import tensorflow.compat.v1 as tf\n",
    "tf.disable_v2_behavior() \n",
    "import os\n",
    "from sklearn.metrics import mean_squared_error\n",
    "from CASTLE import CASTLE\n",
    "from utils import random_dag, gen_data_nonlinear, random_stability\n",
    "from signal import signal, SIGINT\n",
    "from sys import exit\n",
    "import argparse"
   ]
  },
  {
   "cell_type": "code",
   "execution_count": 2,
   "metadata": {},
   "outputs": [
    {
     "data": {
      "image/png": "[encoded data removed]",
      "text/plain": [
       "<Figure size 432x288 with 1 Axes>"
      ]
     },
     "metadata": {},
     "output_type": "display_data"
    }
   ],
   "source": [
    "dataset_sz = 5000\n",
    "csv = \"synth_nonlinear.csv\"\n",
    "df = pd.read_csv(csv)\n",
    "df_test = df.iloc[-1000:]\n",
    "df = df.iloc[:dataset_sz]\n",
    "\n",
    "\n",
    "G = nx.DiGraph()\n",
    "for i in range(10):\n",
    "    G.add_node(i)\n",
    "G.add_edge(1,2)\n",
    "G.add_edge(1,3)\n",
    "G.add_edge(1,4)\n",
    "G.add_edge(2,5)\n",
    "G.add_edge(2,0)\n",
    "G.add_edge(3,0)\n",
    "G.add_edge(3,6)\n",
    "G.add_edge(3,7)\n",
    "G.add_edge(6,9)\n",
    "G.add_edge(0,8)\n",
    "G.add_edge(0,9)\n",
    "G\n",
    "\n",
    "pos=nx.planar_layout(G)\n",
    "nx.draw(G,pos)\n",
    "labels={}\n",
    "for i in range(10):\n",
    "    labels[i] = i\n",
    "nx.draw_networkx_labels(G,pos,labels,font_size=16);"
   ]
  },
  {
   "cell_type": "code",
   "execution_count": 3,
   "metadata": {},
   "outputs": [
    {
     "data": {
      "text/plain": [
       "count    5000.000000\n",
       "mean        2.490209\n",
       "std         1.213778\n",
       "min        -1.437822\n",
       "25%         1.689177\n",
       "50%         2.426209\n",
       "75%         3.205960\n",
       "max        13.763755\n",
       "Name: 0, dtype: float64"
      ]
     },
     "execution_count": 3,
     "metadata": {},
     "output_type": "execute_result"
    }
   ],
   "source": [
    "df['0'].describe()"
   ]
  },
  {
   "cell_type": "code",
   "execution_count": 4,
   "metadata": {},
   "outputs": [],
   "source": [
    "random_data = False\n",
    "if random_data:\n",
    "    G = random_dag(23, 50)\n",
    "    # G\n",
    "    def handler(signal_received, frame):\n",
    "        # Handle any cleanup here\n",
    "        print('SIGINT or CTRL-C detected. Exiting gracefully')\n",
    "        exit(0)\n",
    "    def str2bool(v):\n",
    "        if isinstance(v, bool):\n",
    "           return v\n",
    "        if v.lower() in ('yes', 'true', 't', 'y', '1'):\n",
    "            return True\n",
    "        elif v.lower() in ('no', 'false', 'f', 'n', '0'):\n",
    "            return False\n",
    "        else:\n",
    "            raise argparse.ArgumentTypeError('Boolean value expected.') \n",
    "\n",
    "    # noise = random.uniform(0.3, 1.0)\n",
    "    # print(\"Setting noise to \", noise)\n",
    "    # df = gen_data_nonlinear(G, SIZE = dataset_sz, var = noise).iloc[:dataset_sz]\n",
    "    # df_test =  gen_data_nonlinear(G, SIZE = int(dataset_sz*0.25), var = noise)\n",
    "    # df\n",
    "\n",
    "    def swap_cols(df, a, b):\n",
    "        df = df.rename(columns = {a : 'temp'})\n",
    "        df = df.rename(columns = {b : a})\n",
    "        return df.rename(columns = {'temp' : b})\n",
    "    def swap_nodes(G, a, b):\n",
    "        newG = nx.relabel_nodes(G, {a : 'temp'})\n",
    "        newG = nx.relabel_nodes(newG, {b : a})\n",
    "        return nx.relabel_nodes(newG, {'temp' : b})\n",
    "\n",
    "    for i in range(len(G.edges())):\n",
    "        if len(list(G.predecessors(i))) > 0:\n",
    "            df = swap_cols(df, str(0), str(i))\n",
    "            df_test = swap_cols(df_test, str(0), str(i))\n",
    "            G = swap_nodes(G, 0, i)\n",
    "            break      \n",
    "\n",
    "    #print(\"Number of parents of G\", len(list(G.predecessors(i))))\n",
    "    print(\"Edges = \", list(G.edges()))"
   ]
  },
  {
   "cell_type": "code",
   "execution_count": 5,
   "metadata": {},
   "outputs": [
    {
     "name": "stdout",
     "output_type": "stream",
     "text": [
      "Dataset limits are 22.43824804096758 14.264787433454547 12.751701336069463\n"
     ]
    }
   ],
   "source": [
    "scaler = StandardScaler()\n",
    "n_folds = 10\n",
    "df = scaler.fit_transform(df)\n",
    "df_test = scaler.transform(df_test)\n",
    "\n",
    "X_test = df_test\n",
    "y_test = df_test[:,0]\n",
    "X_DAG = df\n",
    "\n",
    "kf = KFold(n_splits = n_folds, random_state = 1, shuffle = True)\n",
    "\n",
    "print(\"Dataset limits are\", np.ptp(X_DAG), np.ptp(X_test), np.ptp(y_test))\n"
   ]
  },
  {
   "cell_type": "code",
   "execution_count": 6,
   "metadata": {
    "scrolled": true
   },
   "outputs": [
    {
     "name": "stdout",
     "output_type": "stream",
     "text": [
      "Dataset limits are 22.43824804096758 14.264787433454547 12.751701336069463\n",
      "fold =  1\n",
      "******* Doing dataset size =  5000 ****************\n",
      "Step 1, Loss= 23.7765  h_value: 0.0005245209\n",
      "Step 2, Loss= 0.8431  h_value: 0.008387566\n",
      "Step 3, Loss= 0.7497  h_value: 0.0042715073\n",
      "Step 4, Loss= 0.7239  h_value: 0.002166748\n",
      "Step 5, Loss= 0.7107  h_value: 0.001036644\n",
      "Step 6, Loss= 0.7024  h_value: 0.00065612793\n",
      "Step 7, Loss= 0.7225  h_value: 0.00046157837\n",
      "Step 8, Loss= 0.6992  h_value: 0.0003376007\n",
      "Step 9, Loss= 0.7023  h_value: 0.00030708313\n",
      "Step 10, Loss= 0.7145  h_value: 0.00024414062\n",
      "Step 11, Loss= 0.7410  h_value: 0.0002412796\n",
      "Step 12, Loss= 0.7183  h_value: 0.0002002716\n",
      "Step 13, Loss= 0.7263  h_value: 0.00020122528\n",
      "Step 14, Loss= 0.7054  h_value: 0.00019359589\n",
      "Step 15, Loss= 0.7264  h_value: 0.0001821518\n",
      "Step 16, Loss= 0.7176  h_value: 0.00018310547\n",
      "Step 17, Loss= 0.7296  h_value: 0.00021839142\n",
      "Step 18, Loss= 0.6967  h_value: 0.00019359589\n",
      "Step 19, Loss= 0.7049  h_value: 0.00019359589\n",
      "Step 20, Loss= 0.6910  h_value: 0.00017929077\n",
      "Step 21, Loss= 0.7447  h_value: 0.00018882751\n",
      "Step 22, Loss= 0.6912  h_value: 0.00021743774\n",
      "Step 23, Loss= 0.6926  h_value: 0.00019264221\n",
      "Step 24, Loss= 0.7051  h_value: 0.00021648407\n",
      "Step 25, Loss= 0.6839  h_value: 0.00021362305\n",
      "Step 26, Loss= 0.6816  h_value: 0.00026226044\n",
      "Step 27, Loss= 0.6842  h_value: 0.00021648407\n",
      "Step 28, Loss= 0.7115  h_value: 0.00022506714\n",
      "Step 29, Loss= 0.6853  h_value: 0.00022983551\n",
      "Step 30, Loss= 0.7089  h_value: 0.00024032593\n",
      "Step 31, Loss= 0.7279  h_value: 0.0002002716\n",
      "Step 32, Loss= 0.6880  h_value: 0.00021743774\n",
      "Step 33, Loss= 0.7013  h_value: 0.00021457672\n",
      "Step 34, Loss= 0.7008  h_value: 0.00018692017\n",
      "Step 35, Loss= 0.7068  h_value: 0.000207901\n",
      "Step 36, Loss= 0.6917  h_value: 0.00018978119\n",
      "Step 37, Loss= 0.6913  h_value: 0.00017929077\n",
      "Step 38, Loss= 0.6913  h_value: 0.0001707077\n",
      "Step 39, Loss= 0.6871  h_value: 0.00019168854\n",
      "Step 40, Loss= 0.6830  h_value: 0.00021266937\n",
      "Step 41, Loss= 0.6915  h_value: 0.0002155304\n",
      "Step 42, Loss= 0.6956  h_value: 0.00021648407\n",
      "Step 43, Loss= 0.6915  h_value: 0.00022506714\n",
      "Step 44, Loss= 0.7069  h_value: 0.00021648407\n",
      "Step 45, Loss= 0.6907  h_value: 0.00022697449\n",
      "Step 46, Loss= 0.6869  h_value: 0.00019168854\n",
      "Step 47, Loss= 0.6902  h_value: 0.00022029877\n",
      "Step 48, Loss= 0.6964  h_value: 0.0002040863\n",
      "Step 49, Loss= 0.7170  h_value: 0.00021457672\n",
      "Step 50, Loss= 0.6991  h_value: 0.00022125244\n",
      "Saving model\n",
      "Step 51, Loss= 0.7035  h_value: 0.00020980835\n",
      "Step 52, Loss= 0.6909  h_value: 0.0002155304\n",
      "Saving model\n",
      "Step 53, Loss= 0.6891  h_value: 0.00022220612\n",
      "Saving model\n",
      "Step 54, Loss= 0.6920  h_value: 0.00021266937\n",
      "Saving model\n",
      "Step 55, Loss= 0.6902  h_value: 0.00024032593\n",
      "Saving model\n",
      "Step 56, Loss= 0.6896  h_value: 0.0002412796\n",
      "Step 57, Loss= 0.6818  h_value: 0.00021839142\n",
      "Step 58, Loss= 0.6901  h_value: 0.00023651123\n",
      "Step 59, Loss= 0.6939  h_value: 0.00022792816\n",
      "Step 60, Loss= 0.6777  h_value: 0.00026512146\n",
      "Step 61, Loss= 0.6921  h_value: 0.0002565384\n",
      "Step 62, Loss= 0.6929  h_value: 0.00020599365\n",
      "Saving model\n",
      "Step 63, Loss= 0.6765  h_value: 0.0002155304\n",
      "Step 64, Loss= 0.7074  h_value: 0.00019359589\n",
      "Step 65, Loss= 0.6960  h_value: 0.00020313263\n",
      "Step 66, Loss= 0.7003  h_value: 0.00019931793\n",
      "Step 67, Loss= 0.6845  h_value: 0.00020313263\n",
      "Step 68, Loss= 0.6810  h_value: 0.00023078918\n",
      "Step 69, Loss= 0.6858  h_value: 0.0002117157\n",
      "Step 70, Loss= 0.6850  h_value: 0.00020217896\n",
      "Step 71, Loss= 0.6837  h_value: 0.0002040863\n",
      "Step 72, Loss= 0.6857  h_value: 0.00019454956\n",
      "Step 73, Loss= 0.6957  h_value: 0.00019454956\n",
      "Step 74, Loss= 0.6788  h_value: 0.00018310547\n",
      "Step 75, Loss= 0.6819  h_value: 0.00019264221\n",
      "Step 76, Loss= 0.6768  h_value: 0.0002412796\n",
      "Step 77, Loss= 0.6777  h_value: 0.0002002716\n",
      "Step 78, Loss= 0.7040  h_value: 0.00019550323\n",
      "Step 79, Loss= 0.6853  h_value: 0.00019168854\n",
      "Step 80, Loss= 0.7099  h_value: 0.00016212463\n",
      "Step 81, Loss= 0.6901  h_value: 0.00017929077\n",
      "Step 82, Loss= 0.6911  h_value: 0.00020217896\n",
      "Step 83, Loss= 0.6882  h_value: 0.00019741058\n",
      "Step 84, Loss= 0.6894  h_value: 0.0002193451\n",
      "Step 85, Loss= 0.6867  h_value: 0.00021076202\n",
      "Step 86, Loss= 0.6892  h_value: 0.00024318695\n",
      "Step 87, Loss= 0.6820  h_value: 0.00019550323\n",
      "Step 88, Loss= 0.6810  h_value: 0.00016307831\n",
      "Step 89, Loss= 0.6894  h_value: 0.00019741058\n",
      "Step 90, Loss= 0.6899  h_value: 0.00018978119\n",
      "Step 91, Loss= 0.7121  h_value: 0.00020122528\n",
      "Step 92, Loss= 0.6808  h_value: 0.00017261505\n",
      "Saving model\n",
      "Step 93, Loss= 0.6854  h_value: 0.00019454956\n",
      "Step 94, Loss= 0.6950  h_value: 0.00018882751\n",
      "Step 95, Loss= 0.6964  h_value: 0.00016021729\n",
      "Step 96, Loss= 0.6827  h_value: 0.00022125244\n",
      "Saving model\n",
      "Step 97, Loss= 0.6781  h_value: 0.0001411438\n",
      "Step 98, Loss= 0.6829  h_value: 0.00013637543\n",
      "Step 99, Loss= 0.6752  h_value: 0.00015544891\n",
      "Step 100, Loss= 0.7269  h_value: 0.000166893\n",
      "Step 101, Loss= 0.6754  h_value: 0.00015163422\n",
      "Step 102, Loss= 0.6790  h_value: 0.00019359589\n",
      "Step 103, Loss= 0.6786  h_value: 0.00015068054\n",
      "Step 104, Loss= 0.6851  h_value: 0.00015449524\n",
      "Step 105, Loss= 0.6932  h_value: 0.00014686584\n",
      "Step 106, Loss= 0.6978  h_value: 0.00015640259\n",
      "Step 107, Loss= 0.6770  h_value: 0.00015544891\n",
      "Step 108, Loss= 0.7009  h_value: 0.0001373291\n",
      "Step 109, Loss= 0.6834  h_value: 0.00015258789\n",
      "Step 110, Loss= 0.6798  h_value: 0.0001411438\n",
      "Step 111, Loss= 0.6879  h_value: 0.00013828278\n",
      "Step 112, Loss= 0.6849  h_value: 0.0001335144\n",
      "Step 113, Loss= 0.6894  h_value: 0.00013256073\n",
      "Step 114, Loss= 0.6826  h_value: 0.00014591217\n",
      "Step 115, Loss= 0.6951  h_value: 0.00012683868\n",
      "Step 116, Loss= 0.7031  h_value: 0.00011920929\n",
      "Step 117, Loss= 0.6899  h_value: 0.0001373291\n",
      "Step 118, Loss= 0.6906  h_value: 0.00015735626\n",
      "Step 119, Loss= 0.6889  h_value: 0.00016975403\n",
      "Saving model\n",
      "Step 120, Loss= 0.6750  h_value: 0.0001487732\n",
      "Step 121, Loss= 0.6810  h_value: 0.00015163422\n",
      "Step 122, Loss= 0.6747  h_value: 0.00014591217\n",
      "Step 123, Loss= 0.6836  h_value: 0.00016498566\n",
      "Step 124, Loss= 0.6884  h_value: 0.00012397766\n",
      "Step 125, Loss= 0.6821  h_value: 0.00014305115\n",
      "Step 126, Loss= 0.6767  h_value: 0.00013923645\n",
      "Step 127, Loss= 0.6881  h_value: 0.0001745224\n",
      "Step 128, Loss= 0.6889  h_value: 0.00016117096\n",
      "Step 129, Loss= 0.6781  h_value: 0.00014305115\n",
      "Saving model\n",
      "Step 130, Loss= 0.6757  h_value: 0.00012397766\n",
      "Step 131, Loss= 0.7099  h_value: 0.00015163422\n",
      "Step 132, Loss= 0.6758  h_value: 0.00015735626\n",
      "Step 133, Loss= 0.6796  h_value: 0.000102996826\n",
      "Step 134, Loss= 0.6863  h_value: 0.00016117096\n",
      "Step 135, Loss= 0.6823  h_value: 0.00015735626\n",
      "Step 136, Loss= 0.6877  h_value: 0.00013065338\n",
      "Step 137, Loss= 0.6708  h_value: 0.00012683868\n",
      "Step 138, Loss= 0.6881  h_value: 0.00011444092\n",
      "Step 139, Loss= 0.6774  h_value: 0.00014781952\n",
      "Step 140, Loss= 0.6843  h_value: 0.00014972687\n",
      "Step 141, Loss= 0.6961  h_value: 0.000118255615\n",
      "Step 142, Loss= 0.6747  h_value: 0.00014209747\n",
      "Step 143, Loss= 0.6923  h_value: 0.000118255615\n",
      "Step 144, Loss= 0.6820  h_value: 0.00011730194\n",
      "Step 145, Loss= 0.6839  h_value: 0.0001296997\n",
      "Step 146, Loss= 0.6692  h_value: 0.000104904175\n",
      "Step 147, Loss= 0.6804  h_value: 0.00012874603\n",
      "Step 148, Loss= 0.6778  h_value: 0.00013256073\n",
      "Step 149, Loss= 0.6712  h_value: 0.00016784668\n",
      "Step 150, Loss= 0.6875  h_value: 0.00015449524\n",
      "Step 151, Loss= 0.6773  h_value: 0.00011062622\n",
      "Step 152, Loss= 0.6830  h_value: 0.00011062622\n",
      "Step 153, Loss= 0.6796  h_value: 0.00012683868\n",
      "Step 154, Loss= 0.7048  h_value: 0.0001296997\n",
      "Step 155, Loss= 0.6806  h_value: 0.00011062622\n",
      "Step 156, Loss= 0.6799  h_value: 0.00012683868\n",
      "Step 157, Loss= 0.6781  h_value: 0.00012111664\n",
      "Step 158, Loss= 0.6723  h_value: 0.0001487732\n",
      "Step 159, Loss= 0.6951  h_value: 0.00014019012\n",
      "Step 160, Loss= 0.6826  h_value: 0.00015068054\n",
      "Early stopping\n",
      "WARNING:tensorflow:From /homes/fr920/.local/lib/python3.6/site-packages/tensorflow/python/training/saver.py:1276: checkpoint_exists (from tensorflow.python.training.checkpoint_management) is deprecated and will be removed in a future version.\n",
      "Instructions for updating:\n",
      "Use standard file APIs to check for files with this prefix.\n",
      "INFO:tensorflow:Restoring parameters from tmp.ckpt\n",
      "[[0.    0.006 0.016 0.018 0.003 0.03  0.027 0.007 0.063 0.062]\n",
      " [0.014 0.    0.069 0.06  0.078 0.013 0.014 0.009 0.003 0.007]\n",
      " [0.101 0.036 0.    0.021 0.018 0.14  0.006 0.028 0.006 0.015]\n",
      " [0.088 0.04  0.028 0.    0.023 0.022 0.098 0.118 0.003 0.011]\n",
      " [0.006 0.042 0.017 0.021 0.    0.009 0.004 0.003 0.002 0.01 ]\n",
      " [0.024 0.003 0.019 0.008 0.004 0.    0.009 0.007 0.003 0.01 ]\n",
      " [0.031 0.006 0.008 0.015 0.004 0.043 0.    0.011 0.004 0.13 ]\n",
      " [0.025 0.002 0.003 0.012 0.01  0.041 0.02  0.    0.006 0.008]\n",
      " [0.026 0.004 0.007 0.004 0.005 0.005 0.011 0.008 0.    0.006]\n",
      " [0.025 0.004 0.003 0.006 0.005 0.012 0.068 0.011 0.006 0.   ]]\n",
      "MSE =  0.623388722581887\n",
      "fold =  2\n",
      "******* Doing dataset size =  5000 ****************\n",
      "Destructor Called... Cleaning up\n",
      "Step 1, Loss= 9.9656  h_value: 0.0005245209\n",
      "Step 2, Loss= 0.7733  h_value: 0.005856514\n",
      "Step 3, Loss= 0.7399  h_value: 0.0023269653\n",
      "Step 4, Loss= 0.7300  h_value: 0.0011539459\n",
      "Step 5, Loss= 0.7329  h_value: 0.0008125305\n",
      "Step 6, Loss= 0.7164  h_value: 0.0005722046\n",
      "Step 7, Loss= 0.7283  h_value: 0.0004901886\n",
      "Step 8, Loss= 0.7351  h_value: 0.00048446655\n",
      "Step 9, Loss= 0.7032  h_value: 0.00043964386\n",
      "Step 10, Loss= 0.7164  h_value: 0.00033855438\n",
      "Step 11, Loss= 0.7202  h_value: 0.00038337708\n",
      "Step 12, Loss= 0.7041  h_value: 0.00030708313\n",
      "Step 13, Loss= 0.7149  h_value: 0.0003004074\n",
      "Step 14, Loss= 0.7393  h_value: 0.00029277802\n",
      "Step 15, Loss= 0.6971  h_value: 0.00031471252\n",
      "Step 16, Loss= 0.7459  h_value: 0.00024986267\n",
      "Step 17, Loss= 0.7010  h_value: 0.00026798248\n",
      "Step 18, Loss= 0.6943  h_value: 0.00024032593\n",
      "Step 19, Loss= 0.7091  h_value: 0.0003080368\n",
      "Step 20, Loss= 0.7060  h_value: 0.00023365021\n",
      "Step 21, Loss= 0.6940  h_value: 0.00026798248\n",
      "Step 22, Loss= 0.7006  h_value: 0.00024604797\n",
      "Step 23, Loss= 0.6976  h_value: 0.00026607513\n",
      "Step 24, Loss= 0.6943  h_value: 0.00028133392\n",
      "Step 25, Loss= 0.7074  h_value: 0.0002975464\n",
      "Step 26, Loss= 0.7033  h_value: 0.000248909\n",
      "Step 27, Loss= 0.7004  h_value: 0.00022411346\n",
      "Step 28, Loss= 0.7228  h_value: 0.00024795532\n",
      "Step 29, Loss= 0.7103  h_value: 0.00026893616\n",
      "Step 30, Loss= 0.7195  h_value: 0.00031280518\n",
      "Step 31, Loss= 0.7028  h_value: 0.0003232956\n",
      "Step 32, Loss= 0.6935  h_value: 0.00031661987\n",
      "Step 33, Loss= 0.7025  h_value: 0.0003271103\n",
      "Step 34, Loss= 0.7014  h_value: 0.0002822876\n",
      "Step 35, Loss= 0.7070  h_value: 0.00024986267\n",
      "Step 36, Loss= 0.7110  h_value: 0.0002641678\n",
      "Step 37, Loss= 0.7021  h_value: 0.00030517578\n",
      "Step 38, Loss= 0.7205  h_value: 0.00033187866\n",
      "Step 39, Loss= 0.7234  h_value: 0.00031757355\n",
      "Step 40, Loss= 0.7034  h_value: 0.0002632141\n",
      "Step 41, Loss= 0.6976  h_value: 0.00032615662\n",
      "Step 42, Loss= 0.6868  h_value: 0.00028038025\n",
      "Step 43, Loss= 0.7049  h_value: 0.00032520294\n",
      "Step 44, Loss= 0.7090  h_value: 0.000289917\n",
      "Step 45, Loss= 0.7274  h_value: 0.0003156662\n",
      "Step 46, Loss= 0.7042  h_value: 0.0003528595\n",
      "Step 47, Loss= 0.6879  h_value: 0.00026607513\n",
      "Step 48, Loss= 0.7160  h_value: 0.00030136108\n",
      "Step 49, Loss= 0.7145  h_value: 0.00032138824\n",
      "Step 50, Loss= 0.6879  h_value: 0.00032234192\n",
      "Saving model\n",
      "Step 51, Loss= 0.7040  h_value: 0.00029563904\n",
      "Saving model\n",
      "Step 52, Loss= 0.6939  h_value: 0.00031375885\n",
      "Step 53, Loss= 0.6967  h_value: 0.00030326843\n",
      "Step 54, Loss= 0.6966  h_value: 0.00028419495\n",
      "Saving model\n",
      "Step 55, Loss= 0.6931  h_value: 0.000289917\n",
      "Saving model\n",
      "Step 56, Loss= 0.6979  h_value: 0.00029850006\n",
      "Step 57, Loss= 0.7041  h_value: 0.00026226044\n",
      "Step 58, Loss= 0.7190  h_value: 0.00028038025\n",
      "Step 59, Loss= 0.6911  h_value: 0.00023078918\n",
      "Step 60, Loss= 0.6929  h_value: 0.00023269653\n",
      "Step 61, Loss= 0.7378  h_value: 0.00026988983\n",
      "Step 62, Loss= 0.7073  h_value: 0.00022792816\n",
      "Step 63, Loss= 0.6961  h_value: 0.00023841858\n",
      "Step 64, Loss= 0.7097  h_value: 0.00026512146\n",
      "Step 65, Loss= 0.7366  h_value: 0.00025749207\n",
      "Step 66, Loss= 0.6892  h_value: 0.00022983551\n",
      "Step 67, Loss= 0.6950  h_value: 0.00022697449\n",
      "Step 68, Loss= 0.6987  h_value: 0.00026130676\n",
      "Step 69, Loss= 0.6968  h_value: 0.00027751923\n",
      "Step 70, Loss= 0.6867  h_value: 0.00024795532\n",
      "Step 71, Loss= 0.7186  h_value: 0.00021648407\n",
      "Step 72, Loss= 0.7389  h_value: 0.00022125244\n",
      "Step 73, Loss= 0.6951  h_value: 0.00019931793\n",
      "Step 74, Loss= 0.6980  h_value: 0.00022792816\n",
      "Step 75, Loss= 0.7008  h_value: 0.00023078918\n",
      "Step 76, Loss= 0.6893  h_value: 0.00021266937\n",
      "Step 77, Loss= 0.6914  h_value: 0.00024604797\n",
      "Step 78, Loss= 0.6857  h_value: 0.00019454956\n",
      "Step 79, Loss= 0.6956  h_value: 0.00021362305\n",
      "Step 80, Loss= 0.7021  h_value: 0.00022220612\n",
      "Step 81, Loss= 0.7250  h_value: 0.0002450943\n",
      "Saving model\n",
      "Step 82, Loss= 0.6865  h_value: 0.0002527237\n",
      "Step 83, Loss= 0.7081  h_value: 0.00021266937\n",
      "Step 84, Loss= 0.7017  h_value: 0.00021839142\n",
      "Step 85, Loss= 0.7019  h_value: 0.00023555756\n",
      "Step 86, Loss= 0.6918  h_value: 0.0002155304\n",
      "Step 87, Loss= 0.7006  h_value: 0.00024223328\n",
      "Step 88, Loss= 0.6928  h_value: 0.00021266937\n",
      "Step 89, Loss= 0.6954  h_value: 0.0002450943\n",
      "Step 90, Loss= 0.7330  h_value: 0.00020885468\n",
      "Step 91, Loss= 0.6920  h_value: 0.0002965927\n",
      "Step 92, Loss= 0.7107  h_value: 0.00023365021\n",
      "Step 93, Loss= 0.7042  h_value: 0.0002450943\n",
      "Step 94, Loss= 0.6972  h_value: 0.0002040863\n",
      "Step 95, Loss= 0.6902  h_value: 0.00021648407\n",
      "Step 96, Loss= 0.7043  h_value: 0.00023078918\n",
      "Step 97, Loss= 0.6915  h_value: 0.00021266937\n",
      "Step 98, Loss= 0.7160  h_value: 0.00022983551\n",
      "Step 99, Loss= 0.6916  h_value: 0.00022983551\n",
      "Step 100, Loss= 0.7180  h_value: 0.00018787384\n",
      "Step 101, Loss= 0.6864  h_value: 0.00016784668\n",
      "Step 102, Loss= 0.7017  h_value: 0.00018596649\n",
      "Step 103, Loss= 0.7204  h_value: 0.0001745224\n",
      "Step 104, Loss= 0.7029  h_value: 0.00017929077\n",
      "Step 105, Loss= 0.6854  h_value: 0.00018692017\n",
      "Step 106, Loss= 0.6956  h_value: 0.00019741058\n",
      "Step 107, Loss= 0.6978  h_value: 0.00018787384\n",
      "Step 108, Loss= 0.7314  h_value: 0.00017261505\n",
      "Step 109, Loss= 0.6839  h_value: 0.00018405914\n",
      "Step 110, Loss= 0.7212  h_value: 0.00013828278\n",
      "Step 111, Loss= 0.7096  h_value: 0.00015068054\n",
      "Step 112, Loss= 0.7061  h_value: 0.00017547607\n",
      "Saving model\n",
      "Step 113, Loss= 0.6885  h_value: 0.00018024445\n",
      "Saving model\n",
      "Step 114, Loss= 0.6841  h_value: 0.00018596649\n",
      "Step 115, Loss= 0.6904  h_value: 0.00017929077\n",
      "Step 116, Loss= 0.6956  h_value: 0.0001487732\n",
      "Step 117, Loss= 0.6830  h_value: 0.00019931793\n",
      "Step 118, Loss= 0.7235  h_value: 0.00018405914\n",
      "Step 119, Loss= 0.6919  h_value: 0.00021266937\n",
      "Step 120, Loss= 0.6925  h_value: 0.00018024445\n",
      "Step 121, Loss= 0.7089  h_value: 0.00019073486\n",
      "Step 122, Loss= 0.7023  h_value: 0.00016498566\n",
      "Step 123, Loss= 0.6856  h_value: 0.00016880035\n",
      "Step 124, Loss= 0.7045  h_value: 0.00018405914\n",
      "Step 125, Loss= 0.7145  h_value: 0.0001707077\n",
      "Step 126, Loss= 0.6941  h_value: 0.00018024445\n",
      "Step 127, Loss= 0.6994  h_value: 0.00019359589\n",
      "Step 128, Loss= 0.6896  h_value: 0.00016593933\n",
      "Step 129, Loss= 0.6983  h_value: 0.00016975403\n",
      "Step 130, Loss= 0.7002  h_value: 0.00014972687\n",
      "Step 131, Loss= 0.7070  h_value: 0.00016593933\n",
      "Step 132, Loss= 0.6903  h_value: 0.00015163422\n",
      "Step 133, Loss= 0.7103  h_value: 0.00016117096\n",
      "Step 134, Loss= 0.7000  h_value: 0.00015926361\n",
      "Step 135, Loss= 0.6891  h_value: 0.00018787384\n",
      "Step 136, Loss= 0.6904  h_value: 0.00015544891\n",
      "Saving model\n",
      "Step 137, Loss= 0.6863  h_value: 0.00015544891\n",
      "Step 138, Loss= 0.6973  h_value: 0.00016784668\n",
      "Step 139, Loss= 0.6856  h_value: 0.0002002716\n",
      "Saving model\n",
      "Step 140, Loss= 0.6900  h_value: 0.00016117096\n",
      "Step 141, Loss= 0.6902  h_value: 0.00021457672\n",
      "Step 142, Loss= 0.6944  h_value: 0.00021457672\n",
      "Step 143, Loss= 0.7172  h_value: 0.00018978119\n",
      "Step 144, Loss= 0.6881  h_value: 0.0001745224\n",
      "Step 145, Loss= 0.7074  h_value: 0.00018119812\n",
      "Step 146, Loss= 0.6883  h_value: 0.00014209747\n",
      "Step 147, Loss= 0.6868  h_value: 0.00015449524\n",
      "Step 148, Loss= 0.6962  h_value: 0.00017356873\n",
      "Step 149, Loss= 0.6901  h_value: 0.00017166138\n",
      "Step 150, Loss= 0.6923  h_value: 0.00017547607\n",
      "Step 151, Loss= 0.7148  h_value: 0.00019931793\n",
      "Step 152, Loss= 0.7072  h_value: 0.00018405914\n",
      "Step 153, Loss= 0.6854  h_value: 0.0001783371\n",
      "Step 154, Loss= 0.6923  h_value: 0.00018692017\n",
      "Step 155, Loss= 0.7118  h_value: 0.00018024445\n",
      "Step 156, Loss= 0.6849  h_value: 0.00016117096\n",
      "Step 157, Loss= 0.6884  h_value: 0.0002117157\n",
      "Step 158, Loss= 0.7256  h_value: 0.00017261505\n",
      "Step 159, Loss= 0.6926  h_value: 0.00023365021\n",
      "Step 160, Loss= 0.6884  h_value: 0.00015258789\n",
      "Step 161, Loss= 0.6864  h_value: 0.0001707077\n",
      "Step 162, Loss= 0.6996  h_value: 0.00017738342\n",
      "Saving model\n",
      "Step 163, Loss= 0.6816  h_value: 0.00016307831\n",
      "Step 164, Loss= 0.6841  h_value: 0.00019741058\n",
      "Step 165, Loss= 0.6882  h_value: 0.00014781952\n",
      "Step 166, Loss= 0.6930  h_value: 0.00018596649\n",
      "Step 167, Loss= 0.6953  h_value: 0.00018501282\n",
      "Step 168, Loss= 0.6972  h_value: 0.00019073486\n",
      "Step 169, Loss= 0.6982  h_value: 0.00017929077\n",
      "Step 170, Loss= 0.6897  h_value: 0.00016021729\n",
      "Step 171, Loss= 0.7092  h_value: 0.00019168854\n",
      "Step 172, Loss= 0.6922  h_value: 0.00015735626\n",
      "Step 173, Loss= 0.6957  h_value: 0.00016784668\n",
      "Step 174, Loss= 0.6830  h_value: 0.00017356873\n",
      "Step 175, Loss= 0.7199  h_value: 0.00018310547\n",
      "Step 176, Loss= 0.6910  h_value: 0.00015830994\n",
      "Step 177, Loss= 0.7264  h_value: 0.00016593933\n",
      "Step 178, Loss= 0.7011  h_value: 0.00016880035\n",
      "Step 179, Loss= 0.7071  h_value: 0.00017166138\n",
      "Step 180, Loss= 0.6940  h_value: 0.00015926361\n",
      "Step 181, Loss= 0.6984  h_value: 0.00018692017\n",
      "Step 182, Loss= 0.7153  h_value: 0.0001783371\n",
      "Step 183, Loss= 0.6876  h_value: 0.0001449585\n",
      "Step 184, Loss= 0.7022  h_value: 0.00014591217\n",
      "Step 185, Loss= 0.6901  h_value: 0.00015640259\n",
      "Step 186, Loss= 0.6942  h_value: 0.00014591217\n",
      "Step 187, Loss= 0.6849  h_value: 0.00014686584\n",
      "Step 188, Loss= 0.6939  h_value: 0.00015830994\n",
      "Step 189, Loss= 0.7132  h_value: 0.00016117096\n",
      "Step 190, Loss= 0.6908  h_value: 0.00015258789\n",
      "Step 191, Loss= 0.6903  h_value: 0.00016784668\n",
      "Step 192, Loss= 0.6973  h_value: 0.00014972687\n",
      "Step 193, Loss= 0.6919  h_value: 0.00019550323\n",
      "Early stopping\n",
      "INFO:tensorflow:Restoring parameters from tmp.ckpt\n",
      "[[0.    0.003 0.018 0.01  0.004 0.04  0.034 0.006 0.051 0.055]\n",
      " [0.011 0.    0.073 0.066 0.082 0.003 0.014 0.004 0.005 0.016]\n",
      " [0.106 0.036 0.    0.027 0.022 0.139 0.005 0.006 0.001 0.006]\n",
      " [0.091 0.052 0.027 0.    0.025 0.019 0.108 0.116 0.003 0.004]\n",
      " [0.009 0.044 0.018 0.022 0.    0.018 0.006 0.008 0.003 0.006]\n",
      " [0.029 0.006 0.019 0.004 0.007 0.    0.009 0.009 0.005 0.006]\n",
      " [0.033 0.006 0.009 0.009 0.003 0.032 0.    0.011 0.006 0.137]\n",
      " [0.025 0.005 0.002 0.014 0.004 0.029 0.024 0.    0.01  0.006]\n",
      " [0.031 0.008 0.009 0.005 0.006 0.01  0.019 0.007 0.    0.008]\n",
      " [0.025 0.005 0.004 0.003 0.006 0.007 0.076 0.005 0.009 0.   ]]\n",
      "MSE =  0.6322297454739721\n",
      "0.6278092340279295 0.004420511446042552\n",
      "fold =  3\n",
      "******* Doing dataset size =  5000 ****************\n",
      "Destructor Called... Cleaning up\n",
      "Step 1, Loss= 46.6521  h_value: 0.0005245209\n",
      "Step 2, Loss= 1.0081  h_value: 0.010861397\n",
      "Step 3, Loss= 0.7837  h_value: 0.00726223\n",
      "Step 4, Loss= 0.7533  h_value: 0.0048475266\n",
      "Step 5, Loss= 0.7480  h_value: 0.0031309128\n",
      "Step 6, Loss= 0.7237  h_value: 0.0020313263\n",
      "Step 7, Loss= 0.7132  h_value: 0.0013008118\n",
      "Step 8, Loss= 0.7217  h_value: 0.0008468628\n",
      "Step 9, Loss= 0.7086  h_value: 0.00061511993\n",
      "Step 10, Loss= 0.7220  h_value: 0.00045776367\n",
      "Step 11, Loss= 0.7284  h_value: 0.00037574768\n",
      "Step 12, Loss= 0.7451  h_value: 0.0003452301\n",
      "Step 13, Loss= 0.7303  h_value: 0.00029468536\n",
      "Step 14, Loss= 0.6979  h_value: 0.00022411346\n",
      "Step 15, Loss= 0.7088  h_value: 0.00026226044\n",
      "Step 16, Loss= 0.7115  h_value: 0.00020980835\n",
      "Step 17, Loss= 0.7345  h_value: 0.00020980835\n",
      "Step 18, Loss= 0.6972  h_value: 0.00019454956\n",
      "Step 19, Loss= 0.7120  h_value: 0.0002155304\n",
      "Step 20, Loss= 0.7092  h_value: 0.00022220612\n",
      "Step 21, Loss= 0.7152  h_value: 0.00022602081\n",
      "Step 22, Loss= 0.7094  h_value: 0.00026226044\n",
      "Step 23, Loss= 0.7109  h_value: 0.00022411346\n",
      "Step 24, Loss= 0.7596  h_value: 0.00020694733\n",
      "Step 25, Loss= 0.7070  h_value: 0.00022411346\n",
      "Step 26, Loss= 0.7374  h_value: 0.00018692017\n",
      "Step 27, Loss= 0.7149  h_value: 0.000248909\n",
      "Step 28, Loss= 0.7201  h_value: 0.00019454956\n",
      "Step 29, Loss= 0.7057  h_value: 0.00019645691\n",
      "Step 30, Loss= 0.7143  h_value: 0.00020217896\n",
      "Step 31, Loss= 0.7179  h_value: 0.00022125244\n",
      "Step 32, Loss= 0.7298  h_value: 0.00018119812\n",
      "Step 33, Loss= 0.7175  h_value: 0.00016212463\n",
      "Step 34, Loss= 0.6911  h_value: 0.00018310547\n",
      "Step 35, Loss= 0.7029  h_value: 0.00017547607\n",
      "Step 36, Loss= 0.7057  h_value: 0.00022792816\n",
      "Step 37, Loss= 0.7063  h_value: 0.00021457672\n",
      "Step 38, Loss= 0.7115  h_value: 0.00022411346\n",
      "Step 39, Loss= 0.7202  h_value: 0.00017738342\n",
      "Step 40, Loss= 0.6996  h_value: 0.0001707077\n",
      "Step 41, Loss= 0.6895  h_value: 0.00017547607\n",
      "Step 42, Loss= 0.6861  h_value: 0.00014781952\n",
      "Step 43, Loss= 0.6901  h_value: 0.00016117096\n",
      "Step 44, Loss= 0.6889  h_value: 0.00017929077\n",
      "Step 45, Loss= 0.7118  h_value: 0.00015354156\n",
      "Step 46, Loss= 0.6939  h_value: 0.00016021729\n",
      "Step 47, Loss= 0.6872  h_value: 0.00016593933\n",
      "Step 48, Loss= 0.6999  h_value: 0.00016307831\n",
      "Step 49, Loss= 0.6971  h_value: 0.00015926361\n",
      "Step 50, Loss= 0.6974  h_value: 0.0001335144\n",
      "Saving model\n",
      "Step 51, Loss= 0.7274  h_value: 0.00012493134\n",
      "Step 52, Loss= 0.7074  h_value: 0.00015068054\n",
      "Step 53, Loss= 0.7310  h_value: 0.00016880035\n",
      "Saving model\n",
      "Step 54, Loss= 0.6878  h_value: 0.00015354156\n",
      "Step 55, Loss= 0.6913  h_value: 0.00014591217\n",
      "Step 56, Loss= 0.7106  h_value: 0.00016975403\n",
      "Step 57, Loss= 0.6897  h_value: 0.0001411438\n",
      "Step 58, Loss= 0.7084  h_value: 0.00015354156\n",
      "Step 59, Loss= 0.7045  h_value: 0.0001487732\n",
      "Step 60, Loss= 0.6933  h_value: 0.0001487732\n",
      "Saving model\n",
      "Step 61, Loss= 0.6900  h_value: 0.00018596649\n",
      "Step 62, Loss= 0.6803  h_value: 0.00014400482\n",
      "Step 63, Loss= 0.6979  h_value: 0.00015640259\n",
      "Step 64, Loss= 0.6845  h_value: 0.0001411438\n",
      "Step 65, Loss= 0.6856  h_value: 0.00016403198\n",
      "Step 66, Loss= 0.6857  h_value: 0.00015830994\n",
      "Step 67, Loss= 0.6944  h_value: 0.00015163422\n",
      "Saving model\n",
      "Step 68, Loss= 0.6900  h_value: 0.00014400482\n",
      "Step 69, Loss= 0.6959  h_value: 0.00016593933\n",
      "Step 70, Loss= 0.6896  h_value: 0.00016307831\n",
      "Step 71, Loss= 0.6849  h_value: 0.00015068054\n",
      "Step 72, Loss= 0.7032  h_value: 0.0001821518\n",
      "Step 73, Loss= 0.7024  h_value: 0.0001707077\n",
      "Step 74, Loss= 0.6967  h_value: 0.00018024445\n",
      "Step 75, Loss= 0.6978  h_value: 0.00016117096\n",
      "Step 76, Loss= 0.7160  h_value: 0.00014686584\n",
      "Step 77, Loss= 0.6869  h_value: 0.00016212463\n",
      "Step 78, Loss= 0.7104  h_value: 0.00015640259\n",
      "Step 79, Loss= 0.6843  h_value: 0.00016784668\n",
      "Step 80, Loss= 0.6917  h_value: 0.00016307831\n",
      "Step 81, Loss= 0.6890  h_value: 0.00017547607\n",
      "Step 82, Loss= 0.6865  h_value: 0.0001449585\n",
      "Step 83, Loss= 0.6803  h_value: 0.00014305115\n",
      "Step 84, Loss= 0.6935  h_value: 0.00016021729\n",
      "Saving model\n",
      "Step 85, Loss= 0.6933  h_value: 0.00014781952\n",
      "Step 86, Loss= 0.6874  h_value: 0.00015354156\n",
      "Step 87, Loss= 0.6947  h_value: 0.00015258789\n",
      "Step 88, Loss= 0.6857  h_value: 0.00014686584\n",
      "Step 89, Loss= 0.6884  h_value: 0.0001487732\n",
      "Step 90, Loss= 0.7130  h_value: 0.00015068054\n",
      "Step 91, Loss= 0.6929  h_value: 0.00015354156\n",
      "Step 92, Loss= 0.7014  h_value: 0.0001411438\n",
      "Step 93, Loss= 0.7080  h_value: 0.00015544891\n",
      "Step 94, Loss= 0.6944  h_value: 0.00014400482\n",
      "Step 95, Loss= 0.6951  h_value: 0.00015926361\n",
      "Step 96, Loss= 0.6845  h_value: 0.0001411438\n",
      "Step 97, Loss= 0.7074  h_value: 0.0001296997\n",
      "Step 98, Loss= 0.6888  h_value: 0.0001373291\n",
      "Step 99, Loss= 0.6933  h_value: 0.00015830994\n",
      "Step 100, Loss= 0.7031  h_value: 0.00013446808\n",
      "Step 101, Loss= 0.6854  h_value: 0.00014781952\n",
      "Step 102, Loss= 0.7131  h_value: 0.00016784668\n",
      "Step 103, Loss= 0.6853  h_value: 0.00015354156\n",
      "Step 104, Loss= 0.6943  h_value: 0.00015735626\n",
      "Step 105, Loss= 0.6895  h_value: 0.00015926361\n",
      "Step 106, Loss= 0.6857  h_value: 0.00014591217\n",
      "Step 107, Loss= 0.6908  h_value: 0.00012683868\n",
      "Step 108, Loss= 0.6858  h_value: 0.000118255615\n",
      "Step 109, Loss= 0.6977  h_value: 0.00013542175\n",
      "Step 110, Loss= 0.7120  h_value: 0.00012779236\n",
      "Step 111, Loss= 0.6960  h_value: 0.00013637543\n",
      "Step 112, Loss= 0.6965  h_value: 0.00011634827\n",
      "Step 113, Loss= 0.6806  h_value: 0.00014305115\n",
      "Step 114, Loss= 0.6963  h_value: 0.00012874603\n",
      "Step 115, Loss= 0.6886  h_value: 0.000118255615\n",
      "Early stopping\n",
      "INFO:tensorflow:Restoring parameters from tmp.ckpt\n",
      "[[0.    0.002 0.017 0.012 0.002 0.036 0.029 0.007 0.041 0.068]\n",
      " [0.007 0.    0.079 0.065 0.063 0.017 0.005 0.006 0.01  0.012]\n",
      " [0.104 0.047 0.    0.036 0.029 0.113 0.004 0.008 0.005 0.008]\n",
      " [0.094 0.057 0.031 0.    0.037 0.016 0.113 0.128 0.006 0.006]\n",
      " [0.019 0.055 0.027 0.038 0.    0.008 0.009 0.003 0.011 0.006]\n",
      " [0.046 0.003 0.014 0.006 0.004 0.    0.004 0.01  0.01  0.008]\n",
      " [0.03  0.005 0.003 0.013 0.004 0.016 0.    0.011 0.004 0.124]\n",
      " [0.019 0.005 0.01  0.015 0.005 0.026 0.018 0.    0.003 0.007]\n",
      " [0.019 0.003 0.005 0.002 0.007 0.014 0.011 0.005 0.    0.011]\n",
      " [0.023 0.003 0.006 0.005 0.007 0.009 0.074 0.013 0.014 0.   ]]\n",
      "MSE =  0.673470891469725\n",
      "0.643029786508528 0.021825620646212275\n",
      "fold =  4\n",
      "******* Doing dataset size =  5000 ****************\n",
      "Destructor Called... Cleaning up\n",
      "Step 1, Loss= 30.9200  h_value: 0.0005245209\n",
      "Step 2, Loss= 0.8479  h_value: 0.01086235\n",
      "Step 3, Loss= 0.7587  h_value: 0.006942749\n",
      "Step 4, Loss= 0.7271  h_value: 0.004295349\n",
      "Step 5, Loss= 0.7117  h_value: 0.0025701523\n",
      "Step 6, Loss= 0.7382  h_value: 0.0016222\n",
      "Step 7, Loss= 0.7230  h_value: 0.0010681152\n",
      "Step 8, Loss= 0.7151  h_value: 0.00075912476\n",
      "Step 9, Loss= 0.7094  h_value: 0.0006580353\n",
      "Step 10, Loss= 0.7255  h_value: 0.0005311966\n",
      "Step 11, Loss= 0.7105  h_value: 0.00045871735\n",
      "Step 12, Loss= 0.7272  h_value: 0.0004014969\n",
      "Step 13, Loss= 0.6963  h_value: 0.00035190582\n",
      "Step 14, Loss= 0.7075  h_value: 0.00028800964\n",
      "Step 15, Loss= 0.6914  h_value: 0.0003004074\n",
      "Step 16, Loss= 0.7094  h_value: 0.00026512146\n",
      "Step 17, Loss= 0.7050  h_value: 0.00023937225\n",
      "Step 18, Loss= 0.6976  h_value: 0.0003156662\n",
      "Step 19, Loss= 0.6957  h_value: 0.0002412796\n",
      "Step 20, Loss= 0.7251  h_value: 0.0002193451\n",
      "Step 21, Loss= 0.7042  h_value: 0.00023555756\n",
      "Step 22, Loss= 0.7107  h_value: 0.00022792816\n",
      "Step 23, Loss= 0.7001  h_value: 0.0002193451\n",
      "Step 24, Loss= 0.6884  h_value: 0.00021743774\n",
      "Step 25, Loss= 0.7109  h_value: 0.00019931793\n",
      "Step 26, Loss= 0.7102  h_value: 0.00018405914\n",
      "Step 27, Loss= 0.7020  h_value: 0.00022029877\n",
      "Step 28, Loss= 0.7061  h_value: 0.00021266937\n",
      "Step 29, Loss= 0.7094  h_value: 0.00019645691\n",
      "Step 30, Loss= 0.7079  h_value: 0.00022029877\n",
      "Step 31, Loss= 0.6912  h_value: 0.00021457672\n",
      "Step 32, Loss= 0.6972  h_value: 0.00023651123\n",
      "Step 33, Loss= 0.6933  h_value: 0.00019645691\n",
      "Step 34, Loss= 0.6954  h_value: 0.00025558472\n",
      "Step 35, Loss= 0.6980  h_value: 0.00023460388\n",
      "Step 36, Loss= 0.7085  h_value: 0.00020503998\n",
      "Step 37, Loss= 0.7094  h_value: 0.00022888184\n",
      "Step 38, Loss= 0.7007  h_value: 0.00019931793\n",
      "Step 39, Loss= 0.7093  h_value: 0.0002603531\n",
      "Step 40, Loss= 0.6884  h_value: 0.0002593994\n",
      "Step 41, Loss= 0.7093  h_value: 0.00020885468\n",
      "Step 42, Loss= 0.7140  h_value: 0.00020885468\n",
      "Step 43, Loss= 0.6920  h_value: 0.00023269653\n",
      "Step 44, Loss= 0.7046  h_value: 0.00022315979\n",
      "Step 45, Loss= 0.6980  h_value: 0.0002374649\n",
      "Step 46, Loss= 0.6920  h_value: 0.0002527237\n",
      "Step 47, Loss= 0.6879  h_value: 0.00027370453\n",
      "Step 48, Loss= 0.6884  h_value: 0.00023078918\n",
      "Step 49, Loss= 0.7180  h_value: 0.00021362305\n",
      "Step 50, Loss= 0.6894  h_value: 0.00020694733\n",
      "Saving model\n",
      "Step 51, Loss= 0.6855  h_value: 0.00025558472\n",
      "Saving model\n",
      "Step 52, Loss= 0.6918  h_value: 0.0002527237\n",
      "Step 53, Loss= 0.7197  h_value: 0.00019359589\n",
      "Step 54, Loss= 0.7164  h_value: 0.00024986267\n",
      "Step 55, Loss= 0.6880  h_value: 0.00019359589\n",
      "Step 56, Loss= 0.6991  h_value: 0.00025558472\n",
      "Step 57, Loss= 0.6995  h_value: 0.0002603531\n",
      "Step 58, Loss= 0.6845  h_value: 0.0002450943\n",
      "Step 59, Loss= 0.6925  h_value: 0.00027751923\n",
      "Step 60, Loss= 0.6795  h_value: 0.00025749207\n",
      "Step 61, Loss= 0.7167  h_value: 0.0002593994\n",
      "Step 62, Loss= 0.7033  h_value: 0.00028705597\n",
      "Step 63, Loss= 0.6973  h_value: 0.00028514862\n",
      "Step 64, Loss= 0.7079  h_value: 0.0002374649\n",
      "Step 65, Loss= 0.6880  h_value: 0.00020885468\n",
      "Step 66, Loss= 0.6966  h_value: 0.00022602081\n",
      "Step 67, Loss= 0.7004  h_value: 0.00026893616\n",
      "Step 68, Loss= 0.7016  h_value: 0.00025844574\n",
      "Step 69, Loss= 0.6983  h_value: 0.00025081635\n",
      "Step 70, Loss= 0.6922  h_value: 0.00021839142\n",
      "Step 71, Loss= 0.7257  h_value: 0.00025749207\n",
      "Step 72, Loss= 0.6930  h_value: 0.00023460388\n",
      "Step 73, Loss= 0.6913  h_value: 0.00021648407\n",
      "Step 74, Loss= 0.6835  h_value: 0.000207901\n",
      "Step 75, Loss= 0.6818  h_value: 0.00018596649\n",
      "Step 76, Loss= 0.7067  h_value: 0.00023365021\n",
      "Step 77, Loss= 0.6847  h_value: 0.00020885468\n",
      "Step 78, Loss= 0.7018  h_value: 0.000207901\n",
      "Step 79, Loss= 0.6837  h_value: 0.0002002716\n",
      "Step 80, Loss= 0.6892  h_value: 0.00019645691\n",
      "Step 81, Loss= 0.6837  h_value: 0.00019931793\n",
      "Step 82, Loss= 0.6929  h_value: 0.00022792816\n",
      "Early stopping\n",
      "INFO:tensorflow:Restoring parameters from tmp.ckpt\n",
      "[[0.    0.005 0.016 0.013 0.007 0.044 0.046 0.016 0.06  0.073]\n",
      " [0.017 0.    0.076 0.06  0.082 0.008 0.015 0.014 0.004 0.011]\n",
      " [0.107 0.035 0.    0.046 0.03  0.159 0.012 0.003 0.014 0.01 ]\n",
      " [0.101 0.038 0.047 0.    0.037 0.005 0.11  0.121 0.014 0.011]\n",
      " [0.013 0.047 0.035 0.04  0.    0.013 0.014 0.005 0.013 0.01 ]\n",
      " [0.064 0.005 0.016 0.007 0.003 0.    0.014 0.012 0.02  0.008]\n",
      " [0.031 0.009 0.006 0.014 0.003 0.024 0.    0.018 0.006 0.178]\n",
      " [0.024 0.004 0.01  0.015 0.001 0.025 0.016 0.    0.009 0.009]\n",
      " [0.033 0.01  0.006 0.004 0.003 0.016 0.012 0.019 0.    0.012]\n",
      " [0.03  0.004 0.004 0.004 0.002 0.017 0.076 0.006 0.006 0.   ]]\n",
      "MSE =  0.6493607100970061\n",
      "0.6446125174056476 0.019099303618780605\n",
      "fold =  5\n",
      "******* Doing dataset size =  5000 ****************\n",
      "Destructor Called... Cleaning up\n",
      "Step 1, Loss= 11.2731  h_value: 0.0005245209\n",
      "Step 2, Loss= 0.7577  h_value: 0.0017766953\n",
      "Step 3, Loss= 0.7272  h_value: 0.00074005127\n",
      "Step 4, Loss= 0.7138  h_value: 0.00037384033\n",
      "Step 5, Loss= 0.7166  h_value: 0.00027275085\n",
      "Step 6, Loss= 0.7053  h_value: 0.00026512146\n",
      "Step 7, Loss= 0.6949  h_value: 0.00022315979\n",
      "Step 8, Loss= 0.7045  h_value: 0.00019645691\n",
      "Step 9, Loss= 0.7099  h_value: 0.000207901\n",
      "Step 10, Loss= 0.7275  h_value: 0.00017166138\n",
      "Step 11, Loss= 0.7003  h_value: 0.00016784668\n",
      "Step 12, Loss= 0.7031  h_value: 0.00020503998\n",
      "Step 13, Loss= 0.7002  h_value: 0.00017547607\n",
      "Step 14, Loss= 0.7106  h_value: 0.0002527237\n",
      "Step 15, Loss= 0.6981  h_value: 0.00020599365\n",
      "Step 16, Loss= 0.6912  h_value: 0.00021457672\n",
      "Step 17, Loss= 0.6927  h_value: 0.000207901\n",
      "Step 18, Loss= 0.6950  h_value: 0.00017547607\n",
      "Step 19, Loss= 0.6980  h_value: 0.000207901\n",
      "Step 20, Loss= 0.6895  h_value: 0.00019931793\n",
      "Step 21, Loss= 0.6851  h_value: 0.00016403198\n",
      "Step 22, Loss= 0.6955  h_value: 0.00019359589\n",
      "Step 23, Loss= 0.6959  h_value: 0.00018405914\n",
      "Step 24, Loss= 0.6865  h_value: 0.00016117096\n",
      "Step 25, Loss= 0.6925  h_value: 0.0002040863\n",
      "Step 26, Loss= 0.6895  h_value: 0.0001707077\n",
      "Step 27, Loss= 0.6819  h_value: 0.00020122528\n",
      "Step 28, Loss= 0.6898  h_value: 0.00017261505\n",
      "Step 29, Loss= 0.6816  h_value: 0.00016975403\n",
      "Step 30, Loss= 0.6919  h_value: 0.00020122528\n",
      "Step 31, Loss= 0.6805  h_value: 0.00018692017\n",
      "Step 32, Loss= 0.6934  h_value: 0.00022602081\n",
      "Step 33, Loss= 0.7114  h_value: 0.00018501282\n",
      "Step 34, Loss= 0.6815  h_value: 0.00019264221\n",
      "Step 35, Loss= 0.6787  h_value: 0.00017738342\n",
      "Step 36, Loss= 0.6895  h_value: 0.00018787384\n",
      "Step 37, Loss= 0.7021  h_value: 0.0001783371\n",
      "Step 38, Loss= 0.6828  h_value: 0.00018119812\n",
      "Step 39, Loss= 0.6922  h_value: 0.00015544891\n",
      "Step 40, Loss= 0.6949  h_value: 0.00019168854\n",
      "Step 41, Loss= 0.6886  h_value: 0.00019550323\n",
      "Step 42, Loss= 0.6851  h_value: 0.00014972687\n",
      "Step 43, Loss= 0.6863  h_value: 0.00016880035\n",
      "Step 44, Loss= 0.6825  h_value: 0.0001821518\n",
      "Step 45, Loss= 0.6792  h_value: 0.00016307831\n",
      "Step 46, Loss= 0.6909  h_value: 0.00017929077\n",
      "Step 47, Loss= 0.6813  h_value: 0.00016880035\n",
      "Step 48, Loss= 0.6858  h_value: 0.00013446808\n",
      "Step 49, Loss= 0.6853  h_value: 0.00014209747\n",
      "Step 50, Loss= 0.6893  h_value: 0.00016880035\n",
      "Saving model\n",
      "Step 51, Loss= 0.6843  h_value: 0.0001411438\n",
      "Step 52, Loss= 0.6807  h_value: 0.00015163422\n",
      "Step 53, Loss= 0.6782  h_value: 0.00018024445\n",
      "Step 54, Loss= 0.6818  h_value: 0.00013160706\n",
      "Step 55, Loss= 0.6816  h_value: 0.00016498566\n",
      "Step 56, Loss= 0.6849  h_value: 0.00014972687\n",
      "Step 57, Loss= 0.6888  h_value: 0.00014400482\n",
      "Step 58, Loss= 0.6877  h_value: 0.00015163422\n",
      "Step 59, Loss= 0.6865  h_value: 0.00015926361\n",
      "Step 60, Loss= 0.6897  h_value: 0.00011253357\n",
      "Step 61, Loss= 0.6933  h_value: 0.00011253357\n",
      "Step 62, Loss= 0.6749  h_value: 0.00012302399\n",
      "Step 63, Loss= 0.6853  h_value: 0.00011634827\n",
      "Saving model\n",
      "Step 64, Loss= 0.6867  h_value: 0.0001373291\n",
      "Step 65, Loss= 0.6904  h_value: 0.00012111664\n",
      "Step 66, Loss= 0.6849  h_value: 0.00013542175\n",
      "Step 67, Loss= 0.6925  h_value: 0.00013828278\n",
      "Step 68, Loss= 0.6989  h_value: 0.0001335144\n",
      "Step 69, Loss= 0.6759  h_value: 0.00012397766\n",
      "Step 70, Loss= 0.6845  h_value: 0.00013065338\n",
      "Step 71, Loss= 0.7049  h_value: 0.000120162964\n",
      "Step 72, Loss= 0.7054  h_value: 0.00011634827\n",
      "Step 73, Loss= 0.6771  h_value: 0.00011444092\n",
      "Saving model\n",
      "Step 74, Loss= 0.6741  h_value: 0.0001411438\n",
      "Step 75, Loss= 0.6824  h_value: 0.00013637543\n",
      "Step 76, Loss= 0.7026  h_value: 9.6321106e-05\n",
      "Step 77, Loss= 0.6903  h_value: 0.00012207031\n",
      "Step 78, Loss= 0.6747  h_value: 0.00014209747\n",
      "Step 79, Loss= 0.6872  h_value: 0.00012683868\n",
      "Step 80, Loss= 0.6771  h_value: 0.00011634827\n",
      "Step 81, Loss= 0.7006  h_value: 0.00012493134\n",
      "Step 82, Loss= 0.6836  h_value: 0.00013446808\n",
      "Step 83, Loss= 0.6802  h_value: 0.00012588501\n",
      "Step 84, Loss= 0.6883  h_value: 0.00012874603\n",
      "Step 85, Loss= 0.6818  h_value: 9.250641e-05\n",
      "Step 86, Loss= 0.6852  h_value: 0.00012779236\n",
      "Step 87, Loss= 0.6781  h_value: 0.00011634827\n",
      "Step 88, Loss= 0.6780  h_value: 0.00012397766\n",
      "Step 89, Loss= 0.6855  h_value: 9.918213e-05\n",
      "Step 90, Loss= 0.6782  h_value: 0.00012111664\n",
      "Step 91, Loss= 0.6842  h_value: 0.00012397766\n",
      "Step 92, Loss= 0.6720  h_value: 0.00010585785\n",
      "Step 93, Loss= 0.6912  h_value: 0.000118255615\n",
      "Step 94, Loss= 0.6756  h_value: 0.00012111664\n",
      "Step 95, Loss= 0.6755  h_value: 0.00011444092\n",
      "Step 96, Loss= 0.6862  h_value: 0.00013637543\n",
      "Step 97, Loss= 0.6829  h_value: 0.000111579895\n",
      "Step 98, Loss= 0.6893  h_value: 0.000102996826\n",
      "Step 99, Loss= 0.6730  h_value: 0.00010108948\n",
      "Step 100, Loss= 0.6752  h_value: 0.00011730194\n",
      "Step 101, Loss= 0.6838  h_value: 9.918213e-05\n",
      "Step 102, Loss= 0.6797  h_value: 9.918213e-05\n",
      "Step 103, Loss= 0.6720  h_value: 9.8228455e-05\n",
      "Step 104, Loss= 0.6795  h_value: 9.441376e-05\n",
      "Early stopping\n",
      "INFO:tensorflow:Restoring parameters from tmp.ckpt\n",
      "[[0.    0.002 0.016 0.013 0.003 0.026 0.037 0.011 0.051 0.058]\n",
      " [0.006 0.    0.067 0.072 0.079 0.006 0.008 0.008 0.005 0.004]\n",
      " [0.093 0.037 0.    0.024 0.017 0.117 0.012 0.005 0.002 0.005]\n",
      " [0.099 0.038 0.022 0.    0.019 0.007 0.095 0.109 0.005 0.005]\n",
      " [0.009 0.037 0.012 0.022 0.    0.004 0.011 0.009 0.007 0.008]\n",
      " [0.027 0.004 0.011 0.005 0.003 0.    0.006 0.013 0.009 0.006]\n",
      " [0.017 0.003 0.004 0.009 0.005 0.005 0.    0.018 0.004 0.127]\n",
      " [0.023 0.002 0.004 0.009 0.003 0.019 0.025 0.    0.012 0.01 ]\n",
      " [0.03  0.004 0.004 0.005 0.007 0.01  0.012 0.016 0.    0.003]\n",
      " [0.043 0.006 0.003 0.005 0.002 0.002 0.08  0.015 0.005 0.   ]]\n",
      "MSE =  0.659248394145004\n",
      "0.6475396927535189 0.018058243022139066\n",
      "fold =  6\n",
      "******* Doing dataset size =  5000 ****************\n",
      "Destructor Called... Cleaning up\n",
      "Step 1, Loss= 1.6492  h_value: 0.0005245209\n",
      "Step 2, Loss= 0.7097  h_value: 0.00022315979\n",
      "Step 3, Loss= 0.6953  h_value: 0.0002193451\n",
      "Step 4, Loss= 0.7099  h_value: 0.00021457672\n",
      "Step 5, Loss= 0.6955  h_value: 0.00016975403\n",
      "Step 6, Loss= 0.6948  h_value: 0.00018405914\n",
      "Step 7, Loss= 0.6919  h_value: 0.00016498566\n",
      "Step 8, Loss= 0.6860  h_value: 0.00025558472\n",
      "Step 9, Loss= 0.6851  h_value: 0.00019359589\n",
      "Step 10, Loss= 0.6845  h_value: 0.00021266937\n",
      "Step 11, Loss= 0.6995  h_value: 0.00020503998\n",
      "Step 12, Loss= 0.6818  h_value: 0.00019836426\n",
      "Step 13, Loss= 0.6780  h_value: 0.00021076202\n",
      "Step 14, Loss= 0.6788  h_value: 0.00023555756\n",
      "Step 15, Loss= 0.6782  h_value: 0.00023174286\n",
      "Step 16, Loss= 0.7026  h_value: 0.00024700165\n",
      "Step 17, Loss= 0.6802  h_value: 0.00020694733\n",
      "Step 18, Loss= 0.7167  h_value: 0.00018501282\n",
      "Step 19, Loss= 0.6860  h_value: 0.00020885468\n",
      "Step 20, Loss= 0.6820  h_value: 0.00023841858\n",
      "Step 21, Loss= 0.7008  h_value: 0.00020885468\n",
      "Step 22, Loss= 0.6794  h_value: 0.0002593994\n",
      "Step 23, Loss= 0.6877  h_value: 0.0002117157\n",
      "Step 24, Loss= 0.6824  h_value: 0.00022411346\n",
      "Step 25, Loss= 0.6798  h_value: 0.00019073486\n",
      "Step 26, Loss= 0.6764  h_value: 0.00020313263\n",
      "Step 27, Loss= 0.6815  h_value: 0.000207901\n",
      "Step 28, Loss= 0.6831  h_value: 0.00023365021\n",
      "Step 29, Loss= 0.6749  h_value: 0.00019550323\n",
      "Step 30, Loss= 0.6807  h_value: 0.00016403198\n",
      "Step 31, Loss= 0.6903  h_value: 0.0001783371\n",
      "Step 32, Loss= 0.6798  h_value: 0.00013542175\n",
      "Step 33, Loss= 0.6986  h_value: 0.00014781952\n",
      "Step 34, Loss= 0.6701  h_value: 0.00018405914\n",
      "Step 35, Loss= 0.6853  h_value: 0.00016117096\n",
      "Step 36, Loss= 0.6936  h_value: 0.00016212463\n",
      "Step 37, Loss= 0.7040  h_value: 0.0001821518\n",
      "Step 38, Loss= 0.7320  h_value: 0.00018882751\n",
      "Step 39, Loss= 0.6753  h_value: 0.0001487732\n",
      "Step 40, Loss= 0.6823  h_value: 0.00013065338\n",
      "Step 41, Loss= 0.6795  h_value: 0.000166893\n",
      "Step 42, Loss= 0.6820  h_value: 0.00015640259\n",
      "Step 43, Loss= 0.6752  h_value: 0.00014400482\n",
      "Step 44, Loss= 0.6682  h_value: 0.00019645691\n",
      "Step 45, Loss= 0.6705  h_value: 0.00014972687\n",
      "Step 46, Loss= 0.7061  h_value: 0.0001745224\n",
      "Step 47, Loss= 0.6784  h_value: 0.00017547607\n",
      "Step 48, Loss= 0.6879  h_value: 0.0001707077\n",
      "Step 49, Loss= 0.6723  h_value: 0.00017642975\n",
      "Step 50, Loss= 0.6782  h_value: 0.00019168854\n",
      "Saving model\n",
      "Step 51, Loss= 0.6857  h_value: 0.00014972687\n",
      "Step 52, Loss= 0.6831  h_value: 0.0001783371\n",
      "Saving model\n",
      "Step 53, Loss= 0.6778  h_value: 0.00014209747\n",
      "Step 54, Loss= 0.6720  h_value: 0.00015449524\n",
      "Step 55, Loss= 0.7014  h_value: 0.00015163422\n",
      "Step 56, Loss= 0.6810  h_value: 0.00014591217\n",
      "Step 57, Loss= 0.6831  h_value: 0.00012302399\n",
      "Step 58, Loss= 0.6809  h_value: 0.000113487244\n",
      "Step 59, Loss= 0.6863  h_value: 9.918213e-05\n",
      "Step 60, Loss= 0.6760  h_value: 0.00013637543\n",
      "Step 61, Loss= 0.6758  h_value: 0.00012874603\n",
      "Step 62, Loss= 0.6827  h_value: 0.00012111664\n",
      "Step 63, Loss= 0.6796  h_value: 0.00011539459\n",
      "Step 64, Loss= 0.6965  h_value: 0.00011730194\n",
      "Saving model\n",
      "Step 65, Loss= 0.6703  h_value: 0.000120162964\n",
      "Step 66, Loss= 0.6667  h_value: 9.8228455e-05\n",
      "Step 67, Loss= 0.6798  h_value: 0.0001001358\n",
      "Saving model\n",
      "Step 68, Loss= 0.6784  h_value: 0.000120162964\n",
      "Step 69, Loss= 0.6832  h_value: 0.00013160706\n",
      "Step 70, Loss= 0.6764  h_value: 0.00010871887\n",
      "Step 71, Loss= 0.6813  h_value: 0.00013542175\n",
      "Step 72, Loss= 0.6900  h_value: 0.00011730194\n",
      "Step 73, Loss= 0.6698  h_value: 0.00010967255\n",
      "Step 74, Loss= 0.6893  h_value: 0.00012397766\n",
      "Step 75, Loss= 0.6756  h_value: 0.0001039505\n",
      "Step 76, Loss= 0.6921  h_value: 0.00010204315\n",
      "Step 77, Loss= 0.6795  h_value: 0.00012874603\n",
      "Step 78, Loss= 0.6999  h_value: 0.00010871887\n",
      "Step 79, Loss= 0.6741  h_value: 0.00011062622\n",
      "Step 80, Loss= 0.6696  h_value: 0.000118255615\n",
      "Step 81, Loss= 0.6705  h_value: 0.0001449585\n",
      "Step 82, Loss= 0.6715  h_value: 0.00013256073\n",
      "Step 83, Loss= 0.6701  h_value: 0.00012397766\n",
      "Step 84, Loss= 0.6734  h_value: 9.918213e-05\n",
      "Step 85, Loss= 0.6777  h_value: 9.536743e-05\n",
      "Step 86, Loss= 0.6877  h_value: 0.000111579895\n",
      "Step 87, Loss= 0.6736  h_value: 0.00012397766\n",
      "Saving model\n",
      "Step 88, Loss= 0.6864  h_value: 0.00011634827\n",
      "Step 89, Loss= 0.6673  h_value: 0.00013065338\n",
      "Step 90, Loss= 0.6762  h_value: 0.000120162964\n",
      "Step 91, Loss= 0.6871  h_value: 0.000104904175\n",
      "Step 92, Loss= 0.6974  h_value: 0.00011539459\n",
      "Step 93, Loss= 0.6749  h_value: 0.00012302399\n",
      "Step 94, Loss= 0.6776  h_value: 0.00010585785\n",
      "Step 95, Loss= 0.6718  h_value: 0.000111579895\n",
      "Step 96, Loss= 0.6871  h_value: 9.918213e-05\n",
      "Step 97, Loss= 0.6714  h_value: 9.250641e-05\n",
      "Step 98, Loss= 0.6811  h_value: 8.678436e-05\n",
      "Step 99, Loss= 0.6775  h_value: 0.000104904175\n",
      "Step 100, Loss= 0.6681  h_value: 0.00010871887\n",
      "Step 101, Loss= 0.6766  h_value: 0.00010967255\n",
      "Step 102, Loss= 0.6941  h_value: 0.00010108948\n",
      "Step 103, Loss= 0.6908  h_value: 0.0001039505\n",
      "Step 104, Loss= 0.6734  h_value: 0.00013256073\n",
      "Step 105, Loss= 0.6894  h_value: 9.346008e-05\n",
      "Step 106, Loss= 0.6704  h_value: 9.250641e-05\n",
      "Step 107, Loss= 0.6771  h_value: 8.773804e-05\n",
      "Step 108, Loss= 0.6778  h_value: 9.441376e-05\n",
      "Step 109, Loss= 0.7123  h_value: 0.00010967255\n",
      "Step 110, Loss= 0.6757  h_value: 0.00010108948\n",
      "Step 111, Loss= 0.7007  h_value: 0.00010871887\n",
      "Step 112, Loss= 0.6733  h_value: 0.000104904175\n",
      "Step 113, Loss= 0.6754  h_value: 0.0001077652\n",
      "Step 114, Loss= 0.6689  h_value: 0.000120162964\n",
      "Step 115, Loss= 0.6822  h_value: 0.000113487244\n",
      "Step 116, Loss= 0.6780  h_value: 0.00010585785\n",
      "Step 117, Loss= 0.6843  h_value: 9.059906e-05\n",
      "Step 118, Loss= 0.6737  h_value: 0.0001001358\n",
      "Early stopping\n",
      "INFO:tensorflow:Restoring parameters from tmp.ckpt\n",
      "[[0.    0.001 0.017 0.014 0.004 0.022 0.026 0.011 0.058 0.049]\n",
      " [0.006 0.    0.061 0.057 0.068 0.007 0.013 0.005 0.002 0.007]\n",
      " [0.084 0.033 0.    0.025 0.02  0.125 0.004 0.002 0.002 0.003]\n",
      " [0.067 0.034 0.025 0.    0.022 0.001 0.096 0.112 0.002 0.004]\n",
      " [0.013 0.035 0.016 0.022 0.    0.007 0.003 0.003 0.001 0.008]\n",
      " [0.024 0.004 0.012 0.002 0.006 0.    0.011 0.005 0.003 0.003]\n",
      " [0.018 0.003 0.005 0.012 0.006 0.006 0.    0.007 0.007 0.133]\n",
      " [0.021 0.002 0.002 0.005 0.003 0.01  0.019 0.    0.001 0.01 ]\n",
      " [0.025 0.005 0.004 0.002 0.005 0.003 0.012 0.002 0.    0.01 ]\n",
      " [0.044 0.002 0.002 0.006 0.005 0.002 0.071 0.007 0.007 0.   ]]\n",
      "MSE =  0.6364370903766904\n",
      "0.6456892590240475 0.016996194941065173\n",
      "fold =  7\n",
      "******* Doing dataset size =  5000 ****************\n",
      "Destructor Called... Cleaning up\n",
      "Step 1, Loss= 10.8664  h_value: 0.0005245209\n",
      "Step 2, Loss= 0.7420  h_value: 0.0017108917\n",
      "Step 3, Loss= 0.7361  h_value: 0.0008163452\n",
      "Step 4, Loss= 0.7085  h_value: 0.00045871735\n",
      "Step 5, Loss= 0.7068  h_value: 0.00030994415\n",
      "Step 6, Loss= 0.7005  h_value: 0.00021648407\n",
      "Step 7, Loss= 0.6920  h_value: 0.00019645691\n",
      "Step 8, Loss= 0.7038  h_value: 0.00021839142\n",
      "Step 9, Loss= 0.7113  h_value: 0.00020694733\n",
      "Step 10, Loss= 0.6864  h_value: 0.00019741058\n",
      "Step 11, Loss= 0.6899  h_value: 0.00016975403\n",
      "Step 12, Loss= 0.6784  h_value: 0.00017166138\n",
      "Step 13, Loss= 0.7067  h_value: 0.00014972687\n",
      "Step 14, Loss= 0.6844  h_value: 0.00015068054\n",
      "Step 15, Loss= 0.6918  h_value: 0.00015163422\n",
      "Step 16, Loss= 0.6972  h_value: 0.00016880035\n",
      "Step 17, Loss= 0.6976  h_value: 0.00015354156\n",
      "Step 18, Loss= 0.6920  h_value: 0.00012302399\n",
      "Step 19, Loss= 0.7321  h_value: 0.00017356873\n",
      "Step 20, Loss= 0.6920  h_value: 0.0001783371\n",
      "Step 21, Loss= 0.6826  h_value: 0.0001745224\n",
      "Step 22, Loss= 0.6942  h_value: 0.00016784668\n",
      "Step 23, Loss= 0.6863  h_value: 0.00019168854\n",
      "Step 24, Loss= 0.6834  h_value: 0.00015544891\n",
      "Step 25, Loss= 0.6896  h_value: 0.00015449524\n",
      "Step 26, Loss= 0.6941  h_value: 0.0001707077\n",
      "Step 27, Loss= 0.6819  h_value: 0.00016975403\n",
      "Step 28, Loss= 0.6853  h_value: 0.00019264221\n",
      "Step 29, Loss= 0.6766  h_value: 0.00017738342\n",
      "Step 30, Loss= 0.6942  h_value: 0.00018310547\n",
      "Step 31, Loss= 0.7062  h_value: 0.00013828278\n",
      "Step 32, Loss= 0.6880  h_value: 0.00016403198\n",
      "Step 33, Loss= 0.6892  h_value: 0.00018119812\n",
      "Step 34, Loss= 0.6706  h_value: 0.00017738342\n",
      "Step 35, Loss= 0.6807  h_value: 0.00016117096\n",
      "Step 36, Loss= 0.6818  h_value: 0.00017738342\n",
      "Step 37, Loss= 0.6832  h_value: 0.00016498566\n",
      "Step 38, Loss= 0.7333  h_value: 0.00016498566\n",
      "Step 39, Loss= 0.6887  h_value: 0.00016975403\n",
      "Step 40, Loss= 0.6886  h_value: 0.00014209747\n",
      "Step 41, Loss= 0.6789  h_value: 0.00015258789\n",
      "Step 42, Loss= 0.6745  h_value: 0.00012493134\n",
      "Step 43, Loss= 0.6857  h_value: 0.00017166138\n",
      "Step 44, Loss= 0.6763  h_value: 0.00016593933\n",
      "Step 45, Loss= 0.6783  h_value: 0.00016403198\n",
      "Step 46, Loss= 0.6765  h_value: 0.00012111664\n",
      "Step 47, Loss= 0.6847  h_value: 0.00017929077\n",
      "Step 48, Loss= 0.6825  h_value: 0.00016021729\n",
      "Step 49, Loss= 0.6737  h_value: 0.00015258789\n",
      "Step 50, Loss= 0.6795  h_value: 0.00017356873\n",
      "Saving model\n",
      "Step 51, Loss= 0.6837  h_value: 0.0001745224\n",
      "Step 52, Loss= 0.6939  h_value: 0.00015830994\n",
      "Saving model\n",
      "Step 53, Loss= 0.6927  h_value: 0.00013256073\n",
      "Saving model\n",
      "Step 54, Loss= 0.6805  h_value: 0.00014781952\n",
      "Saving model\n",
      "Step 55, Loss= 0.6811  h_value: 0.00012588501\n",
      "Step 56, Loss= 0.6808  h_value: 0.00015258789\n",
      "Step 57, Loss= 0.6737  h_value: 0.00014209747\n",
      "Step 58, Loss= 0.6749  h_value: 0.00012111664\n",
      "Step 59, Loss= 0.6774  h_value: 0.00013923645\n",
      "Step 60, Loss= 0.6747  h_value: 0.0001335144\n",
      "Saving model\n",
      "Step 61, Loss= 0.6760  h_value: 0.00013637543\n",
      "Step 62, Loss= 0.6977  h_value: 0.00016212463\n",
      "Saving model\n",
      "Step 63, Loss= 0.6790  h_value: 0.00016307831\n",
      "Step 64, Loss= 0.6803  h_value: 0.00012207031\n",
      "Saving model\n",
      "Step 65, Loss= 0.6772  h_value: 0.00015354156\n",
      "Step 66, Loss= 0.6916  h_value: 0.0001373291\n",
      "Step 67, Loss= 0.6982  h_value: 0.0001411438\n",
      "Step 68, Loss= 0.6803  h_value: 0.00017261505\n",
      "Step 69, Loss= 0.6773  h_value: 0.00015068054\n",
      "Step 70, Loss= 0.6930  h_value: 0.00014686584\n",
      "Saving model\n",
      "Step 71, Loss= 0.6764  h_value: 0.00014972687\n",
      "Step 72, Loss= 0.6916  h_value: 0.00015830994\n",
      "Step 73, Loss= 0.6690  h_value: 0.00014019012\n",
      "Step 74, Loss= 0.6716  h_value: 0.00015258789\n",
      "Step 75, Loss= 0.6773  h_value: 0.00015163422\n",
      "Step 76, Loss= 0.6772  h_value: 0.00013446808\n",
      "Step 77, Loss= 0.6855  h_value: 0.0001707077\n",
      "Step 78, Loss= 0.6893  h_value: 0.000111579895\n",
      "Step 79, Loss= 0.6791  h_value: 0.00016021729\n",
      "Step 80, Loss= 0.6754  h_value: 0.00014305115\n",
      "Step 81, Loss= 0.6954  h_value: 0.00013065338\n",
      "Step 82, Loss= 0.6803  h_value: 0.00013542175\n",
      "Step 83, Loss= 0.6748  h_value: 0.00014209747\n",
      "Step 84, Loss= 0.6708  h_value: 0.00011920929\n",
      "Step 85, Loss= 0.6815  h_value: 0.00011634827\n",
      "Step 86, Loss= 0.6853  h_value: 0.00014209747\n",
      "Step 87, Loss= 0.6842  h_value: 0.00015735626\n",
      "Step 88, Loss= 0.6907  h_value: 0.00013446808\n",
      "Step 89, Loss= 0.6840  h_value: 0.00013160706\n",
      "Step 90, Loss= 0.6814  h_value: 0.00015163422\n",
      "Step 91, Loss= 0.7043  h_value: 0.00016212463\n",
      "Step 92, Loss= 0.6838  h_value: 0.00014209747\n",
      "Step 93, Loss= 0.6920  h_value: 0.00012111664\n",
      "Step 94, Loss= 0.7026  h_value: 0.00013542175\n",
      "Step 95, Loss= 0.6788  h_value: 0.00012874603\n",
      "Step 96, Loss= 0.6988  h_value: 0.00010681152\n",
      "Step 97, Loss= 0.7008  h_value: 0.00012302399\n",
      "Step 98, Loss= 0.6729  h_value: 0.00013065338\n",
      "Step 99, Loss= 0.6932  h_value: 0.00013256073\n",
      "Step 100, Loss= 0.6898  h_value: 0.00012779236\n",
      "Step 101, Loss= 0.6858  h_value: 0.00012683868\n",
      "Early stopping\n",
      "INFO:tensorflow:Restoring parameters from tmp.ckpt\n",
      "[[0.    0.004 0.017 0.012 0.003 0.033 0.028 0.018 0.051 0.065]\n",
      " [0.006 0.    0.067 0.062 0.073 0.001 0.007 0.007 0.005 0.008]\n",
      " [0.095 0.039 0.    0.032 0.017 0.119 0.008 0.015 0.002 0.01 ]\n",
      " [0.094 0.047 0.033 0.    0.023 0.006 0.117 0.127 0.001 0.006]\n",
      " [0.009 0.044 0.018 0.023 0.    0.002 0.002 0.005 0.001 0.01 ]\n",
      " [0.032 0.002 0.013 0.003 0.005 0.    0.015 0.018 0.003 0.009]\n",
      " [0.023 0.006 0.006 0.011 0.006 0.007 0.    0.016 0.002 0.148]\n",
      " [0.021 0.002 0.008 0.005 0.003 0.012 0.019 0.    0.005 0.014]\n",
      " [0.023 0.004 0.01  0.007 0.002 0.004 0.013 0.013 0.    0.011]\n",
      " [0.031 0.003 0.001 0.004 0.003 0.003 0.07  0.017 0.007 0.   ]]\n",
      "MSE =  0.6236157749913812\n",
      "0.642535904162238 0.017528984258719394\n",
      "fold =  8\n",
      "******* Doing dataset size =  5000 ****************\n",
      "Destructor Called... Cleaning up\n",
      "Step 1, Loss= 1.4878  h_value: 0.0005245209\n",
      "Step 2, Loss= 0.7116  h_value: 0.0002565384\n",
      "Step 3, Loss= 0.6998  h_value: 0.00019073486\n",
      "Step 4, Loss= 0.7021  h_value: 0.00021839142\n",
      "Step 5, Loss= 0.6873  h_value: 0.0002117157\n",
      "Step 6, Loss= 0.6931  h_value: 0.00022125244\n",
      "Step 7, Loss= 0.7011  h_value: 0.00022506714\n",
      "Step 8, Loss= 0.7007  h_value: 0.00021648407\n",
      "Step 9, Loss= 0.6839  h_value: 0.000248909\n",
      "Step 10, Loss= 0.6901  h_value: 0.00024795532\n",
      "Step 11, Loss= 0.6947  h_value: 0.00021648407\n",
      "Step 12, Loss= 0.6901  h_value: 0.00023841858\n",
      "Step 13, Loss= 0.7116  h_value: 0.00026512146\n",
      "Step 14, Loss= 0.6923  h_value: 0.00027942657\n",
      "Step 15, Loss= 0.6916  h_value: 0.00024604797\n",
      "Step 16, Loss= 0.6817  h_value: 0.00026130676\n",
      "Step 17, Loss= 0.6873  h_value: 0.00022792816\n",
      "Step 18, Loss= 0.6932  h_value: 0.00022220612\n",
      "Step 19, Loss= 0.6949  h_value: 0.00020694733\n",
      "Step 20, Loss= 0.6833  h_value: 0.0001821518\n",
      "Step 21, Loss= 0.7025  h_value: 0.0002193451\n",
      "Step 22, Loss= 0.6788  h_value: 0.00018692017\n",
      "Step 23, Loss= 0.6793  h_value: 0.00019359589\n",
      "Step 24, Loss= 0.6815  h_value: 0.00017547607\n",
      "Step 25, Loss= 0.6811  h_value: 0.00019264221\n",
      "Step 26, Loss= 0.6744  h_value: 0.00017738342\n",
      "Step 27, Loss= 0.6774  h_value: 0.00016975403\n",
      "Step 28, Loss= 0.6775  h_value: 0.00017547607\n",
      "Step 29, Loss= 0.6917  h_value: 0.00017738342\n",
      "Step 30, Loss= 0.6825  h_value: 0.00018692017\n",
      "Step 31, Loss= 0.6856  h_value: 0.0001449585\n",
      "Step 32, Loss= 0.6959  h_value: 0.00016117096\n",
      "Step 33, Loss= 0.6777  h_value: 0.00019454956\n",
      "Step 34, Loss= 0.6787  h_value: 0.00014209747\n",
      "Step 35, Loss= 0.6925  h_value: 0.00017261505\n",
      "Step 36, Loss= 0.6816  h_value: 0.00014686584\n",
      "Step 37, Loss= 0.6783  h_value: 0.00017738342\n",
      "Step 38, Loss= 0.6960  h_value: 0.00016117096\n",
      "Step 39, Loss= 0.6737  h_value: 0.00014019012\n",
      "Step 40, Loss= 0.6843  h_value: 0.00015544891\n",
      "Step 41, Loss= 0.6840  h_value: 0.00013637543\n",
      "Step 42, Loss= 0.6805  h_value: 0.00014400482\n",
      "Step 43, Loss= 0.6869  h_value: 0.00016880035\n",
      "Step 44, Loss= 0.6947  h_value: 0.00016021729\n",
      "Step 45, Loss= 0.7047  h_value: 0.00016117096\n",
      "Step 46, Loss= 0.6870  h_value: 0.00014972687\n",
      "Step 47, Loss= 0.6801  h_value: 0.00014686584\n",
      "Step 48, Loss= 0.6783  h_value: 0.00014209747\n",
      "Step 49, Loss= 0.6748  h_value: 0.00013160706\n",
      "Step 50, Loss= 0.6854  h_value: 0.00013637543\n",
      "Saving model\n",
      "Step 51, Loss= 0.6894  h_value: 0.00014209747\n",
      "Step 52, Loss= 0.6941  h_value: 0.00014400482\n",
      "Saving model\n",
      "Step 53, Loss= 0.6704  h_value: 0.00014591217\n",
      "Step 54, Loss= 0.6736  h_value: 0.00013542175\n",
      "Step 55, Loss= 0.6756  h_value: 0.00013542175\n",
      "Step 56, Loss= 0.6765  h_value: 0.00014209747\n",
      "Step 57, Loss= 0.6746  h_value: 0.0001411438\n",
      "Step 58, Loss= 0.6833  h_value: 0.00013828278\n",
      "Step 59, Loss= 0.6778  h_value: 0.00013446808\n",
      "Saving model\n",
      "Step 60, Loss= 0.6791  h_value: 0.000118255615\n",
      "Step 61, Loss= 0.6826  h_value: 0.00010108948\n",
      "Step 62, Loss= 0.7192  h_value: 9.918213e-05\n",
      "Step 63, Loss= 0.6770  h_value: 0.00012207031\n",
      "Step 64, Loss= 0.6837  h_value: 0.000120162964\n",
      "Step 65, Loss= 0.6749  h_value: 0.00011253357\n",
      "Step 66, Loss= 0.6969  h_value: 0.00011444092\n",
      "Step 67, Loss= 0.6816  h_value: 0.00010871887\n",
      "Step 68, Loss= 0.6912  h_value: 0.000104904175\n",
      "Step 69, Loss= 0.6717  h_value: 0.00010108948\n",
      "Step 70, Loss= 0.6859  h_value: 0.00011539459\n",
      "Step 71, Loss= 0.6730  h_value: 0.00010585785\n",
      "Step 72, Loss= 0.6879  h_value: 0.00011539459\n",
      "Step 73, Loss= 0.6708  h_value: 0.00011444092\n",
      "Step 74, Loss= 0.7297  h_value: 0.00011539459\n",
      "Step 75, Loss= 0.6817  h_value: 0.00012207031\n",
      "Step 76, Loss= 0.6836  h_value: 0.00011634827\n",
      "Step 77, Loss= 0.6816  h_value: 0.000111579895\n",
      "Step 78, Loss= 0.6965  h_value: 0.00010108948\n",
      "Step 79, Loss= 0.6825  h_value: 0.0001077652\n",
      "Step 80, Loss= 0.6816  h_value: 9.918213e-05\n",
      "Step 81, Loss= 0.6893  h_value: 0.0001039505\n",
      "Step 82, Loss= 0.7054  h_value: 0.000102996826\n",
      "Step 83, Loss= 0.6820  h_value: 9.250641e-05\n",
      "Step 84, Loss= 0.6989  h_value: 0.00010108948\n",
      "Step 85, Loss= 0.6808  h_value: 0.0001001358\n",
      "Step 86, Loss= 0.6815  h_value: 0.000113487244\n",
      "Step 87, Loss= 0.6912  h_value: 8.392334e-05\n",
      "Step 88, Loss= 0.7026  h_value: 9.918213e-05\n",
      "Step 89, Loss= 0.7335  h_value: 0.000102996826\n",
      "Step 90, Loss= 0.7055  h_value: 9.1552734e-05\n",
      "Early stopping\n",
      "INFO:tensorflow:Restoring parameters from tmp.ckpt\n",
      "[[0.    0.002 0.017 0.011 0.003 0.053 0.029 0.011 0.049 0.055]\n",
      " [0.013 0.    0.065 0.051 0.071 0.005 0.008 0.016 0.003 0.01 ]\n",
      " [0.071 0.032 0.    0.026 0.035 0.122 0.006 0.011 0.001 0.009]\n",
      " [0.077 0.033 0.031 0.    0.041 0.006 0.1   0.105 0.003 0.009]\n",
      " [0.018 0.033 0.029 0.034 0.    0.004 0.007 0.004 0.002 0.007]\n",
      " [0.047 0.005 0.012 0.006 0.002 0.    0.007 0.005 0.005 0.01 ]\n",
      " [0.021 0.003 0.006 0.012 0.004 0.004 0.    0.014 0.002 0.136]\n",
      " [0.035 0.004 0.011 0.014 0.003 0.009 0.024 0.    0.003 0.007]\n",
      " [0.022 0.001 0.009 0.004 0.003 0.006 0.008 0.001 0.    0.012]\n",
      " [0.034 0.001 0.005 0.002 0.002 0.009 0.067 0.004 0.004 0.   ]]\n",
      "MSE =  0.6387366098098252\n",
      "0.6420609923681864 0.016444935891773295\n",
      "fold =  9\n",
      "******* Doing dataset size =  5000 ****************\n",
      "Destructor Called... Cleaning up\n",
      "Step 1, Loss= 25.7965  h_value: 0.0005245209\n",
      "Step 2, Loss= 0.8163  h_value: 0.0065984726\n",
      "Step 3, Loss= 0.7375  h_value: 0.0035181046\n",
      "Step 4, Loss= 0.7210  h_value: 0.0018892288\n",
      "Step 5, Loss= 0.7159  h_value: 0.0010890961\n",
      "Step 6, Loss= 0.7040  h_value: 0.0006752014\n",
      "Step 7, Loss= 0.6959  h_value: 0.0004386902\n",
      "Step 8, Loss= 0.7034  h_value: 0.00041294098\n",
      "Step 9, Loss= 0.7054  h_value: 0.00033855438\n",
      "Step 10, Loss= 0.7114  h_value: 0.00035572052\n",
      "Step 11, Loss= 0.6974  h_value: 0.00032234192\n",
      "Step 12, Loss= 0.7001  h_value: 0.00032806396\n",
      "Step 13, Loss= 0.6962  h_value: 0.00033855438\n",
      "Step 14, Loss= 0.7071  h_value: 0.0002412796\n",
      "Step 15, Loss= 0.7073  h_value: 0.00028038025\n",
      "Step 16, Loss= 0.6842  h_value: 0.00023937225\n",
      "Step 17, Loss= 0.6782  h_value: 0.00020313263\n",
      "Step 18, Loss= 0.7178  h_value: 0.00023937225\n",
      "Step 19, Loss= 0.6899  h_value: 0.00018882751\n",
      "Step 20, Loss= 0.6941  h_value: 0.00023651123\n",
      "Step 21, Loss= 0.6900  h_value: 0.00022602081\n",
      "Step 22, Loss= 0.6918  h_value: 0.00019168854\n",
      "Step 23, Loss= 0.6881  h_value: 0.00023555756\n",
      "Step 24, Loss= 0.6855  h_value: 0.00029182434\n",
      "Step 25, Loss= 0.7093  h_value: 0.0002784729\n",
      "Step 26, Loss= 0.6863  h_value: 0.0003080368\n",
      "Step 27, Loss= 0.6810  h_value: 0.00024414062\n",
      "Step 28, Loss= 0.6909  h_value: 0.000248909\n",
      "Step 29, Loss= 0.6849  h_value: 0.000289917\n",
      "Step 30, Loss= 0.6930  h_value: 0.0002193451\n",
      "Step 31, Loss= 0.6921  h_value: 0.000207901\n",
      "Step 32, Loss= 0.6865  h_value: 0.00019931793\n",
      "Step 33, Loss= 0.6951  h_value: 0.0002117157\n",
      "Step 34, Loss= 0.6841  h_value: 0.00021362305\n",
      "Step 35, Loss= 0.6885  h_value: 0.00024795532\n",
      "Step 36, Loss= 0.6781  h_value: 0.00023078918\n",
      "Step 37, Loss= 0.6778  h_value: 0.00023174286\n",
      "Step 38, Loss= 0.6799  h_value: 0.00021266937\n",
      "Step 39, Loss= 0.7013  h_value: 0.0002002716\n",
      "Step 40, Loss= 0.6978  h_value: 0.00020599365\n",
      "Step 41, Loss= 0.7053  h_value: 0.0002450943\n",
      "Step 42, Loss= 0.6873  h_value: 0.00021266937\n",
      "Step 43, Loss= 0.6911  h_value: 0.00020122528\n",
      "Step 44, Loss= 0.6788  h_value: 0.00026512146\n",
      "Step 45, Loss= 0.7000  h_value: 0.00020503998\n",
      "Step 46, Loss= 0.6850  h_value: 0.00019741058\n",
      "Step 47, Loss= 0.6776  h_value: 0.0002412796\n",
      "Step 48, Loss= 0.6865  h_value: 0.00022125244\n",
      "Step 49, Loss= 0.6791  h_value: 0.0002117157\n",
      "Step 50, Loss= 0.6949  h_value: 0.0002117157\n",
      "Saving model\n",
      "Step 51, Loss= 0.6860  h_value: 0.00017738342\n",
      "Step 52, Loss= 0.7039  h_value: 0.00017356873\n",
      "Saving model\n",
      "Step 53, Loss= 0.6734  h_value: 0.00023174286\n",
      "Step 54, Loss= 0.6980  h_value: 0.00017547607\n",
      "Step 55, Loss= 0.6782  h_value: 0.00022792816\n",
      "Step 56, Loss= 0.6818  h_value: 0.00021839142\n",
      "Step 57, Loss= 0.6781  h_value: 0.00020694733\n",
      "Step 58, Loss= 0.6817  h_value: 0.00016498566\n",
      "Step 59, Loss= 0.6952  h_value: 0.0001783371\n",
      "Step 60, Loss= 0.6782  h_value: 0.0002641678\n",
      "Step 61, Loss= 0.6745  h_value: 0.0002155304\n",
      "Step 62, Loss= 0.6759  h_value: 0.00017356873\n",
      "Step 63, Loss= 0.6888  h_value: 0.00017738342\n",
      "Step 64, Loss= 0.6710  h_value: 0.00018501282\n",
      "Step 65, Loss= 0.6713  h_value: 0.0002002716\n",
      "Step 66, Loss= 0.6778  h_value: 0.00016307831\n",
      "Step 67, Loss= 0.6767  h_value: 0.00021839142\n",
      "Step 68, Loss= 0.7021  h_value: 0.00020313263\n",
      "Step 69, Loss= 0.6768  h_value: 0.00019741058\n",
      "Step 70, Loss= 0.6756  h_value: 0.00020885468\n",
      "Step 71, Loss= 0.6821  h_value: 0.0001745224\n",
      "Step 72, Loss= 0.6727  h_value: 0.00019264221\n",
      "Step 73, Loss= 0.6909  h_value: 0.00021457672\n",
      "Step 74, Loss= 0.6990  h_value: 0.00019073486\n",
      "Saving model\n",
      "Step 75, Loss= 0.6861  h_value: 0.00022792816\n",
      "Step 76, Loss= 0.7052  h_value: 0.00017929077\n",
      "Saving model\n",
      "Step 77, Loss= 0.6641  h_value: 0.00019550323\n",
      "Step 78, Loss= 0.6931  h_value: 0.00019168854\n",
      "Step 79, Loss= 0.6721  h_value: 0.00017166138\n",
      "Step 80, Loss= 0.6917  h_value: 0.00018692017\n",
      "Step 81, Loss= 0.6734  h_value: 0.00019168854\n",
      "Step 82, Loss= 0.6751  h_value: 0.00020980835\n",
      "Step 83, Loss= 0.6806  h_value: 0.00015735626\n",
      "Step 84, Loss= 0.6804  h_value: 0.00020599365\n",
      "Step 85, Loss= 0.6886  h_value: 0.00015735626\n",
      "Step 86, Loss= 0.6741  h_value: 0.00017356873\n",
      "Step 87, Loss= 0.6865  h_value: 0.00019550323\n",
      "Step 88, Loss= 0.6761  h_value: 0.00017929077\n",
      "Step 89, Loss= 0.6777  h_value: 0.00017738342\n",
      "Step 90, Loss= 0.6730  h_value: 0.00019741058\n",
      "Step 91, Loss= 0.6840  h_value: 0.00018787384\n",
      "Step 92, Loss= 0.6802  h_value: 0.00020694733\n",
      "Step 93, Loss= 0.6751  h_value: 0.000166893\n",
      "Step 94, Loss= 0.6825  h_value: 0.00018310547\n",
      "Step 95, Loss= 0.6768  h_value: 0.00018119812\n",
      "Step 96, Loss= 0.6795  h_value: 0.00019931793\n",
      "Step 97, Loss= 0.6767  h_value: 0.00020599365\n",
      "Step 98, Loss= 0.6702  h_value: 0.0001821518\n",
      "Step 99, Loss= 0.6901  h_value: 0.0001783371\n",
      "Step 100, Loss= 0.6792  h_value: 0.00018024445\n",
      "Step 101, Loss= 0.6743  h_value: 0.00018978119\n",
      "Step 102, Loss= 0.6914  h_value: 0.00015830994\n",
      "Step 103, Loss= 0.6929  h_value: 0.00018310547\n",
      "Step 104, Loss= 0.6713  h_value: 0.0001783371\n",
      "Saving model\n",
      "Step 105, Loss= 0.6740  h_value: 0.00016975403\n",
      "Step 106, Loss= 0.6762  h_value: 0.00020217896\n",
      "Step 107, Loss= 0.7042  h_value: 0.00018501282\n",
      "Step 108, Loss= 0.6808  h_value: 0.00019454956\n",
      "Step 109, Loss= 0.6695  h_value: 0.00015544891\n",
      "Step 110, Loss= 0.6935  h_value: 0.0001745224\n",
      "Step 111, Loss= 0.6759  h_value: 0.00017166138\n",
      "Step 112, Loss= 0.6808  h_value: 0.00015640259\n",
      "Step 113, Loss= 0.6844  h_value: 0.00016498566\n",
      "Step 114, Loss= 0.6746  h_value: 0.00017356873\n",
      "Step 115, Loss= 0.6752  h_value: 0.00015830994\n",
      "Step 116, Loss= 0.6713  h_value: 0.0001411438\n",
      "Step 117, Loss= 0.6901  h_value: 0.00016117096\n",
      "Saving model\n",
      "Step 118, Loss= 0.6711  h_value: 0.00015926361\n",
      "Step 119, Loss= 0.6870  h_value: 0.00015926361\n",
      "Step 120, Loss= 0.6714  h_value: 0.00015926361\n",
      "Step 121, Loss= 0.6893  h_value: 0.00017929077\n",
      "Step 122, Loss= 0.6718  h_value: 0.00017929077\n",
      "Step 123, Loss= 0.6780  h_value: 0.00017547607\n",
      "Step 124, Loss= 0.6956  h_value: 0.00014686584\n",
      "Step 125, Loss= 0.7268  h_value: 0.00016784668\n",
      "Step 126, Loss= 0.6865  h_value: 0.00015354156\n",
      "Step 127, Loss= 0.6796  h_value: 0.00017547607\n",
      "Step 128, Loss= 0.6877  h_value: 0.00014972687\n",
      "Step 129, Loss= 0.6941  h_value: 0.00016498566\n",
      "Step 130, Loss= 0.7544  h_value: 0.00013256073\n",
      "Step 131, Loss= 0.6773  h_value: 0.0001707077\n",
      "Step 132, Loss= 0.6738  h_value: 0.00014209747\n",
      "Step 133, Loss= 0.6774  h_value: 0.00015354156\n",
      "Step 134, Loss= 0.6922  h_value: 0.0001411438\n",
      "Step 135, Loss= 0.6736  h_value: 0.00015258789\n",
      "Step 136, Loss= 0.6709  h_value: 0.00013637543\n",
      "Step 137, Loss= 0.6807  h_value: 0.00014686584\n",
      "Step 138, Loss= 0.7118  h_value: 0.0001707077\n",
      "Step 139, Loss= 0.7221  h_value: 0.00015163422\n",
      "Step 140, Loss= 0.6773  h_value: 0.00019168854\n",
      "Step 141, Loss= 0.6803  h_value: 0.00015068054\n",
      "Step 142, Loss= 0.6735  h_value: 0.00014686584\n",
      "Step 143, Loss= 0.6696  h_value: 0.00012588501\n",
      "Step 144, Loss= 0.6831  h_value: 0.0001373291\n",
      "Step 145, Loss= 0.6846  h_value: 0.00012588501\n",
      "Step 146, Loss= 0.6895  h_value: 0.00014781952\n",
      "Step 147, Loss= 0.6679  h_value: 0.00012588501\n",
      "Step 148, Loss= 0.6688  h_value: 0.00012397766\n",
      "Early stopping\n",
      "INFO:tensorflow:Restoring parameters from tmp.ckpt\n",
      "[[0.    0.004 0.019 0.012 0.003 0.027 0.021 0.009 0.058 0.053]\n",
      " [0.009 0.    0.059 0.062 0.067 0.005 0.009 0.008 0.004 0.013]\n",
      " [0.099 0.03  0.    0.026 0.019 0.124 0.006 0.007 0.008 0.03 ]\n",
      " [0.088 0.037 0.027 0.    0.023 0.008 0.107 0.108 0.007 0.024]\n",
      " [0.011 0.04  0.022 0.025 0.    0.005 0.008 0.005 0.003 0.018]\n",
      " [0.027 0.005 0.018 0.002 0.005 0.    0.009 0.005 0.008 0.013]\n",
      " [0.017 0.007 0.01  0.014 0.004 0.003 0.    0.009 0.007 0.136]\n",
      " [0.017 0.002 0.005 0.013 0.006 0.011 0.012 0.    0.01  0.008]\n",
      " [0.026 0.007 0.005 0.002 0.004 0.008 0.011 0.007 0.    0.01 ]\n",
      " [0.034 0.006 0.006 0.004 0.004 0.006 0.081 0.004 0.005 0.   ]]\n",
      "MSE =  0.6344203747196591\n",
      "0.6412120348516833 0.015689273795756176\n",
      "fold =  10\n",
      "******* Doing dataset size =  5000 ****************\n",
      "Destructor Called... Cleaning up\n",
      "Step 1, Loss= 1.9841  h_value: 0.0005245209\n",
      "Step 2, Loss= 0.7396  h_value: 0.00025463104\n",
      "Step 3, Loss= 0.7158  h_value: 0.00019741058\n",
      "Step 4, Loss= 0.6937  h_value: 0.00020980835\n",
      "Step 5, Loss= 0.7160  h_value: 0.00027179718\n",
      "Step 6, Loss= 0.7080  h_value: 0.00022220612\n",
      "Step 7, Loss= 0.6951  h_value: 0.0002155304\n",
      "Step 8, Loss= 0.6897  h_value: 0.00023937225\n",
      "Step 9, Loss= 0.6937  h_value: 0.0002117157\n",
      "Step 10, Loss= 0.6990  h_value: 0.00024318695\n",
      "Step 11, Loss= 0.6995  h_value: 0.00022888184\n",
      "Step 12, Loss= 0.7056  h_value: 0.00023365021\n",
      "Step 13, Loss= 0.6939  h_value: 0.00027561188\n",
      "Step 14, Loss= 0.6995  h_value: 0.0002527237\n",
      "Step 15, Loss= 0.7002  h_value: 0.0002450943\n",
      "Step 16, Loss= 0.6855  h_value: 0.00029850006\n",
      "Step 17, Loss= 0.6837  h_value: 0.0002593994\n",
      "Step 18, Loss= 0.6816  h_value: 0.00026988983\n",
      "Step 19, Loss= 0.6785  h_value: 0.00026130676\n",
      "Step 20, Loss= 0.6871  h_value: 0.0002641678\n",
      "Step 21, Loss= 0.6812  h_value: 0.0002746582\n",
      "Step 22, Loss= 0.6853  h_value: 0.00026798248\n",
      "Step 23, Loss= 0.6808  h_value: 0.00026512146\n",
      "Step 24, Loss= 0.6830  h_value: 0.000207901\n",
      "Step 25, Loss= 0.7041  h_value: 0.00027656555\n",
      "Step 26, Loss= 0.6851  h_value: 0.00023555756\n",
      "Step 27, Loss= 0.6838  h_value: 0.00020885468\n",
      "Step 28, Loss= 0.6809  h_value: 0.00022888184\n",
      "Step 29, Loss= 0.6769  h_value: 0.00022506714\n",
      "Step 30, Loss= 0.6864  h_value: 0.00022125244\n",
      "Step 31, Loss= 0.6791  h_value: 0.00019645691\n",
      "Step 32, Loss= 0.7191  h_value: 0.0001821518\n",
      "Step 33, Loss= 0.6761  h_value: 0.00018310547\n",
      "Step 34, Loss= 0.6883  h_value: 0.00016880035\n",
      "Step 35, Loss= 0.6774  h_value: 0.00017642975\n",
      "Step 36, Loss= 0.6729  h_value: 0.00022029877\n",
      "Step 37, Loss= 0.6730  h_value: 0.0002040863\n",
      "Step 38, Loss= 0.6804  h_value: 0.00022411346\n",
      "Step 39, Loss= 0.6943  h_value: 0.00022125244\n",
      "Step 40, Loss= 0.6775  h_value: 0.00015640259\n",
      "Step 41, Loss= 0.6776  h_value: 0.00018882751\n",
      "Step 42, Loss= 0.6887  h_value: 0.00019741058\n",
      "Step 43, Loss= 0.6703  h_value: 0.0001783371\n",
      "Step 44, Loss= 0.6871  h_value: 0.00019836426\n",
      "Step 45, Loss= 0.6860  h_value: 0.00017547607\n",
      "Step 46, Loss= 0.6842  h_value: 0.0001745224\n",
      "Step 47, Loss= 0.6809  h_value: 0.00015068054\n",
      "Step 48, Loss= 0.6862  h_value: 0.00016975403\n",
      "Step 49, Loss= 0.6920  h_value: 0.00022125244\n",
      "Step 50, Loss= 0.6865  h_value: 0.0002040863\n",
      "Saving model\n",
      "Step 51, Loss= 0.6898  h_value: 0.00016880035\n",
      "Saving model\n",
      "Step 52, Loss= 0.6728  h_value: 0.00019931793\n",
      "Step 53, Loss= 0.6816  h_value: 0.00017166138\n",
      "Step 54, Loss= 0.6853  h_value: 0.00016784668\n",
      "Saving model\n",
      "Step 55, Loss= 0.6723  h_value: 0.00016593933\n",
      "Step 56, Loss= 0.6803  h_value: 0.00017356873\n",
      "Step 57, Loss= 0.6850  h_value: 0.00014972687\n",
      "Saving model\n",
      "Step 58, Loss= 0.6761  h_value: 0.00014972687\n",
      "Step 59, Loss= 0.6779  h_value: 0.00015163422\n",
      "Step 60, Loss= 0.6755  h_value: 0.00015449524\n",
      "Step 61, Loss= 0.6794  h_value: 0.00015449524\n",
      "Step 62, Loss= 0.6793  h_value: 0.00014686584\n",
      "Saving model\n",
      "Step 63, Loss= 0.6774  h_value: 0.0001487732\n",
      "Step 64, Loss= 0.6872  h_value: 0.0002002716\n",
      "Step 65, Loss= 0.6780  h_value: 0.00016593933\n",
      "Step 66, Loss= 0.6733  h_value: 0.00017166138\n",
      "Saving model\n",
      "Step 67, Loss= 0.6744  h_value: 0.00016212463\n",
      "Step 68, Loss= 0.6740  h_value: 0.0001783371\n",
      "Step 69, Loss= 0.6768  h_value: 0.00015068054\n",
      "Step 70, Loss= 0.6962  h_value: 0.00013542175\n",
      "Step 71, Loss= 0.6950  h_value: 0.0001487732\n",
      "Step 72, Loss= 0.6811  h_value: 0.0001373291\n",
      "Saving model\n",
      "Step 73, Loss= 0.6731  h_value: 0.00015449524\n",
      "Step 74, Loss= 0.6925  h_value: 0.00015640259\n",
      "Step 75, Loss= 0.6836  h_value: 0.00015830994\n",
      "Step 76, Loss= 0.6768  h_value: 0.00013256073\n",
      "Step 77, Loss= 0.6861  h_value: 0.00015830994\n",
      "Step 78, Loss= 0.6809  h_value: 0.00015449524\n",
      "Step 79, Loss= 0.6951  h_value: 0.00012779236\n",
      "Step 80, Loss= 0.6838  h_value: 0.0001487732\n",
      "Step 81, Loss= 0.6766  h_value: 0.00015163422\n",
      "Step 82, Loss= 0.6857  h_value: 0.00015258789\n",
      "Step 83, Loss= 0.7020  h_value: 0.00011253357\n",
      "Step 84, Loss= 0.6795  h_value: 0.0001296997\n",
      "Step 85, Loss= 0.6770  h_value: 0.00011444092\n",
      "Step 86, Loss= 0.6755  h_value: 0.00015163422\n",
      "Step 87, Loss= 0.6722  h_value: 0.00014305115\n",
      "Step 88, Loss= 0.6873  h_value: 0.00012397766\n",
      "Step 89, Loss= 0.6848  h_value: 0.00010967255\n",
      "Step 90, Loss= 0.6824  h_value: 0.00013446808\n",
      "Saving model\n",
      "Step 91, Loss= 0.6676  h_value: 0.00012493134\n",
      "Step 92, Loss= 0.6954  h_value: 0.00014305115\n",
      "Step 93, Loss= 0.6739  h_value: 0.00013065338\n",
      "Step 94, Loss= 0.6732  h_value: 0.00014019012\n",
      "Step 95, Loss= 0.6945  h_value: 0.00010871887\n",
      "Step 96, Loss= 0.6781  h_value: 0.00011253357\n",
      "Step 97, Loss= 0.6795  h_value: 0.00012874603\n",
      "Step 98, Loss= 0.6759  h_value: 0.0001335144\n",
      "Step 99, Loss= 0.6737  h_value: 0.00014972687\n",
      "Step 100, Loss= 0.7004  h_value: 0.00014591217\n",
      "Step 101, Loss= 0.6787  h_value: 0.00012588501\n",
      "Step 102, Loss= 0.6853  h_value: 0.00013065338\n",
      "Step 103, Loss= 0.6823  h_value: 0.00013256073\n",
      "Step 104, Loss= 0.6744  h_value: 0.00012588501\n",
      "Step 105, Loss= 0.6858  h_value: 0.00012111664\n",
      "Step 106, Loss= 0.6893  h_value: 0.00014209747\n",
      "Step 107, Loss= 0.6826  h_value: 0.0001411438\n",
      "Step 108, Loss= 0.6797  h_value: 0.00015926361\n",
      "Step 109, Loss= 0.6914  h_value: 0.00012683868\n",
      "Step 110, Loss= 0.6763  h_value: 0.00012302399\n",
      "Step 111, Loss= 0.6783  h_value: 0.000104904175\n",
      "Step 112, Loss= 0.6775  h_value: 0.00011920929\n",
      "Step 113, Loss= 0.6741  h_value: 0.00011062622\n",
      "Step 114, Loss= 0.6862  h_value: 0.00012111664\n",
      "Step 115, Loss= 0.6841  h_value: 0.00011539459\n",
      "Step 116, Loss= 0.6805  h_value: 0.000113487244\n",
      "Step 117, Loss= 0.7025  h_value: 9.8228455e-05\n",
      "Step 118, Loss= 0.6845  h_value: 9.6321106e-05\n",
      "Step 119, Loss= 0.6777  h_value: 0.00013446808\n",
      "Step 120, Loss= 0.6829  h_value: 0.00011730194\n",
      "Step 121, Loss= 0.6841  h_value: 0.00010871887\n",
      "Early stopping\n",
      "INFO:tensorflow:Restoring parameters from tmp.ckpt\n",
      "[[0.    0.002 0.017 0.011 0.008 0.029 0.021 0.014 0.052 0.05 ]\n",
      " [0.006 0.    0.068 0.059 0.067 0.005 0.008 0.008 0.003 0.005]\n",
      " [0.095 0.032 0.    0.019 0.024 0.127 0.007 0.003 0.003 0.008]\n",
      " [0.071 0.04  0.025 0.    0.032 0.009 0.094 0.099 0.    0.008]\n",
      " [0.005 0.036 0.019 0.021 0.    0.005 0.008 0.005 0.001 0.011]\n",
      " [0.028 0.004 0.017 0.007 0.005 0.    0.006 0.005 0.009 0.004]\n",
      " [0.016 0.007 0.003 0.011 0.007 0.004 0.    0.014 0.01  0.131]\n",
      " [0.022 0.008 0.004 0.015 0.005 0.015 0.018 0.    0.005 0.005]\n",
      " [0.026 0.005 0.002 0.002 0.007 0.009 0.007 0.001 0.    0.007]\n",
      " [0.02  0.004 0.003 0.004 0.003 0.008 0.073 0.004 0.008 0.   ]]\n",
      "MSE =  0.6426353075785999\n",
      "0.641354362124375 0.014890275164930558\n"
     ]
    }
   ],
   "source": [
    "    reg_lambda = 1\n",
    "    reg_beta = 5\n",
    "\n",
    "    fold = 0\n",
    "    REG_castle = []\n",
    "    print(\"Dataset limits are\", np.ptp(X_DAG), np.ptp(X_test), np.ptp(y_test))\n",
    "    for train_idx, val_idx in kf.split(X_DAG):\n",
    "        fold += 1\n",
    "        print(\"fold = \", fold)\n",
    "        print(\"******* Doing dataset size = \", dataset_sz , \"****************\")\n",
    "        X_train = X_DAG[train_idx]\n",
    "        y_train = np.expand_dims(X_DAG[train_idx][:,0], -1)\n",
    "        X_val = X_DAG[val_idx]\n",
    "        y_val = X_DAG[val_idx][:,0]\n",
    "\n",
    "        w_threshold = 0.3\n",
    "        castle = CASTLE(num_train = X_DAG.shape[0], num_inputs = X_DAG.shape[1], reg_lambda = reg_lambda, reg_beta = reg_beta,\n",
    "                            w_threshold = w_threshold)\n",
    "        num_nodes = np.shape(X_DAG)[1]\n",
    "        castle.fit(X_train, y_train, num_nodes, X_val, y_val, X_test, y_test)\n",
    "        W_est = castle.pred_W(X_DAG, np.expand_dims(X_DAG[:,0], -1))\n",
    "        print(W_est)\n",
    "\n",
    "        REG_castle.append(mean_squared_error(castle.pred(X_test), y_test))\n",
    "        print(\"MSE = \", mean_squared_error(castle.pred(X_test), y_test))\n",
    "\n",
    "        if fold > 1:\n",
    "            print(np.mean(REG_castle), np.std(REG_castle))\n"
   ]
  },
  {
   "cell_type": "code",
   "execution_count": 12,
   "metadata": {},
   "outputs": [
    {
     "name": "stdout",
     "output_type": "stream",
     "text": [
      "          0\n",
      "0  0.635888\n",
      "1  0.682855\n",
      "2  0.649542\n",
      "3  0.681774\n",
      "4  0.625513\n",
      "5  0.690044\n",
      "6  0.630766\n",
      "7  0.657666\n",
      "8  0.655078\n",
      "9  0.627007\n",
      "Mean=  0.654 , Sd=  0.0231\n"
     ]
    }
   ],
   "source": [
    "print(pd.DataFrame(REG_castle))\n",
    "print(\"Mean= \",\"{:.3}\".format(np.mean(REG_castle)),\", Sd= \",\"{:.3}\".format(np.std(REG_castle)))"
   ]
  },
  {
   "cell_type": "code",
   "execution_count": 9,
   "metadata": {
    "scrolled": true
   },
   "outputs": [
    {
     "name": "stdout",
     "output_type": "stream",
     "text": [
      "Step 1, Loss= 60.7300  h_value: 0.0005245209\n",
      "Step 2, Loss= 0.9112  h_value: 0.01962471\n",
      "Step 3, Loss= 0.7884  h_value: 0.013385773\n",
      "Step 4, Loss= 0.7578  h_value: 0.008406639\n",
      "Step 5, Loss= 0.7296  h_value: 0.0051727295\n",
      "Step 6, Loss= 0.7110  h_value: 0.0030460358\n",
      "Step 7, Loss= 0.7146  h_value: 0.0018310547\n",
      "Step 8, Loss= 0.7438  h_value: 0.0012083054\n",
      "Step 9, Loss= 0.7420  h_value: 0.0008249283\n",
      "Step 10, Loss= 0.7459  h_value: 0.00062179565\n",
      "Step 11, Loss= 0.7146  h_value: 0.0005016327\n",
      "Step 12, Loss= 0.7198  h_value: 0.00042438507\n",
      "Step 13, Loss= 0.7133  h_value: 0.00032615662\n",
      "Step 14, Loss= 0.7322  h_value: 0.00035953522\n",
      "Step 15, Loss= 0.7311  h_value: 0.00034236908\n",
      "Step 16, Loss= 0.7287  h_value: 0.00026893616\n",
      "Step 17, Loss= 0.7328  h_value: 0.00028896332\n",
      "Step 18, Loss= 0.7159  h_value: 0.00022411346\n",
      "Step 19, Loss= 0.7336  h_value: 0.00022697449\n",
      "Step 20, Loss= 0.7098  h_value: 0.0002155304\n",
      "Step 21, Loss= 0.7267  h_value: 0.00018978119\n",
      "Step 22, Loss= 0.7038  h_value: 0.00016784668\n",
      "Step 23, Loss= 0.6996  h_value: 0.00014781952\n",
      "Step 24, Loss= 0.7063  h_value: 0.00017738342\n",
      "Step 25, Loss= 0.7070  h_value: 0.0002040863\n",
      "Step 26, Loss= 0.7408  h_value: 0.0001707077\n",
      "Step 27, Loss= 0.7120  h_value: 0.00015449524\n",
      "Step 28, Loss= 0.6958  h_value: 0.00015544891\n",
      "Step 29, Loss= 0.7136  h_value: 0.00017166138\n",
      "Step 30, Loss= 0.6931  h_value: 0.00013637543\n",
      "Step 31, Loss= 0.6955  h_value: 0.0001707077\n",
      "Step 32, Loss= 0.6910  h_value: 0.00014400482\n",
      "Step 33, Loss= 0.6899  h_value: 0.0001335144\n",
      "Step 34, Loss= 0.7209  h_value: 0.00011920929\n",
      "Step 35, Loss= 0.6949  h_value: 0.00013160706\n",
      "Step 36, Loss= 0.7114  h_value: 0.00014400482\n",
      "Step 37, Loss= 0.7272  h_value: 0.00012683868\n",
      "Step 38, Loss= 0.6858  h_value: 0.00012874603\n",
      "Step 39, Loss= 0.7339  h_value: 0.0001449585\n",
      "Step 40, Loss= 0.7138  h_value: 0.00014686584\n",
      "Step 41, Loss= 0.6891  h_value: 0.00012397766\n",
      "Step 42, Loss= 0.7002  h_value: 0.00013446808\n",
      "Step 43, Loss= 0.6892  h_value: 0.00012588501\n",
      "Step 44, Loss= 0.6864  h_value: 0.00016117096\n",
      "Step 45, Loss= 0.6822  h_value: 0.00012302399\n",
      "Step 46, Loss= 0.6840  h_value: 0.00013160706\n",
      "Step 47, Loss= 0.7253  h_value: 0.000111579895\n",
      "Step 48, Loss= 0.6896  h_value: 0.00016212463\n",
      "Step 49, Loss= 0.6982  h_value: 0.0001335144\n",
      "Step 50, Loss= 0.7045  h_value: 0.00018882751\n",
      "Saving model\n",
      "Step 51, Loss= 0.6978  h_value: 0.00015926361\n",
      "Step 52, Loss= 0.6993  h_value: 0.00016498566\n",
      "Step 53, Loss= 0.7283  h_value: 0.00016593933\n",
      "Step 54, Loss= 0.7209  h_value: 0.00015449524\n",
      "Saving model\n",
      "Step 55, Loss= 0.6962  h_value: 0.00016117096\n",
      "Step 56, Loss= 0.6892  h_value: 0.00013637543\n",
      "Step 57, Loss= 0.7043  h_value: 0.00015354156\n",
      "Step 58, Loss= 0.6908  h_value: 0.00012397766\n",
      "Step 59, Loss= 0.6943  h_value: 0.00015926361\n",
      "Step 60, Loss= 0.7170  h_value: 0.0001783371\n",
      "Step 61, Loss= 0.6955  h_value: 0.00016784668\n",
      "Saving model\n",
      "Step 62, Loss= 0.7033  h_value: 0.00016403198\n",
      "Step 63, Loss= 0.6851  h_value: 0.00016307831\n",
      "Step 64, Loss= 0.7029  h_value: 0.0001745224\n",
      "Step 65, Loss= 0.6900  h_value: 0.00014686584\n",
      "Step 66, Loss= 0.7291  h_value: 0.00015068054\n",
      "Step 67, Loss= 0.7037  h_value: 0.00014591217\n",
      "Step 68, Loss= 0.7038  h_value: 0.0001821518\n",
      "Step 69, Loss= 0.6915  h_value: 0.00012874603\n",
      "Step 70, Loss= 0.6984  h_value: 0.00013446808\n",
      "Step 71, Loss= 0.7022  h_value: 0.00017356873\n",
      "Step 72, Loss= 0.7133  h_value: 0.000118255615\n",
      "Step 73, Loss= 0.6851  h_value: 0.00014209747\n",
      "Step 74, Loss= 0.7155  h_value: 0.00012874603\n",
      "Step 75, Loss= 0.6853  h_value: 0.0001335144\n",
      "Step 76, Loss= 0.6842  h_value: 0.00011634827\n",
      "Step 77, Loss= 0.6942  h_value: 0.00013542175\n",
      "Step 78, Loss= 0.6847  h_value: 0.00012302399\n",
      "Step 79, Loss= 0.6793  h_value: 0.0001335144\n",
      "Step 80, Loss= 0.6849  h_value: 9.727478e-05\n",
      "Step 81, Loss= 0.6843  h_value: 0.0001001358\n",
      "Step 82, Loss= 0.6871  h_value: 0.00011730194\n",
      "Step 83, Loss= 0.6966  h_value: 0.000113487244\n",
      "Step 84, Loss= 0.6861  h_value: 0.00012493134\n",
      "Step 85, Loss= 0.6889  h_value: 0.00010585785\n",
      "Step 86, Loss= 0.6909  h_value: 0.0001001358\n",
      "Step 87, Loss= 0.6876  h_value: 0.000118255615\n",
      "Step 88, Loss= 0.6865  h_value: 0.00011920929\n",
      "Step 89, Loss= 0.7043  h_value: 0.00013065338\n",
      "Step 90, Loss= 0.6970  h_value: 0.00010585785\n",
      "Step 91, Loss= 0.6898  h_value: 0.00012683868\n",
      "Step 92, Loss= 0.6926  h_value: 0.0001077652\n",
      "Early stopping\n",
      "INFO:tensorflow:Restoring parameters from tmp.ckpt\n",
      "MSE =  0.6282777236643867\n",
      "[[0.    0.006 0.015 0.01  0.008 0.051 0.055 0.018 0.046 0.027]\n",
      " [0.01  0.    0.069 0.053 0.066 0.005 0.006 0.005 0.002 0.007]\n",
      " [0.105 0.046 0.    0.056 0.043 0.133 0.008 0.006 0.002 0.004]\n",
      " [0.08  0.036 0.041 0.    0.046 0.008 0.091 0.127 0.002 0.004]\n",
      " [0.012 0.038 0.03  0.047 0.    0.004 0.005 0.006 0.002 0.006]\n",
      " [0.048 0.007 0.011 0.002 0.003 0.    0.006 0.02  0.004 0.007]\n",
      " [0.034 0.006 0.007 0.015 0.004 0.013 0.    0.029 0.004 0.152]\n",
      " [0.031 0.003 0.005 0.011 0.004 0.019 0.025 0.    0.005 0.005]\n",
      " [0.027 0.006 0.008 0.003 0.004 0.012 0.014 0.013 0.    0.006]\n",
      " [0.018 0.008 0.005 0.004 0.003 0.006 0.069 0.011 0.013 0.   ]]\n"
     ]
    }
   ],
   "source": [
    "run_full = True\n",
    "if run_full:\n",
    "    reg_lambda = 1\n",
    "    reg_beta = 5\n",
    "    w_threshold = 0.3\n",
    "    \n",
    "    scaler = StandardScaler()\n",
    "    df = scaler.fit_transform(df)\n",
    "    df_test = scaler.transform(df_test)\n",
    "\n",
    "    X_test = df_test\n",
    "    y_test = df_test[:,0]\n",
    "    X_DAG = df\n",
    "    y_DAG = np.expand_dims(X_DAG[:,0], -1)\n",
    "\n",
    "    castle = CASTLE(num_train = X_DAG.shape[0], num_inputs = X_DAG.shape[1], reg_lambda = reg_lambda, reg_beta = reg_beta,\n",
    "                            w_threshold = w_threshold)\n",
    "    num_nodes = np.shape(X_DAG)[1]\n",
    "    castle.fit(X_DAG, y_DAG, num_nodes, X_test, y_test, X_test, y_test)\n",
    "    \n",
    "    print(\"MSE = \", mean_squared_error(castle.pred(X_test), y_test))\n",
    "\n",
    "    W_est = castle.pred_W(X_DAG, np.expand_dims(X_DAG[:,0], -1))\n",
    "    print(W_est)"
   ]
  },
  {
   "cell_type": "code",
   "execution_count": 8,
   "metadata": {},
   "outputs": [
    {
     "data": {
      "text/html": [
       "<style  type=\"text/css\" >\n",
       "#T_ea03ab0c_1223_11ec_9502_0c9d92c473d6row0_col0,#T_ea03ab0c_1223_11ec_9502_0c9d92c473d6row0_col1,#T_ea03ab0c_1223_11ec_9502_0c9d92c473d6row1_col0,#T_ea03ab0c_1223_11ec_9502_0c9d92c473d6row1_col1,#T_ea03ab0c_1223_11ec_9502_0c9d92c473d6row1_col5,#T_ea03ab0c_1223_11ec_9502_0c9d92c473d6row1_col6,#T_ea03ab0c_1223_11ec_9502_0c9d92c473d6row1_col7,#T_ea03ab0c_1223_11ec_9502_0c9d92c473d6row1_col8,#T_ea03ab0c_1223_11ec_9502_0c9d92c473d6row1_col9,#T_ea03ab0c_1223_11ec_9502_0c9d92c473d6row2_col2,#T_ea03ab0c_1223_11ec_9502_0c9d92c473d6row2_col6,#T_ea03ab0c_1223_11ec_9502_0c9d92c473d6row2_col7,#T_ea03ab0c_1223_11ec_9502_0c9d92c473d6row2_col8,#T_ea03ab0c_1223_11ec_9502_0c9d92c473d6row2_col9,#T_ea03ab0c_1223_11ec_9502_0c9d92c473d6row3_col3,#T_ea03ab0c_1223_11ec_9502_0c9d92c473d6row3_col5,#T_ea03ab0c_1223_11ec_9502_0c9d92c473d6row3_col8,#T_ea03ab0c_1223_11ec_9502_0c9d92c473d6row3_col9,#T_ea03ab0c_1223_11ec_9502_0c9d92c473d6row4_col0,#T_ea03ab0c_1223_11ec_9502_0c9d92c473d6row4_col4,#T_ea03ab0c_1223_11ec_9502_0c9d92c473d6row4_col5,#T_ea03ab0c_1223_11ec_9502_0c9d92c473d6row4_col6,#T_ea03ab0c_1223_11ec_9502_0c9d92c473d6row4_col7,#T_ea03ab0c_1223_11ec_9502_0c9d92c473d6row4_col8,#T_ea03ab0c_1223_11ec_9502_0c9d92c473d6row4_col9,#T_ea03ab0c_1223_11ec_9502_0c9d92c473d6row5_col1,#T_ea03ab0c_1223_11ec_9502_0c9d92c473d6row5_col4,#T_ea03ab0c_1223_11ec_9502_0c9d92c473d6row5_col5,#T_ea03ab0c_1223_11ec_9502_0c9d92c473d6row5_col6,#T_ea03ab0c_1223_11ec_9502_0c9d92c473d6row5_col7,#T_ea03ab0c_1223_11ec_9502_0c9d92c473d6row5_col9,#T_ea03ab0c_1223_11ec_9502_0c9d92c473d6row6_col2,#T_ea03ab0c_1223_11ec_9502_0c9d92c473d6row6_col5,#T_ea03ab0c_1223_11ec_9502_0c9d92c473d6row6_col6,#T_ea03ab0c_1223_11ec_9502_0c9d92c473d6row7_col2,#T_ea03ab0c_1223_11ec_9502_0c9d92c473d6row7_col4,#T_ea03ab0c_1223_11ec_9502_0c9d92c473d6row7_col7,#T_ea03ab0c_1223_11ec_9502_0c9d92c473d6row7_col8,#T_ea03ab0c_1223_11ec_9502_0c9d92c473d6row7_col9,#T_ea03ab0c_1223_11ec_9502_0c9d92c473d6row8_col2,#T_ea03ab0c_1223_11ec_9502_0c9d92c473d6row8_col3,#T_ea03ab0c_1223_11ec_9502_0c9d92c473d6row8_col5,#T_ea03ab0c_1223_11ec_9502_0c9d92c473d6row8_col6,#T_ea03ab0c_1223_11ec_9502_0c9d92c473d6row8_col7,#T_ea03ab0c_1223_11ec_9502_0c9d92c473d6row8_col8,#T_ea03ab0c_1223_11ec_9502_0c9d92c473d6row8_col9,#T_ea03ab0c_1223_11ec_9502_0c9d92c473d6row9_col1,#T_ea03ab0c_1223_11ec_9502_0c9d92c473d6row9_col2,#T_ea03ab0c_1223_11ec_9502_0c9d92c473d6row9_col3,#T_ea03ab0c_1223_11ec_9502_0c9d92c473d6row9_col4,#T_ea03ab0c_1223_11ec_9502_0c9d92c473d6row9_col5,#T_ea03ab0c_1223_11ec_9502_0c9d92c473d6row9_col7,#T_ea03ab0c_1223_11ec_9502_0c9d92c473d6row9_col9{\n",
       "            background-color:  #f0f1f3;\n",
       "            color:  #000000;\n",
       "        }#T_ea03ab0c_1223_11ec_9502_0c9d92c473d6row0_col2,#T_ea03ab0c_1223_11ec_9502_0c9d92c473d6row5_col2{\n",
       "            background-color:  #c8d3de;\n",
       "            color:  #000000;\n",
       "        }#T_ea03ab0c_1223_11ec_9502_0c9d92c473d6row0_col3,#T_ea03ab0c_1223_11ec_9502_0c9d92c473d6row6_col3{\n",
       "            background-color:  #d9e0e7;\n",
       "            color:  #000000;\n",
       "        }#T_ea03ab0c_1223_11ec_9502_0c9d92c473d6row0_col4,#T_ea03ab0c_1223_11ec_9502_0c9d92c473d6row5_col3,#T_ea03ab0c_1223_11ec_9502_0c9d92c473d6row7_col5{\n",
       "            background-color:  #ebedf0;\n",
       "            color:  #000000;\n",
       "        }#T_ea03ab0c_1223_11ec_9502_0c9d92c473d6row0_col5{\n",
       "            background-color:  #ced7e1;\n",
       "            color:  #000000;\n",
       "        }#T_ea03ab0c_1223_11ec_9502_0c9d92c473d6row0_col6{\n",
       "            background-color:  #d0d9e2;\n",
       "            color:  #000000;\n",
       "        }#T_ea03ab0c_1223_11ec_9502_0c9d92c473d6row0_col7,#T_ea03ab0c_1223_11ec_9502_0c9d92c473d6row6_col7{\n",
       "            background-color:  #e5e9ed;\n",
       "            color:  #000000;\n",
       "        }#T_ea03ab0c_1223_11ec_9502_0c9d92c473d6row0_col8,#T_ea03ab0c_1223_11ec_9502_0c9d92c473d6row1_col2,#T_ea03ab0c_1223_11ec_9502_0c9d92c473d6row1_col3,#T_ea03ab0c_1223_11ec_9502_0c9d92c473d6row1_col4,#T_ea03ab0c_1223_11ec_9502_0c9d92c473d6row2_col0,#T_ea03ab0c_1223_11ec_9502_0c9d92c473d6row2_col5,#T_ea03ab0c_1223_11ec_9502_0c9d92c473d6row3_col1,#T_ea03ab0c_1223_11ec_9502_0c9d92c473d6row3_col6,#T_ea03ab0c_1223_11ec_9502_0c9d92c473d6row3_col7,#T_ea03ab0c_1223_11ec_9502_0c9d92c473d6row6_col9{\n",
       "            background-color:  #023f75;\n",
       "            color:  #f1f1f1;\n",
       "        }#T_ea03ab0c_1223_11ec_9502_0c9d92c473d6row0_col9{\n",
       "            background-color:  #a5b9cb;\n",
       "            color:  #000000;\n",
       "        }#T_ea03ab0c_1223_11ec_9502_0c9d92c473d6row2_col1{\n",
       "            background-color:  #376791;\n",
       "            color:  #f1f1f1;\n",
       "        }#T_ea03ab0c_1223_11ec_9502_0c9d92c473d6row2_col3{\n",
       "            background-color:  #b5c5d4;\n",
       "            color:  #000000;\n",
       "        }#T_ea03ab0c_1223_11ec_9502_0c9d92c473d6row2_col4{\n",
       "            background-color:  #acbecf;\n",
       "            color:  #000000;\n",
       "        }#T_ea03ab0c_1223_11ec_9502_0c9d92c473d6row3_col0{\n",
       "            background-color:  #457198;\n",
       "            color:  #000000;\n",
       "        }#T_ea03ab0c_1223_11ec_9502_0c9d92c473d6row3_col2{\n",
       "            background-color:  #a9bccd;\n",
       "            color:  #000000;\n",
       "        }#T_ea03ab0c_1223_11ec_9502_0c9d92c473d6row3_col4{\n",
       "            background-color:  #8ca6be;\n",
       "            color:  #000000;\n",
       "        }#T_ea03ab0c_1223_11ec_9502_0c9d92c473d6row4_col1{\n",
       "            background-color:  #1c5383;\n",
       "            color:  #f1f1f1;\n",
       "        }#T_ea03ab0c_1223_11ec_9502_0c9d92c473d6row4_col2{\n",
       "            background-color:  #c1ceda;\n",
       "            color:  #000000;\n",
       "        }#T_ea03ab0c_1223_11ec_9502_0c9d92c473d6row4_col3{\n",
       "            background-color:  #adbfcf;\n",
       "            color:  #000000;\n",
       "        }#T_ea03ab0c_1223_11ec_9502_0c9d92c473d6row5_col0{\n",
       "            background-color:  #bdcbd8;\n",
       "            color:  #000000;\n",
       "        }#T_ea03ab0c_1223_11ec_9502_0c9d92c473d6row5_col8{\n",
       "            background-color:  #dde3e9;\n",
       "            color:  #000000;\n",
       "        }#T_ea03ab0c_1223_11ec_9502_0c9d92c473d6row6_col0{\n",
       "            background-color:  #dee3e9;\n",
       "            color:  #000000;\n",
       "        }#T_ea03ab0c_1223_11ec_9502_0c9d92c473d6row6_col1{\n",
       "            background-color:  #dce2e8;\n",
       "            color:  #000000;\n",
       "        }#T_ea03ab0c_1223_11ec_9502_0c9d92c473d6row6_col4,#T_ea03ab0c_1223_11ec_9502_0c9d92c473d6row8_col4{\n",
       "            background-color:  #eff0f2;\n",
       "            color:  #000000;\n",
       "        }#T_ea03ab0c_1223_11ec_9502_0c9d92c473d6row6_col8,#T_ea03ab0c_1223_11ec_9502_0c9d92c473d6row7_col6{\n",
       "            background-color:  #d8dfe6;\n",
       "            color:  #000000;\n",
       "        }#T_ea03ab0c_1223_11ec_9502_0c9d92c473d6row7_col0{\n",
       "            background-color:  #cdd7e0;\n",
       "            color:  #000000;\n",
       "        }#T_ea03ab0c_1223_11ec_9502_0c9d92c473d6row7_col1{\n",
       "            background-color:  #d5dde5;\n",
       "            color:  #000000;\n",
       "        }#T_ea03ab0c_1223_11ec_9502_0c9d92c473d6row7_col3{\n",
       "            background-color:  #c7d2dd;\n",
       "            color:  #000000;\n",
       "        }#T_ea03ab0c_1223_11ec_9502_0c9d92c473d6row8_col0{\n",
       "            background-color:  #c3cfdb;\n",
       "            color:  #000000;\n",
       "        }#T_ea03ab0c_1223_11ec_9502_0c9d92c473d6row8_col1{\n",
       "            background-color:  #e9ecef;\n",
       "            color:  #000000;\n",
       "        }#T_ea03ab0c_1223_11ec_9502_0c9d92c473d6row9_col0{\n",
       "            background-color:  #d3dbe3;\n",
       "            color:  #000000;\n",
       "        }#T_ea03ab0c_1223_11ec_9502_0c9d92c473d6row9_col6{\n",
       "            background-color:  #3d6c94;\n",
       "            color:  #f1f1f1;\n",
       "        }#T_ea03ab0c_1223_11ec_9502_0c9d92c473d6row9_col8{\n",
       "            background-color:  #e2e6eb;\n",
       "            color:  #000000;\n",
       "        }</style><table id=\"T_ea03ab0c_1223_11ec_9502_0c9d92c473d6\" ><thead>    <tr>        <th class=\"blank level0\" ></th>        <th class=\"col_heading level0 col0\" >0</th>        <th class=\"col_heading level0 col1\" >1</th>        <th class=\"col_heading level0 col2\" >2</th>        <th class=\"col_heading level0 col3\" >3</th>        <th class=\"col_heading level0 col4\" >4</th>        <th class=\"col_heading level0 col5\" >5</th>        <th class=\"col_heading level0 col6\" >6</th>        <th class=\"col_heading level0 col7\" >7</th>        <th class=\"col_heading level0 col8\" >8</th>        <th class=\"col_heading level0 col9\" >9</th>    </tr></thead><tbody>\n",
       "                <tr>\n",
       "                        <th id=\"T_ea03ab0c_1223_11ec_9502_0c9d92c473d6level0_row0\" class=\"row_heading level0 row0\" >0</th>\n",
       "                        <td id=\"T_ea03ab0c_1223_11ec_9502_0c9d92c473d6row0_col0\" class=\"data row0 col0\" >0.0</td>\n",
       "                        <td id=\"T_ea03ab0c_1223_11ec_9502_0c9d92c473d6row0_col1\" class=\"data row0 col1\" >0.002</td>\n",
       "                        <td id=\"T_ea03ab0c_1223_11ec_9502_0c9d92c473d6row0_col2\" class=\"data row0 col2\" >0.017</td>\n",
       "                        <td id=\"T_ea03ab0c_1223_11ec_9502_0c9d92c473d6row0_col3\" class=\"data row0 col3\" >0.011</td>\n",
       "                        <td id=\"T_ea03ab0c_1223_11ec_9502_0c9d92c473d6row0_col4\" class=\"data row0 col4\" >0.008</td>\n",
       "                        <td id=\"T_ea03ab0c_1223_11ec_9502_0c9d92c473d6row0_col5\" class=\"data row0 col5\" >0.029</td>\n",
       "                        <td id=\"T_ea03ab0c_1223_11ec_9502_0c9d92c473d6row0_col6\" class=\"data row0 col6\" >0.021</td>\n",
       "                        <td id=\"T_ea03ab0c_1223_11ec_9502_0c9d92c473d6row0_col7\" class=\"data row0 col7\" >0.014</td>\n",
       "                        <td id=\"T_ea03ab0c_1223_11ec_9502_0c9d92c473d6row0_col8\" class=\"data row0 col8\" >0.052</td>\n",
       "                        <td id=\"T_ea03ab0c_1223_11ec_9502_0c9d92c473d6row0_col9\" class=\"data row0 col9\" >0.05</td>\n",
       "            </tr>\n",
       "            <tr>\n",
       "                        <th id=\"T_ea03ab0c_1223_11ec_9502_0c9d92c473d6level0_row1\" class=\"row_heading level0 row1\" >1</th>\n",
       "                        <td id=\"T_ea03ab0c_1223_11ec_9502_0c9d92c473d6row1_col0\" class=\"data row1 col0\" >0.006</td>\n",
       "                        <td id=\"T_ea03ab0c_1223_11ec_9502_0c9d92c473d6row1_col1\" class=\"data row1 col1\" >0.0</td>\n",
       "                        <td id=\"T_ea03ab0c_1223_11ec_9502_0c9d92c473d6row1_col2\" class=\"data row1 col2\" >0.068</td>\n",
       "                        <td id=\"T_ea03ab0c_1223_11ec_9502_0c9d92c473d6row1_col3\" class=\"data row1 col3\" >0.059</td>\n",
       "                        <td id=\"T_ea03ab0c_1223_11ec_9502_0c9d92c473d6row1_col4\" class=\"data row1 col4\" >0.067</td>\n",
       "                        <td id=\"T_ea03ab0c_1223_11ec_9502_0c9d92c473d6row1_col5\" class=\"data row1 col5\" >0.005</td>\n",
       "                        <td id=\"T_ea03ab0c_1223_11ec_9502_0c9d92c473d6row1_col6\" class=\"data row1 col6\" >0.008</td>\n",
       "                        <td id=\"T_ea03ab0c_1223_11ec_9502_0c9d92c473d6row1_col7\" class=\"data row1 col7\" >0.008</td>\n",
       "                        <td id=\"T_ea03ab0c_1223_11ec_9502_0c9d92c473d6row1_col8\" class=\"data row1 col8\" >0.003</td>\n",
       "                        <td id=\"T_ea03ab0c_1223_11ec_9502_0c9d92c473d6row1_col9\" class=\"data row1 col9\" >0.005</td>\n",
       "            </tr>\n",
       "            <tr>\n",
       "                        <th id=\"T_ea03ab0c_1223_11ec_9502_0c9d92c473d6level0_row2\" class=\"row_heading level0 row2\" >2</th>\n",
       "                        <td id=\"T_ea03ab0c_1223_11ec_9502_0c9d92c473d6row2_col0\" class=\"data row2 col0\" >0.095</td>\n",
       "                        <td id=\"T_ea03ab0c_1223_11ec_9502_0c9d92c473d6row2_col1\" class=\"data row2 col1\" >0.032</td>\n",
       "                        <td id=\"T_ea03ab0c_1223_11ec_9502_0c9d92c473d6row2_col2\" class=\"data row2 col2\" >0.0</td>\n",
       "                        <td id=\"T_ea03ab0c_1223_11ec_9502_0c9d92c473d6row2_col3\" class=\"data row2 col3\" >0.019</td>\n",
       "                        <td id=\"T_ea03ab0c_1223_11ec_9502_0c9d92c473d6row2_col4\" class=\"data row2 col4\" >0.024</td>\n",
       "                        <td id=\"T_ea03ab0c_1223_11ec_9502_0c9d92c473d6row2_col5\" class=\"data row2 col5\" >0.127</td>\n",
       "                        <td id=\"T_ea03ab0c_1223_11ec_9502_0c9d92c473d6row2_col6\" class=\"data row2 col6\" >0.007</td>\n",
       "                        <td id=\"T_ea03ab0c_1223_11ec_9502_0c9d92c473d6row2_col7\" class=\"data row2 col7\" >0.003</td>\n",
       "                        <td id=\"T_ea03ab0c_1223_11ec_9502_0c9d92c473d6row2_col8\" class=\"data row2 col8\" >0.003</td>\n",
       "                        <td id=\"T_ea03ab0c_1223_11ec_9502_0c9d92c473d6row2_col9\" class=\"data row2 col9\" >0.008</td>\n",
       "            </tr>\n",
       "            <tr>\n",
       "                        <th id=\"T_ea03ab0c_1223_11ec_9502_0c9d92c473d6level0_row3\" class=\"row_heading level0 row3\" >3</th>\n",
       "                        <td id=\"T_ea03ab0c_1223_11ec_9502_0c9d92c473d6row3_col0\" class=\"data row3 col0\" >0.071</td>\n",
       "                        <td id=\"T_ea03ab0c_1223_11ec_9502_0c9d92c473d6row3_col1\" class=\"data row3 col1\" >0.04</td>\n",
       "                        <td id=\"T_ea03ab0c_1223_11ec_9502_0c9d92c473d6row3_col2\" class=\"data row3 col2\" >0.025</td>\n",
       "                        <td id=\"T_ea03ab0c_1223_11ec_9502_0c9d92c473d6row3_col3\" class=\"data row3 col3\" >0.0</td>\n",
       "                        <td id=\"T_ea03ab0c_1223_11ec_9502_0c9d92c473d6row3_col4\" class=\"data row3 col4\" >0.032</td>\n",
       "                        <td id=\"T_ea03ab0c_1223_11ec_9502_0c9d92c473d6row3_col5\" class=\"data row3 col5\" >0.009</td>\n",
       "                        <td id=\"T_ea03ab0c_1223_11ec_9502_0c9d92c473d6row3_col6\" class=\"data row3 col6\" >0.094</td>\n",
       "                        <td id=\"T_ea03ab0c_1223_11ec_9502_0c9d92c473d6row3_col7\" class=\"data row3 col7\" >0.099</td>\n",
       "                        <td id=\"T_ea03ab0c_1223_11ec_9502_0c9d92c473d6row3_col8\" class=\"data row3 col8\" >0.0</td>\n",
       "                        <td id=\"T_ea03ab0c_1223_11ec_9502_0c9d92c473d6row3_col9\" class=\"data row3 col9\" >0.008</td>\n",
       "            </tr>\n",
       "            <tr>\n",
       "                        <th id=\"T_ea03ab0c_1223_11ec_9502_0c9d92c473d6level0_row4\" class=\"row_heading level0 row4\" >4</th>\n",
       "                        <td id=\"T_ea03ab0c_1223_11ec_9502_0c9d92c473d6row4_col0\" class=\"data row4 col0\" >0.005</td>\n",
       "                        <td id=\"T_ea03ab0c_1223_11ec_9502_0c9d92c473d6row4_col1\" class=\"data row4 col1\" >0.036</td>\n",
       "                        <td id=\"T_ea03ab0c_1223_11ec_9502_0c9d92c473d6row4_col2\" class=\"data row4 col2\" >0.019</td>\n",
       "                        <td id=\"T_ea03ab0c_1223_11ec_9502_0c9d92c473d6row4_col3\" class=\"data row4 col3\" >0.021</td>\n",
       "                        <td id=\"T_ea03ab0c_1223_11ec_9502_0c9d92c473d6row4_col4\" class=\"data row4 col4\" >0.0</td>\n",
       "                        <td id=\"T_ea03ab0c_1223_11ec_9502_0c9d92c473d6row4_col5\" class=\"data row4 col5\" >0.005</td>\n",
       "                        <td id=\"T_ea03ab0c_1223_11ec_9502_0c9d92c473d6row4_col6\" class=\"data row4 col6\" >0.008</td>\n",
       "                        <td id=\"T_ea03ab0c_1223_11ec_9502_0c9d92c473d6row4_col7\" class=\"data row4 col7\" >0.005</td>\n",
       "                        <td id=\"T_ea03ab0c_1223_11ec_9502_0c9d92c473d6row4_col8\" class=\"data row4 col8\" >0.001</td>\n",
       "                        <td id=\"T_ea03ab0c_1223_11ec_9502_0c9d92c473d6row4_col9\" class=\"data row4 col9\" >0.011</td>\n",
       "            </tr>\n",
       "            <tr>\n",
       "                        <th id=\"T_ea03ab0c_1223_11ec_9502_0c9d92c473d6level0_row5\" class=\"row_heading level0 row5\" >5</th>\n",
       "                        <td id=\"T_ea03ab0c_1223_11ec_9502_0c9d92c473d6row5_col0\" class=\"data row5 col0\" >0.028</td>\n",
       "                        <td id=\"T_ea03ab0c_1223_11ec_9502_0c9d92c473d6row5_col1\" class=\"data row5 col1\" >0.004</td>\n",
       "                        <td id=\"T_ea03ab0c_1223_11ec_9502_0c9d92c473d6row5_col2\" class=\"data row5 col2\" >0.017</td>\n",
       "                        <td id=\"T_ea03ab0c_1223_11ec_9502_0c9d92c473d6row5_col3\" class=\"data row5 col3\" >0.007</td>\n",
       "                        <td id=\"T_ea03ab0c_1223_11ec_9502_0c9d92c473d6row5_col4\" class=\"data row5 col4\" >0.005</td>\n",
       "                        <td id=\"T_ea03ab0c_1223_11ec_9502_0c9d92c473d6row5_col5\" class=\"data row5 col5\" >0.0</td>\n",
       "                        <td id=\"T_ea03ab0c_1223_11ec_9502_0c9d92c473d6row5_col6\" class=\"data row5 col6\" >0.006</td>\n",
       "                        <td id=\"T_ea03ab0c_1223_11ec_9502_0c9d92c473d6row5_col7\" class=\"data row5 col7\" >0.005</td>\n",
       "                        <td id=\"T_ea03ab0c_1223_11ec_9502_0c9d92c473d6row5_col8\" class=\"data row5 col8\" >0.009</td>\n",
       "                        <td id=\"T_ea03ab0c_1223_11ec_9502_0c9d92c473d6row5_col9\" class=\"data row5 col9\" >0.004</td>\n",
       "            </tr>\n",
       "            <tr>\n",
       "                        <th id=\"T_ea03ab0c_1223_11ec_9502_0c9d92c473d6level0_row6\" class=\"row_heading level0 row6\" >6</th>\n",
       "                        <td id=\"T_ea03ab0c_1223_11ec_9502_0c9d92c473d6row6_col0\" class=\"data row6 col0\" >0.016</td>\n",
       "                        <td id=\"T_ea03ab0c_1223_11ec_9502_0c9d92c473d6row6_col1\" class=\"data row6 col1\" >0.007</td>\n",
       "                        <td id=\"T_ea03ab0c_1223_11ec_9502_0c9d92c473d6row6_col2\" class=\"data row6 col2\" >0.003</td>\n",
       "                        <td id=\"T_ea03ab0c_1223_11ec_9502_0c9d92c473d6row6_col3\" class=\"data row6 col3\" >0.011</td>\n",
       "                        <td id=\"T_ea03ab0c_1223_11ec_9502_0c9d92c473d6row6_col4\" class=\"data row6 col4\" >0.007</td>\n",
       "                        <td id=\"T_ea03ab0c_1223_11ec_9502_0c9d92c473d6row6_col5\" class=\"data row6 col5\" >0.004</td>\n",
       "                        <td id=\"T_ea03ab0c_1223_11ec_9502_0c9d92c473d6row6_col6\" class=\"data row6 col6\" >0.0</td>\n",
       "                        <td id=\"T_ea03ab0c_1223_11ec_9502_0c9d92c473d6row6_col7\" class=\"data row6 col7\" >0.014</td>\n",
       "                        <td id=\"T_ea03ab0c_1223_11ec_9502_0c9d92c473d6row6_col8\" class=\"data row6 col8\" >0.01</td>\n",
       "                        <td id=\"T_ea03ab0c_1223_11ec_9502_0c9d92c473d6row6_col9\" class=\"data row6 col9\" >0.131</td>\n",
       "            </tr>\n",
       "            <tr>\n",
       "                        <th id=\"T_ea03ab0c_1223_11ec_9502_0c9d92c473d6level0_row7\" class=\"row_heading level0 row7\" >7</th>\n",
       "                        <td id=\"T_ea03ab0c_1223_11ec_9502_0c9d92c473d6row7_col0\" class=\"data row7 col0\" >0.022</td>\n",
       "                        <td id=\"T_ea03ab0c_1223_11ec_9502_0c9d92c473d6row7_col1\" class=\"data row7 col1\" >0.008</td>\n",
       "                        <td id=\"T_ea03ab0c_1223_11ec_9502_0c9d92c473d6row7_col2\" class=\"data row7 col2\" >0.004</td>\n",
       "                        <td id=\"T_ea03ab0c_1223_11ec_9502_0c9d92c473d6row7_col3\" class=\"data row7 col3\" >0.015</td>\n",
       "                        <td id=\"T_ea03ab0c_1223_11ec_9502_0c9d92c473d6row7_col4\" class=\"data row7 col4\" >0.005</td>\n",
       "                        <td id=\"T_ea03ab0c_1223_11ec_9502_0c9d92c473d6row7_col5\" class=\"data row7 col5\" >0.015</td>\n",
       "                        <td id=\"T_ea03ab0c_1223_11ec_9502_0c9d92c473d6row7_col6\" class=\"data row7 col6\" >0.018</td>\n",
       "                        <td id=\"T_ea03ab0c_1223_11ec_9502_0c9d92c473d6row7_col7\" class=\"data row7 col7\" >0.0</td>\n",
       "                        <td id=\"T_ea03ab0c_1223_11ec_9502_0c9d92c473d6row7_col8\" class=\"data row7 col8\" >0.005</td>\n",
       "                        <td id=\"T_ea03ab0c_1223_11ec_9502_0c9d92c473d6row7_col9\" class=\"data row7 col9\" >0.005</td>\n",
       "            </tr>\n",
       "            <tr>\n",
       "                        <th id=\"T_ea03ab0c_1223_11ec_9502_0c9d92c473d6level0_row8\" class=\"row_heading level0 row8\" >8</th>\n",
       "                        <td id=\"T_ea03ab0c_1223_11ec_9502_0c9d92c473d6row8_col0\" class=\"data row8 col0\" >0.026</td>\n",
       "                        <td id=\"T_ea03ab0c_1223_11ec_9502_0c9d92c473d6row8_col1\" class=\"data row8 col1\" >0.005</td>\n",
       "                        <td id=\"T_ea03ab0c_1223_11ec_9502_0c9d92c473d6row8_col2\" class=\"data row8 col2\" >0.002</td>\n",
       "                        <td id=\"T_ea03ab0c_1223_11ec_9502_0c9d92c473d6row8_col3\" class=\"data row8 col3\" >0.002</td>\n",
       "                        <td id=\"T_ea03ab0c_1223_11ec_9502_0c9d92c473d6row8_col4\" class=\"data row8 col4\" >0.007</td>\n",
       "                        <td id=\"T_ea03ab0c_1223_11ec_9502_0c9d92c473d6row8_col5\" class=\"data row8 col5\" >0.009</td>\n",
       "                        <td id=\"T_ea03ab0c_1223_11ec_9502_0c9d92c473d6row8_col6\" class=\"data row8 col6\" >0.007</td>\n",
       "                        <td id=\"T_ea03ab0c_1223_11ec_9502_0c9d92c473d6row8_col7\" class=\"data row8 col7\" >0.001</td>\n",
       "                        <td id=\"T_ea03ab0c_1223_11ec_9502_0c9d92c473d6row8_col8\" class=\"data row8 col8\" >0.0</td>\n",
       "                        <td id=\"T_ea03ab0c_1223_11ec_9502_0c9d92c473d6row8_col9\" class=\"data row8 col9\" >0.007</td>\n",
       "            </tr>\n",
       "            <tr>\n",
       "                        <th id=\"T_ea03ab0c_1223_11ec_9502_0c9d92c473d6level0_row9\" class=\"row_heading level0 row9\" >9</th>\n",
       "                        <td id=\"T_ea03ab0c_1223_11ec_9502_0c9d92c473d6row9_col0\" class=\"data row9 col0\" >0.02</td>\n",
       "                        <td id=\"T_ea03ab0c_1223_11ec_9502_0c9d92c473d6row9_col1\" class=\"data row9 col1\" >0.004</td>\n",
       "                        <td id=\"T_ea03ab0c_1223_11ec_9502_0c9d92c473d6row9_col2\" class=\"data row9 col2\" >0.003</td>\n",
       "                        <td id=\"T_ea03ab0c_1223_11ec_9502_0c9d92c473d6row9_col3\" class=\"data row9 col3\" >0.004</td>\n",
       "                        <td id=\"T_ea03ab0c_1223_11ec_9502_0c9d92c473d6row9_col4\" class=\"data row9 col4\" >0.003</td>\n",
       "                        <td id=\"T_ea03ab0c_1223_11ec_9502_0c9d92c473d6row9_col5\" class=\"data row9 col5\" >0.008</td>\n",
       "                        <td id=\"T_ea03ab0c_1223_11ec_9502_0c9d92c473d6row9_col6\" class=\"data row9 col6\" >0.073</td>\n",
       "                        <td id=\"T_ea03ab0c_1223_11ec_9502_0c9d92c473d6row9_col7\" class=\"data row9 col7\" >0.004</td>\n",
       "                        <td id=\"T_ea03ab0c_1223_11ec_9502_0c9d92c473d6row9_col8\" class=\"data row9 col8\" >0.008</td>\n",
       "                        <td id=\"T_ea03ab0c_1223_11ec_9502_0c9d92c473d6row9_col9\" class=\"data row9 col9\" >0.0</td>\n",
       "            </tr>\n",
       "    </tbody></table>"
      ],
      "text/plain": [
       "<pandas.io.formats.style.Styler at 0x7f112ecbe860>"
      ]
     },
     "metadata": {},
     "output_type": "display_data"
    }
   ],
   "source": [
    "import numpy as np\n",
    "import seaborn as sns\n",
    "import pandas as pd\n",
    "\n",
    "intersection_matrix = castle.get_weights(X_train, y_train)\n",
    "cm = sns.light_palette(\"#003E74\", as_cmap=True)\n",
    "x=pd.DataFrame(intersection_matrix).round(3)\n",
    "x=x.style.background_gradient(cmap=cm, low=-0.1, high=0.01).format(\"{:.3}\")\n",
    "display(x)"
   ]
  },
  {
   "cell_type": "code",
   "execution_count": 9,
   "metadata": {},
   "outputs": [
    {
     "data": {
      "image/png": "[encoded data removed]",
      "text/plain": [
       "<Figure size 432x288 with 1 Axes>"
      ]
     },
     "metadata": {},
     "output_type": "display_data"
    }
   ],
   "source": [
    "pos=nx.planar_layout(G)\n",
    "nx.draw(G,pos)\n",
    "labels={}\n",
    "for i in range(10):\n",
    "    labels[i] = i\n",
    "nx.draw_networkx_labels(G,pos,labels,font_size=16);"
   ]
  },
  {
   "cell_type": "markdown",
   "metadata": {},
   "source": [
    "## Graph from Adjacency matrix"
   ]
  },
  {
   "cell_type": "code",
   "execution_count": null,
   "metadata": {},
   "outputs": [],
   "source": [
    "### To run only if the above code is not run\n",
    "intersection_matrix= (\n",
    "[0.0,0.002,0.017,0.021,0.005,0.045,0.035,0.007,0.053,0.055],\n",
    "[0.008,0.0,0.072,0.061,0.07,0.005,0.011,0.008,0.004,0.007],\n",
    "[0.095,0.036,0.0,0.031,0.027,0.139,0.009,0.005,0.011,0.008],\n",
    "[0.071,0.04,0.031,0.0,0.035,0.003,0.108,0.109,0.011,0.007],\n",
    "[0.013,0.045,0.022,0.027,0.0,0.008,0.011,0.004,0.007,0.005],\n",
    "[0.039,0.003,0.022,0.006,0.005,0.0,0.009,0.007,0.003,0.014],\n",
    "[0.038,0.004,0.007,0.011,0.007,0.01,0.0,0.023,0.003,0.163],\n",
    "[0.024,0.006,0.004,0.01,0.003,0.022,0.028,0.0,0.009,0.009],\n",
    "[0.026,0.004,0.006,0.002,0.009,0.004,0.015,0.005,0.0,0.014],\n",
    "[0.026,0.004,0.004,0.005,0.004,0.008,0.073,0.004,0.007,0.0]\n",
    ")\n",
    "intersection_matrix=pd.DataFrame(intersection_matrix)\n",
    "intersection_matrix=intersection_matrix.to_numpy()"
   ]
  },
  {
   "cell_type": "code",
   "execution_count": 10,
   "metadata": {},
   "outputs": [],
   "source": [
    "intersection_matrix=pd.DataFrame(intersection_matrix)\n",
    "intersection_matrix=intersection_matrix.to_numpy()"
   ]
  },
  {
   "cell_type": "code",
   "execution_count": 11,
   "metadata": {},
   "outputs": [],
   "source": [
    "G1 = nx.from_numpy_matrix(intersection_matrix,create_using=nx.DiGraph, parallel_edges=False)"
   ]
  },
  {
   "cell_type": "code",
   "execution_count": 12,
   "metadata": {},
   "outputs": [
    {
     "data": {
      "image/png": "[encoded data removed]",
      "text/plain": [
       "<Figure size 432x288 with 1 Axes>"
      ]
     },
     "metadata": {},
     "output_type": "display_data"
    }
   ],
   "source": [
    "pos=nx.circular_layout(G1)\n",
    "nx.draw(G1,pos=pos)\n",
    "labels={}\n",
    "for i in range(10):\n",
    "    labels[i] = i\n",
    "nx.draw_networkx_labels(G1,pos,labels,font_size=16);"
   ]
  },
  {
   "cell_type": "code",
   "execution_count": 36,
   "metadata": {
    "collapsed": true,
    "jupyter": {
     "outputs_hidden": true,
     "source_hidden": true
    },
    "tags": []
   },
   "outputs": [
    {
     "data": {
      "text/plain": [
       "array([[0.   , 0.002, 0.017, 0.021, 0.005, 0.045, 0.035, 0.007, 0.053, 0.055],\n",
       "       [0.   , 0.   , 0.072, 0.061, 0.07 , 0.005, 0.011, 0.008, 0.004, 0.007],\n",
       "       [0.   , 0.   , 0.   , 0.031, 0.027, 0.139, 0.009, 0.005, 0.011, 0.008],\n",
       "       [0.   , 0.   , 0.   , 0.   , 0.035, 0.003, 0.108, 0.109, 0.011, 0.007],\n",
       "       [0.   , 0.   , 0.   , 0.   , 0.   , 0.008, 0.011, 0.004, 0.007, 0.005],\n",
       "       [0.   , 0.   , 0.   , 0.   , 0.   , 0.   , 0.009, 0.007, 0.003, 0.014],\n",
       "       [0.   , 0.   , 0.   , 0.   , 0.   , 0.   , 0.   , 0.023, 0.003, 0.163],\n",
       "       [0.   , 0.   , 0.   , 0.   , 0.   , 0.   , 0.   , 0.   , 0.009, 0.009],\n",
       "       [0.   , 0.   , 0.   , 0.   , 0.   , 0.   , 0.   , 0.   , 0.   , 0.014],\n",
       "       [0.   , 0.   , 0.   , 0.   , 0.   , 0.   , 0.   , 0.   , 0.   , 0.   ]])"
      ]
     },
     "execution_count": 36,
     "metadata": {},
     "output_type": "execute_result"
    }
   ],
   "source": [
    "up_tri = np.triu(intersection_matrix)\n",
    "up_tri"
   ]
  },
  {
   "cell_type": "code",
   "execution_count": 38,
   "metadata": {
    "collapsed": true,
    "jupyter": {
     "outputs_hidden": true,
     "source_hidden": true
    }
   },
   "outputs": [
    {
     "data": {
      "text/plain": [
       "array([[0.   , 0.   , 0.   , 0.   , 0.   , 0.   , 0.   , 0.   , 0.   , 0.   ],\n",
       "       [0.008, 0.   , 0.   , 0.   , 0.   , 0.   , 0.   , 0.   , 0.   , 0.   ],\n",
       "       [0.095, 0.036, 0.   , 0.   , 0.   , 0.   , 0.   , 0.   , 0.   , 0.   ],\n",
       "       [0.071, 0.04 , 0.031, 0.   , 0.   , 0.   , 0.   , 0.   , 0.   , 0.   ],\n",
       "       [0.013, 0.045, 0.022, 0.027, 0.   , 0.   , 0.   , 0.   , 0.   , 0.   ],\n",
       "       [0.039, 0.003, 0.022, 0.006, 0.005, 0.   , 0.   , 0.   , 0.   , 0.   ],\n",
       "       [0.038, 0.004, 0.007, 0.011, 0.007, 0.01 , 0.   , 0.   , 0.   , 0.   ],\n",
       "       [0.024, 0.006, 0.004, 0.01 , 0.003, 0.022, 0.028, 0.   , 0.   , 0.   ],\n",
       "       [0.026, 0.004, 0.006, 0.002, 0.009, 0.004, 0.015, 0.005, 0.   , 0.   ],\n",
       "       [0.026, 0.004, 0.004, 0.005, 0.004, 0.008, 0.073, 0.004, 0.007, 0.   ]])"
      ]
     },
     "execution_count": 38,
     "metadata": {},
     "output_type": "execute_result"
    }
   ],
   "source": [
    "low_tri = np.tril(intersection_matrix)\n",
    "low_tri"
   ]
  },
  {
   "cell_type": "code",
   "execution_count": 39,
   "metadata": {
    "collapsed": true,
    "jupyter": {
     "outputs_hidden": true,
     "source_hidden": true
    }
   },
   "outputs": [
    {
     "data": {
      "text/plain": [
       "array([[0.   , 0.008, 0.095, 0.071, 0.013, 0.039, 0.038, 0.024, 0.026, 0.026],\n",
       "       [0.   , 0.   , 0.036, 0.04 , 0.045, 0.003, 0.004, 0.006, 0.004, 0.004],\n",
       "       [0.   , 0.   , 0.   , 0.031, 0.022, 0.022, 0.007, 0.004, 0.006, 0.004],\n",
       "       [0.   , 0.   , 0.   , 0.   , 0.027, 0.006, 0.011, 0.01 , 0.002, 0.005],\n",
       "       [0.   , 0.   , 0.   , 0.   , 0.   , 0.005, 0.007, 0.003, 0.009, 0.004],\n",
       "       [0.   , 0.   , 0.   , 0.   , 0.   , 0.   , 0.01 , 0.022, 0.004, 0.008],\n",
       "       [0.   , 0.   , 0.   , 0.   , 0.   , 0.   , 0.   , 0.028, 0.015, 0.073],\n",
       "       [0.   , 0.   , 0.   , 0.   , 0.   , 0.   , 0.   , 0.   , 0.005, 0.004],\n",
       "       [0.   , 0.   , 0.   , 0.   , 0.   , 0.   , 0.   , 0.   , 0.   , 0.007],\n",
       "       [0.   , 0.   , 0.   , 0.   , 0.   , 0.   , 0.   , 0.   , 0.   , 0.   ]])"
      ]
     },
     "execution_count": 39,
     "metadata": {},
     "output_type": "execute_result"
    }
   ],
   "source": [
    "low_tri.T"
   ]
  },
  {
   "cell_type": "code",
   "execution_count": 42,
   "metadata": {
    "collapsed": true,
    "jupyter": {
     "outputs_hidden": true,
     "source_hidden": true
    }
   },
   "outputs": [
    {
     "data": {
      "text/plain": [
       "array([[0.   , 0.008, 0.095, 0.071, 0.013, 0.045, 0.038, 0.024, 0.053, 0.055],\n",
       "       [0.   , 0.   , 0.072, 0.061, 0.07 , 0.005, 0.011, 0.008, 0.004, 0.007],\n",
       "       [0.   , 0.   , 0.   , 0.031, 0.027, 0.139, 0.009, 0.005, 0.011, 0.008],\n",
       "       [0.   , 0.   , 0.   , 0.   , 0.035, 0.006, 0.108, 0.109, 0.011, 0.007],\n",
       "       [0.   , 0.   , 0.   , 0.   , 0.   , 0.008, 0.011, 0.004, 0.009, 0.005],\n",
       "       [0.   , 0.   , 0.   , 0.   , 0.   , 0.   , 0.01 , 0.022, 0.004, 0.014],\n",
       "       [0.   , 0.   , 0.   , 0.   , 0.   , 0.   , 0.   , 0.028, 0.015, 0.163],\n",
       "       [0.   , 0.   , 0.   , 0.   , 0.   , 0.   , 0.   , 0.   , 0.009, 0.009],\n",
       "       [0.   , 0.   , 0.   , 0.   , 0.   , 0.   , 0.   , 0.   , 0.   , 0.014],\n",
       "       [0.   , 0.   , 0.   , 0.   , 0.   , 0.   , 0.   , 0.   , 0.   , 0.   ]])"
      ]
     },
     "execution_count": 42,
     "metadata": {},
     "output_type": "execute_result"
    }
   ],
   "source": [
    "np.maximum(up_tri, low_tri.T)"
   ]
  },
  {
   "cell_type": "code",
   "execution_count": 48,
   "metadata": {
    "collapsed": true,
    "jupyter": {
     "outputs_hidden": true,
     "source_hidden": true
    }
   },
   "outputs": [
    {
     "data": {
      "text/plain": [
       "array([[1, 0, 0, 0, 0, 1, 0, 0, 1, 1],\n",
       "       [1, 1, 1, 1, 1, 1, 1, 1, 1, 1],\n",
       "       [1, 1, 1, 1, 1, 1, 1, 1, 1, 1],\n",
       "       [1, 1, 1, 1, 1, 0, 1, 1, 1, 1],\n",
       "       [1, 1, 1, 1, 1, 1, 1, 1, 0, 1],\n",
       "       [1, 1, 1, 1, 1, 1, 0, 0, 0, 1],\n",
       "       [1, 1, 1, 1, 1, 1, 1, 0, 0, 1],\n",
       "       [1, 1, 1, 1, 1, 1, 1, 1, 1, 1],\n",
       "       [1, 1, 1, 1, 1, 1, 1, 1, 1, 1],\n",
       "       [1, 1, 1, 1, 1, 1, 1, 1, 1, 1]])"
      ]
     },
     "execution_count": 48,
     "metadata": {},
     "output_type": "execute_result"
    }
   ],
   "source": [
    "up_mask = (up_tri==np.maximum(up_tri, low_tri.T)).astype(int)\n",
    "up_mask"
   ]
  },
  {
   "cell_type": "code",
   "execution_count": 49,
   "metadata": {
    "collapsed": true,
    "jupyter": {
     "outputs_hidden": true,
     "source_hidden": true
    }
   },
   "outputs": [
    {
     "data": {
      "text/plain": [
       "array([[0.   , 0.   , 0.   , 0.   , 0.   , 0.045, 0.   , 0.   , 0.053, 0.055],\n",
       "       [0.   , 0.   , 0.072, 0.061, 0.07 , 0.005, 0.011, 0.008, 0.004, 0.007],\n",
       "       [0.   , 0.   , 0.   , 0.031, 0.027, 0.139, 0.009, 0.005, 0.011, 0.008],\n",
       "       [0.   , 0.   , 0.   , 0.   , 0.035, 0.   , 0.108, 0.109, 0.011, 0.007],\n",
       "       [0.   , 0.   , 0.   , 0.   , 0.   , 0.008, 0.011, 0.004, 0.   , 0.005],\n",
       "       [0.   , 0.   , 0.   , 0.   , 0.   , 0.   , 0.   , 0.   , 0.   , 0.014],\n",
       "       [0.   , 0.   , 0.   , 0.   , 0.   , 0.   , 0.   , 0.   , 0.   , 0.163],\n",
       "       [0.   , 0.   , 0.   , 0.   , 0.   , 0.   , 0.   , 0.   , 0.009, 0.009],\n",
       "       [0.   , 0.   , 0.   , 0.   , 0.   , 0.   , 0.   , 0.   , 0.   , 0.014],\n",
       "       [0.   , 0.   , 0.   , 0.   , 0.   , 0.   , 0.   , 0.   , 0.   , 0.   ]])"
      ]
     },
     "execution_count": 49,
     "metadata": {},
     "output_type": "execute_result"
    }
   ],
   "source": [
    "up_tri*up_mask"
   ]
  },
  {
   "cell_type": "code",
   "execution_count": 50,
   "metadata": {
    "collapsed": true,
    "jupyter": {
     "outputs_hidden": true,
     "source_hidden": true
    }
   },
   "outputs": [
    {
     "data": {
      "text/plain": [
       "array([[1, 1, 1, 1, 1, 0, 1, 1, 0, 0],\n",
       "       [1, 1, 0, 0, 0, 0, 0, 0, 1, 0],\n",
       "       [1, 1, 1, 1, 0, 0, 0, 0, 0, 0],\n",
       "       [1, 1, 1, 1, 0, 1, 0, 0, 0, 0],\n",
       "       [1, 1, 1, 1, 1, 0, 0, 0, 1, 0],\n",
       "       [1, 1, 1, 1, 1, 1, 1, 1, 1, 0],\n",
       "       [1, 1, 1, 1, 1, 1, 1, 1, 1, 0],\n",
       "       [1, 1, 1, 1, 1, 1, 1, 1, 0, 0],\n",
       "       [1, 1, 1, 1, 1, 1, 1, 1, 1, 0],\n",
       "       [1, 1, 1, 1, 1, 1, 1, 1, 1, 1]])"
      ]
     },
     "execution_count": 50,
     "metadata": {},
     "output_type": "execute_result"
    }
   ],
   "source": [
    "low_mask = (low_tri.T==np.maximum(up_tri, low_tri.T)).astype(int)\n",
    "low_mask"
   ]
  },
  {
   "cell_type": "code",
   "execution_count": 53,
   "metadata": {
    "collapsed": true,
    "jupyter": {
     "outputs_hidden": true,
     "source_hidden": true
    }
   },
   "outputs": [
    {
     "data": {
      "text/plain": [
       "array([[0.   , 0.   , 0.   , 0.   , 0.   , 0.   , 0.   , 0.   , 0.   , 0.   ],\n",
       "       [0.008, 0.   , 0.   , 0.   , 0.   , 0.   , 0.   , 0.   , 0.   , 0.   ],\n",
       "       [0.095, 0.   , 0.   , 0.   , 0.   , 0.   , 0.   , 0.   , 0.   , 0.   ],\n",
       "       [0.071, 0.   , 0.031, 0.   , 0.   , 0.   , 0.   , 0.   , 0.   , 0.   ],\n",
       "       [0.013, 0.   , 0.   , 0.   , 0.   , 0.   , 0.   , 0.   , 0.   , 0.   ],\n",
       "       [0.   , 0.   , 0.   , 0.006, 0.   , 0.   , 0.   , 0.   , 0.   , 0.   ],\n",
       "       [0.038, 0.   , 0.   , 0.   , 0.   , 0.01 , 0.   , 0.   , 0.   , 0.   ],\n",
       "       [0.024, 0.   , 0.   , 0.   , 0.   , 0.022, 0.028, 0.   , 0.   , 0.   ],\n",
       "       [0.   , 0.004, 0.   , 0.   , 0.009, 0.004, 0.015, 0.   , 0.   , 0.   ],\n",
       "       [0.   , 0.   , 0.   , 0.   , 0.   , 0.   , 0.   , 0.   , 0.   , 0.   ]])"
      ]
     },
     "execution_count": 53,
     "metadata": {},
     "output_type": "execute_result"
    }
   ],
   "source": [
    "(low_tri.T*low_mask).T"
   ]
  },
  {
   "cell_type": "code",
   "execution_count": 55,
   "metadata": {
    "collapsed": true,
    "jupyter": {
     "outputs_hidden": true,
     "source_hidden": true
    }
   },
   "outputs": [
    {
     "data": {
      "text/plain": [
       "array([[0.   , 0.   , 0.   , 0.   , 0.   , 0.045, 0.   , 0.   , 0.053, 0.055],\n",
       "       [0.008, 0.   , 0.072, 0.061, 0.07 , 0.005, 0.011, 0.008, 0.004, 0.007],\n",
       "       [0.095, 0.   , 0.   , 0.031, 0.027, 0.139, 0.009, 0.005, 0.011, 0.008],\n",
       "       [0.071, 0.   , 0.031, 0.   , 0.035, 0.   , 0.108, 0.109, 0.011, 0.007],\n",
       "       [0.013, 0.   , 0.   , 0.   , 0.   , 0.008, 0.011, 0.004, 0.   , 0.005],\n",
       "       [0.   , 0.   , 0.   , 0.006, 0.   , 0.   , 0.   , 0.   , 0.   , 0.014],\n",
       "       [0.038, 0.   , 0.   , 0.   , 0.   , 0.01 , 0.   , 0.   , 0.   , 0.163],\n",
       "       [0.024, 0.   , 0.   , 0.   , 0.   , 0.022, 0.028, 0.   , 0.009, 0.009],\n",
       "       [0.   , 0.004, 0.   , 0.   , 0.009, 0.004, 0.015, 0.   , 0.   , 0.014],\n",
       "       [0.   , 0.   , 0.   , 0.   , 0.   , 0.   , 0.   , 0.   , 0.   , 0.   ]])"
      ]
     },
     "execution_count": 55,
     "metadata": {},
     "output_type": "execute_result"
    }
   ],
   "source": [
    "maxed_adj = (up_tri*up_mask)+(low_tri.T*low_mask).T\n",
    "maxed_adj"
   ]
  },
  {
   "cell_type": "code",
   "execution_count": 13,
   "metadata": {},
   "outputs": [],
   "source": [
    "def max_over_diag(mat):\n",
    "    up_tri = np.triu(mat)\n",
    "    low_tri = np.tril(mat)\n",
    "    \n",
    "    up_mask = (up_tri==np.maximum(up_tri, low_tri.T)).astype(int)\n",
    "    low_mask = (low_tri.T==np.maximum(up_tri, low_tri.T)).astype(int)\n",
    "\n",
    "    maxed_adj = (up_tri*up_mask)+(low_tri.T*low_mask).T\n",
    "\n",
    "    return maxed_adj\n",
    "\n",
    "def zero_under_t(mat, threshold):\n",
    "    mask = (mat>threshold).astype(int)\n",
    "    thresholded_mat=mat*mask\n",
    "    return thresholded_mat"
   ]
  },
  {
   "cell_type": "code",
   "execution_count": 14,
   "metadata": {},
   "outputs": [
    {
     "data": {
      "image/png": "[encoded data removed]",
      "text/plain": [
       "<Figure size 432x288 with 1 Axes>"
      ]
     },
     "metadata": {},
     "output_type": "display_data"
    }
   ],
   "source": [
    "maxed_adj = zero_under_t(max_over_diag(intersection_matrix),0.02)\n",
    "G1 = nx.from_numpy_matrix(maxed_adj,create_using=nx.DiGraph, parallel_edges=False)\n",
    "pos=nx.circular_layout(G1)\n",
    "nx.draw(G1,pos)\n",
    "labels={}\n",
    "for i in range(10):\n",
    "    labels[i] = i\n",
    "nx.draw_networkx_labels(G1,pos,labels,font_size=16);"
   ]
  },
  {
   "cell_type": "code",
   "execution_count": 15,
   "metadata": {},
   "outputs": [
    {
     "data": {
      "image/png": "[encoded data removed]",
      "text/plain": [
       "<Figure size 432x288 with 1 Axes>"
      ]
     },
     "metadata": {},
     "output_type": "display_data"
    }
   ],
   "source": [
    "maxed_adj = zero_under_t(max_over_diag(intersection_matrix),0.05)\n",
    "G1 = nx.from_numpy_matrix(maxed_adj,create_using=nx.DiGraph, parallel_edges=False)\n",
    "pos=nx.planar_layout(G1)\n",
    "nx.draw(G1,pos)\n",
    "labels={}\n",
    "for i in range(len(G1.nodes)):\n",
    "    labels[i] = i\n",
    "nx.draw_networkx_labels(G1,pos,labels,font_size=16);"
   ]
  },
  {
   "cell_type": "code",
   "execution_count": 11,
   "metadata": {},
   "outputs": [
    {
     "data": {
      "text/html": [
       "<style  type=\"text/css\" >\n",
       "    #T_b08482ee_6f92_11eb_a8b2_38002594084erow0_col0 {\n",
       "            background-color:  #f0f1f3;\n",
       "            color:  #000000;\n",
       "        }    #T_b08482ee_6f92_11eb_a8b2_38002594084erow0_col1 {\n",
       "            background-color:  #f0f1f3;\n",
       "            color:  #000000;\n",
       "        }    #T_b08482ee_6f92_11eb_a8b2_38002594084erow0_col2 {\n",
       "            background-color:  #f0f1f3;\n",
       "            color:  #000000;\n",
       "        }    #T_b08482ee_6f92_11eb_a8b2_38002594084erow0_col3 {\n",
       "            background-color:  #f0f1f3;\n",
       "            color:  #000000;\n",
       "        }    #T_b08482ee_6f92_11eb_a8b2_38002594084erow0_col4 {\n",
       "            background-color:  #f0f1f3;\n",
       "            color:  #000000;\n",
       "        }    #T_b08482ee_6f92_11eb_a8b2_38002594084erow0_col5 {\n",
       "            background-color:  #f0f1f3;\n",
       "            color:  #000000;\n",
       "        }    #T_b08482ee_6f92_11eb_a8b2_38002594084erow0_col6 {\n",
       "            background-color:  #f0f1f3;\n",
       "            color:  #000000;\n",
       "        }    #T_b08482ee_6f92_11eb_a8b2_38002594084erow0_col7 {\n",
       "            background-color:  #f0f1f3;\n",
       "            color:  #000000;\n",
       "        }    #T_b08482ee_6f92_11eb_a8b2_38002594084erow0_col8 {\n",
       "            background-color:  #023f75;\n",
       "            color:  #f1f1f1;\n",
       "        }    #T_b08482ee_6f92_11eb_a8b2_38002594084erow0_col9 {\n",
       "            background-color:  #b2c2d2;\n",
       "            color:  #000000;\n",
       "        }    #T_b08482ee_6f92_11eb_a8b2_38002594084erow1_col0 {\n",
       "            background-color:  #f0f1f3;\n",
       "            color:  #000000;\n",
       "        }    #T_b08482ee_6f92_11eb_a8b2_38002594084erow1_col1 {\n",
       "            background-color:  #f0f1f3;\n",
       "            color:  #000000;\n",
       "        }    #T_b08482ee_6f92_11eb_a8b2_38002594084erow1_col2 {\n",
       "            background-color:  #023f75;\n",
       "            color:  #f1f1f1;\n",
       "        }    #T_b08482ee_6f92_11eb_a8b2_38002594084erow1_col3 {\n",
       "            background-color:  #023f75;\n",
       "            color:  #f1f1f1;\n",
       "        }    #T_b08482ee_6f92_11eb_a8b2_38002594084erow1_col4 {\n",
       "            background-color:  #023f75;\n",
       "            color:  #f1f1f1;\n",
       "        }    #T_b08482ee_6f92_11eb_a8b2_38002594084erow1_col5 {\n",
       "            background-color:  #f0f1f3;\n",
       "            color:  #000000;\n",
       "        }    #T_b08482ee_6f92_11eb_a8b2_38002594084erow1_col6 {\n",
       "            background-color:  #f0f1f3;\n",
       "            color:  #000000;\n",
       "        }    #T_b08482ee_6f92_11eb_a8b2_38002594084erow1_col7 {\n",
       "            background-color:  #f0f1f3;\n",
       "            color:  #000000;\n",
       "        }    #T_b08482ee_6f92_11eb_a8b2_38002594084erow1_col8 {\n",
       "            background-color:  #f0f1f3;\n",
       "            color:  #000000;\n",
       "        }    #T_b08482ee_6f92_11eb_a8b2_38002594084erow1_col9 {\n",
       "            background-color:  #f0f1f3;\n",
       "            color:  #000000;\n",
       "        }    #T_b08482ee_6f92_11eb_a8b2_38002594084erow2_col0 {\n",
       "            background-color:  #023f75;\n",
       "            color:  #f1f1f1;\n",
       "        }    #T_b08482ee_6f92_11eb_a8b2_38002594084erow2_col1 {\n",
       "            background-color:  #f0f1f3;\n",
       "            color:  #000000;\n",
       "        }    #T_b08482ee_6f92_11eb_a8b2_38002594084erow2_col2 {\n",
       "            background-color:  #f0f1f3;\n",
       "            color:  #000000;\n",
       "        }    #T_b08482ee_6f92_11eb_a8b2_38002594084erow2_col3 {\n",
       "            background-color:  #f0f1f3;\n",
       "            color:  #000000;\n",
       "        }    #T_b08482ee_6f92_11eb_a8b2_38002594084erow2_col4 {\n",
       "            background-color:  #f0f1f3;\n",
       "            color:  #000000;\n",
       "        }    #T_b08482ee_6f92_11eb_a8b2_38002594084erow2_col5 {\n",
       "            background-color:  #023f75;\n",
       "            color:  #f1f1f1;\n",
       "        }    #T_b08482ee_6f92_11eb_a8b2_38002594084erow2_col6 {\n",
       "            background-color:  #f0f1f3;\n",
       "            color:  #000000;\n",
       "        }    #T_b08482ee_6f92_11eb_a8b2_38002594084erow2_col7 {\n",
       "            background-color:  #f0f1f3;\n",
       "            color:  #000000;\n",
       "        }    #T_b08482ee_6f92_11eb_a8b2_38002594084erow2_col8 {\n",
       "            background-color:  #f0f1f3;\n",
       "            color:  #000000;\n",
       "        }    #T_b08482ee_6f92_11eb_a8b2_38002594084erow2_col9 {\n",
       "            background-color:  #f0f1f3;\n",
       "            color:  #000000;\n",
       "        }    #T_b08482ee_6f92_11eb_a8b2_38002594084erow3_col0 {\n",
       "            background-color:  #457198;\n",
       "            color:  #000000;\n",
       "        }    #T_b08482ee_6f92_11eb_a8b2_38002594084erow3_col1 {\n",
       "            background-color:  #f0f1f3;\n",
       "            color:  #000000;\n",
       "        }    #T_b08482ee_6f92_11eb_a8b2_38002594084erow3_col2 {\n",
       "            background-color:  #f0f1f3;\n",
       "            color:  #000000;\n",
       "        }    #T_b08482ee_6f92_11eb_a8b2_38002594084erow3_col3 {\n",
       "            background-color:  #f0f1f3;\n",
       "            color:  #000000;\n",
       "        }    #T_b08482ee_6f92_11eb_a8b2_38002594084erow3_col4 {\n",
       "            background-color:  #f0f1f3;\n",
       "            color:  #000000;\n",
       "        }    #T_b08482ee_6f92_11eb_a8b2_38002594084erow3_col5 {\n",
       "            background-color:  #f0f1f3;\n",
       "            color:  #000000;\n",
       "        }    #T_b08482ee_6f92_11eb_a8b2_38002594084erow3_col6 {\n",
       "            background-color:  #023f75;\n",
       "            color:  #f1f1f1;\n",
       "        }    #T_b08482ee_6f92_11eb_a8b2_38002594084erow3_col7 {\n",
       "            background-color:  #023f75;\n",
       "            color:  #f1f1f1;\n",
       "        }    #T_b08482ee_6f92_11eb_a8b2_38002594084erow3_col8 {\n",
       "            background-color:  #f0f1f3;\n",
       "            color:  #000000;\n",
       "        }    #T_b08482ee_6f92_11eb_a8b2_38002594084erow3_col9 {\n",
       "            background-color:  #f0f1f3;\n",
       "            color:  #000000;\n",
       "        }    #T_b08482ee_6f92_11eb_a8b2_38002594084erow4_col0 {\n",
       "            background-color:  #f0f1f3;\n",
       "            color:  #000000;\n",
       "        }    #T_b08482ee_6f92_11eb_a8b2_38002594084erow4_col1 {\n",
       "            background-color:  #f0f1f3;\n",
       "            color:  #000000;\n",
       "        }    #T_b08482ee_6f92_11eb_a8b2_38002594084erow4_col2 {\n",
       "            background-color:  #f0f1f3;\n",
       "            color:  #000000;\n",
       "        }    #T_b08482ee_6f92_11eb_a8b2_38002594084erow4_col3 {\n",
       "            background-color:  #f0f1f3;\n",
       "            color:  #000000;\n",
       "        }    #T_b08482ee_6f92_11eb_a8b2_38002594084erow4_col4 {\n",
       "            background-color:  #f0f1f3;\n",
       "            color:  #000000;\n",
       "        }    #T_b08482ee_6f92_11eb_a8b2_38002594084erow4_col5 {\n",
       "            background-color:  #f0f1f3;\n",
       "            color:  #000000;\n",
       "        }    #T_b08482ee_6f92_11eb_a8b2_38002594084erow4_col6 {\n",
       "            background-color:  #f0f1f3;\n",
       "            color:  #000000;\n",
       "        }    #T_b08482ee_6f92_11eb_a8b2_38002594084erow4_col7 {\n",
       "            background-color:  #f0f1f3;\n",
       "            color:  #000000;\n",
       "        }    #T_b08482ee_6f92_11eb_a8b2_38002594084erow4_col8 {\n",
       "            background-color:  #f0f1f3;\n",
       "            color:  #000000;\n",
       "        }    #T_b08482ee_6f92_11eb_a8b2_38002594084erow4_col9 {\n",
       "            background-color:  #f0f1f3;\n",
       "            color:  #000000;\n",
       "        }    #T_b08482ee_6f92_11eb_a8b2_38002594084erow5_col0 {\n",
       "            background-color:  #f0f1f3;\n",
       "            color:  #000000;\n",
       "        }    #T_b08482ee_6f92_11eb_a8b2_38002594084erow5_col1 {\n",
       "            background-color:  #f0f1f3;\n",
       "            color:  #000000;\n",
       "        }    #T_b08482ee_6f92_11eb_a8b2_38002594084erow5_col2 {\n",
       "            background-color:  #f0f1f3;\n",
       "            color:  #000000;\n",
       "        }    #T_b08482ee_6f92_11eb_a8b2_38002594084erow5_col3 {\n",
       "            background-color:  #f0f1f3;\n",
       "            color:  #000000;\n",
       "        }    #T_b08482ee_6f92_11eb_a8b2_38002594084erow5_col4 {\n",
       "            background-color:  #f0f1f3;\n",
       "            color:  #000000;\n",
       "        }    #T_b08482ee_6f92_11eb_a8b2_38002594084erow5_col5 {\n",
       "            background-color:  #f0f1f3;\n",
       "            color:  #000000;\n",
       "        }    #T_b08482ee_6f92_11eb_a8b2_38002594084erow5_col6 {\n",
       "            background-color:  #f0f1f3;\n",
       "            color:  #000000;\n",
       "        }    #T_b08482ee_6f92_11eb_a8b2_38002594084erow5_col7 {\n",
       "            background-color:  #f0f1f3;\n",
       "            color:  #000000;\n",
       "        }    #T_b08482ee_6f92_11eb_a8b2_38002594084erow5_col8 {\n",
       "            background-color:  #f0f1f3;\n",
       "            color:  #000000;\n",
       "        }    #T_b08482ee_6f92_11eb_a8b2_38002594084erow5_col9 {\n",
       "            background-color:  #f0f1f3;\n",
       "            color:  #000000;\n",
       "        }    #T_b08482ee_6f92_11eb_a8b2_38002594084erow6_col0 {\n",
       "            background-color:  #f0f1f3;\n",
       "            color:  #000000;\n",
       "        }    #T_b08482ee_6f92_11eb_a8b2_38002594084erow6_col1 {\n",
       "            background-color:  #f0f1f3;\n",
       "            color:  #000000;\n",
       "        }    #T_b08482ee_6f92_11eb_a8b2_38002594084erow6_col2 {\n",
       "            background-color:  #f0f1f3;\n",
       "            color:  #000000;\n",
       "        }    #T_b08482ee_6f92_11eb_a8b2_38002594084erow6_col3 {\n",
       "            background-color:  #f0f1f3;\n",
       "            color:  #000000;\n",
       "        }    #T_b08482ee_6f92_11eb_a8b2_38002594084erow6_col4 {\n",
       "            background-color:  #f0f1f3;\n",
       "            color:  #000000;\n",
       "        }    #T_b08482ee_6f92_11eb_a8b2_38002594084erow6_col5 {\n",
       "            background-color:  #f0f1f3;\n",
       "            color:  #000000;\n",
       "        }    #T_b08482ee_6f92_11eb_a8b2_38002594084erow6_col6 {\n",
       "            background-color:  #f0f1f3;\n",
       "            color:  #000000;\n",
       "        }    #T_b08482ee_6f92_11eb_a8b2_38002594084erow6_col7 {\n",
       "            background-color:  #f0f1f3;\n",
       "            color:  #000000;\n",
       "        }    #T_b08482ee_6f92_11eb_a8b2_38002594084erow6_col8 {\n",
       "            background-color:  #f0f1f3;\n",
       "            color:  #000000;\n",
       "        }    #T_b08482ee_6f92_11eb_a8b2_38002594084erow6_col9 {\n",
       "            background-color:  #023f75;\n",
       "            color:  #f1f1f1;\n",
       "        }    #T_b08482ee_6f92_11eb_a8b2_38002594084erow7_col0 {\n",
       "            background-color:  #f0f1f3;\n",
       "            color:  #000000;\n",
       "        }    #T_b08482ee_6f92_11eb_a8b2_38002594084erow7_col1 {\n",
       "            background-color:  #f0f1f3;\n",
       "            color:  #000000;\n",
       "        }    #T_b08482ee_6f92_11eb_a8b2_38002594084erow7_col2 {\n",
       "            background-color:  #f0f1f3;\n",
       "            color:  #000000;\n",
       "        }    #T_b08482ee_6f92_11eb_a8b2_38002594084erow7_col3 {\n",
       "            background-color:  #f0f1f3;\n",
       "            color:  #000000;\n",
       "        }    #T_b08482ee_6f92_11eb_a8b2_38002594084erow7_col4 {\n",
       "            background-color:  #f0f1f3;\n",
       "            color:  #000000;\n",
       "        }    #T_b08482ee_6f92_11eb_a8b2_38002594084erow7_col5 {\n",
       "            background-color:  #f0f1f3;\n",
       "            color:  #000000;\n",
       "        }    #T_b08482ee_6f92_11eb_a8b2_38002594084erow7_col6 {\n",
       "            background-color:  #f0f1f3;\n",
       "            color:  #000000;\n",
       "        }    #T_b08482ee_6f92_11eb_a8b2_38002594084erow7_col7 {\n",
       "            background-color:  #f0f1f3;\n",
       "            color:  #000000;\n",
       "        }    #T_b08482ee_6f92_11eb_a8b2_38002594084erow7_col8 {\n",
       "            background-color:  #f0f1f3;\n",
       "            color:  #000000;\n",
       "        }    #T_b08482ee_6f92_11eb_a8b2_38002594084erow7_col9 {\n",
       "            background-color:  #f0f1f3;\n",
       "            color:  #000000;\n",
       "        }    #T_b08482ee_6f92_11eb_a8b2_38002594084erow8_col0 {\n",
       "            background-color:  #f0f1f3;\n",
       "            color:  #000000;\n",
       "        }    #T_b08482ee_6f92_11eb_a8b2_38002594084erow8_col1 {\n",
       "            background-color:  #f0f1f3;\n",
       "            color:  #000000;\n",
       "        }    #T_b08482ee_6f92_11eb_a8b2_38002594084erow8_col2 {\n",
       "            background-color:  #f0f1f3;\n",
       "            color:  #000000;\n",
       "        }    #T_b08482ee_6f92_11eb_a8b2_38002594084erow8_col3 {\n",
       "            background-color:  #f0f1f3;\n",
       "            color:  #000000;\n",
       "        }    #T_b08482ee_6f92_11eb_a8b2_38002594084erow8_col4 {\n",
       "            background-color:  #f0f1f3;\n",
       "            color:  #000000;\n",
       "        }    #T_b08482ee_6f92_11eb_a8b2_38002594084erow8_col5 {\n",
       "            background-color:  #f0f1f3;\n",
       "            color:  #000000;\n",
       "        }    #T_b08482ee_6f92_11eb_a8b2_38002594084erow8_col6 {\n",
       "            background-color:  #f0f1f3;\n",
       "            color:  #000000;\n",
       "        }    #T_b08482ee_6f92_11eb_a8b2_38002594084erow8_col7 {\n",
       "            background-color:  #f0f1f3;\n",
       "            color:  #000000;\n",
       "        }    #T_b08482ee_6f92_11eb_a8b2_38002594084erow8_col8 {\n",
       "            background-color:  #f0f1f3;\n",
       "            color:  #000000;\n",
       "        }    #T_b08482ee_6f92_11eb_a8b2_38002594084erow8_col9 {\n",
       "            background-color:  #f0f1f3;\n",
       "            color:  #000000;\n",
       "        }    #T_b08482ee_6f92_11eb_a8b2_38002594084erow9_col0 {\n",
       "            background-color:  #f0f1f3;\n",
       "            color:  #000000;\n",
       "        }    #T_b08482ee_6f92_11eb_a8b2_38002594084erow9_col1 {\n",
       "            background-color:  #f0f1f3;\n",
       "            color:  #000000;\n",
       "        }    #T_b08482ee_6f92_11eb_a8b2_38002594084erow9_col2 {\n",
       "            background-color:  #f0f1f3;\n",
       "            color:  #000000;\n",
       "        }    #T_b08482ee_6f92_11eb_a8b2_38002594084erow9_col3 {\n",
       "            background-color:  #f0f1f3;\n",
       "            color:  #000000;\n",
       "        }    #T_b08482ee_6f92_11eb_a8b2_38002594084erow9_col4 {\n",
       "            background-color:  #f0f1f3;\n",
       "            color:  #000000;\n",
       "        }    #T_b08482ee_6f92_11eb_a8b2_38002594084erow9_col5 {\n",
       "            background-color:  #f0f1f3;\n",
       "            color:  #000000;\n",
       "        }    #T_b08482ee_6f92_11eb_a8b2_38002594084erow9_col6 {\n",
       "            background-color:  #f0f1f3;\n",
       "            color:  #000000;\n",
       "        }    #T_b08482ee_6f92_11eb_a8b2_38002594084erow9_col7 {\n",
       "            background-color:  #f0f1f3;\n",
       "            color:  #000000;\n",
       "        }    #T_b08482ee_6f92_11eb_a8b2_38002594084erow9_col8 {\n",
       "            background-color:  #f0f1f3;\n",
       "            color:  #000000;\n",
       "        }    #T_b08482ee_6f92_11eb_a8b2_38002594084erow9_col9 {\n",
       "            background-color:  #f0f1f3;\n",
       "            color:  #000000;\n",
       "        }</style><table id=\"T_b08482ee_6f92_11eb_a8b2_38002594084e\" ><thead>    <tr>        <th class=\"blank level0\" ></th>        <th class=\"col_heading level0 col0\" >0</th>        <th class=\"col_heading level0 col1\" >1</th>        <th class=\"col_heading level0 col2\" >2</th>        <th class=\"col_heading level0 col3\" >3</th>        <th class=\"col_heading level0 col4\" >4</th>        <th class=\"col_heading level0 col5\" >5</th>        <th class=\"col_heading level0 col6\" >6</th>        <th class=\"col_heading level0 col7\" >7</th>        <th class=\"col_heading level0 col8\" >8</th>        <th class=\"col_heading level0 col9\" >9</th>    </tr></thead><tbody>\n",
       "                <tr>\n",
       "                        <th id=\"T_b08482ee_6f92_11eb_a8b2_38002594084elevel0_row0\" class=\"row_heading level0 row0\" >0</th>\n",
       "                        <td id=\"T_b08482ee_6f92_11eb_a8b2_38002594084erow0_col0\" class=\"data row0 col0\" >0.0</td>\n",
       "                        <td id=\"T_b08482ee_6f92_11eb_a8b2_38002594084erow0_col1\" class=\"data row0 col1\" >0.0</td>\n",
       "                        <td id=\"T_b08482ee_6f92_11eb_a8b2_38002594084erow0_col2\" class=\"data row0 col2\" >0.0</td>\n",
       "                        <td id=\"T_b08482ee_6f92_11eb_a8b2_38002594084erow0_col3\" class=\"data row0 col3\" >0.0</td>\n",
       "                        <td id=\"T_b08482ee_6f92_11eb_a8b2_38002594084erow0_col4\" class=\"data row0 col4\" >0.0</td>\n",
       "                        <td id=\"T_b08482ee_6f92_11eb_a8b2_38002594084erow0_col5\" class=\"data row0 col5\" >0.0</td>\n",
       "                        <td id=\"T_b08482ee_6f92_11eb_a8b2_38002594084erow0_col6\" class=\"data row0 col6\" >0.0</td>\n",
       "                        <td id=\"T_b08482ee_6f92_11eb_a8b2_38002594084erow0_col7\" class=\"data row0 col7\" >0.0</td>\n",
       "                        <td id=\"T_b08482ee_6f92_11eb_a8b2_38002594084erow0_col8\" class=\"data row0 col8\" >0.053</td>\n",
       "                        <td id=\"T_b08482ee_6f92_11eb_a8b2_38002594084erow0_col9\" class=\"data row0 col9\" >0.055</td>\n",
       "            </tr>\n",
       "            <tr>\n",
       "                        <th id=\"T_b08482ee_6f92_11eb_a8b2_38002594084elevel0_row1\" class=\"row_heading level0 row1\" >1</th>\n",
       "                        <td id=\"T_b08482ee_6f92_11eb_a8b2_38002594084erow1_col0\" class=\"data row1 col0\" >0.0</td>\n",
       "                        <td id=\"T_b08482ee_6f92_11eb_a8b2_38002594084erow1_col1\" class=\"data row1 col1\" >0.0</td>\n",
       "                        <td id=\"T_b08482ee_6f92_11eb_a8b2_38002594084erow1_col2\" class=\"data row1 col2\" >0.072</td>\n",
       "                        <td id=\"T_b08482ee_6f92_11eb_a8b2_38002594084erow1_col3\" class=\"data row1 col3\" >0.061</td>\n",
       "                        <td id=\"T_b08482ee_6f92_11eb_a8b2_38002594084erow1_col4\" class=\"data row1 col4\" >0.07</td>\n",
       "                        <td id=\"T_b08482ee_6f92_11eb_a8b2_38002594084erow1_col5\" class=\"data row1 col5\" >0.0</td>\n",
       "                        <td id=\"T_b08482ee_6f92_11eb_a8b2_38002594084erow1_col6\" class=\"data row1 col6\" >0.0</td>\n",
       "                        <td id=\"T_b08482ee_6f92_11eb_a8b2_38002594084erow1_col7\" class=\"data row1 col7\" >0.0</td>\n",
       "                        <td id=\"T_b08482ee_6f92_11eb_a8b2_38002594084erow1_col8\" class=\"data row1 col8\" >0.0</td>\n",
       "                        <td id=\"T_b08482ee_6f92_11eb_a8b2_38002594084erow1_col9\" class=\"data row1 col9\" >0.0</td>\n",
       "            </tr>\n",
       "            <tr>\n",
       "                        <th id=\"T_b08482ee_6f92_11eb_a8b2_38002594084elevel0_row2\" class=\"row_heading level0 row2\" >2</th>\n",
       "                        <td id=\"T_b08482ee_6f92_11eb_a8b2_38002594084erow2_col0\" class=\"data row2 col0\" >0.095</td>\n",
       "                        <td id=\"T_b08482ee_6f92_11eb_a8b2_38002594084erow2_col1\" class=\"data row2 col1\" >0.0</td>\n",
       "                        <td id=\"T_b08482ee_6f92_11eb_a8b2_38002594084erow2_col2\" class=\"data row2 col2\" >0.0</td>\n",
       "                        <td id=\"T_b08482ee_6f92_11eb_a8b2_38002594084erow2_col3\" class=\"data row2 col3\" >0.0</td>\n",
       "                        <td id=\"T_b08482ee_6f92_11eb_a8b2_38002594084erow2_col4\" class=\"data row2 col4\" >0.0</td>\n",
       "                        <td id=\"T_b08482ee_6f92_11eb_a8b2_38002594084erow2_col5\" class=\"data row2 col5\" >0.139</td>\n",
       "                        <td id=\"T_b08482ee_6f92_11eb_a8b2_38002594084erow2_col6\" class=\"data row2 col6\" >0.0</td>\n",
       "                        <td id=\"T_b08482ee_6f92_11eb_a8b2_38002594084erow2_col7\" class=\"data row2 col7\" >0.0</td>\n",
       "                        <td id=\"T_b08482ee_6f92_11eb_a8b2_38002594084erow2_col8\" class=\"data row2 col8\" >0.0</td>\n",
       "                        <td id=\"T_b08482ee_6f92_11eb_a8b2_38002594084erow2_col9\" class=\"data row2 col9\" >0.0</td>\n",
       "            </tr>\n",
       "            <tr>\n",
       "                        <th id=\"T_b08482ee_6f92_11eb_a8b2_38002594084elevel0_row3\" class=\"row_heading level0 row3\" >3</th>\n",
       "                        <td id=\"T_b08482ee_6f92_11eb_a8b2_38002594084erow3_col0\" class=\"data row3 col0\" >0.071</td>\n",
       "                        <td id=\"T_b08482ee_6f92_11eb_a8b2_38002594084erow3_col1\" class=\"data row3 col1\" >0.0</td>\n",
       "                        <td id=\"T_b08482ee_6f92_11eb_a8b2_38002594084erow3_col2\" class=\"data row3 col2\" >0.0</td>\n",
       "                        <td id=\"T_b08482ee_6f92_11eb_a8b2_38002594084erow3_col3\" class=\"data row3 col3\" >0.0</td>\n",
       "                        <td id=\"T_b08482ee_6f92_11eb_a8b2_38002594084erow3_col4\" class=\"data row3 col4\" >0.0</td>\n",
       "                        <td id=\"T_b08482ee_6f92_11eb_a8b2_38002594084erow3_col5\" class=\"data row3 col5\" >0.0</td>\n",
       "                        <td id=\"T_b08482ee_6f92_11eb_a8b2_38002594084erow3_col6\" class=\"data row3 col6\" >0.108</td>\n",
       "                        <td id=\"T_b08482ee_6f92_11eb_a8b2_38002594084erow3_col7\" class=\"data row3 col7\" >0.109</td>\n",
       "                        <td id=\"T_b08482ee_6f92_11eb_a8b2_38002594084erow3_col8\" class=\"data row3 col8\" >0.0</td>\n",
       "                        <td id=\"T_b08482ee_6f92_11eb_a8b2_38002594084erow3_col9\" class=\"data row3 col9\" >0.0</td>\n",
       "            </tr>\n",
       "            <tr>\n",
       "                        <th id=\"T_b08482ee_6f92_11eb_a8b2_38002594084elevel0_row4\" class=\"row_heading level0 row4\" >4</th>\n",
       "                        <td id=\"T_b08482ee_6f92_11eb_a8b2_38002594084erow4_col0\" class=\"data row4 col0\" >0.0</td>\n",
       "                        <td id=\"T_b08482ee_6f92_11eb_a8b2_38002594084erow4_col1\" class=\"data row4 col1\" >0.0</td>\n",
       "                        <td id=\"T_b08482ee_6f92_11eb_a8b2_38002594084erow4_col2\" class=\"data row4 col2\" >0.0</td>\n",
       "                        <td id=\"T_b08482ee_6f92_11eb_a8b2_38002594084erow4_col3\" class=\"data row4 col3\" >0.0</td>\n",
       "                        <td id=\"T_b08482ee_6f92_11eb_a8b2_38002594084erow4_col4\" class=\"data row4 col4\" >0.0</td>\n",
       "                        <td id=\"T_b08482ee_6f92_11eb_a8b2_38002594084erow4_col5\" class=\"data row4 col5\" >0.0</td>\n",
       "                        <td id=\"T_b08482ee_6f92_11eb_a8b2_38002594084erow4_col6\" class=\"data row4 col6\" >0.0</td>\n",
       "                        <td id=\"T_b08482ee_6f92_11eb_a8b2_38002594084erow4_col7\" class=\"data row4 col7\" >0.0</td>\n",
       "                        <td id=\"T_b08482ee_6f92_11eb_a8b2_38002594084erow4_col8\" class=\"data row4 col8\" >0.0</td>\n",
       "                        <td id=\"T_b08482ee_6f92_11eb_a8b2_38002594084erow4_col9\" class=\"data row4 col9\" >0.0</td>\n",
       "            </tr>\n",
       "            <tr>\n",
       "                        <th id=\"T_b08482ee_6f92_11eb_a8b2_38002594084elevel0_row5\" class=\"row_heading level0 row5\" >5</th>\n",
       "                        <td id=\"T_b08482ee_6f92_11eb_a8b2_38002594084erow5_col0\" class=\"data row5 col0\" >0.0</td>\n",
       "                        <td id=\"T_b08482ee_6f92_11eb_a8b2_38002594084erow5_col1\" class=\"data row5 col1\" >0.0</td>\n",
       "                        <td id=\"T_b08482ee_6f92_11eb_a8b2_38002594084erow5_col2\" class=\"data row5 col2\" >0.0</td>\n",
       "                        <td id=\"T_b08482ee_6f92_11eb_a8b2_38002594084erow5_col3\" class=\"data row5 col3\" >0.0</td>\n",
       "                        <td id=\"T_b08482ee_6f92_11eb_a8b2_38002594084erow5_col4\" class=\"data row5 col4\" >0.0</td>\n",
       "                        <td id=\"T_b08482ee_6f92_11eb_a8b2_38002594084erow5_col5\" class=\"data row5 col5\" >0.0</td>\n",
       "                        <td id=\"T_b08482ee_6f92_11eb_a8b2_38002594084erow5_col6\" class=\"data row5 col6\" >0.0</td>\n",
       "                        <td id=\"T_b08482ee_6f92_11eb_a8b2_38002594084erow5_col7\" class=\"data row5 col7\" >0.0</td>\n",
       "                        <td id=\"T_b08482ee_6f92_11eb_a8b2_38002594084erow5_col8\" class=\"data row5 col8\" >0.0</td>\n",
       "                        <td id=\"T_b08482ee_6f92_11eb_a8b2_38002594084erow5_col9\" class=\"data row5 col9\" >0.0</td>\n",
       "            </tr>\n",
       "            <tr>\n",
       "                        <th id=\"T_b08482ee_6f92_11eb_a8b2_38002594084elevel0_row6\" class=\"row_heading level0 row6\" >6</th>\n",
       "                        <td id=\"T_b08482ee_6f92_11eb_a8b2_38002594084erow6_col0\" class=\"data row6 col0\" >0.0</td>\n",
       "                        <td id=\"T_b08482ee_6f92_11eb_a8b2_38002594084erow6_col1\" class=\"data row6 col1\" >0.0</td>\n",
       "                        <td id=\"T_b08482ee_6f92_11eb_a8b2_38002594084erow6_col2\" class=\"data row6 col2\" >0.0</td>\n",
       "                        <td id=\"T_b08482ee_6f92_11eb_a8b2_38002594084erow6_col3\" class=\"data row6 col3\" >0.0</td>\n",
       "                        <td id=\"T_b08482ee_6f92_11eb_a8b2_38002594084erow6_col4\" class=\"data row6 col4\" >0.0</td>\n",
       "                        <td id=\"T_b08482ee_6f92_11eb_a8b2_38002594084erow6_col5\" class=\"data row6 col5\" >0.0</td>\n",
       "                        <td id=\"T_b08482ee_6f92_11eb_a8b2_38002594084erow6_col6\" class=\"data row6 col6\" >0.0</td>\n",
       "                        <td id=\"T_b08482ee_6f92_11eb_a8b2_38002594084erow6_col7\" class=\"data row6 col7\" >0.0</td>\n",
       "                        <td id=\"T_b08482ee_6f92_11eb_a8b2_38002594084erow6_col8\" class=\"data row6 col8\" >0.0</td>\n",
       "                        <td id=\"T_b08482ee_6f92_11eb_a8b2_38002594084erow6_col9\" class=\"data row6 col9\" >0.163</td>\n",
       "            </tr>\n",
       "            <tr>\n",
       "                        <th id=\"T_b08482ee_6f92_11eb_a8b2_38002594084elevel0_row7\" class=\"row_heading level0 row7\" >7</th>\n",
       "                        <td id=\"T_b08482ee_6f92_11eb_a8b2_38002594084erow7_col0\" class=\"data row7 col0\" >0.0</td>\n",
       "                        <td id=\"T_b08482ee_6f92_11eb_a8b2_38002594084erow7_col1\" class=\"data row7 col1\" >0.0</td>\n",
       "                        <td id=\"T_b08482ee_6f92_11eb_a8b2_38002594084erow7_col2\" class=\"data row7 col2\" >0.0</td>\n",
       "                        <td id=\"T_b08482ee_6f92_11eb_a8b2_38002594084erow7_col3\" class=\"data row7 col3\" >0.0</td>\n",
       "                        <td id=\"T_b08482ee_6f92_11eb_a8b2_38002594084erow7_col4\" class=\"data row7 col4\" >0.0</td>\n",
       "                        <td id=\"T_b08482ee_6f92_11eb_a8b2_38002594084erow7_col5\" class=\"data row7 col5\" >0.0</td>\n",
       "                        <td id=\"T_b08482ee_6f92_11eb_a8b2_38002594084erow7_col6\" class=\"data row7 col6\" >0.0</td>\n",
       "                        <td id=\"T_b08482ee_6f92_11eb_a8b2_38002594084erow7_col7\" class=\"data row7 col7\" >0.0</td>\n",
       "                        <td id=\"T_b08482ee_6f92_11eb_a8b2_38002594084erow7_col8\" class=\"data row7 col8\" >0.0</td>\n",
       "                        <td id=\"T_b08482ee_6f92_11eb_a8b2_38002594084erow7_col9\" class=\"data row7 col9\" >0.0</td>\n",
       "            </tr>\n",
       "            <tr>\n",
       "                        <th id=\"T_b08482ee_6f92_11eb_a8b2_38002594084elevel0_row8\" class=\"row_heading level0 row8\" >8</th>\n",
       "                        <td id=\"T_b08482ee_6f92_11eb_a8b2_38002594084erow8_col0\" class=\"data row8 col0\" >0.0</td>\n",
       "                        <td id=\"T_b08482ee_6f92_11eb_a8b2_38002594084erow8_col1\" class=\"data row8 col1\" >0.0</td>\n",
       "                        <td id=\"T_b08482ee_6f92_11eb_a8b2_38002594084erow8_col2\" class=\"data row8 col2\" >0.0</td>\n",
       "                        <td id=\"T_b08482ee_6f92_11eb_a8b2_38002594084erow8_col3\" class=\"data row8 col3\" >0.0</td>\n",
       "                        <td id=\"T_b08482ee_6f92_11eb_a8b2_38002594084erow8_col4\" class=\"data row8 col4\" >0.0</td>\n",
       "                        <td id=\"T_b08482ee_6f92_11eb_a8b2_38002594084erow8_col5\" class=\"data row8 col5\" >0.0</td>\n",
       "                        <td id=\"T_b08482ee_6f92_11eb_a8b2_38002594084erow8_col6\" class=\"data row8 col6\" >0.0</td>\n",
       "                        <td id=\"T_b08482ee_6f92_11eb_a8b2_38002594084erow8_col7\" class=\"data row8 col7\" >0.0</td>\n",
       "                        <td id=\"T_b08482ee_6f92_11eb_a8b2_38002594084erow8_col8\" class=\"data row8 col8\" >0.0</td>\n",
       "                        <td id=\"T_b08482ee_6f92_11eb_a8b2_38002594084erow8_col9\" class=\"data row8 col9\" >0.0</td>\n",
       "            </tr>\n",
       "            <tr>\n",
       "                        <th id=\"T_b08482ee_6f92_11eb_a8b2_38002594084elevel0_row9\" class=\"row_heading level0 row9\" >9</th>\n",
       "                        <td id=\"T_b08482ee_6f92_11eb_a8b2_38002594084erow9_col0\" class=\"data row9 col0\" >0.0</td>\n",
       "                        <td id=\"T_b08482ee_6f92_11eb_a8b2_38002594084erow9_col1\" class=\"data row9 col1\" >0.0</td>\n",
       "                        <td id=\"T_b08482ee_6f92_11eb_a8b2_38002594084erow9_col2\" class=\"data row9 col2\" >0.0</td>\n",
       "                        <td id=\"T_b08482ee_6f92_11eb_a8b2_38002594084erow9_col3\" class=\"data row9 col3\" >0.0</td>\n",
       "                        <td id=\"T_b08482ee_6f92_11eb_a8b2_38002594084erow9_col4\" class=\"data row9 col4\" >0.0</td>\n",
       "                        <td id=\"T_b08482ee_6f92_11eb_a8b2_38002594084erow9_col5\" class=\"data row9 col5\" >0.0</td>\n",
       "                        <td id=\"T_b08482ee_6f92_11eb_a8b2_38002594084erow9_col6\" class=\"data row9 col6\" >0.0</td>\n",
       "                        <td id=\"T_b08482ee_6f92_11eb_a8b2_38002594084erow9_col7\" class=\"data row9 col7\" >0.0</td>\n",
       "                        <td id=\"T_b08482ee_6f92_11eb_a8b2_38002594084erow9_col8\" class=\"data row9 col8\" >0.0</td>\n",
       "                        <td id=\"T_b08482ee_6f92_11eb_a8b2_38002594084erow9_col9\" class=\"data row9 col9\" >0.0</td>\n",
       "            </tr>\n",
       "    </tbody></table>"
      ],
      "text/plain": [
       "<pandas.io.formats.style.Styler at 0x1b0fb1ea588>"
      ]
     },
     "metadata": {},
     "output_type": "display_data"
    }
   ],
   "source": [
    "import numpy as np\n",
    "import seaborn as sns\n",
    "import pandas as pd\n",
    "\n",
    "cm = sns.light_palette(\"#003E74\", as_cmap=True)\n",
    "x=pd.DataFrame(maxed_adj).round(3)\n",
    "x=x.style.background_gradient(cmap=cm, low=-0.1, high=0.01).format(\"{:.3}\")\n",
    "display(x)"
   ]
  },
  {
   "cell_type": "code",
   "execution_count": 16,
   "metadata": {},
   "outputs": [
    {
     "data": {
      "application/vnd.plotly.v1+json": {
       "config": {
        "plotlyServerURL": "https://plot.ly"
       },
       "data": [
        {
         "alignmentgroup": "True",
         "bingroup": "x",
         "hovertemplate": "variable=0<br>value=%{x}<br>count=%{y}<extra></extra>",
         "legendgroup": "0",
         "marker": {
          "color": "#636efa"
         },
         "name": "0",
         "nbinsx": 5,
         "offsetgroup": "0",
         "orientation": "v",
         "showlegend": true,
         "type": "histogram",
         "x": [
          0,
          0.008,
          0.095,
          0.071,
          0.013,
          0.039,
          0.038,
          0.024,
          0.026,
          0.026
         ],
         "xaxis": "x",
         "yaxis": "y"
        },
        {
         "alignmentgroup": "True",
         "hovertemplate": "variable=0<br>value=%{x}<extra></extra>",
         "legendgroup": "0",
         "marker": {
          "color": "#636efa"
         },
         "name": "0",
         "notched": true,
         "offsetgroup": "0",
         "showlegend": false,
         "type": "box",
         "x": [
          0,
          0.008,
          0.095,
          0.071,
          0.013,
          0.039,
          0.038,
          0.024,
          0.026,
          0.026
         ],
         "xaxis": "x2",
         "yaxis": "y2"
        }
       ],
       "layout": {
        "autosize": true,
        "barmode": "relative",
        "legend": {
         "title": {
          "text": "variable"
         },
         "tracegroupgap": 0
        },
        "margin": {
         "t": 60
        },
        "template": {
         "data": {
          "bar": [
           {
            "error_x": {
             "color": "#2a3f5f"
            },
            "error_y": {
             "color": "#2a3f5f"
            },
            "marker": {
             "line": {
              "color": "#E5ECF6",
              "width": 0.5
             }
            },
            "type": "bar"
           }
          ],
          "barpolar": [
           {
            "marker": {
             "line": {
              "color": "#E5ECF6",
              "width": 0.5
             }
            },
            "type": "barpolar"
           }
          ],
          "carpet": [
           {
            "aaxis": {
             "endlinecolor": "#2a3f5f",
             "gridcolor": "white",
             "linecolor": "white",
             "minorgridcolor": "white",
             "startlinecolor": "#2a3f5f"
            },
            "baxis": {
             "endlinecolor": "#2a3f5f",
             "gridcolor": "white",
             "linecolor": "white",
             "minorgridcolor": "white",
             "startlinecolor": "#2a3f5f"
            },
            "type": "carpet"
           }
          ],
          "choropleth": [
           {
            "colorbar": {
             "outlinewidth": 0,
             "ticks": ""
            },
            "type": "choropleth"
           }
          ],
          "contour": [
           {
            "colorbar": {
             "outlinewidth": 0,
             "ticks": ""
            },
            "colorscale": [
             [
              0,
              "#0d0887"
             ],
             [
              0.1111111111111111,
              "#46039f"
             ],
             [
              0.2222222222222222,
              "#7201a8"
             ],
             [
              0.3333333333333333,
              "#9c179e"
             ],
             [
              0.4444444444444444,
              "#bd3786"
             ],
             [
              0.5555555555555556,
              "#d8576b"
             ],
             [
              0.6666666666666666,
              "#ed7953"
             ],
             [
              0.7777777777777778,
              "#fb9f3a"
             ],
             [
              0.8888888888888888,
              "#fdca26"
             ],
             [
              1,
              "#f0f921"
             ]
            ],
            "type": "contour"
           }
          ],
          "contourcarpet": [
           {
            "colorbar": {
             "outlinewidth": 0,
             "ticks": ""
            },
            "type": "contourcarpet"
           }
          ],
          "heatmap": [
           {
            "colorbar": {
             "outlinewidth": 0,
             "ticks": ""
            },
            "colorscale": [
             [
              0,
              "#0d0887"
             ],
             [
              0.1111111111111111,
              "#46039f"
             ],
             [
              0.2222222222222222,
              "#7201a8"
             ],
             [
              0.3333333333333333,
              "#9c179e"
             ],
             [
              0.4444444444444444,
              "#bd3786"
             ],
             [
              0.5555555555555556,
              "#d8576b"
             ],
             [
              0.6666666666666666,
              "#ed7953"
             ],
             [
              0.7777777777777778,
              "#fb9f3a"
             ],
             [
              0.8888888888888888,
              "#fdca26"
             ],
             [
              1,
              "#f0f921"
             ]
            ],
            "type": "heatmap"
           }
          ],
          "heatmapgl": [
           {
            "colorbar": {
             "outlinewidth": 0,
             "ticks": ""
            },
            "colorscale": [
             [
              0,
              "#0d0887"
             ],
             [
              0.1111111111111111,
              "#46039f"
             ],
             [
              0.2222222222222222,
              "#7201a8"
             ],
             [
              0.3333333333333333,
              "#9c179e"
             ],
             [
              0.4444444444444444,
              "#bd3786"
             ],
             [
              0.5555555555555556,
              "#d8576b"
             ],
             [
              0.6666666666666666,
              "#ed7953"
             ],
             [
              0.7777777777777778,
              "#fb9f3a"
             ],
             [
              0.8888888888888888,
              "#fdca26"
             ],
             [
              1,
              "#f0f921"
             ]
            ],
            "type": "heatmapgl"
           }
          ],
          "histogram": [
           {
            "marker": {
             "colorbar": {
              "outlinewidth": 0,
              "ticks": ""
             }
            },
            "type": "histogram"
           }
          ],
          "histogram2d": [
           {
            "colorbar": {
             "outlinewidth": 0,
             "ticks": ""
            },
            "colorscale": [
             [
              0,
              "#0d0887"
             ],
             [
              0.1111111111111111,
              "#46039f"
             ],
             [
              0.2222222222222222,
              "#7201a8"
             ],
             [
              0.3333333333333333,
              "#9c179e"
             ],
             [
              0.4444444444444444,
              "#bd3786"
             ],
             [
              0.5555555555555556,
              "#d8576b"
             ],
             [
              0.6666666666666666,
              "#ed7953"
             ],
             [
              0.7777777777777778,
              "#fb9f3a"
             ],
             [
              0.8888888888888888,
              "#fdca26"
             ],
             [
              1,
              "#f0f921"
             ]
            ],
            "type": "histogram2d"
           }
          ],
          "histogram2dcontour": [
           {
            "colorbar": {
             "outlinewidth": 0,
             "ticks": ""
            },
            "colorscale": [
             [
              0,
              "#0d0887"
             ],
             [
              0.1111111111111111,
              "#46039f"
             ],
             [
              0.2222222222222222,
              "#7201a8"
             ],
             [
              0.3333333333333333,
              "#9c179e"
             ],
             [
              0.4444444444444444,
              "#bd3786"
             ],
             [
              0.5555555555555556,
              "#d8576b"
             ],
             [
              0.6666666666666666,
              "#ed7953"
             ],
             [
              0.7777777777777778,
              "#fb9f3a"
             ],
             [
              0.8888888888888888,
              "#fdca26"
             ],
             [
              1,
              "#f0f921"
             ]
            ],
            "type": "histogram2dcontour"
           }
          ],
          "mesh3d": [
           {
            "colorbar": {
             "outlinewidth": 0,
             "ticks": ""
            },
            "type": "mesh3d"
           }
          ],
          "parcoords": [
           {
            "line": {
             "colorbar": {
              "outlinewidth": 0,
              "ticks": ""
             }
            },
            "type": "parcoords"
           }
          ],
          "pie": [
           {
            "automargin": true,
            "type": "pie"
           }
          ],
          "scatter": [
           {
            "marker": {
             "colorbar": {
              "outlinewidth": 0,
              "ticks": ""
             }
            },
            "type": "scatter"
           }
          ],
          "scatter3d": [
           {
            "line": {
             "colorbar": {
              "outlinewidth": 0,
              "ticks": ""
             }
            },
            "marker": {
             "colorbar": {
              "outlinewidth": 0,
              "ticks": ""
             }
            },
            "type": "scatter3d"
           }
          ],
          "scattercarpet": [
           {
            "marker": {
             "colorbar": {
              "outlinewidth": 0,
              "ticks": ""
             }
            },
            "type": "scattercarpet"
           }
          ],
          "scattergeo": [
           {
            "marker": {
             "colorbar": {
              "outlinewidth": 0,
              "ticks": ""
             }
            },
            "type": "scattergeo"
           }
          ],
          "scattergl": [
           {
            "marker": {
             "colorbar": {
              "outlinewidth": 0,
              "ticks": ""
             }
            },
            "type": "scattergl"
           }
          ],
          "scattermapbox": [
           {
            "marker": {
             "colorbar": {
              "outlinewidth": 0,
              "ticks": ""
             }
            },
            "type": "scattermapbox"
           }
          ],
          "scatterpolar": [
           {
            "marker": {
             "colorbar": {
              "outlinewidth": 0,
              "ticks": ""
             }
            },
            "type": "scatterpolar"
           }
          ],
          "scatterpolargl": [
           {
            "marker": {
             "colorbar": {
              "outlinewidth": 0,
              "ticks": ""
             }
            },
            "type": "scatterpolargl"
           }
          ],
          "scatterternary": [
           {
            "marker": {
             "colorbar": {
              "outlinewidth": 0,
              "ticks": ""
             }
            },
            "type": "scatterternary"
           }
          ],
          "surface": [
           {
            "colorbar": {
             "outlinewidth": 0,
             "ticks": ""
            },
            "colorscale": [
             [
              0,
              "#0d0887"
             ],
             [
              0.1111111111111111,
              "#46039f"
             ],
             [
              0.2222222222222222,
              "#7201a8"
             ],
             [
              0.3333333333333333,
              "#9c179e"
             ],
             [
              0.4444444444444444,
              "#bd3786"
             ],
             [
              0.5555555555555556,
              "#d8576b"
             ],
             [
              0.6666666666666666,
              "#ed7953"
             ],
             [
              0.7777777777777778,
              "#fb9f3a"
             ],
             [
              0.8888888888888888,
              "#fdca26"
             ],
             [
              1,
              "#f0f921"
             ]
            ],
            "type": "surface"
           }
          ],
          "table": [
           {
            "cells": {
             "fill": {
              "color": "#EBF0F8"
             },
             "line": {
              "color": "white"
             }
            },
            "header": {
             "fill": {
              "color": "#C8D4E3"
             },
             "line": {
              "color": "white"
             }
            },
            "type": "table"
           }
          ]
         },
         "layout": {
          "annotationdefaults": {
           "arrowcolor": "#2a3f5f",
           "arrowhead": 0,
           "arrowwidth": 1
          },
          "coloraxis": {
           "colorbar": {
            "outlinewidth": 0,
            "ticks": ""
           }
          },
          "colorscale": {
           "diverging": [
            [
             0,
             "#8e0152"
            ],
            [
             0.1,
             "#c51b7d"
            ],
            [
             0.2,
             "#de77ae"
            ],
            [
             0.3,
             "#f1b6da"
            ],
            [
             0.4,
             "#fde0ef"
            ],
            [
             0.5,
             "#f7f7f7"
            ],
            [
             0.6,
             "#e6f5d0"
            ],
            [
             0.7,
             "#b8e186"
            ],
            [
             0.8,
             "#7fbc41"
            ],
            [
             0.9,
             "#4d9221"
            ],
            [
             1,
             "#276419"
            ]
           ],
           "sequential": [
            [
             0,
             "#0d0887"
            ],
            [
             0.1111111111111111,
             "#46039f"
            ],
            [
             0.2222222222222222,
             "#7201a8"
            ],
            [
             0.3333333333333333,
             "#9c179e"
            ],
            [
             0.4444444444444444,
             "#bd3786"
            ],
            [
             0.5555555555555556,
             "#d8576b"
            ],
            [
             0.6666666666666666,
             "#ed7953"
            ],
            [
             0.7777777777777778,
             "#fb9f3a"
            ],
            [
             0.8888888888888888,
             "#fdca26"
            ],
            [
             1,
             "#f0f921"
            ]
           ],
           "sequentialminus": [
            [
             0,
             "#0d0887"
            ],
            [
             0.1111111111111111,
             "#46039f"
            ],
            [
             0.2222222222222222,
             "#7201a8"
            ],
            [
             0.3333333333333333,
             "#9c179e"
            ],
            [
             0.4444444444444444,
             "#bd3786"
            ],
            [
             0.5555555555555556,
             "#d8576b"
            ],
            [
             0.6666666666666666,
             "#ed7953"
            ],
            [
             0.7777777777777778,
             "#fb9f3a"
            ],
            [
             0.8888888888888888,
             "#fdca26"
            ],
            [
             1,
             "#f0f921"
            ]
           ]
          },
          "colorway": [
           "#636efa",
           "#EF553B",
           "#00cc96",
           "#ab63fa",
           "#FFA15A",
           "#19d3f3",
           "#FF6692",
           "#B6E880",
           "#FF97FF",
           "#FECB52"
          ],
          "font": {
           "color": "#2a3f5f"
          },
          "geo": {
           "bgcolor": "white",
           "lakecolor": "white",
           "landcolor": "#E5ECF6",
           "showlakes": true,
           "showland": true,
           "subunitcolor": "white"
          },
          "hoverlabel": {
           "align": "left"
          },
          "hovermode": "closest",
          "mapbox": {
           "style": "light"
          },
          "paper_bgcolor": "white",
          "plot_bgcolor": "#E5ECF6",
          "polar": {
           "angularaxis": {
            "gridcolor": "white",
            "linecolor": "white",
            "ticks": ""
           },
           "bgcolor": "#E5ECF6",
           "radialaxis": {
            "gridcolor": "white",
            "linecolor": "white",
            "ticks": ""
           }
          },
          "scene": {
           "xaxis": {
            "backgroundcolor": "#E5ECF6",
            "gridcolor": "white",
            "gridwidth": 2,
            "linecolor": "white",
            "showbackground": true,
            "ticks": "",
            "zerolinecolor": "white"
           },
           "yaxis": {
            "backgroundcolor": "#E5ECF6",
            "gridcolor": "white",
            "gridwidth": 2,
            "linecolor": "white",
            "showbackground": true,
            "ticks": "",
            "zerolinecolor": "white"
           },
           "zaxis": {
            "backgroundcolor": "#E5ECF6",
            "gridcolor": "white",
            "gridwidth": 2,
            "linecolor": "white",
            "showbackground": true,
            "ticks": "",
            "zerolinecolor": "white"
           }
          },
          "shapedefaults": {
           "line": {
            "color": "#2a3f5f"
           }
          },
          "ternary": {
           "aaxis": {
            "gridcolor": "white",
            "linecolor": "white",
            "ticks": ""
           },
           "baxis": {
            "gridcolor": "white",
            "linecolor": "white",
            "ticks": ""
           },
           "bgcolor": "#E5ECF6",
           "caxis": {
            "gridcolor": "white",
            "linecolor": "white",
            "ticks": ""
           }
          },
          "title": {
           "x": 0.05
          },
          "xaxis": {
           "automargin": true,
           "gridcolor": "white",
           "linecolor": "white",
           "ticks": "",
           "title": {
            "standoff": 15
           },
           "zerolinecolor": "white",
           "zerolinewidth": 2
          },
          "yaxis": {
           "automargin": true,
           "gridcolor": "white",
           "linecolor": "white",
           "ticks": "",
           "title": {
            "standoff": 15
           },
           "zerolinecolor": "white",
           "zerolinewidth": 2
          }
         }
        },
        "xaxis": {
         "anchor": "y",
         "autorange": true,
         "domain": [
          0,
          1
         ],
         "range": [
          -0.009999999999999998,
          0.11
         ],
         "title": {
          "text": "value"
         },
         "type": "linear"
        },
        "xaxis2": {
         "anchor": "y2",
         "autorange": true,
         "domain": [
          0,
          1
         ],
         "matches": "x",
         "range": [
          -0.009999999999999998,
          0.11
         ],
         "showgrid": true,
         "showticklabels": false,
         "type": "linear"
        },
        "yaxis": {
         "anchor": "x",
         "autorange": true,
         "domain": [
          0,
          0.7326
         ],
         "range": [
          0,
          4.2105263157894735
         ],
         "title": {
          "text": "count"
         }
        },
        "yaxis2": {
         "anchor": "x2",
         "autorange": true,
         "domain": [
          0.7426,
          1
         ],
         "matches": "y2",
         "range": [
          -0.5,
          0.5
         ],
         "showgrid": false,
         "showline": false,
         "showticklabels": false,
         "ticks": "",
         "type": "linear"
        }
       }
      },
      "image/png": "[encoded data removed]",
      "text/html": [
       "<div>                            <div id=\"4cf2351e-9fdb-44ce-9dae-4b38b10cae03\" class=\"plotly-graph-div\" style=\"height:525px; width:100%;\"></div>            <script type=\"text/javascript\">                require([\"plotly\"], function(Plotly) {                    window.PLOTLYENV=window.PLOTLYENV || {};                                    if (document.getElementById(\"4cf2351e-9fdb-44ce-9dae-4b38b10cae03\")) {                    Plotly.newPlot(                        \"4cf2351e-9fdb-44ce-9dae-4b38b10cae03\",                        [{\"alignmentgroup\": \"True\", \"bingroup\": \"x\", \"hovertemplate\": \"variable=0<br>value=%{x}<br>count=%{y}<extra></extra>\", \"legendgroup\": \"0\", \"marker\": {\"color\": \"#636efa\"}, \"name\": \"0\", \"nbinsx\": 5, \"offsetgroup\": \"0\", \"orientation\": \"v\", \"showlegend\": true, \"type\": \"histogram\", \"x\": [0.0, 0.008, 0.095, 0.071, 0.013, 0.039, 0.038, 0.024, 0.026, 0.026], \"xaxis\": \"x\", \"yaxis\": \"y\"}, {\"alignmentgroup\": \"True\", \"hovertemplate\": \"variable=0<br>value=%{x}<extra></extra>\", \"legendgroup\": \"0\", \"marker\": {\"color\": \"#636efa\"}, \"name\": \"0\", \"notched\": true, \"offsetgroup\": \"0\", \"showlegend\": false, \"type\": \"box\", \"x\": [0.0, 0.008, 0.095, 0.071, 0.013, 0.039, 0.038, 0.024, 0.026, 0.026], \"xaxis\": \"x2\", \"yaxis\": \"y2\"}],                        {\"barmode\": \"relative\", \"legend\": {\"title\": {\"text\": \"variable\"}, \"tracegroupgap\": 0}, \"margin\": {\"t\": 60}, \"template\": {\"data\": {\"bar\": [{\"error_x\": {\"color\": \"#2a3f5f\"}, \"error_y\": {\"color\": \"#2a3f5f\"}, \"marker\": {\"line\": {\"color\": \"#E5ECF6\", \"width\": 0.5}}, \"type\": \"bar\"}], \"barpolar\": [{\"marker\": {\"line\": {\"color\": \"#E5ECF6\", \"width\": 0.5}}, \"type\": \"barpolar\"}], \"carpet\": [{\"aaxis\": {\"endlinecolor\": \"#2a3f5f\", \"gridcolor\": \"white\", \"linecolor\": \"white\", \"minorgridcolor\": \"white\", \"startlinecolor\": \"#2a3f5f\"}, \"baxis\": {\"endlinecolor\": \"#2a3f5f\", \"gridcolor\": \"white\", \"linecolor\": \"white\", \"minorgridcolor\": \"white\", \"startlinecolor\": \"#2a3f5f\"}, \"type\": \"carpet\"}], \"choropleth\": [{\"colorbar\": {\"outlinewidth\": 0, \"ticks\": \"\"}, \"type\": \"choropleth\"}], \"contour\": [{\"colorbar\": {\"outlinewidth\": 0, \"ticks\": \"\"}, \"colorscale\": [[0.0, \"#0d0887\"], [0.1111111111111111, \"#46039f\"], [0.2222222222222222, \"#7201a8\"], [0.3333333333333333, \"#9c179e\"], [0.4444444444444444, \"#bd3786\"], [0.5555555555555556, \"#d8576b\"], [0.6666666666666666, \"#ed7953\"], [0.7777777777777778, \"#fb9f3a\"], [0.8888888888888888, \"#fdca26\"], [1.0, \"#f0f921\"]], \"type\": \"contour\"}], \"contourcarpet\": [{\"colorbar\": {\"outlinewidth\": 0, \"ticks\": \"\"}, \"type\": \"contourcarpet\"}], \"heatmap\": [{\"colorbar\": {\"outlinewidth\": 0, \"ticks\": \"\"}, \"colorscale\": [[0.0, \"#0d0887\"], [0.1111111111111111, \"#46039f\"], [0.2222222222222222, \"#7201a8\"], [0.3333333333333333, \"#9c179e\"], [0.4444444444444444, \"#bd3786\"], [0.5555555555555556, \"#d8576b\"], [0.6666666666666666, \"#ed7953\"], [0.7777777777777778, \"#fb9f3a\"], [0.8888888888888888, \"#fdca26\"], [1.0, \"#f0f921\"]], \"type\": \"heatmap\"}], \"heatmapgl\": [{\"colorbar\": {\"outlinewidth\": 0, \"ticks\": \"\"}, \"colorscale\": [[0.0, \"#0d0887\"], [0.1111111111111111, \"#46039f\"], [0.2222222222222222, \"#7201a8\"], [0.3333333333333333, \"#9c179e\"], [0.4444444444444444, \"#bd3786\"], [0.5555555555555556, \"#d8576b\"], [0.6666666666666666, \"#ed7953\"], [0.7777777777777778, \"#fb9f3a\"], [0.8888888888888888, \"#fdca26\"], [1.0, \"#f0f921\"]], \"type\": \"heatmapgl\"}], \"histogram\": [{\"marker\": {\"colorbar\": {\"outlinewidth\": 0, \"ticks\": \"\"}}, \"type\": \"histogram\"}], \"histogram2d\": [{\"colorbar\": {\"outlinewidth\": 0, \"ticks\": \"\"}, \"colorscale\": [[0.0, \"#0d0887\"], [0.1111111111111111, \"#46039f\"], [0.2222222222222222, \"#7201a8\"], [0.3333333333333333, \"#9c179e\"], [0.4444444444444444, \"#bd3786\"], [0.5555555555555556, \"#d8576b\"], [0.6666666666666666, \"#ed7953\"], [0.7777777777777778, \"#fb9f3a\"], [0.8888888888888888, \"#fdca26\"], [1.0, \"#f0f921\"]], \"type\": \"histogram2d\"}], \"histogram2dcontour\": [{\"colorbar\": {\"outlinewidth\": 0, \"ticks\": \"\"}, \"colorscale\": [[0.0, \"#0d0887\"], [0.1111111111111111, \"#46039f\"], [0.2222222222222222, \"#7201a8\"], [0.3333333333333333, \"#9c179e\"], [0.4444444444444444, \"#bd3786\"], [0.5555555555555556, \"#d8576b\"], [0.6666666666666666, \"#ed7953\"], [0.7777777777777778, \"#fb9f3a\"], [0.8888888888888888, \"#fdca26\"], [1.0, \"#f0f921\"]], \"type\": \"histogram2dcontour\"}], \"mesh3d\": [{\"colorbar\": {\"outlinewidth\": 0, \"ticks\": \"\"}, \"type\": \"mesh3d\"}], \"parcoords\": [{\"line\": {\"colorbar\": {\"outlinewidth\": 0, \"ticks\": \"\"}}, \"type\": \"parcoords\"}], \"pie\": [{\"automargin\": true, \"type\": \"pie\"}], \"scatter\": [{\"marker\": {\"colorbar\": {\"outlinewidth\": 0, \"ticks\": \"\"}}, \"type\": \"scatter\"}], \"scatter3d\": [{\"line\": {\"colorbar\": {\"outlinewidth\": 0, \"ticks\": \"\"}}, \"marker\": {\"colorbar\": {\"outlinewidth\": 0, \"ticks\": \"\"}}, \"type\": \"scatter3d\"}], \"scattercarpet\": [{\"marker\": {\"colorbar\": {\"outlinewidth\": 0, \"ticks\": \"\"}}, \"type\": \"scattercarpet\"}], \"scattergeo\": [{\"marker\": {\"colorbar\": {\"outlinewidth\": 0, \"ticks\": \"\"}}, \"type\": \"scattergeo\"}], \"scattergl\": [{\"marker\": {\"colorbar\": {\"outlinewidth\": 0, \"ticks\": \"\"}}, \"type\": \"scattergl\"}], \"scattermapbox\": [{\"marker\": {\"colorbar\": {\"outlinewidth\": 0, \"ticks\": \"\"}}, \"type\": \"scattermapbox\"}], \"scatterpolar\": [{\"marker\": {\"colorbar\": {\"outlinewidth\": 0, \"ticks\": \"\"}}, \"type\": \"scatterpolar\"}], \"scatterpolargl\": [{\"marker\": {\"colorbar\": {\"outlinewidth\": 0, \"ticks\": \"\"}}, \"type\": \"scatterpolargl\"}], \"scatterternary\": [{\"marker\": {\"colorbar\": {\"outlinewidth\": 0, \"ticks\": \"\"}}, \"type\": \"scatterternary\"}], \"surface\": [{\"colorbar\": {\"outlinewidth\": 0, \"ticks\": \"\"}, \"colorscale\": [[0.0, \"#0d0887\"], [0.1111111111111111, \"#46039f\"], [0.2222222222222222, \"#7201a8\"], [0.3333333333333333, \"#9c179e\"], [0.4444444444444444, \"#bd3786\"], [0.5555555555555556, \"#d8576b\"], [0.6666666666666666, \"#ed7953\"], [0.7777777777777778, \"#fb9f3a\"], [0.8888888888888888, \"#fdca26\"], [1.0, \"#f0f921\"]], \"type\": \"surface\"}], \"table\": [{\"cells\": {\"fill\": {\"color\": \"#EBF0F8\"}, \"line\": {\"color\": \"white\"}}, \"header\": {\"fill\": {\"color\": \"#C8D4E3\"}, \"line\": {\"color\": \"white\"}}, \"type\": \"table\"}]}, \"layout\": {\"annotationdefaults\": {\"arrowcolor\": \"#2a3f5f\", \"arrowhead\": 0, \"arrowwidth\": 1}, \"coloraxis\": {\"colorbar\": {\"outlinewidth\": 0, \"ticks\": \"\"}}, \"colorscale\": {\"diverging\": [[0, \"#8e0152\"], [0.1, \"#c51b7d\"], [0.2, \"#de77ae\"], [0.3, \"#f1b6da\"], [0.4, \"#fde0ef\"], [0.5, \"#f7f7f7\"], [0.6, \"#e6f5d0\"], [0.7, \"#b8e186\"], [0.8, \"#7fbc41\"], [0.9, \"#4d9221\"], [1, \"#276419\"]], \"sequential\": [[0.0, \"#0d0887\"], [0.1111111111111111, \"#46039f\"], [0.2222222222222222, \"#7201a8\"], [0.3333333333333333, \"#9c179e\"], [0.4444444444444444, \"#bd3786\"], [0.5555555555555556, \"#d8576b\"], [0.6666666666666666, \"#ed7953\"], [0.7777777777777778, \"#fb9f3a\"], [0.8888888888888888, \"#fdca26\"], [1.0, \"#f0f921\"]], \"sequentialminus\": [[0.0, \"#0d0887\"], [0.1111111111111111, \"#46039f\"], [0.2222222222222222, \"#7201a8\"], [0.3333333333333333, \"#9c179e\"], [0.4444444444444444, \"#bd3786\"], [0.5555555555555556, \"#d8576b\"], [0.6666666666666666, \"#ed7953\"], [0.7777777777777778, \"#fb9f3a\"], [0.8888888888888888, \"#fdca26\"], [1.0, \"#f0f921\"]]}, \"colorway\": [\"#636efa\", \"#EF553B\", \"#00cc96\", \"#ab63fa\", \"#FFA15A\", \"#19d3f3\", \"#FF6692\", \"#B6E880\", \"#FF97FF\", \"#FECB52\"], \"font\": {\"color\": \"#2a3f5f\"}, \"geo\": {\"bgcolor\": \"white\", \"lakecolor\": \"white\", \"landcolor\": \"#E5ECF6\", \"showlakes\": true, \"showland\": true, \"subunitcolor\": \"white\"}, \"hoverlabel\": {\"align\": \"left\"}, \"hovermode\": \"closest\", \"mapbox\": {\"style\": \"light\"}, \"paper_bgcolor\": \"white\", \"plot_bgcolor\": \"#E5ECF6\", \"polar\": {\"angularaxis\": {\"gridcolor\": \"white\", \"linecolor\": \"white\", \"ticks\": \"\"}, \"bgcolor\": \"#E5ECF6\", \"radialaxis\": {\"gridcolor\": \"white\", \"linecolor\": \"white\", \"ticks\": \"\"}}, \"scene\": {\"xaxis\": {\"backgroundcolor\": \"#E5ECF6\", \"gridcolor\": \"white\", \"gridwidth\": 2, \"linecolor\": \"white\", \"showbackground\": true, \"ticks\": \"\", \"zerolinecolor\": \"white\"}, \"yaxis\": {\"backgroundcolor\": \"#E5ECF6\", \"gridcolor\": \"white\", \"gridwidth\": 2, \"linecolor\": \"white\", \"showbackground\": true, \"ticks\": \"\", \"zerolinecolor\": \"white\"}, \"zaxis\": {\"backgroundcolor\": \"#E5ECF6\", \"gridcolor\": \"white\", \"gridwidth\": 2, \"linecolor\": \"white\", \"showbackground\": true, \"ticks\": \"\", \"zerolinecolor\": \"white\"}}, \"shapedefaults\": {\"line\": {\"color\": \"#2a3f5f\"}}, \"ternary\": {\"aaxis\": {\"gridcolor\": \"white\", \"linecolor\": \"white\", \"ticks\": \"\"}, \"baxis\": {\"gridcolor\": \"white\", \"linecolor\": \"white\", \"ticks\": \"\"}, \"bgcolor\": \"#E5ECF6\", \"caxis\": {\"gridcolor\": \"white\", \"linecolor\": \"white\", \"ticks\": \"\"}}, \"title\": {\"x\": 0.05}, \"xaxis\": {\"automargin\": true, \"gridcolor\": \"white\", \"linecolor\": \"white\", \"ticks\": \"\", \"title\": {\"standoff\": 15}, \"zerolinecolor\": \"white\", \"zerolinewidth\": 2}, \"yaxis\": {\"automargin\": true, \"gridcolor\": \"white\", \"linecolor\": \"white\", \"ticks\": \"\", \"title\": {\"standoff\": 15}, \"zerolinecolor\": \"white\", \"zerolinewidth\": 2}}}, \"xaxis\": {\"anchor\": \"y\", \"domain\": [0.0, 1.0], \"title\": {\"text\": \"value\"}}, \"xaxis2\": {\"anchor\": \"y2\", \"domain\": [0.0, 1.0], \"matches\": \"x\", \"showgrid\": true, \"showticklabels\": false}, \"yaxis\": {\"anchor\": \"x\", \"domain\": [0.0, 0.7326], \"title\": {\"text\": \"count\"}}, \"yaxis2\": {\"anchor\": \"x2\", \"domain\": [0.7426, 1.0], \"matches\": \"y2\", \"showgrid\": false, \"showline\": false, \"showticklabels\": false, \"ticks\": \"\"}},                        {\"responsive\": true}                    ).then(function(){\n",
       "                            \n",
       "var gd = document.getElementById('4cf2351e-9fdb-44ce-9dae-4b38b10cae03');\n",
       "var x = new MutationObserver(function (mutations, observer) {{\n",
       "        var display = window.getComputedStyle(gd).display;\n",
       "        if (!display || display === 'none') {{\n",
       "            console.log([gd, 'removed!']);\n",
       "            Plotly.purge(gd);\n",
       "            observer.disconnect();\n",
       "        }}\n",
       "}});\n",
       "\n",
       "// Listen for the removal of the full notebook cells\n",
       "var notebookContainer = gd.closest('#notebook-container');\n",
       "if (notebookContainer) {{\n",
       "    x.observe(notebookContainer, {childList: true});\n",
       "}}\n",
       "\n",
       "// Listen for the clearing of the current output cell\n",
       "var outputEl = gd.closest('.output');\n",
       "if (outputEl) {{\n",
       "    x.observe(outputEl, {childList: true});\n",
       "}}\n",
       "\n",
       "                        })                };                });            </script>        </div>"
      ]
     },
     "metadata": {},
     "output_type": "display_data"
    }
   ],
   "source": [
    "import plotly.express as px\n",
    "feature_idx = 0\n",
    "fig = px.histogram([item[feature_idx] for item in intersection_matrix], marginal=\"box\", nbins=5)\n",
    "fig.show()\n",
    "# intersection_matrix"
   ]
  }
 ],
 "metadata": {
  "interpreter": {
   "hash": "17ddb6dd1369b98a9580534afb07762b5ebdbc039cd5b98c3e5a98f1dd9838be"
  },
  "kernelspec": {
   "display_name": "castlenv",
   "language": "python",
   "name": "castlenv"
  },
  "language_info": {
   "codemirror_mode": {
    "name": "ipython",
    "version": 3
   },
   "file_extension": ".py",
   "mimetype": "text/x-python",
   "name": "python",
   "nbconvert_exporter": "python",
   "pygments_lexer": "ipython3",
   "version": "3.6.9"
  }
 },
 "nbformat": 4,
 "nbformat_minor": 4
}
