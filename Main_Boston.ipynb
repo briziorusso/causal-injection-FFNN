{
 "cells": [
  {
   "cell_type": "markdown",
   "metadata": {},
   "source": [
    "# Causal Injection into a Neural Network\n",
    "\n",
    "## Experiment on Boston Dataset"
   ]
  },
  {
   "cell_type": "code",
   "execution_count": 2,
   "metadata": {},
   "outputs": [
    {
     "name": "stdout",
     "output_type": "stream",
     "text": [
      "WARNING:tensorflow:From /vol/bitbucket/fr920/envs/bayesenv/lib/python3.6/site-packages/tensorflow/python/compat/v2_compat.py:101: disable_resource_variables (from tensorflow.python.ops.variable_scope) is deprecated and will be removed in a future version.\n",
      "Instructions for updating:\n",
      "non-resource variables are not supported in the long term\n"
     ]
    }
   ],
   "source": [
    "import numpy as np\n",
    "np.set_printoptions(suppress=True)\n",
    "import math\n",
    "import networkx as nx\n",
    "import random\n",
    "import pandas as pd\n",
    "#import tensorflow as tf\n",
    "#Disable TensorFlow 2 behaviour\n",
    "from sklearn.model_selection import KFold , train_test_split\n",
    "from sklearn.preprocessing import StandardScaler  , MinMaxScaler\n",
    "import tensorflow.compat.v1 as tf\n",
    "tf.disable_v2_behavior() \n",
    "import os\n",
    "from sklearn.metrics import mean_squared_error, classification_report, confusion_matrix\n",
    "from CASTLE2 import CASTLE\n",
    "from utils import gen_random_dag, gen_data_nonlinear, heat_mat, plot_DAG, DAG_retreive_np, save_pickle, load_pickle, random_stability\n",
    "from signal import signal, SIGINT\n",
    "from sys import exit\n",
    "import argparse\n",
    "import plotly.express as px\n",
    "from pmlb import fetch_data\n"
   ]
  },
  {
   "cell_type": "markdown",
   "metadata": {},
   "source": [
    "### Set parameters"
   ]
  },
  {
   "cell_type": "code",
   "execution_count": 3,
   "metadata": {},
   "outputs": [
    {
     "name": "stdout",
     "output_type": "stream",
     "text": [
      "Random seed 0 set for:\n",
      " - PYTHONHASHSEED (env)\n",
      " - random\n",
      " - NumPy\n",
      " - TensorFlow\n",
      " - PyTorch\n",
      "   -> deterministic\n"
     ]
    }
   ],
   "source": [
    "## Parameters Definition\n",
    "dag_type = 'boston' ##'fico','toy','random'\n",
    "csv = None\n",
    "# csv = './data/fico/WOE_Rud_data.csv'\n",
    "# csv_y = './data/fico/y_data.csv'\n",
    "# csv = 'synth_nonlinear.csv'\n",
    "num_nodes = 20\n",
    "branchf = 4\n",
    "dataset_sz = 10000\n",
    "output_log = f'castle_{dag_type}.log'\n",
    "n_folds = 1\n",
    "reg_lambda = 1\n",
    "reg_beta = 5\n",
    "gpu = ''\n",
    "ckpt_file = os.path.join(\"./models/\",dag_type,f'{dag_type}.ckpt')\n",
    "extension = ''\n",
    "seed = 0\n",
    "\n",
    "random_stability(seed, verbose=True)\n",
    "\n",
    "force_refit = True ## Refits the model if already present, False will only load it from ckpt_file\n",
    "tuned = False ## Loads a tuned model saved in ckpt_file + \"tuned\"\n",
    "\n",
    "tune = False ## Injects a loaded_adj into a model loaded from ckpt_file \n",
    "loaded_adj = None ## Adjacency matrix to be injected\n"
   ]
  },
  {
   "cell_type": "markdown",
   "metadata": {},
   "source": [
    "### Generate or Load data"
   ]
  },
  {
   "cell_type": "code",
   "execution_count": 4,
   "metadata": {},
   "outputs": [
    {
     "name": "stdout",
     "output_type": "stream",
     "text": [
      "(404, 14) (102, 14) (404,) (102,)\n"
     ]
    }
   ],
   "source": [
    "run=True\n",
    "if run:\n",
    "    scaler = StandardScaler()\n",
    "\n",
    "    if dag_type == 'random' :\n",
    "        def swap_cols(df, a, b):\n",
    "            df = df.rename(columns = {a : 'temp'})\n",
    "            df = df.rename(columns = {b : a})\n",
    "            return df.rename(columns = {'temp' : b})\n",
    "        def swap_nodes(G, a, b):\n",
    "            newG = nx.relabel_nodes(G, {a : 'temp'})\n",
    "            newG = nx.relabel_nodes(newG, {b : a})\n",
    "            return nx.relabel_nodes(newG, {'temp' : b})\n",
    "        \n",
    "        #Random DAG\n",
    "        num_edges = int(num_nodes*branchf)\n",
    "        G = gen_random_dag(num_nodes, num_edges, seed)\n",
    "\n",
    "        noise = random.uniform(0.3, 1.0)\n",
    "        print(\"Setting noise to \", noise)\n",
    "        \n",
    "        df = gen_data_nonlinear(G, SIZE = dataset_sz, var = noise).iloc[:dataset_sz]\n",
    "        df_test =  gen_data_nonlinear(G, SIZE = int(dataset_sz*0.25), var = noise)\n",
    "        \n",
    "        for i in range(len(G.edges())):\n",
    "            if len(list(G.predecessors(i))) > 0:\n",
    "                df = swap_cols(df, str(0), str(i))\n",
    "                df_test = swap_cols(df_test, str(0), str(i))\n",
    "                G = swap_nodes(G, 0, i)\n",
    "                break     \n",
    "                \n",
    "        df = pd.DataFrame(df)\n",
    "        df_test = pd.DataFrame(df_test)  \n",
    "        \n",
    "        #print(\"Number of parents of G\", len(list(G.predecessors(i))))\n",
    "        print(\"Edges = \", len(G.edges()), list(G.edges()))\n",
    "        \n",
    "    elif dag_type == 'toy':\n",
    "        '''\n",
    "        Toy DAG\n",
    "        The node '0' is the target in the Toy DAG\n",
    "        '''\n",
    "        G = nx.DiGraph()\n",
    "        for i in range(10):\n",
    "            G.add_node(i)\n",
    "        G.add_edge(1,2)\n",
    "        G.add_edge(1,3)\n",
    "        G.add_edge(1,4)\n",
    "        G.add_edge(2,5)\n",
    "        G.add_edge(2,0)\n",
    "        G.add_edge(3,0)\n",
    "        G.add_edge(3,6)\n",
    "        G.add_edge(3,7)\n",
    "        G.add_edge(6,9)\n",
    "        G.add_edge(0,8)\n",
    "        G.add_edge(0,9)\n",
    "\n",
    "        if csv:\n",
    "            df = pd.read_csv(csv)\n",
    "            df_test = df.iloc[-1000:]\n",
    "            df = df.iloc[:dataset_sz]\n",
    "        else: \n",
    "            df = gen_data_nonlinear(G, SIZE = dataset_sz)\n",
    "            df_test = gen_data_nonlinear(G, SIZE = 1000)\n",
    "\n",
    "    elif dag_type == 'fico':\n",
    "        df = pd.read_csv(csv)\n",
    "\n",
    "        \n",
    "    if dag_type == 'random':\n",
    "        df = scaler.fit_transform(df)\n",
    "    else:\n",
    "        if csv:\n",
    "            scaler.fit(pd.read_csv(csv))\n",
    "            if dag_type != 'fico':\n",
    "                df = scaler.transform(df)\n",
    "        else:\n",
    "            if dag_type not in ['adult','boston']:\n",
    "                df = scaler.fit_transform(df)\n",
    "\n",
    "    if dag_type in ['toy', 'random']:\n",
    "        df_test = scaler.transform(df_test)\n",
    "        \n",
    "        X_test = df_test\n",
    "        y_test = df_test[:,0]\n",
    "        X_DAG = df\n",
    "\n",
    "        # plot_DAG(G, G, 'py', debug=True)\n",
    "        print(df.shape, df_test.shape, X_train.shape, X_test.shape, y_train.shape, y_test.shape)\n",
    "\n",
    "    elif dag_type == 'adult':\n",
    "        # load dataset and descriptive statistics\n",
    "        dataset = fetch_data(dag_type)\n",
    "\n",
    "        print(dataset.head())    \n",
    "        print(dataset.shape)\n",
    "        print(dataset.columns)\n",
    "\n",
    "        cols = ['age', 'workclass', 'fnlwgt', 'education', 'education-num',\n",
    "                'marital-status', 'occupation', 'relationship', 'race', 'sex',\n",
    "                'capital-gain', 'capital-loss', 'hours-per-week', 'native-country']\n",
    "\n",
    "        print(dataset[cols].info())    \n",
    "        print(dataset[cols].describe())\n",
    "        print(dataset[cols].corr())    \n",
    "\n",
    "        cols = list(dataset.columns)\n",
    "        cols = [cols[-1]] + cols[:-1]\n",
    "        dataset = dataset[cols]\n",
    "\n",
    "        # load features and target from dataset\n",
    "        X, y = fetch_data(dag_type, return_X_y=True)\n",
    "\n",
    "        # Split Train and Test Datasets\n",
    "        X_train, X_test, y_train, y_test = train_test_split(X, y, stratify = y, test_size=0.25, shuffle = True, random_state = seed)  \n",
    "\n",
    "        X_DAG = scaler.fit_transform(dataset)\n",
    "        X_train = scaler.fit_transform(X_train)\n",
    "        X_test = scaler.transform(X_test)\n",
    "\n",
    "        X_train = np.hstack((y_train[:,None],X_train))    \n",
    "        X_test = np.hstack((y_test[:,None],X_test))    \n",
    "\n",
    "        # plot_DAG(G, G, 'py', debug=True)\n",
    "        print(X_DAG.shape, X_train.shape, X_test.shape, y_train.shape, y_test.shape)\n",
    "\n",
    "    elif dag_type == 'fico':\n",
    "        label = 'RiskPerformance'\n",
    "        y = pd.read_csv(os.path.join(csv_y))\n",
    "        y = pd.get_dummies(y[label])[['Bad']].to_numpy()\n",
    "        df.insert(loc=0, column=label, value=y)\n",
    "        X_DAG = df.to_numpy()\n",
    "        X_train, X_test, y_train, y_test = train_test_split(X_DAG, y, stratify = y, test_size = 0.25, shuffle = True, random_state = seed)\n",
    "        print(X_train.shape, X_test.shape, y_train.shape, y_test.shape)\n",
    "\n",
    "    elif dag_type == 'boston':\n",
    "        from sklearn.datasets import load_boston\n",
    "        label = 'PRICE'\n",
    "\n",
    "        df = pd.DataFrame(load_boston().data, columns=load_boston().feature_names)\n",
    "        y = load_boston().target\n",
    "        df.insert(loc=0, column=label, value=y)\n",
    "        X_DAG = df.to_numpy()\n",
    "        X_train, X_test, y_train, y_test = train_test_split(X_DAG, y, test_size = 0.2, shuffle = True, random_state = seed)\n",
    "        print(X_train.shape, X_test.shape, y_train.shape, y_test.shape)\n"
   ]
  },
  {
   "cell_type": "markdown",
   "metadata": {},
   "source": [
    "## Tau Optimisation"
   ]
  },
  {
   "cell_type": "code",
   "execution_count": 24,
   "metadata": {},
   "outputs": [],
   "source": [
    "rerun_tau_optim = False\n",
    "if rerun_tau_optim:\n",
    "    %run -i main_fr.py --version=\"boston\" ## set dataset_size to a number gt 506 eg [100000]"
   ]
  },
  {
   "cell_type": "code",
   "execution_count": 7,
   "metadata": {
    "tags": []
   },
   "outputs": [
    {
     "name": "stderr",
     "output_type": "stream",
     "text": [
      "<>:10: DeprecationWarning:\n",
      "\n",
      "invalid escape sequence \\d\n",
      "\n",
      "<>:14: DeprecationWarning:\n",
      "\n",
      "invalid escape sequence \\d\n",
      "\n",
      "<>:10: DeprecationWarning:\n",
      "\n",
      "invalid escape sequence \\d\n",
      "\n",
      "<>:14: DeprecationWarning:\n",
      "\n",
      "invalid escape sequence \\d\n",
      "\n",
      "<>:10: DeprecationWarning:\n",
      "\n",
      "invalid escape sequence \\d\n",
      "\n",
      "<>:14: DeprecationWarning:\n",
      "\n",
      "invalid escape sequence \\d\n",
      "\n",
      "<ipython-input-7-eced301e309a>:10: DeprecationWarning:\n",
      "\n",
      "invalid escape sequence \\d\n",
      "\n",
      "<ipython-input-7-eced301e309a>:14: DeprecationWarning:\n",
      "\n",
      "invalid escape sequence \\d\n",
      "\n"
     ]
    },
    {
     "data": {
      "text/html": [
       "<div>\n",
       "<style scoped>\n",
       "    .dataframe tbody tr th:only-of-type {\n",
       "        vertical-align: middle;\n",
       "    }\n",
       "\n",
       "    .dataframe tbody tr th {\n",
       "        vertical-align: top;\n",
       "    }\n",
       "\n",
       "    .dataframe thead th {\n",
       "        text-align: right;\n",
       "    }\n",
       "</style>\n",
       "<table border=\"1\" class=\"dataframe\">\n",
       "  <thead>\n",
       "    <tr style=\"text-align: right;\">\n",
       "      <th></th>\n",
       "      <th>theta</th>\n",
       "      <th>count</th>\n",
       "      <th>folds</th>\n",
       "      <th>accuracy_mean</th>\n",
       "      <th>accuracy_std</th>\n",
       "      <th>N_edges</th>\n",
       "      <th>Std</th>\n",
       "    </tr>\n",
       "  </thead>\n",
       "  <tbody>\n",
       "    <tr>\n",
       "      <th>0</th>\n",
       "      <td>-0.200</td>\n",
       "      <td>25</td>\n",
       "      <td>5</td>\n",
       "      <td>22.231392</td>\n",
       "      <td>7.387012</td>\n",
       "      <td>182.000000</td>\n",
       "      <td>0.000000</td>\n",
       "    </tr>\n",
       "    <tr>\n",
       "      <th>1</th>\n",
       "      <td>0.000</td>\n",
       "      <td>25</td>\n",
       "      <td>5</td>\n",
       "      <td>18.507690</td>\n",
       "      <td>7.042780</td>\n",
       "      <td>91.000000</td>\n",
       "      <td>0.000000</td>\n",
       "    </tr>\n",
       "    <tr>\n",
       "      <th>15</th>\n",
       "      <td>0.037</td>\n",
       "      <td>10</td>\n",
       "      <td>5</td>\n",
       "      <td>16.818329</td>\n",
       "      <td>6.783890</td>\n",
       "      <td>90.500000</td>\n",
       "      <td>0.527046</td>\n",
       "    </tr>\n",
       "    <tr>\n",
       "      <th>16</th>\n",
       "      <td>0.066</td>\n",
       "      <td>25</td>\n",
       "      <td>5</td>\n",
       "      <td>18.437362</td>\n",
       "      <td>6.868943</td>\n",
       "      <td>86.000000</td>\n",
       "      <td>1.290994</td>\n",
       "    </tr>\n",
       "    <tr>\n",
       "      <th>17</th>\n",
       "      <td>0.132</td>\n",
       "      <td>25</td>\n",
       "      <td>5</td>\n",
       "      <td>20.363651</td>\n",
       "      <td>5.233823</td>\n",
       "      <td>47.800000</td>\n",
       "      <td>7.942502</td>\n",
       "    </tr>\n",
       "    <tr>\n",
       "      <th>18</th>\n",
       "      <td>0.198</td>\n",
       "      <td>25</td>\n",
       "      <td>5</td>\n",
       "      <td>40.765085</td>\n",
       "      <td>27.205065</td>\n",
       "      <td>32.800000</td>\n",
       "      <td>8.098354</td>\n",
       "    </tr>\n",
       "    <tr>\n",
       "      <th>19</th>\n",
       "      <td>0.264</td>\n",
       "      <td>25</td>\n",
       "      <td>5</td>\n",
       "      <td>41.876700</td>\n",
       "      <td>27.307922</td>\n",
       "      <td>23.000000</td>\n",
       "      <td>6.390097</td>\n",
       "    </tr>\n",
       "    <tr>\n",
       "      <th>20</th>\n",
       "      <td>0.330</td>\n",
       "      <td>25</td>\n",
       "      <td>5</td>\n",
       "      <td>62.497449</td>\n",
       "      <td>29.583180</td>\n",
       "      <td>17.000000</td>\n",
       "      <td>5.916080</td>\n",
       "    </tr>\n",
       "    <tr>\n",
       "      <th>21</th>\n",
       "      <td>0.396</td>\n",
       "      <td>25</td>\n",
       "      <td>5</td>\n",
       "      <td>84.998406</td>\n",
       "      <td>12.277859</td>\n",
       "      <td>12.200000</td>\n",
       "      <td>5.416026</td>\n",
       "    </tr>\n",
       "    <tr>\n",
       "      <th>22</th>\n",
       "      <td>0.462</td>\n",
       "      <td>25</td>\n",
       "      <td>5</td>\n",
       "      <td>84.606197</td>\n",
       "      <td>12.862441</td>\n",
       "      <td>9.800000</td>\n",
       "      <td>4.804512</td>\n",
       "    </tr>\n",
       "    <tr>\n",
       "      <th>23</th>\n",
       "      <td>0.528</td>\n",
       "      <td>25</td>\n",
       "      <td>5</td>\n",
       "      <td>84.601992</td>\n",
       "      <td>12.865846</td>\n",
       "      <td>7.800000</td>\n",
       "      <td>4.252450</td>\n",
       "    </tr>\n",
       "    <tr>\n",
       "      <th>24</th>\n",
       "      <td>0.594</td>\n",
       "      <td>15</td>\n",
       "      <td>5</td>\n",
       "      <td>85.127489</td>\n",
       "      <td>3.362446</td>\n",
       "      <td>5.666667</td>\n",
       "      <td>3.415650</td>\n",
       "    </tr>\n",
       "    <tr>\n",
       "      <th>25</th>\n",
       "      <td>0.660</td>\n",
       "      <td>15</td>\n",
       "      <td>5</td>\n",
       "      <td>92.360319</td>\n",
       "      <td>8.356597</td>\n",
       "      <td>6.666667</td>\n",
       "      <td>3.518658</td>\n",
       "    </tr>\n",
       "    <tr>\n",
       "      <th>26</th>\n",
       "      <td>0.726</td>\n",
       "      <td>10</td>\n",
       "      <td>5</td>\n",
       "      <td>93.777601</td>\n",
       "      <td>10.106333</td>\n",
       "      <td>6.500000</td>\n",
       "      <td>0.527046</td>\n",
       "    </tr>\n",
       "    <tr>\n",
       "      <th>27</th>\n",
       "      <td>0.792</td>\n",
       "      <td>15</td>\n",
       "      <td>5</td>\n",
       "      <td>89.775006</td>\n",
       "      <td>10.007312</td>\n",
       "      <td>2.666667</td>\n",
       "      <td>1.290994</td>\n",
       "    </tr>\n",
       "  </tbody>\n",
       "</table>\n",
       "</div>"
      ],
      "text/plain": [
       "    theta  count  folds  accuracy_mean  accuracy_std     N_edges       Std\n",
       "0  -0.200     25      5      22.231392      7.387012  182.000000  0.000000\n",
       "1   0.000     25      5      18.507690      7.042780   91.000000  0.000000\n",
       "15  0.037     10      5      16.818329      6.783890   90.500000  0.527046\n",
       "16  0.066     25      5      18.437362      6.868943   86.000000  1.290994\n",
       "17  0.132     25      5      20.363651      5.233823   47.800000  7.942502\n",
       "18  0.198     25      5      40.765085     27.205065   32.800000  8.098354\n",
       "19  0.264     25      5      41.876700     27.307922   23.000000  6.390097\n",
       "20  0.330     25      5      62.497449     29.583180   17.000000  5.916080\n",
       "21  0.396     25      5      84.998406     12.277859   12.200000  5.416026\n",
       "22  0.462     25      5      84.606197     12.862441    9.800000  4.804512\n",
       "23  0.528     25      5      84.601992     12.865846    7.800000  4.252450\n",
       "24  0.594     15      5      85.127489      3.362446    5.666667  3.415650\n",
       "25  0.660     15      5      92.360319      8.356597    6.666667  3.518658\n",
       "26  0.726     10      5      93.777601     10.106333    6.500000  0.527046\n",
       "27  0.792     15      5      89.775006     10.007312    2.666667  1.290994"
      ]
     },
     "metadata": {},
     "output_type": "display_data"
    },
    {
     "data": {
      "application/vnd.plotly.v1+json": {
       "config": {
        "plotlyServerURL": "https://plot.ly"
       },
       "data": [
        {
         "error_y": {
          "array": [
           7.387011778212339,
           7.042780073563186,
           6.783889825213433,
           6.868942622813242,
           5.233823309639463,
           27.2050648946466,
           27.307922325269054,
           29.5831797422127,
           12.277859208340255,
           12.862440544372042,
           12.865846193946338,
           3.3624461481766983,
           8.356597330489718,
           10.106332926751348,
           10.007311731194303
          ],
          "type": "data",
          "visible": true
         },
         "name": "MSE",
         "type": "scatter",
         "x": [
          -0.2,
          0,
          0.037,
          0.066,
          0.132,
          0.198,
          0.264,
          0.33,
          0.396,
          0.462,
          0.528,
          0.5940000000000001,
          0.66,
          0.726,
          0.792
         ],
         "xaxis": "x",
         "y": [
          22.231392264045418,
          18.50768999498596,
          16.818328777785908,
          18.437362453397082,
          20.36365077742586,
          40.76508476467781,
          41.87670011744681,
          62.4974491992222,
          84.99840569296435,
          84.60619672687682,
          84.60199238831366,
          85.12748922987889,
          92.36031912990856,
          93.77760136324999,
          89.77500632386798
         ],
         "yaxis": "y2"
        },
        {
         "error_y": {
          "array": [
           0,
           0,
           0.5270462766947284,
           1.2909944487357985,
           7.942501704962573,
           8.098353742170895,
           6.390096504226937,
           5.916079783099617,
           5.416025603090639,
           4.804511768466525,
           4.252450274057693,
           3.4156502553198664,
           3.518657752744984,
           0.5270462766947299,
           1.2909944487358054
          ],
          "type": "data",
          "visible": true
         },
         "name": "Edges",
         "type": "scatter",
         "x": [
          -0.2,
          0,
          0.037,
          0.066,
          0.132,
          0.198,
          0.264,
          0.33,
          0.396,
          0.462,
          0.528,
          0.5940000000000001,
          0.66,
          0.726,
          0.792
         ],
         "xaxis": "x",
         "y": [
          182,
          91,
          90.5,
          86,
          47.8,
          32.8,
          23,
          17,
          12.2,
          9.8,
          7.8,
          5.666666666666667,
          6.666666666666667,
          6.5,
          2.6666666666666665
         ],
         "yaxis": "y"
        }
       ],
       "layout": {
        "annotations": [
         {
          "showarrow": false,
          "text": "CASTLE",
          "x": 0.02,
          "xref": "paper",
          "y": -0.094,
          "yref": "paper",
          "yshift": 0
         },
         {
          "ax": 0,
          "ay": 80,
          "showarrow": true,
          "text": "0.13",
          "x": 0.13,
          "xref": "x",
          "y": 47.8,
          "yref": "y",
          "yshift": 0
         },
         {
          "ax": 300,
          "ay": 0,
          "showarrow": true,
          "text": "20.4",
          "x": 0.13,
          "xref": "x",
          "y": 20.363,
          "yref": "y2",
          "yshift": 0
         },
         {
          "ax": -150,
          "ay": 0,
          "showarrow": true,
          "text": "48",
          "x": 0.13,
          "xref": "x",
          "y": 47.8,
          "yref": "y",
          "yshift": 0
         }
        ],
        "autosize": true,
        "font": {
         "family": "Serif",
         "size": 18
        },
        "height": 350,
        "legend": {
         "orientation": "h",
         "x": 0.85,
         "xanchor": "center",
         "y": -0.23,
         "yanchor": "bottom"
        },
        "margin": {
         "b": 0,
         "l": 10,
         "pad": 0,
         "r": 10,
         "t": 10
        },
        "template": {
         "data": {
          "bar": [
           {
            "error_x": {
             "color": "#2a3f5f"
            },
            "error_y": {
             "color": "#2a3f5f"
            },
            "marker": {
             "line": {
              "color": "white",
              "width": 0.5
             },
             "pattern": {
              "fillmode": "overlay",
              "size": 10,
              "solidity": 0.2
             }
            },
            "type": "bar"
           }
          ],
          "barpolar": [
           {
            "marker": {
             "line": {
              "color": "white",
              "width": 0.5
             },
             "pattern": {
              "fillmode": "overlay",
              "size": 10,
              "solidity": 0.2
             }
            },
            "type": "barpolar"
           }
          ],
          "carpet": [
           {
            "aaxis": {
             "endlinecolor": "#2a3f5f",
             "gridcolor": "#C8D4E3",
             "linecolor": "#C8D4E3",
             "minorgridcolor": "#C8D4E3",
             "startlinecolor": "#2a3f5f"
            },
            "baxis": {
             "endlinecolor": "#2a3f5f",
             "gridcolor": "#C8D4E3",
             "linecolor": "#C8D4E3",
             "minorgridcolor": "#C8D4E3",
             "startlinecolor": "#2a3f5f"
            },
            "type": "carpet"
           }
          ],
          "choropleth": [
           {
            "colorbar": {
             "outlinewidth": 0,
             "ticks": ""
            },
            "type": "choropleth"
           }
          ],
          "contour": [
           {
            "colorbar": {
             "outlinewidth": 0,
             "ticks": ""
            },
            "colorscale": [
             [
              0,
              "#0d0887"
             ],
             [
              0.1111111111111111,
              "#46039f"
             ],
             [
              0.2222222222222222,
              "#7201a8"
             ],
             [
              0.3333333333333333,
              "#9c179e"
             ],
             [
              0.4444444444444444,
              "#bd3786"
             ],
             [
              0.5555555555555556,
              "#d8576b"
             ],
             [
              0.6666666666666666,
              "#ed7953"
             ],
             [
              0.7777777777777778,
              "#fb9f3a"
             ],
             [
              0.8888888888888888,
              "#fdca26"
             ],
             [
              1,
              "#f0f921"
             ]
            ],
            "type": "contour"
           }
          ],
          "contourcarpet": [
           {
            "colorbar": {
             "outlinewidth": 0,
             "ticks": ""
            },
            "type": "contourcarpet"
           }
          ],
          "heatmap": [
           {
            "colorbar": {
             "outlinewidth": 0,
             "ticks": ""
            },
            "colorscale": [
             [
              0,
              "#0d0887"
             ],
             [
              0.1111111111111111,
              "#46039f"
             ],
             [
              0.2222222222222222,
              "#7201a8"
             ],
             [
              0.3333333333333333,
              "#9c179e"
             ],
             [
              0.4444444444444444,
              "#bd3786"
             ],
             [
              0.5555555555555556,
              "#d8576b"
             ],
             [
              0.6666666666666666,
              "#ed7953"
             ],
             [
              0.7777777777777778,
              "#fb9f3a"
             ],
             [
              0.8888888888888888,
              "#fdca26"
             ],
             [
              1,
              "#f0f921"
             ]
            ],
            "type": "heatmap"
           }
          ],
          "heatmapgl": [
           {
            "colorbar": {
             "outlinewidth": 0,
             "ticks": ""
            },
            "colorscale": [
             [
              0,
              "#0d0887"
             ],
             [
              0.1111111111111111,
              "#46039f"
             ],
             [
              0.2222222222222222,
              "#7201a8"
             ],
             [
              0.3333333333333333,
              "#9c179e"
             ],
             [
              0.4444444444444444,
              "#bd3786"
             ],
             [
              0.5555555555555556,
              "#d8576b"
             ],
             [
              0.6666666666666666,
              "#ed7953"
             ],
             [
              0.7777777777777778,
              "#fb9f3a"
             ],
             [
              0.8888888888888888,
              "#fdca26"
             ],
             [
              1,
              "#f0f921"
             ]
            ],
            "type": "heatmapgl"
           }
          ],
          "histogram": [
           {
            "marker": {
             "pattern": {
              "fillmode": "overlay",
              "size": 10,
              "solidity": 0.2
             }
            },
            "type": "histogram"
           }
          ],
          "histogram2d": [
           {
            "colorbar": {
             "outlinewidth": 0,
             "ticks": ""
            },
            "colorscale": [
             [
              0,
              "#0d0887"
             ],
             [
              0.1111111111111111,
              "#46039f"
             ],
             [
              0.2222222222222222,
              "#7201a8"
             ],
             [
              0.3333333333333333,
              "#9c179e"
             ],
             [
              0.4444444444444444,
              "#bd3786"
             ],
             [
              0.5555555555555556,
              "#d8576b"
             ],
             [
              0.6666666666666666,
              "#ed7953"
             ],
             [
              0.7777777777777778,
              "#fb9f3a"
             ],
             [
              0.8888888888888888,
              "#fdca26"
             ],
             [
              1,
              "#f0f921"
             ]
            ],
            "type": "histogram2d"
           }
          ],
          "histogram2dcontour": [
           {
            "colorbar": {
             "outlinewidth": 0,
             "ticks": ""
            },
            "colorscale": [
             [
              0,
              "#0d0887"
             ],
             [
              0.1111111111111111,
              "#46039f"
             ],
             [
              0.2222222222222222,
              "#7201a8"
             ],
             [
              0.3333333333333333,
              "#9c179e"
             ],
             [
              0.4444444444444444,
              "#bd3786"
             ],
             [
              0.5555555555555556,
              "#d8576b"
             ],
             [
              0.6666666666666666,
              "#ed7953"
             ],
             [
              0.7777777777777778,
              "#fb9f3a"
             ],
             [
              0.8888888888888888,
              "#fdca26"
             ],
             [
              1,
              "#f0f921"
             ]
            ],
            "type": "histogram2dcontour"
           }
          ],
          "mesh3d": [
           {
            "colorbar": {
             "outlinewidth": 0,
             "ticks": ""
            },
            "type": "mesh3d"
           }
          ],
          "parcoords": [
           {
            "line": {
             "colorbar": {
              "outlinewidth": 0,
              "ticks": ""
             }
            },
            "type": "parcoords"
           }
          ],
          "pie": [
           {
            "automargin": true,
            "type": "pie"
           }
          ],
          "scatter": [
           {
            "marker": {
             "colorbar": {
              "outlinewidth": 0,
              "ticks": ""
             }
            },
            "type": "scatter"
           }
          ],
          "scatter3d": [
           {
            "line": {
             "colorbar": {
              "outlinewidth": 0,
              "ticks": ""
             }
            },
            "marker": {
             "colorbar": {
              "outlinewidth": 0,
              "ticks": ""
             }
            },
            "type": "scatter3d"
           }
          ],
          "scattercarpet": [
           {
            "marker": {
             "colorbar": {
              "outlinewidth": 0,
              "ticks": ""
             }
            },
            "type": "scattercarpet"
           }
          ],
          "scattergeo": [
           {
            "marker": {
             "colorbar": {
              "outlinewidth": 0,
              "ticks": ""
             }
            },
            "type": "scattergeo"
           }
          ],
          "scattergl": [
           {
            "marker": {
             "colorbar": {
              "outlinewidth": 0,
              "ticks": ""
             }
            },
            "type": "scattergl"
           }
          ],
          "scattermapbox": [
           {
            "marker": {
             "colorbar": {
              "outlinewidth": 0,
              "ticks": ""
             }
            },
            "type": "scattermapbox"
           }
          ],
          "scatterpolar": [
           {
            "marker": {
             "colorbar": {
              "outlinewidth": 0,
              "ticks": ""
             }
            },
            "type": "scatterpolar"
           }
          ],
          "scatterpolargl": [
           {
            "marker": {
             "colorbar": {
              "outlinewidth": 0,
              "ticks": ""
             }
            },
            "type": "scatterpolargl"
           }
          ],
          "scatterternary": [
           {
            "marker": {
             "colorbar": {
              "outlinewidth": 0,
              "ticks": ""
             }
            },
            "type": "scatterternary"
           }
          ],
          "surface": [
           {
            "colorbar": {
             "outlinewidth": 0,
             "ticks": ""
            },
            "colorscale": [
             [
              0,
              "#0d0887"
             ],
             [
              0.1111111111111111,
              "#46039f"
             ],
             [
              0.2222222222222222,
              "#7201a8"
             ],
             [
              0.3333333333333333,
              "#9c179e"
             ],
             [
              0.4444444444444444,
              "#bd3786"
             ],
             [
              0.5555555555555556,
              "#d8576b"
             ],
             [
              0.6666666666666666,
              "#ed7953"
             ],
             [
              0.7777777777777778,
              "#fb9f3a"
             ],
             [
              0.8888888888888888,
              "#fdca26"
             ],
             [
              1,
              "#f0f921"
             ]
            ],
            "type": "surface"
           }
          ],
          "table": [
           {
            "cells": {
             "fill": {
              "color": "#EBF0F8"
             },
             "line": {
              "color": "white"
             }
            },
            "header": {
             "fill": {
              "color": "#C8D4E3"
             },
             "line": {
              "color": "white"
             }
            },
            "type": "table"
           }
          ]
         },
         "layout": {
          "annotationdefaults": {
           "arrowcolor": "#2a3f5f",
           "arrowhead": 0,
           "arrowwidth": 1
          },
          "autotypenumbers": "strict",
          "coloraxis": {
           "colorbar": {
            "outlinewidth": 0,
            "ticks": ""
           }
          },
          "colorscale": {
           "diverging": [
            [
             0,
             "#8e0152"
            ],
            [
             0.1,
             "#c51b7d"
            ],
            [
             0.2,
             "#de77ae"
            ],
            [
             0.3,
             "#f1b6da"
            ],
            [
             0.4,
             "#fde0ef"
            ],
            [
             0.5,
             "#f7f7f7"
            ],
            [
             0.6,
             "#e6f5d0"
            ],
            [
             0.7,
             "#b8e186"
            ],
            [
             0.8,
             "#7fbc41"
            ],
            [
             0.9,
             "#4d9221"
            ],
            [
             1,
             "#276419"
            ]
           ],
           "sequential": [
            [
             0,
             "#0d0887"
            ],
            [
             0.1111111111111111,
             "#46039f"
            ],
            [
             0.2222222222222222,
             "#7201a8"
            ],
            [
             0.3333333333333333,
             "#9c179e"
            ],
            [
             0.4444444444444444,
             "#bd3786"
            ],
            [
             0.5555555555555556,
             "#d8576b"
            ],
            [
             0.6666666666666666,
             "#ed7953"
            ],
            [
             0.7777777777777778,
             "#fb9f3a"
            ],
            [
             0.8888888888888888,
             "#fdca26"
            ],
            [
             1,
             "#f0f921"
            ]
           ],
           "sequentialminus": [
            [
             0,
             "#0d0887"
            ],
            [
             0.1111111111111111,
             "#46039f"
            ],
            [
             0.2222222222222222,
             "#7201a8"
            ],
            [
             0.3333333333333333,
             "#9c179e"
            ],
            [
             0.4444444444444444,
             "#bd3786"
            ],
            [
             0.5555555555555556,
             "#d8576b"
            ],
            [
             0.6666666666666666,
             "#ed7953"
            ],
            [
             0.7777777777777778,
             "#fb9f3a"
            ],
            [
             0.8888888888888888,
             "#fdca26"
            ],
            [
             1,
             "#f0f921"
            ]
           ]
          },
          "colorway": [
           "#636efa",
           "#EF553B",
           "#00cc96",
           "#ab63fa",
           "#FFA15A",
           "#19d3f3",
           "#FF6692",
           "#B6E880",
           "#FF97FF",
           "#FECB52"
          ],
          "font": {
           "color": "#2a3f5f"
          },
          "geo": {
           "bgcolor": "white",
           "lakecolor": "white",
           "landcolor": "white",
           "showlakes": true,
           "showland": true,
           "subunitcolor": "#C8D4E3"
          },
          "hoverlabel": {
           "align": "left"
          },
          "hovermode": "closest",
          "mapbox": {
           "style": "light"
          },
          "paper_bgcolor": "white",
          "plot_bgcolor": "white",
          "polar": {
           "angularaxis": {
            "gridcolor": "#EBF0F8",
            "linecolor": "#EBF0F8",
            "ticks": ""
           },
           "bgcolor": "white",
           "radialaxis": {
            "gridcolor": "#EBF0F8",
            "linecolor": "#EBF0F8",
            "ticks": ""
           }
          },
          "scene": {
           "xaxis": {
            "backgroundcolor": "white",
            "gridcolor": "#DFE8F3",
            "gridwidth": 2,
            "linecolor": "#EBF0F8",
            "showbackground": true,
            "ticks": "",
            "zerolinecolor": "#EBF0F8"
           },
           "yaxis": {
            "backgroundcolor": "white",
            "gridcolor": "#DFE8F3",
            "gridwidth": 2,
            "linecolor": "#EBF0F8",
            "showbackground": true,
            "ticks": "",
            "zerolinecolor": "#EBF0F8"
           },
           "zaxis": {
            "backgroundcolor": "white",
            "gridcolor": "#DFE8F3",
            "gridwidth": 2,
            "linecolor": "#EBF0F8",
            "showbackground": true,
            "ticks": "",
            "zerolinecolor": "#EBF0F8"
           }
          },
          "shapedefaults": {
           "line": {
            "color": "#2a3f5f"
           }
          },
          "ternary": {
           "aaxis": {
            "gridcolor": "#DFE8F3",
            "linecolor": "#A2B1C6",
            "ticks": ""
           },
           "baxis": {
            "gridcolor": "#DFE8F3",
            "linecolor": "#A2B1C6",
            "ticks": ""
           },
           "bgcolor": "white",
           "caxis": {
            "gridcolor": "#DFE8F3",
            "linecolor": "#A2B1C6",
            "ticks": ""
           }
          },
          "title": {
           "x": 0.05
          },
          "xaxis": {
           "automargin": true,
           "gridcolor": "#EBF0F8",
           "linecolor": "#EBF0F8",
           "ticks": "",
           "title": {
            "standoff": 15
           },
           "zerolinecolor": "#EBF0F8",
           "zerolinewidth": 2
          },
          "yaxis": {
           "automargin": true,
           "gridcolor": "#EBF0F8",
           "linecolor": "#EBF0F8",
           "ticks": "",
           "title": {
            "standoff": 15
           },
           "zerolinecolor": "#EBF0F8",
           "zerolinewidth": 2
          }
         }
        },
        "title": {
         "text": ""
        },
        "width": 600,
        "xaxis": {
         "anchor": "y",
         "domain": [
          0,
          0.94
         ],
         "showgrid": true,
         "tickvals": [
          0,
          0.5
         ],
         "title": {
          "font": {
           "size": 18
          },
          "text": "$\\text{Threshold } \\tau$"
         }
        },
        "yaxis": {
         "anchor": "x",
         "domain": [
          0,
          1
         ],
         "title": {
          "text": "Number of Edges"
         }
        },
        "yaxis2": {
         "anchor": "x",
         "nticks": 6,
         "overlaying": "y",
         "showgrid": false,
         "side": "right",
         "title": {
          "text": "MSE"
         },
         "zeroline": false
        }
       }
      },
      "text/html": [
       "<div>                            <div id=\"d12a0a49-1b40-48b4-b354-55a395143422\" class=\"plotly-graph-div\" style=\"height:350px; width:600px;\"></div>            <script type=\"text/javascript\">                require([\"plotly\"], function(Plotly) {                    window.PLOTLYENV=window.PLOTLYENV || {};                                    if (document.getElementById(\"d12a0a49-1b40-48b4-b354-55a395143422\")) {                    Plotly.newPlot(                        \"d12a0a49-1b40-48b4-b354-55a395143422\",                        [{\"error_y\":{\"array\":[7.387011778212339,7.042780073563186,6.783889825213433,6.868942622813242,5.233823309639463,27.2050648946466,27.307922325269054,29.5831797422127,12.277859208340255,12.862440544372042,12.865846193946338,3.3624461481766983,8.356597330489718,10.106332926751348,10.007311731194303],\"type\":\"data\",\"visible\":true},\"name\":\"MSE\",\"type\":\"scatter\",\"x\":[-0.2,0.0,0.037,0.066,0.132,0.198,0.264,0.33,0.396,0.462,0.528,0.5940000000000001,0.66,0.726,0.792],\"xaxis\":\"x\",\"y\":[22.231392264045418,18.50768999498596,16.818328777785908,18.437362453397082,20.36365077742586,40.76508476467781,41.87670011744681,62.4974491992222,84.99840569296435,84.60619672687682,84.60199238831366,85.12748922987889,92.36031912990856,93.77760136324999,89.77500632386798],\"yaxis\":\"y2\"},{\"error_y\":{\"array\":[0.0,0.0,0.5270462766947284,1.2909944487357985,7.942501704962573,8.098353742170895,6.390096504226937,5.916079783099617,5.416025603090639,4.804511768466525,4.252450274057693,3.4156502553198664,3.518657752744984,0.5270462766947299,1.2909944487358054],\"type\":\"data\",\"visible\":true},\"name\":\"Edges\",\"type\":\"scatter\",\"x\":[-0.2,0.0,0.037,0.066,0.132,0.198,0.264,0.33,0.396,0.462,0.528,0.5940000000000001,0.66,0.726,0.792],\"xaxis\":\"x\",\"y\":[182.0,91.0,90.5,86.0,47.8,32.8,23.0,17.0,12.2,9.8,7.8,5.666666666666667,6.666666666666667,6.5,2.6666666666666665],\"yaxis\":\"y\"}],                        {\"annotations\":[{\"showarrow\":false,\"text\":\"CASTLE\",\"x\":0.02,\"xref\":\"paper\",\"y\":-0.094,\"yref\":\"paper\",\"yshift\":0},{\"ax\":0,\"ay\":80,\"showarrow\":true,\"text\":\"0.13\",\"x\":0.13,\"xref\":\"x\",\"y\":47.8,\"yref\":\"y\",\"yshift\":0},{\"ax\":300,\"ay\":0,\"showarrow\":true,\"text\":\"20.4\",\"x\":0.13,\"xref\":\"x\",\"y\":20.363,\"yref\":\"y2\",\"yshift\":0},{\"ax\":-150,\"ay\":0,\"showarrow\":true,\"text\":\"48\",\"x\":0.13,\"xref\":\"x\",\"y\":47.8,\"yref\":\"y\",\"yshift\":0}],\"autosize\":true,\"font\":{\"family\":\"Serif\",\"size\":18},\"height\":350,\"legend\":{\"orientation\":\"h\",\"x\":0.85,\"xanchor\":\"center\",\"y\":-0.23,\"yanchor\":\"bottom\"},\"margin\":{\"b\":0,\"l\":10,\"pad\":0,\"r\":10,\"t\":10},\"template\":{\"data\":{\"bar\":[{\"error_x\":{\"color\":\"#2a3f5f\"},\"error_y\":{\"color\":\"#2a3f5f\"},\"marker\":{\"line\":{\"color\":\"white\",\"width\":0.5},\"pattern\":{\"fillmode\":\"overlay\",\"size\":10,\"solidity\":0.2}},\"type\":\"bar\"}],\"barpolar\":[{\"marker\":{\"line\":{\"color\":\"white\",\"width\":0.5},\"pattern\":{\"fillmode\":\"overlay\",\"size\":10,\"solidity\":0.2}},\"type\":\"barpolar\"}],\"carpet\":[{\"aaxis\":{\"endlinecolor\":\"#2a3f5f\",\"gridcolor\":\"#C8D4E3\",\"linecolor\":\"#C8D4E3\",\"minorgridcolor\":\"#C8D4E3\",\"startlinecolor\":\"#2a3f5f\"},\"baxis\":{\"endlinecolor\":\"#2a3f5f\",\"gridcolor\":\"#C8D4E3\",\"linecolor\":\"#C8D4E3\",\"minorgridcolor\":\"#C8D4E3\",\"startlinecolor\":\"#2a3f5f\"},\"type\":\"carpet\"}],\"choropleth\":[{\"colorbar\":{\"outlinewidth\":0,\"ticks\":\"\"},\"type\":\"choropleth\"}],\"contour\":[{\"colorbar\":{\"outlinewidth\":0,\"ticks\":\"\"},\"colorscale\":[[0.0,\"#0d0887\"],[0.1111111111111111,\"#46039f\"],[0.2222222222222222,\"#7201a8\"],[0.3333333333333333,\"#9c179e\"],[0.4444444444444444,\"#bd3786\"],[0.5555555555555556,\"#d8576b\"],[0.6666666666666666,\"#ed7953\"],[0.7777777777777778,\"#fb9f3a\"],[0.8888888888888888,\"#fdca26\"],[1.0,\"#f0f921\"]],\"type\":\"contour\"}],\"contourcarpet\":[{\"colorbar\":{\"outlinewidth\":0,\"ticks\":\"\"},\"type\":\"contourcarpet\"}],\"heatmap\":[{\"colorbar\":{\"outlinewidth\":0,\"ticks\":\"\"},\"colorscale\":[[0.0,\"#0d0887\"],[0.1111111111111111,\"#46039f\"],[0.2222222222222222,\"#7201a8\"],[0.3333333333333333,\"#9c179e\"],[0.4444444444444444,\"#bd3786\"],[0.5555555555555556,\"#d8576b\"],[0.6666666666666666,\"#ed7953\"],[0.7777777777777778,\"#fb9f3a\"],[0.8888888888888888,\"#fdca26\"],[1.0,\"#f0f921\"]],\"type\":\"heatmap\"}],\"heatmapgl\":[{\"colorbar\":{\"outlinewidth\":0,\"ticks\":\"\"},\"colorscale\":[[0.0,\"#0d0887\"],[0.1111111111111111,\"#46039f\"],[0.2222222222222222,\"#7201a8\"],[0.3333333333333333,\"#9c179e\"],[0.4444444444444444,\"#bd3786\"],[0.5555555555555556,\"#d8576b\"],[0.6666666666666666,\"#ed7953\"],[0.7777777777777778,\"#fb9f3a\"],[0.8888888888888888,\"#fdca26\"],[1.0,\"#f0f921\"]],\"type\":\"heatmapgl\"}],\"histogram\":[{\"marker\":{\"pattern\":{\"fillmode\":\"overlay\",\"size\":10,\"solidity\":0.2}},\"type\":\"histogram\"}],\"histogram2d\":[{\"colorbar\":{\"outlinewidth\":0,\"ticks\":\"\"},\"colorscale\":[[0.0,\"#0d0887\"],[0.1111111111111111,\"#46039f\"],[0.2222222222222222,\"#7201a8\"],[0.3333333333333333,\"#9c179e\"],[0.4444444444444444,\"#bd3786\"],[0.5555555555555556,\"#d8576b\"],[0.6666666666666666,\"#ed7953\"],[0.7777777777777778,\"#fb9f3a\"],[0.8888888888888888,\"#fdca26\"],[1.0,\"#f0f921\"]],\"type\":\"histogram2d\"}],\"histogram2dcontour\":[{\"colorbar\":{\"outlinewidth\":0,\"ticks\":\"\"},\"colorscale\":[[0.0,\"#0d0887\"],[0.1111111111111111,\"#46039f\"],[0.2222222222222222,\"#7201a8\"],[0.3333333333333333,\"#9c179e\"],[0.4444444444444444,\"#bd3786\"],[0.5555555555555556,\"#d8576b\"],[0.6666666666666666,\"#ed7953\"],[0.7777777777777778,\"#fb9f3a\"],[0.8888888888888888,\"#fdca26\"],[1.0,\"#f0f921\"]],\"type\":\"histogram2dcontour\"}],\"mesh3d\":[{\"colorbar\":{\"outlinewidth\":0,\"ticks\":\"\"},\"type\":\"mesh3d\"}],\"parcoords\":[{\"line\":{\"colorbar\":{\"outlinewidth\":0,\"ticks\":\"\"}},\"type\":\"parcoords\"}],\"pie\":[{\"automargin\":true,\"type\":\"pie\"}],\"scatter\":[{\"marker\":{\"colorbar\":{\"outlinewidth\":0,\"ticks\":\"\"}},\"type\":\"scatter\"}],\"scatter3d\":[{\"line\":{\"colorbar\":{\"outlinewidth\":0,\"ticks\":\"\"}},\"marker\":{\"colorbar\":{\"outlinewidth\":0,\"ticks\":\"\"}},\"type\":\"scatter3d\"}],\"scattercarpet\":[{\"marker\":{\"colorbar\":{\"outlinewidth\":0,\"ticks\":\"\"}},\"type\":\"scattercarpet\"}],\"scattergeo\":[{\"marker\":{\"colorbar\":{\"outlinewidth\":0,\"ticks\":\"\"}},\"type\":\"scattergeo\"}],\"scattergl\":[{\"marker\":{\"colorbar\":{\"outlinewidth\":0,\"ticks\":\"\"}},\"type\":\"scattergl\"}],\"scattermapbox\":[{\"marker\":{\"colorbar\":{\"outlinewidth\":0,\"ticks\":\"\"}},\"type\":\"scattermapbox\"}],\"scatterpolar\":[{\"marker\":{\"colorbar\":{\"outlinewidth\":0,\"ticks\":\"\"}},\"type\":\"scatterpolar\"}],\"scatterpolargl\":[{\"marker\":{\"colorbar\":{\"outlinewidth\":0,\"ticks\":\"\"}},\"type\":\"scatterpolargl\"}],\"scatterternary\":[{\"marker\":{\"colorbar\":{\"outlinewidth\":0,\"ticks\":\"\"}},\"type\":\"scatterternary\"}],\"surface\":[{\"colorbar\":{\"outlinewidth\":0,\"ticks\":\"\"},\"colorscale\":[[0.0,\"#0d0887\"],[0.1111111111111111,\"#46039f\"],[0.2222222222222222,\"#7201a8\"],[0.3333333333333333,\"#9c179e\"],[0.4444444444444444,\"#bd3786\"],[0.5555555555555556,\"#d8576b\"],[0.6666666666666666,\"#ed7953\"],[0.7777777777777778,\"#fb9f3a\"],[0.8888888888888888,\"#fdca26\"],[1.0,\"#f0f921\"]],\"type\":\"surface\"}],\"table\":[{\"cells\":{\"fill\":{\"color\":\"#EBF0F8\"},\"line\":{\"color\":\"white\"}},\"header\":{\"fill\":{\"color\":\"#C8D4E3\"},\"line\":{\"color\":\"white\"}},\"type\":\"table\"}]},\"layout\":{\"annotationdefaults\":{\"arrowcolor\":\"#2a3f5f\",\"arrowhead\":0,\"arrowwidth\":1},\"autotypenumbers\":\"strict\",\"coloraxis\":{\"colorbar\":{\"outlinewidth\":0,\"ticks\":\"\"}},\"colorscale\":{\"diverging\":[[0,\"#8e0152\"],[0.1,\"#c51b7d\"],[0.2,\"#de77ae\"],[0.3,\"#f1b6da\"],[0.4,\"#fde0ef\"],[0.5,\"#f7f7f7\"],[0.6,\"#e6f5d0\"],[0.7,\"#b8e186\"],[0.8,\"#7fbc41\"],[0.9,\"#4d9221\"],[1,\"#276419\"]],\"sequential\":[[0.0,\"#0d0887\"],[0.1111111111111111,\"#46039f\"],[0.2222222222222222,\"#7201a8\"],[0.3333333333333333,\"#9c179e\"],[0.4444444444444444,\"#bd3786\"],[0.5555555555555556,\"#d8576b\"],[0.6666666666666666,\"#ed7953\"],[0.7777777777777778,\"#fb9f3a\"],[0.8888888888888888,\"#fdca26\"],[1.0,\"#f0f921\"]],\"sequentialminus\":[[0.0,\"#0d0887\"],[0.1111111111111111,\"#46039f\"],[0.2222222222222222,\"#7201a8\"],[0.3333333333333333,\"#9c179e\"],[0.4444444444444444,\"#bd3786\"],[0.5555555555555556,\"#d8576b\"],[0.6666666666666666,\"#ed7953\"],[0.7777777777777778,\"#fb9f3a\"],[0.8888888888888888,\"#fdca26\"],[1.0,\"#f0f921\"]]},\"colorway\":[\"#636efa\",\"#EF553B\",\"#00cc96\",\"#ab63fa\",\"#FFA15A\",\"#19d3f3\",\"#FF6692\",\"#B6E880\",\"#FF97FF\",\"#FECB52\"],\"font\":{\"color\":\"#2a3f5f\"},\"geo\":{\"bgcolor\":\"white\",\"lakecolor\":\"white\",\"landcolor\":\"white\",\"showlakes\":true,\"showland\":true,\"subunitcolor\":\"#C8D4E3\"},\"hoverlabel\":{\"align\":\"left\"},\"hovermode\":\"closest\",\"mapbox\":{\"style\":\"light\"},\"paper_bgcolor\":\"white\",\"plot_bgcolor\":\"white\",\"polar\":{\"angularaxis\":{\"gridcolor\":\"#EBF0F8\",\"linecolor\":\"#EBF0F8\",\"ticks\":\"\"},\"bgcolor\":\"white\",\"radialaxis\":{\"gridcolor\":\"#EBF0F8\",\"linecolor\":\"#EBF0F8\",\"ticks\":\"\"}},\"scene\":{\"xaxis\":{\"backgroundcolor\":\"white\",\"gridcolor\":\"#DFE8F3\",\"gridwidth\":2,\"linecolor\":\"#EBF0F8\",\"showbackground\":true,\"ticks\":\"\",\"zerolinecolor\":\"#EBF0F8\"},\"yaxis\":{\"backgroundcolor\":\"white\",\"gridcolor\":\"#DFE8F3\",\"gridwidth\":2,\"linecolor\":\"#EBF0F8\",\"showbackground\":true,\"ticks\":\"\",\"zerolinecolor\":\"#EBF0F8\"},\"zaxis\":{\"backgroundcolor\":\"white\",\"gridcolor\":\"#DFE8F3\",\"gridwidth\":2,\"linecolor\":\"#EBF0F8\",\"showbackground\":true,\"ticks\":\"\",\"zerolinecolor\":\"#EBF0F8\"}},\"shapedefaults\":{\"line\":{\"color\":\"#2a3f5f\"}},\"ternary\":{\"aaxis\":{\"gridcolor\":\"#DFE8F3\",\"linecolor\":\"#A2B1C6\",\"ticks\":\"\"},\"baxis\":{\"gridcolor\":\"#DFE8F3\",\"linecolor\":\"#A2B1C6\",\"ticks\":\"\"},\"bgcolor\":\"white\",\"caxis\":{\"gridcolor\":\"#DFE8F3\",\"linecolor\":\"#A2B1C6\",\"ticks\":\"\"}},\"title\":{\"x\":0.05},\"xaxis\":{\"automargin\":true,\"gridcolor\":\"#EBF0F8\",\"linecolor\":\"#EBF0F8\",\"ticks\":\"\",\"title\":{\"standoff\":15},\"zerolinecolor\":\"#EBF0F8\",\"zerolinewidth\":2},\"yaxis\":{\"automargin\":true,\"gridcolor\":\"#EBF0F8\",\"linecolor\":\"#EBF0F8\",\"ticks\":\"\",\"title\":{\"standoff\":15},\"zerolinecolor\":\"#EBF0F8\",\"zerolinewidth\":2}}},\"title\":{\"text\":\"\"},\"width\":600,\"xaxis\":{\"anchor\":\"y\",\"domain\":[0.0,0.94],\"showgrid\":true,\"tickvals\":[0.0,0.5],\"title\":{\"font\":{\"size\":18},\"text\":\"$\\\\text{Threshold } \\\\tau$\"}},\"yaxis\":{\"anchor\":\"x\",\"domain\":[0.0,1.0],\"title\":{\"text\":\"Number of Edges\"}},\"yaxis2\":{\"anchor\":\"x\",\"nticks\":6,\"overlaying\":\"y\",\"showgrid\":false,\"side\":\"right\",\"title\":{\"text\":\"MSE\"},\"zeroline\":false}},                        {\"responsive\": true}                    ).then(function(){\n",
       "                            \n",
       "var gd = document.getElementById('d12a0a49-1b40-48b4-b354-55a395143422');\n",
       "var x = new MutationObserver(function (mutations, observer) {{\n",
       "        var display = window.getComputedStyle(gd).display;\n",
       "        if (!display || display === 'none') {{\n",
       "            console.log([gd, 'removed!']);\n",
       "            Plotly.purge(gd);\n",
       "            observer.disconnect();\n",
       "        }}\n",
       "}});\n",
       "\n",
       "// Listen for the removal of the full notebook cells\n",
       "var notebookContainer = gd.closest('#notebook-container');\n",
       "if (notebookContainer) {{\n",
       "    x.observe(notebookContainer, {childList: true});\n",
       "}}\n",
       "\n",
       "// Listen for the clearing of the current output cell\n",
       "var outputEl = gd.closest('.output');\n",
       "if (outputEl) {{\n",
       "    x.observe(outputEl, {childList: true});\n",
       "}}\n",
       "\n",
       "                        })                };                });            </script>        </div>"
      ]
     },
     "metadata": {},
     "output_type": "display_data"
    }
   ],
   "source": [
    "import re\n",
    "from utils import load_pickle\n",
    "import pandas as pd\n",
    "import numpy as np\n",
    "\n",
    "save = True\n",
    "dset='100000'\n",
    "version = 'boston'#'(adult2|adult)'\n",
    "metric = 'MSE'\n",
    "theta = '(([+-])?\\d(\\.\\d+)?)'\n",
    "folder = \"./results/adjmats/\"\n",
    "list_edges = []\n",
    "for filename in os.listdir(folder):\n",
    "    match = re.search(f'W_est.{dset}.(\\d).(\\d).(.*?).{version}.pkl$', filename)\n",
    "    if match:\n",
    "        out_f, in_f, theta = match.groups()\n",
    "        edges = sum(load_pickle(os.path.join(folder,filename), verbose=False).flatten()>0)\n",
    "        list_edges.append((float(theta), out_f, in_f, edges))\n",
    "n_edges = pd.DataFrame(list_edges).groupby(0, as_index=False).agg({3 : ['mean', 'std']})\n",
    "n_edges.columns = n_edges.columns.droplevel()\n",
    "n_edges.columns = ['theta','N_edges','Std']\n",
    "\n",
    "folder = \"./results/\"\n",
    "filename = f\"Nested5FoldCASTLE.Reg.Synth.100000.{version}.pkl\"\n",
    "describe = load_pickle(os.path.join(folder,filename), verbose=False)\n",
    "agg_stats = pd.DataFrame([(describe[c]['theta'],c[9],describe[c]['fold'],describe[c][metric]) for c in describe]).groupby(0, as_index=False).agg({2 : ['count','max'], 3 : ['mean', 'std']})\n",
    "agg_stats.columns = ['theta', 'count','folds',  'accuracy_mean', 'accuracy_std']\n",
    "agg_stats=agg_stats.merge(n_edges,on='theta')\n",
    "agg_stats= agg_stats.drop_duplicates(subset=['N_edges'])\n",
    "sub = -0.2\n",
    "agg_stats.loc[agg_stats['theta']==-1,'theta'] = sub\n",
    "\n",
    "filter_theta = 0.8\n",
    "filter_list = []\n",
    "agg_stats = agg_stats[(agg_stats['theta']<=filter_theta) & (~round(agg_stats['theta'],3).isin(filter_list))]\n",
    "display(agg_stats)\n",
    "\n",
    "import plotly.graph_objects as go\n",
    "from plotly.subplots import make_subplots\n",
    "\n",
    "# Create figure with secondary y-axis\n",
    "fig = make_subplots(specs=[[{\"secondary_y\": True}]])\n",
    "\n",
    "# Add traces\n",
    "fig.add_trace(\n",
    "    go.Scatter(x=agg_stats['theta'], y=agg_stats['accuracy_mean'], name=metric,         \n",
    "    error_y=dict(\n",
    "            type='data', # value of error bar given in data coordinates\n",
    "            array=agg_stats['accuracy_std'],\n",
    "            visible=True)\n",
    "            ),\n",
    "    secondary_y=True, \n",
    ")\n",
    "\n",
    "fig.add_trace(\n",
    "    go.Scatter(x=agg_stats['theta'], y=agg_stats['N_edges'], name=\"Edges\",\n",
    "    error_y=dict(\n",
    "            type='data', # value of error bar given in data coordinates\n",
    "            array=agg_stats['Std'],\n",
    "            visible=True)\n",
    "              ),\n",
    "    secondary_y=False,\n",
    ")\n",
    "\n",
    "# Add figure title\n",
    "fig.update_layout(\n",
    "    title='',\n",
    "    legend={\n",
    "        'y':-0.23,\n",
    "        'x':0.85,\n",
    "        'orientation':\"h\",\n",
    "        'xanchor': 'center',\n",
    "        'yanchor': 'bottom'},\n",
    "    template='plotly_white',\n",
    "    autosize=True,\n",
    "    width=600, height=350, \n",
    "    margin=dict(\n",
    "        l=10,\n",
    "        r=10,\n",
    "        b=0,\n",
    "        t=10,\n",
    "        pad=0\n",
    "    ),\n",
    "    font=dict(\n",
    "        family='Serif',#\"Courier New, monospace\",\n",
    "        size=18,\n",
    "        # color=\"Black\"\n",
    "    )    \n",
    ")\n",
    "\n",
    "# Set x-axis title\n",
    "fig.update_xaxes(showgrid=True,title={'text':r'$\\text{Threshold } \\tau$','font':{'size':18#, 'family': 'Courier New, monospace',\n",
    "}},tickvals=list(np.round(np.arange(0, max(agg_stats['theta']), 0.5),1)),\n",
    ")\n",
    "\n",
    "# Set y-axes titles\n",
    "fig.update_yaxes(title={'text':\"Number of Edges\"#,'font':{'size':18}\n",
    "}, secondary_y=False)\n",
    "fig.update_yaxes(showgrid=False,nticks=6,zeroline=False, title={'text':metric#,'font':{'size':18}\n",
    "}, #nticks=13,\n",
    "secondary_y=True)\n",
    "\n",
    "\n",
    "fig.add_annotation(x=0.02, y=-0.094,\n",
    "            text=\"CASTLE\",\n",
    "            showarrow=False,\n",
    "            yshift=0,\n",
    "            xref='paper',\n",
    "            yref='paper',)\n",
    "chosen_tau=0.13\n",
    "y_co = agg_stats[agg_stats['theta']==chosen_tau]['accuracy_mean']\n",
    "fig.add_annotation(x=chosen_tau, y=47.8,\n",
    "            text=str(chosen_tau),\n",
    "            showarrow=True,\n",
    "            yshift=0,\n",
    "            xref='x',ax=0,\n",
    "            yref='y',ay=80)\n",
    "fig.add_annotation(x=chosen_tau, y=20.363,\n",
    "            text=str(20.4),\n",
    "            showarrow=True,\n",
    "            yshift=0,\n",
    "            xref='x',ax=300,\n",
    "            yref='y2',ay=0)\n",
    "fig.add_annotation(x=chosen_tau, y=47.8,\n",
    "            text=str(48),\n",
    "            showarrow=True,\n",
    "            yshift=0,\n",
    "            xref='x',ax=-150,\n",
    "            yref='y',ay=0)\n",
    "            \n",
    "fig.show()\n",
    "\n",
    "output_folder = \"figures\"\n",
    "if not os.path.exists(output_folder):\n",
    "    os.mkdir(output_folder)\n",
    "\n",
    "out_path = os.path.join(output_folder,f\"plot_tauoptim_{version}.png\")\n",
    "\n",
    "if save:\n",
    "    import kaleido\n",
    "    fig.write_image(out_path)\n",
    "\n"
   ]
  },
  {
   "cell_type": "markdown",
   "metadata": {},
   "source": [
    "## Load Adjacency Matrix for chosen Tau"
   ]
  },
  {
   "cell_type": "code",
   "execution_count": 7,
   "metadata": {},
   "outputs": [
    {
     "name": "stdout",
     "output_type": "stream",
     "text": [
      "tau: 0.132\n"
     ]
    },
    {
     "data": {
      "text/html": [
       "<style  type=\"text/css\" >\n",
       "#T_55b4ccbc_7c7f_11ec_b1b3_0c9d92c473d6row0_col0,#T_55b4ccbc_7c7f_11ec_b1b3_0c9d92c473d6row0_col2,#T_55b4ccbc_7c7f_11ec_b1b3_0c9d92c473d6row0_col3,#T_55b4ccbc_7c7f_11ec_b1b3_0c9d92c473d6row0_col4,#T_55b4ccbc_7c7f_11ec_b1b3_0c9d92c473d6row0_col5,#T_55b4ccbc_7c7f_11ec_b1b3_0c9d92c473d6row0_col6,#T_55b4ccbc_7c7f_11ec_b1b3_0c9d92c473d6row0_col8,#T_55b4ccbc_7c7f_11ec_b1b3_0c9d92c473d6row0_col9,#T_55b4ccbc_7c7f_11ec_b1b3_0c9d92c473d6row0_col11,#T_55b4ccbc_7c7f_11ec_b1b3_0c9d92c473d6row0_col13,#T_55b4ccbc_7c7f_11ec_b1b3_0c9d92c473d6row1_col0,#T_55b4ccbc_7c7f_11ec_b1b3_0c9d92c473d6row1_col1,#T_55b4ccbc_7c7f_11ec_b1b3_0c9d92c473d6row1_col3,#T_55b4ccbc_7c7f_11ec_b1b3_0c9d92c473d6row1_col4,#T_55b4ccbc_7c7f_11ec_b1b3_0c9d92c473d6row1_col5,#T_55b4ccbc_7c7f_11ec_b1b3_0c9d92c473d6row1_col6,#T_55b4ccbc_7c7f_11ec_b1b3_0c9d92c473d6row1_col8,#T_55b4ccbc_7c7f_11ec_b1b3_0c9d92c473d6row1_col11,#T_55b4ccbc_7c7f_11ec_b1b3_0c9d92c473d6row1_col13,#T_55b4ccbc_7c7f_11ec_b1b3_0c9d92c473d6row2_col0,#T_55b4ccbc_7c7f_11ec_b1b3_0c9d92c473d6row2_col1,#T_55b4ccbc_7c7f_11ec_b1b3_0c9d92c473d6row2_col2,#T_55b4ccbc_7c7f_11ec_b1b3_0c9d92c473d6row2_col3,#T_55b4ccbc_7c7f_11ec_b1b3_0c9d92c473d6row2_col4,#T_55b4ccbc_7c7f_11ec_b1b3_0c9d92c473d6row2_col5,#T_55b4ccbc_7c7f_11ec_b1b3_0c9d92c473d6row2_col6,#T_55b4ccbc_7c7f_11ec_b1b3_0c9d92c473d6row2_col8,#T_55b4ccbc_7c7f_11ec_b1b3_0c9d92c473d6row2_col9,#T_55b4ccbc_7c7f_11ec_b1b3_0c9d92c473d6row2_col11,#T_55b4ccbc_7c7f_11ec_b1b3_0c9d92c473d6row2_col13,#T_55b4ccbc_7c7f_11ec_b1b3_0c9d92c473d6row3_col0,#T_55b4ccbc_7c7f_11ec_b1b3_0c9d92c473d6row3_col1,#T_55b4ccbc_7c7f_11ec_b1b3_0c9d92c473d6row3_col3,#T_55b4ccbc_7c7f_11ec_b1b3_0c9d92c473d6row3_col4,#T_55b4ccbc_7c7f_11ec_b1b3_0c9d92c473d6row3_col5,#T_55b4ccbc_7c7f_11ec_b1b3_0c9d92c473d6row3_col6,#T_55b4ccbc_7c7f_11ec_b1b3_0c9d92c473d6row3_col8,#T_55b4ccbc_7c7f_11ec_b1b3_0c9d92c473d6row3_col9,#T_55b4ccbc_7c7f_11ec_b1b3_0c9d92c473d6row3_col11,#T_55b4ccbc_7c7f_11ec_b1b3_0c9d92c473d6row3_col13,#T_55b4ccbc_7c7f_11ec_b1b3_0c9d92c473d6row4_col1,#T_55b4ccbc_7c7f_11ec_b1b3_0c9d92c473d6row4_col4,#T_55b4ccbc_7c7f_11ec_b1b3_0c9d92c473d6row4_col5,#T_55b4ccbc_7c7f_11ec_b1b3_0c9d92c473d6row4_col6,#T_55b4ccbc_7c7f_11ec_b1b3_0c9d92c473d6row4_col8,#T_55b4ccbc_7c7f_11ec_b1b3_0c9d92c473d6row4_col9,#T_55b4ccbc_7c7f_11ec_b1b3_0c9d92c473d6row4_col11,#T_55b4ccbc_7c7f_11ec_b1b3_0c9d92c473d6row4_col13,#T_55b4ccbc_7c7f_11ec_b1b3_0c9d92c473d6row5_col0,#T_55b4ccbc_7c7f_11ec_b1b3_0c9d92c473d6row5_col1,#T_55b4ccbc_7c7f_11ec_b1b3_0c9d92c473d6row5_col4,#T_55b4ccbc_7c7f_11ec_b1b3_0c9d92c473d6row5_col5,#T_55b4ccbc_7c7f_11ec_b1b3_0c9d92c473d6row5_col6,#T_55b4ccbc_7c7f_11ec_b1b3_0c9d92c473d6row5_col8,#T_55b4ccbc_7c7f_11ec_b1b3_0c9d92c473d6row5_col9,#T_55b4ccbc_7c7f_11ec_b1b3_0c9d92c473d6row5_col11,#T_55b4ccbc_7c7f_11ec_b1b3_0c9d92c473d6row5_col13,#T_55b4ccbc_7c7f_11ec_b1b3_0c9d92c473d6row6_col1,#T_55b4ccbc_7c7f_11ec_b1b3_0c9d92c473d6row6_col2,#T_55b4ccbc_7c7f_11ec_b1b3_0c9d92c473d6row6_col3,#T_55b4ccbc_7c7f_11ec_b1b3_0c9d92c473d6row6_col4,#T_55b4ccbc_7c7f_11ec_b1b3_0c9d92c473d6row6_col5,#T_55b4ccbc_7c7f_11ec_b1b3_0c9d92c473d6row6_col6,#T_55b4ccbc_7c7f_11ec_b1b3_0c9d92c473d6row6_col8,#T_55b4ccbc_7c7f_11ec_b1b3_0c9d92c473d6row6_col9,#T_55b4ccbc_7c7f_11ec_b1b3_0c9d92c473d6row6_col11,#T_55b4ccbc_7c7f_11ec_b1b3_0c9d92c473d6row7_col0,#T_55b4ccbc_7c7f_11ec_b1b3_0c9d92c473d6row7_col1,#T_55b4ccbc_7c7f_11ec_b1b3_0c9d92c473d6row7_col2,#T_55b4ccbc_7c7f_11ec_b1b3_0c9d92c473d6row7_col3,#T_55b4ccbc_7c7f_11ec_b1b3_0c9d92c473d6row7_col4,#T_55b4ccbc_7c7f_11ec_b1b3_0c9d92c473d6row7_col5,#T_55b4ccbc_7c7f_11ec_b1b3_0c9d92c473d6row7_col6,#T_55b4ccbc_7c7f_11ec_b1b3_0c9d92c473d6row7_col7,#T_55b4ccbc_7c7f_11ec_b1b3_0c9d92c473d6row7_col8,#T_55b4ccbc_7c7f_11ec_b1b3_0c9d92c473d6row7_col9,#T_55b4ccbc_7c7f_11ec_b1b3_0c9d92c473d6row7_col11,#T_55b4ccbc_7c7f_11ec_b1b3_0c9d92c473d6row7_col13,#T_55b4ccbc_7c7f_11ec_b1b3_0c9d92c473d6row8_col3,#T_55b4ccbc_7c7f_11ec_b1b3_0c9d92c473d6row8_col4,#T_55b4ccbc_7c7f_11ec_b1b3_0c9d92c473d6row8_col5,#T_55b4ccbc_7c7f_11ec_b1b3_0c9d92c473d6row8_col6,#T_55b4ccbc_7c7f_11ec_b1b3_0c9d92c473d6row8_col8,#T_55b4ccbc_7c7f_11ec_b1b3_0c9d92c473d6row8_col9,#T_55b4ccbc_7c7f_11ec_b1b3_0c9d92c473d6row8_col11,#T_55b4ccbc_7c7f_11ec_b1b3_0c9d92c473d6row8_col13,#T_55b4ccbc_7c7f_11ec_b1b3_0c9d92c473d6row9_col0,#T_55b4ccbc_7c7f_11ec_b1b3_0c9d92c473d6row9_col1,#T_55b4ccbc_7c7f_11ec_b1b3_0c9d92c473d6row9_col3,#T_55b4ccbc_7c7f_11ec_b1b3_0c9d92c473d6row9_col4,#T_55b4ccbc_7c7f_11ec_b1b3_0c9d92c473d6row9_col5,#T_55b4ccbc_7c7f_11ec_b1b3_0c9d92c473d6row9_col6,#T_55b4ccbc_7c7f_11ec_b1b3_0c9d92c473d6row9_col8,#T_55b4ccbc_7c7f_11ec_b1b3_0c9d92c473d6row9_col9,#T_55b4ccbc_7c7f_11ec_b1b3_0c9d92c473d6row9_col11,#T_55b4ccbc_7c7f_11ec_b1b3_0c9d92c473d6row9_col12,#T_55b4ccbc_7c7f_11ec_b1b3_0c9d92c473d6row9_col13,#T_55b4ccbc_7c7f_11ec_b1b3_0c9d92c473d6row10_col0,#T_55b4ccbc_7c7f_11ec_b1b3_0c9d92c473d6row10_col1,#T_55b4ccbc_7c7f_11ec_b1b3_0c9d92c473d6row10_col2,#T_55b4ccbc_7c7f_11ec_b1b3_0c9d92c473d6row10_col3,#T_55b4ccbc_7c7f_11ec_b1b3_0c9d92c473d6row10_col4,#T_55b4ccbc_7c7f_11ec_b1b3_0c9d92c473d6row10_col5,#T_55b4ccbc_7c7f_11ec_b1b3_0c9d92c473d6row10_col6,#T_55b4ccbc_7c7f_11ec_b1b3_0c9d92c473d6row10_col7,#T_55b4ccbc_7c7f_11ec_b1b3_0c9d92c473d6row10_col8,#T_55b4ccbc_7c7f_11ec_b1b3_0c9d92c473d6row10_col9,#T_55b4ccbc_7c7f_11ec_b1b3_0c9d92c473d6row10_col10,#T_55b4ccbc_7c7f_11ec_b1b3_0c9d92c473d6row10_col11,#T_55b4ccbc_7c7f_11ec_b1b3_0c9d92c473d6row10_col12,#T_55b4ccbc_7c7f_11ec_b1b3_0c9d92c473d6row10_col13,#T_55b4ccbc_7c7f_11ec_b1b3_0c9d92c473d6row11_col0,#T_55b4ccbc_7c7f_11ec_b1b3_0c9d92c473d6row11_col1,#T_55b4ccbc_7c7f_11ec_b1b3_0c9d92c473d6row11_col3,#T_55b4ccbc_7c7f_11ec_b1b3_0c9d92c473d6row11_col4,#T_55b4ccbc_7c7f_11ec_b1b3_0c9d92c473d6row11_col5,#T_55b4ccbc_7c7f_11ec_b1b3_0c9d92c473d6row11_col6,#T_55b4ccbc_7c7f_11ec_b1b3_0c9d92c473d6row11_col7,#T_55b4ccbc_7c7f_11ec_b1b3_0c9d92c473d6row11_col8,#T_55b4ccbc_7c7f_11ec_b1b3_0c9d92c473d6row11_col9,#T_55b4ccbc_7c7f_11ec_b1b3_0c9d92c473d6row11_col11,#T_55b4ccbc_7c7f_11ec_b1b3_0c9d92c473d6row11_col13,#T_55b4ccbc_7c7f_11ec_b1b3_0c9d92c473d6row12_col0,#T_55b4ccbc_7c7f_11ec_b1b3_0c9d92c473d6row12_col1,#T_55b4ccbc_7c7f_11ec_b1b3_0c9d92c473d6row12_col2,#T_55b4ccbc_7c7f_11ec_b1b3_0c9d92c473d6row12_col3,#T_55b4ccbc_7c7f_11ec_b1b3_0c9d92c473d6row12_col4,#T_55b4ccbc_7c7f_11ec_b1b3_0c9d92c473d6row12_col5,#T_55b4ccbc_7c7f_11ec_b1b3_0c9d92c473d6row12_col6,#T_55b4ccbc_7c7f_11ec_b1b3_0c9d92c473d6row12_col7,#T_55b4ccbc_7c7f_11ec_b1b3_0c9d92c473d6row12_col8,#T_55b4ccbc_7c7f_11ec_b1b3_0c9d92c473d6row12_col9,#T_55b4ccbc_7c7f_11ec_b1b3_0c9d92c473d6row12_col10,#T_55b4ccbc_7c7f_11ec_b1b3_0c9d92c473d6row12_col11,#T_55b4ccbc_7c7f_11ec_b1b3_0c9d92c473d6row12_col12,#T_55b4ccbc_7c7f_11ec_b1b3_0c9d92c473d6row12_col13,#T_55b4ccbc_7c7f_11ec_b1b3_0c9d92c473d6row13_col2,#T_55b4ccbc_7c7f_11ec_b1b3_0c9d92c473d6row13_col3,#T_55b4ccbc_7c7f_11ec_b1b3_0c9d92c473d6row13_col4,#T_55b4ccbc_7c7f_11ec_b1b3_0c9d92c473d6row13_col5,#T_55b4ccbc_7c7f_11ec_b1b3_0c9d92c473d6row13_col6,#T_55b4ccbc_7c7f_11ec_b1b3_0c9d92c473d6row13_col8,#T_55b4ccbc_7c7f_11ec_b1b3_0c9d92c473d6row13_col9,#T_55b4ccbc_7c7f_11ec_b1b3_0c9d92c473d6row13_col11,#T_55b4ccbc_7c7f_11ec_b1b3_0c9d92c473d6row13_col13{\n",
       "            background-color:  #f0f1f3;\n",
       "            color:  #000000;\n",
       "        }#T_55b4ccbc_7c7f_11ec_b1b3_0c9d92c473d6row0_col1{\n",
       "            background-color:  #cad5df;\n",
       "            color:  #000000;\n",
       "        }#T_55b4ccbc_7c7f_11ec_b1b3_0c9d92c473d6row0_col7{\n",
       "            background-color:  #e1e5eb;\n",
       "            color:  #000000;\n",
       "        }#T_55b4ccbc_7c7f_11ec_b1b3_0c9d92c473d6row0_col10,#T_55b4ccbc_7c7f_11ec_b1b3_0c9d92c473d6row13_col12{\n",
       "            background-color:  #e4e8ed;\n",
       "            color:  #000000;\n",
       "        }#T_55b4ccbc_7c7f_11ec_b1b3_0c9d92c473d6row0_col12{\n",
       "            background-color:  #d5dde5;\n",
       "            color:  #000000;\n",
       "        }#T_55b4ccbc_7c7f_11ec_b1b3_0c9d92c473d6row1_col2{\n",
       "            background-color:  #c9d4de;\n",
       "            color:  #000000;\n",
       "        }#T_55b4ccbc_7c7f_11ec_b1b3_0c9d92c473d6row1_col7,#T_55b4ccbc_7c7f_11ec_b1b3_0c9d92c473d6row1_col10,#T_55b4ccbc_7c7f_11ec_b1b3_0c9d92c473d6row6_col7,#T_55b4ccbc_7c7f_11ec_b1b3_0c9d92c473d6row8_col2{\n",
       "            background-color:  #cdd7e0;\n",
       "            color:  #000000;\n",
       "        }#T_55b4ccbc_7c7f_11ec_b1b3_0c9d92c473d6row1_col9,#T_55b4ccbc_7c7f_11ec_b1b3_0c9d92c473d6row4_col0,#T_55b4ccbc_7c7f_11ec_b1b3_0c9d92c473d6row4_col2,#T_55b4ccbc_7c7f_11ec_b1b3_0c9d92c473d6row4_col7,#T_55b4ccbc_7c7f_11ec_b1b3_0c9d92c473d6row4_col10,#T_55b4ccbc_7c7f_11ec_b1b3_0c9d92c473d6row4_col12,#T_55b4ccbc_7c7f_11ec_b1b3_0c9d92c473d6row5_col3,#T_55b4ccbc_7c7f_11ec_b1b3_0c9d92c473d6row6_col13,#T_55b4ccbc_7c7f_11ec_b1b3_0c9d92c473d6row8_col1{\n",
       "            background-color:  #b1c2d1;\n",
       "            color:  #000000;\n",
       "        }#T_55b4ccbc_7c7f_11ec_b1b3_0c9d92c473d6row1_col12,#T_55b4ccbc_7c7f_11ec_b1b3_0c9d92c473d6row8_col10{\n",
       "            background-color:  #d0d9e2;\n",
       "            color:  #000000;\n",
       "        }#T_55b4ccbc_7c7f_11ec_b1b3_0c9d92c473d6row2_col7,#T_55b4ccbc_7c7f_11ec_b1b3_0c9d92c473d6row5_col12,#T_55b4ccbc_7c7f_11ec_b1b3_0c9d92c473d6row6_col12{\n",
       "            background-color:  #dde3e9;\n",
       "            color:  #000000;\n",
       "        }#T_55b4ccbc_7c7f_11ec_b1b3_0c9d92c473d6row2_col10{\n",
       "            background-color:  #e2e6eb;\n",
       "            color:  #000000;\n",
       "        }#T_55b4ccbc_7c7f_11ec_b1b3_0c9d92c473d6row2_col12,#T_55b4ccbc_7c7f_11ec_b1b3_0c9d92c473d6row3_col12{\n",
       "            background-color:  #e6eaee;\n",
       "            color:  #000000;\n",
       "        }#T_55b4ccbc_7c7f_11ec_b1b3_0c9d92c473d6row3_col2,#T_55b4ccbc_7c7f_11ec_b1b3_0c9d92c473d6row5_col2{\n",
       "            background-color:  #d3dbe3;\n",
       "            color:  #000000;\n",
       "        }#T_55b4ccbc_7c7f_11ec_b1b3_0c9d92c473d6row3_col7{\n",
       "            background-color:  #d1d9e2;\n",
       "            color:  #000000;\n",
       "        }#T_55b4ccbc_7c7f_11ec_b1b3_0c9d92c473d6row3_col10,#T_55b4ccbc_7c7f_11ec_b1b3_0c9d92c473d6row11_col2{\n",
       "            background-color:  #e0e5ea;\n",
       "            color:  #000000;\n",
       "        }#T_55b4ccbc_7c7f_11ec_b1b3_0c9d92c473d6row4_col3{\n",
       "            background-color:  #e9ecef;\n",
       "            color:  #000000;\n",
       "        }#T_55b4ccbc_7c7f_11ec_b1b3_0c9d92c473d6row5_col7{\n",
       "            background-color:  #b2c2d2;\n",
       "            color:  #000000;\n",
       "        }#T_55b4ccbc_7c7f_11ec_b1b3_0c9d92c473d6row5_col10{\n",
       "            background-color:  #c8d3de;\n",
       "            color:  #000000;\n",
       "        }#T_55b4ccbc_7c7f_11ec_b1b3_0c9d92c473d6row6_col0{\n",
       "            background-color:  #c5d0dc;\n",
       "            color:  #000000;\n",
       "        }#T_55b4ccbc_7c7f_11ec_b1b3_0c9d92c473d6row6_col10{\n",
       "            background-color:  #dee3e9;\n",
       "            color:  #000000;\n",
       "        }#T_55b4ccbc_7c7f_11ec_b1b3_0c9d92c473d6row7_col10,#T_55b4ccbc_7c7f_11ec_b1b3_0c9d92c473d6row7_col12,#T_55b4ccbc_7c7f_11ec_b1b3_0c9d92c473d6row11_col10{\n",
       "            background-color:  #e7eaee;\n",
       "            color:  #000000;\n",
       "        }#T_55b4ccbc_7c7f_11ec_b1b3_0c9d92c473d6row8_col0{\n",
       "            background-color:  #ced7e1;\n",
       "            color:  #000000;\n",
       "        }#T_55b4ccbc_7c7f_11ec_b1b3_0c9d92c473d6row8_col7{\n",
       "            background-color:  #bac9d6;\n",
       "            color:  #000000;\n",
       "        }#T_55b4ccbc_7c7f_11ec_b1b3_0c9d92c473d6row8_col12{\n",
       "            background-color:  #d6dee5;\n",
       "            color:  #000000;\n",
       "        }#T_55b4ccbc_7c7f_11ec_b1b3_0c9d92c473d6row9_col2{\n",
       "            background-color:  #dfe4ea;\n",
       "            color:  #000000;\n",
       "        }#T_55b4ccbc_7c7f_11ec_b1b3_0c9d92c473d6row9_col7{\n",
       "            background-color:  #dbe1e8;\n",
       "            color:  #000000;\n",
       "        }#T_55b4ccbc_7c7f_11ec_b1b3_0c9d92c473d6row9_col10{\n",
       "            background-color:  #c6d2dd;\n",
       "            color:  #000000;\n",
       "        }#T_55b4ccbc_7c7f_11ec_b1b3_0c9d92c473d6row11_col12{\n",
       "            background-color:  #e5e9ed;\n",
       "            color:  #000000;\n",
       "        }#T_55b4ccbc_7c7f_11ec_b1b3_0c9d92c473d6row13_col0{\n",
       "            background-color:  #c5d1dc;\n",
       "            color:  #000000;\n",
       "        }#T_55b4ccbc_7c7f_11ec_b1b3_0c9d92c473d6row13_col1{\n",
       "            background-color:  #d4dce4;\n",
       "            color:  #000000;\n",
       "        }#T_55b4ccbc_7c7f_11ec_b1b3_0c9d92c473d6row13_col7{\n",
       "            background-color:  #d8dfe6;\n",
       "            color:  #000000;\n",
       "        }#T_55b4ccbc_7c7f_11ec_b1b3_0c9d92c473d6row13_col10{\n",
       "            background-color:  #dce2e8;\n",
       "            color:  #000000;\n",
       "        }</style><table id=\"T_55b4ccbc_7c7f_11ec_b1b3_0c9d92c473d6\" ><thead>    <tr>        <th class=\"blank level0\" ></th>        <th class=\"col_heading level0 col0\" >PRICE</th>        <th class=\"col_heading level0 col1\" >CRIM</th>        <th class=\"col_heading level0 col2\" >ZN</th>        <th class=\"col_heading level0 col3\" >INDUS</th>        <th class=\"col_heading level0 col4\" >CHAS</th>        <th class=\"col_heading level0 col5\" >NOX</th>        <th class=\"col_heading level0 col6\" >RM</th>        <th class=\"col_heading level0 col7\" >AGE</th>        <th class=\"col_heading level0 col8\" >DIS</th>        <th class=\"col_heading level0 col9\" >RAD</th>        <th class=\"col_heading level0 col10\" >TAX</th>        <th class=\"col_heading level0 col11\" >PTRATIO</th>        <th class=\"col_heading level0 col12\" >B</th>        <th class=\"col_heading level0 col13\" >LSTAT</th>    </tr></thead><tbody>\n",
       "                <tr>\n",
       "                        <th id=\"T_55b4ccbc_7c7f_11ec_b1b3_0c9d92c473d6level0_row0\" class=\"row_heading level0 row0\" >PRICE</th>\n",
       "                        <td id=\"T_55b4ccbc_7c7f_11ec_b1b3_0c9d92c473d6row0_col0\" class=\"data row0 col0\" >0.0</td>\n",
       "                        <td id=\"T_55b4ccbc_7c7f_11ec_b1b3_0c9d92c473d6row0_col1\" class=\"data row0 col1\" >0.324</td>\n",
       "                        <td id=\"T_55b4ccbc_7c7f_11ec_b1b3_0c9d92c473d6row0_col2\" class=\"data row0 col2\" >0.0</td>\n",
       "                        <td id=\"T_55b4ccbc_7c7f_11ec_b1b3_0c9d92c473d6row0_col3\" class=\"data row0 col3\" >0.0</td>\n",
       "                        <td id=\"T_55b4ccbc_7c7f_11ec_b1b3_0c9d92c473d6row0_col4\" class=\"data row0 col4\" >0.0</td>\n",
       "                        <td id=\"T_55b4ccbc_7c7f_11ec_b1b3_0c9d92c473d6row0_col5\" class=\"data row0 col5\" >0.0</td>\n",
       "                        <td id=\"T_55b4ccbc_7c7f_11ec_b1b3_0c9d92c473d6row0_col6\" class=\"data row0 col6\" >0.0</td>\n",
       "                        <td id=\"T_55b4ccbc_7c7f_11ec_b1b3_0c9d92c473d6row0_col7\" class=\"data row0 col7\" >0.29</td>\n",
       "                        <td id=\"T_55b4ccbc_7c7f_11ec_b1b3_0c9d92c473d6row0_col8\" class=\"data row0 col8\" >0.0</td>\n",
       "                        <td id=\"T_55b4ccbc_7c7f_11ec_b1b3_0c9d92c473d6row0_col9\" class=\"data row0 col9\" >0.0</td>\n",
       "                        <td id=\"T_55b4ccbc_7c7f_11ec_b1b3_0c9d92c473d6row0_col10\" class=\"data row0 col10\" >0.49</td>\n",
       "                        <td id=\"T_55b4ccbc_7c7f_11ec_b1b3_0c9d92c473d6row0_col11\" class=\"data row0 col11\" >0.0</td>\n",
       "                        <td id=\"T_55b4ccbc_7c7f_11ec_b1b3_0c9d92c473d6row0_col12\" class=\"data row0 col12\" >1.18</td>\n",
       "                        <td id=\"T_55b4ccbc_7c7f_11ec_b1b3_0c9d92c473d6row0_col13\" class=\"data row0 col13\" >0.0</td>\n",
       "            </tr>\n",
       "            <tr>\n",
       "                        <th id=\"T_55b4ccbc_7c7f_11ec_b1b3_0c9d92c473d6level0_row1\" class=\"row_heading level0 row1\" >CRIM</th>\n",
       "                        <td id=\"T_55b4ccbc_7c7f_11ec_b1b3_0c9d92c473d6row1_col0\" class=\"data row1 col0\" >0.0</td>\n",
       "                        <td id=\"T_55b4ccbc_7c7f_11ec_b1b3_0c9d92c473d6row1_col1\" class=\"data row1 col1\" >0.0</td>\n",
       "                        <td id=\"T_55b4ccbc_7c7f_11ec_b1b3_0c9d92c473d6row1_col2\" class=\"data row1 col2\" >1.03</td>\n",
       "                        <td id=\"T_55b4ccbc_7c7f_11ec_b1b3_0c9d92c473d6row1_col3\" class=\"data row1 col3\" >0.0</td>\n",
       "                        <td id=\"T_55b4ccbc_7c7f_11ec_b1b3_0c9d92c473d6row1_col4\" class=\"data row1 col4\" >0.0</td>\n",
       "                        <td id=\"T_55b4ccbc_7c7f_11ec_b1b3_0c9d92c473d6row1_col5\" class=\"data row1 col5\" >0.0</td>\n",
       "                        <td id=\"T_55b4ccbc_7c7f_11ec_b1b3_0c9d92c473d6row1_col6\" class=\"data row1 col6\" >0.0</td>\n",
       "                        <td id=\"T_55b4ccbc_7c7f_11ec_b1b3_0c9d92c473d6row1_col7\" class=\"data row1 col7\" >0.657</td>\n",
       "                        <td id=\"T_55b4ccbc_7c7f_11ec_b1b3_0c9d92c473d6row1_col8\" class=\"data row1 col8\" >0.0</td>\n",
       "                        <td id=\"T_55b4ccbc_7c7f_11ec_b1b3_0c9d92c473d6row1_col9\" class=\"data row1 col9\" >0.432</td>\n",
       "                        <td id=\"T_55b4ccbc_7c7f_11ec_b1b3_0c9d92c473d6row1_col10\" class=\"data row1 col10\" >1.44</td>\n",
       "                        <td id=\"T_55b4ccbc_7c7f_11ec_b1b3_0c9d92c473d6row1_col11\" class=\"data row1 col11\" >0.0</td>\n",
       "                        <td id=\"T_55b4ccbc_7c7f_11ec_b1b3_0c9d92c473d6row1_col12\" class=\"data row1 col12\" >1.43</td>\n",
       "                        <td id=\"T_55b4ccbc_7c7f_11ec_b1b3_0c9d92c473d6row1_col13\" class=\"data row1 col13\" >0.0</td>\n",
       "            </tr>\n",
       "            <tr>\n",
       "                        <th id=\"T_55b4ccbc_7c7f_11ec_b1b3_0c9d92c473d6level0_row2\" class=\"row_heading level0 row2\" >ZN</th>\n",
       "                        <td id=\"T_55b4ccbc_7c7f_11ec_b1b3_0c9d92c473d6row2_col0\" class=\"data row2 col0\" >0.0</td>\n",
       "                        <td id=\"T_55b4ccbc_7c7f_11ec_b1b3_0c9d92c473d6row2_col1\" class=\"data row2 col1\" >0.0</td>\n",
       "                        <td id=\"T_55b4ccbc_7c7f_11ec_b1b3_0c9d92c473d6row2_col2\" class=\"data row2 col2\" >0.0</td>\n",
       "                        <td id=\"T_55b4ccbc_7c7f_11ec_b1b3_0c9d92c473d6row2_col3\" class=\"data row2 col3\" >0.0</td>\n",
       "                        <td id=\"T_55b4ccbc_7c7f_11ec_b1b3_0c9d92c473d6row2_col4\" class=\"data row2 col4\" >0.0</td>\n",
       "                        <td id=\"T_55b4ccbc_7c7f_11ec_b1b3_0c9d92c473d6row2_col5\" class=\"data row2 col5\" >0.0</td>\n",
       "                        <td id=\"T_55b4ccbc_7c7f_11ec_b1b3_0c9d92c473d6row2_col6\" class=\"data row2 col6\" >0.0</td>\n",
       "                        <td id=\"T_55b4ccbc_7c7f_11ec_b1b3_0c9d92c473d6row2_col7\" class=\"data row2 col7\" >0.371</td>\n",
       "                        <td id=\"T_55b4ccbc_7c7f_11ec_b1b3_0c9d92c473d6row2_col8\" class=\"data row2 col8\" >0.0</td>\n",
       "                        <td id=\"T_55b4ccbc_7c7f_11ec_b1b3_0c9d92c473d6row2_col9\" class=\"data row2 col9\" >0.0</td>\n",
       "                        <td id=\"T_55b4ccbc_7c7f_11ec_b1b3_0c9d92c473d6row2_col10\" class=\"data row2 col10\" >0.584</td>\n",
       "                        <td id=\"T_55b4ccbc_7c7f_11ec_b1b3_0c9d92c473d6row2_col11\" class=\"data row2 col11\" >0.0</td>\n",
       "                        <td id=\"T_55b4ccbc_7c7f_11ec_b1b3_0c9d92c473d6row2_col12\" class=\"data row2 col12\" >0.433</td>\n",
       "                        <td id=\"T_55b4ccbc_7c7f_11ec_b1b3_0c9d92c473d6row2_col13\" class=\"data row2 col13\" >0.0</td>\n",
       "            </tr>\n",
       "            <tr>\n",
       "                        <th id=\"T_55b4ccbc_7c7f_11ec_b1b3_0c9d92c473d6level0_row3\" class=\"row_heading level0 row3\" >INDUS</th>\n",
       "                        <td id=\"T_55b4ccbc_7c7f_11ec_b1b3_0c9d92c473d6row3_col0\" class=\"data row3 col0\" >0.0</td>\n",
       "                        <td id=\"T_55b4ccbc_7c7f_11ec_b1b3_0c9d92c473d6row3_col1\" class=\"data row3 col1\" >0.0</td>\n",
       "                        <td id=\"T_55b4ccbc_7c7f_11ec_b1b3_0c9d92c473d6row3_col2\" class=\"data row3 col2\" >0.767</td>\n",
       "                        <td id=\"T_55b4ccbc_7c7f_11ec_b1b3_0c9d92c473d6row3_col3\" class=\"data row3 col3\" >0.0</td>\n",
       "                        <td id=\"T_55b4ccbc_7c7f_11ec_b1b3_0c9d92c473d6row3_col4\" class=\"data row3 col4\" >0.0</td>\n",
       "                        <td id=\"T_55b4ccbc_7c7f_11ec_b1b3_0c9d92c473d6row3_col5\" class=\"data row3 col5\" >0.0</td>\n",
       "                        <td id=\"T_55b4ccbc_7c7f_11ec_b1b3_0c9d92c473d6row3_col6\" class=\"data row3 col6\" >0.0</td>\n",
       "                        <td id=\"T_55b4ccbc_7c7f_11ec_b1b3_0c9d92c473d6row3_col7\" class=\"data row3 col7\" >0.592</td>\n",
       "                        <td id=\"T_55b4ccbc_7c7f_11ec_b1b3_0c9d92c473d6row3_col8\" class=\"data row3 col8\" >0.0</td>\n",
       "                        <td id=\"T_55b4ccbc_7c7f_11ec_b1b3_0c9d92c473d6row3_col9\" class=\"data row3 col9\" >0.0</td>\n",
       "                        <td id=\"T_55b4ccbc_7c7f_11ec_b1b3_0c9d92c473d6row3_col10\" class=\"data row3 col10\" >0.664</td>\n",
       "                        <td id=\"T_55b4ccbc_7c7f_11ec_b1b3_0c9d92c473d6row3_col11\" class=\"data row3 col11\" >0.0</td>\n",
       "                        <td id=\"T_55b4ccbc_7c7f_11ec_b1b3_0c9d92c473d6row3_col12\" class=\"data row3 col12\" >0.437</td>\n",
       "                        <td id=\"T_55b4ccbc_7c7f_11ec_b1b3_0c9d92c473d6row3_col13\" class=\"data row3 col13\" >0.0</td>\n",
       "            </tr>\n",
       "            <tr>\n",
       "                        <th id=\"T_55b4ccbc_7c7f_11ec_b1b3_0c9d92c473d6level0_row4\" class=\"row_heading level0 row4\" >CHAS</th>\n",
       "                        <td id=\"T_55b4ccbc_7c7f_11ec_b1b3_0c9d92c473d6row4_col0\" class=\"data row4 col0\" >0.514</td>\n",
       "                        <td id=\"T_55b4ccbc_7c7f_11ec_b1b3_0c9d92c473d6row4_col1\" class=\"data row4 col1\" >0.0</td>\n",
       "                        <td id=\"T_55b4ccbc_7c7f_11ec_b1b3_0c9d92c473d6row4_col2\" class=\"data row4 col2\" >1.66</td>\n",
       "                        <td id=\"T_55b4ccbc_7c7f_11ec_b1b3_0c9d92c473d6row4_col3\" class=\"data row4 col3\" >0.194</td>\n",
       "                        <td id=\"T_55b4ccbc_7c7f_11ec_b1b3_0c9d92c473d6row4_col4\" class=\"data row4 col4\" >0.0</td>\n",
       "                        <td id=\"T_55b4ccbc_7c7f_11ec_b1b3_0c9d92c473d6row4_col5\" class=\"data row4 col5\" >0.0</td>\n",
       "                        <td id=\"T_55b4ccbc_7c7f_11ec_b1b3_0c9d92c473d6row4_col6\" class=\"data row4 col6\" >0.0</td>\n",
       "                        <td id=\"T_55b4ccbc_7c7f_11ec_b1b3_0c9d92c473d6row4_col7\" class=\"data row4 col7\" >1.2</td>\n",
       "                        <td id=\"T_55b4ccbc_7c7f_11ec_b1b3_0c9d92c473d6row4_col8\" class=\"data row4 col8\" >0.0</td>\n",
       "                        <td id=\"T_55b4ccbc_7c7f_11ec_b1b3_0c9d92c473d6row4_col9\" class=\"data row4 col9\" >0.0</td>\n",
       "                        <td id=\"T_55b4ccbc_7c7f_11ec_b1b3_0c9d92c473d6row4_col10\" class=\"data row4 col10\" >2.58</td>\n",
       "                        <td id=\"T_55b4ccbc_7c7f_11ec_b1b3_0c9d92c473d6row4_col11\" class=\"data row4 col11\" >0.0</td>\n",
       "                        <td id=\"T_55b4ccbc_7c7f_11ec_b1b3_0c9d92c473d6row4_col12\" class=\"data row4 col12\" >2.78</td>\n",
       "                        <td id=\"T_55b4ccbc_7c7f_11ec_b1b3_0c9d92c473d6row4_col13\" class=\"data row4 col13\" >0.0</td>\n",
       "            </tr>\n",
       "            <tr>\n",
       "                        <th id=\"T_55b4ccbc_7c7f_11ec_b1b3_0c9d92c473d6level0_row5\" class=\"row_heading level0 row5\" >NOX</th>\n",
       "                        <td id=\"T_55b4ccbc_7c7f_11ec_b1b3_0c9d92c473d6row5_col0\" class=\"data row5 col0\" >0.0</td>\n",
       "                        <td id=\"T_55b4ccbc_7c7f_11ec_b1b3_0c9d92c473d6row5_col1\" class=\"data row5 col1\" >0.0</td>\n",
       "                        <td id=\"T_55b4ccbc_7c7f_11ec_b1b3_0c9d92c473d6row5_col2\" class=\"data row5 col2\" >0.774</td>\n",
       "                        <td id=\"T_55b4ccbc_7c7f_11ec_b1b3_0c9d92c473d6row5_col3\" class=\"data row5 col3\" >1.83</td>\n",
       "                        <td id=\"T_55b4ccbc_7c7f_11ec_b1b3_0c9d92c473d6row5_col4\" class=\"data row5 col4\" >0.0</td>\n",
       "                        <td id=\"T_55b4ccbc_7c7f_11ec_b1b3_0c9d92c473d6row5_col5\" class=\"data row5 col5\" >0.0</td>\n",
       "                        <td id=\"T_55b4ccbc_7c7f_11ec_b1b3_0c9d92c473d6row5_col6\" class=\"data row5 col6\" >0.0</td>\n",
       "                        <td id=\"T_55b4ccbc_7c7f_11ec_b1b3_0c9d92c473d6row5_col7\" class=\"data row5 col7\" >1.17</td>\n",
       "                        <td id=\"T_55b4ccbc_7c7f_11ec_b1b3_0c9d92c473d6row5_col8\" class=\"data row5 col8\" >0.0</td>\n",
       "                        <td id=\"T_55b4ccbc_7c7f_11ec_b1b3_0c9d92c473d6row5_col9\" class=\"data row5 col9\" >0.0</td>\n",
       "                        <td id=\"T_55b4ccbc_7c7f_11ec_b1b3_0c9d92c473d6row5_col10\" class=\"data row5 col10\" >1.63</td>\n",
       "                        <td id=\"T_55b4ccbc_7c7f_11ec_b1b3_0c9d92c473d6row5_col11\" class=\"data row5 col11\" >0.0</td>\n",
       "                        <td id=\"T_55b4ccbc_7c7f_11ec_b1b3_0c9d92c473d6row5_col12\" class=\"data row5 col12\" >0.853</td>\n",
       "                        <td id=\"T_55b4ccbc_7c7f_11ec_b1b3_0c9d92c473d6row5_col13\" class=\"data row5 col13\" >0.0</td>\n",
       "            </tr>\n",
       "            <tr>\n",
       "                        <th id=\"T_55b4ccbc_7c7f_11ec_b1b3_0c9d92c473d6level0_row6\" class=\"row_heading level0 row6\" >RM</th>\n",
       "                        <td id=\"T_55b4ccbc_7c7f_11ec_b1b3_0c9d92c473d6row6_col0\" class=\"data row6 col0\" >0.355</td>\n",
       "                        <td id=\"T_55b4ccbc_7c7f_11ec_b1b3_0c9d92c473d6row6_col1\" class=\"data row6 col1\" >0.0</td>\n",
       "                        <td id=\"T_55b4ccbc_7c7f_11ec_b1b3_0c9d92c473d6row6_col2\" class=\"data row6 col2\" >0.0</td>\n",
       "                        <td id=\"T_55b4ccbc_7c7f_11ec_b1b3_0c9d92c473d6row6_col3\" class=\"data row6 col3\" >0.0</td>\n",
       "                        <td id=\"T_55b4ccbc_7c7f_11ec_b1b3_0c9d92c473d6row6_col4\" class=\"data row6 col4\" >0.0</td>\n",
       "                        <td id=\"T_55b4ccbc_7c7f_11ec_b1b3_0c9d92c473d6row6_col5\" class=\"data row6 col5\" >0.0</td>\n",
       "                        <td id=\"T_55b4ccbc_7c7f_11ec_b1b3_0c9d92c473d6row6_col6\" class=\"data row6 col6\" >0.0</td>\n",
       "                        <td id=\"T_55b4ccbc_7c7f_11ec_b1b3_0c9d92c473d6row6_col7\" class=\"data row6 col7\" >0.67</td>\n",
       "                        <td id=\"T_55b4ccbc_7c7f_11ec_b1b3_0c9d92c473d6row6_col8\" class=\"data row6 col8\" >0.0</td>\n",
       "                        <td id=\"T_55b4ccbc_7c7f_11ec_b1b3_0c9d92c473d6row6_col9\" class=\"data row6 col9\" >0.0</td>\n",
       "                        <td id=\"T_55b4ccbc_7c7f_11ec_b1b3_0c9d92c473d6row6_col10\" class=\"data row6 col10\" >0.74</td>\n",
       "                        <td id=\"T_55b4ccbc_7c7f_11ec_b1b3_0c9d92c473d6row6_col11\" class=\"data row6 col11\" >0.0</td>\n",
       "                        <td id=\"T_55b4ccbc_7c7f_11ec_b1b3_0c9d92c473d6row6_col12\" class=\"data row6 col12\" >0.839</td>\n",
       "                        <td id=\"T_55b4ccbc_7c7f_11ec_b1b3_0c9d92c473d6row6_col13\" class=\"data row6 col13\" >0.309</td>\n",
       "            </tr>\n",
       "            <tr>\n",
       "                        <th id=\"T_55b4ccbc_7c7f_11ec_b1b3_0c9d92c473d6level0_row7\" class=\"row_heading level0 row7\" >AGE</th>\n",
       "                        <td id=\"T_55b4ccbc_7c7f_11ec_b1b3_0c9d92c473d6row7_col0\" class=\"data row7 col0\" >0.0</td>\n",
       "                        <td id=\"T_55b4ccbc_7c7f_11ec_b1b3_0c9d92c473d6row7_col1\" class=\"data row7 col1\" >0.0</td>\n",
       "                        <td id=\"T_55b4ccbc_7c7f_11ec_b1b3_0c9d92c473d6row7_col2\" class=\"data row7 col2\" >0.0</td>\n",
       "                        <td id=\"T_55b4ccbc_7c7f_11ec_b1b3_0c9d92c473d6row7_col3\" class=\"data row7 col3\" >0.0</td>\n",
       "                        <td id=\"T_55b4ccbc_7c7f_11ec_b1b3_0c9d92c473d6row7_col4\" class=\"data row7 col4\" >0.0</td>\n",
       "                        <td id=\"T_55b4ccbc_7c7f_11ec_b1b3_0c9d92c473d6row7_col5\" class=\"data row7 col5\" >0.0</td>\n",
       "                        <td id=\"T_55b4ccbc_7c7f_11ec_b1b3_0c9d92c473d6row7_col6\" class=\"data row7 col6\" >0.0</td>\n",
       "                        <td id=\"T_55b4ccbc_7c7f_11ec_b1b3_0c9d92c473d6row7_col7\" class=\"data row7 col7\" >0.0</td>\n",
       "                        <td id=\"T_55b4ccbc_7c7f_11ec_b1b3_0c9d92c473d6row7_col8\" class=\"data row7 col8\" >0.0</td>\n",
       "                        <td id=\"T_55b4ccbc_7c7f_11ec_b1b3_0c9d92c473d6row7_col9\" class=\"data row7 col9\" >0.0</td>\n",
       "                        <td id=\"T_55b4ccbc_7c7f_11ec_b1b3_0c9d92c473d6row7_col10\" class=\"data row7 col10\" >0.363</td>\n",
       "                        <td id=\"T_55b4ccbc_7c7f_11ec_b1b3_0c9d92c473d6row7_col11\" class=\"data row7 col11\" >0.0</td>\n",
       "                        <td id=\"T_55b4ccbc_7c7f_11ec_b1b3_0c9d92c473d6row7_col12\" class=\"data row7 col12\" >0.376</td>\n",
       "                        <td id=\"T_55b4ccbc_7c7f_11ec_b1b3_0c9d92c473d6row7_col13\" class=\"data row7 col13\" >0.0</td>\n",
       "            </tr>\n",
       "            <tr>\n",
       "                        <th id=\"T_55b4ccbc_7c7f_11ec_b1b3_0c9d92c473d6level0_row8\" class=\"row_heading level0 row8\" >DIS</th>\n",
       "                        <td id=\"T_55b4ccbc_7c7f_11ec_b1b3_0c9d92c473d6row8_col0\" class=\"data row8 col0\" >0.277</td>\n",
       "                        <td id=\"T_55b4ccbc_7c7f_11ec_b1b3_0c9d92c473d6row8_col1\" class=\"data row8 col1\" >0.535</td>\n",
       "                        <td id=\"T_55b4ccbc_7c7f_11ec_b1b3_0c9d92c473d6row8_col2\" class=\"data row8 col2\" >0.932</td>\n",
       "                        <td id=\"T_55b4ccbc_7c7f_11ec_b1b3_0c9d92c473d6row8_col3\" class=\"data row8 col3\" >0.0</td>\n",
       "                        <td id=\"T_55b4ccbc_7c7f_11ec_b1b3_0c9d92c473d6row8_col4\" class=\"data row8 col4\" >0.0</td>\n",
       "                        <td id=\"T_55b4ccbc_7c7f_11ec_b1b3_0c9d92c473d6row8_col5\" class=\"data row8 col5\" >0.0</td>\n",
       "                        <td id=\"T_55b4ccbc_7c7f_11ec_b1b3_0c9d92c473d6row8_col6\" class=\"data row8 col6\" >0.0</td>\n",
       "                        <td id=\"T_55b4ccbc_7c7f_11ec_b1b3_0c9d92c473d6row8_col7\" class=\"data row8 col7\" >1.02</td>\n",
       "                        <td id=\"T_55b4ccbc_7c7f_11ec_b1b3_0c9d92c473d6row8_col8\" class=\"data row8 col8\" >0.0</td>\n",
       "                        <td id=\"T_55b4ccbc_7c7f_11ec_b1b3_0c9d92c473d6row8_col9\" class=\"data row8 col9\" >0.0</td>\n",
       "                        <td id=\"T_55b4ccbc_7c7f_11ec_b1b3_0c9d92c473d6row8_col10\" class=\"data row8 col10\" >1.33</td>\n",
       "                        <td id=\"T_55b4ccbc_7c7f_11ec_b1b3_0c9d92c473d6row8_col11\" class=\"data row8 col11\" >0.0</td>\n",
       "                        <td id=\"T_55b4ccbc_7c7f_11ec_b1b3_0c9d92c473d6row8_col12\" class=\"data row8 col12\" >1.15</td>\n",
       "                        <td id=\"T_55b4ccbc_7c7f_11ec_b1b3_0c9d92c473d6row8_col13\" class=\"data row8 col13\" >0.0</td>\n",
       "            </tr>\n",
       "            <tr>\n",
       "                        <th id=\"T_55b4ccbc_7c7f_11ec_b1b3_0c9d92c473d6level0_row9\" class=\"row_heading level0 row9\" >RAD</th>\n",
       "                        <td id=\"T_55b4ccbc_7c7f_11ec_b1b3_0c9d92c473d6row9_col0\" class=\"data row9 col0\" >0.0</td>\n",
       "                        <td id=\"T_55b4ccbc_7c7f_11ec_b1b3_0c9d92c473d6row9_col1\" class=\"data row9 col1\" >0.0</td>\n",
       "                        <td id=\"T_55b4ccbc_7c7f_11ec_b1b3_0c9d92c473d6row9_col2\" class=\"data row9 col2\" >0.456</td>\n",
       "                        <td id=\"T_55b4ccbc_7c7f_11ec_b1b3_0c9d92c473d6row9_col3\" class=\"data row9 col3\" >0.0</td>\n",
       "                        <td id=\"T_55b4ccbc_7c7f_11ec_b1b3_0c9d92c473d6row9_col4\" class=\"data row9 col4\" >0.0</td>\n",
       "                        <td id=\"T_55b4ccbc_7c7f_11ec_b1b3_0c9d92c473d6row9_col5\" class=\"data row9 col5\" >0.0</td>\n",
       "                        <td id=\"T_55b4ccbc_7c7f_11ec_b1b3_0c9d92c473d6row9_col6\" class=\"data row9 col6\" >0.0</td>\n",
       "                        <td id=\"T_55b4ccbc_7c7f_11ec_b1b3_0c9d92c473d6row9_col7\" class=\"data row9 col7\" >0.392</td>\n",
       "                        <td id=\"T_55b4ccbc_7c7f_11ec_b1b3_0c9d92c473d6row9_col8\" class=\"data row9 col8\" >0.0</td>\n",
       "                        <td id=\"T_55b4ccbc_7c7f_11ec_b1b3_0c9d92c473d6row9_col9\" class=\"data row9 col9\" >0.0</td>\n",
       "                        <td id=\"T_55b4ccbc_7c7f_11ec_b1b3_0c9d92c473d6row9_col10\" class=\"data row9 col10\" >1.69</td>\n",
       "                        <td id=\"T_55b4ccbc_7c7f_11ec_b1b3_0c9d92c473d6row9_col11\" class=\"data row9 col11\" >0.0</td>\n",
       "                        <td id=\"T_55b4ccbc_7c7f_11ec_b1b3_0c9d92c473d6row9_col12\" class=\"data row9 col12\" >0.0</td>\n",
       "                        <td id=\"T_55b4ccbc_7c7f_11ec_b1b3_0c9d92c473d6row9_col13\" class=\"data row9 col13\" >0.0</td>\n",
       "            </tr>\n",
       "            <tr>\n",
       "                        <th id=\"T_55b4ccbc_7c7f_11ec_b1b3_0c9d92c473d6level0_row10\" class=\"row_heading level0 row10\" >TAX</th>\n",
       "                        <td id=\"T_55b4ccbc_7c7f_11ec_b1b3_0c9d92c473d6row10_col0\" class=\"data row10 col0\" >0.0</td>\n",
       "                        <td id=\"T_55b4ccbc_7c7f_11ec_b1b3_0c9d92c473d6row10_col1\" class=\"data row10 col1\" >0.0</td>\n",
       "                        <td id=\"T_55b4ccbc_7c7f_11ec_b1b3_0c9d92c473d6row10_col2\" class=\"data row10 col2\" >0.0</td>\n",
       "                        <td id=\"T_55b4ccbc_7c7f_11ec_b1b3_0c9d92c473d6row10_col3\" class=\"data row10 col3\" >0.0</td>\n",
       "                        <td id=\"T_55b4ccbc_7c7f_11ec_b1b3_0c9d92c473d6row10_col4\" class=\"data row10 col4\" >0.0</td>\n",
       "                        <td id=\"T_55b4ccbc_7c7f_11ec_b1b3_0c9d92c473d6row10_col5\" class=\"data row10 col5\" >0.0</td>\n",
       "                        <td id=\"T_55b4ccbc_7c7f_11ec_b1b3_0c9d92c473d6row10_col6\" class=\"data row10 col6\" >0.0</td>\n",
       "                        <td id=\"T_55b4ccbc_7c7f_11ec_b1b3_0c9d92c473d6row10_col7\" class=\"data row10 col7\" >0.0</td>\n",
       "                        <td id=\"T_55b4ccbc_7c7f_11ec_b1b3_0c9d92c473d6row10_col8\" class=\"data row10 col8\" >0.0</td>\n",
       "                        <td id=\"T_55b4ccbc_7c7f_11ec_b1b3_0c9d92c473d6row10_col9\" class=\"data row10 col9\" >0.0</td>\n",
       "                        <td id=\"T_55b4ccbc_7c7f_11ec_b1b3_0c9d92c473d6row10_col10\" class=\"data row10 col10\" >0.0</td>\n",
       "                        <td id=\"T_55b4ccbc_7c7f_11ec_b1b3_0c9d92c473d6row10_col11\" class=\"data row10 col11\" >0.0</td>\n",
       "                        <td id=\"T_55b4ccbc_7c7f_11ec_b1b3_0c9d92c473d6row10_col12\" class=\"data row10 col12\" >0.0</td>\n",
       "                        <td id=\"T_55b4ccbc_7c7f_11ec_b1b3_0c9d92c473d6row10_col13\" class=\"data row10 col13\" >0.0</td>\n",
       "            </tr>\n",
       "            <tr>\n",
       "                        <th id=\"T_55b4ccbc_7c7f_11ec_b1b3_0c9d92c473d6level0_row11\" class=\"row_heading level0 row11\" >PTRATIO</th>\n",
       "                        <td id=\"T_55b4ccbc_7c7f_11ec_b1b3_0c9d92c473d6row11_col0\" class=\"data row11 col0\" >0.0</td>\n",
       "                        <td id=\"T_55b4ccbc_7c7f_11ec_b1b3_0c9d92c473d6row11_col1\" class=\"data row11 col1\" >0.0</td>\n",
       "                        <td id=\"T_55b4ccbc_7c7f_11ec_b1b3_0c9d92c473d6row11_col2\" class=\"data row11 col2\" >0.424</td>\n",
       "                        <td id=\"T_55b4ccbc_7c7f_11ec_b1b3_0c9d92c473d6row11_col3\" class=\"data row11 col3\" >0.0</td>\n",
       "                        <td id=\"T_55b4ccbc_7c7f_11ec_b1b3_0c9d92c473d6row11_col4\" class=\"data row11 col4\" >0.0</td>\n",
       "                        <td id=\"T_55b4ccbc_7c7f_11ec_b1b3_0c9d92c473d6row11_col5\" class=\"data row11 col5\" >0.0</td>\n",
       "                        <td id=\"T_55b4ccbc_7c7f_11ec_b1b3_0c9d92c473d6row11_col6\" class=\"data row11 col6\" >0.0</td>\n",
       "                        <td id=\"T_55b4ccbc_7c7f_11ec_b1b3_0c9d92c473d6row11_col7\" class=\"data row11 col7\" >0.0</td>\n",
       "                        <td id=\"T_55b4ccbc_7c7f_11ec_b1b3_0c9d92c473d6row11_col8\" class=\"data row11 col8\" >0.0</td>\n",
       "                        <td id=\"T_55b4ccbc_7c7f_11ec_b1b3_0c9d92c473d6row11_col9\" class=\"data row11 col9\" >0.0</td>\n",
       "                        <td id=\"T_55b4ccbc_7c7f_11ec_b1b3_0c9d92c473d6row11_col10\" class=\"data row11 col10\" >0.359</td>\n",
       "                        <td id=\"T_55b4ccbc_7c7f_11ec_b1b3_0c9d92c473d6row11_col11\" class=\"data row11 col11\" >0.0</td>\n",
       "                        <td id=\"T_55b4ccbc_7c7f_11ec_b1b3_0c9d92c473d6row11_col12\" class=\"data row11 col12\" >0.49</td>\n",
       "                        <td id=\"T_55b4ccbc_7c7f_11ec_b1b3_0c9d92c473d6row11_col13\" class=\"data row11 col13\" >0.0</td>\n",
       "            </tr>\n",
       "            <tr>\n",
       "                        <th id=\"T_55b4ccbc_7c7f_11ec_b1b3_0c9d92c473d6level0_row12\" class=\"row_heading level0 row12\" >B</th>\n",
       "                        <td id=\"T_55b4ccbc_7c7f_11ec_b1b3_0c9d92c473d6row12_col0\" class=\"data row12 col0\" >0.0</td>\n",
       "                        <td id=\"T_55b4ccbc_7c7f_11ec_b1b3_0c9d92c473d6row12_col1\" class=\"data row12 col1\" >0.0</td>\n",
       "                        <td id=\"T_55b4ccbc_7c7f_11ec_b1b3_0c9d92c473d6row12_col2\" class=\"data row12 col2\" >0.0</td>\n",
       "                        <td id=\"T_55b4ccbc_7c7f_11ec_b1b3_0c9d92c473d6row12_col3\" class=\"data row12 col3\" >0.0</td>\n",
       "                        <td id=\"T_55b4ccbc_7c7f_11ec_b1b3_0c9d92c473d6row12_col4\" class=\"data row12 col4\" >0.0</td>\n",
       "                        <td id=\"T_55b4ccbc_7c7f_11ec_b1b3_0c9d92c473d6row12_col5\" class=\"data row12 col5\" >0.0</td>\n",
       "                        <td id=\"T_55b4ccbc_7c7f_11ec_b1b3_0c9d92c473d6row12_col6\" class=\"data row12 col6\" >0.0</td>\n",
       "                        <td id=\"T_55b4ccbc_7c7f_11ec_b1b3_0c9d92c473d6row12_col7\" class=\"data row12 col7\" >0.0</td>\n",
       "                        <td id=\"T_55b4ccbc_7c7f_11ec_b1b3_0c9d92c473d6row12_col8\" class=\"data row12 col8\" >0.0</td>\n",
       "                        <td id=\"T_55b4ccbc_7c7f_11ec_b1b3_0c9d92c473d6row12_col9\" class=\"data row12 col9\" >0.0</td>\n",
       "                        <td id=\"T_55b4ccbc_7c7f_11ec_b1b3_0c9d92c473d6row12_col10\" class=\"data row12 col10\" >0.0</td>\n",
       "                        <td id=\"T_55b4ccbc_7c7f_11ec_b1b3_0c9d92c473d6row12_col11\" class=\"data row12 col11\" >0.0</td>\n",
       "                        <td id=\"T_55b4ccbc_7c7f_11ec_b1b3_0c9d92c473d6row12_col12\" class=\"data row12 col12\" >0.0</td>\n",
       "                        <td id=\"T_55b4ccbc_7c7f_11ec_b1b3_0c9d92c473d6row12_col13\" class=\"data row12 col13\" >0.0</td>\n",
       "            </tr>\n",
       "            <tr>\n",
       "                        <th id=\"T_55b4ccbc_7c7f_11ec_b1b3_0c9d92c473d6level0_row13\" class=\"row_heading level0 row13\" >LSTAT</th>\n",
       "                        <td id=\"T_55b4ccbc_7c7f_11ec_b1b3_0c9d92c473d6row13_col0\" class=\"data row13 col0\" >0.342</td>\n",
       "                        <td id=\"T_55b4ccbc_7c7f_11ec_b1b3_0c9d92c473d6row13_col1\" class=\"data row13 col1\" >0.237</td>\n",
       "                        <td id=\"T_55b4ccbc_7c7f_11ec_b1b3_0c9d92c473d6row13_col2\" class=\"data row13 col2\" >0.0</td>\n",
       "                        <td id=\"T_55b4ccbc_7c7f_11ec_b1b3_0c9d92c473d6row13_col3\" class=\"data row13 col3\" >0.0</td>\n",
       "                        <td id=\"T_55b4ccbc_7c7f_11ec_b1b3_0c9d92c473d6row13_col4\" class=\"data row13 col4\" >0.0</td>\n",
       "                        <td id=\"T_55b4ccbc_7c7f_11ec_b1b3_0c9d92c473d6row13_col5\" class=\"data row13 col5\" >0.0</td>\n",
       "                        <td id=\"T_55b4ccbc_7c7f_11ec_b1b3_0c9d92c473d6row13_col6\" class=\"data row13 col6\" >0.0</td>\n",
       "                        <td id=\"T_55b4ccbc_7c7f_11ec_b1b3_0c9d92c473d6row13_col7\" class=\"data row13 col7\" >0.453</td>\n",
       "                        <td id=\"T_55b4ccbc_7c7f_11ec_b1b3_0c9d92c473d6row13_col8\" class=\"data row13 col8\" >0.0</td>\n",
       "                        <td id=\"T_55b4ccbc_7c7f_11ec_b1b3_0c9d92c473d6row13_col9\" class=\"data row13 col9\" >0.0</td>\n",
       "                        <td id=\"T_55b4ccbc_7c7f_11ec_b1b3_0c9d92c473d6row13_col10\" class=\"data row13 col10\" >0.808</td>\n",
       "                        <td id=\"T_55b4ccbc_7c7f_11ec_b1b3_0c9d92c473d6row13_col11\" class=\"data row13 col11\" >0.0</td>\n",
       "                        <td id=\"T_55b4ccbc_7c7f_11ec_b1b3_0c9d92c473d6row13_col12\" class=\"data row13 col12\" >0.519</td>\n",
       "                        <td id=\"T_55b4ccbc_7c7f_11ec_b1b3_0c9d92c473d6row13_col13\" class=\"data row13 col13\" >0.0</td>\n",
       "            </tr>\n",
       "    </tbody></table>"
      ],
      "text/plain": [
       "<pandas.io.formats.style.Styler at 0x7f11c1a2d0f0>"
      ]
     },
     "metadata": {},
     "output_type": "display_data"
    },
    {
     "name": "stdout",
     "output_type": "stream",
     "text": [
      "Total Number of Edges in G: 51\n",
      "Max in degree: 12\n",
      "DAG: True\n"
     ]
    },
    {
     "data": {
      "text/html": [
       "\n",
       "        <iframe\n",
       "            width=\"100%\"\n",
       "            height=\"600px\"\n",
       "            src=\"a.html\"\n",
       "            frameborder=\"0\"\n",
       "            allowfullscreen\n",
       "        ></iframe>\n",
       "        "
      ],
      "text/plain": [
       "<IPython.lib.display.IFrame at 0x7f12ddcadc50>"
      ]
     },
     "execution_count": 7,
     "metadata": {},
     "output_type": "execute_result"
    }
   ],
   "source": [
    "import re\n",
    "dset='100000'\n",
    "theta = '0.132'\n",
    "version = 'boston'\n",
    "folder = \"./results/adjmats/\"\n",
    "list_edges = []\n",
    "count = 0\n",
    "W_est = np.zeros((df.shape[1],df.shape[1]))\n",
    "for filename in os.listdir(folder):\n",
    "#     print(filename)\n",
    "    if version in ['v3','p1']:\n",
    "        match = re.search(f'W_est.{dset}.([\\w]+).([\\w.]+).{version}.pkl$', filename)\n",
    "    else:\n",
    "        match = re.search(f'W_est.{dset}.(\\d).(\\d).{theta}(\\d+)?.{version}.pkl$', filename)\n",
    "    if match:\n",
    "#         print( match.groups())\n",
    "#         print(filename)\n",
    "        out_f, in_f, theta = match.groups()\n",
    "        w_est = load_pickle(os.path.join(folder,filename), verbose=False)\n",
    "#         print(sum(w_est.flatten()>0))\n",
    "#         print(w_est)\n",
    "        W_est += w_est\n",
    "#         print(W_est)\n",
    "        count += 1\n",
    "W_est = W_est/count\n",
    "# print(W_est)\n",
    "# print((W_est).flatten())\n",
    "# print(sum((W_est).flatten()>0))\n",
    "tau = 0.132\n",
    "print(\"tau:\",tau)\n",
    "maxed_adj = DAG_retreive_np(W_est, tau)\n",
    "heat_mat(maxed_adj, names= df.columns.values)\n",
    "plot_DAG(maxed_adj, graphic_type = \"py\", names = list(df.columns))"
   ]
  },
  {
   "cell_type": "code",
   "execution_count": 9,
   "metadata": {},
   "outputs": [],
   "source": [
    "save_mat = False\n",
    "if save_mat:\n",
    "    pd.DataFrame(W_est).to_csv(f\"{dag_type}_adj_matrix.csv\", index=False)"
   ]
  },
  {
   "cell_type": "markdown",
   "metadata": {},
   "source": [
    "## Dataset Size experiment"
   ]
  },
  {
   "cell_type": "code",
   "execution_count": 6,
   "metadata": {},
   "outputs": [
    {
     "name": "stderr",
     "output_type": "stream",
     "text": [
      "Dset 100:   0%|          | 0/2 [00:00<?, ?it/s]"
     ]
    },
    {
     "name": "stdout",
     "output_type": "stream",
     "text": [
      "LR= 0.001\n",
      "INFO:tensorflow:Restoring parameters from ./models/boston_size3/boston_size3.ckpt_ds100\n"
     ]
    },
    {
     "name": "stderr",
     "output_type": "stream",
     "text": [
      "\n",
      "\u001b[A\n",
      "\u001b[A\n",
      "\u001b[A\n",
      "\n",
      "\u001b[A\u001b[A\n",
      "\n",
      "\u001b[A\u001b[A\n",
      "\n",
      "\u001b[A\u001b[A"
     ]
    },
    {
     "name": "stdout",
     "output_type": "stream",
     "text": [
      "INFO:tensorflow:Restoring parameters from ./models/boston_size3/boston_size3.ckpt\n"
     ]
    },
    {
     "name": "stderr",
     "output_type": "stream",
     "text": [
      "\n",
      "\n",
      "\u001b[A\u001b[A\n",
      "\n",
      "\u001b[A\u001b[A\n",
      "\n",
      "\u001b[A\u001b[A"
     ]
    },
    {
     "name": "stdout",
     "output_type": "stream",
     "text": [
      "INFO:tensorflow:Restoring parameters from ./models/boston_size3/boston_size3.ckpt\n"
     ]
    },
    {
     "name": "stderr",
     "output_type": "stream",
     "text": [
      "\n",
      "\n",
      "\u001b[A\u001b[A\n",
      "\n",
      "\u001b[A\u001b[A\n",
      "\n",
      "\u001b[A\u001b[A"
     ]
    },
    {
     "name": "stdout",
     "output_type": "stream",
     "text": [
      "INFO:tensorflow:Restoring parameters from ./models/boston_size3/boston_size3.ckpt\n"
     ]
    },
    {
     "name": "stderr",
     "output_type": "stream",
     "text": [
      "\n",
      "\n",
      "\u001b[A\u001b[A\n",
      "\n",
      "\u001b[A\u001b[A\n",
      "\n",
      "\u001b[A\u001b[A"
     ]
    },
    {
     "name": "stdout",
     "output_type": "stream",
     "text": [
      "INFO:tensorflow:Restoring parameters from ./models/boston_size3/boston_size3.ckpt\n"
     ]
    },
    {
     "name": "stderr",
     "output_type": "stream",
     "text": [
      "\n",
      "\n",
      "\u001b[A\u001b[A\n",
      "\n",
      "\u001b[A\u001b[A\n",
      "\n",
      "\u001b[A\u001b[A"
     ]
    },
    {
     "name": "stdout",
     "output_type": "stream",
     "text": [
      "INFO:tensorflow:Restoring parameters from ./models/boston_size3/boston_size3.ckpt\n"
     ]
    },
    {
     "name": "stderr",
     "output_type": "stream",
     "text": [
      "\n",
      "\n",
      "\u001b[A\u001b[A\n",
      "\n",
      "\u001b[A\u001b[A\n",
      "\u001b[A\n",
      "\u001b[A\n",
      "\u001b[A\n",
      "\n",
      "\u001b[A\u001b[A\n",
      "\n",
      "\u001b[A\u001b[A\n",
      "\n",
      "\u001b[A\u001b[A"
     ]
    },
    {
     "name": "stdout",
     "output_type": "stream",
     "text": [
      "INFO:tensorflow:Restoring parameters from ./models/boston_size3/boston_size3.ckpt_ds100\n",
      "INFO:tensorflow:Restoring parameters from ./models/boston_size3/boston_size3.ckpt_ds100_tuned\n"
     ]
    },
    {
     "name": "stderr",
     "output_type": "stream",
     "text": [
      "\n",
      "\n",
      "\u001b[A\u001b[A\n",
      "\n",
      "\u001b[A\u001b[A\n",
      "\n",
      "\u001b[A\u001b[A"
     ]
    },
    {
     "name": "stdout",
     "output_type": "stream",
     "text": [
      "INFO:tensorflow:Restoring parameters from ./models/boston_size3/boston_size3.ckpt_ds100\n",
      "INFO:tensorflow:Restoring parameters from ./models/boston_size3/boston_size3.ckpt_ds100_tuned\n"
     ]
    },
    {
     "name": "stderr",
     "output_type": "stream",
     "text": [
      "\n",
      "\n",
      "\u001b[A\u001b[A\n",
      "\n",
      "\u001b[A\u001b[A\n",
      "\n",
      "\u001b[A\u001b[A"
     ]
    },
    {
     "name": "stdout",
     "output_type": "stream",
     "text": [
      "INFO:tensorflow:Restoring parameters from ./models/boston_size3/boston_size3.ckpt_ds100\n",
      "INFO:tensorflow:Restoring parameters from ./models/boston_size3/boston_size3.ckpt_ds100_tuned\n"
     ]
    },
    {
     "name": "stderr",
     "output_type": "stream",
     "text": [
      "\n",
      "\n",
      "\u001b[A\u001b[A\n",
      "\n",
      "\u001b[A\u001b[A\n",
      "\n",
      "\u001b[A\u001b[A"
     ]
    },
    {
     "name": "stdout",
     "output_type": "stream",
     "text": [
      "INFO:tensorflow:Restoring parameters from ./models/boston_size3/boston_size3.ckpt_ds100\n",
      "INFO:tensorflow:Restoring parameters from ./models/boston_size3/boston_size3.ckpt_ds100_tuned\n"
     ]
    },
    {
     "name": "stderr",
     "output_type": "stream",
     "text": [
      "\n",
      "\n",
      "\u001b[A\u001b[A\n",
      "\n",
      "\u001b[A\u001b[A\n",
      "\n",
      "\u001b[A\u001b[A"
     ]
    },
    {
     "name": "stdout",
     "output_type": "stream",
     "text": [
      "INFO:tensorflow:Restoring parameters from ./models/boston_size3/boston_size3.ckpt_ds100\n",
      "INFO:tensorflow:Restoring parameters from ./models/boston_size3/boston_size3.ckpt_ds100_tuned\n"
     ]
    },
    {
     "name": "stderr",
     "output_type": "stream",
     "text": [
      "\n",
      "\n",
      "\u001b[A\u001b[A\n",
      "\n",
      "\u001b[A\u001b[A\n",
      "\u001b[A\n",
      "\u001b[A"
     ]
    },
    {
     "name": "stdout",
     "output_type": "stream",
     "text": [
      "LR= 0.001\n",
      "INFO:tensorflow:Restoring parameters from ./models/boston_size3/boston_size3.ckpt_ds100\n"
     ]
    },
    {
     "name": "stderr",
     "output_type": "stream",
     "text": [
      "\n",
      "\u001b[A\n",
      "\u001b[A\n",
      "\u001b[A\n",
      "\n",
      "\u001b[A\u001b[A\n",
      "\n",
      "\u001b[A\u001b[A\n",
      "\n",
      "\u001b[A\u001b[A"
     ]
    },
    {
     "name": "stdout",
     "output_type": "stream",
     "text": [
      "INFO:tensorflow:Restoring parameters from ./models/boston_size3/boston_size3.ckpt\n"
     ]
    },
    {
     "name": "stderr",
     "output_type": "stream",
     "text": [
      "\n",
      "\n",
      "\u001b[A\u001b[A\n",
      "\n",
      "\u001b[A\u001b[A\n",
      "\n",
      "\u001b[A\u001b[A"
     ]
    },
    {
     "name": "stdout",
     "output_type": "stream",
     "text": [
      "INFO:tensorflow:Restoring parameters from ./models/boston_size3/boston_size3.ckpt\n"
     ]
    },
    {
     "name": "stderr",
     "output_type": "stream",
     "text": [
      "\n",
      "\n",
      "\u001b[A\u001b[A\n",
      "\n",
      "\u001b[A\u001b[A\n",
      "\n",
      "\u001b[A\u001b[A"
     ]
    },
    {
     "name": "stdout",
     "output_type": "stream",
     "text": [
      "INFO:tensorflow:Restoring parameters from ./models/boston_size3/boston_size3.ckpt\n"
     ]
    },
    {
     "name": "stderr",
     "output_type": "stream",
     "text": [
      "\n",
      "\n",
      "\u001b[A\u001b[A\n",
      "\n",
      "\u001b[A\u001b[A\n",
      "\n",
      "\u001b[A\u001b[A"
     ]
    },
    {
     "name": "stdout",
     "output_type": "stream",
     "text": [
      "INFO:tensorflow:Restoring parameters from ./models/boston_size3/boston_size3.ckpt\n"
     ]
    },
    {
     "name": "stderr",
     "output_type": "stream",
     "text": [
      "\n",
      "\n",
      "\u001b[A\u001b[A\n",
      "\n",
      "\u001b[A\u001b[A\n",
      "\n",
      "\u001b[A\u001b[A"
     ]
    },
    {
     "name": "stdout",
     "output_type": "stream",
     "text": [
      "INFO:tensorflow:Restoring parameters from ./models/boston_size3/boston_size3.ckpt\n"
     ]
    },
    {
     "name": "stderr",
     "output_type": "stream",
     "text": [
      "\n",
      "\n",
      "\u001b[A\u001b[A\n",
      "\n",
      "\u001b[A\u001b[A\n",
      "\u001b[A\n",
      "\u001b[A\n",
      "\u001b[A\n",
      "\n",
      "\u001b[A\u001b[A\n",
      "\n",
      "\u001b[A\u001b[A\n",
      "\n",
      "\u001b[A\u001b[A"
     ]
    },
    {
     "name": "stdout",
     "output_type": "stream",
     "text": [
      "INFO:tensorflow:Restoring parameters from ./models/boston_size3/boston_size3.ckpt_ds100\n",
      "INFO:tensorflow:Restoring parameters from ./models/boston_size3/boston_size3.ckpt_ds100_tuned\n"
     ]
    },
    {
     "name": "stderr",
     "output_type": "stream",
     "text": [
      "\n",
      "\n",
      "\u001b[A\u001b[A\n",
      "\n",
      "\u001b[A\u001b[A\n",
      "\n",
      "\u001b[A\u001b[A"
     ]
    },
    {
     "name": "stdout",
     "output_type": "stream",
     "text": [
      "INFO:tensorflow:Restoring parameters from ./models/boston_size3/boston_size3.ckpt_ds100\n",
      "INFO:tensorflow:Restoring parameters from ./models/boston_size3/boston_size3.ckpt_ds100_tuned\n"
     ]
    },
    {
     "name": "stderr",
     "output_type": "stream",
     "text": [
      "\n",
      "\n",
      "\u001b[A\u001b[A\n",
      "\n",
      "\u001b[A\u001b[A\n",
      "\n",
      "\u001b[A\u001b[A"
     ]
    },
    {
     "name": "stdout",
     "output_type": "stream",
     "text": [
      "INFO:tensorflow:Restoring parameters from ./models/boston_size3/boston_size3.ckpt_ds100\n",
      "INFO:tensorflow:Restoring parameters from ./models/boston_size3/boston_size3.ckpt_ds100_tuned\n"
     ]
    },
    {
     "name": "stderr",
     "output_type": "stream",
     "text": [
      "\n",
      "\n",
      "\u001b[A\u001b[A\n",
      "\n",
      "\u001b[A\u001b[A\n",
      "\n",
      "\u001b[A\u001b[A"
     ]
    },
    {
     "name": "stdout",
     "output_type": "stream",
     "text": [
      "INFO:tensorflow:Restoring parameters from ./models/boston_size3/boston_size3.ckpt_ds100\n",
      "INFO:tensorflow:Restoring parameters from ./models/boston_size3/boston_size3.ckpt_ds100_tuned\n"
     ]
    },
    {
     "name": "stderr",
     "output_type": "stream",
     "text": [
      "\n",
      "\n",
      "\u001b[A\u001b[A\n",
      "\n",
      "\u001b[A\u001b[A\n",
      "\n",
      "\u001b[A\u001b[A"
     ]
    },
    {
     "name": "stdout",
     "output_type": "stream",
     "text": [
      "INFO:tensorflow:Restoring parameters from ./models/boston_size3/boston_size3.ckpt_ds100\n",
      "INFO:tensorflow:Restoring parameters from ./models/boston_size3/boston_size3.ckpt_ds100_tuned\n"
     ]
    },
    {
     "name": "stderr",
     "output_type": "stream",
     "text": [
      "\n",
      "\n",
      "\u001b[A\u001b[A\n",
      "\n",
      "\u001b[A\u001b[A\n",
      "\u001b[A\n",
      "\u001b[A"
     ]
    },
    {
     "name": "stdout",
     "output_type": "stream",
     "text": [
      "LR= 0.001\n",
      "INFO:tensorflow:Restoring parameters from ./models/boston_size3/boston_size3.ckpt_ds100\n"
     ]
    },
    {
     "name": "stderr",
     "output_type": "stream",
     "text": [
      "\n",
      "\u001b[A\n",
      "\u001b[A\n",
      "\u001b[A\n",
      "\n",
      "\u001b[A\u001b[A\n",
      "\n",
      "\u001b[A\u001b[A\n",
      "\n",
      "\u001b[A\u001b[A"
     ]
    },
    {
     "name": "stdout",
     "output_type": "stream",
     "text": [
      "INFO:tensorflow:Restoring parameters from ./models/boston_size3/boston_size3.ckpt\n"
     ]
    },
    {
     "name": "stderr",
     "output_type": "stream",
     "text": [
      "\n",
      "\n",
      "\u001b[A\u001b[A\n",
      "\n",
      "\u001b[A\u001b[A\n",
      "\n",
      "\u001b[A\u001b[A"
     ]
    },
    {
     "name": "stdout",
     "output_type": "stream",
     "text": [
      "INFO:tensorflow:Restoring parameters from ./models/boston_size3/boston_size3.ckpt\n"
     ]
    },
    {
     "name": "stderr",
     "output_type": "stream",
     "text": [
      "\n",
      "\n",
      "\u001b[A\u001b[A\n",
      "\n",
      "\u001b[A\u001b[A\n",
      "\n",
      "\u001b[A\u001b[A"
     ]
    },
    {
     "name": "stdout",
     "output_type": "stream",
     "text": [
      "INFO:tensorflow:Restoring parameters from ./models/boston_size3/boston_size3.ckpt\n"
     ]
    },
    {
     "name": "stderr",
     "output_type": "stream",
     "text": [
      "\n",
      "\n",
      "\u001b[A\u001b[A\n",
      "\n",
      "\u001b[A\u001b[A\n",
      "\n",
      "\u001b[A\u001b[A"
     ]
    },
    {
     "name": "stdout",
     "output_type": "stream",
     "text": [
      "INFO:tensorflow:Restoring parameters from ./models/boston_size3/boston_size3.ckpt\n"
     ]
    },
    {
     "name": "stderr",
     "output_type": "stream",
     "text": [
      "\n",
      "\n",
      "\u001b[A\u001b[A\n",
      "\n",
      "\u001b[A\u001b[A\n",
      "\n",
      "\u001b[A\u001b[A"
     ]
    },
    {
     "name": "stdout",
     "output_type": "stream",
     "text": [
      "INFO:tensorflow:Restoring parameters from ./models/boston_size3/boston_size3.ckpt\n"
     ]
    },
    {
     "name": "stderr",
     "output_type": "stream",
     "text": [
      "\n",
      "\n",
      "\u001b[A\u001b[A\n",
      "\n",
      "\u001b[A\u001b[A\n",
      "\u001b[A\n",
      "\u001b[A\n",
      "\u001b[A\n",
      "\n",
      "\u001b[A\u001b[A\n",
      "\n",
      "\u001b[A\u001b[A\n",
      "\n",
      "\u001b[A\u001b[A"
     ]
    },
    {
     "name": "stdout",
     "output_type": "stream",
     "text": [
      "INFO:tensorflow:Restoring parameters from ./models/boston_size3/boston_size3.ckpt_ds100\n",
      "INFO:tensorflow:Restoring parameters from ./models/boston_size3/boston_size3.ckpt_ds100_tuned\n"
     ]
    },
    {
     "name": "stderr",
     "output_type": "stream",
     "text": [
      "\n",
      "\n",
      "\u001b[A\u001b[A\n",
      "\n",
      "\u001b[A\u001b[A\n",
      "\n",
      "\u001b[A\u001b[A"
     ]
    },
    {
     "name": "stdout",
     "output_type": "stream",
     "text": [
      "INFO:tensorflow:Restoring parameters from ./models/boston_size3/boston_size3.ckpt_ds100\n",
      "INFO:tensorflow:Restoring parameters from ./models/boston_size3/boston_size3.ckpt_ds100_tuned\n"
     ]
    },
    {
     "name": "stderr",
     "output_type": "stream",
     "text": [
      "\n",
      "\n",
      "\u001b[A\u001b[A\n",
      "\n",
      "\u001b[A\u001b[A\n",
      "\n",
      "\u001b[A\u001b[A"
     ]
    },
    {
     "name": "stdout",
     "output_type": "stream",
     "text": [
      "INFO:tensorflow:Restoring parameters from ./models/boston_size3/boston_size3.ckpt_ds100\n",
      "INFO:tensorflow:Restoring parameters from ./models/boston_size3/boston_size3.ckpt_ds100_tuned\n"
     ]
    },
    {
     "name": "stderr",
     "output_type": "stream",
     "text": [
      "\n",
      "\n",
      "\u001b[A\u001b[A\n",
      "\n",
      "\u001b[A\u001b[A\n",
      "\n",
      "\u001b[A\u001b[A"
     ]
    },
    {
     "name": "stdout",
     "output_type": "stream",
     "text": [
      "INFO:tensorflow:Restoring parameters from ./models/boston_size3/boston_size3.ckpt_ds100\n",
      "INFO:tensorflow:Restoring parameters from ./models/boston_size3/boston_size3.ckpt_ds100_tuned\n"
     ]
    },
    {
     "name": "stderr",
     "output_type": "stream",
     "text": [
      "\n",
      "\n",
      "\u001b[A\u001b[A\n",
      "\n",
      "\u001b[A\u001b[A\n",
      "\n",
      "\u001b[A\u001b[A"
     ]
    },
    {
     "name": "stdout",
     "output_type": "stream",
     "text": [
      "INFO:tensorflow:Restoring parameters from ./models/boston_size3/boston_size3.ckpt_ds100\n",
      "INFO:tensorflow:Restoring parameters from ./models/boston_size3/boston_size3.ckpt_ds100_tuned\n"
     ]
    },
    {
     "name": "stderr",
     "output_type": "stream",
     "text": [
      "\n",
      "\n",
      "\u001b[A\u001b[A\n",
      "\n",
      "\u001b[A\u001b[A\n",
      "\u001b[A\n",
      "\u001b[A"
     ]
    },
    {
     "name": "stdout",
     "output_type": "stream",
     "text": [
      "LR= 0.001\n",
      "INFO:tensorflow:Restoring parameters from ./models/boston_size3/boston_size3.ckpt_ds100\n"
     ]
    },
    {
     "name": "stderr",
     "output_type": "stream",
     "text": [
      "\n",
      "\u001b[A\n",
      "\u001b[A\n",
      "\u001b[A\n",
      "\n",
      "\u001b[A\u001b[A\n",
      "\n",
      "\u001b[A\u001b[A\n",
      "\n",
      "\u001b[A\u001b[A"
     ]
    },
    {
     "name": "stdout",
     "output_type": "stream",
     "text": [
      "INFO:tensorflow:Restoring parameters from ./models/boston_size3/boston_size3.ckpt\n"
     ]
    },
    {
     "name": "stderr",
     "output_type": "stream",
     "text": [
      "\n",
      "\n",
      "\u001b[A\u001b[A\n",
      "\n",
      "\u001b[A\u001b[A\n",
      "\n",
      "\u001b[A\u001b[A"
     ]
    },
    {
     "name": "stdout",
     "output_type": "stream",
     "text": [
      "INFO:tensorflow:Restoring parameters from ./models/boston_size3/boston_size3.ckpt\n"
     ]
    },
    {
     "name": "stderr",
     "output_type": "stream",
     "text": [
      "\n",
      "\n",
      "\u001b[A\u001b[A\n",
      "\n",
      "\u001b[A\u001b[A\n",
      "\n",
      "\u001b[A\u001b[A"
     ]
    },
    {
     "name": "stdout",
     "output_type": "stream",
     "text": [
      "INFO:tensorflow:Restoring parameters from ./models/boston_size3/boston_size3.ckpt\n"
     ]
    },
    {
     "name": "stderr",
     "output_type": "stream",
     "text": [
      "\n",
      "\n",
      "\u001b[A\u001b[A\n",
      "\n",
      "\u001b[A\u001b[A\n",
      "\n",
      "\u001b[A\u001b[A"
     ]
    },
    {
     "name": "stdout",
     "output_type": "stream",
     "text": [
      "INFO:tensorflow:Restoring parameters from ./models/boston_size3/boston_size3.ckpt\n"
     ]
    },
    {
     "name": "stderr",
     "output_type": "stream",
     "text": [
      "\n",
      "\n",
      "\u001b[A\u001b[A\n",
      "\n",
      "\u001b[A\u001b[A\n",
      "\n",
      "\u001b[A\u001b[A"
     ]
    },
    {
     "name": "stdout",
     "output_type": "stream",
     "text": [
      "INFO:tensorflow:Restoring parameters from ./models/boston_size3/boston_size3.ckpt\n"
     ]
    },
    {
     "name": "stderr",
     "output_type": "stream",
     "text": [
      "\n",
      "\n",
      "\u001b[A\u001b[A\n",
      "\n",
      "\u001b[A\u001b[A\n",
      "\u001b[A\n",
      "\u001b[A\n",
      "\u001b[A\n",
      "\n",
      "\u001b[A\u001b[A\n",
      "\n",
      "\u001b[A\u001b[A\n",
      "\n",
      "\u001b[A\u001b[A"
     ]
    },
    {
     "name": "stdout",
     "output_type": "stream",
     "text": [
      "INFO:tensorflow:Restoring parameters from ./models/boston_size3/boston_size3.ckpt_ds100\n",
      "INFO:tensorflow:Restoring parameters from ./models/boston_size3/boston_size3.ckpt_ds100_tuned\n"
     ]
    },
    {
     "name": "stderr",
     "output_type": "stream",
     "text": [
      "\n",
      "\n",
      "\u001b[A\u001b[A\n",
      "\n",
      "\u001b[A\u001b[A\n",
      "\n",
      "\u001b[A\u001b[A"
     ]
    },
    {
     "name": "stdout",
     "output_type": "stream",
     "text": [
      "INFO:tensorflow:Restoring parameters from ./models/boston_size3/boston_size3.ckpt_ds100\n",
      "INFO:tensorflow:Restoring parameters from ./models/boston_size3/boston_size3.ckpt_ds100_tuned\n"
     ]
    },
    {
     "name": "stderr",
     "output_type": "stream",
     "text": [
      "\n",
      "\n",
      "\u001b[A\u001b[A\n",
      "\n",
      "\u001b[A\u001b[A\n",
      "\n",
      "\u001b[A\u001b[A"
     ]
    },
    {
     "name": "stdout",
     "output_type": "stream",
     "text": [
      "INFO:tensorflow:Restoring parameters from ./models/boston_size3/boston_size3.ckpt_ds100\n",
      "INFO:tensorflow:Restoring parameters from ./models/boston_size3/boston_size3.ckpt_ds100_tuned\n"
     ]
    },
    {
     "name": "stderr",
     "output_type": "stream",
     "text": [
      "\n",
      "\n",
      "\u001b[A\u001b[A\n",
      "\n",
      "\u001b[A\u001b[A\n",
      "\n",
      "\u001b[A\u001b[A"
     ]
    },
    {
     "name": "stdout",
     "output_type": "stream",
     "text": [
      "INFO:tensorflow:Restoring parameters from ./models/boston_size3/boston_size3.ckpt_ds100\n",
      "INFO:tensorflow:Restoring parameters from ./models/boston_size3/boston_size3.ckpt_ds100_tuned\n"
     ]
    },
    {
     "name": "stderr",
     "output_type": "stream",
     "text": [
      "\n",
      "\n",
      "\u001b[A\u001b[A\n",
      "\n",
      "\u001b[A\u001b[A\n",
      "\n",
      "\u001b[A\u001b[A"
     ]
    },
    {
     "name": "stdout",
     "output_type": "stream",
     "text": [
      "INFO:tensorflow:Restoring parameters from ./models/boston_size3/boston_size3.ckpt_ds100\n",
      "INFO:tensorflow:Restoring parameters from ./models/boston_size3/boston_size3.ckpt_ds100_tuned\n"
     ]
    },
    {
     "name": "stderr",
     "output_type": "stream",
     "text": [
      "\n",
      "\n",
      "\u001b[A\u001b[A\n",
      "\n",
      "\u001b[A\u001b[A\n",
      "\u001b[A\n",
      "\u001b[A"
     ]
    },
    {
     "name": "stdout",
     "output_type": "stream",
     "text": [
      "LR= 0.001\n",
      "INFO:tensorflow:Restoring parameters from ./models/boston_size3/boston_size3.ckpt_ds100\n"
     ]
    },
    {
     "name": "stderr",
     "output_type": "stream",
     "text": [
      "\n",
      "\u001b[A\n",
      "\u001b[A\n",
      "\u001b[A\n",
      "\n",
      "\u001b[A\u001b[A\n",
      "\n",
      "\u001b[A\u001b[A\n",
      "\n",
      "\u001b[A\u001b[A"
     ]
    },
    {
     "name": "stdout",
     "output_type": "stream",
     "text": [
      "INFO:tensorflow:Restoring parameters from ./models/boston_size3/boston_size3.ckpt\n"
     ]
    },
    {
     "name": "stderr",
     "output_type": "stream",
     "text": [
      "\n",
      "\n",
      "\u001b[A\u001b[A\n",
      "\n",
      "\u001b[A\u001b[A\n",
      "\n",
      "\u001b[A\u001b[A"
     ]
    },
    {
     "name": "stdout",
     "output_type": "stream",
     "text": [
      "INFO:tensorflow:Restoring parameters from ./models/boston_size3/boston_size3.ckpt\n"
     ]
    },
    {
     "name": "stderr",
     "output_type": "stream",
     "text": [
      "\n",
      "\n",
      "\u001b[A\u001b[A\n",
      "\n",
      "\u001b[A\u001b[A\n",
      "\n",
      "\u001b[A\u001b[A"
     ]
    },
    {
     "name": "stdout",
     "output_type": "stream",
     "text": [
      "INFO:tensorflow:Restoring parameters from ./models/boston_size3/boston_size3.ckpt\n"
     ]
    },
    {
     "name": "stderr",
     "output_type": "stream",
     "text": [
      "\n",
      "\n",
      "\u001b[A\u001b[A\n",
      "\n",
      "\u001b[A\u001b[A\n",
      "\n",
      "\u001b[A\u001b[A"
     ]
    },
    {
     "name": "stdout",
     "output_type": "stream",
     "text": [
      "INFO:tensorflow:Restoring parameters from ./models/boston_size3/boston_size3.ckpt\n"
     ]
    },
    {
     "name": "stderr",
     "output_type": "stream",
     "text": [
      "\n",
      "\n",
      "\u001b[A\u001b[A\n",
      "\n",
      "\u001b[A\u001b[A\n",
      "\n",
      "\u001b[A\u001b[A"
     ]
    },
    {
     "name": "stdout",
     "output_type": "stream",
     "text": [
      "INFO:tensorflow:Restoring parameters from ./models/boston_size3/boston_size3.ckpt\n"
     ]
    },
    {
     "name": "stderr",
     "output_type": "stream",
     "text": [
      "\n",
      "\n",
      "\u001b[A\u001b[A\n",
      "\n",
      "\u001b[A\u001b[A\n",
      "\u001b[A\n",
      "\u001b[A\n",
      "\u001b[A\n",
      "\n",
      "\u001b[A\u001b[A\n",
      "\n",
      "\u001b[A\u001b[A\n",
      "\n",
      "\u001b[A\u001b[A"
     ]
    },
    {
     "name": "stdout",
     "output_type": "stream",
     "text": [
      "INFO:tensorflow:Restoring parameters from ./models/boston_size3/boston_size3.ckpt_ds100\n",
      "INFO:tensorflow:Restoring parameters from ./models/boston_size3/boston_size3.ckpt_ds100_tuned\n"
     ]
    },
    {
     "name": "stderr",
     "output_type": "stream",
     "text": [
      "\n",
      "\n",
      "\u001b[A\u001b[A\n",
      "\n",
      "\u001b[A\u001b[A\n",
      "\n",
      "\u001b[A\u001b[A"
     ]
    },
    {
     "name": "stdout",
     "output_type": "stream",
     "text": [
      "INFO:tensorflow:Restoring parameters from ./models/boston_size3/boston_size3.ckpt_ds100\n",
      "INFO:tensorflow:Restoring parameters from ./models/boston_size3/boston_size3.ckpt_ds100_tuned\n"
     ]
    },
    {
     "name": "stderr",
     "output_type": "stream",
     "text": [
      "\n",
      "\n",
      "\u001b[A\u001b[A\n",
      "\n",
      "\u001b[A\u001b[A\n",
      "\n",
      "\u001b[A\u001b[A"
     ]
    },
    {
     "name": "stdout",
     "output_type": "stream",
     "text": [
      "INFO:tensorflow:Restoring parameters from ./models/boston_size3/boston_size3.ckpt_ds100\n",
      "INFO:tensorflow:Restoring parameters from ./models/boston_size3/boston_size3.ckpt_ds100_tuned\n"
     ]
    },
    {
     "name": "stderr",
     "output_type": "stream",
     "text": [
      "\n",
      "\n",
      "\u001b[A\u001b[A\n",
      "\n",
      "\u001b[A\u001b[A\n",
      "\n",
      "\u001b[A\u001b[A"
     ]
    },
    {
     "name": "stdout",
     "output_type": "stream",
     "text": [
      "INFO:tensorflow:Restoring parameters from ./models/boston_size3/boston_size3.ckpt_ds100\n",
      "INFO:tensorflow:Restoring parameters from ./models/boston_size3/boston_size3.ckpt_ds100_tuned\n"
     ]
    },
    {
     "name": "stderr",
     "output_type": "stream",
     "text": [
      "\n",
      "\n",
      "\u001b[A\u001b[A\n",
      "\n",
      "\u001b[A\u001b[A\n",
      "\n",
      "\u001b[A\u001b[A"
     ]
    },
    {
     "name": "stdout",
     "output_type": "stream",
     "text": [
      "INFO:tensorflow:Restoring parameters from ./models/boston_size3/boston_size3.ckpt_ds100\n",
      "INFO:tensorflow:Restoring parameters from ./models/boston_size3/boston_size3.ckpt_ds100_tuned\n"
     ]
    },
    {
     "name": "stderr",
     "output_type": "stream",
     "text": [
      "\n",
      "\n",
      "\u001b[A\u001b[A\n",
      "\n",
      "\u001b[A\u001b[A\n",
      "\u001b[A\n",
      "Dset 506:  50%|█████     | 1/2 [17:23<17:23, 1043.22s/it]"
     ]
    },
    {
     "name": "stdout",
     "output_type": "stream",
     "text": [
      "LR= 0.001\n",
      "INFO:tensorflow:Restoring parameters from ./models/boston_size3/boston_size3.ckpt_ds506\n"
     ]
    },
    {
     "name": "stderr",
     "output_type": "stream",
     "text": [
      "\n",
      "\u001b[A\n",
      "\u001b[A\n",
      "\u001b[A\n",
      "\n",
      "\u001b[A\u001b[A\n",
      "\n",
      "\u001b[A\u001b[A\n",
      "\n",
      "\u001b[A\u001b[A"
     ]
    },
    {
     "name": "stdout",
     "output_type": "stream",
     "text": [
      "INFO:tensorflow:Restoring parameters from ./models/boston_size3/boston_size3.ckpt\n"
     ]
    },
    {
     "name": "stderr",
     "output_type": "stream",
     "text": [
      "\n",
      "\n",
      "\u001b[A\u001b[A\n",
      "\n",
      "\u001b[A\u001b[A\n",
      "\n",
      "\u001b[A\u001b[A"
     ]
    },
    {
     "name": "stdout",
     "output_type": "stream",
     "text": [
      "INFO:tensorflow:Restoring parameters from ./models/boston_size3/boston_size3.ckpt\n"
     ]
    },
    {
     "name": "stderr",
     "output_type": "stream",
     "text": [
      "\n",
      "\n",
      "\u001b[A\u001b[A\n",
      "\n",
      "\u001b[A\u001b[A\n",
      "\n",
      "\u001b[A\u001b[A"
     ]
    },
    {
     "name": "stdout",
     "output_type": "stream",
     "text": [
      "INFO:tensorflow:Restoring parameters from ./models/boston_size3/boston_size3.ckpt\n"
     ]
    },
    {
     "name": "stderr",
     "output_type": "stream",
     "text": [
      "\n",
      "\n",
      "\u001b[A\u001b[A\n",
      "\n",
      "\u001b[A\u001b[A\n",
      "\n",
      "\u001b[A\u001b[A"
     ]
    },
    {
     "name": "stdout",
     "output_type": "stream",
     "text": [
      "INFO:tensorflow:Restoring parameters from ./models/boston_size3/boston_size3.ckpt\n"
     ]
    },
    {
     "name": "stderr",
     "output_type": "stream",
     "text": [
      "\n",
      "\n",
      "\u001b[A\u001b[A\n",
      "\n",
      "\u001b[A\u001b[A\n",
      "\n",
      "\u001b[A\u001b[A"
     ]
    },
    {
     "name": "stdout",
     "output_type": "stream",
     "text": [
      "INFO:tensorflow:Restoring parameters from ./models/boston_size3/boston_size3.ckpt\n"
     ]
    },
    {
     "name": "stderr",
     "output_type": "stream",
     "text": [
      "\n",
      "\n",
      "\u001b[A\u001b[A\n",
      "\n",
      "\u001b[A\u001b[A\n",
      "\u001b[A\n",
      "\u001b[A\n",
      "\u001b[A\n",
      "\n",
      "\u001b[A\u001b[A\n",
      "\n",
      "\u001b[A\u001b[A\n",
      "\n",
      "\u001b[A\u001b[A"
     ]
    },
    {
     "name": "stdout",
     "output_type": "stream",
     "text": [
      "INFO:tensorflow:Restoring parameters from ./models/boston_size3/boston_size3.ckpt_ds506\n",
      "INFO:tensorflow:Restoring parameters from ./models/boston_size3/boston_size3.ckpt_ds506_tuned\n"
     ]
    },
    {
     "name": "stderr",
     "output_type": "stream",
     "text": [
      "\n",
      "\n",
      "\u001b[A\u001b[A\n",
      "\n",
      "\u001b[A\u001b[A\n",
      "\n",
      "\u001b[A\u001b[A"
     ]
    },
    {
     "name": "stdout",
     "output_type": "stream",
     "text": [
      "INFO:tensorflow:Restoring parameters from ./models/boston_size3/boston_size3.ckpt_ds506\n",
      "INFO:tensorflow:Restoring parameters from ./models/boston_size3/boston_size3.ckpt_ds506_tuned\n"
     ]
    },
    {
     "name": "stderr",
     "output_type": "stream",
     "text": [
      "\n",
      "\n",
      "\u001b[A\u001b[A\n",
      "\n",
      "\u001b[A\u001b[A\n",
      "\n",
      "\u001b[A\u001b[A"
     ]
    },
    {
     "name": "stdout",
     "output_type": "stream",
     "text": [
      "INFO:tensorflow:Restoring parameters from ./models/boston_size3/boston_size3.ckpt_ds506\n",
      "INFO:tensorflow:Restoring parameters from ./models/boston_size3/boston_size3.ckpt_ds506_tuned\n"
     ]
    },
    {
     "name": "stderr",
     "output_type": "stream",
     "text": [
      "\n",
      "\n",
      "\u001b[A\u001b[A\n",
      "\n",
      "\u001b[A\u001b[A\n",
      "\n",
      "\u001b[A\u001b[A"
     ]
    },
    {
     "name": "stdout",
     "output_type": "stream",
     "text": [
      "INFO:tensorflow:Restoring parameters from ./models/boston_size3/boston_size3.ckpt_ds506\n",
      "INFO:tensorflow:Restoring parameters from ./models/boston_size3/boston_size3.ckpt_ds506_tuned\n"
     ]
    },
    {
     "name": "stderr",
     "output_type": "stream",
     "text": [
      "\n",
      "\n",
      "\u001b[A\u001b[A\n",
      "\n",
      "\u001b[A\u001b[A\n",
      "\n",
      "\u001b[A\u001b[A"
     ]
    },
    {
     "name": "stdout",
     "output_type": "stream",
     "text": [
      "INFO:tensorflow:Restoring parameters from ./models/boston_size3/boston_size3.ckpt_ds506\n",
      "INFO:tensorflow:Restoring parameters from ./models/boston_size3/boston_size3.ckpt_ds506_tuned\n"
     ]
    },
    {
     "name": "stderr",
     "output_type": "stream",
     "text": [
      "\n",
      "\n",
      "\u001b[A\u001b[A\n",
      "\n",
      "\u001b[A\u001b[A\n",
      "\u001b[A\n",
      "\u001b[A"
     ]
    },
    {
     "name": "stdout",
     "output_type": "stream",
     "text": [
      "LR= 0.001\n",
      "INFO:tensorflow:Restoring parameters from ./models/boston_size3/boston_size3.ckpt_ds506\n"
     ]
    },
    {
     "name": "stderr",
     "output_type": "stream",
     "text": [
      "\n",
      "\u001b[A\n",
      "\u001b[A\n",
      "\u001b[A\n",
      "\n",
      "\u001b[A\u001b[A\n",
      "\n",
      "\u001b[A\u001b[A\n",
      "\n",
      "\u001b[A\u001b[A"
     ]
    },
    {
     "name": "stdout",
     "output_type": "stream",
     "text": [
      "INFO:tensorflow:Restoring parameters from ./models/boston_size3/boston_size3.ckpt\n"
     ]
    },
    {
     "name": "stderr",
     "output_type": "stream",
     "text": [
      "\n",
      "\n",
      "\u001b[A\u001b[A\n",
      "\n",
      "\u001b[A\u001b[A\n",
      "\n",
      "\u001b[A\u001b[A"
     ]
    },
    {
     "name": "stdout",
     "output_type": "stream",
     "text": [
      "INFO:tensorflow:Restoring parameters from ./models/boston_size3/boston_size3.ckpt\n"
     ]
    },
    {
     "name": "stderr",
     "output_type": "stream",
     "text": [
      "\n",
      "\n",
      "\u001b[A\u001b[A\n",
      "\n",
      "\u001b[A\u001b[A\n",
      "\n",
      "\u001b[A\u001b[A"
     ]
    },
    {
     "name": "stdout",
     "output_type": "stream",
     "text": [
      "INFO:tensorflow:Restoring parameters from ./models/boston_size3/boston_size3.ckpt\n"
     ]
    },
    {
     "name": "stderr",
     "output_type": "stream",
     "text": [
      "\n",
      "\n",
      "\u001b[A\u001b[A\n",
      "\n",
      "\u001b[A\u001b[A\n",
      "\n",
      "\u001b[A\u001b[A"
     ]
    },
    {
     "name": "stdout",
     "output_type": "stream",
     "text": [
      "INFO:tensorflow:Restoring parameters from ./models/boston_size3/boston_size3.ckpt\n"
     ]
    },
    {
     "name": "stderr",
     "output_type": "stream",
     "text": [
      "\n",
      "\n",
      "\u001b[A\u001b[A\n",
      "\n",
      "\u001b[A\u001b[A\n",
      "\n",
      "\u001b[A\u001b[A"
     ]
    },
    {
     "name": "stdout",
     "output_type": "stream",
     "text": [
      "INFO:tensorflow:Restoring parameters from ./models/boston_size3/boston_size3.ckpt\n"
     ]
    },
    {
     "name": "stderr",
     "output_type": "stream",
     "text": [
      "\n",
      "\n",
      "\u001b[A\u001b[A\n",
      "\n",
      "\u001b[A\u001b[A\n",
      "\u001b[A\n",
      "\u001b[A\n",
      "\u001b[A\n",
      "\n",
      "\u001b[A\u001b[A\n",
      "\n",
      "\u001b[A\u001b[A\n",
      "\n",
      "\u001b[A\u001b[A"
     ]
    },
    {
     "name": "stdout",
     "output_type": "stream",
     "text": [
      "INFO:tensorflow:Restoring parameters from ./models/boston_size3/boston_size3.ckpt_ds506\n",
      "INFO:tensorflow:Restoring parameters from ./models/boston_size3/boston_size3.ckpt_ds506_tuned\n"
     ]
    },
    {
     "name": "stderr",
     "output_type": "stream",
     "text": [
      "\n",
      "\n",
      "\u001b[A\u001b[A\n",
      "\n",
      "\u001b[A\u001b[A\n",
      "\n",
      "\u001b[A\u001b[A"
     ]
    },
    {
     "name": "stdout",
     "output_type": "stream",
     "text": [
      "INFO:tensorflow:Restoring parameters from ./models/boston_size3/boston_size3.ckpt_ds506\n",
      "INFO:tensorflow:Restoring parameters from ./models/boston_size3/boston_size3.ckpt_ds506_tuned\n"
     ]
    },
    {
     "name": "stderr",
     "output_type": "stream",
     "text": [
      "\n",
      "\n",
      "\u001b[A\u001b[A\n",
      "\n",
      "\u001b[A\u001b[A\n",
      "\n",
      "\u001b[A\u001b[A"
     ]
    },
    {
     "name": "stdout",
     "output_type": "stream",
     "text": [
      "INFO:tensorflow:Restoring parameters from ./models/boston_size3/boston_size3.ckpt_ds506\n",
      "INFO:tensorflow:Restoring parameters from ./models/boston_size3/boston_size3.ckpt_ds506_tuned\n"
     ]
    },
    {
     "name": "stderr",
     "output_type": "stream",
     "text": [
      "\n",
      "\n",
      "\u001b[A\u001b[A\n",
      "\n",
      "\u001b[A\u001b[A\n",
      "\n",
      "\u001b[A\u001b[A"
     ]
    },
    {
     "name": "stdout",
     "output_type": "stream",
     "text": [
      "INFO:tensorflow:Restoring parameters from ./models/boston_size3/boston_size3.ckpt_ds506\n",
      "INFO:tensorflow:Restoring parameters from ./models/boston_size3/boston_size3.ckpt_ds506_tuned\n"
     ]
    },
    {
     "name": "stderr",
     "output_type": "stream",
     "text": [
      "\n",
      "\n",
      "\u001b[A\u001b[A\n",
      "\n",
      "\u001b[A\u001b[A\n",
      "\n",
      "\u001b[A\u001b[A"
     ]
    },
    {
     "name": "stdout",
     "output_type": "stream",
     "text": [
      "INFO:tensorflow:Restoring parameters from ./models/boston_size3/boston_size3.ckpt_ds506\n",
      "INFO:tensorflow:Restoring parameters from ./models/boston_size3/boston_size3.ckpt_ds506_tuned\n"
     ]
    },
    {
     "name": "stderr",
     "output_type": "stream",
     "text": [
      "\n",
      "\n",
      "\u001b[A\u001b[A\n",
      "\n",
      "\u001b[A\u001b[A\n",
      "\u001b[A\n",
      "\u001b[A"
     ]
    },
    {
     "name": "stdout",
     "output_type": "stream",
     "text": [
      "LR= 0.001\n",
      "INFO:tensorflow:Restoring parameters from ./models/boston_size3/boston_size3.ckpt_ds506\n"
     ]
    },
    {
     "name": "stderr",
     "output_type": "stream",
     "text": [
      "\n",
      "\u001b[A\n",
      "\u001b[A\n",
      "\u001b[A\n",
      "\n",
      "\u001b[A\u001b[A\n",
      "\n",
      "\u001b[A\u001b[A\n",
      "\n",
      "\u001b[A\u001b[A"
     ]
    },
    {
     "name": "stdout",
     "output_type": "stream",
     "text": [
      "INFO:tensorflow:Restoring parameters from ./models/boston_size3/boston_size3.ckpt\n"
     ]
    },
    {
     "name": "stderr",
     "output_type": "stream",
     "text": [
      "\n",
      "\n",
      "\u001b[A\u001b[A\n",
      "\n",
      "\u001b[A\u001b[A\n",
      "\n",
      "\u001b[A\u001b[A"
     ]
    },
    {
     "name": "stdout",
     "output_type": "stream",
     "text": [
      "INFO:tensorflow:Restoring parameters from ./models/boston_size3/boston_size3.ckpt\n"
     ]
    },
    {
     "name": "stderr",
     "output_type": "stream",
     "text": [
      "\n",
      "\n",
      "\u001b[A\u001b[A\n",
      "\n",
      "\u001b[A\u001b[A\n",
      "\n",
      "\u001b[A\u001b[A"
     ]
    },
    {
     "name": "stdout",
     "output_type": "stream",
     "text": [
      "INFO:tensorflow:Restoring parameters from ./models/boston_size3/boston_size3.ckpt\n"
     ]
    },
    {
     "name": "stderr",
     "output_type": "stream",
     "text": [
      "\n",
      "\n",
      "\u001b[A\u001b[A\n",
      "\n",
      "\u001b[A\u001b[A\n",
      "\n",
      "\u001b[A\u001b[A"
     ]
    },
    {
     "name": "stdout",
     "output_type": "stream",
     "text": [
      "INFO:tensorflow:Restoring parameters from ./models/boston_size3/boston_size3.ckpt\n"
     ]
    },
    {
     "name": "stderr",
     "output_type": "stream",
     "text": [
      "\n",
      "\n",
      "\u001b[A\u001b[A\n",
      "\n",
      "\u001b[A\u001b[A\n",
      "\n",
      "\u001b[A\u001b[A"
     ]
    },
    {
     "name": "stdout",
     "output_type": "stream",
     "text": [
      "INFO:tensorflow:Restoring parameters from ./models/boston_size3/boston_size3.ckpt\n"
     ]
    },
    {
     "name": "stderr",
     "output_type": "stream",
     "text": [
      "\n",
      "\n",
      "\u001b[A\u001b[A\n",
      "\n",
      "\u001b[A\u001b[A\n",
      "\u001b[A\n",
      "\u001b[A\n",
      "\u001b[A\n",
      "\n",
      "\u001b[A\u001b[A\n",
      "\n",
      "\u001b[A\u001b[A\n",
      "\n",
      "\u001b[A\u001b[A"
     ]
    },
    {
     "name": "stdout",
     "output_type": "stream",
     "text": [
      "INFO:tensorflow:Restoring parameters from ./models/boston_size3/boston_size3.ckpt_ds506\n",
      "INFO:tensorflow:Restoring parameters from ./models/boston_size3/boston_size3.ckpt_ds506_tuned\n"
     ]
    },
    {
     "name": "stderr",
     "output_type": "stream",
     "text": [
      "\n",
      "\n",
      "\u001b[A\u001b[A\n",
      "\n",
      "\u001b[A\u001b[A\n",
      "\n",
      "\u001b[A\u001b[A"
     ]
    },
    {
     "name": "stdout",
     "output_type": "stream",
     "text": [
      "INFO:tensorflow:Restoring parameters from ./models/boston_size3/boston_size3.ckpt_ds506\n",
      "INFO:tensorflow:Restoring parameters from ./models/boston_size3/boston_size3.ckpt_ds506_tuned\n"
     ]
    },
    {
     "name": "stderr",
     "output_type": "stream",
     "text": [
      "\n",
      "\n",
      "\u001b[A\u001b[A\n",
      "\n",
      "\u001b[A\u001b[A\n",
      "\n",
      "\u001b[A\u001b[A"
     ]
    },
    {
     "name": "stdout",
     "output_type": "stream",
     "text": [
      "INFO:tensorflow:Restoring parameters from ./models/boston_size3/boston_size3.ckpt_ds506\n",
      "INFO:tensorflow:Restoring parameters from ./models/boston_size3/boston_size3.ckpt_ds506_tuned\n"
     ]
    },
    {
     "name": "stderr",
     "output_type": "stream",
     "text": [
      "\n",
      "\n",
      "\u001b[A\u001b[A\n",
      "\n",
      "\u001b[A\u001b[A\n",
      "\n",
      "\u001b[A\u001b[A"
     ]
    },
    {
     "name": "stdout",
     "output_type": "stream",
     "text": [
      "INFO:tensorflow:Restoring parameters from ./models/boston_size3/boston_size3.ckpt_ds506\n",
      "INFO:tensorflow:Restoring parameters from ./models/boston_size3/boston_size3.ckpt_ds506_tuned\n"
     ]
    },
    {
     "name": "stderr",
     "output_type": "stream",
     "text": [
      "\n",
      "\n",
      "\u001b[A\u001b[A\n",
      "\n",
      "\u001b[A\u001b[A\n",
      "\n",
      "\u001b[A\u001b[A"
     ]
    },
    {
     "name": "stdout",
     "output_type": "stream",
     "text": [
      "INFO:tensorflow:Restoring parameters from ./models/boston_size3/boston_size3.ckpt_ds506\n",
      "INFO:tensorflow:Restoring parameters from ./models/boston_size3/boston_size3.ckpt_ds506_tuned\n"
     ]
    },
    {
     "name": "stderr",
     "output_type": "stream",
     "text": [
      "\n",
      "\n",
      "\u001b[A\u001b[A\n",
      "\n",
      "\u001b[A\u001b[A\n",
      "\u001b[A\n",
      "\u001b[A"
     ]
    },
    {
     "name": "stdout",
     "output_type": "stream",
     "text": [
      "LR= 0.001\n",
      "INFO:tensorflow:Restoring parameters from ./models/boston_size3/boston_size3.ckpt_ds506\n"
     ]
    },
    {
     "name": "stderr",
     "output_type": "stream",
     "text": [
      "\n",
      "\u001b[A\n",
      "\u001b[A\n",
      "\u001b[A\n",
      "\n",
      "\u001b[A\u001b[A\n",
      "\n",
      "\u001b[A\u001b[A\n",
      "\n",
      "\u001b[A\u001b[A"
     ]
    },
    {
     "name": "stdout",
     "output_type": "stream",
     "text": [
      "INFO:tensorflow:Restoring parameters from ./models/boston_size3/boston_size3.ckpt\n"
     ]
    },
    {
     "name": "stderr",
     "output_type": "stream",
     "text": [
      "\n",
      "\n",
      "\u001b[A\u001b[A\n",
      "\n",
      "\u001b[A\u001b[A\n",
      "\n",
      "\u001b[A\u001b[A"
     ]
    },
    {
     "name": "stdout",
     "output_type": "stream",
     "text": [
      "INFO:tensorflow:Restoring parameters from ./models/boston_size3/boston_size3.ckpt\n"
     ]
    },
    {
     "name": "stderr",
     "output_type": "stream",
     "text": [
      "\n",
      "\n",
      "\u001b[A\u001b[A\n",
      "\n",
      "\u001b[A\u001b[A\n",
      "\n",
      "\u001b[A\u001b[A"
     ]
    },
    {
     "name": "stdout",
     "output_type": "stream",
     "text": [
      "INFO:tensorflow:Restoring parameters from ./models/boston_size3/boston_size3.ckpt\n"
     ]
    },
    {
     "name": "stderr",
     "output_type": "stream",
     "text": [
      "\n",
      "\n",
      "\u001b[A\u001b[A\n",
      "\n",
      "\u001b[A\u001b[A\n",
      "\n",
      "\u001b[A\u001b[A"
     ]
    },
    {
     "name": "stdout",
     "output_type": "stream",
     "text": [
      "INFO:tensorflow:Restoring parameters from ./models/boston_size3/boston_size3.ckpt\n"
     ]
    },
    {
     "name": "stderr",
     "output_type": "stream",
     "text": [
      "\n",
      "\n",
      "\u001b[A\u001b[A\n",
      "\n",
      "\u001b[A\u001b[A\n",
      "\n",
      "\u001b[A\u001b[A"
     ]
    },
    {
     "name": "stdout",
     "output_type": "stream",
     "text": [
      "INFO:tensorflow:Restoring parameters from ./models/boston_size3/boston_size3.ckpt\n"
     ]
    },
    {
     "name": "stderr",
     "output_type": "stream",
     "text": [
      "\n",
      "\n",
      "\u001b[A\u001b[A\n",
      "\n",
      "\u001b[A\u001b[A\n",
      "\u001b[A\n",
      "\u001b[A\n",
      "\u001b[A\n",
      "\n",
      "\u001b[A\u001b[A\n",
      "\n",
      "\u001b[A\u001b[A\n",
      "\n",
      "\u001b[A\u001b[A"
     ]
    },
    {
     "name": "stdout",
     "output_type": "stream",
     "text": [
      "INFO:tensorflow:Restoring parameters from ./models/boston_size3/boston_size3.ckpt_ds506\n",
      "INFO:tensorflow:Restoring parameters from ./models/boston_size3/boston_size3.ckpt_ds506_tuned\n"
     ]
    },
    {
     "name": "stderr",
     "output_type": "stream",
     "text": [
      "\n",
      "\n",
      "\u001b[A\u001b[A\n",
      "\n",
      "\u001b[A\u001b[A\n",
      "\n",
      "\u001b[A\u001b[A"
     ]
    },
    {
     "name": "stdout",
     "output_type": "stream",
     "text": [
      "INFO:tensorflow:Restoring parameters from ./models/boston_size3/boston_size3.ckpt_ds506\n",
      "INFO:tensorflow:Restoring parameters from ./models/boston_size3/boston_size3.ckpt_ds506_tuned\n"
     ]
    },
    {
     "name": "stderr",
     "output_type": "stream",
     "text": [
      "\n",
      "\n",
      "\u001b[A\u001b[A\n",
      "\n",
      "\u001b[A\u001b[A\n",
      "\n",
      "\u001b[A\u001b[A"
     ]
    },
    {
     "name": "stdout",
     "output_type": "stream",
     "text": [
      "INFO:tensorflow:Restoring parameters from ./models/boston_size3/boston_size3.ckpt_ds506\n",
      "INFO:tensorflow:Restoring parameters from ./models/boston_size3/boston_size3.ckpt_ds506_tuned\n"
     ]
    },
    {
     "name": "stderr",
     "output_type": "stream",
     "text": [
      "\n",
      "\n",
      "\u001b[A\u001b[A\n",
      "\n",
      "\u001b[A\u001b[A\n",
      "\n",
      "\u001b[A\u001b[A"
     ]
    },
    {
     "name": "stdout",
     "output_type": "stream",
     "text": [
      "INFO:tensorflow:Restoring parameters from ./models/boston_size3/boston_size3.ckpt_ds506\n",
      "INFO:tensorflow:Restoring parameters from ./models/boston_size3/boston_size3.ckpt_ds506_tuned\n"
     ]
    },
    {
     "name": "stderr",
     "output_type": "stream",
     "text": [
      "\n",
      "\n",
      "\u001b[A\u001b[A\n",
      "\n",
      "\u001b[A\u001b[A\n",
      "\n",
      "\u001b[A\u001b[A"
     ]
    },
    {
     "name": "stdout",
     "output_type": "stream",
     "text": [
      "INFO:tensorflow:Restoring parameters from ./models/boston_size3/boston_size3.ckpt_ds506\n",
      "INFO:tensorflow:Restoring parameters from ./models/boston_size3/boston_size3.ckpt_ds506_tuned\n"
     ]
    },
    {
     "name": "stderr",
     "output_type": "stream",
     "text": [
      "\n",
      "\n",
      "\u001b[A\u001b[A\n",
      "\n",
      "\u001b[A\u001b[A\n",
      "\u001b[A\n",
      "\u001b[A"
     ]
    },
    {
     "name": "stdout",
     "output_type": "stream",
     "text": [
      "LR= 0.001\n",
      "INFO:tensorflow:Restoring parameters from ./models/boston_size3/boston_size3.ckpt_ds506\n"
     ]
    },
    {
     "name": "stderr",
     "output_type": "stream",
     "text": [
      "\n",
      "\u001b[A\n",
      "\u001b[A\n",
      "\u001b[A\n",
      "\n",
      "\u001b[A\u001b[A\n",
      "\n",
      "\u001b[A\u001b[A\n",
      "\n",
      "\u001b[A\u001b[A"
     ]
    },
    {
     "name": "stdout",
     "output_type": "stream",
     "text": [
      "INFO:tensorflow:Restoring parameters from ./models/boston_size3/boston_size3.ckpt\n"
     ]
    },
    {
     "name": "stderr",
     "output_type": "stream",
     "text": [
      "\n",
      "\n",
      "\u001b[A\u001b[A\n",
      "\n",
      "\u001b[A\u001b[A\n",
      "\n",
      "\u001b[A\u001b[A"
     ]
    },
    {
     "name": "stdout",
     "output_type": "stream",
     "text": [
      "INFO:tensorflow:Restoring parameters from ./models/boston_size3/boston_size3.ckpt\n"
     ]
    },
    {
     "name": "stderr",
     "output_type": "stream",
     "text": [
      "\n",
      "\n",
      "\u001b[A\u001b[A\n",
      "\n",
      "\u001b[A\u001b[A\n",
      "\n",
      "\u001b[A\u001b[A"
     ]
    },
    {
     "name": "stdout",
     "output_type": "stream",
     "text": [
      "INFO:tensorflow:Restoring parameters from ./models/boston_size3/boston_size3.ckpt\n"
     ]
    },
    {
     "name": "stderr",
     "output_type": "stream",
     "text": [
      "\n",
      "\n",
      "\u001b[A\u001b[A\n",
      "\n",
      "\u001b[A\u001b[A\n",
      "\n",
      "\u001b[A\u001b[A"
     ]
    },
    {
     "name": "stdout",
     "output_type": "stream",
     "text": [
      "INFO:tensorflow:Restoring parameters from ./models/boston_size3/boston_size3.ckpt\n"
     ]
    },
    {
     "name": "stderr",
     "output_type": "stream",
     "text": [
      "\n",
      "\n",
      "\u001b[A\u001b[A\n",
      "\n",
      "\u001b[A\u001b[A\n",
      "\n",
      "\u001b[A\u001b[A"
     ]
    },
    {
     "name": "stdout",
     "output_type": "stream",
     "text": [
      "INFO:tensorflow:Restoring parameters from ./models/boston_size3/boston_size3.ckpt\n"
     ]
    },
    {
     "name": "stderr",
     "output_type": "stream",
     "text": [
      "\n",
      "\n",
      "\u001b[A\u001b[A\n",
      "\n",
      "\u001b[A\u001b[A\n",
      "\u001b[A\n",
      "\u001b[A\n",
      "\u001b[A\n",
      "\n",
      "\u001b[A\u001b[A\n",
      "\n",
      "\u001b[A\u001b[A\n",
      "\n",
      "\u001b[A\u001b[A"
     ]
    },
    {
     "name": "stdout",
     "output_type": "stream",
     "text": [
      "INFO:tensorflow:Restoring parameters from ./models/boston_size3/boston_size3.ckpt_ds506\n",
      "INFO:tensorflow:Restoring parameters from ./models/boston_size3/boston_size3.ckpt_ds506_tuned\n"
     ]
    },
    {
     "name": "stderr",
     "output_type": "stream",
     "text": [
      "\n",
      "\n",
      "\u001b[A\u001b[A\n",
      "\n",
      "\u001b[A\u001b[A\n",
      "\n",
      "\u001b[A\u001b[A"
     ]
    },
    {
     "name": "stdout",
     "output_type": "stream",
     "text": [
      "INFO:tensorflow:Restoring parameters from ./models/boston_size3/boston_size3.ckpt_ds506\n",
      "INFO:tensorflow:Restoring parameters from ./models/boston_size3/boston_size3.ckpt_ds506_tuned\n"
     ]
    },
    {
     "name": "stderr",
     "output_type": "stream",
     "text": [
      "\n",
      "\n",
      "\u001b[A\u001b[A\n",
      "\n",
      "\u001b[A\u001b[A\n",
      "\n",
      "\u001b[A\u001b[A"
     ]
    },
    {
     "name": "stdout",
     "output_type": "stream",
     "text": [
      "INFO:tensorflow:Restoring parameters from ./models/boston_size3/boston_size3.ckpt_ds506\n",
      "INFO:tensorflow:Restoring parameters from ./models/boston_size3/boston_size3.ckpt_ds506_tuned\n"
     ]
    },
    {
     "name": "stderr",
     "output_type": "stream",
     "text": [
      "\n",
      "\n",
      "\u001b[A\u001b[A\n",
      "\n",
      "\u001b[A\u001b[A\n",
      "\n",
      "\u001b[A\u001b[A"
     ]
    },
    {
     "name": "stdout",
     "output_type": "stream",
     "text": [
      "INFO:tensorflow:Restoring parameters from ./models/boston_size3/boston_size3.ckpt_ds506\n",
      "INFO:tensorflow:Restoring parameters from ./models/boston_size3/boston_size3.ckpt_ds506_tuned\n"
     ]
    },
    {
     "name": "stderr",
     "output_type": "stream",
     "text": [
      "\n",
      "\n",
      "\u001b[A\u001b[A\n",
      "\n",
      "\u001b[A\u001b[A\n",
      "\n",
      "\u001b[A\u001b[A"
     ]
    },
    {
     "name": "stdout",
     "output_type": "stream",
     "text": [
      "INFO:tensorflow:Restoring parameters from ./models/boston_size3/boston_size3.ckpt_ds506\n",
      "INFO:tensorflow:Restoring parameters from ./models/boston_size3/boston_size3.ckpt_ds506_tuned\n"
     ]
    },
    {
     "name": "stderr",
     "output_type": "stream",
     "text": [
      "\n",
      "\n",
      "\u001b[A\u001b[A\n",
      "\n",
      "\u001b[A\u001b[A\n",
      "\u001b[A\n",
      "Dset 506: 100%|██████████| 2/2 [30:48<00:00, 924.27s/it] \n"
     ]
    }
   ],
   "source": [
    "rerun_tau_optim = True\n",
    "if rerun_tau_optim:\n",
    "    # %run -i main_fr.py --version=\"boston_size2\" --out_folds=1 --in_folds=10 --dataset_szs=\"50\",\"100\",\"200\",\"300\",\"400\",\"506\" --thetas='-1','0.132'\n",
    "    %run -i main_fr.py --version=\"boston_size3\" --out_folds=5 --in_folds=5 --dataset_szs=\"100\",\"506\" --thetas='-1','0.13'"
   ]
  },
  {
   "cell_type": "code",
   "execution_count": 12,
   "metadata": {},
   "outputs": [
    {
     "name": "stderr",
     "output_type": "stream",
     "text": [
      "<>:73: DeprecationWarning:\n",
      "\n",
      "invalid escape sequence \\m\n",
      "\n",
      "<>:77: DeprecationWarning:\n",
      "\n",
      "invalid escape sequence \\h\n",
      "\n",
      "<>:80: DeprecationWarning:\n",
      "\n",
      "invalid escape sequence \\!\n",
      "\n",
      "<>:80: DeprecationWarning:\n",
      "\n",
      "invalid escape sequence \\!\n",
      "\n",
      "<>:83: DeprecationWarning:\n",
      "\n",
      "invalid escape sequence \\!\n",
      "\n",
      "<>:83: DeprecationWarning:\n",
      "\n",
      "invalid escape sequence \\!\n",
      "\n",
      "<>:83: DeprecationWarning:\n",
      "\n",
      "invalid escape sequence \\%\n",
      "\n",
      "<>:155: DeprecationWarning:\n",
      "\n",
      "invalid escape sequence \\m\n",
      "\n",
      "<>:159: DeprecationWarning:\n",
      "\n",
      "invalid escape sequence \\h\n",
      "\n",
      "<>:162: DeprecationWarning:\n",
      "\n",
      "invalid escape sequence \\!\n",
      "\n",
      "<>:162: DeprecationWarning:\n",
      "\n",
      "invalid escape sequence \\!\n",
      "\n",
      "<>:165: DeprecationWarning:\n",
      "\n",
      "invalid escape sequence \\!\n",
      "\n",
      "<>:165: DeprecationWarning:\n",
      "\n",
      "invalid escape sequence \\!\n",
      "\n",
      "<>:165: DeprecationWarning:\n",
      "\n",
      "invalid escape sequence \\%\n",
      "\n",
      "<>:73: DeprecationWarning:\n",
      "\n",
      "invalid escape sequence \\m\n",
      "\n",
      "<>:77: DeprecationWarning:\n",
      "\n",
      "invalid escape sequence \\h\n",
      "\n",
      "<>:80: DeprecationWarning:\n",
      "\n",
      "invalid escape sequence \\!\n",
      "\n",
      "<>:80: DeprecationWarning:\n",
      "\n",
      "invalid escape sequence \\!\n",
      "\n",
      "<>:83: DeprecationWarning:\n",
      "\n",
      "invalid escape sequence \\!\n",
      "\n",
      "<>:83: DeprecationWarning:\n",
      "\n",
      "invalid escape sequence \\!\n",
      "\n",
      "<>:83: DeprecationWarning:\n",
      "\n",
      "invalid escape sequence \\%\n",
      "\n",
      "<>:155: DeprecationWarning:\n",
      "\n",
      "invalid escape sequence \\m\n",
      "\n",
      "<>:159: DeprecationWarning:\n",
      "\n",
      "invalid escape sequence \\h\n",
      "\n",
      "<>:162: DeprecationWarning:\n",
      "\n",
      "invalid escape sequence \\!\n",
      "\n",
      "<>:162: DeprecationWarning:\n",
      "\n",
      "invalid escape sequence \\!\n",
      "\n",
      "<>:165: DeprecationWarning:\n",
      "\n",
      "invalid escape sequence \\!\n",
      "\n",
      "<>:165: DeprecationWarning:\n",
      "\n",
      "invalid escape sequence \\!\n",
      "\n",
      "<>:165: DeprecationWarning:\n",
      "\n",
      "invalid escape sequence \\%\n",
      "\n",
      "<>:73: DeprecationWarning:\n",
      "\n",
      "invalid escape sequence \\m\n",
      "\n",
      "<>:77: DeprecationWarning:\n",
      "\n",
      "invalid escape sequence \\h\n",
      "\n",
      "<>:80: DeprecationWarning:\n",
      "\n",
      "invalid escape sequence \\!\n",
      "\n",
      "<>:80: DeprecationWarning:\n",
      "\n",
      "invalid escape sequence \\!\n",
      "\n",
      "<>:83: DeprecationWarning:\n",
      "\n",
      "invalid escape sequence \\!\n",
      "\n",
      "<>:83: DeprecationWarning:\n",
      "\n",
      "invalid escape sequence \\!\n",
      "\n",
      "<>:83: DeprecationWarning:\n",
      "\n",
      "invalid escape sequence \\%\n",
      "\n",
      "<>:155: DeprecationWarning:\n",
      "\n",
      "invalid escape sequence \\m\n",
      "\n",
      "<>:159: DeprecationWarning:\n",
      "\n",
      "invalid escape sequence \\h\n",
      "\n",
      "<>:162: DeprecationWarning:\n",
      "\n",
      "invalid escape sequence \\!\n",
      "\n",
      "<>:162: DeprecationWarning:\n",
      "\n",
      "invalid escape sequence \\!\n",
      "\n",
      "<>:165: DeprecationWarning:\n",
      "\n",
      "invalid escape sequence \\!\n",
      "\n",
      "<>:165: DeprecationWarning:\n",
      "\n",
      "invalid escape sequence \\!\n",
      "\n",
      "<>:165: DeprecationWarning:\n",
      "\n",
      "invalid escape sequence \\%\n",
      "\n",
      "<ipython-input-12-920ed83931bf>:73: DeprecationWarning:\n",
      "\n",
      "invalid escape sequence \\m\n",
      "\n",
      "<ipython-input-12-920ed83931bf>:77: DeprecationWarning:\n",
      "\n",
      "invalid escape sequence \\h\n",
      "\n",
      "<ipython-input-12-920ed83931bf>:80: DeprecationWarning:\n",
      "\n",
      "invalid escape sequence \\!\n",
      "\n",
      "<ipython-input-12-920ed83931bf>:80: DeprecationWarning:\n",
      "\n",
      "invalid escape sequence \\!\n",
      "\n",
      "<ipython-input-12-920ed83931bf>:83: DeprecationWarning:\n",
      "\n",
      "invalid escape sequence \\!\n",
      "\n",
      "<ipython-input-12-920ed83931bf>:83: DeprecationWarning:\n",
      "\n",
      "invalid escape sequence \\!\n",
      "\n",
      "<ipython-input-12-920ed83931bf>:83: DeprecationWarning:\n",
      "\n",
      "invalid escape sequence \\%\n",
      "\n",
      "<ipython-input-12-920ed83931bf>:155: DeprecationWarning:\n",
      "\n",
      "invalid escape sequence \\m\n",
      "\n",
      "<ipython-input-12-920ed83931bf>:159: DeprecationWarning:\n",
      "\n",
      "invalid escape sequence \\h\n",
      "\n",
      "<ipython-input-12-920ed83931bf>:162: DeprecationWarning:\n",
      "\n",
      "invalid escape sequence \\!\n",
      "\n",
      "<ipython-input-12-920ed83931bf>:162: DeprecationWarning:\n",
      "\n",
      "invalid escape sequence \\!\n",
      "\n",
      "<ipython-input-12-920ed83931bf>:165: DeprecationWarning:\n",
      "\n",
      "invalid escape sequence \\!\n",
      "\n",
      "<ipython-input-12-920ed83931bf>:165: DeprecationWarning:\n",
      "\n",
      "invalid escape sequence \\!\n",
      "\n",
      "<ipython-input-12-920ed83931bf>:165: DeprecationWarning:\n",
      "\n",
      "invalid escape sequence \\%\n",
      "\n"
     ]
    },
    {
     "name": "stdout",
     "output_type": "stream",
     "text": [
      "50\n",
      "       0   1          2           \n",
      "         max       mean        std\n",
      "0 -1.000  10  85.483641  13.190258\n",
      "1  0.050  10  45.906193   6.956744\n",
      "2  0.132  10  88.201156  10.319166\n",
      "100\n",
      "       0   1          2          \n",
      "         max       mean       std\n",
      "0 -1.000  10  58.891078  9.370301\n",
      "1  0.050  10  35.159560  3.663413\n",
      "2  0.132  10  82.859168  1.946462\n",
      "200\n",
      "       0   1          2          \n",
      "         max       mean       std\n",
      "0 -1.000  10  41.068761  6.114584\n",
      "1  0.132  10  30.805192  0.544166\n",
      "300\n",
      "       0   1          2          \n",
      "         max       mean       std\n",
      "0 -1.000  10  38.491383  5.177657\n",
      "1  0.132  10  29.403418  0.987856\n",
      "400\n",
      "       0   1          2          \n",
      "         max       mean       std\n",
      "0 -1.000  10  32.798226  4.401397\n",
      "1  0.132  10  28.861981  0.489881\n",
      "506\n",
      "       0   1          2          \n",
      "         max       mean       std\n",
      "0 -1.000  10  32.088942  5.314515\n",
      "1  0.132  10  29.032117  1.156509\n"
     ]
    },
    {
     "data": {
      "text/html": [
       "<div>\n",
       "<style scoped>\n",
       "    .dataframe tbody tr th:only-of-type {\n",
       "        vertical-align: middle;\n",
       "    }\n",
       "\n",
       "    .dataframe tbody tr th {\n",
       "        vertical-align: top;\n",
       "    }\n",
       "\n",
       "    .dataframe thead th {\n",
       "        text-align: right;\n",
       "    }\n",
       "</style>\n",
       "<table border=\"1\" class=\"dataframe\">\n",
       "  <thead>\n",
       "    <tr style=\"text-align: right;\">\n",
       "      <th>theta</th>\n",
       "      <th>CASTLE</th>\n",
       "      <th>Injected</th>\n",
       "    </tr>\n",
       "    <tr>\n",
       "      <th>Dset_sz</th>\n",
       "      <th></th>\n",
       "      <th></th>\n",
       "    </tr>\n",
       "  </thead>\n",
       "  <tbody>\n",
       "    <tr>\n",
       "      <th>50</th>\n",
       "      <td>85.484 (13.19)</td>\n",
       "      <td>88.201 (10.32)</td>\n",
       "    </tr>\n",
       "    <tr>\n",
       "      <th>100</th>\n",
       "      <td>58.891 (9.37)</td>\n",
       "      <td>82.859 (1.95)</td>\n",
       "    </tr>\n",
       "    <tr>\n",
       "      <th>200</th>\n",
       "      <td>41.069 (6.11)</td>\n",
       "      <td>30.805 (0.54)</td>\n",
       "    </tr>\n",
       "    <tr>\n",
       "      <th>300</th>\n",
       "      <td>38.491 (5.18)</td>\n",
       "      <td>29.403 (0.99)</td>\n",
       "    </tr>\n",
       "    <tr>\n",
       "      <th>400</th>\n",
       "      <td>32.798 (4.40)</td>\n",
       "      <td>28.862 (0.49)</td>\n",
       "    </tr>\n",
       "    <tr>\n",
       "      <th>506</th>\n",
       "      <td>32.089 (5.31)</td>\n",
       "      <td>29.032 (1.16)</td>\n",
       "    </tr>\n",
       "  </tbody>\n",
       "</table>\n",
       "</div>"
      ],
      "text/plain": [
       "theta            CASTLE        Injected\n",
       "Dset_sz                                \n",
       "50       85.484 (13.19)  88.201 (10.32)\n",
       "100       58.891 (9.37)   82.859 (1.95)\n",
       "200       41.069 (6.11)   30.805 (0.54)\n",
       "300       38.491 (5.18)   29.403 (0.99)\n",
       "400       32.798 (4.40)   28.862 (0.49)\n",
       "506       32.089 (5.31)   29.032 (1.16)"
      ]
     },
     "metadata": {},
     "output_type": "display_data"
    },
    {
     "name": "stdout",
     "output_type": "stream",
     "text": [
      "['CASTLE' 'Injected']\n",
      "\\begin{tabular}{rcc}\n",
      "Dataset & \\multicolumn{1}{c}{CASTLE} & \\multicolumn{1}{c}{Injected}\\\\ \n",
      "\\hline \n",
      "50  &  \\!85.484 (13.19)\\! &  \\!88.201 (10.32)\\! \\\\\n",
      "100 &   \\!58.891 (9.37)\\! &   \\!82.859 (1.95)\\! \\\\\n",
      "200 &   \\!41.069 (6.11)\\! &   \\!30.805 (0.54)\\! \\\\\n",
      "300 &   \\!38.491 (5.18)\\! &   \\!29.403 (0.99)\\! \\\\\n",
      "400 &   \\!32.798 (4.40)\\! &   \\!28.862 (0.49)\\! \\\\\n",
      "506 &   \\!32.089 (5.31)\\! &   \\!29.032 (1.16)\\! \\\\\n",
      "\\hline\n",
      "\\end{tabular}\n",
      "\n",
      "50\n",
      "      0   1          2           \n",
      "        max       mean        std\n",
      "0 -1.00  10  85.483641  13.190258\n",
      "1  0.05  10  45.906193   6.956744\n",
      "100\n",
      "      0   1          2          \n",
      "        max       mean       std\n",
      "0 -1.00  10  58.891078  9.370301\n",
      "1  0.05  10  35.159560  3.663413\n",
      "200\n",
      "      0   1          2          \n",
      "        max       mean       std\n",
      "0 -1.00  10  41.068761  6.114584\n",
      "1  0.05  10  31.774236  1.426251\n",
      "300\n",
      "      0   1          2          \n",
      "        max       mean       std\n",
      "0 -1.00  10  38.491383  5.177657\n",
      "1  0.05  10  29.416145  2.280317\n",
      "400\n",
      "      0   1          2          \n",
      "        max       mean       std\n",
      "0 -1.00  10  32.798226  4.401397\n",
      "1  0.05  10  28.798249  0.803555\n",
      "506\n",
      "      0   1          2          \n",
      "        max       mean       std\n",
      "0 -1.00  10  31.917677  5.176526\n",
      "1  0.05  10  27.985438  1.187878\n"
     ]
    },
    {
     "data": {
      "text/html": [
       "<div>\n",
       "<style scoped>\n",
       "    .dataframe tbody tr th:only-of-type {\n",
       "        vertical-align: middle;\n",
       "    }\n",
       "\n",
       "    .dataframe tbody tr th {\n",
       "        vertical-align: top;\n",
       "    }\n",
       "\n",
       "    .dataframe thead th {\n",
       "        text-align: right;\n",
       "    }\n",
       "</style>\n",
       "<table border=\"1\" class=\"dataframe\">\n",
       "  <thead>\n",
       "    <tr style=\"text-align: right;\">\n",
       "      <th>theta</th>\n",
       "      <th>CASTLE</th>\n",
       "      <th>Injected</th>\n",
       "    </tr>\n",
       "    <tr>\n",
       "      <th>Dset_sz</th>\n",
       "      <th></th>\n",
       "      <th></th>\n",
       "    </tr>\n",
       "  </thead>\n",
       "  <tbody>\n",
       "    <tr>\n",
       "      <th>50</th>\n",
       "      <td>85.484 (13.19)</td>\n",
       "      <td>45.906 (6.96)</td>\n",
       "    </tr>\n",
       "    <tr>\n",
       "      <th>100</th>\n",
       "      <td>58.891 (9.37)</td>\n",
       "      <td>35.160 (3.66)</td>\n",
       "    </tr>\n",
       "    <tr>\n",
       "      <th>200</th>\n",
       "      <td>41.069 (6.11)</td>\n",
       "      <td>31.774 (1.43)</td>\n",
       "    </tr>\n",
       "    <tr>\n",
       "      <th>300</th>\n",
       "      <td>38.491 (5.18)</td>\n",
       "      <td>29.416 (2.28)</td>\n",
       "    </tr>\n",
       "    <tr>\n",
       "      <th>400</th>\n",
       "      <td>32.798 (4.40)</td>\n",
       "      <td>28.798 (0.80)</td>\n",
       "    </tr>\n",
       "    <tr>\n",
       "      <th>506</th>\n",
       "      <td>31.918 (5.18)</td>\n",
       "      <td>27.985 (1.19)</td>\n",
       "    </tr>\n",
       "  </tbody>\n",
       "</table>\n",
       "</div>"
      ],
      "text/plain": [
       "theta            CASTLE       Injected\n",
       "Dset_sz                               \n",
       "50       85.484 (13.19)  45.906 (6.96)\n",
       "100       58.891 (9.37)  35.160 (3.66)\n",
       "200       41.069 (6.11)  31.774 (1.43)\n",
       "300       38.491 (5.18)  29.416 (2.28)\n",
       "400       32.798 (4.40)  28.798 (0.80)\n",
       "506       31.918 (5.18)  27.985 (1.19)"
      ]
     },
     "metadata": {},
     "output_type": "display_data"
    },
    {
     "name": "stdout",
     "output_type": "stream",
     "text": [
      "['CASTLE' 'Injected']\n",
      "\\begin{tabular}{rcc}\n",
      "Dataset & \\multicolumn{1}{c}{CASTLE} & \\multicolumn{1}{c}{Injected}\\\\ \n",
      "\\hline \n",
      "50  &  \\!85.484 (13.19)\\! &  \\!45.906 (6.96)\\! \\\\\n",
      "100 &   \\!58.891 (9.37)\\! &  \\!35.160 (3.66)\\! \\\\\n",
      "200 &   \\!41.069 (6.11)\\! &  \\!31.774 (1.43)\\! \\\\\n",
      "300 &   \\!38.491 (5.18)\\! &  \\!29.416 (2.28)\\! \\\\\n",
      "400 &   \\!32.798 (4.40)\\! &  \\!28.798 (0.80)\\! \\\\\n",
      "506 &   \\!31.918 (5.18)\\! &  \\!27.985 (1.19)\\! \\\\\n",
      "\\hline\n",
      "\\end{tabular}\n",
      "\n"
     ]
    }
   ],
   "source": [
    "debug=True\n",
    "\n",
    "W_est = pd.read_csv(f\"{dag_type}_adj_matrix.csv\").to_numpy()\n",
    "\n",
    "# v = f'{dag_type}_size' ##theta=0.06\n",
    "v = f'{dag_type}_size2' ## theta=0.132\n",
    "\n",
    "agg_stats_all = pd.DataFrame()\n",
    "\n",
    "# size_list = [100,500,1000,4000,8000] ##fico\n",
    "size_list = [50,100,200,300,400,506]\n",
    "# out_folds = 5 ##fico\n",
    "out_folds = 1\n",
    "# metric = 'accuracy' ##fico\n",
    "metric = 'MSE'\n",
    "theta = 0.132 ## fico: 0.006\n",
    "\n",
    "for size in size_list:\n",
    "    # filename = f\"5FoldCASTLE.Reg.Synth.{size}.pkl\"\n",
    "# for size in [50,100,200,500,1000]:\n",
    "    filename = f\"results/Nested{out_folds}FoldCASTLE.Reg.Synth.{size}.{v}.pkl\"\n",
    "    describe = load_pickle(os.path.join(filename), verbose=False)\n",
    "\n",
    "    if debug:\n",
    "        print(size)\n",
    "        print(pd.DataFrame([(describe[c]['theta'],describe[c]['fold'],describe[c][metric]) for c in describe]).groupby(0, as_index=False).agg({1 : ['max'], 2 : ['mean', 'std']}))\n",
    "\n",
    "    agg_stats = pd.DataFrame([(describe[c]['theta'],describe[c]['fold'],describe[c][metric]) for c in describe]).groupby(0, as_index=False).agg({1 : ['max'], 2 : ['mean', 'std']})\n",
    "    agg_stats.columns = ['theta', 'folds', 'accuracy_mean', 'accuracy_std']\n",
    "\n",
    "    agg_stats.loc[agg_stats['theta']==-1,'theta'] = -0.05\n",
    "    agg_stats = agg_stats[agg_stats['theta']!= 0.05] \n",
    "\n",
    "    # display(agg_stats)\n",
    "\n",
    "    n_edges = pd.DataFrame([(theta, nx.from_numpy_matrix(DAG_retreive_np(W_est, theta), create_using=nx.DiGraph, parallel_edges=False).number_of_edges()) for theta in agg_stats['theta']])\n",
    "\n",
    "    n_edges.loc[n_edges[0]==-1,0] = -0.05\n",
    "    n_edges.loc[n_edges[0]==-0.05,1] = nx.from_numpy_matrix(W_est, create_using=nx.DiGraph, parallel_edges=False).number_of_edges()\n",
    "\n",
    "    # display(n_edges)\n",
    "\n",
    "    n_edges_DAG = n_edges.merge(pd.DataFrame([(theta, nx.is_directed_acyclic_graph(nx.from_numpy_matrix(DAG_retreive_np(W_est, theta), create_using=nx.DiGraph, parallel_edges=False))) for theta in agg_stats['theta']]), on=0)\n",
    "\n",
    "    n_edges_DAG.columns = ['theta', 'N_edges', 'is_DAG']\n",
    "\n",
    "    agg_stats.merge(n_edges_DAG,on='theta')\n",
    "    agg_stats['Dset_sz'] = size\n",
    "\n",
    "    # display(agg_stats)\n",
    "\n",
    "    agg_stats_all = pd.concat([agg_stats_all,agg_stats])\n",
    "\n",
    "agg_stats_all\n",
    "\n",
    "ds = agg_stats_all[['theta', 'accuracy_mean', 'accuracy_std','Dset_sz']]\n",
    "\n",
    "ds['values'] = [\"{0:.3f}\".format(round(mean,3))+\" ({0:.2f})\".format(round(std,2)) for mean,std in zip(ds['accuracy_mean'],ds['accuracy_std']) ]\n",
    "ds.loc[ds['theta']==-0.05,'theta'] = \"CASTLE\"\n",
    "ds.loc[ds['theta']==theta,'theta'] = \"Injected\"\n",
    "table = ds.pivot(index='Dset_sz',columns='theta', values='values')\n",
    "table[[\"CASTLE\",\"Injected\"]]\n",
    "display(table)\n",
    "\n",
    "\n",
    "def compute_top_2(names):\n",
    "    t = ''\n",
    "    pcount = round(len(names)/len(np.unique(names)))\n",
    "    _, idx = np.unique(names, return_index=True)\n",
    "    names = names[np.sort(idx)]\n",
    "    print(names)\n",
    "    for i in range(len(names)):\n",
    "        t += ' & \\multicolumn{' + str(pcount) + '}{c}{' + str(names[i]) + '}'\n",
    "    return t\n",
    "            \n",
    "# top1 = '\\multirow{2}{*}{Dataset} & \\multirow{2}{*}{BC$^{*}$}' + compute_top(table.columns.values[1:]) + '\\\\\\\\'\n",
    "top1 = 'Dataset' + compute_top_2(table.columns.values) + '\\\\\\\\ \\n\\hline '\n",
    "\n",
    "print_table = lambda table, top : table.to_latex(escape = False, index = True, index_names = False, header =False,\n",
    "                     formatters=[(lambda x : '\\!' + str(x) + '\\!') for col in table.columns.values],\n",
    "#                      header = [f'\\!\\!{nice_relations[col[-1:]] if col != \"BC\" else \"\"}\\!\\!' for col in table.columns.values],\\\n",
    "                     column_format = 'r' + 'c' * (len(table.columns.values)),\n",
    "                    ).replace(r'\\toprule', top).replace(r'\\midrule', r'\\hline').replace(r'\\bottomrule', r'\\hline').replace('.0%', '%').replace('\\!%', '\\!0%').replace('%', '\\%')\n",
    "\n",
    "print(print_table(table, top1))\n",
    "\n",
    "\n",
    "# v = f'{dag_type}_size' ##theta=0.06\n",
    "v = f'{dag_type}_size' ## theta=0.132\n",
    "\n",
    "agg_stats_all = pd.DataFrame()\n",
    "\n",
    "# size_list = [100,500,1000,4000,8000] ##fico\n",
    "size_list = [50,100,200,300,400,506]\n",
    "# out_folds = 5 ##fico\n",
    "out_folds = 1\n",
    "# metric = 'accuracy' ##fico\n",
    "metric = 'MSE'\n",
    "theta = 0.05 ## fico: 0.006\n",
    "\n",
    "for size in size_list:\n",
    "    # filename = f\"5FoldCASTLE.Reg.Synth.{size}.pkl\"\n",
    "# for size in [50,100,200,500,1000]:\n",
    "    filename = f\"results/Nested{out_folds}FoldCASTLE.Reg.Synth.{size}.{v}.pkl\"\n",
    "    describe = load_pickle(os.path.join(filename), verbose=False)\n",
    "\n",
    "    if debug:\n",
    "        print(size)\n",
    "        print(pd.DataFrame([(describe[c]['theta'],describe[c]['fold'],describe[c][metric]) for c in describe]).groupby(0, as_index=False).agg({1 : ['max'], 2 : ['mean', 'std']}))\n",
    "\n",
    "    agg_stats = pd.DataFrame([(describe[c]['theta'],describe[c]['fold'],describe[c][metric]) for c in describe]).groupby(0, as_index=False).agg({1 : ['max'], 2 : ['mean', 'std']})\n",
    "    agg_stats.columns = ['theta', 'folds', 'accuracy_mean', 'accuracy_std']\n",
    "\n",
    "    agg_stats.loc[agg_stats['theta']==-1,'theta'] = -0.05\n",
    "\n",
    "    # display(agg_stats)\n",
    "\n",
    "    n_edges = pd.DataFrame([(theta, nx.from_numpy_matrix(DAG_retreive_np(W_est, theta), create_using=nx.DiGraph, parallel_edges=False).number_of_edges()) for theta in agg_stats['theta']])\n",
    "\n",
    "    n_edges.loc[n_edges[0]==-1,0] = -0.05\n",
    "    n_edges.loc[n_edges[0]==-0.05,1] = nx.from_numpy_matrix(W_est, create_using=nx.DiGraph, parallel_edges=False).number_of_edges()\n",
    "\n",
    "    # display(n_edges)\n",
    "\n",
    "    n_edges_DAG = n_edges.merge(pd.DataFrame([(theta, nx.is_directed_acyclic_graph(nx.from_numpy_matrix(DAG_retreive_np(W_est, theta), create_using=nx.DiGraph, parallel_edges=False))) for theta in agg_stats['theta']]), on=0)\n",
    "\n",
    "    n_edges_DAG.columns = ['theta', 'N_edges', 'is_DAG']\n",
    "\n",
    "    agg_stats.merge(n_edges_DAG,on='theta')\n",
    "    agg_stats['Dset_sz'] = size\n",
    "\n",
    "    # display(agg_stats)\n",
    "\n",
    "    agg_stats_all = pd.concat([agg_stats_all,agg_stats])\n",
    "\n",
    "agg_stats_all\n",
    "\n",
    "ds = agg_stats_all[['theta', 'accuracy_mean', 'accuracy_std','Dset_sz']]\n",
    "\n",
    "ds['values'] = [\"{0:.3f}\".format(round(mean,3))+\" ({0:.2f})\".format(round(std,2)) for mean,std in zip(ds['accuracy_mean'],ds['accuracy_std']) ]\n",
    "ds.loc[ds['theta']==-0.05,'theta'] = \"CASTLE\"\n",
    "ds.loc[ds['theta']==theta,'theta'] = \"Injected\"\n",
    "table = ds.pivot(index='Dset_sz',columns='theta', values='values')\n",
    "table[[\"CASTLE\",\"Injected\"]]\n",
    "display(table)\n",
    "\n",
    "\n",
    "def compute_top_2(names):\n",
    "    t = ''\n",
    "    pcount = round(len(names)/len(np.unique(names)))\n",
    "    _, idx = np.unique(names, return_index=True)\n",
    "    names = names[np.sort(idx)]\n",
    "    print(names)\n",
    "    for i in range(len(names)):\n",
    "        t += ' & \\multicolumn{' + str(pcount) + '}{c}{' + str(names[i]) + '}'\n",
    "    return t\n",
    "            \n",
    "# top1 = '\\multirow{2}{*}{Dataset} & \\multirow{2}{*}{BC$^{*}$}' + compute_top(table.columns.values[1:]) + '\\\\\\\\'\n",
    "top1 = 'Dataset' + compute_top_2(table.columns.values) + '\\\\\\\\ \\n\\hline '\n",
    "\n",
    "print_table = lambda table, top : table.to_latex(escape = False, index = True, index_names = False, header =False,\n",
    "                     formatters=[(lambda x : '\\!' + str(x) + '\\!') for col in table.columns.values],\n",
    "#                      header = [f'\\!\\!{nice_relations[col[-1:]] if col != \"BC\" else \"\"}\\!\\!' for col in table.columns.values],\\\n",
    "                     column_format = 'r' + 'c' * (len(table.columns.values)),\n",
    "                    ).replace(r'\\toprule', top).replace(r'\\midrule', r'\\hline').replace(r'\\bottomrule', r'\\hline').replace('.0%', '%').replace('\\!%', '\\!0%').replace('%', '\\%')\n",
    "\n",
    "print(print_table(table, top1))"
   ]
  },
  {
   "cell_type": "code",
   "execution_count": 13,
   "metadata": {},
   "outputs": [
    {
     "name": "stdout",
     "output_type": "stream",
     "text": [
      "100\n",
      "      0   1           2           \n",
      "        max        mean        std\n",
      "0 -1.00   5  112.036437  91.056532\n",
      "1  0.13   5   86.165875  13.753446\n",
      "506\n",
      "      0   1          2          \n",
      "        max       mean       std\n",
      "0 -1.00   5  21.954245  6.838826\n",
      "1  0.13   5  20.455792  5.121598\n"
     ]
    },
    {
     "name": "stderr",
     "output_type": "stream",
     "text": [
      "<>:73: DeprecationWarning:\n",
      "\n",
      "invalid escape sequence \\m\n",
      "\n",
      "<>:77: DeprecationWarning:\n",
      "\n",
      "invalid escape sequence \\h\n",
      "\n",
      "<>:80: DeprecationWarning:\n",
      "\n",
      "invalid escape sequence \\!\n",
      "\n",
      "<>:80: DeprecationWarning:\n",
      "\n",
      "invalid escape sequence \\!\n",
      "\n",
      "<>:83: DeprecationWarning:\n",
      "\n",
      "invalid escape sequence \\!\n",
      "\n",
      "<>:83: DeprecationWarning:\n",
      "\n",
      "invalid escape sequence \\!\n",
      "\n",
      "<>:83: DeprecationWarning:\n",
      "\n",
      "invalid escape sequence \\%\n",
      "\n",
      "<>:73: DeprecationWarning:\n",
      "\n",
      "invalid escape sequence \\m\n",
      "\n",
      "<>:77: DeprecationWarning:\n",
      "\n",
      "invalid escape sequence \\h\n",
      "\n",
      "<>:80: DeprecationWarning:\n",
      "\n",
      "invalid escape sequence \\!\n",
      "\n",
      "<>:80: DeprecationWarning:\n",
      "\n",
      "invalid escape sequence \\!\n",
      "\n",
      "<>:83: DeprecationWarning:\n",
      "\n",
      "invalid escape sequence \\!\n",
      "\n",
      "<>:83: DeprecationWarning:\n",
      "\n",
      "invalid escape sequence \\!\n",
      "\n",
      "<>:83: DeprecationWarning:\n",
      "\n",
      "invalid escape sequence \\%\n",
      "\n",
      "<>:73: DeprecationWarning:\n",
      "\n",
      "invalid escape sequence \\m\n",
      "\n",
      "<>:77: DeprecationWarning:\n",
      "\n",
      "invalid escape sequence \\h\n",
      "\n",
      "<>:80: DeprecationWarning:\n",
      "\n",
      "invalid escape sequence \\!\n",
      "\n",
      "<>:80: DeprecationWarning:\n",
      "\n",
      "invalid escape sequence \\!\n",
      "\n",
      "<>:83: DeprecationWarning:\n",
      "\n",
      "invalid escape sequence \\!\n",
      "\n",
      "<>:83: DeprecationWarning:\n",
      "\n",
      "invalid escape sequence \\!\n",
      "\n",
      "<>:83: DeprecationWarning:\n",
      "\n",
      "invalid escape sequence \\%\n",
      "\n",
      "<ipython-input-13-8cb29b203b01>:73: DeprecationWarning:\n",
      "\n",
      "invalid escape sequence \\m\n",
      "\n",
      "<ipython-input-13-8cb29b203b01>:77: DeprecationWarning:\n",
      "\n",
      "invalid escape sequence \\h\n",
      "\n",
      "<ipython-input-13-8cb29b203b01>:80: DeprecationWarning:\n",
      "\n",
      "invalid escape sequence \\!\n",
      "\n",
      "<ipython-input-13-8cb29b203b01>:80: DeprecationWarning:\n",
      "\n",
      "invalid escape sequence \\!\n",
      "\n",
      "<ipython-input-13-8cb29b203b01>:83: DeprecationWarning:\n",
      "\n",
      "invalid escape sequence \\!\n",
      "\n",
      "<ipython-input-13-8cb29b203b01>:83: DeprecationWarning:\n",
      "\n",
      "invalid escape sequence \\!\n",
      "\n",
      "<ipython-input-13-8cb29b203b01>:83: DeprecationWarning:\n",
      "\n",
      "invalid escape sequence \\%\n",
      "\n"
     ]
    },
    {
     "data": {
      "text/html": [
       "<div>\n",
       "<style scoped>\n",
       "    .dataframe tbody tr th:only-of-type {\n",
       "        vertical-align: middle;\n",
       "    }\n",
       "\n",
       "    .dataframe tbody tr th {\n",
       "        vertical-align: top;\n",
       "    }\n",
       "\n",
       "    .dataframe thead th {\n",
       "        text-align: right;\n",
       "    }\n",
       "</style>\n",
       "<table border=\"1\" class=\"dataframe\">\n",
       "  <thead>\n",
       "    <tr style=\"text-align: right;\">\n",
       "      <th>theta</th>\n",
       "      <th>CASTLE</th>\n",
       "      <th>Injected</th>\n",
       "    </tr>\n",
       "    <tr>\n",
       "      <th>Dset_sz</th>\n",
       "      <th></th>\n",
       "      <th></th>\n",
       "    </tr>\n",
       "  </thead>\n",
       "  <tbody>\n",
       "    <tr>\n",
       "      <th>100</th>\n",
       "      <td>112.036 (91.06)</td>\n",
       "      <td>86.166 (13.75)</td>\n",
       "    </tr>\n",
       "    <tr>\n",
       "      <th>506</th>\n",
       "      <td>21.954 (6.84)</td>\n",
       "      <td>20.456 (5.12)</td>\n",
       "    </tr>\n",
       "  </tbody>\n",
       "</table>\n",
       "</div>"
      ],
      "text/plain": [
       "theta             CASTLE        Injected\n",
       "Dset_sz                                 \n",
       "100      112.036 (91.06)  86.166 (13.75)\n",
       "506        21.954 (6.84)   20.456 (5.12)"
      ]
     },
     "metadata": {},
     "output_type": "display_data"
    },
    {
     "name": "stdout",
     "output_type": "stream",
     "text": [
      "['CASTLE' 'Injected']\n",
      "\\begin{tabular}{rcc}\n",
      "Dataset & \\multicolumn{1}{c}{CASTLE} & \\multicolumn{1}{c}{Injected}\\\\ \n",
      "\\hline \n",
      "100 &  \\!112.036 (91.06)\\! &  \\!86.166 (13.75)\\! \\\\\n",
      "506 &    \\!21.954 (6.84)\\! &   \\!20.456 (5.12)\\! \\\\\n",
      "\\hline\n",
      "\\end{tabular}\n",
      "\n"
     ]
    }
   ],
   "source": [
    "debug=True\n",
    "\n",
    "W_est = pd.read_csv(f\"{dag_type}_adj_matrix.csv\").to_numpy()\n",
    "\n",
    "# v = f'{dag_type}_size' ##theta=0.06\n",
    "v = f'{dag_type}_size3' ## theta=0.132\n",
    "\n",
    "agg_stats_all = pd.DataFrame()\n",
    "\n",
    "# size_list = [100,500,1000,4000,8000] ##fico\n",
    "size_list = [100,506]\n",
    "# out_folds = 5 ##fico\n",
    "out_folds = 5\n",
    "# metric = 'accuracy' ##fico\n",
    "metric = 'MSE'\n",
    "theta = 0.13 ## fico: 0.006\n",
    "\n",
    "for size in size_list:\n",
    "    # filename = f\"5FoldCASTLE.Reg.Synth.{size}.pkl\"\n",
    "# for size in [50,100,200,500,1000]:\n",
    "    filename = f\"results/Nested{out_folds}FoldCASTLE.Reg.Synth.{size}.{v}.pkl\"\n",
    "    describe = load_pickle(os.path.join(filename), verbose=False)\n",
    "\n",
    "    if debug:\n",
    "        print(size)\n",
    "        print(pd.DataFrame([(describe[c]['theta'],describe[c]['fold'],describe[c][metric]) for c in describe]).groupby(0, as_index=False).agg({1 : ['max'], 2 : ['mean', 'std']}))\n",
    "\n",
    "    agg_stats = pd.DataFrame([(describe[c]['theta'],describe[c]['fold'],describe[c][metric]) for c in describe]).groupby(0, as_index=False).agg({1 : ['max'], 2 : ['mean', 'std']})\n",
    "    agg_stats.columns = ['theta', 'folds', 'accuracy_mean', 'accuracy_std']\n",
    "\n",
    "    agg_stats.loc[agg_stats['theta']==-1,'theta'] = -0.05\n",
    "    agg_stats = agg_stats[agg_stats['theta']!= 0.05] \n",
    "\n",
    "    # display(agg_stats)\n",
    "\n",
    "    n_edges = pd.DataFrame([(theta, nx.from_numpy_matrix(DAG_retreive_np(W_est, theta), create_using=nx.DiGraph, parallel_edges=False).number_of_edges()) for theta in agg_stats['theta']])\n",
    "\n",
    "    n_edges.loc[n_edges[0]==-1,0] = -0.05\n",
    "    n_edges.loc[n_edges[0]==-0.05,1] = nx.from_numpy_matrix(W_est, create_using=nx.DiGraph, parallel_edges=False).number_of_edges()\n",
    "\n",
    "    # display(n_edges)\n",
    "\n",
    "    n_edges_DAG = n_edges.merge(pd.DataFrame([(theta, nx.is_directed_acyclic_graph(nx.from_numpy_matrix(DAG_retreive_np(W_est, theta), create_using=nx.DiGraph, parallel_edges=False))) for theta in agg_stats['theta']]), on=0)\n",
    "\n",
    "    n_edges_DAG.columns = ['theta', 'N_edges', 'is_DAG']\n",
    "\n",
    "    agg_stats.merge(n_edges_DAG,on='theta')\n",
    "    agg_stats['Dset_sz'] = size\n",
    "\n",
    "    # display(agg_stats)\n",
    "\n",
    "    agg_stats_all = pd.concat([agg_stats_all,agg_stats])\n",
    "\n",
    "agg_stats_all\n",
    "\n",
    "ds = agg_stats_all[['theta', 'accuracy_mean', 'accuracy_std','Dset_sz']]\n",
    "\n",
    "ds['values'] = [\"{0:.3f}\".format(round(mean,3))+\" ({0:.2f})\".format(round(std,2)) for mean,std in zip(ds['accuracy_mean'],ds['accuracy_std']) ]\n",
    "ds.loc[ds['theta']==-0.05,'theta'] = \"CASTLE\"\n",
    "ds.loc[ds['theta']==theta,'theta'] = \"Injected\"\n",
    "table = ds.pivot(index='Dset_sz',columns='theta', values='values')\n",
    "table[[\"CASTLE\",\"Injected\"]]\n",
    "display(table)\n",
    "\n",
    "\n",
    "def compute_top_2(names):\n",
    "    t = ''\n",
    "    pcount = round(len(names)/len(np.unique(names)))\n",
    "    _, idx = np.unique(names, return_index=True)\n",
    "    names = names[np.sort(idx)]\n",
    "    print(names)\n",
    "    for i in range(len(names)):\n",
    "        t += ' & \\multicolumn{' + str(pcount) + '}{c}{' + str(names[i]) + '}'\n",
    "    return t\n",
    "            \n",
    "# top1 = '\\multirow{2}{*}{Dataset} & \\multirow{2}{*}{BC$^{*}$}' + compute_top(table.columns.values[1:]) + '\\\\\\\\'\n",
    "top1 = 'Dataset' + compute_top_2(table.columns.values) + '\\\\\\\\ \\n\\hline '\n",
    "\n",
    "print_table = lambda table, top : table.to_latex(escape = False, index = True, index_names = False, header =False,\n",
    "                     formatters=[(lambda x : '\\!' + str(x) + '\\!') for col in table.columns.values],\n",
    "#                      header = [f'\\!\\!{nice_relations[col[-1:]] if col != \"BC\" else \"\"}\\!\\!' for col in table.columns.values],\\\n",
    "                     column_format = 'r' + 'c' * (len(table.columns.values)),\n",
    "                    ).replace(r'\\toprule', top).replace(r'\\midrule', r'\\hline').replace(r'\\bottomrule', r'\\hline').replace('.0%', '%').replace('\\!%', '\\!0%').replace('%', '\\%')\n",
    "\n",
    "print(print_table(table, top1))\n"
   ]
  },
  {
   "cell_type": "markdown",
   "metadata": {},
   "source": [
    "## Castle Fitting - with or without injection"
   ]
  },
  {
   "cell_type": "code",
   "execution_count": null,
   "metadata": {},
   "outputs": [],
   "source": [
    "run=True ## to run the below set to True\n",
    "n_folds=1\n",
    "output_log = f'castle_{dag_type}_full.log'\n",
    "n_folds = 1\n",
    "ckpt_file = os.path.join(\"./models/\",dag_type,f'{dag_type}_full.ckpt')\n",
    "seed = 0"
   ]
  },
  {
   "cell_type": "code",
   "execution_count": null,
   "metadata": {
    "scrolled": true,
    "tags": []
   },
   "outputs": [
    {
     "name": "stdout",
     "output_type": "stream",
     "text": [
      "******* Doing dataset size =  36631 ****************\n",
      "Step 1, Loss= 3.0223 h_value: 0.0027160645\n",
      "Val Loss= 0.1270\n",
      "Step 2, Loss= 0.1298 h_value: 0.04360199\n",
      "Val Loss= 0.1175\n",
      "Step 3, Loss= 0.1204 h_value: 0.06536102\n",
      "Val Loss= 0.1138\n",
      "Step 4, Loss= 0.1159 h_value: 0.065068245\n",
      "Val Loss= 0.1137\n",
      "Step 5, Loss= 0.1159 h_value: 0.053347588\n",
      "Val Loss= 0.1163\n",
      "Step 6, Loss= 0.1200 h_value: 0.04725361\n",
      "Val Loss= 0.1176\n",
      "Step 7, Loss= 0.1205 h_value: 0.039466858\n",
      "Val Loss= 0.1231\n",
      "Step 8, Loss= 0.1248 h_value: 0.036218643\n",
      "Val Loss= 0.1098\n",
      "Step 9, Loss= 0.1131 h_value: 0.031040192\n",
      "Val Loss= 0.1149\n",
      "Step 10, Loss= 0.1178 h_value: 0.028759956\n",
      "Val Loss= 0.1168\n",
      "Step 11, Loss= 0.1190 h_value: 0.027578354\n",
      "Val Loss= 0.1105\n",
      "Step 12, Loss= 0.1129 h_value: 0.02609539\n",
      "Val Loss= 0.1163\n",
      "Step 13, Loss= 0.1185 h_value: 0.024947166\n",
      "Val Loss= 0.1246\n",
      "Step 14, Loss= 0.1265 h_value: 0.021176338\n",
      "Val Loss= 0.1121\n",
      "Step 15, Loss= 0.1143 h_value: 0.024569511\n",
      "Val Loss= 0.1171\n",
      "Step 16, Loss= 0.1205 h_value: 0.019417763\n",
      "Val Loss= 0.1134\n",
      "Step 17, Loss= 0.1158 h_value: 0.019426346\n",
      "Val Loss= 0.1152\n",
      "Step 18, Loss= 0.1170 h_value: 0.015079498\n",
      "Val Loss= 0.1164\n",
      "Step 19, Loss= 0.1190 h_value: 0.018054008\n",
      "Val Loss= 0.1148\n",
      "Step 20, Loss= 0.1169 h_value: 0.014280319\n",
      "Val Loss= 0.1239\n",
      "Step 21, Loss= 0.1257 h_value: 0.012933731\n",
      "Val Loss= 0.1146\n",
      "Step 22, Loss= 0.1174 h_value: 0.014289856\n",
      "Val Loss= 0.1131\n",
      "Step 23, Loss= 0.1151 h_value: 0.012586594\n",
      "Val Loss= 0.1129\n",
      "Step 24, Loss= 0.1164 h_value: 0.01286602\n",
      "Val Loss= 0.1091\n",
      "Step 25, Loss= 0.1121 h_value: 0.013374329\n",
      "Val Loss= 0.1130\n",
      "Step 26, Loss= 0.1155 h_value: 0.011343956\n",
      "Val Loss= 0.1144\n",
      "Step 27, Loss= 0.1152 h_value: 0.011829376\n",
      "Val Loss= 0.1117\n",
      "Step 28, Loss= 0.1150 h_value: 0.012404442\n",
      "Val Loss= 0.1180\n",
      "Step 29, Loss= 0.1183 h_value: 0.011651039\n",
      "Val Loss= 0.1097\n",
      "Step 30, Loss= 0.1118 h_value: 0.011205673\n",
      "Val Loss= 0.1110\n",
      "Step 31, Loss= 0.1140 h_value: 0.010010719\n",
      "Val Loss= 0.1187\n",
      "Step 32, Loss= 0.1206 h_value: 0.011260986\n",
      "Val Loss= 0.1099\n",
      "Step 33, Loss= 0.1119 h_value: 0.00859642\n",
      "Val Loss= 0.1117\n",
      "Step 34, Loss= 0.1146 h_value: 0.009504318\n",
      "Val Loss= 0.1150\n",
      "Step 35, Loss= 0.1168 h_value: 0.00951767\n",
      "Val Loss= 0.1242\n",
      "Step 36, Loss= 0.1271 h_value: 0.008266449\n",
      "Val Loss= 0.1127\n",
      "Step 37, Loss= 0.1145 h_value: 0.008160591\n",
      "Val Loss= 0.1147\n",
      "Step 38, Loss= 0.1172 h_value: 0.008173943\n",
      "Val Loss= 0.1129\n",
      "Step 39, Loss= 0.1144 h_value: 0.008189201\n",
      "Val Loss= 0.1130\n",
      "Step 40, Loss= 0.1160 h_value: 0.0075416565\n",
      "Val Loss= 0.1164\n",
      "Step 41, Loss= 0.1190 h_value: 0.0076847076\n",
      "Val Loss= 0.1154\n",
      "Step 42, Loss= 0.1185 h_value: 0.008522034\n",
      "Val Loss= 0.1120\n",
      "Step 43, Loss= 0.1142 h_value: 0.008545876\n",
      "Val Loss= 0.1138\n",
      "Step 44, Loss= 0.1175 h_value: 0.006863594\n",
      "Val Loss= 0.1120\n",
      "Step 45, Loss= 0.1139 h_value: 0.007358551\n",
      "Val Loss= 0.1154\n",
      "Step 46, Loss= 0.1187 h_value: 0.006608963\n",
      "Val Loss= 0.1124\n",
      "Step 47, Loss= 0.1138 h_value: 0.0072660446\n",
      "Val Loss= 0.1103\n",
      "Step 48, Loss= 0.1128 h_value: 0.0068941116\n",
      "Val Loss= 0.1148\n",
      "Step 49, Loss= 0.1163 h_value: 0.009259224\n",
      "Val Loss= 0.1133\n",
      "Step 50, Loss= 0.1153 h_value: 0.00662899\n",
      "Val Loss= 0.1230\n",
      "Saving model\n",
      "Step 51, Loss= 0.1258 h_value: 0.006668091\n",
      "Val Loss= 0.1141\n",
      "Saving model\n",
      "Step 52, Loss= 0.1167 h_value: 0.0077342987\n",
      "Val Loss= 0.1115\n",
      "Saving model\n",
      "Step 53, Loss= 0.1139 h_value: 0.005610466\n",
      "Val Loss= 0.1116\n",
      "Step 54, Loss= 0.1139 h_value: 0.005601883\n",
      "Val Loss= 0.1147\n",
      "Step 55, Loss= 0.1162 h_value: 0.0056295395\n",
      "Val Loss= 0.1125\n",
      "Step 56, Loss= 0.1151 h_value: 0.0063734055\n",
      "Val Loss= 0.1111\n",
      "Saving model\n",
      "Step 57, Loss= 0.1148 h_value: 0.0058870316\n",
      "Val Loss= 0.1122\n",
      "Step 58, Loss= 0.1151 h_value: 0.006049156\n",
      "Val Loss= 0.1142\n",
      "Step 59, Loss= 0.1165 h_value: 0.0050201416\n",
      "Val Loss= 0.1144\n",
      "Step 60, Loss= 0.1153 h_value: 0.0065021515\n",
      "Val Loss= 0.1107\n",
      "Saving model\n",
      "Step 61, Loss= 0.1133 h_value: 0.0058145523\n",
      "Val Loss= 0.1100\n",
      "Saving model\n",
      "Step 62, Loss= 0.1134 h_value: 0.00671196\n",
      "Val Loss= 0.1121\n",
      "Step 63, Loss= 0.1149 h_value: 0.0052375793\n",
      "Val Loss= 0.1199\n",
      "Step 64, Loss= 0.1240 h_value: 0.005241394\n",
      "Val Loss= 0.1135\n",
      "Step 65, Loss= 0.1144 h_value: 0.0056467056\n",
      "Val Loss= 0.1124\n",
      "Step 66, Loss= 0.1149 h_value: 0.0059804916\n",
      "Val Loss= 0.1107\n",
      "Step 67, Loss= 0.1149 h_value: 0.0051431656\n",
      "Val Loss= 0.1127\n",
      "Step 68, Loss= 0.1149 h_value: 0.0047187805\n",
      "Val Loss= 0.1173\n",
      "Step 69, Loss= 0.1196 h_value: 0.004709244\n",
      "Val Loss= 0.1126\n",
      "Step 70, Loss= 0.1139 h_value: 0.005232811\n",
      "Val Loss= 0.1167\n",
      "Step 71, Loss= 0.1186 h_value: 0.005235672\n",
      "Val Loss= 0.1113\n",
      "Step 72, Loss= 0.1136 h_value: 0.0053243637\n",
      "Val Loss= 0.1155\n",
      "Step 73, Loss= 0.1170 h_value: 0.005695343\n",
      "Val Loss= 0.1134\n",
      "Step 74, Loss= 0.1148 h_value: 0.005133629\n",
      "Val Loss= 0.1143\n",
      "Step 75, Loss= 0.1165 h_value: 0.005601883\n",
      "Val Loss= 0.1131\n",
      "Step 76, Loss= 0.1150 h_value: 0.0045671463\n",
      "Val Loss= 0.1214\n",
      "Step 77, Loss= 0.1234 h_value: 0.0054502487\n",
      "Val Loss= 0.1105\n",
      "Step 78, Loss= 0.1131 h_value: 0.005498886\n",
      "Val Loss= 0.1121\n",
      "Step 79, Loss= 0.1146 h_value: 0.005425453\n",
      "Val Loss= 0.1133\n",
      "Step 80, Loss= 0.1163 h_value: 0.0050315857\n",
      "Val Loss= 0.1176\n",
      "Step 81, Loss= 0.1201 h_value: 0.0058288574\n",
      "Val Loss= 0.1149\n",
      "Step 82, Loss= 0.1160 h_value: 0.0052776337\n",
      "Val Loss= 0.1105\n",
      "Step 83, Loss= 0.1120 h_value: 0.0044908524\n",
      "Val Loss= 0.1168\n",
      "Step 84, Loss= 0.1190 h_value: 0.0044841766\n",
      "Val Loss= 0.1188\n",
      "Step 85, Loss= 0.1198 h_value: 0.004852295\n",
      "Val Loss= 0.1111\n",
      "Step 86, Loss= 0.1134 h_value: 0.0057048798\n",
      "Val Loss= 0.1139\n",
      "Step 87, Loss= 0.1167 h_value: 0.004995346\n",
      "Val Loss= 0.1118\n",
      "Step 88, Loss= 0.1143 h_value: 0.0044794083\n",
      "Val Loss= 0.1162\n",
      "Step 89, Loss= 0.1173 h_value: 0.004436493\n",
      "Val Loss= 0.1197\n",
      "Step 90, Loss= 0.1213 h_value: 0.005431175\n",
      "Val Loss= 0.1117\n",
      "Step 91, Loss= 0.1137 h_value: 0.004629135\n",
      "Val Loss= 0.1121\n",
      "Step 92, Loss= 0.1154 h_value: 0.0040798187\n",
      "Val Loss= 0.1191\n",
      "Step 93, Loss= 0.1214 h_value: 0.005290985\n",
      "Val Loss= 0.1151\n",
      "Step 94, Loss= 0.1175 h_value: 0.0045757294\n",
      "Val Loss= 0.1154\n",
      "Step 95, Loss= 0.1187 h_value: 0.0051221848\n",
      "Val Loss= 0.1191\n",
      "Step 96, Loss= 0.1218 h_value: 0.004548073\n",
      "Val Loss= 0.1119\n",
      "Step 97, Loss= 0.1145 h_value: 0.0050907135\n",
      "Val Loss= 0.1118\n",
      "Step 98, Loss= 0.1139 h_value: 0.006497383\n",
      "Val Loss= 0.1119\n",
      "Step 99, Loss= 0.1151 h_value: 0.0059518814\n",
      "Val Loss= 0.1105\n",
      "Step 100, Loss= 0.1126 h_value: 0.0065555573\n",
      "Val Loss= 0.1132\n",
      "Step 101, Loss= 0.1155 h_value: 0.0062122345\n",
      "Val Loss= 0.1219\n",
      "Step 102, Loss= 0.1235 h_value: 0.0062770844\n",
      "Val Loss= 0.1136\n",
      "Step 103, Loss= 0.1159 h_value: 0.0048532486\n",
      "Val Loss= 0.1166\n",
      "Step 104, Loss= 0.1189 h_value: 0.0054655075\n",
      "Val Loss= 0.1095\n",
      "Saving model\n",
      "Step 105, Loss= 0.1131 h_value: 0.005932808\n",
      "Val Loss= 0.1108\n",
      "Step 106, Loss= 0.1129 h_value: 0.0063877106\n",
      "Val Loss= 0.1164\n",
      "Step 107, Loss= 0.1192 h_value: 0.0054483414\n",
      "Val Loss= 0.1150\n",
      "Step 108, Loss= 0.1178 h_value: 0.0052862167\n",
      "Val Loss= 0.1119\n",
      "Step 109, Loss= 0.1137 h_value: 0.0058574677\n",
      "Val Loss= 0.1181\n",
      "Step 110, Loss= 0.1214 h_value: 0.005965233\n",
      "Val Loss= 0.1203\n",
      "Step 111, Loss= 0.1226 h_value: 0.006091118\n",
      "Val Loss= 0.1106\n",
      "Step 112, Loss= 0.1129 h_value: 0.0062446594\n",
      "Val Loss= 0.1133\n",
      "Step 113, Loss= 0.1172 h_value: 0.00568676\n",
      "Val Loss= 0.1107\n",
      "Step 114, Loss= 0.1137 h_value: 0.0064229965\n",
      "Val Loss= 0.1125\n",
      "Step 115, Loss= 0.1156 h_value: 0.0064516068\n",
      "Val Loss= 0.1125\n",
      "Step 116, Loss= 0.1159 h_value: 0.0059432983\n",
      "Val Loss= 0.1212\n",
      "Step 117, Loss= 0.1223 h_value: 0.006105423\n",
      "Val Loss= 0.1221\n",
      "Step 118, Loss= 0.1244 h_value: 0.005300522\n",
      "Val Loss= 0.1130\n",
      "Step 119, Loss= 0.1153 h_value: 0.0056324005\n",
      "Val Loss= 0.1124\n",
      "Step 120, Loss= 0.1143 h_value: 0.005627632\n",
      "Val Loss= 0.1112\n",
      "Step 121, Loss= 0.1138 h_value: 0.0055856705\n",
      "Val Loss= 0.1128\n",
      "Step 122, Loss= 0.1161 h_value: 0.005669594\n",
      "Val Loss= 0.1139\n",
      "Step 123, Loss= 0.1167 h_value: 0.0054912567\n",
      "Val Loss= 0.1106\n",
      "Step 124, Loss= 0.1134 h_value: 0.00596714\n",
      "Val Loss= 0.1148\n",
      "Step 125, Loss= 0.1186 h_value: 0.0058965683\n",
      "Val Loss= 0.1134\n",
      "Step 126, Loss= 0.1160 h_value: 0.005883217\n",
      "Val Loss= 0.1134\n",
      "Step 127, Loss= 0.1143 h_value: 0.0060920715\n",
      "Val Loss= 0.1135\n",
      "Step 128, Loss= 0.1152 h_value: 0.0060682297\n",
      "Val Loss= 0.1122\n",
      "Step 129, Loss= 0.1140 h_value: 0.0075273514\n",
      "Val Loss= 0.1136\n",
      "Step 130, Loss= 0.1151 h_value: 0.0057258606\n",
      "Val Loss= 0.1116\n",
      "Step 131, Loss= 0.1146 h_value: 0.005508423\n",
      "Val Loss= 0.1147\n",
      "Step 132, Loss= 0.1165 h_value: 0.0061016083\n",
      "Val Loss= 0.1098\n",
      "Step 133, Loss= 0.1131 h_value: 0.0053625107\n",
      "Val Loss= 0.1131\n",
      "Step 134, Loss= 0.1147 h_value: 0.0051374435\n",
      "Val Loss= 0.1127\n",
      "Step 135, Loss= 0.1145 h_value: 0.0067005157\n",
      "Val Loss= 0.1116\n",
      "Step 136, Loss= 0.1140 h_value: 0.006029129\n",
      "Val Loss= 0.1104\n",
      "Step 137, Loss= 0.1127 h_value: 0.005595207\n",
      "Val Loss= 0.1167\n",
      "Step 138, Loss= 0.1192 h_value: 0.0060367584\n",
      "Val Loss= 0.1109\n",
      "Step 139, Loss= 0.1134 h_value: 0.0061006546\n",
      "Val Loss= 0.1109\n",
      "Step 140, Loss= 0.1133 h_value: 0.0055150986\n",
      "Val Loss= 0.1120\n",
      "Step 141, Loss= 0.1140 h_value: 0.0053691864\n",
      "Val Loss= 0.1107\n",
      "Step 142, Loss= 0.1143 h_value: 0.0051088333\n",
      "Val Loss= 0.1129\n",
      "Step 143, Loss= 0.1143 h_value: 0.0052757263\n",
      "Val Loss= 0.1145\n",
      "Step 144, Loss= 0.1164 h_value: 0.0047063828\n",
      "Val Loss= 0.1131\n",
      "Step 145, Loss= 0.1157 h_value: 0.0049819946\n",
      "Val Loss= 0.1128\n",
      "Step 146, Loss= 0.1140 h_value: 0.0050525665\n",
      "Val Loss= 0.1115\n",
      "Step 147, Loss= 0.1137 h_value: 0.005590439\n",
      "Val Loss= 0.1142\n",
      "Step 148, Loss= 0.1161 h_value: 0.005888939\n",
      "Val Loss= 0.1104\n",
      "Step 149, Loss= 0.1132 h_value: 0.004588127\n",
      "Val Loss= 0.1136\n",
      "Step 150, Loss= 0.1167 h_value: 0.0054044724\n",
      "Val Loss= 0.1156\n",
      "Step 151, Loss= 0.1194 h_value: 0.005382538\n",
      "Val Loss= 0.1124\n",
      "Step 152, Loss= 0.1139 h_value: 0.003931999\n",
      "Val Loss= 0.1109\n",
      "Step 153, Loss= 0.1144 h_value: 0.0046491623\n",
      "Val Loss= 0.1093\n",
      "Saving model\n",
      "Step 154, Loss= 0.1124 h_value: 0.0055150986\n",
      "Val Loss= 0.1102\n",
      "Step 155, Loss= 0.1128 h_value: 0.004957199\n",
      "Val Loss= 0.1116\n",
      "Step 156, Loss= 0.1139 h_value: 0.004732132\n",
      "Val Loss= 0.1195\n",
      "Step 157, Loss= 0.1224 h_value: 0.0044345856\n",
      "Val Loss= 0.1156\n",
      "Step 158, Loss= 0.1183 h_value: 0.004752159\n",
      "Val Loss= 0.1115\n",
      "Step 159, Loss= 0.1143 h_value: 0.005039215\n",
      "Val Loss= 0.1145\n",
      "Step 160, Loss= 0.1169 h_value: 0.005138397\n",
      "Val Loss= 0.1147\n",
      "Step 161, Loss= 0.1179 h_value: 0.004183769\n",
      "Val Loss= 0.1100\n",
      "Step 162, Loss= 0.1119 h_value: 0.004917145\n",
      "Val Loss= 0.1103\n",
      "Step 163, Loss= 0.1123 h_value: 0.005788803\n",
      "Val Loss= 0.1113\n",
      "Step 164, Loss= 0.1137 h_value: 0.0052309036\n",
      "Val Loss= 0.1126\n",
      "Step 165, Loss= 0.1141 h_value: 0.0042734146\n",
      "Val Loss= 0.1149\n",
      "Step 166, Loss= 0.1181 h_value: 0.0041217804\n",
      "Val Loss= 0.1135\n",
      "Step 167, Loss= 0.1148 h_value: 0.004922867\n",
      "Val Loss= 0.1147\n",
      "Step 168, Loss= 0.1163 h_value: 0.0044841766\n",
      "Val Loss= 0.1132\n",
      "Step 169, Loss= 0.1164 h_value: 0.005054474\n",
      "Val Loss= 0.1117\n",
      "Step 170, Loss= 0.1151 h_value: 0.004880905\n",
      "Val Loss= 0.1080\n",
      "Saving model\n",
      "Step 171, Loss= 0.1114 h_value: 0.0040750504\n",
      "Val Loss= 0.1100\n",
      "Step 172, Loss= 0.1127 h_value: 0.005303383\n",
      "Val Loss= 0.1206\n",
      "Step 173, Loss= 0.1232 h_value: 0.0046110153\n",
      "Val Loss= 0.1151\n",
      "Step 174, Loss= 0.1176 h_value: 0.004345894\n",
      "Val Loss= 0.1129\n",
      "Step 175, Loss= 0.1154 h_value: 0.0052547455\n",
      "Val Loss= 0.1111\n",
      "Step 176, Loss= 0.1131 h_value: 0.004670143\n",
      "Val Loss= 0.1152\n",
      "Step 177, Loss= 0.1167 h_value: 0.0040826797\n",
      "Val Loss= 0.1153\n",
      "Step 178, Loss= 0.1175 h_value: 0.0041799545\n",
      "Val Loss= 0.1124\n",
      "Step 179, Loss= 0.1154 h_value: 0.0053253174\n",
      "Val Loss= 0.1104\n",
      "Step 180, Loss= 0.1128 h_value: 0.0039634705\n",
      "Val Loss= 0.1137\n",
      "Step 181, Loss= 0.1167 h_value: 0.004712105\n",
      "Val Loss= 0.1143\n",
      "Step 182, Loss= 0.1172 h_value: 0.005645752\n",
      "Val Loss= 0.1129\n",
      "Step 183, Loss= 0.1151 h_value: 0.004817009\n",
      "Val Loss= 0.1129\n",
      "Step 184, Loss= 0.1151 h_value: 0.004011154\n",
      "Val Loss= 0.1128\n",
      "Step 185, Loss= 0.1149 h_value: 0.0041894913\n",
      "Val Loss= 0.1166\n",
      "Step 186, Loss= 0.1182 h_value: 0.004096985\n",
      "Val Loss= 0.1079\n",
      "Saving model\n",
      "Step 187, Loss= 0.1113 h_value: 0.004641533\n",
      "Val Loss= 0.1114\n",
      "Step 188, Loss= 0.1153 h_value: 0.0039987564\n",
      "Val Loss= 0.1111\n",
      "Step 189, Loss= 0.1135 h_value: 0.004544258\n",
      "Val Loss= 0.1144\n",
      "Step 190, Loss= 0.1156 h_value: 0.0048532486\n",
      "Val Loss= 0.1103\n",
      "Step 191, Loss= 0.1122 h_value: 0.004058838\n",
      "Val Loss= 0.1168\n",
      "Step 192, Loss= 0.1198 h_value: 0.0044851303\n",
      "Val Loss= 0.1130\n",
      "Step 193, Loss= 0.1157 h_value: 0.0053215027\n",
      "Val Loss= 0.1194\n",
      "Step 194, Loss= 0.1216 h_value: 0.004667282\n",
      "Val Loss= 0.1152\n",
      "Step 195, Loss= 0.1182 h_value: 0.005338669\n",
      "Val Loss= 0.1113\n",
      "Step 196, Loss= 0.1145 h_value: 0.0051460266\n",
      "Val Loss= 0.1146\n",
      "Step 197, Loss= 0.1175 h_value: 0.0061206818\n",
      "Val Loss= 0.1110\n",
      "Step 198, Loss= 0.1144 h_value: 0.005270958\n",
      "Val Loss= 0.1151\n",
      "Step 199, Loss= 0.1202 h_value: 0.0046453476\n",
      "Val Loss= 0.1134\n",
      "Step 200, Loss= 0.1154 h_value: 0.0051603317\n",
      "Val Loss= 0.1160\n",
      "Step 201, Loss= 0.1183 h_value: 0.0058403015\n",
      "Val Loss= 0.1157\n",
      "Step 202, Loss= 0.1189 h_value: 0.005517006\n",
      "Val Loss= 0.1132\n",
      "Step 203, Loss= 0.1157 h_value: 0.0044107437\n",
      "Val Loss= 0.1156\n",
      "Step 204, Loss= 0.1177 h_value: 0.005091667\n",
      "Val Loss= 0.1125\n",
      "Step 205, Loss= 0.1155 h_value: 0.0037975311\n",
      "Val Loss= 0.1156\n",
      "Step 206, Loss= 0.1199 h_value: 0.0038423538\n",
      "Val Loss= 0.1090\n",
      "Step 207, Loss= 0.1116 h_value: 0.0042819977\n",
      "Val Loss= 0.1186\n",
      "Step 208, Loss= 0.1205 h_value: 0.0040769577\n",
      "Val Loss= 0.1125\n",
      "Step 209, Loss= 0.1164 h_value: 0.004501343\n",
      "Val Loss= 0.1120\n",
      "Step 210, Loss= 0.1147 h_value: 0.004796982\n",
      "Val Loss= 0.1136\n",
      "Step 211, Loss= 0.1164 h_value: 0.004303932\n",
      "Val Loss= 0.1193\n",
      "Step 212, Loss= 0.1214 h_value: 0.005077362\n",
      "Val Loss= 0.1142\n",
      "Step 213, Loss= 0.1178 h_value: 0.0050678253\n",
      "Val Loss= 0.1129\n",
      "Step 214, Loss= 0.1148 h_value: 0.004509926\n",
      "Val Loss= 0.1110\n",
      "Step 215, Loss= 0.1137 h_value: 0.0043535233\n",
      "Val Loss= 0.1157\n",
      "Step 216, Loss= 0.1193 h_value: 0.005880356\n",
      "Val Loss= 0.1214\n",
      "Step 217, Loss= 0.1226 h_value: 0.004193306\n",
      "Val Loss= 0.1181\n",
      "Step 218, Loss= 0.1204 h_value: 0.0038108826\n",
      "Val Loss= 0.1108\n",
      "Step 219, Loss= 0.1133 h_value: 0.004488945\n",
      "Val Loss= 0.1116\n",
      "Step 220, Loss= 0.1143 h_value: 0.005358696\n",
      "Val Loss= 0.1134\n",
      "Step 221, Loss= 0.1164 h_value: 0.005428314\n",
      "Val Loss= 0.1153\n",
      "Step 222, Loss= 0.1166 h_value: 0.0051651\n",
      "Val Loss= 0.1119\n",
      "Step 223, Loss= 0.1144 h_value: 0.004749298\n",
      "Val Loss= 0.1181\n",
      "Step 224, Loss= 0.1216 h_value: 0.005355835\n",
      "Val Loss= 0.1096\n",
      "Step 225, Loss= 0.1122 h_value: 0.005200386\n",
      "Val Loss= 0.1160\n",
      "Step 226, Loss= 0.1196 h_value: 0.0054483414\n",
      "Val Loss= 0.1129\n",
      "Step 227, Loss= 0.1154 h_value: 0.0049533844\n",
      "Val Loss= 0.1103\n",
      "Step 228, Loss= 0.1126 h_value: 0.0047101974\n",
      "Val Loss= 0.1209\n",
      "Step 229, Loss= 0.1249 h_value: 0.0043153763\n",
      "Val Loss= 0.1132\n",
      "Step 230, Loss= 0.1151 h_value: 0.004682541\n",
      "Val Loss= 0.1155\n",
      "Step 231, Loss= 0.1168 h_value: 0.004688263\n",
      "Val Loss= 0.1170\n",
      "Step 232, Loss= 0.1198 h_value: 0.004808426\n",
      "Val Loss= 0.1144\n",
      "Step 233, Loss= 0.1163 h_value: 0.0043992996\n",
      "Val Loss= 0.1198\n",
      "Step 234, Loss= 0.1211 h_value: 0.0046977997\n",
      "Val Loss= 0.1136\n",
      "Step 235, Loss= 0.1168 h_value: 0.0043201447\n",
      "Val Loss= 0.1120\n",
      "Step 236, Loss= 0.1140 h_value: 0.004368782\n",
      "Val Loss= 0.1135\n",
      "Step 237, Loss= 0.1161 h_value: 0.004090309\n",
      "Val Loss= 0.1127\n",
      "Early stopping\n",
      "INFO:tensorflow:Restoring parameters from ./models/adult.ckpt\n",
      "MSE =  0.1079471736242966\n"
     ]
    },
    {
     "data": {
      "text/html": [
       "<style  type=\"text/css\" >\n",
       "#T_156ba5e4_778f_11ec_84a1_0c9d92c473d6row0_col0,#T_156ba5e4_778f_11ec_84a1_0c9d92c473d6row0_col4,#T_156ba5e4_778f_11ec_84a1_0c9d92c473d6row1_col1,#T_156ba5e4_778f_11ec_84a1_0c9d92c473d6row1_col2,#T_156ba5e4_778f_11ec_84a1_0c9d92c473d6row1_col4,#T_156ba5e4_778f_11ec_84a1_0c9d92c473d6row2_col2,#T_156ba5e4_778f_11ec_84a1_0c9d92c473d6row2_col4,#T_156ba5e4_778f_11ec_84a1_0c9d92c473d6row3_col2,#T_156ba5e4_778f_11ec_84a1_0c9d92c473d6row3_col3,#T_156ba5e4_778f_11ec_84a1_0c9d92c473d6row3_col4,#T_156ba5e4_778f_11ec_84a1_0c9d92c473d6row4_col2,#T_156ba5e4_778f_11ec_84a1_0c9d92c473d6row4_col4,#T_156ba5e4_778f_11ec_84a1_0c9d92c473d6row5_col5,#T_156ba5e4_778f_11ec_84a1_0c9d92c473d6row6_col2,#T_156ba5e4_778f_11ec_84a1_0c9d92c473d6row6_col4,#T_156ba5e4_778f_11ec_84a1_0c9d92c473d6row6_col6,#T_156ba5e4_778f_11ec_84a1_0c9d92c473d6row7_col4,#T_156ba5e4_778f_11ec_84a1_0c9d92c473d6row7_col7,#T_156ba5e4_778f_11ec_84a1_0c9d92c473d6row8_col2,#T_156ba5e4_778f_11ec_84a1_0c9d92c473d6row8_col4,#T_156ba5e4_778f_11ec_84a1_0c9d92c473d6row8_col8,#T_156ba5e4_778f_11ec_84a1_0c9d92c473d6row8_col12,#T_156ba5e4_778f_11ec_84a1_0c9d92c473d6row9_col4,#T_156ba5e4_778f_11ec_84a1_0c9d92c473d6row9_col9,#T_156ba5e4_778f_11ec_84a1_0c9d92c473d6row10_col2,#T_156ba5e4_778f_11ec_84a1_0c9d92c473d6row10_col4,#T_156ba5e4_778f_11ec_84a1_0c9d92c473d6row10_col10,#T_156ba5e4_778f_11ec_84a1_0c9d92c473d6row11_col11,#T_156ba5e4_778f_11ec_84a1_0c9d92c473d6row12_col2,#T_156ba5e4_778f_11ec_84a1_0c9d92c473d6row12_col4,#T_156ba5e4_778f_11ec_84a1_0c9d92c473d6row12_col12,#T_156ba5e4_778f_11ec_84a1_0c9d92c473d6row13_col2,#T_156ba5e4_778f_11ec_84a1_0c9d92c473d6row13_col4,#T_156ba5e4_778f_11ec_84a1_0c9d92c473d6row13_col13,#T_156ba5e4_778f_11ec_84a1_0c9d92c473d6row14_col2,#T_156ba5e4_778f_11ec_84a1_0c9d92c473d6row14_col4,#T_156ba5e4_778f_11ec_84a1_0c9d92c473d6row14_col14{\n",
       "            background-color:  #f0f1f3;\n",
       "            color:  #000000;\n",
       "        }#T_156ba5e4_778f_11ec_84a1_0c9d92c473d6row0_col1{\n",
       "            background-color:  #cdd7e0;\n",
       "            color:  #000000;\n",
       "        }#T_156ba5e4_778f_11ec_84a1_0c9d92c473d6row0_col2,#T_156ba5e4_778f_11ec_84a1_0c9d92c473d6row3_col0,#T_156ba5e4_778f_11ec_84a1_0c9d92c473d6row4_col0,#T_156ba5e4_778f_11ec_84a1_0c9d92c473d6row7_col0,#T_156ba5e4_778f_11ec_84a1_0c9d92c473d6row12_col7,#T_156ba5e4_778f_11ec_84a1_0c9d92c473d6row12_col13,#T_156ba5e4_778f_11ec_84a1_0c9d92c473d6row14_col0,#T_156ba5e4_778f_11ec_84a1_0c9d92c473d6row14_col5,#T_156ba5e4_778f_11ec_84a1_0c9d92c473d6row14_col13{\n",
       "            background-color:  #e8ebef;\n",
       "            color:  #000000;\n",
       "        }#T_156ba5e4_778f_11ec_84a1_0c9d92c473d6row0_col3,#T_156ba5e4_778f_11ec_84a1_0c9d92c473d6row0_col6,#T_156ba5e4_778f_11ec_84a1_0c9d92c473d6row2_col6,#T_156ba5e4_778f_11ec_84a1_0c9d92c473d6row6_col9,#T_156ba5e4_778f_11ec_84a1_0c9d92c473d6row7_col3,#T_156ba5e4_778f_11ec_84a1_0c9d92c473d6row11_col1{\n",
       "            background-color:  #e4e8ed;\n",
       "            color:  #000000;\n",
       "        }#T_156ba5e4_778f_11ec_84a1_0c9d92c473d6row0_col5,#T_156ba5e4_778f_11ec_84a1_0c9d92c473d6row5_col2,#T_156ba5e4_778f_11ec_84a1_0c9d92c473d6row9_col2,#T_156ba5e4_778f_11ec_84a1_0c9d92c473d6row9_col5,#T_156ba5e4_778f_11ec_84a1_0c9d92c473d6row11_col2,#T_156ba5e4_778f_11ec_84a1_0c9d92c473d6row11_col3,#T_156ba5e4_778f_11ec_84a1_0c9d92c473d6row12_col14{\n",
       "            background-color:  #edeff1;\n",
       "            color:  #000000;\n",
       "        }#T_156ba5e4_778f_11ec_84a1_0c9d92c473d6row0_col7,#T_156ba5e4_778f_11ec_84a1_0c9d92c473d6row4_col14,#T_156ba5e4_778f_11ec_84a1_0c9d92c473d6row8_col7,#T_156ba5e4_778f_11ec_84a1_0c9d92c473d6row10_col13,#T_156ba5e4_778f_11ec_84a1_0c9d92c473d6row13_col8{\n",
       "            background-color:  #dee3e9;\n",
       "            color:  #000000;\n",
       "        }#T_156ba5e4_778f_11ec_84a1_0c9d92c473d6row0_col8,#T_156ba5e4_778f_11ec_84a1_0c9d92c473d6row0_col9,#T_156ba5e4_778f_11ec_84a1_0c9d92c473d6row0_col10,#T_156ba5e4_778f_11ec_84a1_0c9d92c473d6row0_col14,#T_156ba5e4_778f_11ec_84a1_0c9d92c473d6row1_col9,#T_156ba5e4_778f_11ec_84a1_0c9d92c473d6row4_col8,#T_156ba5e4_778f_11ec_84a1_0c9d92c473d6row4_col12,#T_156ba5e4_778f_11ec_84a1_0c9d92c473d6row6_col12,#T_156ba5e4_778f_11ec_84a1_0c9d92c473d6row6_col13,#T_156ba5e4_778f_11ec_84a1_0c9d92c473d6row9_col7,#T_156ba5e4_778f_11ec_84a1_0c9d92c473d6row13_col7,#T_156ba5e4_778f_11ec_84a1_0c9d92c473d6row14_col7{\n",
       "            background-color:  #e5e9ed;\n",
       "            color:  #000000;\n",
       "        }#T_156ba5e4_778f_11ec_84a1_0c9d92c473d6row0_col11,#T_156ba5e4_778f_11ec_84a1_0c9d92c473d6row1_col13,#T_156ba5e4_778f_11ec_84a1_0c9d92c473d6row2_col7,#T_156ba5e4_778f_11ec_84a1_0c9d92c473d6row4_col5,#T_156ba5e4_778f_11ec_84a1_0c9d92c473d6row5_col4,#T_156ba5e4_778f_11ec_84a1_0c9d92c473d6row6_col0,#T_156ba5e4_778f_11ec_84a1_0c9d92c473d6row6_col1,#T_156ba5e4_778f_11ec_84a1_0c9d92c473d6row6_col8,#T_156ba5e4_778f_11ec_84a1_0c9d92c473d6row7_col2,#T_156ba5e4_778f_11ec_84a1_0c9d92c473d6row8_col6,#T_156ba5e4_778f_11ec_84a1_0c9d92c473d6row8_col10,#T_156ba5e4_778f_11ec_84a1_0c9d92c473d6row9_col3,#T_156ba5e4_778f_11ec_84a1_0c9d92c473d6row9_col14,#T_156ba5e4_778f_11ec_84a1_0c9d92c473d6row11_col12,#T_156ba5e4_778f_11ec_84a1_0c9d92c473d6row14_col9{\n",
       "            background-color:  #47739a;\n",
       "            color:  #000000;\n",
       "        }#T_156ba5e4_778f_11ec_84a1_0c9d92c473d6row0_col12,#T_156ba5e4_778f_11ec_84a1_0c9d92c473d6row1_col6{\n",
       "            background-color:  #688cab;\n",
       "            color:  #000000;\n",
       "        }#T_156ba5e4_778f_11ec_84a1_0c9d92c473d6row0_col13,#T_156ba5e4_778f_11ec_84a1_0c9d92c473d6row5_col1{\n",
       "            background-color:  #d2dae3;\n",
       "            color:  #000000;\n",
       "        }#T_156ba5e4_778f_11ec_84a1_0c9d92c473d6row1_col0{\n",
       "            background-color:  #d7dee6;\n",
       "            color:  #000000;\n",
       "        }#T_156ba5e4_778f_11ec_84a1_0c9d92c473d6row1_col3{\n",
       "            background-color:  #becbd8;\n",
       "            color:  #000000;\n",
       "        }#T_156ba5e4_778f_11ec_84a1_0c9d92c473d6row1_col5,#T_156ba5e4_778f_11ec_84a1_0c9d92c473d6row2_col5,#T_156ba5e4_778f_11ec_84a1_0c9d92c473d6row3_col7,#T_156ba5e4_778f_11ec_84a1_0c9d92c473d6row6_col5,#T_156ba5e4_778f_11ec_84a1_0c9d92c473d6row7_col5,#T_156ba5e4_778f_11ec_84a1_0c9d92c473d6row9_col11,#T_156ba5e4_778f_11ec_84a1_0c9d92c473d6row10_col5,#T_156ba5e4_778f_11ec_84a1_0c9d92c473d6row11_col9,#T_156ba5e4_778f_11ec_84a1_0c9d92c473d6row13_col5{\n",
       "            background-color:  #eeeff2;\n",
       "            color:  #000000;\n",
       "        }#T_156ba5e4_778f_11ec_84a1_0c9d92c473d6row1_col7,#T_156ba5e4_778f_11ec_84a1_0c9d92c473d6row3_col13,#T_156ba5e4_778f_11ec_84a1_0c9d92c473d6row4_col9,#T_156ba5e4_778f_11ec_84a1_0c9d92c473d6row6_col7,#T_156ba5e4_778f_11ec_84a1_0c9d92c473d6row6_col14,#T_156ba5e4_778f_11ec_84a1_0c9d92c473d6row7_col6,#T_156ba5e4_778f_11ec_84a1_0c9d92c473d6row8_col11,#T_156ba5e4_778f_11ec_84a1_0c9d92c473d6row9_col12,#T_156ba5e4_778f_11ec_84a1_0c9d92c473d6row11_col5,#T_156ba5e4_778f_11ec_84a1_0c9d92c473d6row12_col5,#T_156ba5e4_778f_11ec_84a1_0c9d92c473d6row12_col9{\n",
       "            background-color:  #ebedf0;\n",
       "            color:  #000000;\n",
       "        }#T_156ba5e4_778f_11ec_84a1_0c9d92c473d6row1_col8{\n",
       "            background-color:  #ccd6e0;\n",
       "            color:  #000000;\n",
       "        }#T_156ba5e4_778f_11ec_84a1_0c9d92c473d6row1_col10,#T_156ba5e4_778f_11ec_84a1_0c9d92c473d6row2_col11,#T_156ba5e4_778f_11ec_84a1_0c9d92c473d6row3_col6,#T_156ba5e4_778f_11ec_84a1_0c9d92c473d6row5_col3{\n",
       "            background-color:  #dfe4ea;\n",
       "            color:  #000000;\n",
       "        }#T_156ba5e4_778f_11ec_84a1_0c9d92c473d6row1_col11{\n",
       "            background-color:  #dae1e7;\n",
       "            color:  #000000;\n",
       "        }#T_156ba5e4_778f_11ec_84a1_0c9d92c473d6row1_col12,#T_156ba5e4_778f_11ec_84a1_0c9d92c473d6row6_col11,#T_156ba5e4_778f_11ec_84a1_0c9d92c473d6row8_col13,#T_156ba5e4_778f_11ec_84a1_0c9d92c473d6row10_col12,#T_156ba5e4_778f_11ec_84a1_0c9d92c473d6row13_col12{\n",
       "            background-color:  #d5dde5;\n",
       "            color:  #000000;\n",
       "        }#T_156ba5e4_778f_11ec_84a1_0c9d92c473d6row1_col14,#T_156ba5e4_778f_11ec_84a1_0c9d92c473d6row11_col14{\n",
       "            background-color:  #cfd8e1;\n",
       "            color:  #000000;\n",
       "        }#T_156ba5e4_778f_11ec_84a1_0c9d92c473d6row2_col0,#T_156ba5e4_778f_11ec_84a1_0c9d92c473d6row3_col5,#T_156ba5e4_778f_11ec_84a1_0c9d92c473d6row4_col6,#T_156ba5e4_778f_11ec_84a1_0c9d92c473d6row8_col0,#T_156ba5e4_778f_11ec_84a1_0c9d92c473d6row8_col5,#T_156ba5e4_778f_11ec_84a1_0c9d92c473d6row13_col9{\n",
       "            background-color:  #eceef1;\n",
       "            color:  #000000;\n",
       "        }#T_156ba5e4_778f_11ec_84a1_0c9d92c473d6row2_col1,#T_156ba5e4_778f_11ec_84a1_0c9d92c473d6row10_col6,#T_156ba5e4_778f_11ec_84a1_0c9d92c473d6row14_col1{\n",
       "            background-color:  #dde3e9;\n",
       "            color:  #000000;\n",
       "        }#T_156ba5e4_778f_11ec_84a1_0c9d92c473d6row2_col3,#T_156ba5e4_778f_11ec_84a1_0c9d92c473d6row4_col1,#T_156ba5e4_778f_11ec_84a1_0c9d92c473d6row6_col3,#T_156ba5e4_778f_11ec_84a1_0c9d92c473d6row7_col8,#T_156ba5e4_778f_11ec_84a1_0c9d92c473d6row8_col14,#T_156ba5e4_778f_11ec_84a1_0c9d92c473d6row9_col13,#T_156ba5e4_778f_11ec_84a1_0c9d92c473d6row13_col3{\n",
       "            background-color:  #e7eaee;\n",
       "            color:  #000000;\n",
       "        }#T_156ba5e4_778f_11ec_84a1_0c9d92c473d6row2_col8,#T_156ba5e4_778f_11ec_84a1_0c9d92c473d6row3_col11,#T_156ba5e4_778f_11ec_84a1_0c9d92c473d6row4_col13,#T_156ba5e4_778f_11ec_84a1_0c9d92c473d6row7_col14,#T_156ba5e4_778f_11ec_84a1_0c9d92c473d6row11_col13,#T_156ba5e4_778f_11ec_84a1_0c9d92c473d6row13_col14,#T_156ba5e4_778f_11ec_84a1_0c9d92c473d6row14_col8{\n",
       "            background-color:  #e9ecef;\n",
       "            color:  #000000;\n",
       "        }#T_156ba5e4_778f_11ec_84a1_0c9d92c473d6row2_col9,#T_156ba5e4_778f_11ec_84a1_0c9d92c473d6row3_col14,#T_156ba5e4_778f_11ec_84a1_0c9d92c473d6row11_col6,#T_156ba5e4_778f_11ec_84a1_0c9d92c473d6row12_col0,#T_156ba5e4_778f_11ec_84a1_0c9d92c473d6row14_col12{\n",
       "            background-color:  #e0e5ea;\n",
       "            color:  #000000;\n",
       "        }#T_156ba5e4_778f_11ec_84a1_0c9d92c473d6row2_col10,#T_156ba5e4_778f_11ec_84a1_0c9d92c473d6row4_col10,#T_156ba5e4_778f_11ec_84a1_0c9d92c473d6row5_col8,#T_156ba5e4_778f_11ec_84a1_0c9d92c473d6row9_col1,#T_156ba5e4_778f_11ec_84a1_0c9d92c473d6row9_col6{\n",
       "            background-color:  #d4dce4;\n",
       "            color:  #000000;\n",
       "        }#T_156ba5e4_778f_11ec_84a1_0c9d92c473d6row2_col12{\n",
       "            background-color:  #c5d0dc;\n",
       "            color:  #000000;\n",
       "        }#T_156ba5e4_778f_11ec_84a1_0c9d92c473d6row2_col13,#T_156ba5e4_778f_11ec_84a1_0c9d92c473d6row7_col10,#T_156ba5e4_778f_11ec_84a1_0c9d92c473d6row14_col6{\n",
       "            background-color:  #dbe1e8;\n",
       "            color:  #000000;\n",
       "        }#T_156ba5e4_778f_11ec_84a1_0c9d92c473d6row2_col14,#T_156ba5e4_778f_11ec_84a1_0c9d92c473d6row9_col0,#T_156ba5e4_778f_11ec_84a1_0c9d92c473d6row10_col0,#T_156ba5e4_778f_11ec_84a1_0c9d92c473d6row10_col11,#T_156ba5e4_778f_11ec_84a1_0c9d92c473d6row12_col6,#T_156ba5e4_778f_11ec_84a1_0c9d92c473d6row14_col11{\n",
       "            background-color:  #e4e8ec;\n",
       "            color:  #000000;\n",
       "        }#T_156ba5e4_778f_11ec_84a1_0c9d92c473d6row3_col1,#T_156ba5e4_778f_11ec_84a1_0c9d92c473d6row3_col8,#T_156ba5e4_778f_11ec_84a1_0c9d92c473d6row5_col6,#T_156ba5e4_778f_11ec_84a1_0c9d92c473d6row10_col14{\n",
       "            background-color:  #dce2e8;\n",
       "            color:  #000000;\n",
       "        }#T_156ba5e4_778f_11ec_84a1_0c9d92c473d6row3_col9,#T_156ba5e4_778f_11ec_84a1_0c9d92c473d6row4_col3,#T_156ba5e4_778f_11ec_84a1_0c9d92c473d6row11_col7,#T_156ba5e4_778f_11ec_84a1_0c9d92c473d6row14_col10{\n",
       "            background-color:  #d8dfe6;\n",
       "            color:  #000000;\n",
       "        }#T_156ba5e4_778f_11ec_84a1_0c9d92c473d6row3_col10,#T_156ba5e4_778f_11ec_84a1_0c9d92c473d6row4_col7,#T_156ba5e4_778f_11ec_84a1_0c9d92c473d6row9_col10,#T_156ba5e4_778f_11ec_84a1_0c9d92c473d6row12_col10{\n",
       "            background-color:  #e1e5eb;\n",
       "            color:  #000000;\n",
       "        }#T_156ba5e4_778f_11ec_84a1_0c9d92c473d6row3_col12{\n",
       "            background-color:  #cad5df;\n",
       "            color:  #000000;\n",
       "        }#T_156ba5e4_778f_11ec_84a1_0c9d92c473d6row4_col11,#T_156ba5e4_778f_11ec_84a1_0c9d92c473d6row8_col9{\n",
       "            background-color:  #d0d9e2;\n",
       "            color:  #000000;\n",
       "        }#T_156ba5e4_778f_11ec_84a1_0c9d92c473d6row5_col0{\n",
       "            background-color:  #adbfcf;\n",
       "            color:  #000000;\n",
       "        }#T_156ba5e4_778f_11ec_84a1_0c9d92c473d6row5_col7,#T_156ba5e4_778f_11ec_84a1_0c9d92c473d6row13_col10{\n",
       "            background-color:  #a6bacc;\n",
       "            color:  #000000;\n",
       "        }#T_156ba5e4_778f_11ec_84a1_0c9d92c473d6row5_col9{\n",
       "            background-color:  #bbc9d7;\n",
       "            color:  #000000;\n",
       "        }#T_156ba5e4_778f_11ec_84a1_0c9d92c473d6row5_col10{\n",
       "            background-color:  #b6c6d4;\n",
       "            color:  #000000;\n",
       "        }#T_156ba5e4_778f_11ec_84a1_0c9d92c473d6row5_col11{\n",
       "            background-color:  #99b0c5;\n",
       "            color:  #000000;\n",
       "        }#T_156ba5e4_778f_11ec_84a1_0c9d92c473d6row5_col12,#T_156ba5e4_778f_11ec_84a1_0c9d92c473d6row13_col1{\n",
       "            background-color:  #a9bccd;\n",
       "            color:  #000000;\n",
       "        }#T_156ba5e4_778f_11ec_84a1_0c9d92c473d6row5_col13,#T_156ba5e4_778f_11ec_84a1_0c9d92c473d6row8_col3,#T_156ba5e4_778f_11ec_84a1_0c9d92c473d6row9_col8,#T_156ba5e4_778f_11ec_84a1_0c9d92c473d6row12_col8{\n",
       "            background-color:  #e2e6eb;\n",
       "            color:  #000000;\n",
       "        }#T_156ba5e4_778f_11ec_84a1_0c9d92c473d6row5_col14{\n",
       "            background-color:  #7e9cb7;\n",
       "            color:  #000000;\n",
       "        }#T_156ba5e4_778f_11ec_84a1_0c9d92c473d6row6_col10{\n",
       "            background-color:  #4a759b;\n",
       "            color:  #000000;\n",
       "        }#T_156ba5e4_778f_11ec_84a1_0c9d92c473d6row7_col1,#T_156ba5e4_778f_11ec_84a1_0c9d92c473d6row11_col10,#T_156ba5e4_778f_11ec_84a1_0c9d92c473d6row13_col6{\n",
       "            background-color:  #eaecf0;\n",
       "            color:  #000000;\n",
       "        }#T_156ba5e4_778f_11ec_84a1_0c9d92c473d6row7_col9,#T_156ba5e4_778f_11ec_84a1_0c9d92c473d6row11_col4,#T_156ba5e4_778f_11ec_84a1_0c9d92c473d6row11_col8{\n",
       "            background-color:  #eff0f2;\n",
       "            color:  #000000;\n",
       "        }#T_156ba5e4_778f_11ec_84a1_0c9d92c473d6row7_col11,#T_156ba5e4_778f_11ec_84a1_0c9d92c473d6row12_col1,#T_156ba5e4_778f_11ec_84a1_0c9d92c473d6row13_col11{\n",
       "            background-color:  #e6eaee;\n",
       "            color:  #000000;\n",
       "        }#T_156ba5e4_778f_11ec_84a1_0c9d92c473d6row7_col12{\n",
       "            background-color:  #c0cdd9;\n",
       "            color:  #000000;\n",
       "        }#T_156ba5e4_778f_11ec_84a1_0c9d92c473d6row7_col13,#T_156ba5e4_778f_11ec_84a1_0c9d92c473d6row10_col1,#T_156ba5e4_778f_11ec_84a1_0c9d92c473d6row10_col9{\n",
       "            background-color:  #e3e7ec;\n",
       "            color:  #000000;\n",
       "        }#T_156ba5e4_778f_11ec_84a1_0c9d92c473d6row8_col1{\n",
       "            background-color:  #8ca6be;\n",
       "            color:  #000000;\n",
       "        }#T_156ba5e4_778f_11ec_84a1_0c9d92c473d6row10_col3,#T_156ba5e4_778f_11ec_84a1_0c9d92c473d6row12_col3,#T_156ba5e4_778f_11ec_84a1_0c9d92c473d6row12_col11,#T_156ba5e4_778f_11ec_84a1_0c9d92c473d6row13_col0{\n",
       "            background-color:  #d3dbe3;\n",
       "            color:  #000000;\n",
       "        }#T_156ba5e4_778f_11ec_84a1_0c9d92c473d6row10_col7{\n",
       "            background-color:  #d6dee5;\n",
       "            color:  #000000;\n",
       "        }#T_156ba5e4_778f_11ec_84a1_0c9d92c473d6row10_col8{\n",
       "            background-color:  #9ab1c6;\n",
       "            color:  #000000;\n",
       "        }#T_156ba5e4_778f_11ec_84a1_0c9d92c473d6row11_col0{\n",
       "            background-color:  #698cac;\n",
       "            color:  #000000;\n",
       "        }#T_156ba5e4_778f_11ec_84a1_0c9d92c473d6row14_col3{\n",
       "            background-color:  #547ca0;\n",
       "            color:  #000000;\n",
       "        }</style><table id=\"T_156ba5e4_778f_11ec_84a1_0c9d92c473d6\" ><thead>    <tr>        <th class=\"blank level0\" ></th>        <th class=\"col_heading level0 col0\" >0</th>        <th class=\"col_heading level0 col1\" >1</th>        <th class=\"col_heading level0 col2\" >2</th>        <th class=\"col_heading level0 col3\" >3</th>        <th class=\"col_heading level0 col4\" >4</th>        <th class=\"col_heading level0 col5\" >5</th>        <th class=\"col_heading level0 col6\" >6</th>        <th class=\"col_heading level0 col7\" >7</th>        <th class=\"col_heading level0 col8\" >8</th>        <th class=\"col_heading level0 col9\" >9</th>        <th class=\"col_heading level0 col10\" >10</th>        <th class=\"col_heading level0 col11\" >11</th>        <th class=\"col_heading level0 col12\" >12</th>        <th class=\"col_heading level0 col13\" >13</th>        <th class=\"col_heading level0 col14\" >14</th>    </tr></thead><tbody>\n",
       "                <tr>\n",
       "                        <th id=\"T_156ba5e4_778f_11ec_84a1_0c9d92c473d6level0_row0\" class=\"row_heading level0 row0\" >0</th>\n",
       "                        <td id=\"T_156ba5e4_778f_11ec_84a1_0c9d92c473d6row0_col0\" class=\"data row0 col0\" >0.0</td>\n",
       "                        <td id=\"T_156ba5e4_778f_11ec_84a1_0c9d92c473d6row0_col1\" class=\"data row0 col1\" >0.024</td>\n",
       "                        <td id=\"T_156ba5e4_778f_11ec_84a1_0c9d92c473d6row0_col2\" class=\"data row0 col2\" >0.009</td>\n",
       "                        <td id=\"T_156ba5e4_778f_11ec_84a1_0c9d92c473d6row0_col3\" class=\"data row0 col3\" >0.004</td>\n",
       "                        <td id=\"T_156ba5e4_778f_11ec_84a1_0c9d92c473d6row0_col4\" class=\"data row0 col4\" >0.0</td>\n",
       "                        <td id=\"T_156ba5e4_778f_11ec_84a1_0c9d92c473d6row0_col5\" class=\"data row0 col5\" >0.009</td>\n",
       "                        <td id=\"T_156ba5e4_778f_11ec_84a1_0c9d92c473d6row0_col6\" class=\"data row0 col6\" >0.009</td>\n",
       "                        <td id=\"T_156ba5e4_778f_11ec_84a1_0c9d92c473d6row0_col7\" class=\"data row0 col7\" >0.007</td>\n",
       "                        <td id=\"T_156ba5e4_778f_11ec_84a1_0c9d92c473d6row0_col8\" class=\"data row0 col8\" >0.006</td>\n",
       "                        <td id=\"T_156ba5e4_778f_11ec_84a1_0c9d92c473d6row0_col9\" class=\"data row0 col9\" >0.008</td>\n",
       "                        <td id=\"T_156ba5e4_778f_11ec_84a1_0c9d92c473d6row0_col10\" class=\"data row0 col10\" >0.005</td>\n",
       "                        <td id=\"T_156ba5e4_778f_11ec_84a1_0c9d92c473d6row0_col11\" class=\"data row0 col11\" >0.068</td>\n",
       "                        <td id=\"T_156ba5e4_778f_11ec_84a1_0c9d92c473d6row0_col12\" class=\"data row0 col12\" >0.025</td>\n",
       "                        <td id=\"T_156ba5e4_778f_11ec_84a1_0c9d92c473d6row0_col13\" class=\"data row0 col13\" >0.023</td>\n",
       "                        <td id=\"T_156ba5e4_778f_11ec_84a1_0c9d92c473d6row0_col14\" class=\"data row0 col14\" >0.006</td>\n",
       "            </tr>\n",
       "            <tr>\n",
       "                        <th id=\"T_156ba5e4_778f_11ec_84a1_0c9d92c473d6level0_row1\" class=\"row_heading level0 row1\" >1</th>\n",
       "                        <td id=\"T_156ba5e4_778f_11ec_84a1_0c9d92c473d6row1_col0\" class=\"data row1 col0\" >0.006</td>\n",
       "                        <td id=\"T_156ba5e4_778f_11ec_84a1_0c9d92c473d6row1_col1\" class=\"data row1 col1\" >0.0</td>\n",
       "                        <td id=\"T_156ba5e4_778f_11ec_84a1_0c9d92c473d6row1_col2\" class=\"data row1 col2\" >0.0</td>\n",
       "                        <td id=\"T_156ba5e4_778f_11ec_84a1_0c9d92c473d6row1_col3\" class=\"data row1 col3\" >0.017</td>\n",
       "                        <td id=\"T_156ba5e4_778f_11ec_84a1_0c9d92c473d6row1_col4\" class=\"data row1 col4\" >0.0</td>\n",
       "                        <td id=\"T_156ba5e4_778f_11ec_84a1_0c9d92c473d6row1_col5\" class=\"data row1 col5\" >0.007</td>\n",
       "                        <td id=\"T_156ba5e4_778f_11ec_84a1_0c9d92c473d6row1_col6\" class=\"data row1 col6\" >0.108</td>\n",
       "                        <td id=\"T_156ba5e4_778f_11ec_84a1_0c9d92c473d6row1_col7\" class=\"data row1 col7\" >0.002</td>\n",
       "                        <td id=\"T_156ba5e4_778f_11ec_84a1_0c9d92c473d6row1_col8\" class=\"data row1 col8\" >0.02</td>\n",
       "                        <td id=\"T_156ba5e4_778f_11ec_84a1_0c9d92c473d6row1_col9\" class=\"data row1 col9\" >0.008</td>\n",
       "                        <td id=\"T_156ba5e4_778f_11ec_84a1_0c9d92c473d6row1_col10\" class=\"data row1 col10\" >0.008</td>\n",
       "                        <td id=\"T_156ba5e4_778f_11ec_84a1_0c9d92c473d6row1_col11\" class=\"data row1 col11\" >0.009</td>\n",
       "                        <td id=\"T_156ba5e4_778f_11ec_84a1_0c9d92c473d6row1_col12\" class=\"data row1 col12\" >0.005</td>\n",
       "                        <td id=\"T_156ba5e4_778f_11ec_84a1_0c9d92c473d6row1_col13\" class=\"data row1 col13\" >0.127</td>\n",
       "                        <td id=\"T_156ba5e4_778f_11ec_84a1_0c9d92c473d6row1_col14\" class=\"data row1 col14\" >0.018</td>\n",
       "            </tr>\n",
       "            <tr>\n",
       "                        <th id=\"T_156ba5e4_778f_11ec_84a1_0c9d92c473d6level0_row2\" class=\"row_heading level0 row2\" >2</th>\n",
       "                        <td id=\"T_156ba5e4_778f_11ec_84a1_0c9d92c473d6row2_col0\" class=\"data row2 col0\" >0.001</td>\n",
       "                        <td id=\"T_156ba5e4_778f_11ec_84a1_0c9d92c473d6row2_col1\" class=\"data row2 col1\" >0.013</td>\n",
       "                        <td id=\"T_156ba5e4_778f_11ec_84a1_0c9d92c473d6row2_col2\" class=\"data row2 col2\" >0.0</td>\n",
       "                        <td id=\"T_156ba5e4_778f_11ec_84a1_0c9d92c473d6row2_col3\" class=\"data row2 col3\" >0.003</td>\n",
       "                        <td id=\"T_156ba5e4_778f_11ec_84a1_0c9d92c473d6row2_col4\" class=\"data row2 col4\" >0.0</td>\n",
       "                        <td id=\"T_156ba5e4_778f_11ec_84a1_0c9d92c473d6row2_col5\" class=\"data row2 col5\" >0.006</td>\n",
       "                        <td id=\"T_156ba5e4_778f_11ec_84a1_0c9d92c473d6row2_col6\" class=\"data row2 col6\" >0.009</td>\n",
       "                        <td id=\"T_156ba5e4_778f_11ec_84a1_0c9d92c473d6row2_col7\" class=\"data row2 col7\" >0.064</td>\n",
       "                        <td id=\"T_156ba5e4_778f_11ec_84a1_0c9d92c473d6row2_col8\" class=\"data row2 col8\" >0.004</td>\n",
       "                        <td id=\"T_156ba5e4_778f_11ec_84a1_0c9d92c473d6row2_col9\" class=\"data row2 col9\" >0.012</td>\n",
       "                        <td id=\"T_156ba5e4_778f_11ec_84a1_0c9d92c473d6row2_col10\" class=\"data row2 col10\" >0.013</td>\n",
       "                        <td id=\"T_156ba5e4_778f_11ec_84a1_0c9d92c473d6row2_col11\" class=\"data row2 col11\" >0.007</td>\n",
       "                        <td id=\"T_156ba5e4_778f_11ec_84a1_0c9d92c473d6row2_col12\" class=\"data row2 col12\" >0.008</td>\n",
       "                        <td id=\"T_156ba5e4_778f_11ec_84a1_0c9d92c473d6row2_col13\" class=\"data row2 col13\" >0.016</td>\n",
       "                        <td id=\"T_156ba5e4_778f_11ec_84a1_0c9d92c473d6row2_col14\" class=\"data row2 col14\" >0.007</td>\n",
       "            </tr>\n",
       "            <tr>\n",
       "                        <th id=\"T_156ba5e4_778f_11ec_84a1_0c9d92c473d6level0_row3\" class=\"row_heading level0 row3\" >3</th>\n",
       "                        <td id=\"T_156ba5e4_778f_11ec_84a1_0c9d92c473d6row3_col0\" class=\"data row3 col0\" >0.002</td>\n",
       "                        <td id=\"T_156ba5e4_778f_11ec_84a1_0c9d92c473d6row3_col1\" class=\"data row3 col1\" >0.014</td>\n",
       "                        <td id=\"T_156ba5e4_778f_11ec_84a1_0c9d92c473d6row3_col2\" class=\"data row3 col2\" >0.001</td>\n",
       "                        <td id=\"T_156ba5e4_778f_11ec_84a1_0c9d92c473d6row3_col3\" class=\"data row3 col3\" >0.0</td>\n",
       "                        <td id=\"T_156ba5e4_778f_11ec_84a1_0c9d92c473d6row3_col4\" class=\"data row3 col4\" >0.0</td>\n",
       "                        <td id=\"T_156ba5e4_778f_11ec_84a1_0c9d92c473d6row3_col5\" class=\"data row3 col5\" >0.011</td>\n",
       "                        <td id=\"T_156ba5e4_778f_11ec_84a1_0c9d92c473d6row3_col6\" class=\"data row3 col6\" >0.014</td>\n",
       "                        <td id=\"T_156ba5e4_778f_11ec_84a1_0c9d92c473d6row3_col7\" class=\"data row3 col7\" >0.001</td>\n",
       "                        <td id=\"T_156ba5e4_778f_11ec_84a1_0c9d92c473d6row3_col8\" class=\"data row3 col8\" >0.011</td>\n",
       "                        <td id=\"T_156ba5e4_778f_11ec_84a1_0c9d92c473d6row3_col9\" class=\"data row3 col9\" >0.018</td>\n",
       "                        <td id=\"T_156ba5e4_778f_11ec_84a1_0c9d92c473d6row3_col10\" class=\"data row3 col10\" >0.007</td>\n",
       "                        <td id=\"T_156ba5e4_778f_11ec_84a1_0c9d92c473d6row3_col11\" class=\"data row3 col11\" >0.003</td>\n",
       "                        <td id=\"T_156ba5e4_778f_11ec_84a1_0c9d92c473d6row3_col12\" class=\"data row3 col12\" >0.007</td>\n",
       "                        <td id=\"T_156ba5e4_778f_11ec_84a1_0c9d92c473d6row3_col13\" class=\"data row3 col13\" >0.004</td>\n",
       "                        <td id=\"T_156ba5e4_778f_11ec_84a1_0c9d92c473d6row3_col14\" class=\"data row3 col14\" >0.009</td>\n",
       "            </tr>\n",
       "            <tr>\n",
       "                        <th id=\"T_156ba5e4_778f_11ec_84a1_0c9d92c473d6level0_row4\" class=\"row_heading level0 row4\" >4</th>\n",
       "                        <td id=\"T_156ba5e4_778f_11ec_84a1_0c9d92c473d6row4_col0\" class=\"data row4 col0\" >0.002</td>\n",
       "                        <td id=\"T_156ba5e4_778f_11ec_84a1_0c9d92c473d6row4_col1\" class=\"data row4 col1\" >0.006</td>\n",
       "                        <td id=\"T_156ba5e4_778f_11ec_84a1_0c9d92c473d6row4_col2\" class=\"data row4 col2\" >0.001</td>\n",
       "                        <td id=\"T_156ba5e4_778f_11ec_84a1_0c9d92c473d6row4_col3\" class=\"data row4 col3\" >0.008</td>\n",
       "                        <td id=\"T_156ba5e4_778f_11ec_84a1_0c9d92c473d6row4_col4\" class=\"data row4 col4\" >0.0</td>\n",
       "                        <td id=\"T_156ba5e4_778f_11ec_84a1_0c9d92c473d6row4_col5\" class=\"data row4 col5\" >0.43</td>\n",
       "                        <td id=\"T_156ba5e4_778f_11ec_84a1_0c9d92c473d6row4_col6\" class=\"data row4 col6\" >0.003</td>\n",
       "                        <td id=\"T_156ba5e4_778f_11ec_84a1_0c9d92c473d6row4_col7\" class=\"data row4 col7\" >0.006</td>\n",
       "                        <td id=\"T_156ba5e4_778f_11ec_84a1_0c9d92c473d6row4_col8\" class=\"data row4 col8\" >0.006</td>\n",
       "                        <td id=\"T_156ba5e4_778f_11ec_84a1_0c9d92c473d6row4_col9\" class=\"data row4 col9\" >0.004</td>\n",
       "                        <td id=\"T_156ba5e4_778f_11ec_84a1_0c9d92c473d6row4_col10\" class=\"data row4 col10\" >0.013</td>\n",
       "                        <td id=\"T_156ba5e4_778f_11ec_84a1_0c9d92c473d6row4_col11\" class=\"data row4 col11\" >0.013</td>\n",
       "                        <td id=\"T_156ba5e4_778f_11ec_84a1_0c9d92c473d6row4_col12\" class=\"data row4 col12\" >0.002</td>\n",
       "                        <td id=\"T_156ba5e4_778f_11ec_84a1_0c9d92c473d6row4_col13\" class=\"data row4 col13\" >0.005</td>\n",
       "                        <td id=\"T_156ba5e4_778f_11ec_84a1_0c9d92c473d6row4_col14\" class=\"data row4 col14\" >0.01</td>\n",
       "            </tr>\n",
       "            <tr>\n",
       "                        <th id=\"T_156ba5e4_778f_11ec_84a1_0c9d92c473d6level0_row5\" class=\"row_heading level0 row5\" >5</th>\n",
       "                        <td id=\"T_156ba5e4_778f_11ec_84a1_0c9d92c473d6row5_col0\" class=\"data row5 col0\" >0.016</td>\n",
       "                        <td id=\"T_156ba5e4_778f_11ec_84a1_0c9d92c473d6row5_col1\" class=\"data row5 col1\" >0.021</td>\n",
       "                        <td id=\"T_156ba5e4_778f_11ec_84a1_0c9d92c473d6row5_col2\" class=\"data row5 col2\" >0.004</td>\n",
       "                        <td id=\"T_156ba5e4_778f_11ec_84a1_0c9d92c473d6row5_col3\" class=\"data row5 col3\" >0.006</td>\n",
       "                        <td id=\"T_156ba5e4_778f_11ec_84a1_0c9d92c473d6row5_col4\" class=\"data row5 col4\" >0.147</td>\n",
       "                        <td id=\"T_156ba5e4_778f_11ec_84a1_0c9d92c473d6row5_col5\" class=\"data row5 col5\" >0.0</td>\n",
       "                        <td id=\"T_156ba5e4_778f_11ec_84a1_0c9d92c473d6row5_col6\" class=\"data row5 col6\" >0.016</td>\n",
       "                        <td id=\"T_156ba5e4_778f_11ec_84a1_0c9d92c473d6row5_col7\" class=\"data row5 col7\" >0.028</td>\n",
       "                        <td id=\"T_156ba5e4_778f_11ec_84a1_0c9d92c473d6row5_col8\" class=\"data row5 col8\" >0.015</td>\n",
       "                        <td id=\"T_156ba5e4_778f_11ec_84a1_0c9d92c473d6row5_col9\" class=\"data row5 col9\" >0.039</td>\n",
       "                        <td id=\"T_156ba5e4_778f_11ec_84a1_0c9d92c473d6row5_col10\" class=\"data row5 col10\" >0.027</td>\n",
       "                        <td id=\"T_156ba5e4_778f_11ec_84a1_0c9d92c473d6row5_col11\" class=\"data row5 col11\" >0.035</td>\n",
       "                        <td id=\"T_156ba5e4_778f_11ec_84a1_0c9d92c473d6row5_col12\" class=\"data row5 col12\" >0.013</td>\n",
       "                        <td id=\"T_156ba5e4_778f_11ec_84a1_0c9d92c473d6row5_col13\" class=\"data row5 col13\" >0.011</td>\n",
       "                        <td id=\"T_156ba5e4_778f_11ec_84a1_0c9d92c473d6row5_col14\" class=\"data row5 col14\" >0.061</td>\n",
       "            </tr>\n",
       "            <tr>\n",
       "                        <th id=\"T_156ba5e4_778f_11ec_84a1_0c9d92c473d6level0_row6\" class=\"row_heading level0 row6\" >6</th>\n",
       "                        <td id=\"T_156ba5e4_778f_11ec_84a1_0c9d92c473d6row6_col0\" class=\"data row6 col0\" >0.04</td>\n",
       "                        <td id=\"T_156ba5e4_778f_11ec_84a1_0c9d92c473d6row6_col1\" class=\"data row6 col1\" >0.114</td>\n",
       "                        <td id=\"T_156ba5e4_778f_11ec_84a1_0c9d92c473d6row6_col2\" class=\"data row6 col2\" >0.001</td>\n",
       "                        <td id=\"T_156ba5e4_778f_11ec_84a1_0c9d92c473d6row6_col3\" class=\"data row6 col3\" >0.003</td>\n",
       "                        <td id=\"T_156ba5e4_778f_11ec_84a1_0c9d92c473d6row6_col4\" class=\"data row6 col4\" >0.0</td>\n",
       "                        <td id=\"T_156ba5e4_778f_11ec_84a1_0c9d92c473d6row6_col5\" class=\"data row6 col5\" >0.006</td>\n",
       "                        <td id=\"T_156ba5e4_778f_11ec_84a1_0c9d92c473d6row6_col6\" class=\"data row6 col6\" >0.0</td>\n",
       "                        <td id=\"T_156ba5e4_778f_11ec_84a1_0c9d92c473d6row6_col7\" class=\"data row6 col7\" >0.002</td>\n",
       "                        <td id=\"T_156ba5e4_778f_11ec_84a1_0c9d92c473d6row6_col8\" class=\"data row6 col8\" >0.092</td>\n",
       "                        <td id=\"T_156ba5e4_778f_11ec_84a1_0c9d92c473d6row6_col9\" class=\"data row6 col9\" >0.009</td>\n",
       "                        <td id=\"T_156ba5e4_778f_11ec_84a1_0c9d92c473d6row6_col10\" class=\"data row6 col10\" >0.077</td>\n",
       "                        <td id=\"T_156ba5e4_778f_11ec_84a1_0c9d92c473d6row6_col11\" class=\"data row6 col11\" >0.011</td>\n",
       "                        <td id=\"T_156ba5e4_778f_11ec_84a1_0c9d92c473d6row6_col12\" class=\"data row6 col12\" >0.002</td>\n",
       "                        <td id=\"T_156ba5e4_778f_11ec_84a1_0c9d92c473d6row6_col13\" class=\"data row6 col13\" >0.008</td>\n",
       "                        <td id=\"T_156ba5e4_778f_11ec_84a1_0c9d92c473d6row6_col14\" class=\"data row6 col14\" >0.003</td>\n",
       "            </tr>\n",
       "            <tr>\n",
       "                        <th id=\"T_156ba5e4_778f_11ec_84a1_0c9d92c473d6level0_row7\" class=\"row_heading level0 row7\" >7</th>\n",
       "                        <td id=\"T_156ba5e4_778f_11ec_84a1_0c9d92c473d6row7_col0\" class=\"data row7 col0\" >0.002</td>\n",
       "                        <td id=\"T_156ba5e4_778f_11ec_84a1_0c9d92c473d6row7_col1\" class=\"data row7 col1\" >0.004</td>\n",
       "                        <td id=\"T_156ba5e4_778f_11ec_84a1_0c9d92c473d6row7_col2\" class=\"data row7 col2\" >0.194</td>\n",
       "                        <td id=\"T_156ba5e4_778f_11ec_84a1_0c9d92c473d6row7_col3\" class=\"data row7 col3\" >0.004</td>\n",
       "                        <td id=\"T_156ba5e4_778f_11ec_84a1_0c9d92c473d6row7_col4\" class=\"data row7 col4\" >0.0</td>\n",
       "                        <td id=\"T_156ba5e4_778f_11ec_84a1_0c9d92c473d6row7_col5\" class=\"data row7 col5\" >0.007</td>\n",
       "                        <td id=\"T_156ba5e4_778f_11ec_84a1_0c9d92c473d6row7_col6\" class=\"data row7 col6\" >0.004</td>\n",
       "                        <td id=\"T_156ba5e4_778f_11ec_84a1_0c9d92c473d6row7_col7\" class=\"data row7 col7\" >0.0</td>\n",
       "                        <td id=\"T_156ba5e4_778f_11ec_84a1_0c9d92c473d6row7_col8\" class=\"data row7 col8\" >0.005</td>\n",
       "                        <td id=\"T_156ba5e4_778f_11ec_84a1_0c9d92c473d6row7_col9\" class=\"data row7 col9\" >0.001</td>\n",
       "                        <td id=\"T_156ba5e4_778f_11ec_84a1_0c9d92c473d6row7_col10\" class=\"data row7 col10\" >0.01</td>\n",
       "                        <td id=\"T_156ba5e4_778f_11ec_84a1_0c9d92c473d6row7_col11\" class=\"data row7 col11\" >0.004</td>\n",
       "                        <td id=\"T_156ba5e4_778f_11ec_84a1_0c9d92c473d6row7_col12\" class=\"data row7 col12\" >0.009</td>\n",
       "                        <td id=\"T_156ba5e4_778f_11ec_84a1_0c9d92c473d6row7_col13\" class=\"data row7 col13\" >0.01</td>\n",
       "                        <td id=\"T_156ba5e4_778f_11ec_84a1_0c9d92c473d6row7_col14\" class=\"data row7 col14\" >0.004</td>\n",
       "            </tr>\n",
       "            <tr>\n",
       "                        <th id=\"T_156ba5e4_778f_11ec_84a1_0c9d92c473d6level0_row8\" class=\"row_heading level0 row8\" >8</th>\n",
       "                        <td id=\"T_156ba5e4_778f_11ec_84a1_0c9d92c473d6row8_col0\" class=\"data row8 col0\" >0.001</td>\n",
       "                        <td id=\"T_156ba5e4_778f_11ec_84a1_0c9d92c473d6row8_col1\" class=\"data row8 col1\" >0.068</td>\n",
       "                        <td id=\"T_156ba5e4_778f_11ec_84a1_0c9d92c473d6row8_col2\" class=\"data row8 col2\" >0.001</td>\n",
       "                        <td id=\"T_156ba5e4_778f_11ec_84a1_0c9d92c473d6row8_col3\" class=\"data row8 col3\" >0.005</td>\n",
       "                        <td id=\"T_156ba5e4_778f_11ec_84a1_0c9d92c473d6row8_col4\" class=\"data row8 col4\" >0.0</td>\n",
       "                        <td id=\"T_156ba5e4_778f_11ec_84a1_0c9d92c473d6row8_col5\" class=\"data row8 col5\" >0.01</td>\n",
       "                        <td id=\"T_156ba5e4_778f_11ec_84a1_0c9d92c473d6row8_col6\" class=\"data row8 col6\" >0.134</td>\n",
       "                        <td id=\"T_156ba5e4_778f_11ec_84a1_0c9d92c473d6row8_col7\" class=\"data row8 col7\" >0.007</td>\n",
       "                        <td id=\"T_156ba5e4_778f_11ec_84a1_0c9d92c473d6row8_col8\" class=\"data row8 col8\" >0.0</td>\n",
       "                        <td id=\"T_156ba5e4_778f_11ec_84a1_0c9d92c473d6row8_col9\" class=\"data row8 col9\" >0.024</td>\n",
       "                        <td id=\"T_156ba5e4_778f_11ec_84a1_0c9d92c473d6row8_col10\" class=\"data row8 col10\" >0.078</td>\n",
       "                        <td id=\"T_156ba5e4_778f_11ec_84a1_0c9d92c473d6row8_col11\" class=\"data row8 col11\" >0.002</td>\n",
       "                        <td id=\"T_156ba5e4_778f_11ec_84a1_0c9d92c473d6row8_col12\" class=\"data row8 col12\" >0.0</td>\n",
       "                        <td id=\"T_156ba5e4_778f_11ec_84a1_0c9d92c473d6row8_col13\" class=\"data row8 col13\" >0.02</td>\n",
       "                        <td id=\"T_156ba5e4_778f_11ec_84a1_0c9d92c473d6row8_col14\" class=\"data row8 col14\" >0.005</td>\n",
       "            </tr>\n",
       "            <tr>\n",
       "                        <th id=\"T_156ba5e4_778f_11ec_84a1_0c9d92c473d6level0_row9\" class=\"row_heading level0 row9\" >9</th>\n",
       "                        <td id=\"T_156ba5e4_778f_11ec_84a1_0c9d92c473d6row9_col0\" class=\"data row9 col0\" >0.003</td>\n",
       "                        <td id=\"T_156ba5e4_778f_11ec_84a1_0c9d92c473d6row9_col1\" class=\"data row9 col1\" >0.019</td>\n",
       "                        <td id=\"T_156ba5e4_778f_11ec_84a1_0c9d92c473d6row9_col2\" class=\"data row9 col2\" >0.004</td>\n",
       "                        <td id=\"T_156ba5e4_778f_11ec_84a1_0c9d92c473d6row9_col3\" class=\"data row9 col3\" >0.057</td>\n",
       "                        <td id=\"T_156ba5e4_778f_11ec_84a1_0c9d92c473d6row9_col4\" class=\"data row9 col4\" >0.0</td>\n",
       "                        <td id=\"T_156ba5e4_778f_11ec_84a1_0c9d92c473d6row9_col5\" class=\"data row9 col5\" >0.009</td>\n",
       "                        <td id=\"T_156ba5e4_778f_11ec_84a1_0c9d92c473d6row9_col6\" class=\"data row9 col6\" >0.022</td>\n",
       "                        <td id=\"T_156ba5e4_778f_11ec_84a1_0c9d92c473d6row9_col7\" class=\"data row9 col7\" >0.004</td>\n",
       "                        <td id=\"T_156ba5e4_778f_11ec_84a1_0c9d92c473d6row9_col8\" class=\"data row9 col8\" >0.008</td>\n",
       "                        <td id=\"T_156ba5e4_778f_11ec_84a1_0c9d92c473d6row9_col9\" class=\"data row9 col9\" >0.0</td>\n",
       "                        <td id=\"T_156ba5e4_778f_11ec_84a1_0c9d92c473d6row9_col10\" class=\"data row9 col10\" >0.007</td>\n",
       "                        <td id=\"T_156ba5e4_778f_11ec_84a1_0c9d92c473d6row9_col11\" class=\"data row9 col11\" >0.001</td>\n",
       "                        <td id=\"T_156ba5e4_778f_11ec_84a1_0c9d92c473d6row9_col12\" class=\"data row9 col12\" >0.001</td>\n",
       "                        <td id=\"T_156ba5e4_778f_11ec_84a1_0c9d92c473d6row9_col13\" class=\"data row9 col13\" >0.007</td>\n",
       "                        <td id=\"T_156ba5e4_778f_11ec_84a1_0c9d92c473d6row9_col14\" class=\"data row9 col14\" >0.09</td>\n",
       "            </tr>\n",
       "            <tr>\n",
       "                        <th id=\"T_156ba5e4_778f_11ec_84a1_0c9d92c473d6level0_row10\" class=\"row_heading level0 row10\" >10</th>\n",
       "                        <td id=\"T_156ba5e4_778f_11ec_84a1_0c9d92c473d6row10_col0\" class=\"data row10 col0\" >0.003</td>\n",
       "                        <td id=\"T_156ba5e4_778f_11ec_84a1_0c9d92c473d6row10_col1\" class=\"data row10 col1\" >0.009</td>\n",
       "                        <td id=\"T_156ba5e4_778f_11ec_84a1_0c9d92c473d6row10_col2\" class=\"data row10 col2\" >0.0</td>\n",
       "                        <td id=\"T_156ba5e4_778f_11ec_84a1_0c9d92c473d6row10_col3\" class=\"data row10 col3\" >0.01</td>\n",
       "                        <td id=\"T_156ba5e4_778f_11ec_84a1_0c9d92c473d6row10_col4\" class=\"data row10 col4\" >0.0</td>\n",
       "                        <td id=\"T_156ba5e4_778f_11ec_84a1_0c9d92c473d6row10_col5\" class=\"data row10 col5\" >0.005</td>\n",
       "                        <td id=\"T_156ba5e4_778f_11ec_84a1_0c9d92c473d6row10_col6\" class=\"data row10 col6\" >0.015</td>\n",
       "                        <td id=\"T_156ba5e4_778f_11ec_84a1_0c9d92c473d6row10_col7\" class=\"data row10 col7\" >0.01</td>\n",
       "                        <td id=\"T_156ba5e4_778f_11ec_84a1_0c9d92c473d6row10_col8\" class=\"data row10 col8\" >0.047</td>\n",
       "                        <td id=\"T_156ba5e4_778f_11ec_84a1_0c9d92c473d6row10_col9\" class=\"data row10 col9\" >0.01</td>\n",
       "                        <td id=\"T_156ba5e4_778f_11ec_84a1_0c9d92c473d6row10_col10\" class=\"data row10 col10\" >0.0</td>\n",
       "                        <td id=\"T_156ba5e4_778f_11ec_84a1_0c9d92c473d6row10_col11\" class=\"data row10 col11\" >0.005</td>\n",
       "                        <td id=\"T_156ba5e4_778f_11ec_84a1_0c9d92c473d6row10_col12\" class=\"data row10 col12\" >0.005</td>\n",
       "                        <td id=\"T_156ba5e4_778f_11ec_84a1_0c9d92c473d6row10_col13\" class=\"data row10 col13\" >0.014</td>\n",
       "                        <td id=\"T_156ba5e4_778f_11ec_84a1_0c9d92c473d6row10_col14\" class=\"data row10 col14\" >0.011</td>\n",
       "            </tr>\n",
       "            <tr>\n",
       "                        <th id=\"T_156ba5e4_778f_11ec_84a1_0c9d92c473d6level0_row11\" class=\"row_heading level0 row11\" >11</th>\n",
       "                        <td id=\"T_156ba5e4_778f_11ec_84a1_0c9d92c473d6row11_col0\" class=\"data row11 col0\" >0.032</td>\n",
       "                        <td id=\"T_156ba5e4_778f_11ec_84a1_0c9d92c473d6row11_col1\" class=\"data row11 col1\" >0.008</td>\n",
       "                        <td id=\"T_156ba5e4_778f_11ec_84a1_0c9d92c473d6row11_col2\" class=\"data row11 col2\" >0.004</td>\n",
       "                        <td id=\"T_156ba5e4_778f_11ec_84a1_0c9d92c473d6row11_col3\" class=\"data row11 col3\" >0.001</td>\n",
       "                        <td id=\"T_156ba5e4_778f_11ec_84a1_0c9d92c473d6row11_col4\" class=\"data row11 col4\" >0.001</td>\n",
       "                        <td id=\"T_156ba5e4_778f_11ec_84a1_0c9d92c473d6row11_col5\" class=\"data row11 col5\" >0.014</td>\n",
       "                        <td id=\"T_156ba5e4_778f_11ec_84a1_0c9d92c473d6row11_col6\" class=\"data row11 col6\" >0.013</td>\n",
       "                        <td id=\"T_156ba5e4_778f_11ec_84a1_0c9d92c473d6row11_col7\" class=\"data row11 col7\" >0.009</td>\n",
       "                        <td id=\"T_156ba5e4_778f_11ec_84a1_0c9d92c473d6row11_col8\" class=\"data row11 col8\" >0.001</td>\n",
       "                        <td id=\"T_156ba5e4_778f_11ec_84a1_0c9d92c473d6row11_col9\" class=\"data row11 col9\" >0.002</td>\n",
       "                        <td id=\"T_156ba5e4_778f_11ec_84a1_0c9d92c473d6row11_col10\" class=\"data row11 col10\" >0.003</td>\n",
       "                        <td id=\"T_156ba5e4_778f_11ec_84a1_0c9d92c473d6row11_col11\" class=\"data row11 col11\" >0.0</td>\n",
       "                        <td id=\"T_156ba5e4_778f_11ec_84a1_0c9d92c473d6row11_col12\" class=\"data row11 col12\" >0.031</td>\n",
       "                        <td id=\"T_156ba5e4_778f_11ec_84a1_0c9d92c473d6row11_col13\" class=\"data row11 col13\" >0.005</td>\n",
       "                        <td id=\"T_156ba5e4_778f_11ec_84a1_0c9d92c473d6row11_col14\" class=\"data row11 col14\" >0.018</td>\n",
       "            </tr>\n",
       "            <tr>\n",
       "                        <th id=\"T_156ba5e4_778f_11ec_84a1_0c9d92c473d6level0_row12\" class=\"row_heading level0 row12\" >12</th>\n",
       "                        <td id=\"T_156ba5e4_778f_11ec_84a1_0c9d92c473d6row12_col0\" class=\"data row12 col0\" >0.004</td>\n",
       "                        <td id=\"T_156ba5e4_778f_11ec_84a1_0c9d92c473d6row12_col1\" class=\"data row12 col1\" >0.007</td>\n",
       "                        <td id=\"T_156ba5e4_778f_11ec_84a1_0c9d92c473d6row12_col2\" class=\"data row12 col2\" >0.001</td>\n",
       "                        <td id=\"T_156ba5e4_778f_11ec_84a1_0c9d92c473d6row12_col3\" class=\"data row12 col3\" >0.01</td>\n",
       "                        <td id=\"T_156ba5e4_778f_11ec_84a1_0c9d92c473d6row12_col4\" class=\"data row12 col4\" >0.0</td>\n",
       "                        <td id=\"T_156ba5e4_778f_11ec_84a1_0c9d92c473d6row12_col5\" class=\"data row12 col5\" >0.013</td>\n",
       "                        <td id=\"T_156ba5e4_778f_11ec_84a1_0c9d92c473d6row12_col6\" class=\"data row12 col6\" >0.01</td>\n",
       "                        <td id=\"T_156ba5e4_778f_11ec_84a1_0c9d92c473d6row12_col7\" class=\"data row12 col7\" >0.003</td>\n",
       "                        <td id=\"T_156ba5e4_778f_11ec_84a1_0c9d92c473d6row12_col8\" class=\"data row12 col8\" >0.008</td>\n",
       "                        <td id=\"T_156ba5e4_778f_11ec_84a1_0c9d92c473d6row12_col9\" class=\"data row12 col9\" >0.004</td>\n",
       "                        <td id=\"T_156ba5e4_778f_11ec_84a1_0c9d92c473d6row12_col10\" class=\"data row12 col10\" >0.007</td>\n",
       "                        <td id=\"T_156ba5e4_778f_11ec_84a1_0c9d92c473d6row12_col11\" class=\"data row12 col11\" >0.012</td>\n",
       "                        <td id=\"T_156ba5e4_778f_11ec_84a1_0c9d92c473d6row12_col12\" class=\"data row12 col12\" >0.0</td>\n",
       "                        <td id=\"T_156ba5e4_778f_11ec_84a1_0c9d92c473d6row12_col13\" class=\"data row12 col13\" >0.006</td>\n",
       "                        <td id=\"T_156ba5e4_778f_11ec_84a1_0c9d92c473d6row12_col14\" class=\"data row12 col14\" >0.002</td>\n",
       "            </tr>\n",
       "            <tr>\n",
       "                        <th id=\"T_156ba5e4_778f_11ec_84a1_0c9d92c473d6level0_row13\" class=\"row_heading level0 row13\" >13</th>\n",
       "                        <td id=\"T_156ba5e4_778f_11ec_84a1_0c9d92c473d6row13_col0\" class=\"data row13 col0\" >0.007</td>\n",
       "                        <td id=\"T_156ba5e4_778f_11ec_84a1_0c9d92c473d6row13_col1\" class=\"data row13 col1\" >0.048</td>\n",
       "                        <td id=\"T_156ba5e4_778f_11ec_84a1_0c9d92c473d6row13_col2\" class=\"data row13 col2\" >0.0</td>\n",
       "                        <td id=\"T_156ba5e4_778f_11ec_84a1_0c9d92c473d6row13_col3\" class=\"data row13 col3\" >0.003</td>\n",
       "                        <td id=\"T_156ba5e4_778f_11ec_84a1_0c9d92c473d6row13_col4\" class=\"data row13 col4\" >0.0</td>\n",
       "                        <td id=\"T_156ba5e4_778f_11ec_84a1_0c9d92c473d6row13_col5\" class=\"data row13 col5\" >0.007</td>\n",
       "                        <td id=\"T_156ba5e4_778f_11ec_84a1_0c9d92c473d6row13_col6\" class=\"data row13 col6\" >0.005</td>\n",
       "                        <td id=\"T_156ba5e4_778f_11ec_84a1_0c9d92c473d6row13_col7\" class=\"data row13 col7\" >0.004</td>\n",
       "                        <td id=\"T_156ba5e4_778f_11ec_84a1_0c9d92c473d6row13_col8\" class=\"data row13 col8\" >0.01</td>\n",
       "                        <td id=\"T_156ba5e4_778f_11ec_84a1_0c9d92c473d6row13_col9\" class=\"data row13 col9\" >0.003</td>\n",
       "                        <td id=\"T_156ba5e4_778f_11ec_84a1_0c9d92c473d6row13_col10\" class=\"data row13 col10\" >0.034</td>\n",
       "                        <td id=\"T_156ba5e4_778f_11ec_84a1_0c9d92c473d6row13_col11\" class=\"data row13 col11\" >0.004</td>\n",
       "                        <td id=\"T_156ba5e4_778f_11ec_84a1_0c9d92c473d6row13_col12\" class=\"data row13 col12\" >0.005</td>\n",
       "                        <td id=\"T_156ba5e4_778f_11ec_84a1_0c9d92c473d6row13_col13\" class=\"data row13 col13\" >0.0</td>\n",
       "                        <td id=\"T_156ba5e4_778f_11ec_84a1_0c9d92c473d6row13_col14\" class=\"data row13 col14\" >0.004</td>\n",
       "            </tr>\n",
       "            <tr>\n",
       "                        <th id=\"T_156ba5e4_778f_11ec_84a1_0c9d92c473d6level0_row14\" class=\"row_heading level0 row14\" >14</th>\n",
       "                        <td id=\"T_156ba5e4_778f_11ec_84a1_0c9d92c473d6row14_col0\" class=\"data row14 col0\" >0.002</td>\n",
       "                        <td id=\"T_156ba5e4_778f_11ec_84a1_0c9d92c473d6row14_col1\" class=\"data row14 col1\" >0.013</td>\n",
       "                        <td id=\"T_156ba5e4_778f_11ec_84a1_0c9d92c473d6row14_col2\" class=\"data row14 col2\" >0.0</td>\n",
       "                        <td id=\"T_156ba5e4_778f_11ec_84a1_0c9d92c473d6row14_col3\" class=\"data row14 col3\" >0.053</td>\n",
       "                        <td id=\"T_156ba5e4_778f_11ec_84a1_0c9d92c473d6row14_col4\" class=\"data row14 col4\" >0.0</td>\n",
       "                        <td id=\"T_156ba5e4_778f_11ec_84a1_0c9d92c473d6row14_col5\" class=\"data row14 col5\" >0.02</td>\n",
       "                        <td id=\"T_156ba5e4_778f_11ec_84a1_0c9d92c473d6row14_col6\" class=\"data row14 col6\" >0.017</td>\n",
       "                        <td id=\"T_156ba5e4_778f_11ec_84a1_0c9d92c473d6row14_col7\" class=\"data row14 col7\" >0.004</td>\n",
       "                        <td id=\"T_156ba5e4_778f_11ec_84a1_0c9d92c473d6row14_col8\" class=\"data row14 col8\" >0.004</td>\n",
       "                        <td id=\"T_156ba5e4_778f_11ec_84a1_0c9d92c473d6row14_col9\" class=\"data row14 col9\" >0.124</td>\n",
       "                        <td id=\"T_156ba5e4_778f_11ec_84a1_0c9d92c473d6row14_col10\" class=\"data row14 col10\" >0.011</td>\n",
       "                        <td id=\"T_156ba5e4_778f_11ec_84a1_0c9d92c473d6row14_col11\" class=\"data row14 col11\" >0.005</td>\n",
       "                        <td id=\"T_156ba5e4_778f_11ec_84a1_0c9d92c473d6row14_col12\" class=\"data row14 col12\" >0.003</td>\n",
       "                        <td id=\"T_156ba5e4_778f_11ec_84a1_0c9d92c473d6row14_col13\" class=\"data row14 col13\" >0.006</td>\n",
       "                        <td id=\"T_156ba5e4_778f_11ec_84a1_0c9d92c473d6row14_col14\" class=\"data row14 col14\" >0.0</td>\n",
       "            </tr>\n",
       "    </tbody></table>"
      ],
      "text/plain": [
       "<pandas.io.formats.style.Styler at 0x7f0c2f521f98>"
      ]
     },
     "metadata": {},
     "output_type": "display_data"
    }
   ],
   "source": [
    "if run:\n",
    "        if n_folds > 1:\n",
    "                kf = KFold(n_splits = n_folds, random_state = 1, shuffle = True)\n",
    "\n",
    "                fold = 0\n",
    "                REG_castle = []\n",
    "                print(\"Dataset limits are\", np.ptp(X_DAG), np.ptp(X_test), np.ptp(y_test))\n",
    "                for train_idx, val_idx in kf.split(X_DAG):\n",
    "                        fold += 1\n",
    "                        print(\"fold = \", fold)\n",
    "                        print(\"******* Doing dataset size = \", len(train_idx) , \"****************\")\n",
    "                        X_train = X_DAG[train_idx]\n",
    "                        y_train = np.expand_dims(X_DAG[train_idx][:,0], -1)\n",
    "                        X_val = X_DAG[val_idx]\n",
    "                        y_val = np.expand_dims(X_DAG[val_idx][:,0], -1)\n",
    "\n",
    "                        w_threshold = 0.3\n",
    "                        castle = CASTLE(num_train = X_DAG.shape[0], num_inputs = X_DAG.shape[1], reg_lambda = reg_lambda, reg_beta = reg_beta,\n",
    "                                        w_threshold = w_threshold, ckpt_file = ckpt_file\n",
    "                                        )\n",
    "\n",
    "                        num_nodes = np.shape(X_DAG)[1]\n",
    "                        castle.fit(X=X_train, y=y_train, num_nodes=num_nodes, X_val=X_val, y_val=y_val,\n",
    "                                overwrite=True, tune=False, maxed_adj=None, tuned=False)\n",
    "\n",
    "                        W_est = castle.pred_W(X_DAG, np.expand_dims(X_DAG[:,0], -1))\n",
    "                        heat_mat(W_est)\n",
    "                        \n",
    "                        REG_castle.append(mean_squared_error(castle.pred(X_test), y_test))\n",
    "                        print(\"MSE = \", mean_squared_error(castle.pred(X_test), y_test))\n",
    "\n",
    "                        if fold > 1:\n",
    "                        print(\"MEAN =\", np.mean(REG_castle), \"STD =\", np.std(REG_castle))\n",
    "        else:\n",
    "                print(\"******* Doing dataset size = \", X_train.shape[0] , \"****************\")\n",
    "                y_train = np.expand_dims(X_train[:,0], -1)\n",
    "                X_val = X_test\n",
    "                y_val = y_test\n",
    "\n",
    "                w_threshold = 0.3\n",
    "                hidden = int(X_DAG.shape[1]*3.2)\n",
    "                \n",
    "                castle = CASTLE(num_train = X_train.shape[0], num_inputs = X_train.shape[1],  n_hidden=hidden,\n",
    "                                reg_lambda = reg_lambda, reg_beta = reg_beta, type_output='reg',\n",
    "                                w_threshold = w_threshold, ckpt_file = ckpt_file, seed = seed\n",
    "                                )\n",
    "                castle.fit(X=X_train, y=y_train, num_nodes=X_train.shape[1], X_val=X_val, y_val=y_val,\n",
    "                        overwrite=force_refit, tune=tune, tuned=tuned, maxed_adj=loaded_adj, seed = seed )\n",
    "                print(\"MSE = \", mean_squared_error(castle.pred(X_test), y_test))\n",
    "\n",
    "                W_est = castle.pred_W(X_DAG, np.expand_dims(X_DAG[:,0], -1))\n",
    "                heat_mat(W_est)"
   ]
  },
  {
   "cell_type": "code",
   "execution_count": null,
   "metadata": {},
   "outputs": [
    {
     "data": {
      "application/vnd.plotly.v1+json": {
       "config": {
        "plotlyServerURL": "https://plot.ly"
       },
       "data": [
        {
         "alignmentgroup": "True",
         "bingroup": "x",
         "hovertemplate": "variable=0<br>value=%{x}<br>count=%{y}<extra></extra>",
         "legendgroup": "0",
         "marker": {
          "color": "#636efa",
          "pattern": {
           "shape": ""
          }
         },
         "name": "0",
         "offsetgroup": "0",
         "orientation": "v",
         "showlegend": true,
         "type": "histogram",
         "x": [
          0,
          0.02417714148759842,
          0.008584118448197842,
          0.003775752382352948,
          0.00020544785365927964,
          0.008743575774133205,
          0.00872805342078209,
          0.007218698039650917,
          0.006099937483668327,
          0.0075510721653699875,
          0.005496609024703503,
          0.06809516996145248,
          0.025180615484714508,
          0.023444166406989098,
          0.005726475268602371,
          0.005840543657541275,
          0,
          0.00008155852992786095,
          0.01724894717335701,
          0.00014924674178473651,
          0.006797876674681902,
          0.10788053274154663,
          0.0017551429336890578,
          0.019702956080436707,
          0.007502292282879353,
          0.008193579502403736,
          0.00896997470408678,
          0.005220058374106884,
          0.12681294977664948,
          0.01812843792140484,
          0.0009033820242621005,
          0.012622806243598461,
          0,
          0.003198471385985613,
          0.00011304713552817702,
          0.005943997297435999,
          0.008720907382667065,
          0.06395519524812698,
          0.004077892750501633,
          0.012397811748087406,
          0.012526330538094044,
          0.006775766611099243,
          0.008087490685284138,
          0.016089458018541336,
          0.006864579394459724,
          0.002018884290009737,
          0.014225508086383343,
          0.0012077513383701444,
          0,
          0.00010144165571546182,
          0.011499861255288124,
          0.014106277376413345,
          0.0006200424977578223,
          0.010713156312704086,
          0.017752688378095627,
          0.007341122720390558,
          0.0026234614197164774,
          0.006994261406362057,
          0.0036063052248209715,
          0.00897483341395855,
          0.002110235160216689,
          0.005741582717746496,
          0.0014938048552721739,
          0.007984722033143044,
          0,
          0.4297645390033722,
          0.003045120742172003,
          0.006090712733566761,
          0.005629994906485081,
          0.0035610583145171404,
          0.013334065675735474,
          0.01283777691423893,
          0.0021240324713289738,
          0.004723198711872101,
          0.010394919663667679,
          0.015590800903737545,
          0.02075466699898243,
          0.004476458765566349,
          0.005754099227488041,
          0.14714747667312622,
          0,
          0.016114989295601845,
          0.02763315849006176,
          0.015471751801669598,
          0.038952913135290146,
          0.02679300494492054,
          0.035026513040065765,
          0.012743305414915085,
          0.011272796429693699,
          0.06106152758002281,
          0.040155958384275436,
          0.11350352317094803,
          0.001353924279101193,
          0.003401075955480337,
          0.00013854302233085036,
          0.005704876501113176,
          0,
          0.00223653856664896,
          0.09152897447347641,
          0.009361633099615574,
          0.07654886692762375,
          0.011441006325185299,
          0.0022354882676154375,
          0.007520277053117752,
          0.0026665793266147375,
          0.0019752783700823784,
          0.00357788591645658,
          0.1943732500076294,
          0.004296142142266035,
          0.0002321995998499915,
          0.007486714981496334,
          0.0037114478182047606,
          0,
          0.0051659406162798405,
          0.0013370879460126162,
          0.009758749045431614,
          0.004425706807523966,
          0.008898420259356499,
          0.010229108855128288,
          0.004135094117373228,
          0.0008196930284611881,
          0.06837555766105652,
          0.0010848087258636951,
          0.004530384670943022,
          0.00012275839981157333,
          0.009876454249024391,
          0.1336284726858139,
          0.00734172947704792,
          0,
          0.024143433198332787,
          0.07750855386257172,
          0.00189570477232337,
          0.00018271140288561583,
          0.01986539177596569,
          0.004937213845551014,
          0.0026173631194978952,
          0.019343184307217598,
          0.003701814915984869,
          0.056899793446063995,
          0.00009677552588982508,
          0.00932811014354229,
          0.021552491933107376,
          0.0036920986603945494,
          0.008184686303138733,
          0,
          0.007006738800555468,
          0.0007007435779087245,
          0.0010554419131949544,
          0.006856679916381836,
          0.09048013389110565,
          0.002798230154439807,
          0.009453418664634228,
          0.00022831511159893125,
          0.009804781526327133,
          0.00006639070488745347,
          0.005460327956825495,
          0.01485673151910305,
          0.01028136070817709,
          0.04740788787603378,
          0.009980456903576851,
          0,
          0.004699705634266138,
          0.004625340458005667,
          0.014434436336159706,
          0.010928366333246231,
          0.031728968024253845,
          0.008345977403223515,
          0.003904733806848526,
          0.001344673102721572,
          0.0005229740054346621,
          0.014288068749010563,
          0.013350246474146843,
          0.008869921788573265,
          0.001345859025605023,
          0.0022856479045003653,
          0.0029467628337442875,
          0,
          0.03111252933740616,
          0.004537238739430904,
          0.01837548427283764,
          0.003830849891528487,
          0.007488183211535215,
          0.0011850817827507854,
          0.010243949480354786,
          0.00016794365365058184,
          0.012709824368357658,
          0.010436788201332092,
          0.002975824987515807,
          0.0075672948732972145,
          0.00359523412771523,
          0.007345231249928474,
          0.012454351410269737,
          0,
          0.0056020175106823444,
          0.0020214200485497713,
          0.006691248621791601,
          0.04787735641002655,
          0.00047204596921801567,
          0.0030548106878995895,
          0.00013887599925510585,
          0.006834702100604773,
          0.0054464684799313545,
          0.003793958341702819,
          0.010034911334514618,
          0.00269149849191308,
          0.03360723331570625,
          0.003583987709134817,
          0.005009303335100412,
          0,
          0.0043546888045966625,
          0.0023521417751908302,
          0.012968409806489944,
          0.00030191297992132604,
          0.05320991948246956,
          0.00016950027202256024,
          0.02041267789900303,
          0.016978034749627113,
          0.0038642464205622673,
          0.0040526799857616425,
          0.12376858294010162,
          0.011288977228105068,
          0.004747531842440367,
          0.0028249945025891066,
          0.00617628637701273,
          0
         ],
         "xaxis": "x",
         "yaxis": "y"
        },
        {
         "alignmentgroup": "True",
         "hovertemplate": "variable=0<br>value=%{x}<extra></extra>",
         "legendgroup": "0",
         "marker": {
          "color": "#636efa"
         },
         "name": "0",
         "notched": true,
         "offsetgroup": "0",
         "showlegend": false,
         "type": "box",
         "x": [
          0,
          0.02417714148759842,
          0.008584118448197842,
          0.003775752382352948,
          0.00020544785365927964,
          0.008743575774133205,
          0.00872805342078209,
          0.007218698039650917,
          0.006099937483668327,
          0.0075510721653699875,
          0.005496609024703503,
          0.06809516996145248,
          0.025180615484714508,
          0.023444166406989098,
          0.005726475268602371,
          0.005840543657541275,
          0,
          0.00008155852992786095,
          0.01724894717335701,
          0.00014924674178473651,
          0.006797876674681902,
          0.10788053274154663,
          0.0017551429336890578,
          0.019702956080436707,
          0.007502292282879353,
          0.008193579502403736,
          0.00896997470408678,
          0.005220058374106884,
          0.12681294977664948,
          0.01812843792140484,
          0.0009033820242621005,
          0.012622806243598461,
          0,
          0.003198471385985613,
          0.00011304713552817702,
          0.005943997297435999,
          0.008720907382667065,
          0.06395519524812698,
          0.004077892750501633,
          0.012397811748087406,
          0.012526330538094044,
          0.006775766611099243,
          0.008087490685284138,
          0.016089458018541336,
          0.006864579394459724,
          0.002018884290009737,
          0.014225508086383343,
          0.0012077513383701444,
          0,
          0.00010144165571546182,
          0.011499861255288124,
          0.014106277376413345,
          0.0006200424977578223,
          0.010713156312704086,
          0.017752688378095627,
          0.007341122720390558,
          0.0026234614197164774,
          0.006994261406362057,
          0.0036063052248209715,
          0.00897483341395855,
          0.002110235160216689,
          0.005741582717746496,
          0.0014938048552721739,
          0.007984722033143044,
          0,
          0.4297645390033722,
          0.003045120742172003,
          0.006090712733566761,
          0.005629994906485081,
          0.0035610583145171404,
          0.013334065675735474,
          0.01283777691423893,
          0.0021240324713289738,
          0.004723198711872101,
          0.010394919663667679,
          0.015590800903737545,
          0.02075466699898243,
          0.004476458765566349,
          0.005754099227488041,
          0.14714747667312622,
          0,
          0.016114989295601845,
          0.02763315849006176,
          0.015471751801669598,
          0.038952913135290146,
          0.02679300494492054,
          0.035026513040065765,
          0.012743305414915085,
          0.011272796429693699,
          0.06106152758002281,
          0.040155958384275436,
          0.11350352317094803,
          0.001353924279101193,
          0.003401075955480337,
          0.00013854302233085036,
          0.005704876501113176,
          0,
          0.00223653856664896,
          0.09152897447347641,
          0.009361633099615574,
          0.07654886692762375,
          0.011441006325185299,
          0.0022354882676154375,
          0.007520277053117752,
          0.0026665793266147375,
          0.0019752783700823784,
          0.00357788591645658,
          0.1943732500076294,
          0.004296142142266035,
          0.0002321995998499915,
          0.007486714981496334,
          0.0037114478182047606,
          0,
          0.0051659406162798405,
          0.0013370879460126162,
          0.009758749045431614,
          0.004425706807523966,
          0.008898420259356499,
          0.010229108855128288,
          0.004135094117373228,
          0.0008196930284611881,
          0.06837555766105652,
          0.0010848087258636951,
          0.004530384670943022,
          0.00012275839981157333,
          0.009876454249024391,
          0.1336284726858139,
          0.00734172947704792,
          0,
          0.024143433198332787,
          0.07750855386257172,
          0.00189570477232337,
          0.00018271140288561583,
          0.01986539177596569,
          0.004937213845551014,
          0.0026173631194978952,
          0.019343184307217598,
          0.003701814915984869,
          0.056899793446063995,
          0.00009677552588982508,
          0.00932811014354229,
          0.021552491933107376,
          0.0036920986603945494,
          0.008184686303138733,
          0,
          0.007006738800555468,
          0.0007007435779087245,
          0.0010554419131949544,
          0.006856679916381836,
          0.09048013389110565,
          0.002798230154439807,
          0.009453418664634228,
          0.00022831511159893125,
          0.009804781526327133,
          0.00006639070488745347,
          0.005460327956825495,
          0.01485673151910305,
          0.01028136070817709,
          0.04740788787603378,
          0.009980456903576851,
          0,
          0.004699705634266138,
          0.004625340458005667,
          0.014434436336159706,
          0.010928366333246231,
          0.031728968024253845,
          0.008345977403223515,
          0.003904733806848526,
          0.001344673102721572,
          0.0005229740054346621,
          0.014288068749010563,
          0.013350246474146843,
          0.008869921788573265,
          0.001345859025605023,
          0.0022856479045003653,
          0.0029467628337442875,
          0,
          0.03111252933740616,
          0.004537238739430904,
          0.01837548427283764,
          0.003830849891528487,
          0.007488183211535215,
          0.0011850817827507854,
          0.010243949480354786,
          0.00016794365365058184,
          0.012709824368357658,
          0.010436788201332092,
          0.002975824987515807,
          0.0075672948732972145,
          0.00359523412771523,
          0.007345231249928474,
          0.012454351410269737,
          0,
          0.0056020175106823444,
          0.0020214200485497713,
          0.006691248621791601,
          0.04787735641002655,
          0.00047204596921801567,
          0.0030548106878995895,
          0.00013887599925510585,
          0.006834702100604773,
          0.0054464684799313545,
          0.003793958341702819,
          0.010034911334514618,
          0.00269149849191308,
          0.03360723331570625,
          0.003583987709134817,
          0.005009303335100412,
          0,
          0.0043546888045966625,
          0.0023521417751908302,
          0.012968409806489944,
          0.00030191297992132604,
          0.05320991948246956,
          0.00016950027202256024,
          0.02041267789900303,
          0.016978034749627113,
          0.0038642464205622673,
          0.0040526799857616425,
          0.12376858294010162,
          0.011288977228105068,
          0.004747531842440367,
          0.0028249945025891066,
          0.00617628637701273,
          0
         ],
         "xaxis": "x2",
         "yaxis": "y2"
        }
       ],
       "layout": {
        "barmode": "relative",
        "legend": {
         "title": {
          "text": "variable"
         },
         "tracegroupgap": 0
        },
        "margin": {
         "t": 60
        },
        "template": {
         "data": {
          "bar": [
           {
            "error_x": {
             "color": "#2a3f5f"
            },
            "error_y": {
             "color": "#2a3f5f"
            },
            "marker": {
             "line": {
              "color": "#E5ECF6",
              "width": 0.5
             },
             "pattern": {
              "fillmode": "overlay",
              "size": 10,
              "solidity": 0.2
             }
            },
            "type": "bar"
           }
          ],
          "barpolar": [
           {
            "marker": {
             "line": {
              "color": "#E5ECF6",
              "width": 0.5
             },
             "pattern": {
              "fillmode": "overlay",
              "size": 10,
              "solidity": 0.2
             }
            },
            "type": "barpolar"
           }
          ],
          "carpet": [
           {
            "aaxis": {
             "endlinecolor": "#2a3f5f",
             "gridcolor": "white",
             "linecolor": "white",
             "minorgridcolor": "white",
             "startlinecolor": "#2a3f5f"
            },
            "baxis": {
             "endlinecolor": "#2a3f5f",
             "gridcolor": "white",
             "linecolor": "white",
             "minorgridcolor": "white",
             "startlinecolor": "#2a3f5f"
            },
            "type": "carpet"
           }
          ],
          "choropleth": [
           {
            "colorbar": {
             "outlinewidth": 0,
             "ticks": ""
            },
            "type": "choropleth"
           }
          ],
          "contour": [
           {
            "colorbar": {
             "outlinewidth": 0,
             "ticks": ""
            },
            "colorscale": [
             [
              0,
              "#0d0887"
             ],
             [
              0.1111111111111111,
              "#46039f"
             ],
             [
              0.2222222222222222,
              "#7201a8"
             ],
             [
              0.3333333333333333,
              "#9c179e"
             ],
             [
              0.4444444444444444,
              "#bd3786"
             ],
             [
              0.5555555555555556,
              "#d8576b"
             ],
             [
              0.6666666666666666,
              "#ed7953"
             ],
             [
              0.7777777777777778,
              "#fb9f3a"
             ],
             [
              0.8888888888888888,
              "#fdca26"
             ],
             [
              1,
              "#f0f921"
             ]
            ],
            "type": "contour"
           }
          ],
          "contourcarpet": [
           {
            "colorbar": {
             "outlinewidth": 0,
             "ticks": ""
            },
            "type": "contourcarpet"
           }
          ],
          "heatmap": [
           {
            "colorbar": {
             "outlinewidth": 0,
             "ticks": ""
            },
            "colorscale": [
             [
              0,
              "#0d0887"
             ],
             [
              0.1111111111111111,
              "#46039f"
             ],
             [
              0.2222222222222222,
              "#7201a8"
             ],
             [
              0.3333333333333333,
              "#9c179e"
             ],
             [
              0.4444444444444444,
              "#bd3786"
             ],
             [
              0.5555555555555556,
              "#d8576b"
             ],
             [
              0.6666666666666666,
              "#ed7953"
             ],
             [
              0.7777777777777778,
              "#fb9f3a"
             ],
             [
              0.8888888888888888,
              "#fdca26"
             ],
             [
              1,
              "#f0f921"
             ]
            ],
            "type": "heatmap"
           }
          ],
          "heatmapgl": [
           {
            "colorbar": {
             "outlinewidth": 0,
             "ticks": ""
            },
            "colorscale": [
             [
              0,
              "#0d0887"
             ],
             [
              0.1111111111111111,
              "#46039f"
             ],
             [
              0.2222222222222222,
              "#7201a8"
             ],
             [
              0.3333333333333333,
              "#9c179e"
             ],
             [
              0.4444444444444444,
              "#bd3786"
             ],
             [
              0.5555555555555556,
              "#d8576b"
             ],
             [
              0.6666666666666666,
              "#ed7953"
             ],
             [
              0.7777777777777778,
              "#fb9f3a"
             ],
             [
              0.8888888888888888,
              "#fdca26"
             ],
             [
              1,
              "#f0f921"
             ]
            ],
            "type": "heatmapgl"
           }
          ],
          "histogram": [
           {
            "marker": {
             "pattern": {
              "fillmode": "overlay",
              "size": 10,
              "solidity": 0.2
             }
            },
            "type": "histogram"
           }
          ],
          "histogram2d": [
           {
            "colorbar": {
             "outlinewidth": 0,
             "ticks": ""
            },
            "colorscale": [
             [
              0,
              "#0d0887"
             ],
             [
              0.1111111111111111,
              "#46039f"
             ],
             [
              0.2222222222222222,
              "#7201a8"
             ],
             [
              0.3333333333333333,
              "#9c179e"
             ],
             [
              0.4444444444444444,
              "#bd3786"
             ],
             [
              0.5555555555555556,
              "#d8576b"
             ],
             [
              0.6666666666666666,
              "#ed7953"
             ],
             [
              0.7777777777777778,
              "#fb9f3a"
             ],
             [
              0.8888888888888888,
              "#fdca26"
             ],
             [
              1,
              "#f0f921"
             ]
            ],
            "type": "histogram2d"
           }
          ],
          "histogram2dcontour": [
           {
            "colorbar": {
             "outlinewidth": 0,
             "ticks": ""
            },
            "colorscale": [
             [
              0,
              "#0d0887"
             ],
             [
              0.1111111111111111,
              "#46039f"
             ],
             [
              0.2222222222222222,
              "#7201a8"
             ],
             [
              0.3333333333333333,
              "#9c179e"
             ],
             [
              0.4444444444444444,
              "#bd3786"
             ],
             [
              0.5555555555555556,
              "#d8576b"
             ],
             [
              0.6666666666666666,
              "#ed7953"
             ],
             [
              0.7777777777777778,
              "#fb9f3a"
             ],
             [
              0.8888888888888888,
              "#fdca26"
             ],
             [
              1,
              "#f0f921"
             ]
            ],
            "type": "histogram2dcontour"
           }
          ],
          "mesh3d": [
           {
            "colorbar": {
             "outlinewidth": 0,
             "ticks": ""
            },
            "type": "mesh3d"
           }
          ],
          "parcoords": [
           {
            "line": {
             "colorbar": {
              "outlinewidth": 0,
              "ticks": ""
             }
            },
            "type": "parcoords"
           }
          ],
          "pie": [
           {
            "automargin": true,
            "type": "pie"
           }
          ],
          "scatter": [
           {
            "marker": {
             "colorbar": {
              "outlinewidth": 0,
              "ticks": ""
             }
            },
            "type": "scatter"
           }
          ],
          "scatter3d": [
           {
            "line": {
             "colorbar": {
              "outlinewidth": 0,
              "ticks": ""
             }
            },
            "marker": {
             "colorbar": {
              "outlinewidth": 0,
              "ticks": ""
             }
            },
            "type": "scatter3d"
           }
          ],
          "scattercarpet": [
           {
            "marker": {
             "colorbar": {
              "outlinewidth": 0,
              "ticks": ""
             }
            },
            "type": "scattercarpet"
           }
          ],
          "scattergeo": [
           {
            "marker": {
             "colorbar": {
              "outlinewidth": 0,
              "ticks": ""
             }
            },
            "type": "scattergeo"
           }
          ],
          "scattergl": [
           {
            "marker": {
             "colorbar": {
              "outlinewidth": 0,
              "ticks": ""
             }
            },
            "type": "scattergl"
           }
          ],
          "scattermapbox": [
           {
            "marker": {
             "colorbar": {
              "outlinewidth": 0,
              "ticks": ""
             }
            },
            "type": "scattermapbox"
           }
          ],
          "scatterpolar": [
           {
            "marker": {
             "colorbar": {
              "outlinewidth": 0,
              "ticks": ""
             }
            },
            "type": "scatterpolar"
           }
          ],
          "scatterpolargl": [
           {
            "marker": {
             "colorbar": {
              "outlinewidth": 0,
              "ticks": ""
             }
            },
            "type": "scatterpolargl"
           }
          ],
          "scatterternary": [
           {
            "marker": {
             "colorbar": {
              "outlinewidth": 0,
              "ticks": ""
             }
            },
            "type": "scatterternary"
           }
          ],
          "surface": [
           {
            "colorbar": {
             "outlinewidth": 0,
             "ticks": ""
            },
            "colorscale": [
             [
              0,
              "#0d0887"
             ],
             [
              0.1111111111111111,
              "#46039f"
             ],
             [
              0.2222222222222222,
              "#7201a8"
             ],
             [
              0.3333333333333333,
              "#9c179e"
             ],
             [
              0.4444444444444444,
              "#bd3786"
             ],
             [
              0.5555555555555556,
              "#d8576b"
             ],
             [
              0.6666666666666666,
              "#ed7953"
             ],
             [
              0.7777777777777778,
              "#fb9f3a"
             ],
             [
              0.8888888888888888,
              "#fdca26"
             ],
             [
              1,
              "#f0f921"
             ]
            ],
            "type": "surface"
           }
          ],
          "table": [
           {
            "cells": {
             "fill": {
              "color": "#EBF0F8"
             },
             "line": {
              "color": "white"
             }
            },
            "header": {
             "fill": {
              "color": "#C8D4E3"
             },
             "line": {
              "color": "white"
             }
            },
            "type": "table"
           }
          ]
         },
         "layout": {
          "annotationdefaults": {
           "arrowcolor": "#2a3f5f",
           "arrowhead": 0,
           "arrowwidth": 1
          },
          "autotypenumbers": "strict",
          "coloraxis": {
           "colorbar": {
            "outlinewidth": 0,
            "ticks": ""
           }
          },
          "colorscale": {
           "diverging": [
            [
             0,
             "#8e0152"
            ],
            [
             0.1,
             "#c51b7d"
            ],
            [
             0.2,
             "#de77ae"
            ],
            [
             0.3,
             "#f1b6da"
            ],
            [
             0.4,
             "#fde0ef"
            ],
            [
             0.5,
             "#f7f7f7"
            ],
            [
             0.6,
             "#e6f5d0"
            ],
            [
             0.7,
             "#b8e186"
            ],
            [
             0.8,
             "#7fbc41"
            ],
            [
             0.9,
             "#4d9221"
            ],
            [
             1,
             "#276419"
            ]
           ],
           "sequential": [
            [
             0,
             "#0d0887"
            ],
            [
             0.1111111111111111,
             "#46039f"
            ],
            [
             0.2222222222222222,
             "#7201a8"
            ],
            [
             0.3333333333333333,
             "#9c179e"
            ],
            [
             0.4444444444444444,
             "#bd3786"
            ],
            [
             0.5555555555555556,
             "#d8576b"
            ],
            [
             0.6666666666666666,
             "#ed7953"
            ],
            [
             0.7777777777777778,
             "#fb9f3a"
            ],
            [
             0.8888888888888888,
             "#fdca26"
            ],
            [
             1,
             "#f0f921"
            ]
           ],
           "sequentialminus": [
            [
             0,
             "#0d0887"
            ],
            [
             0.1111111111111111,
             "#46039f"
            ],
            [
             0.2222222222222222,
             "#7201a8"
            ],
            [
             0.3333333333333333,
             "#9c179e"
            ],
            [
             0.4444444444444444,
             "#bd3786"
            ],
            [
             0.5555555555555556,
             "#d8576b"
            ],
            [
             0.6666666666666666,
             "#ed7953"
            ],
            [
             0.7777777777777778,
             "#fb9f3a"
            ],
            [
             0.8888888888888888,
             "#fdca26"
            ],
            [
             1,
             "#f0f921"
            ]
           ]
          },
          "colorway": [
           "#636efa",
           "#EF553B",
           "#00cc96",
           "#ab63fa",
           "#FFA15A",
           "#19d3f3",
           "#FF6692",
           "#B6E880",
           "#FF97FF",
           "#FECB52"
          ],
          "font": {
           "color": "#2a3f5f"
          },
          "geo": {
           "bgcolor": "white",
           "lakecolor": "white",
           "landcolor": "#E5ECF6",
           "showlakes": true,
           "showland": true,
           "subunitcolor": "white"
          },
          "hoverlabel": {
           "align": "left"
          },
          "hovermode": "closest",
          "mapbox": {
           "style": "light"
          },
          "paper_bgcolor": "white",
          "plot_bgcolor": "#E5ECF6",
          "polar": {
           "angularaxis": {
            "gridcolor": "white",
            "linecolor": "white",
            "ticks": ""
           },
           "bgcolor": "#E5ECF6",
           "radialaxis": {
            "gridcolor": "white",
            "linecolor": "white",
            "ticks": ""
           }
          },
          "scene": {
           "xaxis": {
            "backgroundcolor": "#E5ECF6",
            "gridcolor": "white",
            "gridwidth": 2,
            "linecolor": "white",
            "showbackground": true,
            "ticks": "",
            "zerolinecolor": "white"
           },
           "yaxis": {
            "backgroundcolor": "#E5ECF6",
            "gridcolor": "white",
            "gridwidth": 2,
            "linecolor": "white",
            "showbackground": true,
            "ticks": "",
            "zerolinecolor": "white"
           },
           "zaxis": {
            "backgroundcolor": "#E5ECF6",
            "gridcolor": "white",
            "gridwidth": 2,
            "linecolor": "white",
            "showbackground": true,
            "ticks": "",
            "zerolinecolor": "white"
           }
          },
          "shapedefaults": {
           "line": {
            "color": "#2a3f5f"
           }
          },
          "ternary": {
           "aaxis": {
            "gridcolor": "white",
            "linecolor": "white",
            "ticks": ""
           },
           "baxis": {
            "gridcolor": "white",
            "linecolor": "white",
            "ticks": ""
           },
           "bgcolor": "#E5ECF6",
           "caxis": {
            "gridcolor": "white",
            "linecolor": "white",
            "ticks": ""
           }
          },
          "title": {
           "x": 0.05
          },
          "xaxis": {
           "automargin": true,
           "gridcolor": "white",
           "linecolor": "white",
           "ticks": "",
           "title": {
            "standoff": 15
           },
           "zerolinecolor": "white",
           "zerolinewidth": 2
          },
          "yaxis": {
           "automargin": true,
           "gridcolor": "white",
           "linecolor": "white",
           "ticks": "",
           "title": {
            "standoff": 15
           },
           "zerolinecolor": "white",
           "zerolinewidth": 2
          }
         }
        },
        "xaxis": {
         "anchor": "y",
         "domain": [
          0,
          1
         ],
         "title": {
          "text": "value"
         }
        },
        "xaxis2": {
         "anchor": "y2",
         "domain": [
          0,
          1
         ],
         "matches": "x",
         "showgrid": true,
         "showticklabels": false
        },
        "yaxis": {
         "anchor": "x",
         "domain": [
          0,
          0.7326
         ],
         "title": {
          "text": "count"
         }
        },
        "yaxis2": {
         "anchor": "x2",
         "domain": [
          0.7426,
          1
         ],
         "matches": "y2",
         "showgrid": false,
         "showline": false,
         "showticklabels": false,
         "ticks": ""
        }
       }
      },
      "text/html": [
       "<div>                            <div id=\"ed682c04-781c-4fac-89df-b5a3e9350b23\" class=\"plotly-graph-div\" style=\"height:525px; width:100%;\"></div>            <script type=\"text/javascript\">                require([\"plotly\"], function(Plotly) {                    window.PLOTLYENV=window.PLOTLYENV || {};                                    if (document.getElementById(\"ed682c04-781c-4fac-89df-b5a3e9350b23\")) {                    Plotly.newPlot(                        \"ed682c04-781c-4fac-89df-b5a3e9350b23\",                        [{\"alignmentgroup\":\"True\",\"bingroup\":\"x\",\"hovertemplate\":\"variable=0<br>value=%{x}<br>count=%{y}<extra></extra>\",\"legendgroup\":\"0\",\"marker\":{\"color\":\"#636efa\",\"pattern\":{\"shape\":\"\"}},\"name\":\"0\",\"offsetgroup\":\"0\",\"orientation\":\"v\",\"showlegend\":true,\"type\":\"histogram\",\"x\":[0.0,0.02417714148759842,0.008584118448197842,0.003775752382352948,0.00020544785365927964,0.008743575774133205,0.00872805342078209,0.007218698039650917,0.006099937483668327,0.0075510721653699875,0.005496609024703503,0.06809516996145248,0.025180615484714508,0.023444166406989098,0.005726475268602371,0.005840543657541275,0.0,8.155852992786095e-05,0.01724894717335701,0.00014924674178473651,0.006797876674681902,0.10788053274154663,0.0017551429336890578,0.019702956080436707,0.007502292282879353,0.008193579502403736,0.00896997470408678,0.005220058374106884,0.12681294977664948,0.01812843792140484,0.0009033820242621005,0.012622806243598461,0.0,0.003198471385985613,0.00011304713552817702,0.005943997297435999,0.008720907382667065,0.06395519524812698,0.004077892750501633,0.012397811748087406,0.012526330538094044,0.006775766611099243,0.008087490685284138,0.016089458018541336,0.006864579394459724,0.002018884290009737,0.014225508086383343,0.0012077513383701444,0.0,0.00010144165571546182,0.011499861255288124,0.014106277376413345,0.0006200424977578223,0.010713156312704086,0.017752688378095627,0.007341122720390558,0.0026234614197164774,0.006994261406362057,0.0036063052248209715,0.00897483341395855,0.002110235160216689,0.005741582717746496,0.0014938048552721739,0.007984722033143044,0.0,0.4297645390033722,0.003045120742172003,0.006090712733566761,0.005629994906485081,0.0035610583145171404,0.013334065675735474,0.01283777691423893,0.0021240324713289738,0.004723198711872101,0.010394919663667679,0.015590800903737545,0.02075466699898243,0.004476458765566349,0.005754099227488041,0.14714747667312622,0.0,0.016114989295601845,0.02763315849006176,0.015471751801669598,0.038952913135290146,0.02679300494492054,0.035026513040065765,0.012743305414915085,0.011272796429693699,0.06106152758002281,0.040155958384275436,0.11350352317094803,0.001353924279101193,0.003401075955480337,0.00013854302233085036,0.005704876501113176,0.0,0.00223653856664896,0.09152897447347641,0.009361633099615574,0.07654886692762375,0.011441006325185299,0.0022354882676154375,0.007520277053117752,0.0026665793266147375,0.0019752783700823784,0.00357788591645658,0.1943732500076294,0.004296142142266035,0.0002321995998499915,0.007486714981496334,0.0037114478182047606,0.0,0.0051659406162798405,0.0013370879460126162,0.009758749045431614,0.004425706807523966,0.008898420259356499,0.010229108855128288,0.004135094117373228,0.0008196930284611881,0.06837555766105652,0.0010848087258636951,0.004530384670943022,0.00012275839981157333,0.009876454249024391,0.1336284726858139,0.00734172947704792,0.0,0.024143433198332787,0.07750855386257172,0.00189570477232337,0.00018271140288561583,0.01986539177596569,0.004937213845551014,0.0026173631194978952,0.019343184307217598,0.003701814915984869,0.056899793446063995,9.677552588982508e-05,0.00932811014354229,0.021552491933107376,0.0036920986603945494,0.008184686303138733,0.0,0.007006738800555468,0.0007007435779087245,0.0010554419131949544,0.006856679916381836,0.09048013389110565,0.002798230154439807,0.009453418664634228,0.00022831511159893125,0.009804781526327133,6.639070488745347e-05,0.005460327956825495,0.01485673151910305,0.01028136070817709,0.04740788787603378,0.009980456903576851,0.0,0.004699705634266138,0.004625340458005667,0.014434436336159706,0.010928366333246231,0.031728968024253845,0.008345977403223515,0.003904733806848526,0.001344673102721572,0.0005229740054346621,0.014288068749010563,0.013350246474146843,0.008869921788573265,0.001345859025605023,0.0022856479045003653,0.0029467628337442875,0.0,0.03111252933740616,0.004537238739430904,0.01837548427283764,0.003830849891528487,0.007488183211535215,0.0011850817827507854,0.010243949480354786,0.00016794365365058184,0.012709824368357658,0.010436788201332092,0.002975824987515807,0.0075672948732972145,0.00359523412771523,0.007345231249928474,0.012454351410269737,0.0,0.0056020175106823444,0.0020214200485497713,0.006691248621791601,0.04787735641002655,0.00047204596921801567,0.0030548106878995895,0.00013887599925510585,0.006834702100604773,0.0054464684799313545,0.003793958341702819,0.010034911334514618,0.00269149849191308,0.03360723331570625,0.003583987709134817,0.005009303335100412,0.0,0.0043546888045966625,0.0023521417751908302,0.012968409806489944,0.00030191297992132604,0.05320991948246956,0.00016950027202256024,0.02041267789900303,0.016978034749627113,0.0038642464205622673,0.0040526799857616425,0.12376858294010162,0.011288977228105068,0.004747531842440367,0.0028249945025891066,0.00617628637701273,0.0],\"xaxis\":\"x\",\"yaxis\":\"y\"},{\"alignmentgroup\":\"True\",\"hovertemplate\":\"variable=0<br>value=%{x}<extra></extra>\",\"legendgroup\":\"0\",\"marker\":{\"color\":\"#636efa\"},\"name\":\"0\",\"notched\":true,\"offsetgroup\":\"0\",\"showlegend\":false,\"type\":\"box\",\"x\":[0.0,0.02417714148759842,0.008584118448197842,0.003775752382352948,0.00020544785365927964,0.008743575774133205,0.00872805342078209,0.007218698039650917,0.006099937483668327,0.0075510721653699875,0.005496609024703503,0.06809516996145248,0.025180615484714508,0.023444166406989098,0.005726475268602371,0.005840543657541275,0.0,8.155852992786095e-05,0.01724894717335701,0.00014924674178473651,0.006797876674681902,0.10788053274154663,0.0017551429336890578,0.019702956080436707,0.007502292282879353,0.008193579502403736,0.00896997470408678,0.005220058374106884,0.12681294977664948,0.01812843792140484,0.0009033820242621005,0.012622806243598461,0.0,0.003198471385985613,0.00011304713552817702,0.005943997297435999,0.008720907382667065,0.06395519524812698,0.004077892750501633,0.012397811748087406,0.012526330538094044,0.006775766611099243,0.008087490685284138,0.016089458018541336,0.006864579394459724,0.002018884290009737,0.014225508086383343,0.0012077513383701444,0.0,0.00010144165571546182,0.011499861255288124,0.014106277376413345,0.0006200424977578223,0.010713156312704086,0.017752688378095627,0.007341122720390558,0.0026234614197164774,0.006994261406362057,0.0036063052248209715,0.00897483341395855,0.002110235160216689,0.005741582717746496,0.0014938048552721739,0.007984722033143044,0.0,0.4297645390033722,0.003045120742172003,0.006090712733566761,0.005629994906485081,0.0035610583145171404,0.013334065675735474,0.01283777691423893,0.0021240324713289738,0.004723198711872101,0.010394919663667679,0.015590800903737545,0.02075466699898243,0.004476458765566349,0.005754099227488041,0.14714747667312622,0.0,0.016114989295601845,0.02763315849006176,0.015471751801669598,0.038952913135290146,0.02679300494492054,0.035026513040065765,0.012743305414915085,0.011272796429693699,0.06106152758002281,0.040155958384275436,0.11350352317094803,0.001353924279101193,0.003401075955480337,0.00013854302233085036,0.005704876501113176,0.0,0.00223653856664896,0.09152897447347641,0.009361633099615574,0.07654886692762375,0.011441006325185299,0.0022354882676154375,0.007520277053117752,0.0026665793266147375,0.0019752783700823784,0.00357788591645658,0.1943732500076294,0.004296142142266035,0.0002321995998499915,0.007486714981496334,0.0037114478182047606,0.0,0.0051659406162798405,0.0013370879460126162,0.009758749045431614,0.004425706807523966,0.008898420259356499,0.010229108855128288,0.004135094117373228,0.0008196930284611881,0.06837555766105652,0.0010848087258636951,0.004530384670943022,0.00012275839981157333,0.009876454249024391,0.1336284726858139,0.00734172947704792,0.0,0.024143433198332787,0.07750855386257172,0.00189570477232337,0.00018271140288561583,0.01986539177596569,0.004937213845551014,0.0026173631194978952,0.019343184307217598,0.003701814915984869,0.056899793446063995,9.677552588982508e-05,0.00932811014354229,0.021552491933107376,0.0036920986603945494,0.008184686303138733,0.0,0.007006738800555468,0.0007007435779087245,0.0010554419131949544,0.006856679916381836,0.09048013389110565,0.002798230154439807,0.009453418664634228,0.00022831511159893125,0.009804781526327133,6.639070488745347e-05,0.005460327956825495,0.01485673151910305,0.01028136070817709,0.04740788787603378,0.009980456903576851,0.0,0.004699705634266138,0.004625340458005667,0.014434436336159706,0.010928366333246231,0.031728968024253845,0.008345977403223515,0.003904733806848526,0.001344673102721572,0.0005229740054346621,0.014288068749010563,0.013350246474146843,0.008869921788573265,0.001345859025605023,0.0022856479045003653,0.0029467628337442875,0.0,0.03111252933740616,0.004537238739430904,0.01837548427283764,0.003830849891528487,0.007488183211535215,0.0011850817827507854,0.010243949480354786,0.00016794365365058184,0.012709824368357658,0.010436788201332092,0.002975824987515807,0.0075672948732972145,0.00359523412771523,0.007345231249928474,0.012454351410269737,0.0,0.0056020175106823444,0.0020214200485497713,0.006691248621791601,0.04787735641002655,0.00047204596921801567,0.0030548106878995895,0.00013887599925510585,0.006834702100604773,0.0054464684799313545,0.003793958341702819,0.010034911334514618,0.00269149849191308,0.03360723331570625,0.003583987709134817,0.005009303335100412,0.0,0.0043546888045966625,0.0023521417751908302,0.012968409806489944,0.00030191297992132604,0.05320991948246956,0.00016950027202256024,0.02041267789900303,0.016978034749627113,0.0038642464205622673,0.0040526799857616425,0.12376858294010162,0.011288977228105068,0.004747531842440367,0.0028249945025891066,0.00617628637701273,0.0],\"xaxis\":\"x2\",\"yaxis\":\"y2\"}],                        {\"barmode\":\"relative\",\"legend\":{\"title\":{\"text\":\"variable\"},\"tracegroupgap\":0},\"margin\":{\"t\":60},\"template\":{\"data\":{\"bar\":[{\"error_x\":{\"color\":\"#2a3f5f\"},\"error_y\":{\"color\":\"#2a3f5f\"},\"marker\":{\"line\":{\"color\":\"#E5ECF6\",\"width\":0.5},\"pattern\":{\"fillmode\":\"overlay\",\"size\":10,\"solidity\":0.2}},\"type\":\"bar\"}],\"barpolar\":[{\"marker\":{\"line\":{\"color\":\"#E5ECF6\",\"width\":0.5},\"pattern\":{\"fillmode\":\"overlay\",\"size\":10,\"solidity\":0.2}},\"type\":\"barpolar\"}],\"carpet\":[{\"aaxis\":{\"endlinecolor\":\"#2a3f5f\",\"gridcolor\":\"white\",\"linecolor\":\"white\",\"minorgridcolor\":\"white\",\"startlinecolor\":\"#2a3f5f\"},\"baxis\":{\"endlinecolor\":\"#2a3f5f\",\"gridcolor\":\"white\",\"linecolor\":\"white\",\"minorgridcolor\":\"white\",\"startlinecolor\":\"#2a3f5f\"},\"type\":\"carpet\"}],\"choropleth\":[{\"colorbar\":{\"outlinewidth\":0,\"ticks\":\"\"},\"type\":\"choropleth\"}],\"contour\":[{\"colorbar\":{\"outlinewidth\":0,\"ticks\":\"\"},\"colorscale\":[[0.0,\"#0d0887\"],[0.1111111111111111,\"#46039f\"],[0.2222222222222222,\"#7201a8\"],[0.3333333333333333,\"#9c179e\"],[0.4444444444444444,\"#bd3786\"],[0.5555555555555556,\"#d8576b\"],[0.6666666666666666,\"#ed7953\"],[0.7777777777777778,\"#fb9f3a\"],[0.8888888888888888,\"#fdca26\"],[1.0,\"#f0f921\"]],\"type\":\"contour\"}],\"contourcarpet\":[{\"colorbar\":{\"outlinewidth\":0,\"ticks\":\"\"},\"type\":\"contourcarpet\"}],\"heatmap\":[{\"colorbar\":{\"outlinewidth\":0,\"ticks\":\"\"},\"colorscale\":[[0.0,\"#0d0887\"],[0.1111111111111111,\"#46039f\"],[0.2222222222222222,\"#7201a8\"],[0.3333333333333333,\"#9c179e\"],[0.4444444444444444,\"#bd3786\"],[0.5555555555555556,\"#d8576b\"],[0.6666666666666666,\"#ed7953\"],[0.7777777777777778,\"#fb9f3a\"],[0.8888888888888888,\"#fdca26\"],[1.0,\"#f0f921\"]],\"type\":\"heatmap\"}],\"heatmapgl\":[{\"colorbar\":{\"outlinewidth\":0,\"ticks\":\"\"},\"colorscale\":[[0.0,\"#0d0887\"],[0.1111111111111111,\"#46039f\"],[0.2222222222222222,\"#7201a8\"],[0.3333333333333333,\"#9c179e\"],[0.4444444444444444,\"#bd3786\"],[0.5555555555555556,\"#d8576b\"],[0.6666666666666666,\"#ed7953\"],[0.7777777777777778,\"#fb9f3a\"],[0.8888888888888888,\"#fdca26\"],[1.0,\"#f0f921\"]],\"type\":\"heatmapgl\"}],\"histogram\":[{\"marker\":{\"pattern\":{\"fillmode\":\"overlay\",\"size\":10,\"solidity\":0.2}},\"type\":\"histogram\"}],\"histogram2d\":[{\"colorbar\":{\"outlinewidth\":0,\"ticks\":\"\"},\"colorscale\":[[0.0,\"#0d0887\"],[0.1111111111111111,\"#46039f\"],[0.2222222222222222,\"#7201a8\"],[0.3333333333333333,\"#9c179e\"],[0.4444444444444444,\"#bd3786\"],[0.5555555555555556,\"#d8576b\"],[0.6666666666666666,\"#ed7953\"],[0.7777777777777778,\"#fb9f3a\"],[0.8888888888888888,\"#fdca26\"],[1.0,\"#f0f921\"]],\"type\":\"histogram2d\"}],\"histogram2dcontour\":[{\"colorbar\":{\"outlinewidth\":0,\"ticks\":\"\"},\"colorscale\":[[0.0,\"#0d0887\"],[0.1111111111111111,\"#46039f\"],[0.2222222222222222,\"#7201a8\"],[0.3333333333333333,\"#9c179e\"],[0.4444444444444444,\"#bd3786\"],[0.5555555555555556,\"#d8576b\"],[0.6666666666666666,\"#ed7953\"],[0.7777777777777778,\"#fb9f3a\"],[0.8888888888888888,\"#fdca26\"],[1.0,\"#f0f921\"]],\"type\":\"histogram2dcontour\"}],\"mesh3d\":[{\"colorbar\":{\"outlinewidth\":0,\"ticks\":\"\"},\"type\":\"mesh3d\"}],\"parcoords\":[{\"line\":{\"colorbar\":{\"outlinewidth\":0,\"ticks\":\"\"}},\"type\":\"parcoords\"}],\"pie\":[{\"automargin\":true,\"type\":\"pie\"}],\"scatter\":[{\"marker\":{\"colorbar\":{\"outlinewidth\":0,\"ticks\":\"\"}},\"type\":\"scatter\"}],\"scatter3d\":[{\"line\":{\"colorbar\":{\"outlinewidth\":0,\"ticks\":\"\"}},\"marker\":{\"colorbar\":{\"outlinewidth\":0,\"ticks\":\"\"}},\"type\":\"scatter3d\"}],\"scattercarpet\":[{\"marker\":{\"colorbar\":{\"outlinewidth\":0,\"ticks\":\"\"}},\"type\":\"scattercarpet\"}],\"scattergeo\":[{\"marker\":{\"colorbar\":{\"outlinewidth\":0,\"ticks\":\"\"}},\"type\":\"scattergeo\"}],\"scattergl\":[{\"marker\":{\"colorbar\":{\"outlinewidth\":0,\"ticks\":\"\"}},\"type\":\"scattergl\"}],\"scattermapbox\":[{\"marker\":{\"colorbar\":{\"outlinewidth\":0,\"ticks\":\"\"}},\"type\":\"scattermapbox\"}],\"scatterpolar\":[{\"marker\":{\"colorbar\":{\"outlinewidth\":0,\"ticks\":\"\"}},\"type\":\"scatterpolar\"}],\"scatterpolargl\":[{\"marker\":{\"colorbar\":{\"outlinewidth\":0,\"ticks\":\"\"}},\"type\":\"scatterpolargl\"}],\"scatterternary\":[{\"marker\":{\"colorbar\":{\"outlinewidth\":0,\"ticks\":\"\"}},\"type\":\"scatterternary\"}],\"surface\":[{\"colorbar\":{\"outlinewidth\":0,\"ticks\":\"\"},\"colorscale\":[[0.0,\"#0d0887\"],[0.1111111111111111,\"#46039f\"],[0.2222222222222222,\"#7201a8\"],[0.3333333333333333,\"#9c179e\"],[0.4444444444444444,\"#bd3786\"],[0.5555555555555556,\"#d8576b\"],[0.6666666666666666,\"#ed7953\"],[0.7777777777777778,\"#fb9f3a\"],[0.8888888888888888,\"#fdca26\"],[1.0,\"#f0f921\"]],\"type\":\"surface\"}],\"table\":[{\"cells\":{\"fill\":{\"color\":\"#EBF0F8\"},\"line\":{\"color\":\"white\"}},\"header\":{\"fill\":{\"color\":\"#C8D4E3\"},\"line\":{\"color\":\"white\"}},\"type\":\"table\"}]},\"layout\":{\"annotationdefaults\":{\"arrowcolor\":\"#2a3f5f\",\"arrowhead\":0,\"arrowwidth\":1},\"autotypenumbers\":\"strict\",\"coloraxis\":{\"colorbar\":{\"outlinewidth\":0,\"ticks\":\"\"}},\"colorscale\":{\"diverging\":[[0,\"#8e0152\"],[0.1,\"#c51b7d\"],[0.2,\"#de77ae\"],[0.3,\"#f1b6da\"],[0.4,\"#fde0ef\"],[0.5,\"#f7f7f7\"],[0.6,\"#e6f5d0\"],[0.7,\"#b8e186\"],[0.8,\"#7fbc41\"],[0.9,\"#4d9221\"],[1,\"#276419\"]],\"sequential\":[[0.0,\"#0d0887\"],[0.1111111111111111,\"#46039f\"],[0.2222222222222222,\"#7201a8\"],[0.3333333333333333,\"#9c179e\"],[0.4444444444444444,\"#bd3786\"],[0.5555555555555556,\"#d8576b\"],[0.6666666666666666,\"#ed7953\"],[0.7777777777777778,\"#fb9f3a\"],[0.8888888888888888,\"#fdca26\"],[1.0,\"#f0f921\"]],\"sequentialminus\":[[0.0,\"#0d0887\"],[0.1111111111111111,\"#46039f\"],[0.2222222222222222,\"#7201a8\"],[0.3333333333333333,\"#9c179e\"],[0.4444444444444444,\"#bd3786\"],[0.5555555555555556,\"#d8576b\"],[0.6666666666666666,\"#ed7953\"],[0.7777777777777778,\"#fb9f3a\"],[0.8888888888888888,\"#fdca26\"],[1.0,\"#f0f921\"]]},\"colorway\":[\"#636efa\",\"#EF553B\",\"#00cc96\",\"#ab63fa\",\"#FFA15A\",\"#19d3f3\",\"#FF6692\",\"#B6E880\",\"#FF97FF\",\"#FECB52\"],\"font\":{\"color\":\"#2a3f5f\"},\"geo\":{\"bgcolor\":\"white\",\"lakecolor\":\"white\",\"landcolor\":\"#E5ECF6\",\"showlakes\":true,\"showland\":true,\"subunitcolor\":\"white\"},\"hoverlabel\":{\"align\":\"left\"},\"hovermode\":\"closest\",\"mapbox\":{\"style\":\"light\"},\"paper_bgcolor\":\"white\",\"plot_bgcolor\":\"#E5ECF6\",\"polar\":{\"angularaxis\":{\"gridcolor\":\"white\",\"linecolor\":\"white\",\"ticks\":\"\"},\"bgcolor\":\"#E5ECF6\",\"radialaxis\":{\"gridcolor\":\"white\",\"linecolor\":\"white\",\"ticks\":\"\"}},\"scene\":{\"xaxis\":{\"backgroundcolor\":\"#E5ECF6\",\"gridcolor\":\"white\",\"gridwidth\":2,\"linecolor\":\"white\",\"showbackground\":true,\"ticks\":\"\",\"zerolinecolor\":\"white\"},\"yaxis\":{\"backgroundcolor\":\"#E5ECF6\",\"gridcolor\":\"white\",\"gridwidth\":2,\"linecolor\":\"white\",\"showbackground\":true,\"ticks\":\"\",\"zerolinecolor\":\"white\"},\"zaxis\":{\"backgroundcolor\":\"#E5ECF6\",\"gridcolor\":\"white\",\"gridwidth\":2,\"linecolor\":\"white\",\"showbackground\":true,\"ticks\":\"\",\"zerolinecolor\":\"white\"}},\"shapedefaults\":{\"line\":{\"color\":\"#2a3f5f\"}},\"ternary\":{\"aaxis\":{\"gridcolor\":\"white\",\"linecolor\":\"white\",\"ticks\":\"\"},\"baxis\":{\"gridcolor\":\"white\",\"linecolor\":\"white\",\"ticks\":\"\"},\"bgcolor\":\"#E5ECF6\",\"caxis\":{\"gridcolor\":\"white\",\"linecolor\":\"white\",\"ticks\":\"\"}},\"title\":{\"x\":0.05},\"xaxis\":{\"automargin\":true,\"gridcolor\":\"white\",\"linecolor\":\"white\",\"ticks\":\"\",\"title\":{\"standoff\":15},\"zerolinecolor\":\"white\",\"zerolinewidth\":2},\"yaxis\":{\"automargin\":true,\"gridcolor\":\"white\",\"linecolor\":\"white\",\"ticks\":\"\",\"title\":{\"standoff\":15},\"zerolinecolor\":\"white\",\"zerolinewidth\":2}}},\"xaxis\":{\"anchor\":\"y\",\"domain\":[0.0,1.0],\"title\":{\"text\":\"value\"}},\"xaxis2\":{\"anchor\":\"y2\",\"domain\":[0.0,1.0],\"matches\":\"x\",\"showgrid\":true,\"showticklabels\":false},\"yaxis\":{\"anchor\":\"x\",\"domain\":[0.0,0.7326],\"title\":{\"text\":\"count\"}},\"yaxis2\":{\"anchor\":\"x2\",\"domain\":[0.7426,1.0],\"matches\":\"y2\",\"showgrid\":false,\"showline\":false,\"showticklabels\":false,\"ticks\":\"\"}},                        {\"responsive\": true}                    ).then(function(){\n",
       "                            \n",
       "var gd = document.getElementById('ed682c04-781c-4fac-89df-b5a3e9350b23');\n",
       "var x = new MutationObserver(function (mutations, observer) {{\n",
       "        var display = window.getComputedStyle(gd).display;\n",
       "        if (!display || display === 'none') {{\n",
       "            console.log([gd, 'removed!']);\n",
       "            Plotly.purge(gd);\n",
       "            observer.disconnect();\n",
       "        }}\n",
       "}});\n",
       "\n",
       "// Listen for the removal of the full notebook cells\n",
       "var notebookContainer = gd.closest('#notebook-container');\n",
       "if (notebookContainer) {{\n",
       "    x.observe(notebookContainer, {childList: true});\n",
       "}}\n",
       "\n",
       "// Listen for the clearing of the current output cell\n",
       "var outputEl = gd.closest('.output');\n",
       "if (outputEl) {{\n",
       "    x.observe(outputEl, {childList: true});\n",
       "}}\n",
       "\n",
       "                        })                };                });            </script>        </div>"
      ]
     },
     "metadata": {},
     "output_type": "display_data"
    }
   ],
   "source": [
    "if run:\n",
    "    fig = px.histogram(W_est.flatten(), marginal=\"box\")\n",
    "    fig.show()"
   ]
  },
  {
   "cell_type": "code",
   "execution_count": null,
   "metadata": {},
   "outputs": [
    {
     "data": {
      "text/html": [
       "<style  type=\"text/css\" >\n",
       "#T_d3da4d86_7795_11ec_84a1_0c9d92c473d6row0_col0,#T_d3da4d86_7795_11ec_84a1_0c9d92c473d6row0_col4,#T_d3da4d86_7795_11ec_84a1_0c9d92c473d6row1_col1,#T_d3da4d86_7795_11ec_84a1_0c9d92c473d6row1_col2,#T_d3da4d86_7795_11ec_84a1_0c9d92c473d6row1_col4,#T_d3da4d86_7795_11ec_84a1_0c9d92c473d6row2_col2,#T_d3da4d86_7795_11ec_84a1_0c9d92c473d6row2_col4,#T_d3da4d86_7795_11ec_84a1_0c9d92c473d6row3_col2,#T_d3da4d86_7795_11ec_84a1_0c9d92c473d6row3_col3,#T_d3da4d86_7795_11ec_84a1_0c9d92c473d6row3_col4,#T_d3da4d86_7795_11ec_84a1_0c9d92c473d6row4_col2,#T_d3da4d86_7795_11ec_84a1_0c9d92c473d6row4_col4,#T_d3da4d86_7795_11ec_84a1_0c9d92c473d6row5_col5,#T_d3da4d86_7795_11ec_84a1_0c9d92c473d6row6_col2,#T_d3da4d86_7795_11ec_84a1_0c9d92c473d6row6_col4,#T_d3da4d86_7795_11ec_84a1_0c9d92c473d6row6_col6,#T_d3da4d86_7795_11ec_84a1_0c9d92c473d6row7_col4,#T_d3da4d86_7795_11ec_84a1_0c9d92c473d6row7_col7,#T_d3da4d86_7795_11ec_84a1_0c9d92c473d6row8_col2,#T_d3da4d86_7795_11ec_84a1_0c9d92c473d6row8_col4,#T_d3da4d86_7795_11ec_84a1_0c9d92c473d6row8_col8,#T_d3da4d86_7795_11ec_84a1_0c9d92c473d6row8_col12,#T_d3da4d86_7795_11ec_84a1_0c9d92c473d6row9_col4,#T_d3da4d86_7795_11ec_84a1_0c9d92c473d6row9_col9,#T_d3da4d86_7795_11ec_84a1_0c9d92c473d6row10_col2,#T_d3da4d86_7795_11ec_84a1_0c9d92c473d6row10_col4,#T_d3da4d86_7795_11ec_84a1_0c9d92c473d6row10_col10,#T_d3da4d86_7795_11ec_84a1_0c9d92c473d6row11_col11,#T_d3da4d86_7795_11ec_84a1_0c9d92c473d6row12_col2,#T_d3da4d86_7795_11ec_84a1_0c9d92c473d6row12_col4,#T_d3da4d86_7795_11ec_84a1_0c9d92c473d6row12_col12,#T_d3da4d86_7795_11ec_84a1_0c9d92c473d6row13_col2,#T_d3da4d86_7795_11ec_84a1_0c9d92c473d6row13_col4,#T_d3da4d86_7795_11ec_84a1_0c9d92c473d6row13_col13,#T_d3da4d86_7795_11ec_84a1_0c9d92c473d6row14_col2,#T_d3da4d86_7795_11ec_84a1_0c9d92c473d6row14_col4,#T_d3da4d86_7795_11ec_84a1_0c9d92c473d6row14_col14{\n",
       "            background-color:  #f0f1f3;\n",
       "            color:  #000000;\n",
       "        }#T_d3da4d86_7795_11ec_84a1_0c9d92c473d6row0_col1{\n",
       "            background-color:  #cdd7e0;\n",
       "            color:  #000000;\n",
       "        }#T_d3da4d86_7795_11ec_84a1_0c9d92c473d6row0_col2,#T_d3da4d86_7795_11ec_84a1_0c9d92c473d6row3_col0,#T_d3da4d86_7795_11ec_84a1_0c9d92c473d6row4_col0,#T_d3da4d86_7795_11ec_84a1_0c9d92c473d6row7_col0,#T_d3da4d86_7795_11ec_84a1_0c9d92c473d6row12_col7,#T_d3da4d86_7795_11ec_84a1_0c9d92c473d6row12_col13,#T_d3da4d86_7795_11ec_84a1_0c9d92c473d6row14_col0,#T_d3da4d86_7795_11ec_84a1_0c9d92c473d6row14_col5,#T_d3da4d86_7795_11ec_84a1_0c9d92c473d6row14_col13{\n",
       "            background-color:  #e8ebef;\n",
       "            color:  #000000;\n",
       "        }#T_d3da4d86_7795_11ec_84a1_0c9d92c473d6row0_col3,#T_d3da4d86_7795_11ec_84a1_0c9d92c473d6row0_col6,#T_d3da4d86_7795_11ec_84a1_0c9d92c473d6row2_col6,#T_d3da4d86_7795_11ec_84a1_0c9d92c473d6row6_col9,#T_d3da4d86_7795_11ec_84a1_0c9d92c473d6row7_col3,#T_d3da4d86_7795_11ec_84a1_0c9d92c473d6row11_col1{\n",
       "            background-color:  #e4e8ed;\n",
       "            color:  #000000;\n",
       "        }#T_d3da4d86_7795_11ec_84a1_0c9d92c473d6row0_col5,#T_d3da4d86_7795_11ec_84a1_0c9d92c473d6row5_col2,#T_d3da4d86_7795_11ec_84a1_0c9d92c473d6row9_col2,#T_d3da4d86_7795_11ec_84a1_0c9d92c473d6row9_col5,#T_d3da4d86_7795_11ec_84a1_0c9d92c473d6row11_col2,#T_d3da4d86_7795_11ec_84a1_0c9d92c473d6row11_col3,#T_d3da4d86_7795_11ec_84a1_0c9d92c473d6row12_col14{\n",
       "            background-color:  #edeff1;\n",
       "            color:  #000000;\n",
       "        }#T_d3da4d86_7795_11ec_84a1_0c9d92c473d6row0_col7,#T_d3da4d86_7795_11ec_84a1_0c9d92c473d6row4_col14,#T_d3da4d86_7795_11ec_84a1_0c9d92c473d6row8_col7,#T_d3da4d86_7795_11ec_84a1_0c9d92c473d6row10_col13,#T_d3da4d86_7795_11ec_84a1_0c9d92c473d6row13_col8{\n",
       "            background-color:  #dee3e9;\n",
       "            color:  #000000;\n",
       "        }#T_d3da4d86_7795_11ec_84a1_0c9d92c473d6row0_col8,#T_d3da4d86_7795_11ec_84a1_0c9d92c473d6row0_col9,#T_d3da4d86_7795_11ec_84a1_0c9d92c473d6row0_col10,#T_d3da4d86_7795_11ec_84a1_0c9d92c473d6row0_col14,#T_d3da4d86_7795_11ec_84a1_0c9d92c473d6row1_col9,#T_d3da4d86_7795_11ec_84a1_0c9d92c473d6row4_col8,#T_d3da4d86_7795_11ec_84a1_0c9d92c473d6row4_col12,#T_d3da4d86_7795_11ec_84a1_0c9d92c473d6row6_col12,#T_d3da4d86_7795_11ec_84a1_0c9d92c473d6row6_col13,#T_d3da4d86_7795_11ec_84a1_0c9d92c473d6row9_col7,#T_d3da4d86_7795_11ec_84a1_0c9d92c473d6row13_col7,#T_d3da4d86_7795_11ec_84a1_0c9d92c473d6row14_col7{\n",
       "            background-color:  #e5e9ed;\n",
       "            color:  #000000;\n",
       "        }#T_d3da4d86_7795_11ec_84a1_0c9d92c473d6row0_col11,#T_d3da4d86_7795_11ec_84a1_0c9d92c473d6row1_col13,#T_d3da4d86_7795_11ec_84a1_0c9d92c473d6row2_col7,#T_d3da4d86_7795_11ec_84a1_0c9d92c473d6row4_col5,#T_d3da4d86_7795_11ec_84a1_0c9d92c473d6row5_col4,#T_d3da4d86_7795_11ec_84a1_0c9d92c473d6row6_col0,#T_d3da4d86_7795_11ec_84a1_0c9d92c473d6row6_col1,#T_d3da4d86_7795_11ec_84a1_0c9d92c473d6row6_col8,#T_d3da4d86_7795_11ec_84a1_0c9d92c473d6row7_col2,#T_d3da4d86_7795_11ec_84a1_0c9d92c473d6row8_col6,#T_d3da4d86_7795_11ec_84a1_0c9d92c473d6row8_col10,#T_d3da4d86_7795_11ec_84a1_0c9d92c473d6row9_col3,#T_d3da4d86_7795_11ec_84a1_0c9d92c473d6row9_col14,#T_d3da4d86_7795_11ec_84a1_0c9d92c473d6row11_col12,#T_d3da4d86_7795_11ec_84a1_0c9d92c473d6row14_col9{\n",
       "            background-color:  #47739a;\n",
       "            color:  #000000;\n",
       "        }#T_d3da4d86_7795_11ec_84a1_0c9d92c473d6row0_col12,#T_d3da4d86_7795_11ec_84a1_0c9d92c473d6row1_col6{\n",
       "            background-color:  #688cab;\n",
       "            color:  #000000;\n",
       "        }#T_d3da4d86_7795_11ec_84a1_0c9d92c473d6row0_col13,#T_d3da4d86_7795_11ec_84a1_0c9d92c473d6row5_col1{\n",
       "            background-color:  #d2dae3;\n",
       "            color:  #000000;\n",
       "        }#T_d3da4d86_7795_11ec_84a1_0c9d92c473d6row1_col0{\n",
       "            background-color:  #d7dee6;\n",
       "            color:  #000000;\n",
       "        }#T_d3da4d86_7795_11ec_84a1_0c9d92c473d6row1_col3{\n",
       "            background-color:  #becbd8;\n",
       "            color:  #000000;\n",
       "        }#T_d3da4d86_7795_11ec_84a1_0c9d92c473d6row1_col5,#T_d3da4d86_7795_11ec_84a1_0c9d92c473d6row2_col5,#T_d3da4d86_7795_11ec_84a1_0c9d92c473d6row3_col7,#T_d3da4d86_7795_11ec_84a1_0c9d92c473d6row6_col5,#T_d3da4d86_7795_11ec_84a1_0c9d92c473d6row7_col5,#T_d3da4d86_7795_11ec_84a1_0c9d92c473d6row9_col11,#T_d3da4d86_7795_11ec_84a1_0c9d92c473d6row10_col5,#T_d3da4d86_7795_11ec_84a1_0c9d92c473d6row11_col9,#T_d3da4d86_7795_11ec_84a1_0c9d92c473d6row13_col5{\n",
       "            background-color:  #eeeff2;\n",
       "            color:  #000000;\n",
       "        }#T_d3da4d86_7795_11ec_84a1_0c9d92c473d6row1_col7,#T_d3da4d86_7795_11ec_84a1_0c9d92c473d6row3_col13,#T_d3da4d86_7795_11ec_84a1_0c9d92c473d6row4_col9,#T_d3da4d86_7795_11ec_84a1_0c9d92c473d6row6_col7,#T_d3da4d86_7795_11ec_84a1_0c9d92c473d6row6_col14,#T_d3da4d86_7795_11ec_84a1_0c9d92c473d6row7_col6,#T_d3da4d86_7795_11ec_84a1_0c9d92c473d6row8_col11,#T_d3da4d86_7795_11ec_84a1_0c9d92c473d6row9_col12,#T_d3da4d86_7795_11ec_84a1_0c9d92c473d6row11_col5,#T_d3da4d86_7795_11ec_84a1_0c9d92c473d6row12_col5,#T_d3da4d86_7795_11ec_84a1_0c9d92c473d6row12_col9{\n",
       "            background-color:  #ebedf0;\n",
       "            color:  #000000;\n",
       "        }#T_d3da4d86_7795_11ec_84a1_0c9d92c473d6row1_col8{\n",
       "            background-color:  #ccd6e0;\n",
       "            color:  #000000;\n",
       "        }#T_d3da4d86_7795_11ec_84a1_0c9d92c473d6row1_col10,#T_d3da4d86_7795_11ec_84a1_0c9d92c473d6row2_col11,#T_d3da4d86_7795_11ec_84a1_0c9d92c473d6row3_col6,#T_d3da4d86_7795_11ec_84a1_0c9d92c473d6row5_col3{\n",
       "            background-color:  #dfe4ea;\n",
       "            color:  #000000;\n",
       "        }#T_d3da4d86_7795_11ec_84a1_0c9d92c473d6row1_col11{\n",
       "            background-color:  #dae1e7;\n",
       "            color:  #000000;\n",
       "        }#T_d3da4d86_7795_11ec_84a1_0c9d92c473d6row1_col12,#T_d3da4d86_7795_11ec_84a1_0c9d92c473d6row6_col11,#T_d3da4d86_7795_11ec_84a1_0c9d92c473d6row8_col13,#T_d3da4d86_7795_11ec_84a1_0c9d92c473d6row10_col12,#T_d3da4d86_7795_11ec_84a1_0c9d92c473d6row13_col12{\n",
       "            background-color:  #d5dde5;\n",
       "            color:  #000000;\n",
       "        }#T_d3da4d86_7795_11ec_84a1_0c9d92c473d6row1_col14,#T_d3da4d86_7795_11ec_84a1_0c9d92c473d6row11_col14{\n",
       "            background-color:  #cfd8e1;\n",
       "            color:  #000000;\n",
       "        }#T_d3da4d86_7795_11ec_84a1_0c9d92c473d6row2_col0,#T_d3da4d86_7795_11ec_84a1_0c9d92c473d6row3_col5,#T_d3da4d86_7795_11ec_84a1_0c9d92c473d6row4_col6,#T_d3da4d86_7795_11ec_84a1_0c9d92c473d6row8_col0,#T_d3da4d86_7795_11ec_84a1_0c9d92c473d6row8_col5,#T_d3da4d86_7795_11ec_84a1_0c9d92c473d6row13_col9{\n",
       "            background-color:  #eceef1;\n",
       "            color:  #000000;\n",
       "        }#T_d3da4d86_7795_11ec_84a1_0c9d92c473d6row2_col1,#T_d3da4d86_7795_11ec_84a1_0c9d92c473d6row10_col6,#T_d3da4d86_7795_11ec_84a1_0c9d92c473d6row14_col1{\n",
       "            background-color:  #dde3e9;\n",
       "            color:  #000000;\n",
       "        }#T_d3da4d86_7795_11ec_84a1_0c9d92c473d6row2_col3,#T_d3da4d86_7795_11ec_84a1_0c9d92c473d6row4_col1,#T_d3da4d86_7795_11ec_84a1_0c9d92c473d6row6_col3,#T_d3da4d86_7795_11ec_84a1_0c9d92c473d6row7_col8,#T_d3da4d86_7795_11ec_84a1_0c9d92c473d6row8_col14,#T_d3da4d86_7795_11ec_84a1_0c9d92c473d6row9_col13,#T_d3da4d86_7795_11ec_84a1_0c9d92c473d6row13_col3{\n",
       "            background-color:  #e7eaee;\n",
       "            color:  #000000;\n",
       "        }#T_d3da4d86_7795_11ec_84a1_0c9d92c473d6row2_col8,#T_d3da4d86_7795_11ec_84a1_0c9d92c473d6row3_col11,#T_d3da4d86_7795_11ec_84a1_0c9d92c473d6row4_col13,#T_d3da4d86_7795_11ec_84a1_0c9d92c473d6row7_col14,#T_d3da4d86_7795_11ec_84a1_0c9d92c473d6row11_col13,#T_d3da4d86_7795_11ec_84a1_0c9d92c473d6row13_col14,#T_d3da4d86_7795_11ec_84a1_0c9d92c473d6row14_col8{\n",
       "            background-color:  #e9ecef;\n",
       "            color:  #000000;\n",
       "        }#T_d3da4d86_7795_11ec_84a1_0c9d92c473d6row2_col9,#T_d3da4d86_7795_11ec_84a1_0c9d92c473d6row3_col14,#T_d3da4d86_7795_11ec_84a1_0c9d92c473d6row11_col6,#T_d3da4d86_7795_11ec_84a1_0c9d92c473d6row12_col0,#T_d3da4d86_7795_11ec_84a1_0c9d92c473d6row14_col12{\n",
       "            background-color:  #e0e5ea;\n",
       "            color:  #000000;\n",
       "        }#T_d3da4d86_7795_11ec_84a1_0c9d92c473d6row2_col10,#T_d3da4d86_7795_11ec_84a1_0c9d92c473d6row4_col10,#T_d3da4d86_7795_11ec_84a1_0c9d92c473d6row5_col8,#T_d3da4d86_7795_11ec_84a1_0c9d92c473d6row9_col1,#T_d3da4d86_7795_11ec_84a1_0c9d92c473d6row9_col6{\n",
       "            background-color:  #d4dce4;\n",
       "            color:  #000000;\n",
       "        }#T_d3da4d86_7795_11ec_84a1_0c9d92c473d6row2_col12{\n",
       "            background-color:  #c5d0dc;\n",
       "            color:  #000000;\n",
       "        }#T_d3da4d86_7795_11ec_84a1_0c9d92c473d6row2_col13,#T_d3da4d86_7795_11ec_84a1_0c9d92c473d6row7_col10,#T_d3da4d86_7795_11ec_84a1_0c9d92c473d6row14_col6{\n",
       "            background-color:  #dbe1e8;\n",
       "            color:  #000000;\n",
       "        }#T_d3da4d86_7795_11ec_84a1_0c9d92c473d6row2_col14,#T_d3da4d86_7795_11ec_84a1_0c9d92c473d6row9_col0,#T_d3da4d86_7795_11ec_84a1_0c9d92c473d6row10_col0,#T_d3da4d86_7795_11ec_84a1_0c9d92c473d6row10_col11,#T_d3da4d86_7795_11ec_84a1_0c9d92c473d6row12_col6,#T_d3da4d86_7795_11ec_84a1_0c9d92c473d6row14_col11{\n",
       "            background-color:  #e4e8ec;\n",
       "            color:  #000000;\n",
       "        }#T_d3da4d86_7795_11ec_84a1_0c9d92c473d6row3_col1,#T_d3da4d86_7795_11ec_84a1_0c9d92c473d6row3_col8,#T_d3da4d86_7795_11ec_84a1_0c9d92c473d6row5_col6,#T_d3da4d86_7795_11ec_84a1_0c9d92c473d6row10_col14{\n",
       "            background-color:  #dce2e8;\n",
       "            color:  #000000;\n",
       "        }#T_d3da4d86_7795_11ec_84a1_0c9d92c473d6row3_col9,#T_d3da4d86_7795_11ec_84a1_0c9d92c473d6row4_col3,#T_d3da4d86_7795_11ec_84a1_0c9d92c473d6row11_col7,#T_d3da4d86_7795_11ec_84a1_0c9d92c473d6row14_col10{\n",
       "            background-color:  #d8dfe6;\n",
       "            color:  #000000;\n",
       "        }#T_d3da4d86_7795_11ec_84a1_0c9d92c473d6row3_col10,#T_d3da4d86_7795_11ec_84a1_0c9d92c473d6row4_col7,#T_d3da4d86_7795_11ec_84a1_0c9d92c473d6row9_col10,#T_d3da4d86_7795_11ec_84a1_0c9d92c473d6row12_col10{\n",
       "            background-color:  #e1e5eb;\n",
       "            color:  #000000;\n",
       "        }#T_d3da4d86_7795_11ec_84a1_0c9d92c473d6row3_col12{\n",
       "            background-color:  #cad5df;\n",
       "            color:  #000000;\n",
       "        }#T_d3da4d86_7795_11ec_84a1_0c9d92c473d6row4_col11,#T_d3da4d86_7795_11ec_84a1_0c9d92c473d6row8_col9{\n",
       "            background-color:  #d0d9e2;\n",
       "            color:  #000000;\n",
       "        }#T_d3da4d86_7795_11ec_84a1_0c9d92c473d6row5_col0{\n",
       "            background-color:  #adbfcf;\n",
       "            color:  #000000;\n",
       "        }#T_d3da4d86_7795_11ec_84a1_0c9d92c473d6row5_col7,#T_d3da4d86_7795_11ec_84a1_0c9d92c473d6row13_col10{\n",
       "            background-color:  #a6bacc;\n",
       "            color:  #000000;\n",
       "        }#T_d3da4d86_7795_11ec_84a1_0c9d92c473d6row5_col9{\n",
       "            background-color:  #bbc9d7;\n",
       "            color:  #000000;\n",
       "        }#T_d3da4d86_7795_11ec_84a1_0c9d92c473d6row5_col10{\n",
       "            background-color:  #b6c6d4;\n",
       "            color:  #000000;\n",
       "        }#T_d3da4d86_7795_11ec_84a1_0c9d92c473d6row5_col11{\n",
       "            background-color:  #99b0c5;\n",
       "            color:  #000000;\n",
       "        }#T_d3da4d86_7795_11ec_84a1_0c9d92c473d6row5_col12,#T_d3da4d86_7795_11ec_84a1_0c9d92c473d6row13_col1{\n",
       "            background-color:  #a9bccd;\n",
       "            color:  #000000;\n",
       "        }#T_d3da4d86_7795_11ec_84a1_0c9d92c473d6row5_col13,#T_d3da4d86_7795_11ec_84a1_0c9d92c473d6row8_col3,#T_d3da4d86_7795_11ec_84a1_0c9d92c473d6row9_col8,#T_d3da4d86_7795_11ec_84a1_0c9d92c473d6row12_col8{\n",
       "            background-color:  #e2e6eb;\n",
       "            color:  #000000;\n",
       "        }#T_d3da4d86_7795_11ec_84a1_0c9d92c473d6row5_col14{\n",
       "            background-color:  #7e9cb7;\n",
       "            color:  #000000;\n",
       "        }#T_d3da4d86_7795_11ec_84a1_0c9d92c473d6row6_col10{\n",
       "            background-color:  #4a759b;\n",
       "            color:  #000000;\n",
       "        }#T_d3da4d86_7795_11ec_84a1_0c9d92c473d6row7_col1,#T_d3da4d86_7795_11ec_84a1_0c9d92c473d6row11_col10,#T_d3da4d86_7795_11ec_84a1_0c9d92c473d6row13_col6{\n",
       "            background-color:  #eaecf0;\n",
       "            color:  #000000;\n",
       "        }#T_d3da4d86_7795_11ec_84a1_0c9d92c473d6row7_col9,#T_d3da4d86_7795_11ec_84a1_0c9d92c473d6row11_col4,#T_d3da4d86_7795_11ec_84a1_0c9d92c473d6row11_col8{\n",
       "            background-color:  #eff0f2;\n",
       "            color:  #000000;\n",
       "        }#T_d3da4d86_7795_11ec_84a1_0c9d92c473d6row7_col11,#T_d3da4d86_7795_11ec_84a1_0c9d92c473d6row12_col1,#T_d3da4d86_7795_11ec_84a1_0c9d92c473d6row13_col11{\n",
       "            background-color:  #e6eaee;\n",
       "            color:  #000000;\n",
       "        }#T_d3da4d86_7795_11ec_84a1_0c9d92c473d6row7_col12{\n",
       "            background-color:  #c0cdd9;\n",
       "            color:  #000000;\n",
       "        }#T_d3da4d86_7795_11ec_84a1_0c9d92c473d6row7_col13,#T_d3da4d86_7795_11ec_84a1_0c9d92c473d6row10_col1,#T_d3da4d86_7795_11ec_84a1_0c9d92c473d6row10_col9{\n",
       "            background-color:  #e3e7ec;\n",
       "            color:  #000000;\n",
       "        }#T_d3da4d86_7795_11ec_84a1_0c9d92c473d6row8_col1{\n",
       "            background-color:  #8ca6be;\n",
       "            color:  #000000;\n",
       "        }#T_d3da4d86_7795_11ec_84a1_0c9d92c473d6row10_col3,#T_d3da4d86_7795_11ec_84a1_0c9d92c473d6row12_col3,#T_d3da4d86_7795_11ec_84a1_0c9d92c473d6row12_col11,#T_d3da4d86_7795_11ec_84a1_0c9d92c473d6row13_col0{\n",
       "            background-color:  #d3dbe3;\n",
       "            color:  #000000;\n",
       "        }#T_d3da4d86_7795_11ec_84a1_0c9d92c473d6row10_col7{\n",
       "            background-color:  #d6dee5;\n",
       "            color:  #000000;\n",
       "        }#T_d3da4d86_7795_11ec_84a1_0c9d92c473d6row10_col8{\n",
       "            background-color:  #9ab1c6;\n",
       "            color:  #000000;\n",
       "        }#T_d3da4d86_7795_11ec_84a1_0c9d92c473d6row11_col0{\n",
       "            background-color:  #698cac;\n",
       "            color:  #000000;\n",
       "        }#T_d3da4d86_7795_11ec_84a1_0c9d92c473d6row14_col3{\n",
       "            background-color:  #547ca0;\n",
       "            color:  #000000;\n",
       "        }</style><table id=\"T_d3da4d86_7795_11ec_84a1_0c9d92c473d6\" ><thead>    <tr>        <th class=\"blank level0\" ></th>        <th class=\"col_heading level0 col0\" >target</th>        <th class=\"col_heading level0 col1\" >age</th>        <th class=\"col_heading level0 col2\" >workclass</th>        <th class=\"col_heading level0 col3\" >fnlwgt</th>        <th class=\"col_heading level0 col4\" >education</th>        <th class=\"col_heading level0 col5\" >education-num</th>        <th class=\"col_heading level0 col6\" >marital-status</th>        <th class=\"col_heading level0 col7\" >occupation</th>        <th class=\"col_heading level0 col8\" >relationship</th>        <th class=\"col_heading level0 col9\" >race</th>        <th class=\"col_heading level0 col10\" >sex</th>        <th class=\"col_heading level0 col11\" >capital-gain</th>        <th class=\"col_heading level0 col12\" >capital-loss</th>        <th class=\"col_heading level0 col13\" >hours-per-week</th>        <th class=\"col_heading level0 col14\" >native-country</th>    </tr></thead><tbody>\n",
       "                <tr>\n",
       "                        <th id=\"T_d3da4d86_7795_11ec_84a1_0c9d92c473d6level0_row0\" class=\"row_heading level0 row0\" >target</th>\n",
       "                        <td id=\"T_d3da4d86_7795_11ec_84a1_0c9d92c473d6row0_col0\" class=\"data row0 col0\" >0.0</td>\n",
       "                        <td id=\"T_d3da4d86_7795_11ec_84a1_0c9d92c473d6row0_col1\" class=\"data row0 col1\" >0.024</td>\n",
       "                        <td id=\"T_d3da4d86_7795_11ec_84a1_0c9d92c473d6row0_col2\" class=\"data row0 col2\" >0.009</td>\n",
       "                        <td id=\"T_d3da4d86_7795_11ec_84a1_0c9d92c473d6row0_col3\" class=\"data row0 col3\" >0.004</td>\n",
       "                        <td id=\"T_d3da4d86_7795_11ec_84a1_0c9d92c473d6row0_col4\" class=\"data row0 col4\" >0.0</td>\n",
       "                        <td id=\"T_d3da4d86_7795_11ec_84a1_0c9d92c473d6row0_col5\" class=\"data row0 col5\" >0.009</td>\n",
       "                        <td id=\"T_d3da4d86_7795_11ec_84a1_0c9d92c473d6row0_col6\" class=\"data row0 col6\" >0.009</td>\n",
       "                        <td id=\"T_d3da4d86_7795_11ec_84a1_0c9d92c473d6row0_col7\" class=\"data row0 col7\" >0.007</td>\n",
       "                        <td id=\"T_d3da4d86_7795_11ec_84a1_0c9d92c473d6row0_col8\" class=\"data row0 col8\" >0.006</td>\n",
       "                        <td id=\"T_d3da4d86_7795_11ec_84a1_0c9d92c473d6row0_col9\" class=\"data row0 col9\" >0.008</td>\n",
       "                        <td id=\"T_d3da4d86_7795_11ec_84a1_0c9d92c473d6row0_col10\" class=\"data row0 col10\" >0.005</td>\n",
       "                        <td id=\"T_d3da4d86_7795_11ec_84a1_0c9d92c473d6row0_col11\" class=\"data row0 col11\" >0.068</td>\n",
       "                        <td id=\"T_d3da4d86_7795_11ec_84a1_0c9d92c473d6row0_col12\" class=\"data row0 col12\" >0.025</td>\n",
       "                        <td id=\"T_d3da4d86_7795_11ec_84a1_0c9d92c473d6row0_col13\" class=\"data row0 col13\" >0.023</td>\n",
       "                        <td id=\"T_d3da4d86_7795_11ec_84a1_0c9d92c473d6row0_col14\" class=\"data row0 col14\" >0.006</td>\n",
       "            </tr>\n",
       "            <tr>\n",
       "                        <th id=\"T_d3da4d86_7795_11ec_84a1_0c9d92c473d6level0_row1\" class=\"row_heading level0 row1\" >age</th>\n",
       "                        <td id=\"T_d3da4d86_7795_11ec_84a1_0c9d92c473d6row1_col0\" class=\"data row1 col0\" >0.006</td>\n",
       "                        <td id=\"T_d3da4d86_7795_11ec_84a1_0c9d92c473d6row1_col1\" class=\"data row1 col1\" >0.0</td>\n",
       "                        <td id=\"T_d3da4d86_7795_11ec_84a1_0c9d92c473d6row1_col2\" class=\"data row1 col2\" >0.0</td>\n",
       "                        <td id=\"T_d3da4d86_7795_11ec_84a1_0c9d92c473d6row1_col3\" class=\"data row1 col3\" >0.017</td>\n",
       "                        <td id=\"T_d3da4d86_7795_11ec_84a1_0c9d92c473d6row1_col4\" class=\"data row1 col4\" >0.0</td>\n",
       "                        <td id=\"T_d3da4d86_7795_11ec_84a1_0c9d92c473d6row1_col5\" class=\"data row1 col5\" >0.007</td>\n",
       "                        <td id=\"T_d3da4d86_7795_11ec_84a1_0c9d92c473d6row1_col6\" class=\"data row1 col6\" >0.108</td>\n",
       "                        <td id=\"T_d3da4d86_7795_11ec_84a1_0c9d92c473d6row1_col7\" class=\"data row1 col7\" >0.002</td>\n",
       "                        <td id=\"T_d3da4d86_7795_11ec_84a1_0c9d92c473d6row1_col8\" class=\"data row1 col8\" >0.02</td>\n",
       "                        <td id=\"T_d3da4d86_7795_11ec_84a1_0c9d92c473d6row1_col9\" class=\"data row1 col9\" >0.008</td>\n",
       "                        <td id=\"T_d3da4d86_7795_11ec_84a1_0c9d92c473d6row1_col10\" class=\"data row1 col10\" >0.008</td>\n",
       "                        <td id=\"T_d3da4d86_7795_11ec_84a1_0c9d92c473d6row1_col11\" class=\"data row1 col11\" >0.009</td>\n",
       "                        <td id=\"T_d3da4d86_7795_11ec_84a1_0c9d92c473d6row1_col12\" class=\"data row1 col12\" >0.005</td>\n",
       "                        <td id=\"T_d3da4d86_7795_11ec_84a1_0c9d92c473d6row1_col13\" class=\"data row1 col13\" >0.127</td>\n",
       "                        <td id=\"T_d3da4d86_7795_11ec_84a1_0c9d92c473d6row1_col14\" class=\"data row1 col14\" >0.018</td>\n",
       "            </tr>\n",
       "            <tr>\n",
       "                        <th id=\"T_d3da4d86_7795_11ec_84a1_0c9d92c473d6level0_row2\" class=\"row_heading level0 row2\" >workclass</th>\n",
       "                        <td id=\"T_d3da4d86_7795_11ec_84a1_0c9d92c473d6row2_col0\" class=\"data row2 col0\" >0.001</td>\n",
       "                        <td id=\"T_d3da4d86_7795_11ec_84a1_0c9d92c473d6row2_col1\" class=\"data row2 col1\" >0.013</td>\n",
       "                        <td id=\"T_d3da4d86_7795_11ec_84a1_0c9d92c473d6row2_col2\" class=\"data row2 col2\" >0.0</td>\n",
       "                        <td id=\"T_d3da4d86_7795_11ec_84a1_0c9d92c473d6row2_col3\" class=\"data row2 col3\" >0.003</td>\n",
       "                        <td id=\"T_d3da4d86_7795_11ec_84a1_0c9d92c473d6row2_col4\" class=\"data row2 col4\" >0.0</td>\n",
       "                        <td id=\"T_d3da4d86_7795_11ec_84a1_0c9d92c473d6row2_col5\" class=\"data row2 col5\" >0.006</td>\n",
       "                        <td id=\"T_d3da4d86_7795_11ec_84a1_0c9d92c473d6row2_col6\" class=\"data row2 col6\" >0.009</td>\n",
       "                        <td id=\"T_d3da4d86_7795_11ec_84a1_0c9d92c473d6row2_col7\" class=\"data row2 col7\" >0.064</td>\n",
       "                        <td id=\"T_d3da4d86_7795_11ec_84a1_0c9d92c473d6row2_col8\" class=\"data row2 col8\" >0.004</td>\n",
       "                        <td id=\"T_d3da4d86_7795_11ec_84a1_0c9d92c473d6row2_col9\" class=\"data row2 col9\" >0.012</td>\n",
       "                        <td id=\"T_d3da4d86_7795_11ec_84a1_0c9d92c473d6row2_col10\" class=\"data row2 col10\" >0.013</td>\n",
       "                        <td id=\"T_d3da4d86_7795_11ec_84a1_0c9d92c473d6row2_col11\" class=\"data row2 col11\" >0.007</td>\n",
       "                        <td id=\"T_d3da4d86_7795_11ec_84a1_0c9d92c473d6row2_col12\" class=\"data row2 col12\" >0.008</td>\n",
       "                        <td id=\"T_d3da4d86_7795_11ec_84a1_0c9d92c473d6row2_col13\" class=\"data row2 col13\" >0.016</td>\n",
       "                        <td id=\"T_d3da4d86_7795_11ec_84a1_0c9d92c473d6row2_col14\" class=\"data row2 col14\" >0.007</td>\n",
       "            </tr>\n",
       "            <tr>\n",
       "                        <th id=\"T_d3da4d86_7795_11ec_84a1_0c9d92c473d6level0_row3\" class=\"row_heading level0 row3\" >fnlwgt</th>\n",
       "                        <td id=\"T_d3da4d86_7795_11ec_84a1_0c9d92c473d6row3_col0\" class=\"data row3 col0\" >0.002</td>\n",
       "                        <td id=\"T_d3da4d86_7795_11ec_84a1_0c9d92c473d6row3_col1\" class=\"data row3 col1\" >0.014</td>\n",
       "                        <td id=\"T_d3da4d86_7795_11ec_84a1_0c9d92c473d6row3_col2\" class=\"data row3 col2\" >0.001</td>\n",
       "                        <td id=\"T_d3da4d86_7795_11ec_84a1_0c9d92c473d6row3_col3\" class=\"data row3 col3\" >0.0</td>\n",
       "                        <td id=\"T_d3da4d86_7795_11ec_84a1_0c9d92c473d6row3_col4\" class=\"data row3 col4\" >0.0</td>\n",
       "                        <td id=\"T_d3da4d86_7795_11ec_84a1_0c9d92c473d6row3_col5\" class=\"data row3 col5\" >0.011</td>\n",
       "                        <td id=\"T_d3da4d86_7795_11ec_84a1_0c9d92c473d6row3_col6\" class=\"data row3 col6\" >0.014</td>\n",
       "                        <td id=\"T_d3da4d86_7795_11ec_84a1_0c9d92c473d6row3_col7\" class=\"data row3 col7\" >0.001</td>\n",
       "                        <td id=\"T_d3da4d86_7795_11ec_84a1_0c9d92c473d6row3_col8\" class=\"data row3 col8\" >0.011</td>\n",
       "                        <td id=\"T_d3da4d86_7795_11ec_84a1_0c9d92c473d6row3_col9\" class=\"data row3 col9\" >0.018</td>\n",
       "                        <td id=\"T_d3da4d86_7795_11ec_84a1_0c9d92c473d6row3_col10\" class=\"data row3 col10\" >0.007</td>\n",
       "                        <td id=\"T_d3da4d86_7795_11ec_84a1_0c9d92c473d6row3_col11\" class=\"data row3 col11\" >0.003</td>\n",
       "                        <td id=\"T_d3da4d86_7795_11ec_84a1_0c9d92c473d6row3_col12\" class=\"data row3 col12\" >0.007</td>\n",
       "                        <td id=\"T_d3da4d86_7795_11ec_84a1_0c9d92c473d6row3_col13\" class=\"data row3 col13\" >0.004</td>\n",
       "                        <td id=\"T_d3da4d86_7795_11ec_84a1_0c9d92c473d6row3_col14\" class=\"data row3 col14\" >0.009</td>\n",
       "            </tr>\n",
       "            <tr>\n",
       "                        <th id=\"T_d3da4d86_7795_11ec_84a1_0c9d92c473d6level0_row4\" class=\"row_heading level0 row4\" >education</th>\n",
       "                        <td id=\"T_d3da4d86_7795_11ec_84a1_0c9d92c473d6row4_col0\" class=\"data row4 col0\" >0.002</td>\n",
       "                        <td id=\"T_d3da4d86_7795_11ec_84a1_0c9d92c473d6row4_col1\" class=\"data row4 col1\" >0.006</td>\n",
       "                        <td id=\"T_d3da4d86_7795_11ec_84a1_0c9d92c473d6row4_col2\" class=\"data row4 col2\" >0.001</td>\n",
       "                        <td id=\"T_d3da4d86_7795_11ec_84a1_0c9d92c473d6row4_col3\" class=\"data row4 col3\" >0.008</td>\n",
       "                        <td id=\"T_d3da4d86_7795_11ec_84a1_0c9d92c473d6row4_col4\" class=\"data row4 col4\" >0.0</td>\n",
       "                        <td id=\"T_d3da4d86_7795_11ec_84a1_0c9d92c473d6row4_col5\" class=\"data row4 col5\" >0.43</td>\n",
       "                        <td id=\"T_d3da4d86_7795_11ec_84a1_0c9d92c473d6row4_col6\" class=\"data row4 col6\" >0.003</td>\n",
       "                        <td id=\"T_d3da4d86_7795_11ec_84a1_0c9d92c473d6row4_col7\" class=\"data row4 col7\" >0.006</td>\n",
       "                        <td id=\"T_d3da4d86_7795_11ec_84a1_0c9d92c473d6row4_col8\" class=\"data row4 col8\" >0.006</td>\n",
       "                        <td id=\"T_d3da4d86_7795_11ec_84a1_0c9d92c473d6row4_col9\" class=\"data row4 col9\" >0.004</td>\n",
       "                        <td id=\"T_d3da4d86_7795_11ec_84a1_0c9d92c473d6row4_col10\" class=\"data row4 col10\" >0.013</td>\n",
       "                        <td id=\"T_d3da4d86_7795_11ec_84a1_0c9d92c473d6row4_col11\" class=\"data row4 col11\" >0.013</td>\n",
       "                        <td id=\"T_d3da4d86_7795_11ec_84a1_0c9d92c473d6row4_col12\" class=\"data row4 col12\" >0.002</td>\n",
       "                        <td id=\"T_d3da4d86_7795_11ec_84a1_0c9d92c473d6row4_col13\" class=\"data row4 col13\" >0.005</td>\n",
       "                        <td id=\"T_d3da4d86_7795_11ec_84a1_0c9d92c473d6row4_col14\" class=\"data row4 col14\" >0.01</td>\n",
       "            </tr>\n",
       "            <tr>\n",
       "                        <th id=\"T_d3da4d86_7795_11ec_84a1_0c9d92c473d6level0_row5\" class=\"row_heading level0 row5\" >education-num</th>\n",
       "                        <td id=\"T_d3da4d86_7795_11ec_84a1_0c9d92c473d6row5_col0\" class=\"data row5 col0\" >0.016</td>\n",
       "                        <td id=\"T_d3da4d86_7795_11ec_84a1_0c9d92c473d6row5_col1\" class=\"data row5 col1\" >0.021</td>\n",
       "                        <td id=\"T_d3da4d86_7795_11ec_84a1_0c9d92c473d6row5_col2\" class=\"data row5 col2\" >0.004</td>\n",
       "                        <td id=\"T_d3da4d86_7795_11ec_84a1_0c9d92c473d6row5_col3\" class=\"data row5 col3\" >0.006</td>\n",
       "                        <td id=\"T_d3da4d86_7795_11ec_84a1_0c9d92c473d6row5_col4\" class=\"data row5 col4\" >0.147</td>\n",
       "                        <td id=\"T_d3da4d86_7795_11ec_84a1_0c9d92c473d6row5_col5\" class=\"data row5 col5\" >0.0</td>\n",
       "                        <td id=\"T_d3da4d86_7795_11ec_84a1_0c9d92c473d6row5_col6\" class=\"data row5 col6\" >0.016</td>\n",
       "                        <td id=\"T_d3da4d86_7795_11ec_84a1_0c9d92c473d6row5_col7\" class=\"data row5 col7\" >0.028</td>\n",
       "                        <td id=\"T_d3da4d86_7795_11ec_84a1_0c9d92c473d6row5_col8\" class=\"data row5 col8\" >0.015</td>\n",
       "                        <td id=\"T_d3da4d86_7795_11ec_84a1_0c9d92c473d6row5_col9\" class=\"data row5 col9\" >0.039</td>\n",
       "                        <td id=\"T_d3da4d86_7795_11ec_84a1_0c9d92c473d6row5_col10\" class=\"data row5 col10\" >0.027</td>\n",
       "                        <td id=\"T_d3da4d86_7795_11ec_84a1_0c9d92c473d6row5_col11\" class=\"data row5 col11\" >0.035</td>\n",
       "                        <td id=\"T_d3da4d86_7795_11ec_84a1_0c9d92c473d6row5_col12\" class=\"data row5 col12\" >0.013</td>\n",
       "                        <td id=\"T_d3da4d86_7795_11ec_84a1_0c9d92c473d6row5_col13\" class=\"data row5 col13\" >0.011</td>\n",
       "                        <td id=\"T_d3da4d86_7795_11ec_84a1_0c9d92c473d6row5_col14\" class=\"data row5 col14\" >0.061</td>\n",
       "            </tr>\n",
       "            <tr>\n",
       "                        <th id=\"T_d3da4d86_7795_11ec_84a1_0c9d92c473d6level0_row6\" class=\"row_heading level0 row6\" >marital-status</th>\n",
       "                        <td id=\"T_d3da4d86_7795_11ec_84a1_0c9d92c473d6row6_col0\" class=\"data row6 col0\" >0.04</td>\n",
       "                        <td id=\"T_d3da4d86_7795_11ec_84a1_0c9d92c473d6row6_col1\" class=\"data row6 col1\" >0.114</td>\n",
       "                        <td id=\"T_d3da4d86_7795_11ec_84a1_0c9d92c473d6row6_col2\" class=\"data row6 col2\" >0.001</td>\n",
       "                        <td id=\"T_d3da4d86_7795_11ec_84a1_0c9d92c473d6row6_col3\" class=\"data row6 col3\" >0.003</td>\n",
       "                        <td id=\"T_d3da4d86_7795_11ec_84a1_0c9d92c473d6row6_col4\" class=\"data row6 col4\" >0.0</td>\n",
       "                        <td id=\"T_d3da4d86_7795_11ec_84a1_0c9d92c473d6row6_col5\" class=\"data row6 col5\" >0.006</td>\n",
       "                        <td id=\"T_d3da4d86_7795_11ec_84a1_0c9d92c473d6row6_col6\" class=\"data row6 col6\" >0.0</td>\n",
       "                        <td id=\"T_d3da4d86_7795_11ec_84a1_0c9d92c473d6row6_col7\" class=\"data row6 col7\" >0.002</td>\n",
       "                        <td id=\"T_d3da4d86_7795_11ec_84a1_0c9d92c473d6row6_col8\" class=\"data row6 col8\" >0.092</td>\n",
       "                        <td id=\"T_d3da4d86_7795_11ec_84a1_0c9d92c473d6row6_col9\" class=\"data row6 col9\" >0.009</td>\n",
       "                        <td id=\"T_d3da4d86_7795_11ec_84a1_0c9d92c473d6row6_col10\" class=\"data row6 col10\" >0.077</td>\n",
       "                        <td id=\"T_d3da4d86_7795_11ec_84a1_0c9d92c473d6row6_col11\" class=\"data row6 col11\" >0.011</td>\n",
       "                        <td id=\"T_d3da4d86_7795_11ec_84a1_0c9d92c473d6row6_col12\" class=\"data row6 col12\" >0.002</td>\n",
       "                        <td id=\"T_d3da4d86_7795_11ec_84a1_0c9d92c473d6row6_col13\" class=\"data row6 col13\" >0.008</td>\n",
       "                        <td id=\"T_d3da4d86_7795_11ec_84a1_0c9d92c473d6row6_col14\" class=\"data row6 col14\" >0.003</td>\n",
       "            </tr>\n",
       "            <tr>\n",
       "                        <th id=\"T_d3da4d86_7795_11ec_84a1_0c9d92c473d6level0_row7\" class=\"row_heading level0 row7\" >occupation</th>\n",
       "                        <td id=\"T_d3da4d86_7795_11ec_84a1_0c9d92c473d6row7_col0\" class=\"data row7 col0\" >0.002</td>\n",
       "                        <td id=\"T_d3da4d86_7795_11ec_84a1_0c9d92c473d6row7_col1\" class=\"data row7 col1\" >0.004</td>\n",
       "                        <td id=\"T_d3da4d86_7795_11ec_84a1_0c9d92c473d6row7_col2\" class=\"data row7 col2\" >0.194</td>\n",
       "                        <td id=\"T_d3da4d86_7795_11ec_84a1_0c9d92c473d6row7_col3\" class=\"data row7 col3\" >0.004</td>\n",
       "                        <td id=\"T_d3da4d86_7795_11ec_84a1_0c9d92c473d6row7_col4\" class=\"data row7 col4\" >0.0</td>\n",
       "                        <td id=\"T_d3da4d86_7795_11ec_84a1_0c9d92c473d6row7_col5\" class=\"data row7 col5\" >0.007</td>\n",
       "                        <td id=\"T_d3da4d86_7795_11ec_84a1_0c9d92c473d6row7_col6\" class=\"data row7 col6\" >0.004</td>\n",
       "                        <td id=\"T_d3da4d86_7795_11ec_84a1_0c9d92c473d6row7_col7\" class=\"data row7 col7\" >0.0</td>\n",
       "                        <td id=\"T_d3da4d86_7795_11ec_84a1_0c9d92c473d6row7_col8\" class=\"data row7 col8\" >0.005</td>\n",
       "                        <td id=\"T_d3da4d86_7795_11ec_84a1_0c9d92c473d6row7_col9\" class=\"data row7 col9\" >0.001</td>\n",
       "                        <td id=\"T_d3da4d86_7795_11ec_84a1_0c9d92c473d6row7_col10\" class=\"data row7 col10\" >0.01</td>\n",
       "                        <td id=\"T_d3da4d86_7795_11ec_84a1_0c9d92c473d6row7_col11\" class=\"data row7 col11\" >0.004</td>\n",
       "                        <td id=\"T_d3da4d86_7795_11ec_84a1_0c9d92c473d6row7_col12\" class=\"data row7 col12\" >0.009</td>\n",
       "                        <td id=\"T_d3da4d86_7795_11ec_84a1_0c9d92c473d6row7_col13\" class=\"data row7 col13\" >0.01</td>\n",
       "                        <td id=\"T_d3da4d86_7795_11ec_84a1_0c9d92c473d6row7_col14\" class=\"data row7 col14\" >0.004</td>\n",
       "            </tr>\n",
       "            <tr>\n",
       "                        <th id=\"T_d3da4d86_7795_11ec_84a1_0c9d92c473d6level0_row8\" class=\"row_heading level0 row8\" >relationship</th>\n",
       "                        <td id=\"T_d3da4d86_7795_11ec_84a1_0c9d92c473d6row8_col0\" class=\"data row8 col0\" >0.001</td>\n",
       "                        <td id=\"T_d3da4d86_7795_11ec_84a1_0c9d92c473d6row8_col1\" class=\"data row8 col1\" >0.068</td>\n",
       "                        <td id=\"T_d3da4d86_7795_11ec_84a1_0c9d92c473d6row8_col2\" class=\"data row8 col2\" >0.001</td>\n",
       "                        <td id=\"T_d3da4d86_7795_11ec_84a1_0c9d92c473d6row8_col3\" class=\"data row8 col3\" >0.005</td>\n",
       "                        <td id=\"T_d3da4d86_7795_11ec_84a1_0c9d92c473d6row8_col4\" class=\"data row8 col4\" >0.0</td>\n",
       "                        <td id=\"T_d3da4d86_7795_11ec_84a1_0c9d92c473d6row8_col5\" class=\"data row8 col5\" >0.01</td>\n",
       "                        <td id=\"T_d3da4d86_7795_11ec_84a1_0c9d92c473d6row8_col6\" class=\"data row8 col6\" >0.134</td>\n",
       "                        <td id=\"T_d3da4d86_7795_11ec_84a1_0c9d92c473d6row8_col7\" class=\"data row8 col7\" >0.007</td>\n",
       "                        <td id=\"T_d3da4d86_7795_11ec_84a1_0c9d92c473d6row8_col8\" class=\"data row8 col8\" >0.0</td>\n",
       "                        <td id=\"T_d3da4d86_7795_11ec_84a1_0c9d92c473d6row8_col9\" class=\"data row8 col9\" >0.024</td>\n",
       "                        <td id=\"T_d3da4d86_7795_11ec_84a1_0c9d92c473d6row8_col10\" class=\"data row8 col10\" >0.078</td>\n",
       "                        <td id=\"T_d3da4d86_7795_11ec_84a1_0c9d92c473d6row8_col11\" class=\"data row8 col11\" >0.002</td>\n",
       "                        <td id=\"T_d3da4d86_7795_11ec_84a1_0c9d92c473d6row8_col12\" class=\"data row8 col12\" >0.0</td>\n",
       "                        <td id=\"T_d3da4d86_7795_11ec_84a1_0c9d92c473d6row8_col13\" class=\"data row8 col13\" >0.02</td>\n",
       "                        <td id=\"T_d3da4d86_7795_11ec_84a1_0c9d92c473d6row8_col14\" class=\"data row8 col14\" >0.005</td>\n",
       "            </tr>\n",
       "            <tr>\n",
       "                        <th id=\"T_d3da4d86_7795_11ec_84a1_0c9d92c473d6level0_row9\" class=\"row_heading level0 row9\" >race</th>\n",
       "                        <td id=\"T_d3da4d86_7795_11ec_84a1_0c9d92c473d6row9_col0\" class=\"data row9 col0\" >0.003</td>\n",
       "                        <td id=\"T_d3da4d86_7795_11ec_84a1_0c9d92c473d6row9_col1\" class=\"data row9 col1\" >0.019</td>\n",
       "                        <td id=\"T_d3da4d86_7795_11ec_84a1_0c9d92c473d6row9_col2\" class=\"data row9 col2\" >0.004</td>\n",
       "                        <td id=\"T_d3da4d86_7795_11ec_84a1_0c9d92c473d6row9_col3\" class=\"data row9 col3\" >0.057</td>\n",
       "                        <td id=\"T_d3da4d86_7795_11ec_84a1_0c9d92c473d6row9_col4\" class=\"data row9 col4\" >0.0</td>\n",
       "                        <td id=\"T_d3da4d86_7795_11ec_84a1_0c9d92c473d6row9_col5\" class=\"data row9 col5\" >0.009</td>\n",
       "                        <td id=\"T_d3da4d86_7795_11ec_84a1_0c9d92c473d6row9_col6\" class=\"data row9 col6\" >0.022</td>\n",
       "                        <td id=\"T_d3da4d86_7795_11ec_84a1_0c9d92c473d6row9_col7\" class=\"data row9 col7\" >0.004</td>\n",
       "                        <td id=\"T_d3da4d86_7795_11ec_84a1_0c9d92c473d6row9_col8\" class=\"data row9 col8\" >0.008</td>\n",
       "                        <td id=\"T_d3da4d86_7795_11ec_84a1_0c9d92c473d6row9_col9\" class=\"data row9 col9\" >0.0</td>\n",
       "                        <td id=\"T_d3da4d86_7795_11ec_84a1_0c9d92c473d6row9_col10\" class=\"data row9 col10\" >0.007</td>\n",
       "                        <td id=\"T_d3da4d86_7795_11ec_84a1_0c9d92c473d6row9_col11\" class=\"data row9 col11\" >0.001</td>\n",
       "                        <td id=\"T_d3da4d86_7795_11ec_84a1_0c9d92c473d6row9_col12\" class=\"data row9 col12\" >0.001</td>\n",
       "                        <td id=\"T_d3da4d86_7795_11ec_84a1_0c9d92c473d6row9_col13\" class=\"data row9 col13\" >0.007</td>\n",
       "                        <td id=\"T_d3da4d86_7795_11ec_84a1_0c9d92c473d6row9_col14\" class=\"data row9 col14\" >0.09</td>\n",
       "            </tr>\n",
       "            <tr>\n",
       "                        <th id=\"T_d3da4d86_7795_11ec_84a1_0c9d92c473d6level0_row10\" class=\"row_heading level0 row10\" >sex</th>\n",
       "                        <td id=\"T_d3da4d86_7795_11ec_84a1_0c9d92c473d6row10_col0\" class=\"data row10 col0\" >0.003</td>\n",
       "                        <td id=\"T_d3da4d86_7795_11ec_84a1_0c9d92c473d6row10_col1\" class=\"data row10 col1\" >0.009</td>\n",
       "                        <td id=\"T_d3da4d86_7795_11ec_84a1_0c9d92c473d6row10_col2\" class=\"data row10 col2\" >0.0</td>\n",
       "                        <td id=\"T_d3da4d86_7795_11ec_84a1_0c9d92c473d6row10_col3\" class=\"data row10 col3\" >0.01</td>\n",
       "                        <td id=\"T_d3da4d86_7795_11ec_84a1_0c9d92c473d6row10_col4\" class=\"data row10 col4\" >0.0</td>\n",
       "                        <td id=\"T_d3da4d86_7795_11ec_84a1_0c9d92c473d6row10_col5\" class=\"data row10 col5\" >0.005</td>\n",
       "                        <td id=\"T_d3da4d86_7795_11ec_84a1_0c9d92c473d6row10_col6\" class=\"data row10 col6\" >0.015</td>\n",
       "                        <td id=\"T_d3da4d86_7795_11ec_84a1_0c9d92c473d6row10_col7\" class=\"data row10 col7\" >0.01</td>\n",
       "                        <td id=\"T_d3da4d86_7795_11ec_84a1_0c9d92c473d6row10_col8\" class=\"data row10 col8\" >0.047</td>\n",
       "                        <td id=\"T_d3da4d86_7795_11ec_84a1_0c9d92c473d6row10_col9\" class=\"data row10 col9\" >0.01</td>\n",
       "                        <td id=\"T_d3da4d86_7795_11ec_84a1_0c9d92c473d6row10_col10\" class=\"data row10 col10\" >0.0</td>\n",
       "                        <td id=\"T_d3da4d86_7795_11ec_84a1_0c9d92c473d6row10_col11\" class=\"data row10 col11\" >0.005</td>\n",
       "                        <td id=\"T_d3da4d86_7795_11ec_84a1_0c9d92c473d6row10_col12\" class=\"data row10 col12\" >0.005</td>\n",
       "                        <td id=\"T_d3da4d86_7795_11ec_84a1_0c9d92c473d6row10_col13\" class=\"data row10 col13\" >0.014</td>\n",
       "                        <td id=\"T_d3da4d86_7795_11ec_84a1_0c9d92c473d6row10_col14\" class=\"data row10 col14\" >0.011</td>\n",
       "            </tr>\n",
       "            <tr>\n",
       "                        <th id=\"T_d3da4d86_7795_11ec_84a1_0c9d92c473d6level0_row11\" class=\"row_heading level0 row11\" >capital-gain</th>\n",
       "                        <td id=\"T_d3da4d86_7795_11ec_84a1_0c9d92c473d6row11_col0\" class=\"data row11 col0\" >0.032</td>\n",
       "                        <td id=\"T_d3da4d86_7795_11ec_84a1_0c9d92c473d6row11_col1\" class=\"data row11 col1\" >0.008</td>\n",
       "                        <td id=\"T_d3da4d86_7795_11ec_84a1_0c9d92c473d6row11_col2\" class=\"data row11 col2\" >0.004</td>\n",
       "                        <td id=\"T_d3da4d86_7795_11ec_84a1_0c9d92c473d6row11_col3\" class=\"data row11 col3\" >0.001</td>\n",
       "                        <td id=\"T_d3da4d86_7795_11ec_84a1_0c9d92c473d6row11_col4\" class=\"data row11 col4\" >0.001</td>\n",
       "                        <td id=\"T_d3da4d86_7795_11ec_84a1_0c9d92c473d6row11_col5\" class=\"data row11 col5\" >0.014</td>\n",
       "                        <td id=\"T_d3da4d86_7795_11ec_84a1_0c9d92c473d6row11_col6\" class=\"data row11 col6\" >0.013</td>\n",
       "                        <td id=\"T_d3da4d86_7795_11ec_84a1_0c9d92c473d6row11_col7\" class=\"data row11 col7\" >0.009</td>\n",
       "                        <td id=\"T_d3da4d86_7795_11ec_84a1_0c9d92c473d6row11_col8\" class=\"data row11 col8\" >0.001</td>\n",
       "                        <td id=\"T_d3da4d86_7795_11ec_84a1_0c9d92c473d6row11_col9\" class=\"data row11 col9\" >0.002</td>\n",
       "                        <td id=\"T_d3da4d86_7795_11ec_84a1_0c9d92c473d6row11_col10\" class=\"data row11 col10\" >0.003</td>\n",
       "                        <td id=\"T_d3da4d86_7795_11ec_84a1_0c9d92c473d6row11_col11\" class=\"data row11 col11\" >0.0</td>\n",
       "                        <td id=\"T_d3da4d86_7795_11ec_84a1_0c9d92c473d6row11_col12\" class=\"data row11 col12\" >0.031</td>\n",
       "                        <td id=\"T_d3da4d86_7795_11ec_84a1_0c9d92c473d6row11_col13\" class=\"data row11 col13\" >0.005</td>\n",
       "                        <td id=\"T_d3da4d86_7795_11ec_84a1_0c9d92c473d6row11_col14\" class=\"data row11 col14\" >0.018</td>\n",
       "            </tr>\n",
       "            <tr>\n",
       "                        <th id=\"T_d3da4d86_7795_11ec_84a1_0c9d92c473d6level0_row12\" class=\"row_heading level0 row12\" >capital-loss</th>\n",
       "                        <td id=\"T_d3da4d86_7795_11ec_84a1_0c9d92c473d6row12_col0\" class=\"data row12 col0\" >0.004</td>\n",
       "                        <td id=\"T_d3da4d86_7795_11ec_84a1_0c9d92c473d6row12_col1\" class=\"data row12 col1\" >0.007</td>\n",
       "                        <td id=\"T_d3da4d86_7795_11ec_84a1_0c9d92c473d6row12_col2\" class=\"data row12 col2\" >0.001</td>\n",
       "                        <td id=\"T_d3da4d86_7795_11ec_84a1_0c9d92c473d6row12_col3\" class=\"data row12 col3\" >0.01</td>\n",
       "                        <td id=\"T_d3da4d86_7795_11ec_84a1_0c9d92c473d6row12_col4\" class=\"data row12 col4\" >0.0</td>\n",
       "                        <td id=\"T_d3da4d86_7795_11ec_84a1_0c9d92c473d6row12_col5\" class=\"data row12 col5\" >0.013</td>\n",
       "                        <td id=\"T_d3da4d86_7795_11ec_84a1_0c9d92c473d6row12_col6\" class=\"data row12 col6\" >0.01</td>\n",
       "                        <td id=\"T_d3da4d86_7795_11ec_84a1_0c9d92c473d6row12_col7\" class=\"data row12 col7\" >0.003</td>\n",
       "                        <td id=\"T_d3da4d86_7795_11ec_84a1_0c9d92c473d6row12_col8\" class=\"data row12 col8\" >0.008</td>\n",
       "                        <td id=\"T_d3da4d86_7795_11ec_84a1_0c9d92c473d6row12_col9\" class=\"data row12 col9\" >0.004</td>\n",
       "                        <td id=\"T_d3da4d86_7795_11ec_84a1_0c9d92c473d6row12_col10\" class=\"data row12 col10\" >0.007</td>\n",
       "                        <td id=\"T_d3da4d86_7795_11ec_84a1_0c9d92c473d6row12_col11\" class=\"data row12 col11\" >0.012</td>\n",
       "                        <td id=\"T_d3da4d86_7795_11ec_84a1_0c9d92c473d6row12_col12\" class=\"data row12 col12\" >0.0</td>\n",
       "                        <td id=\"T_d3da4d86_7795_11ec_84a1_0c9d92c473d6row12_col13\" class=\"data row12 col13\" >0.006</td>\n",
       "                        <td id=\"T_d3da4d86_7795_11ec_84a1_0c9d92c473d6row12_col14\" class=\"data row12 col14\" >0.002</td>\n",
       "            </tr>\n",
       "            <tr>\n",
       "                        <th id=\"T_d3da4d86_7795_11ec_84a1_0c9d92c473d6level0_row13\" class=\"row_heading level0 row13\" >hours-per-week</th>\n",
       "                        <td id=\"T_d3da4d86_7795_11ec_84a1_0c9d92c473d6row13_col0\" class=\"data row13 col0\" >0.007</td>\n",
       "                        <td id=\"T_d3da4d86_7795_11ec_84a1_0c9d92c473d6row13_col1\" class=\"data row13 col1\" >0.048</td>\n",
       "                        <td id=\"T_d3da4d86_7795_11ec_84a1_0c9d92c473d6row13_col2\" class=\"data row13 col2\" >0.0</td>\n",
       "                        <td id=\"T_d3da4d86_7795_11ec_84a1_0c9d92c473d6row13_col3\" class=\"data row13 col3\" >0.003</td>\n",
       "                        <td id=\"T_d3da4d86_7795_11ec_84a1_0c9d92c473d6row13_col4\" class=\"data row13 col4\" >0.0</td>\n",
       "                        <td id=\"T_d3da4d86_7795_11ec_84a1_0c9d92c473d6row13_col5\" class=\"data row13 col5\" >0.007</td>\n",
       "                        <td id=\"T_d3da4d86_7795_11ec_84a1_0c9d92c473d6row13_col6\" class=\"data row13 col6\" >0.005</td>\n",
       "                        <td id=\"T_d3da4d86_7795_11ec_84a1_0c9d92c473d6row13_col7\" class=\"data row13 col7\" >0.004</td>\n",
       "                        <td id=\"T_d3da4d86_7795_11ec_84a1_0c9d92c473d6row13_col8\" class=\"data row13 col8\" >0.01</td>\n",
       "                        <td id=\"T_d3da4d86_7795_11ec_84a1_0c9d92c473d6row13_col9\" class=\"data row13 col9\" >0.003</td>\n",
       "                        <td id=\"T_d3da4d86_7795_11ec_84a1_0c9d92c473d6row13_col10\" class=\"data row13 col10\" >0.034</td>\n",
       "                        <td id=\"T_d3da4d86_7795_11ec_84a1_0c9d92c473d6row13_col11\" class=\"data row13 col11\" >0.004</td>\n",
       "                        <td id=\"T_d3da4d86_7795_11ec_84a1_0c9d92c473d6row13_col12\" class=\"data row13 col12\" >0.005</td>\n",
       "                        <td id=\"T_d3da4d86_7795_11ec_84a1_0c9d92c473d6row13_col13\" class=\"data row13 col13\" >0.0</td>\n",
       "                        <td id=\"T_d3da4d86_7795_11ec_84a1_0c9d92c473d6row13_col14\" class=\"data row13 col14\" >0.004</td>\n",
       "            </tr>\n",
       "            <tr>\n",
       "                        <th id=\"T_d3da4d86_7795_11ec_84a1_0c9d92c473d6level0_row14\" class=\"row_heading level0 row14\" >native-country</th>\n",
       "                        <td id=\"T_d3da4d86_7795_11ec_84a1_0c9d92c473d6row14_col0\" class=\"data row14 col0\" >0.002</td>\n",
       "                        <td id=\"T_d3da4d86_7795_11ec_84a1_0c9d92c473d6row14_col1\" class=\"data row14 col1\" >0.013</td>\n",
       "                        <td id=\"T_d3da4d86_7795_11ec_84a1_0c9d92c473d6row14_col2\" class=\"data row14 col2\" >0.0</td>\n",
       "                        <td id=\"T_d3da4d86_7795_11ec_84a1_0c9d92c473d6row14_col3\" class=\"data row14 col3\" >0.053</td>\n",
       "                        <td id=\"T_d3da4d86_7795_11ec_84a1_0c9d92c473d6row14_col4\" class=\"data row14 col4\" >0.0</td>\n",
       "                        <td id=\"T_d3da4d86_7795_11ec_84a1_0c9d92c473d6row14_col5\" class=\"data row14 col5\" >0.02</td>\n",
       "                        <td id=\"T_d3da4d86_7795_11ec_84a1_0c9d92c473d6row14_col6\" class=\"data row14 col6\" >0.017</td>\n",
       "                        <td id=\"T_d3da4d86_7795_11ec_84a1_0c9d92c473d6row14_col7\" class=\"data row14 col7\" >0.004</td>\n",
       "                        <td id=\"T_d3da4d86_7795_11ec_84a1_0c9d92c473d6row14_col8\" class=\"data row14 col8\" >0.004</td>\n",
       "                        <td id=\"T_d3da4d86_7795_11ec_84a1_0c9d92c473d6row14_col9\" class=\"data row14 col9\" >0.124</td>\n",
       "                        <td id=\"T_d3da4d86_7795_11ec_84a1_0c9d92c473d6row14_col10\" class=\"data row14 col10\" >0.011</td>\n",
       "                        <td id=\"T_d3da4d86_7795_11ec_84a1_0c9d92c473d6row14_col11\" class=\"data row14 col11\" >0.005</td>\n",
       "                        <td id=\"T_d3da4d86_7795_11ec_84a1_0c9d92c473d6row14_col12\" class=\"data row14 col12\" >0.003</td>\n",
       "                        <td id=\"T_d3da4d86_7795_11ec_84a1_0c9d92c473d6row14_col13\" class=\"data row14 col13\" >0.006</td>\n",
       "                        <td id=\"T_d3da4d86_7795_11ec_84a1_0c9d92c473d6row14_col14\" class=\"data row14 col14\" >0.0</td>\n",
       "            </tr>\n",
       "    </tbody></table>"
      ],
      "text/plain": [
       "<pandas.io.formats.style.Styler at 0x7f0c2f56bf98>"
      ]
     },
     "metadata": {},
     "output_type": "display_data"
    },
    {
     "name": "stdout",
     "output_type": "stream",
     "text": [
      "Total Number of Edges in G: 210\n",
      "Max in degree: 14\n",
      "DAG: False\n",
      "tau: 0.029\n"
     ]
    },
    {
     "data": {
      "text/html": [
       "<style  type=\"text/css\" >\n",
       "#T_d3da4d87_7795_11ec_84a1_0c9d92c473d6row0_col0,#T_d3da4d87_7795_11ec_84a1_0c9d92c473d6row0_col1,#T_d3da4d87_7795_11ec_84a1_0c9d92c473d6row0_col2,#T_d3da4d87_7795_11ec_84a1_0c9d92c473d6row0_col3,#T_d3da4d87_7795_11ec_84a1_0c9d92c473d6row0_col4,#T_d3da4d87_7795_11ec_84a1_0c9d92c473d6row0_col5,#T_d3da4d87_7795_11ec_84a1_0c9d92c473d6row0_col6,#T_d3da4d87_7795_11ec_84a1_0c9d92c473d6row0_col7,#T_d3da4d87_7795_11ec_84a1_0c9d92c473d6row0_col8,#T_d3da4d87_7795_11ec_84a1_0c9d92c473d6row0_col9,#T_d3da4d87_7795_11ec_84a1_0c9d92c473d6row0_col10,#T_d3da4d87_7795_11ec_84a1_0c9d92c473d6row0_col12,#T_d3da4d87_7795_11ec_84a1_0c9d92c473d6row0_col13,#T_d3da4d87_7795_11ec_84a1_0c9d92c473d6row0_col14,#T_d3da4d87_7795_11ec_84a1_0c9d92c473d6row1_col0,#T_d3da4d87_7795_11ec_84a1_0c9d92c473d6row1_col1,#T_d3da4d87_7795_11ec_84a1_0c9d92c473d6row1_col2,#T_d3da4d87_7795_11ec_84a1_0c9d92c473d6row1_col3,#T_d3da4d87_7795_11ec_84a1_0c9d92c473d6row1_col4,#T_d3da4d87_7795_11ec_84a1_0c9d92c473d6row1_col5,#T_d3da4d87_7795_11ec_84a1_0c9d92c473d6row1_col6,#T_d3da4d87_7795_11ec_84a1_0c9d92c473d6row1_col7,#T_d3da4d87_7795_11ec_84a1_0c9d92c473d6row1_col8,#T_d3da4d87_7795_11ec_84a1_0c9d92c473d6row1_col9,#T_d3da4d87_7795_11ec_84a1_0c9d92c473d6row1_col10,#T_d3da4d87_7795_11ec_84a1_0c9d92c473d6row1_col11,#T_d3da4d87_7795_11ec_84a1_0c9d92c473d6row1_col12,#T_d3da4d87_7795_11ec_84a1_0c9d92c473d6row1_col14,#T_d3da4d87_7795_11ec_84a1_0c9d92c473d6row2_col0,#T_d3da4d87_7795_11ec_84a1_0c9d92c473d6row2_col1,#T_d3da4d87_7795_11ec_84a1_0c9d92c473d6row2_col2,#T_d3da4d87_7795_11ec_84a1_0c9d92c473d6row2_col3,#T_d3da4d87_7795_11ec_84a1_0c9d92c473d6row2_col4,#T_d3da4d87_7795_11ec_84a1_0c9d92c473d6row2_col5,#T_d3da4d87_7795_11ec_84a1_0c9d92c473d6row2_col6,#T_d3da4d87_7795_11ec_84a1_0c9d92c473d6row2_col7,#T_d3da4d87_7795_11ec_84a1_0c9d92c473d6row2_col8,#T_d3da4d87_7795_11ec_84a1_0c9d92c473d6row2_col9,#T_d3da4d87_7795_11ec_84a1_0c9d92c473d6row2_col10,#T_d3da4d87_7795_11ec_84a1_0c9d92c473d6row2_col11,#T_d3da4d87_7795_11ec_84a1_0c9d92c473d6row2_col12,#T_d3da4d87_7795_11ec_84a1_0c9d92c473d6row2_col13,#T_d3da4d87_7795_11ec_84a1_0c9d92c473d6row2_col14,#T_d3da4d87_7795_11ec_84a1_0c9d92c473d6row3_col0,#T_d3da4d87_7795_11ec_84a1_0c9d92c473d6row3_col1,#T_d3da4d87_7795_11ec_84a1_0c9d92c473d6row3_col2,#T_d3da4d87_7795_11ec_84a1_0c9d92c473d6row3_col3,#T_d3da4d87_7795_11ec_84a1_0c9d92c473d6row3_col4,#T_d3da4d87_7795_11ec_84a1_0c9d92c473d6row3_col5,#T_d3da4d87_7795_11ec_84a1_0c9d92c473d6row3_col6,#T_d3da4d87_7795_11ec_84a1_0c9d92c473d6row3_col7,#T_d3da4d87_7795_11ec_84a1_0c9d92c473d6row3_col8,#T_d3da4d87_7795_11ec_84a1_0c9d92c473d6row3_col9,#T_d3da4d87_7795_11ec_84a1_0c9d92c473d6row3_col10,#T_d3da4d87_7795_11ec_84a1_0c9d92c473d6row3_col11,#T_d3da4d87_7795_11ec_84a1_0c9d92c473d6row3_col12,#T_d3da4d87_7795_11ec_84a1_0c9d92c473d6row3_col13,#T_d3da4d87_7795_11ec_84a1_0c9d92c473d6row3_col14,#T_d3da4d87_7795_11ec_84a1_0c9d92c473d6row4_col0,#T_d3da4d87_7795_11ec_84a1_0c9d92c473d6row4_col1,#T_d3da4d87_7795_11ec_84a1_0c9d92c473d6row4_col2,#T_d3da4d87_7795_11ec_84a1_0c9d92c473d6row4_col3,#T_d3da4d87_7795_11ec_84a1_0c9d92c473d6row4_col4,#T_d3da4d87_7795_11ec_84a1_0c9d92c473d6row4_col6,#T_d3da4d87_7795_11ec_84a1_0c9d92c473d6row4_col7,#T_d3da4d87_7795_11ec_84a1_0c9d92c473d6row4_col8,#T_d3da4d87_7795_11ec_84a1_0c9d92c473d6row4_col9,#T_d3da4d87_7795_11ec_84a1_0c9d92c473d6row4_col10,#T_d3da4d87_7795_11ec_84a1_0c9d92c473d6row4_col11,#T_d3da4d87_7795_11ec_84a1_0c9d92c473d6row4_col12,#T_d3da4d87_7795_11ec_84a1_0c9d92c473d6row4_col13,#T_d3da4d87_7795_11ec_84a1_0c9d92c473d6row4_col14,#T_d3da4d87_7795_11ec_84a1_0c9d92c473d6row5_col0,#T_d3da4d87_7795_11ec_84a1_0c9d92c473d6row5_col1,#T_d3da4d87_7795_11ec_84a1_0c9d92c473d6row5_col2,#T_d3da4d87_7795_11ec_84a1_0c9d92c473d6row5_col3,#T_d3da4d87_7795_11ec_84a1_0c9d92c473d6row5_col4,#T_d3da4d87_7795_11ec_84a1_0c9d92c473d6row5_col5,#T_d3da4d87_7795_11ec_84a1_0c9d92c473d6row5_col6,#T_d3da4d87_7795_11ec_84a1_0c9d92c473d6row5_col7,#T_d3da4d87_7795_11ec_84a1_0c9d92c473d6row5_col8,#T_d3da4d87_7795_11ec_84a1_0c9d92c473d6row5_col10,#T_d3da4d87_7795_11ec_84a1_0c9d92c473d6row5_col12,#T_d3da4d87_7795_11ec_84a1_0c9d92c473d6row5_col13,#T_d3da4d87_7795_11ec_84a1_0c9d92c473d6row6_col2,#T_d3da4d87_7795_11ec_84a1_0c9d92c473d6row6_col3,#T_d3da4d87_7795_11ec_84a1_0c9d92c473d6row6_col4,#T_d3da4d87_7795_11ec_84a1_0c9d92c473d6row6_col5,#T_d3da4d87_7795_11ec_84a1_0c9d92c473d6row6_col6,#T_d3da4d87_7795_11ec_84a1_0c9d92c473d6row6_col7,#T_d3da4d87_7795_11ec_84a1_0c9d92c473d6row6_col8,#T_d3da4d87_7795_11ec_84a1_0c9d92c473d6row6_col9,#T_d3da4d87_7795_11ec_84a1_0c9d92c473d6row6_col11,#T_d3da4d87_7795_11ec_84a1_0c9d92c473d6row6_col12,#T_d3da4d87_7795_11ec_84a1_0c9d92c473d6row6_col13,#T_d3da4d87_7795_11ec_84a1_0c9d92c473d6row6_col14,#T_d3da4d87_7795_11ec_84a1_0c9d92c473d6row7_col0,#T_d3da4d87_7795_11ec_84a1_0c9d92c473d6row7_col1,#T_d3da4d87_7795_11ec_84a1_0c9d92c473d6row7_col3,#T_d3da4d87_7795_11ec_84a1_0c9d92c473d6row7_col4,#T_d3da4d87_7795_11ec_84a1_0c9d92c473d6row7_col5,#T_d3da4d87_7795_11ec_84a1_0c9d92c473d6row7_col6,#T_d3da4d87_7795_11ec_84a1_0c9d92c473d6row7_col7,#T_d3da4d87_7795_11ec_84a1_0c9d92c473d6row7_col8,#T_d3da4d87_7795_11ec_84a1_0c9d92c473d6row7_col9,#T_d3da4d87_7795_11ec_84a1_0c9d92c473d6row7_col10,#T_d3da4d87_7795_11ec_84a1_0c9d92c473d6row7_col11,#T_d3da4d87_7795_11ec_84a1_0c9d92c473d6row7_col12,#T_d3da4d87_7795_11ec_84a1_0c9d92c473d6row7_col13,#T_d3da4d87_7795_11ec_84a1_0c9d92c473d6row7_col14,#T_d3da4d87_7795_11ec_84a1_0c9d92c473d6row8_col0,#T_d3da4d87_7795_11ec_84a1_0c9d92c473d6row8_col2,#T_d3da4d87_7795_11ec_84a1_0c9d92c473d6row8_col3,#T_d3da4d87_7795_11ec_84a1_0c9d92c473d6row8_col4,#T_d3da4d87_7795_11ec_84a1_0c9d92c473d6row8_col5,#T_d3da4d87_7795_11ec_84a1_0c9d92c473d6row8_col7,#T_d3da4d87_7795_11ec_84a1_0c9d92c473d6row8_col8,#T_d3da4d87_7795_11ec_84a1_0c9d92c473d6row8_col9,#T_d3da4d87_7795_11ec_84a1_0c9d92c473d6row8_col11,#T_d3da4d87_7795_11ec_84a1_0c9d92c473d6row8_col12,#T_d3da4d87_7795_11ec_84a1_0c9d92c473d6row8_col13,#T_d3da4d87_7795_11ec_84a1_0c9d92c473d6row8_col14,#T_d3da4d87_7795_11ec_84a1_0c9d92c473d6row9_col0,#T_d3da4d87_7795_11ec_84a1_0c9d92c473d6row9_col1,#T_d3da4d87_7795_11ec_84a1_0c9d92c473d6row9_col2,#T_d3da4d87_7795_11ec_84a1_0c9d92c473d6row9_col4,#T_d3da4d87_7795_11ec_84a1_0c9d92c473d6row9_col5,#T_d3da4d87_7795_11ec_84a1_0c9d92c473d6row9_col6,#T_d3da4d87_7795_11ec_84a1_0c9d92c473d6row9_col7,#T_d3da4d87_7795_11ec_84a1_0c9d92c473d6row9_col8,#T_d3da4d87_7795_11ec_84a1_0c9d92c473d6row9_col9,#T_d3da4d87_7795_11ec_84a1_0c9d92c473d6row9_col10,#T_d3da4d87_7795_11ec_84a1_0c9d92c473d6row9_col11,#T_d3da4d87_7795_11ec_84a1_0c9d92c473d6row9_col12,#T_d3da4d87_7795_11ec_84a1_0c9d92c473d6row9_col13,#T_d3da4d87_7795_11ec_84a1_0c9d92c473d6row9_col14,#T_d3da4d87_7795_11ec_84a1_0c9d92c473d6row10_col0,#T_d3da4d87_7795_11ec_84a1_0c9d92c473d6row10_col1,#T_d3da4d87_7795_11ec_84a1_0c9d92c473d6row10_col2,#T_d3da4d87_7795_11ec_84a1_0c9d92c473d6row10_col3,#T_d3da4d87_7795_11ec_84a1_0c9d92c473d6row10_col4,#T_d3da4d87_7795_11ec_84a1_0c9d92c473d6row10_col5,#T_d3da4d87_7795_11ec_84a1_0c9d92c473d6row10_col6,#T_d3da4d87_7795_11ec_84a1_0c9d92c473d6row10_col7,#T_d3da4d87_7795_11ec_84a1_0c9d92c473d6row10_col8,#T_d3da4d87_7795_11ec_84a1_0c9d92c473d6row10_col9,#T_d3da4d87_7795_11ec_84a1_0c9d92c473d6row10_col10,#T_d3da4d87_7795_11ec_84a1_0c9d92c473d6row10_col11,#T_d3da4d87_7795_11ec_84a1_0c9d92c473d6row10_col12,#T_d3da4d87_7795_11ec_84a1_0c9d92c473d6row10_col13,#T_d3da4d87_7795_11ec_84a1_0c9d92c473d6row10_col14,#T_d3da4d87_7795_11ec_84a1_0c9d92c473d6row11_col0,#T_d3da4d87_7795_11ec_84a1_0c9d92c473d6row11_col1,#T_d3da4d87_7795_11ec_84a1_0c9d92c473d6row11_col2,#T_d3da4d87_7795_11ec_84a1_0c9d92c473d6row11_col3,#T_d3da4d87_7795_11ec_84a1_0c9d92c473d6row11_col4,#T_d3da4d87_7795_11ec_84a1_0c9d92c473d6row11_col5,#T_d3da4d87_7795_11ec_84a1_0c9d92c473d6row11_col6,#T_d3da4d87_7795_11ec_84a1_0c9d92c473d6row11_col7,#T_d3da4d87_7795_11ec_84a1_0c9d92c473d6row11_col8,#T_d3da4d87_7795_11ec_84a1_0c9d92c473d6row11_col9,#T_d3da4d87_7795_11ec_84a1_0c9d92c473d6row11_col10,#T_d3da4d87_7795_11ec_84a1_0c9d92c473d6row11_col11,#T_d3da4d87_7795_11ec_84a1_0c9d92c473d6row11_col13,#T_d3da4d87_7795_11ec_84a1_0c9d92c473d6row11_col14,#T_d3da4d87_7795_11ec_84a1_0c9d92c473d6row12_col0,#T_d3da4d87_7795_11ec_84a1_0c9d92c473d6row12_col1,#T_d3da4d87_7795_11ec_84a1_0c9d92c473d6row12_col2,#T_d3da4d87_7795_11ec_84a1_0c9d92c473d6row12_col3,#T_d3da4d87_7795_11ec_84a1_0c9d92c473d6row12_col4,#T_d3da4d87_7795_11ec_84a1_0c9d92c473d6row12_col5,#T_d3da4d87_7795_11ec_84a1_0c9d92c473d6row12_col6,#T_d3da4d87_7795_11ec_84a1_0c9d92c473d6row12_col7,#T_d3da4d87_7795_11ec_84a1_0c9d92c473d6row12_col8,#T_d3da4d87_7795_11ec_84a1_0c9d92c473d6row12_col9,#T_d3da4d87_7795_11ec_84a1_0c9d92c473d6row12_col10,#T_d3da4d87_7795_11ec_84a1_0c9d92c473d6row12_col11,#T_d3da4d87_7795_11ec_84a1_0c9d92c473d6row12_col12,#T_d3da4d87_7795_11ec_84a1_0c9d92c473d6row12_col13,#T_d3da4d87_7795_11ec_84a1_0c9d92c473d6row12_col14,#T_d3da4d87_7795_11ec_84a1_0c9d92c473d6row13_col0,#T_d3da4d87_7795_11ec_84a1_0c9d92c473d6row13_col1,#T_d3da4d87_7795_11ec_84a1_0c9d92c473d6row13_col2,#T_d3da4d87_7795_11ec_84a1_0c9d92c473d6row13_col3,#T_d3da4d87_7795_11ec_84a1_0c9d92c473d6row13_col4,#T_d3da4d87_7795_11ec_84a1_0c9d92c473d6row13_col5,#T_d3da4d87_7795_11ec_84a1_0c9d92c473d6row13_col6,#T_d3da4d87_7795_11ec_84a1_0c9d92c473d6row13_col7,#T_d3da4d87_7795_11ec_84a1_0c9d92c473d6row13_col8,#T_d3da4d87_7795_11ec_84a1_0c9d92c473d6row13_col9,#T_d3da4d87_7795_11ec_84a1_0c9d92c473d6row13_col11,#T_d3da4d87_7795_11ec_84a1_0c9d92c473d6row13_col12,#T_d3da4d87_7795_11ec_84a1_0c9d92c473d6row13_col13,#T_d3da4d87_7795_11ec_84a1_0c9d92c473d6row13_col14,#T_d3da4d87_7795_11ec_84a1_0c9d92c473d6row14_col0,#T_d3da4d87_7795_11ec_84a1_0c9d92c473d6row14_col1,#T_d3da4d87_7795_11ec_84a1_0c9d92c473d6row14_col2,#T_d3da4d87_7795_11ec_84a1_0c9d92c473d6row14_col4,#T_d3da4d87_7795_11ec_84a1_0c9d92c473d6row14_col5,#T_d3da4d87_7795_11ec_84a1_0c9d92c473d6row14_col6,#T_d3da4d87_7795_11ec_84a1_0c9d92c473d6row14_col7,#T_d3da4d87_7795_11ec_84a1_0c9d92c473d6row14_col8,#T_d3da4d87_7795_11ec_84a1_0c9d92c473d6row14_col10,#T_d3da4d87_7795_11ec_84a1_0c9d92c473d6row14_col11,#T_d3da4d87_7795_11ec_84a1_0c9d92c473d6row14_col12,#T_d3da4d87_7795_11ec_84a1_0c9d92c473d6row14_col13,#T_d3da4d87_7795_11ec_84a1_0c9d92c473d6row14_col14{\n",
       "            background-color:  #f0f1f3;\n",
       "            color:  #000000;\n",
       "        }#T_d3da4d87_7795_11ec_84a1_0c9d92c473d6row0_col11,#T_d3da4d87_7795_11ec_84a1_0c9d92c473d6row1_col13,#T_d3da4d87_7795_11ec_84a1_0c9d92c473d6row4_col5,#T_d3da4d87_7795_11ec_84a1_0c9d92c473d6row5_col14,#T_d3da4d87_7795_11ec_84a1_0c9d92c473d6row6_col0,#T_d3da4d87_7795_11ec_84a1_0c9d92c473d6row6_col1,#T_d3da4d87_7795_11ec_84a1_0c9d92c473d6row7_col2,#T_d3da4d87_7795_11ec_84a1_0c9d92c473d6row8_col6,#T_d3da4d87_7795_11ec_84a1_0c9d92c473d6row8_col10,#T_d3da4d87_7795_11ec_84a1_0c9d92c473d6row9_col3,#T_d3da4d87_7795_11ec_84a1_0c9d92c473d6row11_col12,#T_d3da4d87_7795_11ec_84a1_0c9d92c473d6row14_col9{\n",
       "            background-color:  #47739a;\n",
       "            color:  #000000;\n",
       "        }#T_d3da4d87_7795_11ec_84a1_0c9d92c473d6row5_col9{\n",
       "            background-color:  #bbc9d7;\n",
       "            color:  #000000;\n",
       "        }#T_d3da4d87_7795_11ec_84a1_0c9d92c473d6row5_col11{\n",
       "            background-color:  #99b0c5;\n",
       "            color:  #000000;\n",
       "        }#T_d3da4d87_7795_11ec_84a1_0c9d92c473d6row6_col10{\n",
       "            background-color:  #4a759b;\n",
       "            color:  #000000;\n",
       "        }#T_d3da4d87_7795_11ec_84a1_0c9d92c473d6row8_col1{\n",
       "            background-color:  #8ca6be;\n",
       "            color:  #000000;\n",
       "        }#T_d3da4d87_7795_11ec_84a1_0c9d92c473d6row13_col10{\n",
       "            background-color:  #a6bacc;\n",
       "            color:  #000000;\n",
       "        }#T_d3da4d87_7795_11ec_84a1_0c9d92c473d6row14_col3{\n",
       "            background-color:  #547ca0;\n",
       "            color:  #000000;\n",
       "        }</style><table id=\"T_d3da4d87_7795_11ec_84a1_0c9d92c473d6\" ><thead>    <tr>        <th class=\"blank level0\" ></th>        <th class=\"col_heading level0 col0\" >target</th>        <th class=\"col_heading level0 col1\" >age</th>        <th class=\"col_heading level0 col2\" >workclass</th>        <th class=\"col_heading level0 col3\" >fnlwgt</th>        <th class=\"col_heading level0 col4\" >education</th>        <th class=\"col_heading level0 col5\" >education-num</th>        <th class=\"col_heading level0 col6\" >marital-status</th>        <th class=\"col_heading level0 col7\" >occupation</th>        <th class=\"col_heading level0 col8\" >relationship</th>        <th class=\"col_heading level0 col9\" >race</th>        <th class=\"col_heading level0 col10\" >sex</th>        <th class=\"col_heading level0 col11\" >capital-gain</th>        <th class=\"col_heading level0 col12\" >capital-loss</th>        <th class=\"col_heading level0 col13\" >hours-per-week</th>        <th class=\"col_heading level0 col14\" >native-country</th>    </tr></thead><tbody>\n",
       "                <tr>\n",
       "                        <th id=\"T_d3da4d87_7795_11ec_84a1_0c9d92c473d6level0_row0\" class=\"row_heading level0 row0\" >target</th>\n",
       "                        <td id=\"T_d3da4d87_7795_11ec_84a1_0c9d92c473d6row0_col0\" class=\"data row0 col0\" >0.0</td>\n",
       "                        <td id=\"T_d3da4d87_7795_11ec_84a1_0c9d92c473d6row0_col1\" class=\"data row0 col1\" >0.0</td>\n",
       "                        <td id=\"T_d3da4d87_7795_11ec_84a1_0c9d92c473d6row0_col2\" class=\"data row0 col2\" >0.0</td>\n",
       "                        <td id=\"T_d3da4d87_7795_11ec_84a1_0c9d92c473d6row0_col3\" class=\"data row0 col3\" >0.0</td>\n",
       "                        <td id=\"T_d3da4d87_7795_11ec_84a1_0c9d92c473d6row0_col4\" class=\"data row0 col4\" >0.0</td>\n",
       "                        <td id=\"T_d3da4d87_7795_11ec_84a1_0c9d92c473d6row0_col5\" class=\"data row0 col5\" >0.0</td>\n",
       "                        <td id=\"T_d3da4d87_7795_11ec_84a1_0c9d92c473d6row0_col6\" class=\"data row0 col6\" >0.0</td>\n",
       "                        <td id=\"T_d3da4d87_7795_11ec_84a1_0c9d92c473d6row0_col7\" class=\"data row0 col7\" >0.0</td>\n",
       "                        <td id=\"T_d3da4d87_7795_11ec_84a1_0c9d92c473d6row0_col8\" class=\"data row0 col8\" >0.0</td>\n",
       "                        <td id=\"T_d3da4d87_7795_11ec_84a1_0c9d92c473d6row0_col9\" class=\"data row0 col9\" >0.0</td>\n",
       "                        <td id=\"T_d3da4d87_7795_11ec_84a1_0c9d92c473d6row0_col10\" class=\"data row0 col10\" >0.0</td>\n",
       "                        <td id=\"T_d3da4d87_7795_11ec_84a1_0c9d92c473d6row0_col11\" class=\"data row0 col11\" >0.068</td>\n",
       "                        <td id=\"T_d3da4d87_7795_11ec_84a1_0c9d92c473d6row0_col12\" class=\"data row0 col12\" >0.0</td>\n",
       "                        <td id=\"T_d3da4d87_7795_11ec_84a1_0c9d92c473d6row0_col13\" class=\"data row0 col13\" >0.0</td>\n",
       "                        <td id=\"T_d3da4d87_7795_11ec_84a1_0c9d92c473d6row0_col14\" class=\"data row0 col14\" >0.0</td>\n",
       "            </tr>\n",
       "            <tr>\n",
       "                        <th id=\"T_d3da4d87_7795_11ec_84a1_0c9d92c473d6level0_row1\" class=\"row_heading level0 row1\" >age</th>\n",
       "                        <td id=\"T_d3da4d87_7795_11ec_84a1_0c9d92c473d6row1_col0\" class=\"data row1 col0\" >0.0</td>\n",
       "                        <td id=\"T_d3da4d87_7795_11ec_84a1_0c9d92c473d6row1_col1\" class=\"data row1 col1\" >0.0</td>\n",
       "                        <td id=\"T_d3da4d87_7795_11ec_84a1_0c9d92c473d6row1_col2\" class=\"data row1 col2\" >0.0</td>\n",
       "                        <td id=\"T_d3da4d87_7795_11ec_84a1_0c9d92c473d6row1_col3\" class=\"data row1 col3\" >0.0</td>\n",
       "                        <td id=\"T_d3da4d87_7795_11ec_84a1_0c9d92c473d6row1_col4\" class=\"data row1 col4\" >0.0</td>\n",
       "                        <td id=\"T_d3da4d87_7795_11ec_84a1_0c9d92c473d6row1_col5\" class=\"data row1 col5\" >0.0</td>\n",
       "                        <td id=\"T_d3da4d87_7795_11ec_84a1_0c9d92c473d6row1_col6\" class=\"data row1 col6\" >0.0</td>\n",
       "                        <td id=\"T_d3da4d87_7795_11ec_84a1_0c9d92c473d6row1_col7\" class=\"data row1 col7\" >0.0</td>\n",
       "                        <td id=\"T_d3da4d87_7795_11ec_84a1_0c9d92c473d6row1_col8\" class=\"data row1 col8\" >0.0</td>\n",
       "                        <td id=\"T_d3da4d87_7795_11ec_84a1_0c9d92c473d6row1_col9\" class=\"data row1 col9\" >0.0</td>\n",
       "                        <td id=\"T_d3da4d87_7795_11ec_84a1_0c9d92c473d6row1_col10\" class=\"data row1 col10\" >0.0</td>\n",
       "                        <td id=\"T_d3da4d87_7795_11ec_84a1_0c9d92c473d6row1_col11\" class=\"data row1 col11\" >0.0</td>\n",
       "                        <td id=\"T_d3da4d87_7795_11ec_84a1_0c9d92c473d6row1_col12\" class=\"data row1 col12\" >0.0</td>\n",
       "                        <td id=\"T_d3da4d87_7795_11ec_84a1_0c9d92c473d6row1_col13\" class=\"data row1 col13\" >0.127</td>\n",
       "                        <td id=\"T_d3da4d87_7795_11ec_84a1_0c9d92c473d6row1_col14\" class=\"data row1 col14\" >0.0</td>\n",
       "            </tr>\n",
       "            <tr>\n",
       "                        <th id=\"T_d3da4d87_7795_11ec_84a1_0c9d92c473d6level0_row2\" class=\"row_heading level0 row2\" >workclass</th>\n",
       "                        <td id=\"T_d3da4d87_7795_11ec_84a1_0c9d92c473d6row2_col0\" class=\"data row2 col0\" >0.0</td>\n",
       "                        <td id=\"T_d3da4d87_7795_11ec_84a1_0c9d92c473d6row2_col1\" class=\"data row2 col1\" >0.0</td>\n",
       "                        <td id=\"T_d3da4d87_7795_11ec_84a1_0c9d92c473d6row2_col2\" class=\"data row2 col2\" >0.0</td>\n",
       "                        <td id=\"T_d3da4d87_7795_11ec_84a1_0c9d92c473d6row2_col3\" class=\"data row2 col3\" >0.0</td>\n",
       "                        <td id=\"T_d3da4d87_7795_11ec_84a1_0c9d92c473d6row2_col4\" class=\"data row2 col4\" >0.0</td>\n",
       "                        <td id=\"T_d3da4d87_7795_11ec_84a1_0c9d92c473d6row2_col5\" class=\"data row2 col5\" >0.0</td>\n",
       "                        <td id=\"T_d3da4d87_7795_11ec_84a1_0c9d92c473d6row2_col6\" class=\"data row2 col6\" >0.0</td>\n",
       "                        <td id=\"T_d3da4d87_7795_11ec_84a1_0c9d92c473d6row2_col7\" class=\"data row2 col7\" >0.0</td>\n",
       "                        <td id=\"T_d3da4d87_7795_11ec_84a1_0c9d92c473d6row2_col8\" class=\"data row2 col8\" >0.0</td>\n",
       "                        <td id=\"T_d3da4d87_7795_11ec_84a1_0c9d92c473d6row2_col9\" class=\"data row2 col9\" >0.0</td>\n",
       "                        <td id=\"T_d3da4d87_7795_11ec_84a1_0c9d92c473d6row2_col10\" class=\"data row2 col10\" >0.0</td>\n",
       "                        <td id=\"T_d3da4d87_7795_11ec_84a1_0c9d92c473d6row2_col11\" class=\"data row2 col11\" >0.0</td>\n",
       "                        <td id=\"T_d3da4d87_7795_11ec_84a1_0c9d92c473d6row2_col12\" class=\"data row2 col12\" >0.0</td>\n",
       "                        <td id=\"T_d3da4d87_7795_11ec_84a1_0c9d92c473d6row2_col13\" class=\"data row2 col13\" >0.0</td>\n",
       "                        <td id=\"T_d3da4d87_7795_11ec_84a1_0c9d92c473d6row2_col14\" class=\"data row2 col14\" >0.0</td>\n",
       "            </tr>\n",
       "            <tr>\n",
       "                        <th id=\"T_d3da4d87_7795_11ec_84a1_0c9d92c473d6level0_row3\" class=\"row_heading level0 row3\" >fnlwgt</th>\n",
       "                        <td id=\"T_d3da4d87_7795_11ec_84a1_0c9d92c473d6row3_col0\" class=\"data row3 col0\" >0.0</td>\n",
       "                        <td id=\"T_d3da4d87_7795_11ec_84a1_0c9d92c473d6row3_col1\" class=\"data row3 col1\" >0.0</td>\n",
       "                        <td id=\"T_d3da4d87_7795_11ec_84a1_0c9d92c473d6row3_col2\" class=\"data row3 col2\" >0.0</td>\n",
       "                        <td id=\"T_d3da4d87_7795_11ec_84a1_0c9d92c473d6row3_col3\" class=\"data row3 col3\" >0.0</td>\n",
       "                        <td id=\"T_d3da4d87_7795_11ec_84a1_0c9d92c473d6row3_col4\" class=\"data row3 col4\" >0.0</td>\n",
       "                        <td id=\"T_d3da4d87_7795_11ec_84a1_0c9d92c473d6row3_col5\" class=\"data row3 col5\" >0.0</td>\n",
       "                        <td id=\"T_d3da4d87_7795_11ec_84a1_0c9d92c473d6row3_col6\" class=\"data row3 col6\" >0.0</td>\n",
       "                        <td id=\"T_d3da4d87_7795_11ec_84a1_0c9d92c473d6row3_col7\" class=\"data row3 col7\" >0.0</td>\n",
       "                        <td id=\"T_d3da4d87_7795_11ec_84a1_0c9d92c473d6row3_col8\" class=\"data row3 col8\" >0.0</td>\n",
       "                        <td id=\"T_d3da4d87_7795_11ec_84a1_0c9d92c473d6row3_col9\" class=\"data row3 col9\" >0.0</td>\n",
       "                        <td id=\"T_d3da4d87_7795_11ec_84a1_0c9d92c473d6row3_col10\" class=\"data row3 col10\" >0.0</td>\n",
       "                        <td id=\"T_d3da4d87_7795_11ec_84a1_0c9d92c473d6row3_col11\" class=\"data row3 col11\" >0.0</td>\n",
       "                        <td id=\"T_d3da4d87_7795_11ec_84a1_0c9d92c473d6row3_col12\" class=\"data row3 col12\" >0.0</td>\n",
       "                        <td id=\"T_d3da4d87_7795_11ec_84a1_0c9d92c473d6row3_col13\" class=\"data row3 col13\" >0.0</td>\n",
       "                        <td id=\"T_d3da4d87_7795_11ec_84a1_0c9d92c473d6row3_col14\" class=\"data row3 col14\" >0.0</td>\n",
       "            </tr>\n",
       "            <tr>\n",
       "                        <th id=\"T_d3da4d87_7795_11ec_84a1_0c9d92c473d6level0_row4\" class=\"row_heading level0 row4\" >education</th>\n",
       "                        <td id=\"T_d3da4d87_7795_11ec_84a1_0c9d92c473d6row4_col0\" class=\"data row4 col0\" >0.0</td>\n",
       "                        <td id=\"T_d3da4d87_7795_11ec_84a1_0c9d92c473d6row4_col1\" class=\"data row4 col1\" >0.0</td>\n",
       "                        <td id=\"T_d3da4d87_7795_11ec_84a1_0c9d92c473d6row4_col2\" class=\"data row4 col2\" >0.0</td>\n",
       "                        <td id=\"T_d3da4d87_7795_11ec_84a1_0c9d92c473d6row4_col3\" class=\"data row4 col3\" >0.0</td>\n",
       "                        <td id=\"T_d3da4d87_7795_11ec_84a1_0c9d92c473d6row4_col4\" class=\"data row4 col4\" >0.0</td>\n",
       "                        <td id=\"T_d3da4d87_7795_11ec_84a1_0c9d92c473d6row4_col5\" class=\"data row4 col5\" >0.43</td>\n",
       "                        <td id=\"T_d3da4d87_7795_11ec_84a1_0c9d92c473d6row4_col6\" class=\"data row4 col6\" >0.0</td>\n",
       "                        <td id=\"T_d3da4d87_7795_11ec_84a1_0c9d92c473d6row4_col7\" class=\"data row4 col7\" >0.0</td>\n",
       "                        <td id=\"T_d3da4d87_7795_11ec_84a1_0c9d92c473d6row4_col8\" class=\"data row4 col8\" >0.0</td>\n",
       "                        <td id=\"T_d3da4d87_7795_11ec_84a1_0c9d92c473d6row4_col9\" class=\"data row4 col9\" >0.0</td>\n",
       "                        <td id=\"T_d3da4d87_7795_11ec_84a1_0c9d92c473d6row4_col10\" class=\"data row4 col10\" >0.0</td>\n",
       "                        <td id=\"T_d3da4d87_7795_11ec_84a1_0c9d92c473d6row4_col11\" class=\"data row4 col11\" >0.0</td>\n",
       "                        <td id=\"T_d3da4d87_7795_11ec_84a1_0c9d92c473d6row4_col12\" class=\"data row4 col12\" >0.0</td>\n",
       "                        <td id=\"T_d3da4d87_7795_11ec_84a1_0c9d92c473d6row4_col13\" class=\"data row4 col13\" >0.0</td>\n",
       "                        <td id=\"T_d3da4d87_7795_11ec_84a1_0c9d92c473d6row4_col14\" class=\"data row4 col14\" >0.0</td>\n",
       "            </tr>\n",
       "            <tr>\n",
       "                        <th id=\"T_d3da4d87_7795_11ec_84a1_0c9d92c473d6level0_row5\" class=\"row_heading level0 row5\" >education-num</th>\n",
       "                        <td id=\"T_d3da4d87_7795_11ec_84a1_0c9d92c473d6row5_col0\" class=\"data row5 col0\" >0.0</td>\n",
       "                        <td id=\"T_d3da4d87_7795_11ec_84a1_0c9d92c473d6row5_col1\" class=\"data row5 col1\" >0.0</td>\n",
       "                        <td id=\"T_d3da4d87_7795_11ec_84a1_0c9d92c473d6row5_col2\" class=\"data row5 col2\" >0.0</td>\n",
       "                        <td id=\"T_d3da4d87_7795_11ec_84a1_0c9d92c473d6row5_col3\" class=\"data row5 col3\" >0.0</td>\n",
       "                        <td id=\"T_d3da4d87_7795_11ec_84a1_0c9d92c473d6row5_col4\" class=\"data row5 col4\" >0.0</td>\n",
       "                        <td id=\"T_d3da4d87_7795_11ec_84a1_0c9d92c473d6row5_col5\" class=\"data row5 col5\" >0.0</td>\n",
       "                        <td id=\"T_d3da4d87_7795_11ec_84a1_0c9d92c473d6row5_col6\" class=\"data row5 col6\" >0.0</td>\n",
       "                        <td id=\"T_d3da4d87_7795_11ec_84a1_0c9d92c473d6row5_col7\" class=\"data row5 col7\" >0.0</td>\n",
       "                        <td id=\"T_d3da4d87_7795_11ec_84a1_0c9d92c473d6row5_col8\" class=\"data row5 col8\" >0.0</td>\n",
       "                        <td id=\"T_d3da4d87_7795_11ec_84a1_0c9d92c473d6row5_col9\" class=\"data row5 col9\" >0.039</td>\n",
       "                        <td id=\"T_d3da4d87_7795_11ec_84a1_0c9d92c473d6row5_col10\" class=\"data row5 col10\" >0.0</td>\n",
       "                        <td id=\"T_d3da4d87_7795_11ec_84a1_0c9d92c473d6row5_col11\" class=\"data row5 col11\" >0.035</td>\n",
       "                        <td id=\"T_d3da4d87_7795_11ec_84a1_0c9d92c473d6row5_col12\" class=\"data row5 col12\" >0.0</td>\n",
       "                        <td id=\"T_d3da4d87_7795_11ec_84a1_0c9d92c473d6row5_col13\" class=\"data row5 col13\" >0.0</td>\n",
       "                        <td id=\"T_d3da4d87_7795_11ec_84a1_0c9d92c473d6row5_col14\" class=\"data row5 col14\" >0.061</td>\n",
       "            </tr>\n",
       "            <tr>\n",
       "                        <th id=\"T_d3da4d87_7795_11ec_84a1_0c9d92c473d6level0_row6\" class=\"row_heading level0 row6\" >marital-status</th>\n",
       "                        <td id=\"T_d3da4d87_7795_11ec_84a1_0c9d92c473d6row6_col0\" class=\"data row6 col0\" >0.04</td>\n",
       "                        <td id=\"T_d3da4d87_7795_11ec_84a1_0c9d92c473d6row6_col1\" class=\"data row6 col1\" >0.114</td>\n",
       "                        <td id=\"T_d3da4d87_7795_11ec_84a1_0c9d92c473d6row6_col2\" class=\"data row6 col2\" >0.0</td>\n",
       "                        <td id=\"T_d3da4d87_7795_11ec_84a1_0c9d92c473d6row6_col3\" class=\"data row6 col3\" >0.0</td>\n",
       "                        <td id=\"T_d3da4d87_7795_11ec_84a1_0c9d92c473d6row6_col4\" class=\"data row6 col4\" >0.0</td>\n",
       "                        <td id=\"T_d3da4d87_7795_11ec_84a1_0c9d92c473d6row6_col5\" class=\"data row6 col5\" >0.0</td>\n",
       "                        <td id=\"T_d3da4d87_7795_11ec_84a1_0c9d92c473d6row6_col6\" class=\"data row6 col6\" >0.0</td>\n",
       "                        <td id=\"T_d3da4d87_7795_11ec_84a1_0c9d92c473d6row6_col7\" class=\"data row6 col7\" >0.0</td>\n",
       "                        <td id=\"T_d3da4d87_7795_11ec_84a1_0c9d92c473d6row6_col8\" class=\"data row6 col8\" >0.0</td>\n",
       "                        <td id=\"T_d3da4d87_7795_11ec_84a1_0c9d92c473d6row6_col9\" class=\"data row6 col9\" >0.0</td>\n",
       "                        <td id=\"T_d3da4d87_7795_11ec_84a1_0c9d92c473d6row6_col10\" class=\"data row6 col10\" >0.077</td>\n",
       "                        <td id=\"T_d3da4d87_7795_11ec_84a1_0c9d92c473d6row6_col11\" class=\"data row6 col11\" >0.0</td>\n",
       "                        <td id=\"T_d3da4d87_7795_11ec_84a1_0c9d92c473d6row6_col12\" class=\"data row6 col12\" >0.0</td>\n",
       "                        <td id=\"T_d3da4d87_7795_11ec_84a1_0c9d92c473d6row6_col13\" class=\"data row6 col13\" >0.0</td>\n",
       "                        <td id=\"T_d3da4d87_7795_11ec_84a1_0c9d92c473d6row6_col14\" class=\"data row6 col14\" >0.0</td>\n",
       "            </tr>\n",
       "            <tr>\n",
       "                        <th id=\"T_d3da4d87_7795_11ec_84a1_0c9d92c473d6level0_row7\" class=\"row_heading level0 row7\" >occupation</th>\n",
       "                        <td id=\"T_d3da4d87_7795_11ec_84a1_0c9d92c473d6row7_col0\" class=\"data row7 col0\" >0.0</td>\n",
       "                        <td id=\"T_d3da4d87_7795_11ec_84a1_0c9d92c473d6row7_col1\" class=\"data row7 col1\" >0.0</td>\n",
       "                        <td id=\"T_d3da4d87_7795_11ec_84a1_0c9d92c473d6row7_col2\" class=\"data row7 col2\" >0.194</td>\n",
       "                        <td id=\"T_d3da4d87_7795_11ec_84a1_0c9d92c473d6row7_col3\" class=\"data row7 col3\" >0.0</td>\n",
       "                        <td id=\"T_d3da4d87_7795_11ec_84a1_0c9d92c473d6row7_col4\" class=\"data row7 col4\" >0.0</td>\n",
       "                        <td id=\"T_d3da4d87_7795_11ec_84a1_0c9d92c473d6row7_col5\" class=\"data row7 col5\" >0.0</td>\n",
       "                        <td id=\"T_d3da4d87_7795_11ec_84a1_0c9d92c473d6row7_col6\" class=\"data row7 col6\" >0.0</td>\n",
       "                        <td id=\"T_d3da4d87_7795_11ec_84a1_0c9d92c473d6row7_col7\" class=\"data row7 col7\" >0.0</td>\n",
       "                        <td id=\"T_d3da4d87_7795_11ec_84a1_0c9d92c473d6row7_col8\" class=\"data row7 col8\" >0.0</td>\n",
       "                        <td id=\"T_d3da4d87_7795_11ec_84a1_0c9d92c473d6row7_col9\" class=\"data row7 col9\" >0.0</td>\n",
       "                        <td id=\"T_d3da4d87_7795_11ec_84a1_0c9d92c473d6row7_col10\" class=\"data row7 col10\" >0.0</td>\n",
       "                        <td id=\"T_d3da4d87_7795_11ec_84a1_0c9d92c473d6row7_col11\" class=\"data row7 col11\" >0.0</td>\n",
       "                        <td id=\"T_d3da4d87_7795_11ec_84a1_0c9d92c473d6row7_col12\" class=\"data row7 col12\" >0.0</td>\n",
       "                        <td id=\"T_d3da4d87_7795_11ec_84a1_0c9d92c473d6row7_col13\" class=\"data row7 col13\" >0.0</td>\n",
       "                        <td id=\"T_d3da4d87_7795_11ec_84a1_0c9d92c473d6row7_col14\" class=\"data row7 col14\" >0.0</td>\n",
       "            </tr>\n",
       "            <tr>\n",
       "                        <th id=\"T_d3da4d87_7795_11ec_84a1_0c9d92c473d6level0_row8\" class=\"row_heading level0 row8\" >relationship</th>\n",
       "                        <td id=\"T_d3da4d87_7795_11ec_84a1_0c9d92c473d6row8_col0\" class=\"data row8 col0\" >0.0</td>\n",
       "                        <td id=\"T_d3da4d87_7795_11ec_84a1_0c9d92c473d6row8_col1\" class=\"data row8 col1\" >0.068</td>\n",
       "                        <td id=\"T_d3da4d87_7795_11ec_84a1_0c9d92c473d6row8_col2\" class=\"data row8 col2\" >0.0</td>\n",
       "                        <td id=\"T_d3da4d87_7795_11ec_84a1_0c9d92c473d6row8_col3\" class=\"data row8 col3\" >0.0</td>\n",
       "                        <td id=\"T_d3da4d87_7795_11ec_84a1_0c9d92c473d6row8_col4\" class=\"data row8 col4\" >0.0</td>\n",
       "                        <td id=\"T_d3da4d87_7795_11ec_84a1_0c9d92c473d6row8_col5\" class=\"data row8 col5\" >0.0</td>\n",
       "                        <td id=\"T_d3da4d87_7795_11ec_84a1_0c9d92c473d6row8_col6\" class=\"data row8 col6\" >0.134</td>\n",
       "                        <td id=\"T_d3da4d87_7795_11ec_84a1_0c9d92c473d6row8_col7\" class=\"data row8 col7\" >0.0</td>\n",
       "                        <td id=\"T_d3da4d87_7795_11ec_84a1_0c9d92c473d6row8_col8\" class=\"data row8 col8\" >0.0</td>\n",
       "                        <td id=\"T_d3da4d87_7795_11ec_84a1_0c9d92c473d6row8_col9\" class=\"data row8 col9\" >0.0</td>\n",
       "                        <td id=\"T_d3da4d87_7795_11ec_84a1_0c9d92c473d6row8_col10\" class=\"data row8 col10\" >0.078</td>\n",
       "                        <td id=\"T_d3da4d87_7795_11ec_84a1_0c9d92c473d6row8_col11\" class=\"data row8 col11\" >0.0</td>\n",
       "                        <td id=\"T_d3da4d87_7795_11ec_84a1_0c9d92c473d6row8_col12\" class=\"data row8 col12\" >0.0</td>\n",
       "                        <td id=\"T_d3da4d87_7795_11ec_84a1_0c9d92c473d6row8_col13\" class=\"data row8 col13\" >0.0</td>\n",
       "                        <td id=\"T_d3da4d87_7795_11ec_84a1_0c9d92c473d6row8_col14\" class=\"data row8 col14\" >0.0</td>\n",
       "            </tr>\n",
       "            <tr>\n",
       "                        <th id=\"T_d3da4d87_7795_11ec_84a1_0c9d92c473d6level0_row9\" class=\"row_heading level0 row9\" >race</th>\n",
       "                        <td id=\"T_d3da4d87_7795_11ec_84a1_0c9d92c473d6row9_col0\" class=\"data row9 col0\" >0.0</td>\n",
       "                        <td id=\"T_d3da4d87_7795_11ec_84a1_0c9d92c473d6row9_col1\" class=\"data row9 col1\" >0.0</td>\n",
       "                        <td id=\"T_d3da4d87_7795_11ec_84a1_0c9d92c473d6row9_col2\" class=\"data row9 col2\" >0.0</td>\n",
       "                        <td id=\"T_d3da4d87_7795_11ec_84a1_0c9d92c473d6row9_col3\" class=\"data row9 col3\" >0.057</td>\n",
       "                        <td id=\"T_d3da4d87_7795_11ec_84a1_0c9d92c473d6row9_col4\" class=\"data row9 col4\" >0.0</td>\n",
       "                        <td id=\"T_d3da4d87_7795_11ec_84a1_0c9d92c473d6row9_col5\" class=\"data row9 col5\" >0.0</td>\n",
       "                        <td id=\"T_d3da4d87_7795_11ec_84a1_0c9d92c473d6row9_col6\" class=\"data row9 col6\" >0.0</td>\n",
       "                        <td id=\"T_d3da4d87_7795_11ec_84a1_0c9d92c473d6row9_col7\" class=\"data row9 col7\" >0.0</td>\n",
       "                        <td id=\"T_d3da4d87_7795_11ec_84a1_0c9d92c473d6row9_col8\" class=\"data row9 col8\" >0.0</td>\n",
       "                        <td id=\"T_d3da4d87_7795_11ec_84a1_0c9d92c473d6row9_col9\" class=\"data row9 col9\" >0.0</td>\n",
       "                        <td id=\"T_d3da4d87_7795_11ec_84a1_0c9d92c473d6row9_col10\" class=\"data row9 col10\" >0.0</td>\n",
       "                        <td id=\"T_d3da4d87_7795_11ec_84a1_0c9d92c473d6row9_col11\" class=\"data row9 col11\" >0.0</td>\n",
       "                        <td id=\"T_d3da4d87_7795_11ec_84a1_0c9d92c473d6row9_col12\" class=\"data row9 col12\" >0.0</td>\n",
       "                        <td id=\"T_d3da4d87_7795_11ec_84a1_0c9d92c473d6row9_col13\" class=\"data row9 col13\" >0.0</td>\n",
       "                        <td id=\"T_d3da4d87_7795_11ec_84a1_0c9d92c473d6row9_col14\" class=\"data row9 col14\" >0.0</td>\n",
       "            </tr>\n",
       "            <tr>\n",
       "                        <th id=\"T_d3da4d87_7795_11ec_84a1_0c9d92c473d6level0_row10\" class=\"row_heading level0 row10\" >sex</th>\n",
       "                        <td id=\"T_d3da4d87_7795_11ec_84a1_0c9d92c473d6row10_col0\" class=\"data row10 col0\" >0.0</td>\n",
       "                        <td id=\"T_d3da4d87_7795_11ec_84a1_0c9d92c473d6row10_col1\" class=\"data row10 col1\" >0.0</td>\n",
       "                        <td id=\"T_d3da4d87_7795_11ec_84a1_0c9d92c473d6row10_col2\" class=\"data row10 col2\" >0.0</td>\n",
       "                        <td id=\"T_d3da4d87_7795_11ec_84a1_0c9d92c473d6row10_col3\" class=\"data row10 col3\" >0.0</td>\n",
       "                        <td id=\"T_d3da4d87_7795_11ec_84a1_0c9d92c473d6row10_col4\" class=\"data row10 col4\" >0.0</td>\n",
       "                        <td id=\"T_d3da4d87_7795_11ec_84a1_0c9d92c473d6row10_col5\" class=\"data row10 col5\" >0.0</td>\n",
       "                        <td id=\"T_d3da4d87_7795_11ec_84a1_0c9d92c473d6row10_col6\" class=\"data row10 col6\" >0.0</td>\n",
       "                        <td id=\"T_d3da4d87_7795_11ec_84a1_0c9d92c473d6row10_col7\" class=\"data row10 col7\" >0.0</td>\n",
       "                        <td id=\"T_d3da4d87_7795_11ec_84a1_0c9d92c473d6row10_col8\" class=\"data row10 col8\" >0.0</td>\n",
       "                        <td id=\"T_d3da4d87_7795_11ec_84a1_0c9d92c473d6row10_col9\" class=\"data row10 col9\" >0.0</td>\n",
       "                        <td id=\"T_d3da4d87_7795_11ec_84a1_0c9d92c473d6row10_col10\" class=\"data row10 col10\" >0.0</td>\n",
       "                        <td id=\"T_d3da4d87_7795_11ec_84a1_0c9d92c473d6row10_col11\" class=\"data row10 col11\" >0.0</td>\n",
       "                        <td id=\"T_d3da4d87_7795_11ec_84a1_0c9d92c473d6row10_col12\" class=\"data row10 col12\" >0.0</td>\n",
       "                        <td id=\"T_d3da4d87_7795_11ec_84a1_0c9d92c473d6row10_col13\" class=\"data row10 col13\" >0.0</td>\n",
       "                        <td id=\"T_d3da4d87_7795_11ec_84a1_0c9d92c473d6row10_col14\" class=\"data row10 col14\" >0.0</td>\n",
       "            </tr>\n",
       "            <tr>\n",
       "                        <th id=\"T_d3da4d87_7795_11ec_84a1_0c9d92c473d6level0_row11\" class=\"row_heading level0 row11\" >capital-gain</th>\n",
       "                        <td id=\"T_d3da4d87_7795_11ec_84a1_0c9d92c473d6row11_col0\" class=\"data row11 col0\" >0.0</td>\n",
       "                        <td id=\"T_d3da4d87_7795_11ec_84a1_0c9d92c473d6row11_col1\" class=\"data row11 col1\" >0.0</td>\n",
       "                        <td id=\"T_d3da4d87_7795_11ec_84a1_0c9d92c473d6row11_col2\" class=\"data row11 col2\" >0.0</td>\n",
       "                        <td id=\"T_d3da4d87_7795_11ec_84a1_0c9d92c473d6row11_col3\" class=\"data row11 col3\" >0.0</td>\n",
       "                        <td id=\"T_d3da4d87_7795_11ec_84a1_0c9d92c473d6row11_col4\" class=\"data row11 col4\" >0.0</td>\n",
       "                        <td id=\"T_d3da4d87_7795_11ec_84a1_0c9d92c473d6row11_col5\" class=\"data row11 col5\" >0.0</td>\n",
       "                        <td id=\"T_d3da4d87_7795_11ec_84a1_0c9d92c473d6row11_col6\" class=\"data row11 col6\" >0.0</td>\n",
       "                        <td id=\"T_d3da4d87_7795_11ec_84a1_0c9d92c473d6row11_col7\" class=\"data row11 col7\" >0.0</td>\n",
       "                        <td id=\"T_d3da4d87_7795_11ec_84a1_0c9d92c473d6row11_col8\" class=\"data row11 col8\" >0.0</td>\n",
       "                        <td id=\"T_d3da4d87_7795_11ec_84a1_0c9d92c473d6row11_col9\" class=\"data row11 col9\" >0.0</td>\n",
       "                        <td id=\"T_d3da4d87_7795_11ec_84a1_0c9d92c473d6row11_col10\" class=\"data row11 col10\" >0.0</td>\n",
       "                        <td id=\"T_d3da4d87_7795_11ec_84a1_0c9d92c473d6row11_col11\" class=\"data row11 col11\" >0.0</td>\n",
       "                        <td id=\"T_d3da4d87_7795_11ec_84a1_0c9d92c473d6row11_col12\" class=\"data row11 col12\" >0.031</td>\n",
       "                        <td id=\"T_d3da4d87_7795_11ec_84a1_0c9d92c473d6row11_col13\" class=\"data row11 col13\" >0.0</td>\n",
       "                        <td id=\"T_d3da4d87_7795_11ec_84a1_0c9d92c473d6row11_col14\" class=\"data row11 col14\" >0.0</td>\n",
       "            </tr>\n",
       "            <tr>\n",
       "                        <th id=\"T_d3da4d87_7795_11ec_84a1_0c9d92c473d6level0_row12\" class=\"row_heading level0 row12\" >capital-loss</th>\n",
       "                        <td id=\"T_d3da4d87_7795_11ec_84a1_0c9d92c473d6row12_col0\" class=\"data row12 col0\" >0.0</td>\n",
       "                        <td id=\"T_d3da4d87_7795_11ec_84a1_0c9d92c473d6row12_col1\" class=\"data row12 col1\" >0.0</td>\n",
       "                        <td id=\"T_d3da4d87_7795_11ec_84a1_0c9d92c473d6row12_col2\" class=\"data row12 col2\" >0.0</td>\n",
       "                        <td id=\"T_d3da4d87_7795_11ec_84a1_0c9d92c473d6row12_col3\" class=\"data row12 col3\" >0.0</td>\n",
       "                        <td id=\"T_d3da4d87_7795_11ec_84a1_0c9d92c473d6row12_col4\" class=\"data row12 col4\" >0.0</td>\n",
       "                        <td id=\"T_d3da4d87_7795_11ec_84a1_0c9d92c473d6row12_col5\" class=\"data row12 col5\" >0.0</td>\n",
       "                        <td id=\"T_d3da4d87_7795_11ec_84a1_0c9d92c473d6row12_col6\" class=\"data row12 col6\" >0.0</td>\n",
       "                        <td id=\"T_d3da4d87_7795_11ec_84a1_0c9d92c473d6row12_col7\" class=\"data row12 col7\" >0.0</td>\n",
       "                        <td id=\"T_d3da4d87_7795_11ec_84a1_0c9d92c473d6row12_col8\" class=\"data row12 col8\" >0.0</td>\n",
       "                        <td id=\"T_d3da4d87_7795_11ec_84a1_0c9d92c473d6row12_col9\" class=\"data row12 col9\" >0.0</td>\n",
       "                        <td id=\"T_d3da4d87_7795_11ec_84a1_0c9d92c473d6row12_col10\" class=\"data row12 col10\" >0.0</td>\n",
       "                        <td id=\"T_d3da4d87_7795_11ec_84a1_0c9d92c473d6row12_col11\" class=\"data row12 col11\" >0.0</td>\n",
       "                        <td id=\"T_d3da4d87_7795_11ec_84a1_0c9d92c473d6row12_col12\" class=\"data row12 col12\" >0.0</td>\n",
       "                        <td id=\"T_d3da4d87_7795_11ec_84a1_0c9d92c473d6row12_col13\" class=\"data row12 col13\" >0.0</td>\n",
       "                        <td id=\"T_d3da4d87_7795_11ec_84a1_0c9d92c473d6row12_col14\" class=\"data row12 col14\" >0.0</td>\n",
       "            </tr>\n",
       "            <tr>\n",
       "                        <th id=\"T_d3da4d87_7795_11ec_84a1_0c9d92c473d6level0_row13\" class=\"row_heading level0 row13\" >hours-per-week</th>\n",
       "                        <td id=\"T_d3da4d87_7795_11ec_84a1_0c9d92c473d6row13_col0\" class=\"data row13 col0\" >0.0</td>\n",
       "                        <td id=\"T_d3da4d87_7795_11ec_84a1_0c9d92c473d6row13_col1\" class=\"data row13 col1\" >0.0</td>\n",
       "                        <td id=\"T_d3da4d87_7795_11ec_84a1_0c9d92c473d6row13_col2\" class=\"data row13 col2\" >0.0</td>\n",
       "                        <td id=\"T_d3da4d87_7795_11ec_84a1_0c9d92c473d6row13_col3\" class=\"data row13 col3\" >0.0</td>\n",
       "                        <td id=\"T_d3da4d87_7795_11ec_84a1_0c9d92c473d6row13_col4\" class=\"data row13 col4\" >0.0</td>\n",
       "                        <td id=\"T_d3da4d87_7795_11ec_84a1_0c9d92c473d6row13_col5\" class=\"data row13 col5\" >0.0</td>\n",
       "                        <td id=\"T_d3da4d87_7795_11ec_84a1_0c9d92c473d6row13_col6\" class=\"data row13 col6\" >0.0</td>\n",
       "                        <td id=\"T_d3da4d87_7795_11ec_84a1_0c9d92c473d6row13_col7\" class=\"data row13 col7\" >0.0</td>\n",
       "                        <td id=\"T_d3da4d87_7795_11ec_84a1_0c9d92c473d6row13_col8\" class=\"data row13 col8\" >0.0</td>\n",
       "                        <td id=\"T_d3da4d87_7795_11ec_84a1_0c9d92c473d6row13_col9\" class=\"data row13 col9\" >0.0</td>\n",
       "                        <td id=\"T_d3da4d87_7795_11ec_84a1_0c9d92c473d6row13_col10\" class=\"data row13 col10\" >0.034</td>\n",
       "                        <td id=\"T_d3da4d87_7795_11ec_84a1_0c9d92c473d6row13_col11\" class=\"data row13 col11\" >0.0</td>\n",
       "                        <td id=\"T_d3da4d87_7795_11ec_84a1_0c9d92c473d6row13_col12\" class=\"data row13 col12\" >0.0</td>\n",
       "                        <td id=\"T_d3da4d87_7795_11ec_84a1_0c9d92c473d6row13_col13\" class=\"data row13 col13\" >0.0</td>\n",
       "                        <td id=\"T_d3da4d87_7795_11ec_84a1_0c9d92c473d6row13_col14\" class=\"data row13 col14\" >0.0</td>\n",
       "            </tr>\n",
       "            <tr>\n",
       "                        <th id=\"T_d3da4d87_7795_11ec_84a1_0c9d92c473d6level0_row14\" class=\"row_heading level0 row14\" >native-country</th>\n",
       "                        <td id=\"T_d3da4d87_7795_11ec_84a1_0c9d92c473d6row14_col0\" class=\"data row14 col0\" >0.0</td>\n",
       "                        <td id=\"T_d3da4d87_7795_11ec_84a1_0c9d92c473d6row14_col1\" class=\"data row14 col1\" >0.0</td>\n",
       "                        <td id=\"T_d3da4d87_7795_11ec_84a1_0c9d92c473d6row14_col2\" class=\"data row14 col2\" >0.0</td>\n",
       "                        <td id=\"T_d3da4d87_7795_11ec_84a1_0c9d92c473d6row14_col3\" class=\"data row14 col3\" >0.053</td>\n",
       "                        <td id=\"T_d3da4d87_7795_11ec_84a1_0c9d92c473d6row14_col4\" class=\"data row14 col4\" >0.0</td>\n",
       "                        <td id=\"T_d3da4d87_7795_11ec_84a1_0c9d92c473d6row14_col5\" class=\"data row14 col5\" >0.0</td>\n",
       "                        <td id=\"T_d3da4d87_7795_11ec_84a1_0c9d92c473d6row14_col6\" class=\"data row14 col6\" >0.0</td>\n",
       "                        <td id=\"T_d3da4d87_7795_11ec_84a1_0c9d92c473d6row14_col7\" class=\"data row14 col7\" >0.0</td>\n",
       "                        <td id=\"T_d3da4d87_7795_11ec_84a1_0c9d92c473d6row14_col8\" class=\"data row14 col8\" >0.0</td>\n",
       "                        <td id=\"T_d3da4d87_7795_11ec_84a1_0c9d92c473d6row14_col9\" class=\"data row14 col9\" >0.124</td>\n",
       "                        <td id=\"T_d3da4d87_7795_11ec_84a1_0c9d92c473d6row14_col10\" class=\"data row14 col10\" >0.0</td>\n",
       "                        <td id=\"T_d3da4d87_7795_11ec_84a1_0c9d92c473d6row14_col11\" class=\"data row14 col11\" >0.0</td>\n",
       "                        <td id=\"T_d3da4d87_7795_11ec_84a1_0c9d92c473d6row14_col12\" class=\"data row14 col12\" >0.0</td>\n",
       "                        <td id=\"T_d3da4d87_7795_11ec_84a1_0c9d92c473d6row14_col13\" class=\"data row14 col13\" >0.0</td>\n",
       "                        <td id=\"T_d3da4d87_7795_11ec_84a1_0c9d92c473d6row14_col14\" class=\"data row14 col14\" >0.0</td>\n",
       "            </tr>\n",
       "    </tbody></table>"
      ],
      "text/plain": [
       "<pandas.io.formats.style.Styler at 0x7f0c8dd644a8>"
      ]
     },
     "metadata": {},
     "output_type": "display_data"
    },
    {
     "name": "stdout",
     "output_type": "stream",
     "text": [
      "Total Number of Edges in G: 18\n",
      "Max in degree: 3\n",
      "DAG: True\n"
     ]
    },
    {
     "data": {
      "text/html": [
       "\n",
       "        <iframe\n",
       "            width=\"100%\"\n",
       "            height=\"600px\"\n",
       "            src=\"a.html\"\n",
       "            frameborder=\"0\"\n",
       "            allowfullscreen\n",
       "        ></iframe>\n",
       "        "
      ],
      "text/plain": [
       "<IPython.lib.display.IFrame at 0x7f0bf0153710>"
      ]
     },
     "metadata": {},
     "output_type": "display_data"
    }
   ],
   "source": [
    "if run:\n",
    "    df = dataset\n",
    "    heat_mat(W_est, names= df.columns.values)\n",
    "    plot_DAG(W_est, graphic_type = \"py\", names = list(df.columns))\n",
    "\n",
    "    tau = 0.029\n",
    "    print(\"tau:\",tau)\n",
    "    maxed_adj = DAG_retreive_np(W_est, tau)\n",
    "    heat_mat(maxed_adj, names= df.columns.values)\n",
    "    plot_DAG(maxed_adj, graphic_type = \"py\", names = [a.split('_')[0] for a in df.columns.values])\n",
    "    # plot_DAG(W_est, graphic_type = \"py\", names = [a.split('_')[0] for a in df.columns.values])\n"
   ]
  }
 ],
 "metadata": {
  "interpreter": {
   "hash": "17ddb6dd1369b98a9580534afb07762b5ebdbc039cd5b98c3e5a98f1dd9838be"
  },
  "kernelspec": {
   "display_name": "bayesenv",
   "language": "python",
   "name": "python3"
  },
  "language_info": {
   "codemirror_mode": {
    "name": "ipython",
    "version": 3
   },
   "file_extension": ".py",
   "mimetype": "text/x-python",
   "name": "python",
   "nbconvert_exporter": "python",
   "pygments_lexer": "ipython3",
   "version": "3.6.9"
  }
 },
 "nbformat": 4,
 "nbformat_minor": 4
}
