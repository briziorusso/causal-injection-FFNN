{
 "cells": [
  {
   "cell_type": "markdown",
   "metadata": {},
   "source": [
    "## Fico"
   ]
  },
  {
   "cell_type": "code",
   "execution_count": 18,
   "metadata": {
    "tags": []
   },
   "outputs": [
    {
     "data": {
      "text/html": [
       "<div>\n",
       "<style scoped>\n",
       "    .dataframe tbody tr th:only-of-type {\n",
       "        vertical-align: middle;\n",
       "    }\n",
       "\n",
       "    .dataframe tbody tr th {\n",
       "        vertical-align: top;\n",
       "    }\n",
       "\n",
       "    .dataframe thead th {\n",
       "        text-align: right;\n",
       "    }\n",
       "</style>\n",
       "<table border=\"1\" class=\"dataframe\">\n",
       "  <thead>\n",
       "    <tr style=\"text-align: right;\">\n",
       "      <th></th>\n",
       "      <th>theta</th>\n",
       "      <th>count</th>\n",
       "      <th>folds</th>\n",
       "      <th>accuracy_mean</th>\n",
       "      <th>accuracy_std</th>\n",
       "      <th>N_edges</th>\n",
       "      <th>Std</th>\n",
       "    </tr>\n",
       "  </thead>\n",
       "  <tbody>\n",
       "    <tr>\n",
       "      <th>0</th>\n",
       "      <td>-0.007</td>\n",
       "      <td>25</td>\n",
       "      <td>5</td>\n",
       "      <td>0.795521</td>\n",
       "      <td>0.005878</td>\n",
       "      <td>552.0</td>\n",
       "      <td>0.000000</td>\n",
       "    </tr>\n",
       "    <tr>\n",
       "      <th>1</th>\n",
       "      <td>0.000</td>\n",
       "      <td>25</td>\n",
       "      <td>5</td>\n",
       "      <td>0.795158</td>\n",
       "      <td>0.003524</td>\n",
       "      <td>276.0</td>\n",
       "      <td>0.000000</td>\n",
       "    </tr>\n",
       "    <tr>\n",
       "      <th>2</th>\n",
       "      <td>0.004</td>\n",
       "      <td>25</td>\n",
       "      <td>5</td>\n",
       "      <td>0.792953</td>\n",
       "      <td>0.003936</td>\n",
       "      <td>84.6</td>\n",
       "      <td>6.144103</td>\n",
       "    </tr>\n",
       "    <tr>\n",
       "      <th>4</th>\n",
       "      <td>0.006</td>\n",
       "      <td>25</td>\n",
       "      <td>5</td>\n",
       "      <td>0.790614</td>\n",
       "      <td>0.002682</td>\n",
       "      <td>60.8</td>\n",
       "      <td>6.812978</td>\n",
       "    </tr>\n",
       "    <tr>\n",
       "      <th>6</th>\n",
       "      <td>0.008</td>\n",
       "      <td>25</td>\n",
       "      <td>5</td>\n",
       "      <td>0.780123</td>\n",
       "      <td>0.012351</td>\n",
       "      <td>47.0</td>\n",
       "      <td>4.232808</td>\n",
       "    </tr>\n",
       "    <tr>\n",
       "      <th>8</th>\n",
       "      <td>0.010</td>\n",
       "      <td>25</td>\n",
       "      <td>5</td>\n",
       "      <td>0.773345</td>\n",
       "      <td>0.009844</td>\n",
       "      <td>36.4</td>\n",
       "      <td>2.857738</td>\n",
       "    </tr>\n",
       "    <tr>\n",
       "      <th>10</th>\n",
       "      <td>0.012</td>\n",
       "      <td>25</td>\n",
       "      <td>5</td>\n",
       "      <td>0.714603</td>\n",
       "      <td>0.109900</td>\n",
       "      <td>29.8</td>\n",
       "      <td>1.979057</td>\n",
       "    </tr>\n",
       "    <tr>\n",
       "      <th>11</th>\n",
       "      <td>0.016</td>\n",
       "      <td>25</td>\n",
       "      <td>5</td>\n",
       "      <td>0.550320</td>\n",
       "      <td>0.102716</td>\n",
       "      <td>20.8</td>\n",
       "      <td>2.362908</td>\n",
       "    </tr>\n",
       "    <tr>\n",
       "      <th>12</th>\n",
       "      <td>0.020</td>\n",
       "      <td>25</td>\n",
       "      <td>5</td>\n",
       "      <td>0.500000</td>\n",
       "      <td>0.000000</td>\n",
       "      <td>15.2</td>\n",
       "      <td>1.979057</td>\n",
       "    </tr>\n",
       "    <tr>\n",
       "      <th>13</th>\n",
       "      <td>0.024</td>\n",
       "      <td>25</td>\n",
       "      <td>5</td>\n",
       "      <td>0.500000</td>\n",
       "      <td>0.000000</td>\n",
       "      <td>11.2</td>\n",
       "      <td>0.763763</td>\n",
       "    </tr>\n",
       "    <tr>\n",
       "      <th>14</th>\n",
       "      <td>0.028</td>\n",
       "      <td>25</td>\n",
       "      <td>5</td>\n",
       "      <td>0.500000</td>\n",
       "      <td>0.000000</td>\n",
       "      <td>7.8</td>\n",
       "      <td>1.000000</td>\n",
       "    </tr>\n",
       "  </tbody>\n",
       "</table>\n",
       "</div>"
      ],
      "text/plain": [
       "    theta  count  folds  accuracy_mean  accuracy_std  N_edges       Std\n",
       "0  -0.007     25      5       0.795521      0.005878    552.0  0.000000\n",
       "1   0.000     25      5       0.795158      0.003524    276.0  0.000000\n",
       "2   0.004     25      5       0.792953      0.003936     84.6  6.144103\n",
       "4   0.006     25      5       0.790614      0.002682     60.8  6.812978\n",
       "6   0.008     25      5       0.780123      0.012351     47.0  4.232808\n",
       "8   0.010     25      5       0.773345      0.009844     36.4  2.857738\n",
       "10  0.012     25      5       0.714603      0.109900     29.8  1.979057\n",
       "11  0.016     25      5       0.550320      0.102716     20.8  2.362908\n",
       "12  0.020     25      5       0.500000      0.000000     15.2  1.979057\n",
       "13  0.024     25      5       0.500000      0.000000     11.2  0.763763\n",
       "14  0.028     25      5       0.500000      0.000000      7.8  1.000000"
      ]
     },
     "metadata": {},
     "output_type": "display_data"
    },
    {
     "data": {
      "application/vnd.plotly.v1+json": {
       "config": {
        "plotlyServerURL": "https://plot.ly"
       },
       "data": [
        {
         "error_y": {
          "array": [
           0.005877570351900918,
           0.0035235027953191577,
           0.003935783955406033,
           0.002681633166266534,
           0.012350515777747612,
           0.009843734156192361,
           0.10989961507491076,
           0.10271620700277363,
           0,
           0,
           0
          ],
          "type": "data",
          "visible": true
         },
         "name": "AUC",
         "type": "scatter",
         "x": [
          -0.007,
          0,
          0.004,
          0.006,
          0.008,
          0.01,
          0.012,
          0.016,
          0.02,
          0.024,
          0.028
         ],
         "xaxis": "x",
         "y": [
          0.7955208414820057,
          0.7951577473751638,
          0.7929526929011074,
          0.7906142803606535,
          0.7801230485050473,
          0.7733454467827382,
          0.7146025315135799,
          0.5503204590941775,
          0.5,
          0.5,
          0.5
         ],
         "yaxis": "y2"
        },
        {
         "error_y": {
          "array": [
           0,
           0,
           6.144102863722253,
           6.8129778119898985,
           4.232808366400098,
           2.857738033247041,
           1.9790570145063193,
           2.3629078131263044,
           1.9790570145063195,
           0.7637626158259732,
           0.9999999999999998
          ],
          "type": "data",
          "visible": true
         },
         "name": "Edges",
         "type": "scatter",
         "x": [
          -0.007,
          0,
          0.004,
          0.006,
          0.008,
          0.01,
          0.012,
          0.016,
          0.02,
          0.024,
          0.028
         ],
         "xaxis": "x",
         "y": [
          552,
          276,
          84.6,
          60.8,
          47,
          36.4,
          29.8,
          20.8,
          15.2,
          11.2,
          7.8
         ],
         "yaxis": "y"
        }
       ],
       "layout": {
        "annotations": [
         {
          "showarrow": false,
          "text": "CASTLE",
          "x": 0.02,
          "xref": "paper",
          "y": -0.094,
          "yref": "paper",
          "yshift": 0
         },
         {
          "ax": 0,
          "ay": 170,
          "showarrow": true,
          "text": "0.004",
          "x": 0.004,
          "xref": "x",
          "y": 0.7929,
          "yref": "y2",
          "yshift": 0
         },
         {
          "ax": 300,
          "ay": 0,
          "showarrow": true,
          "text": "0.79",
          "x": 0.004,
          "xref": "x",
          "y": 0.7929,
          "yref": "y2",
          "yshift": 0
         },
         {
          "ax": -150,
          "ay": 0,
          "showarrow": true,
          "text": "85",
          "x": 0.004,
          "xref": "x",
          "y": 84.6,
          "yref": "y",
          "yshift": 0
         }
        ],
        "autosize": true,
        "font": {
         "family": "Serif",
         "size": 18
        },
        "height": 250,
        "legend": {
         "orientation": "h",
         "x": 0.85,
         "xanchor": "center",
         "y": -0.23,
         "yanchor": "bottom"
        },
        "margin": {
         "b": 0,
         "l": 10,
         "pad": 0,
         "r": 10,
         "t": 10
        },
        "template": {
         "data": {
          "bar": [
           {
            "error_x": {
             "color": "#2a3f5f"
            },
            "error_y": {
             "color": "#2a3f5f"
            },
            "marker": {
             "line": {
              "color": "white",
              "width": 0.5
             },
             "pattern": {
              "fillmode": "overlay",
              "size": 10,
              "solidity": 0.2
             }
            },
            "type": "bar"
           }
          ],
          "barpolar": [
           {
            "marker": {
             "line": {
              "color": "white",
              "width": 0.5
             },
             "pattern": {
              "fillmode": "overlay",
              "size": 10,
              "solidity": 0.2
             }
            },
            "type": "barpolar"
           }
          ],
          "carpet": [
           {
            "aaxis": {
             "endlinecolor": "#2a3f5f",
             "gridcolor": "#C8D4E3",
             "linecolor": "#C8D4E3",
             "minorgridcolor": "#C8D4E3",
             "startlinecolor": "#2a3f5f"
            },
            "baxis": {
             "endlinecolor": "#2a3f5f",
             "gridcolor": "#C8D4E3",
             "linecolor": "#C8D4E3",
             "minorgridcolor": "#C8D4E3",
             "startlinecolor": "#2a3f5f"
            },
            "type": "carpet"
           }
          ],
          "choropleth": [
           {
            "colorbar": {
             "outlinewidth": 0,
             "ticks": ""
            },
            "type": "choropleth"
           }
          ],
          "contour": [
           {
            "colorbar": {
             "outlinewidth": 0,
             "ticks": ""
            },
            "colorscale": [
             [
              0,
              "#0d0887"
             ],
             [
              0.1111111111111111,
              "#46039f"
             ],
             [
              0.2222222222222222,
              "#7201a8"
             ],
             [
              0.3333333333333333,
              "#9c179e"
             ],
             [
              0.4444444444444444,
              "#bd3786"
             ],
             [
              0.5555555555555556,
              "#d8576b"
             ],
             [
              0.6666666666666666,
              "#ed7953"
             ],
             [
              0.7777777777777778,
              "#fb9f3a"
             ],
             [
              0.8888888888888888,
              "#fdca26"
             ],
             [
              1,
              "#f0f921"
             ]
            ],
            "type": "contour"
           }
          ],
          "contourcarpet": [
           {
            "colorbar": {
             "outlinewidth": 0,
             "ticks": ""
            },
            "type": "contourcarpet"
           }
          ],
          "heatmap": [
           {
            "colorbar": {
             "outlinewidth": 0,
             "ticks": ""
            },
            "colorscale": [
             [
              0,
              "#0d0887"
             ],
             [
              0.1111111111111111,
              "#46039f"
             ],
             [
              0.2222222222222222,
              "#7201a8"
             ],
             [
              0.3333333333333333,
              "#9c179e"
             ],
             [
              0.4444444444444444,
              "#bd3786"
             ],
             [
              0.5555555555555556,
              "#d8576b"
             ],
             [
              0.6666666666666666,
              "#ed7953"
             ],
             [
              0.7777777777777778,
              "#fb9f3a"
             ],
             [
              0.8888888888888888,
              "#fdca26"
             ],
             [
              1,
              "#f0f921"
             ]
            ],
            "type": "heatmap"
           }
          ],
          "heatmapgl": [
           {
            "colorbar": {
             "outlinewidth": 0,
             "ticks": ""
            },
            "colorscale": [
             [
              0,
              "#0d0887"
             ],
             [
              0.1111111111111111,
              "#46039f"
             ],
             [
              0.2222222222222222,
              "#7201a8"
             ],
             [
              0.3333333333333333,
              "#9c179e"
             ],
             [
              0.4444444444444444,
              "#bd3786"
             ],
             [
              0.5555555555555556,
              "#d8576b"
             ],
             [
              0.6666666666666666,
              "#ed7953"
             ],
             [
              0.7777777777777778,
              "#fb9f3a"
             ],
             [
              0.8888888888888888,
              "#fdca26"
             ],
             [
              1,
              "#f0f921"
             ]
            ],
            "type": "heatmapgl"
           }
          ],
          "histogram": [
           {
            "marker": {
             "pattern": {
              "fillmode": "overlay",
              "size": 10,
              "solidity": 0.2
             }
            },
            "type": "histogram"
           }
          ],
          "histogram2d": [
           {
            "colorbar": {
             "outlinewidth": 0,
             "ticks": ""
            },
            "colorscale": [
             [
              0,
              "#0d0887"
             ],
             [
              0.1111111111111111,
              "#46039f"
             ],
             [
              0.2222222222222222,
              "#7201a8"
             ],
             [
              0.3333333333333333,
              "#9c179e"
             ],
             [
              0.4444444444444444,
              "#bd3786"
             ],
             [
              0.5555555555555556,
              "#d8576b"
             ],
             [
              0.6666666666666666,
              "#ed7953"
             ],
             [
              0.7777777777777778,
              "#fb9f3a"
             ],
             [
              0.8888888888888888,
              "#fdca26"
             ],
             [
              1,
              "#f0f921"
             ]
            ],
            "type": "histogram2d"
           }
          ],
          "histogram2dcontour": [
           {
            "colorbar": {
             "outlinewidth": 0,
             "ticks": ""
            },
            "colorscale": [
             [
              0,
              "#0d0887"
             ],
             [
              0.1111111111111111,
              "#46039f"
             ],
             [
              0.2222222222222222,
              "#7201a8"
             ],
             [
              0.3333333333333333,
              "#9c179e"
             ],
             [
              0.4444444444444444,
              "#bd3786"
             ],
             [
              0.5555555555555556,
              "#d8576b"
             ],
             [
              0.6666666666666666,
              "#ed7953"
             ],
             [
              0.7777777777777778,
              "#fb9f3a"
             ],
             [
              0.8888888888888888,
              "#fdca26"
             ],
             [
              1,
              "#f0f921"
             ]
            ],
            "type": "histogram2dcontour"
           }
          ],
          "mesh3d": [
           {
            "colorbar": {
             "outlinewidth": 0,
             "ticks": ""
            },
            "type": "mesh3d"
           }
          ],
          "parcoords": [
           {
            "line": {
             "colorbar": {
              "outlinewidth": 0,
              "ticks": ""
             }
            },
            "type": "parcoords"
           }
          ],
          "pie": [
           {
            "automargin": true,
            "type": "pie"
           }
          ],
          "scatter": [
           {
            "marker": {
             "colorbar": {
              "outlinewidth": 0,
              "ticks": ""
             }
            },
            "type": "scatter"
           }
          ],
          "scatter3d": [
           {
            "line": {
             "colorbar": {
              "outlinewidth": 0,
              "ticks": ""
             }
            },
            "marker": {
             "colorbar": {
              "outlinewidth": 0,
              "ticks": ""
             }
            },
            "type": "scatter3d"
           }
          ],
          "scattercarpet": [
           {
            "marker": {
             "colorbar": {
              "outlinewidth": 0,
              "ticks": ""
             }
            },
            "type": "scattercarpet"
           }
          ],
          "scattergeo": [
           {
            "marker": {
             "colorbar": {
              "outlinewidth": 0,
              "ticks": ""
             }
            },
            "type": "scattergeo"
           }
          ],
          "scattergl": [
           {
            "marker": {
             "colorbar": {
              "outlinewidth": 0,
              "ticks": ""
             }
            },
            "type": "scattergl"
           }
          ],
          "scattermapbox": [
           {
            "marker": {
             "colorbar": {
              "outlinewidth": 0,
              "ticks": ""
             }
            },
            "type": "scattermapbox"
           }
          ],
          "scatterpolar": [
           {
            "marker": {
             "colorbar": {
              "outlinewidth": 0,
              "ticks": ""
             }
            },
            "type": "scatterpolar"
           }
          ],
          "scatterpolargl": [
           {
            "marker": {
             "colorbar": {
              "outlinewidth": 0,
              "ticks": ""
             }
            },
            "type": "scatterpolargl"
           }
          ],
          "scatterternary": [
           {
            "marker": {
             "colorbar": {
              "outlinewidth": 0,
              "ticks": ""
             }
            },
            "type": "scatterternary"
           }
          ],
          "surface": [
           {
            "colorbar": {
             "outlinewidth": 0,
             "ticks": ""
            },
            "colorscale": [
             [
              0,
              "#0d0887"
             ],
             [
              0.1111111111111111,
              "#46039f"
             ],
             [
              0.2222222222222222,
              "#7201a8"
             ],
             [
              0.3333333333333333,
              "#9c179e"
             ],
             [
              0.4444444444444444,
              "#bd3786"
             ],
             [
              0.5555555555555556,
              "#d8576b"
             ],
             [
              0.6666666666666666,
              "#ed7953"
             ],
             [
              0.7777777777777778,
              "#fb9f3a"
             ],
             [
              0.8888888888888888,
              "#fdca26"
             ],
             [
              1,
              "#f0f921"
             ]
            ],
            "type": "surface"
           }
          ],
          "table": [
           {
            "cells": {
             "fill": {
              "color": "#EBF0F8"
             },
             "line": {
              "color": "white"
             }
            },
            "header": {
             "fill": {
              "color": "#C8D4E3"
             },
             "line": {
              "color": "white"
             }
            },
            "type": "table"
           }
          ]
         },
         "layout": {
          "annotationdefaults": {
           "arrowcolor": "#2a3f5f",
           "arrowhead": 0,
           "arrowwidth": 1
          },
          "autotypenumbers": "strict",
          "coloraxis": {
           "colorbar": {
            "outlinewidth": 0,
            "ticks": ""
           }
          },
          "colorscale": {
           "diverging": [
            [
             0,
             "#8e0152"
            ],
            [
             0.1,
             "#c51b7d"
            ],
            [
             0.2,
             "#de77ae"
            ],
            [
             0.3,
             "#f1b6da"
            ],
            [
             0.4,
             "#fde0ef"
            ],
            [
             0.5,
             "#f7f7f7"
            ],
            [
             0.6,
             "#e6f5d0"
            ],
            [
             0.7,
             "#b8e186"
            ],
            [
             0.8,
             "#7fbc41"
            ],
            [
             0.9,
             "#4d9221"
            ],
            [
             1,
             "#276419"
            ]
           ],
           "sequential": [
            [
             0,
             "#0d0887"
            ],
            [
             0.1111111111111111,
             "#46039f"
            ],
            [
             0.2222222222222222,
             "#7201a8"
            ],
            [
             0.3333333333333333,
             "#9c179e"
            ],
            [
             0.4444444444444444,
             "#bd3786"
            ],
            [
             0.5555555555555556,
             "#d8576b"
            ],
            [
             0.6666666666666666,
             "#ed7953"
            ],
            [
             0.7777777777777778,
             "#fb9f3a"
            ],
            [
             0.8888888888888888,
             "#fdca26"
            ],
            [
             1,
             "#f0f921"
            ]
           ],
           "sequentialminus": [
            [
             0,
             "#0d0887"
            ],
            [
             0.1111111111111111,
             "#46039f"
            ],
            [
             0.2222222222222222,
             "#7201a8"
            ],
            [
             0.3333333333333333,
             "#9c179e"
            ],
            [
             0.4444444444444444,
             "#bd3786"
            ],
            [
             0.5555555555555556,
             "#d8576b"
            ],
            [
             0.6666666666666666,
             "#ed7953"
            ],
            [
             0.7777777777777778,
             "#fb9f3a"
            ],
            [
             0.8888888888888888,
             "#fdca26"
            ],
            [
             1,
             "#f0f921"
            ]
           ]
          },
          "colorway": [
           "#636efa",
           "#EF553B",
           "#00cc96",
           "#ab63fa",
           "#FFA15A",
           "#19d3f3",
           "#FF6692",
           "#B6E880",
           "#FF97FF",
           "#FECB52"
          ],
          "font": {
           "color": "#2a3f5f"
          },
          "geo": {
           "bgcolor": "white",
           "lakecolor": "white",
           "landcolor": "white",
           "showlakes": true,
           "showland": true,
           "subunitcolor": "#C8D4E3"
          },
          "hoverlabel": {
           "align": "left"
          },
          "hovermode": "closest",
          "mapbox": {
           "style": "light"
          },
          "paper_bgcolor": "white",
          "plot_bgcolor": "white",
          "polar": {
           "angularaxis": {
            "gridcolor": "#EBF0F8",
            "linecolor": "#EBF0F8",
            "ticks": ""
           },
           "bgcolor": "white",
           "radialaxis": {
            "gridcolor": "#EBF0F8",
            "linecolor": "#EBF0F8",
            "ticks": ""
           }
          },
          "scene": {
           "xaxis": {
            "backgroundcolor": "white",
            "gridcolor": "#DFE8F3",
            "gridwidth": 2,
            "linecolor": "#EBF0F8",
            "showbackground": true,
            "ticks": "",
            "zerolinecolor": "#EBF0F8"
           },
           "yaxis": {
            "backgroundcolor": "white",
            "gridcolor": "#DFE8F3",
            "gridwidth": 2,
            "linecolor": "#EBF0F8",
            "showbackground": true,
            "ticks": "",
            "zerolinecolor": "#EBF0F8"
           },
           "zaxis": {
            "backgroundcolor": "white",
            "gridcolor": "#DFE8F3",
            "gridwidth": 2,
            "linecolor": "#EBF0F8",
            "showbackground": true,
            "ticks": "",
            "zerolinecolor": "#EBF0F8"
           }
          },
          "shapedefaults": {
           "line": {
            "color": "#2a3f5f"
           }
          },
          "ternary": {
           "aaxis": {
            "gridcolor": "#DFE8F3",
            "linecolor": "#A2B1C6",
            "ticks": ""
           },
           "baxis": {
            "gridcolor": "#DFE8F3",
            "linecolor": "#A2B1C6",
            "ticks": ""
           },
           "bgcolor": "white",
           "caxis": {
            "gridcolor": "#DFE8F3",
            "linecolor": "#A2B1C6",
            "ticks": ""
           }
          },
          "title": {
           "x": 0.05
          },
          "xaxis": {
           "automargin": true,
           "gridcolor": "#EBF0F8",
           "linecolor": "#EBF0F8",
           "ticks": "",
           "title": {
            "standoff": 15
           },
           "zerolinecolor": "#EBF0F8",
           "zerolinewidth": 2
          },
          "yaxis": {
           "automargin": true,
           "gridcolor": "#EBF0F8",
           "linecolor": "#EBF0F8",
           "ticks": "",
           "title": {
            "standoff": 15
           },
           "zerolinecolor": "#EBF0F8",
           "zerolinewidth": 2
          }
         }
        },
        "title": {
         "text": ""
        },
        "width": 600,
        "xaxis": {
         "anchor": "y",
         "domain": [
          0,
          0.94
         ],
         "showgrid": true,
         "tickvals": [
          0,
          0.01,
          0.02
         ],
         "title": {
          "font": {
           "size": 18
          },
          "text": "$\\text{Threshold } \\tau$"
         }
        },
        "yaxis": {
         "anchor": "x",
         "domain": [
          0,
          1
         ],
         "title": {
          "text": "Number of Edges"
         }
        },
        "yaxis2": {
         "anchor": "x",
         "nticks": 6,
         "overlaying": "y",
         "showgrid": false,
         "side": "right",
         "title": {
          "text": "AUC"
         },
         "zeroline": false
        }
       }
      },
      "text/html": [
       "<div>                            <div id=\"7e2ba7f6-e0f8-404a-a7e6-70289a73e884\" class=\"plotly-graph-div\" style=\"height:250px; width:600px;\"></div>            <script type=\"text/javascript\">                require([\"plotly\"], function(Plotly) {                    window.PLOTLYENV=window.PLOTLYENV || {};                                    if (document.getElementById(\"7e2ba7f6-e0f8-404a-a7e6-70289a73e884\")) {                    Plotly.newPlot(                        \"7e2ba7f6-e0f8-404a-a7e6-70289a73e884\",                        [{\"error_y\":{\"array\":[0.005877570351900918,0.0035235027953191577,0.003935783955406033,0.002681633166266534,0.012350515777747612,0.009843734156192361,0.10989961507491076,0.10271620700277363,0.0,0.0,0.0],\"type\":\"data\",\"visible\":true},\"name\":\"AUC\",\"type\":\"scatter\",\"x\":[-0.007,0.0,0.004,0.006,0.008,0.01,0.012,0.016,0.02,0.024,0.028],\"xaxis\":\"x\",\"y\":[0.7955208414820057,0.7951577473751638,0.7929526929011074,0.7906142803606535,0.7801230485050473,0.7733454467827382,0.7146025315135799,0.5503204590941775,0.5,0.5,0.5],\"yaxis\":\"y2\"},{\"error_y\":{\"array\":[0.0,0.0,6.144102863722253,6.8129778119898985,4.232808366400098,2.857738033247041,1.9790570145063193,2.3629078131263044,1.9790570145063195,0.7637626158259732,0.9999999999999998],\"type\":\"data\",\"visible\":true},\"name\":\"Edges\",\"type\":\"scatter\",\"x\":[-0.007,0.0,0.004,0.006,0.008,0.01,0.012,0.016,0.02,0.024,0.028],\"xaxis\":\"x\",\"y\":[552.0,276.0,84.6,60.8,47.0,36.4,29.8,20.8,15.2,11.2,7.8],\"yaxis\":\"y\"}],                        {\"annotations\":[{\"showarrow\":false,\"text\":\"CASTLE\",\"x\":0.02,\"xref\":\"paper\",\"y\":-0.094,\"yref\":\"paper\",\"yshift\":0},{\"ax\":0,\"ay\":170,\"showarrow\":true,\"text\":\"0.004\",\"x\":0.004,\"xref\":\"x\",\"y\":0.7929,\"yref\":\"y2\",\"yshift\":0},{\"ax\":300,\"ay\":0,\"showarrow\":true,\"text\":\"0.79\",\"x\":0.004,\"xref\":\"x\",\"y\":0.7929,\"yref\":\"y2\",\"yshift\":0},{\"ax\":-150,\"ay\":0,\"showarrow\":true,\"text\":\"85\",\"x\":0.004,\"xref\":\"x\",\"y\":84.6,\"yref\":\"y\",\"yshift\":0}],\"autosize\":true,\"font\":{\"family\":\"Serif\",\"size\":18},\"height\":250,\"legend\":{\"orientation\":\"h\",\"x\":0.85,\"xanchor\":\"center\",\"y\":-0.23,\"yanchor\":\"bottom\"},\"margin\":{\"b\":0,\"l\":10,\"pad\":0,\"r\":10,\"t\":10},\"template\":{\"data\":{\"bar\":[{\"error_x\":{\"color\":\"#2a3f5f\"},\"error_y\":{\"color\":\"#2a3f5f\"},\"marker\":{\"line\":{\"color\":\"white\",\"width\":0.5},\"pattern\":{\"fillmode\":\"overlay\",\"size\":10,\"solidity\":0.2}},\"type\":\"bar\"}],\"barpolar\":[{\"marker\":{\"line\":{\"color\":\"white\",\"width\":0.5},\"pattern\":{\"fillmode\":\"overlay\",\"size\":10,\"solidity\":0.2}},\"type\":\"barpolar\"}],\"carpet\":[{\"aaxis\":{\"endlinecolor\":\"#2a3f5f\",\"gridcolor\":\"#C8D4E3\",\"linecolor\":\"#C8D4E3\",\"minorgridcolor\":\"#C8D4E3\",\"startlinecolor\":\"#2a3f5f\"},\"baxis\":{\"endlinecolor\":\"#2a3f5f\",\"gridcolor\":\"#C8D4E3\",\"linecolor\":\"#C8D4E3\",\"minorgridcolor\":\"#C8D4E3\",\"startlinecolor\":\"#2a3f5f\"},\"type\":\"carpet\"}],\"choropleth\":[{\"colorbar\":{\"outlinewidth\":0,\"ticks\":\"\"},\"type\":\"choropleth\"}],\"contour\":[{\"colorbar\":{\"outlinewidth\":0,\"ticks\":\"\"},\"colorscale\":[[0.0,\"#0d0887\"],[0.1111111111111111,\"#46039f\"],[0.2222222222222222,\"#7201a8\"],[0.3333333333333333,\"#9c179e\"],[0.4444444444444444,\"#bd3786\"],[0.5555555555555556,\"#d8576b\"],[0.6666666666666666,\"#ed7953\"],[0.7777777777777778,\"#fb9f3a\"],[0.8888888888888888,\"#fdca26\"],[1.0,\"#f0f921\"]],\"type\":\"contour\"}],\"contourcarpet\":[{\"colorbar\":{\"outlinewidth\":0,\"ticks\":\"\"},\"type\":\"contourcarpet\"}],\"heatmap\":[{\"colorbar\":{\"outlinewidth\":0,\"ticks\":\"\"},\"colorscale\":[[0.0,\"#0d0887\"],[0.1111111111111111,\"#46039f\"],[0.2222222222222222,\"#7201a8\"],[0.3333333333333333,\"#9c179e\"],[0.4444444444444444,\"#bd3786\"],[0.5555555555555556,\"#d8576b\"],[0.6666666666666666,\"#ed7953\"],[0.7777777777777778,\"#fb9f3a\"],[0.8888888888888888,\"#fdca26\"],[1.0,\"#f0f921\"]],\"type\":\"heatmap\"}],\"heatmapgl\":[{\"colorbar\":{\"outlinewidth\":0,\"ticks\":\"\"},\"colorscale\":[[0.0,\"#0d0887\"],[0.1111111111111111,\"#46039f\"],[0.2222222222222222,\"#7201a8\"],[0.3333333333333333,\"#9c179e\"],[0.4444444444444444,\"#bd3786\"],[0.5555555555555556,\"#d8576b\"],[0.6666666666666666,\"#ed7953\"],[0.7777777777777778,\"#fb9f3a\"],[0.8888888888888888,\"#fdca26\"],[1.0,\"#f0f921\"]],\"type\":\"heatmapgl\"}],\"histogram\":[{\"marker\":{\"pattern\":{\"fillmode\":\"overlay\",\"size\":10,\"solidity\":0.2}},\"type\":\"histogram\"}],\"histogram2d\":[{\"colorbar\":{\"outlinewidth\":0,\"ticks\":\"\"},\"colorscale\":[[0.0,\"#0d0887\"],[0.1111111111111111,\"#46039f\"],[0.2222222222222222,\"#7201a8\"],[0.3333333333333333,\"#9c179e\"],[0.4444444444444444,\"#bd3786\"],[0.5555555555555556,\"#d8576b\"],[0.6666666666666666,\"#ed7953\"],[0.7777777777777778,\"#fb9f3a\"],[0.8888888888888888,\"#fdca26\"],[1.0,\"#f0f921\"]],\"type\":\"histogram2d\"}],\"histogram2dcontour\":[{\"colorbar\":{\"outlinewidth\":0,\"ticks\":\"\"},\"colorscale\":[[0.0,\"#0d0887\"],[0.1111111111111111,\"#46039f\"],[0.2222222222222222,\"#7201a8\"],[0.3333333333333333,\"#9c179e\"],[0.4444444444444444,\"#bd3786\"],[0.5555555555555556,\"#d8576b\"],[0.6666666666666666,\"#ed7953\"],[0.7777777777777778,\"#fb9f3a\"],[0.8888888888888888,\"#fdca26\"],[1.0,\"#f0f921\"]],\"type\":\"histogram2dcontour\"}],\"mesh3d\":[{\"colorbar\":{\"outlinewidth\":0,\"ticks\":\"\"},\"type\":\"mesh3d\"}],\"parcoords\":[{\"line\":{\"colorbar\":{\"outlinewidth\":0,\"ticks\":\"\"}},\"type\":\"parcoords\"}],\"pie\":[{\"automargin\":true,\"type\":\"pie\"}],\"scatter\":[{\"marker\":{\"colorbar\":{\"outlinewidth\":0,\"ticks\":\"\"}},\"type\":\"scatter\"}],\"scatter3d\":[{\"line\":{\"colorbar\":{\"outlinewidth\":0,\"ticks\":\"\"}},\"marker\":{\"colorbar\":{\"outlinewidth\":0,\"ticks\":\"\"}},\"type\":\"scatter3d\"}],\"scattercarpet\":[{\"marker\":{\"colorbar\":{\"outlinewidth\":0,\"ticks\":\"\"}},\"type\":\"scattercarpet\"}],\"scattergeo\":[{\"marker\":{\"colorbar\":{\"outlinewidth\":0,\"ticks\":\"\"}},\"type\":\"scattergeo\"}],\"scattergl\":[{\"marker\":{\"colorbar\":{\"outlinewidth\":0,\"ticks\":\"\"}},\"type\":\"scattergl\"}],\"scattermapbox\":[{\"marker\":{\"colorbar\":{\"outlinewidth\":0,\"ticks\":\"\"}},\"type\":\"scattermapbox\"}],\"scatterpolar\":[{\"marker\":{\"colorbar\":{\"outlinewidth\":0,\"ticks\":\"\"}},\"type\":\"scatterpolar\"}],\"scatterpolargl\":[{\"marker\":{\"colorbar\":{\"outlinewidth\":0,\"ticks\":\"\"}},\"type\":\"scatterpolargl\"}],\"scatterternary\":[{\"marker\":{\"colorbar\":{\"outlinewidth\":0,\"ticks\":\"\"}},\"type\":\"scatterternary\"}],\"surface\":[{\"colorbar\":{\"outlinewidth\":0,\"ticks\":\"\"},\"colorscale\":[[0.0,\"#0d0887\"],[0.1111111111111111,\"#46039f\"],[0.2222222222222222,\"#7201a8\"],[0.3333333333333333,\"#9c179e\"],[0.4444444444444444,\"#bd3786\"],[0.5555555555555556,\"#d8576b\"],[0.6666666666666666,\"#ed7953\"],[0.7777777777777778,\"#fb9f3a\"],[0.8888888888888888,\"#fdca26\"],[1.0,\"#f0f921\"]],\"type\":\"surface\"}],\"table\":[{\"cells\":{\"fill\":{\"color\":\"#EBF0F8\"},\"line\":{\"color\":\"white\"}},\"header\":{\"fill\":{\"color\":\"#C8D4E3\"},\"line\":{\"color\":\"white\"}},\"type\":\"table\"}]},\"layout\":{\"annotationdefaults\":{\"arrowcolor\":\"#2a3f5f\",\"arrowhead\":0,\"arrowwidth\":1},\"autotypenumbers\":\"strict\",\"coloraxis\":{\"colorbar\":{\"outlinewidth\":0,\"ticks\":\"\"}},\"colorscale\":{\"diverging\":[[0,\"#8e0152\"],[0.1,\"#c51b7d\"],[0.2,\"#de77ae\"],[0.3,\"#f1b6da\"],[0.4,\"#fde0ef\"],[0.5,\"#f7f7f7\"],[0.6,\"#e6f5d0\"],[0.7,\"#b8e186\"],[0.8,\"#7fbc41\"],[0.9,\"#4d9221\"],[1,\"#276419\"]],\"sequential\":[[0.0,\"#0d0887\"],[0.1111111111111111,\"#46039f\"],[0.2222222222222222,\"#7201a8\"],[0.3333333333333333,\"#9c179e\"],[0.4444444444444444,\"#bd3786\"],[0.5555555555555556,\"#d8576b\"],[0.6666666666666666,\"#ed7953\"],[0.7777777777777778,\"#fb9f3a\"],[0.8888888888888888,\"#fdca26\"],[1.0,\"#f0f921\"]],\"sequentialminus\":[[0.0,\"#0d0887\"],[0.1111111111111111,\"#46039f\"],[0.2222222222222222,\"#7201a8\"],[0.3333333333333333,\"#9c179e\"],[0.4444444444444444,\"#bd3786\"],[0.5555555555555556,\"#d8576b\"],[0.6666666666666666,\"#ed7953\"],[0.7777777777777778,\"#fb9f3a\"],[0.8888888888888888,\"#fdca26\"],[1.0,\"#f0f921\"]]},\"colorway\":[\"#636efa\",\"#EF553B\",\"#00cc96\",\"#ab63fa\",\"#FFA15A\",\"#19d3f3\",\"#FF6692\",\"#B6E880\",\"#FF97FF\",\"#FECB52\"],\"font\":{\"color\":\"#2a3f5f\"},\"geo\":{\"bgcolor\":\"white\",\"lakecolor\":\"white\",\"landcolor\":\"white\",\"showlakes\":true,\"showland\":true,\"subunitcolor\":\"#C8D4E3\"},\"hoverlabel\":{\"align\":\"left\"},\"hovermode\":\"closest\",\"mapbox\":{\"style\":\"light\"},\"paper_bgcolor\":\"white\",\"plot_bgcolor\":\"white\",\"polar\":{\"angularaxis\":{\"gridcolor\":\"#EBF0F8\",\"linecolor\":\"#EBF0F8\",\"ticks\":\"\"},\"bgcolor\":\"white\",\"radialaxis\":{\"gridcolor\":\"#EBF0F8\",\"linecolor\":\"#EBF0F8\",\"ticks\":\"\"}},\"scene\":{\"xaxis\":{\"backgroundcolor\":\"white\",\"gridcolor\":\"#DFE8F3\",\"gridwidth\":2,\"linecolor\":\"#EBF0F8\",\"showbackground\":true,\"ticks\":\"\",\"zerolinecolor\":\"#EBF0F8\"},\"yaxis\":{\"backgroundcolor\":\"white\",\"gridcolor\":\"#DFE8F3\",\"gridwidth\":2,\"linecolor\":\"#EBF0F8\",\"showbackground\":true,\"ticks\":\"\",\"zerolinecolor\":\"#EBF0F8\"},\"zaxis\":{\"backgroundcolor\":\"white\",\"gridcolor\":\"#DFE8F3\",\"gridwidth\":2,\"linecolor\":\"#EBF0F8\",\"showbackground\":true,\"ticks\":\"\",\"zerolinecolor\":\"#EBF0F8\"}},\"shapedefaults\":{\"line\":{\"color\":\"#2a3f5f\"}},\"ternary\":{\"aaxis\":{\"gridcolor\":\"#DFE8F3\",\"linecolor\":\"#A2B1C6\",\"ticks\":\"\"},\"baxis\":{\"gridcolor\":\"#DFE8F3\",\"linecolor\":\"#A2B1C6\",\"ticks\":\"\"},\"bgcolor\":\"white\",\"caxis\":{\"gridcolor\":\"#DFE8F3\",\"linecolor\":\"#A2B1C6\",\"ticks\":\"\"}},\"title\":{\"x\":0.05},\"xaxis\":{\"automargin\":true,\"gridcolor\":\"#EBF0F8\",\"linecolor\":\"#EBF0F8\",\"ticks\":\"\",\"title\":{\"standoff\":15},\"zerolinecolor\":\"#EBF0F8\",\"zerolinewidth\":2},\"yaxis\":{\"automargin\":true,\"gridcolor\":\"#EBF0F8\",\"linecolor\":\"#EBF0F8\",\"ticks\":\"\",\"title\":{\"standoff\":15},\"zerolinecolor\":\"#EBF0F8\",\"zerolinewidth\":2}}},\"title\":{\"text\":\"\"},\"width\":600,\"xaxis\":{\"anchor\":\"y\",\"domain\":[0.0,0.94],\"showgrid\":true,\"tickvals\":[0.0,0.01,0.02],\"title\":{\"font\":{\"size\":18},\"text\":\"$\\\\text{Threshold } \\\\tau$\"}},\"yaxis\":{\"anchor\":\"x\",\"domain\":[0.0,1.0],\"title\":{\"text\":\"Number of Edges\"}},\"yaxis2\":{\"anchor\":\"x\",\"nticks\":6,\"overlaying\":\"y\",\"showgrid\":false,\"side\":\"right\",\"title\":{\"text\":\"AUC\"},\"zeroline\":false}},                        {\"responsive\": true}                    ).then(function(){\n",
       "                            \n",
       "var gd = document.getElementById('7e2ba7f6-e0f8-404a-a7e6-70289a73e884');\n",
       "var x = new MutationObserver(function (mutations, observer) {{\n",
       "        var display = window.getComputedStyle(gd).display;\n",
       "        if (!display || display === 'none') {{\n",
       "            console.log([gd, 'removed!']);\n",
       "            Plotly.purge(gd);\n",
       "            observer.disconnect();\n",
       "        }}\n",
       "}});\n",
       "\n",
       "// Listen for the removal of the full notebook cells\n",
       "var notebookContainer = gd.closest('#notebook-container');\n",
       "if (notebookContainer) {{\n",
       "    x.observe(notebookContainer, {childList: true});\n",
       "}}\n",
       "\n",
       "// Listen for the clearing of the current output cell\n",
       "var outputEl = gd.closest('.output');\n",
       "if (outputEl) {{\n",
       "    x.observe(outputEl, {childList: true});\n",
       "}}\n",
       "\n",
       "                        })                };                });            </script>        </div>"
      ]
     },
     "metadata": {},
     "output_type": "display_data"
    }
   ],
   "source": [
    "import os\n",
    "import pandas as pd\n",
    "import numpy as np\n",
    "from utils import load_pickle\n",
    "save = True\n",
    "\n",
    "version = 'fico_3'\n",
    "metric = 'auc'\n",
    "\n",
    "dset='100000'\n",
    "theta = '(([+-])?\\d(\\.\\d+)?)'\n",
    "\n",
    "folder = \"./results/adjmats/\"\n",
    "\n",
    "import re\n",
    "list_edges = []\n",
    "for filename in os.listdir(folder):\n",
    "    match = re.search(f'W_est.{dset}.(\\d).(\\d).(.*?).{version}.pkl$', filename)\n",
    "    if match:\n",
    "        out_f, in_f, theta = match.groups()\n",
    "        edges = sum(load_pickle(os.path.join(folder,filename), verbose=False).flatten()>0)\n",
    "        list_edges.append((float(theta), out_f, in_f, edges))\n",
    "n_edges = pd.DataFrame(list_edges).groupby(0, as_index=False).agg({3 : ['mean', 'std']})\n",
    "n_edges.columns = n_edges.columns.droplevel()\n",
    "n_edges.columns = ['theta','N_edges','Std']\n",
    "\n",
    "\n",
    "folder = \"./results/\"\n",
    "filename = f\"Nested5FoldCASTLE.Reg.Synth.100000.{version}.pkl\"\n",
    "describe = load_pickle(os.path.join(folder,filename), verbose=False)\n",
    "agg_stats = pd.DataFrame([(describe[c]['theta'],c[9],describe[c]['fold'],describe[c][metric]) for c in describe]).groupby(0, as_index=False).agg({2 : ['count','max'], 3 : ['mean', 'std']})\n",
    "agg_stats.columns = ['theta', 'count','folds',  'accuracy_mean', 'accuracy_std']\n",
    "agg_stats=agg_stats.merge(n_edges,on='theta')\n",
    "agg_stats= agg_stats.drop_duplicates(subset=['N_edges'])\n",
    "\n",
    "if version == 'fico2':\n",
    "    #### Add Normal CASTLE\n",
    "    agg_stats.loc[-1] = [-1,5,5,0.723377,0.009611,405.12,10.401602]#,True]  # adding a row\n",
    "    agg_stats.index = agg_stats.index + 1  # shifting index\n",
    "    agg_stats = agg_stats.sort_index()  # sorting by index\n",
    "\n",
    "    n_edges.loc[-1] = [-1,405.12,10.401602]  # adding a row\n",
    "    n_edges.index = n_edges.index + 1  # shifting index\n",
    "    n_edges = n_edges.sort_index()  # sorting by index\n",
    "\n",
    "sub = -0.007\n",
    "agg_stats.loc[agg_stats['theta']==-1,'theta'] = sub\n",
    "\n",
    "filter_theta = 0.03\n",
    "filter_list = [0.005,0.007,0.009,0.011]\n",
    "agg_stats = agg_stats[(agg_stats['theta']<=filter_theta) & (~agg_stats['theta'].isin(filter_list))]\n",
    "display(agg_stats)\n",
    "\n",
    "import plotly.graph_objects as go\n",
    "from plotly.subplots import make_subplots\n",
    "\n",
    "# Create figure with secondary y-axis\n",
    "fig = make_subplots(specs=[[{\"secondary_y\": True}]])\n",
    "\n",
    "if metric == 'accuracy':\n",
    "    metric =metric.capitalize()\n",
    "else:\n",
    "    metric = metric.upper()\n",
    "\n",
    "# Add traces\n",
    "fig.add_trace(\n",
    "    go.Scatter(x=agg_stats['theta'], y=agg_stats['accuracy_mean'], name=metric,         \n",
    "    error_y=dict(\n",
    "            type='data', # value of error bar given in data coordinates\n",
    "            array=agg_stats['accuracy_std'],\n",
    "            visible=True)\n",
    "            ),\n",
    "    secondary_y=True, \n",
    ")\n",
    "\n",
    "fig.add_trace(\n",
    "    go.Scatter(x=agg_stats['theta'], y=agg_stats['N_edges'], name=\"Edges\",\n",
    "    error_y=dict(\n",
    "            type='data', # value of error bar given in data coordinates\n",
    "            array=agg_stats['Std'],\n",
    "            visible=True)\n",
    "              ),\n",
    "    secondary_y=False,\n",
    ")\n",
    "\n",
    "# Add figure title\n",
    "fig.update_layout(\n",
    "    title='',\n",
    "    legend={\n",
    "        'y':-0.23,\n",
    "        'x':0.85,\n",
    "        'orientation':\"h\",\n",
    "        'xanchor': 'center',\n",
    "        'yanchor': 'bottom'},\n",
    "    template='plotly_white',\n",
    "    autosize=True,\n",
    "    width=600, height=250, \n",
    "    margin=dict(\n",
    "        l=10,\n",
    "        r=10,\n",
    "        b=0,\n",
    "        t=10,\n",
    "        pad=0\n",
    "    ),\n",
    "    font=dict(\n",
    "        family='Serif',#\"Courier New, monospace\",\n",
    "        size=18,\n",
    "        # color=\"Black\"\n",
    "    )    \n",
    ")\n",
    "\n",
    "# Set x-axis title\n",
    "fig.update_xaxes(showgrid=True,title={'text':r'$\\text{Threshold } \\tau$','font':{'size':18#, 'family': 'Courier New, monospace',\n",
    "}},tickvals=list(np.round(np.arange(0, max(agg_stats['theta']), 0.01),3)),\n",
    ")\n",
    "\n",
    "# Set y-axes titles\n",
    "fig.update_yaxes(showgrid=False,nticks=6,zeroline=False, title={'text':metric#,'font':{'size':18}\n",
    "}, #nticks=13,\n",
    "secondary_y=True)\n",
    "fig.update_yaxes(title={'text':\"Number of Edges\"#,'font':{'size':18}\n",
    "}, secondary_y=False)\n",
    "\n",
    "fig.add_annotation(x=0.02, y=-0.094,\n",
    "            text=\"CASTLE\",\n",
    "            showarrow=False,\n",
    "            yshift=0,\n",
    "            xref='paper',\n",
    "            yref='paper',)\n",
    "chosen_tau=0.004\n",
    "y_co = agg_stats[agg_stats['theta']==chosen_tau]['accuracy_mean']\n",
    "fig.add_annotation(x=chosen_tau, y=0.7929,\n",
    "            text=str(chosen_tau),\n",
    "            showarrow=True,\n",
    "            yshift=0,\n",
    "            xref='x',ax=0,\n",
    "            yref='y2',ay=170)\n",
    "fig.add_annotation(x=chosen_tau, y=0.7929,\n",
    "            text=str(0.79),\n",
    "            showarrow=True,\n",
    "            yshift=0,\n",
    "            xref='x',ax=300,\n",
    "            yref='y2',ay=0)\n",
    "fig.add_annotation(x=chosen_tau, y=84.6,\n",
    "            text=str(85),\n",
    "            showarrow=True,\n",
    "            yshift=0,\n",
    "            xref='x',ax=-150,\n",
    "            yref='y',ay=0)\n",
    "\n",
    "fig.show()\n",
    "\n",
    "output_folder = \"figures\"\n",
    "if not os.path.exists(output_folder):\n",
    "    os.mkdir(output_folder)\n",
    "\n",
    "out_path = os.path.join(output_folder,f\"plot_tauoptim_{version}.png\")\n",
    "\n",
    "if save:\n",
    "    import kaleido\n",
    "    fig.write_image(out_path)\n",
    "\n"
   ]
  },
  {
   "cell_type": "code",
   "execution_count": 17,
   "metadata": {},
   "outputs": [
    {
     "name": "stdout",
     "output_type": "stream",
     "text": [
      "tau: 0.006\n"
     ]
    },
    {
     "data": {
      "text/html": [
       "<style  type=\"text/css\" >\n",
       "#T_7c532746_7d1b_11ec_b1b3_0c9d92c473d6row0_col0,#T_7c532746_7d1b_11ec_b1b3_0c9d92c473d6row0_col1,#T_7c532746_7d1b_11ec_b1b3_0c9d92c473d6row0_col2,#T_7c532746_7d1b_11ec_b1b3_0c9d92c473d6row0_col3,#T_7c532746_7d1b_11ec_b1b3_0c9d92c473d6row0_col4,#T_7c532746_7d1b_11ec_b1b3_0c9d92c473d6row0_col5,#T_7c532746_7d1b_11ec_b1b3_0c9d92c473d6row0_col6,#T_7c532746_7d1b_11ec_b1b3_0c9d92c473d6row0_col7,#T_7c532746_7d1b_11ec_b1b3_0c9d92c473d6row0_col8,#T_7c532746_7d1b_11ec_b1b3_0c9d92c473d6row0_col9,#T_7c532746_7d1b_11ec_b1b3_0c9d92c473d6row0_col10,#T_7c532746_7d1b_11ec_b1b3_0c9d92c473d6row0_col11,#T_7c532746_7d1b_11ec_b1b3_0c9d92c473d6row0_col12,#T_7c532746_7d1b_11ec_b1b3_0c9d92c473d6row0_col13,#T_7c532746_7d1b_11ec_b1b3_0c9d92c473d6row0_col14,#T_7c532746_7d1b_11ec_b1b3_0c9d92c473d6row0_col15,#T_7c532746_7d1b_11ec_b1b3_0c9d92c473d6row0_col16,#T_7c532746_7d1b_11ec_b1b3_0c9d92c473d6row0_col17,#T_7c532746_7d1b_11ec_b1b3_0c9d92c473d6row0_col18,#T_7c532746_7d1b_11ec_b1b3_0c9d92c473d6row0_col19,#T_7c532746_7d1b_11ec_b1b3_0c9d92c473d6row0_col20,#T_7c532746_7d1b_11ec_b1b3_0c9d92c473d6row0_col21,#T_7c532746_7d1b_11ec_b1b3_0c9d92c473d6row0_col22,#T_7c532746_7d1b_11ec_b1b3_0c9d92c473d6row0_col23,#T_7c532746_7d1b_11ec_b1b3_0c9d92c473d6row1_col1,#T_7c532746_7d1b_11ec_b1b3_0c9d92c473d6row1_col2,#T_7c532746_7d1b_11ec_b1b3_0c9d92c473d6row1_col3,#T_7c532746_7d1b_11ec_b1b3_0c9d92c473d6row1_col4,#T_7c532746_7d1b_11ec_b1b3_0c9d92c473d6row1_col5,#T_7c532746_7d1b_11ec_b1b3_0c9d92c473d6row1_col6,#T_7c532746_7d1b_11ec_b1b3_0c9d92c473d6row1_col7,#T_7c532746_7d1b_11ec_b1b3_0c9d92c473d6row1_col8,#T_7c532746_7d1b_11ec_b1b3_0c9d92c473d6row1_col9,#T_7c532746_7d1b_11ec_b1b3_0c9d92c473d6row1_col10,#T_7c532746_7d1b_11ec_b1b3_0c9d92c473d6row1_col11,#T_7c532746_7d1b_11ec_b1b3_0c9d92c473d6row1_col12,#T_7c532746_7d1b_11ec_b1b3_0c9d92c473d6row1_col13,#T_7c532746_7d1b_11ec_b1b3_0c9d92c473d6row1_col14,#T_7c532746_7d1b_11ec_b1b3_0c9d92c473d6row1_col15,#T_7c532746_7d1b_11ec_b1b3_0c9d92c473d6row1_col16,#T_7c532746_7d1b_11ec_b1b3_0c9d92c473d6row1_col17,#T_7c532746_7d1b_11ec_b1b3_0c9d92c473d6row1_col18,#T_7c532746_7d1b_11ec_b1b3_0c9d92c473d6row1_col19,#T_7c532746_7d1b_11ec_b1b3_0c9d92c473d6row1_col20,#T_7c532746_7d1b_11ec_b1b3_0c9d92c473d6row1_col21,#T_7c532746_7d1b_11ec_b1b3_0c9d92c473d6row1_col22,#T_7c532746_7d1b_11ec_b1b3_0c9d92c473d6row1_col23,#T_7c532746_7d1b_11ec_b1b3_0c9d92c473d6row2_col0,#T_7c532746_7d1b_11ec_b1b3_0c9d92c473d6row2_col1,#T_7c532746_7d1b_11ec_b1b3_0c9d92c473d6row2_col2,#T_7c532746_7d1b_11ec_b1b3_0c9d92c473d6row2_col3,#T_7c532746_7d1b_11ec_b1b3_0c9d92c473d6row2_col5,#T_7c532746_7d1b_11ec_b1b3_0c9d92c473d6row2_col6,#T_7c532746_7d1b_11ec_b1b3_0c9d92c473d6row2_col7,#T_7c532746_7d1b_11ec_b1b3_0c9d92c473d6row2_col9,#T_7c532746_7d1b_11ec_b1b3_0c9d92c473d6row2_col10,#T_7c532746_7d1b_11ec_b1b3_0c9d92c473d6row2_col11,#T_7c532746_7d1b_11ec_b1b3_0c9d92c473d6row2_col12,#T_7c532746_7d1b_11ec_b1b3_0c9d92c473d6row2_col13,#T_7c532746_7d1b_11ec_b1b3_0c9d92c473d6row2_col14,#T_7c532746_7d1b_11ec_b1b3_0c9d92c473d6row2_col15,#T_7c532746_7d1b_11ec_b1b3_0c9d92c473d6row2_col16,#T_7c532746_7d1b_11ec_b1b3_0c9d92c473d6row2_col17,#T_7c532746_7d1b_11ec_b1b3_0c9d92c473d6row2_col18,#T_7c532746_7d1b_11ec_b1b3_0c9d92c473d6row2_col19,#T_7c532746_7d1b_11ec_b1b3_0c9d92c473d6row2_col20,#T_7c532746_7d1b_11ec_b1b3_0c9d92c473d6row2_col21,#T_7c532746_7d1b_11ec_b1b3_0c9d92c473d6row2_col22,#T_7c532746_7d1b_11ec_b1b3_0c9d92c473d6row2_col23,#T_7c532746_7d1b_11ec_b1b3_0c9d92c473d6row3_col0,#T_7c532746_7d1b_11ec_b1b3_0c9d92c473d6row3_col1,#T_7c532746_7d1b_11ec_b1b3_0c9d92c473d6row3_col2,#T_7c532746_7d1b_11ec_b1b3_0c9d92c473d6row3_col3,#T_7c532746_7d1b_11ec_b1b3_0c9d92c473d6row3_col4,#T_7c532746_7d1b_11ec_b1b3_0c9d92c473d6row3_col5,#T_7c532746_7d1b_11ec_b1b3_0c9d92c473d6row3_col6,#T_7c532746_7d1b_11ec_b1b3_0c9d92c473d6row3_col7,#T_7c532746_7d1b_11ec_b1b3_0c9d92c473d6row3_col8,#T_7c532746_7d1b_11ec_b1b3_0c9d92c473d6row3_col9,#T_7c532746_7d1b_11ec_b1b3_0c9d92c473d6row3_col10,#T_7c532746_7d1b_11ec_b1b3_0c9d92c473d6row3_col11,#T_7c532746_7d1b_11ec_b1b3_0c9d92c473d6row3_col12,#T_7c532746_7d1b_11ec_b1b3_0c9d92c473d6row3_col13,#T_7c532746_7d1b_11ec_b1b3_0c9d92c473d6row3_col14,#T_7c532746_7d1b_11ec_b1b3_0c9d92c473d6row3_col15,#T_7c532746_7d1b_11ec_b1b3_0c9d92c473d6row3_col16,#T_7c532746_7d1b_11ec_b1b3_0c9d92c473d6row3_col17,#T_7c532746_7d1b_11ec_b1b3_0c9d92c473d6row3_col18,#T_7c532746_7d1b_11ec_b1b3_0c9d92c473d6row3_col19,#T_7c532746_7d1b_11ec_b1b3_0c9d92c473d6row3_col20,#T_7c532746_7d1b_11ec_b1b3_0c9d92c473d6row3_col21,#T_7c532746_7d1b_11ec_b1b3_0c9d92c473d6row3_col22,#T_7c532746_7d1b_11ec_b1b3_0c9d92c473d6row3_col23,#T_7c532746_7d1b_11ec_b1b3_0c9d92c473d6row4_col2,#T_7c532746_7d1b_11ec_b1b3_0c9d92c473d6row4_col3,#T_7c532746_7d1b_11ec_b1b3_0c9d92c473d6row4_col4,#T_7c532746_7d1b_11ec_b1b3_0c9d92c473d6row4_col5,#T_7c532746_7d1b_11ec_b1b3_0c9d92c473d6row4_col6,#T_7c532746_7d1b_11ec_b1b3_0c9d92c473d6row4_col7,#T_7c532746_7d1b_11ec_b1b3_0c9d92c473d6row4_col8,#T_7c532746_7d1b_11ec_b1b3_0c9d92c473d6row4_col9,#T_7c532746_7d1b_11ec_b1b3_0c9d92c473d6row4_col10,#T_7c532746_7d1b_11ec_b1b3_0c9d92c473d6row4_col11,#T_7c532746_7d1b_11ec_b1b3_0c9d92c473d6row4_col12,#T_7c532746_7d1b_11ec_b1b3_0c9d92c473d6row4_col13,#T_7c532746_7d1b_11ec_b1b3_0c9d92c473d6row4_col14,#T_7c532746_7d1b_11ec_b1b3_0c9d92c473d6row4_col15,#T_7c532746_7d1b_11ec_b1b3_0c9d92c473d6row4_col16,#T_7c532746_7d1b_11ec_b1b3_0c9d92c473d6row4_col18,#T_7c532746_7d1b_11ec_b1b3_0c9d92c473d6row4_col19,#T_7c532746_7d1b_11ec_b1b3_0c9d92c473d6row4_col20,#T_7c532746_7d1b_11ec_b1b3_0c9d92c473d6row4_col21,#T_7c532746_7d1b_11ec_b1b3_0c9d92c473d6row4_col22,#T_7c532746_7d1b_11ec_b1b3_0c9d92c473d6row4_col23,#T_7c532746_7d1b_11ec_b1b3_0c9d92c473d6row5_col2,#T_7c532746_7d1b_11ec_b1b3_0c9d92c473d6row5_col3,#T_7c532746_7d1b_11ec_b1b3_0c9d92c473d6row5_col4,#T_7c532746_7d1b_11ec_b1b3_0c9d92c473d6row5_col5,#T_7c532746_7d1b_11ec_b1b3_0c9d92c473d6row5_col6,#T_7c532746_7d1b_11ec_b1b3_0c9d92c473d6row5_col7,#T_7c532746_7d1b_11ec_b1b3_0c9d92c473d6row5_col8,#T_7c532746_7d1b_11ec_b1b3_0c9d92c473d6row5_col9,#T_7c532746_7d1b_11ec_b1b3_0c9d92c473d6row5_col11,#T_7c532746_7d1b_11ec_b1b3_0c9d92c473d6row5_col12,#T_7c532746_7d1b_11ec_b1b3_0c9d92c473d6row5_col13,#T_7c532746_7d1b_11ec_b1b3_0c9d92c473d6row5_col14,#T_7c532746_7d1b_11ec_b1b3_0c9d92c473d6row5_col15,#T_7c532746_7d1b_11ec_b1b3_0c9d92c473d6row5_col16,#T_7c532746_7d1b_11ec_b1b3_0c9d92c473d6row5_col17,#T_7c532746_7d1b_11ec_b1b3_0c9d92c473d6row5_col18,#T_7c532746_7d1b_11ec_b1b3_0c9d92c473d6row5_col19,#T_7c532746_7d1b_11ec_b1b3_0c9d92c473d6row5_col20,#T_7c532746_7d1b_11ec_b1b3_0c9d92c473d6row5_col21,#T_7c532746_7d1b_11ec_b1b3_0c9d92c473d6row6_col0,#T_7c532746_7d1b_11ec_b1b3_0c9d92c473d6row6_col2,#T_7c532746_7d1b_11ec_b1b3_0c9d92c473d6row6_col3,#T_7c532746_7d1b_11ec_b1b3_0c9d92c473d6row6_col4,#T_7c532746_7d1b_11ec_b1b3_0c9d92c473d6row6_col5,#T_7c532746_7d1b_11ec_b1b3_0c9d92c473d6row6_col6,#T_7c532746_7d1b_11ec_b1b3_0c9d92c473d6row6_col7,#T_7c532746_7d1b_11ec_b1b3_0c9d92c473d6row6_col8,#T_7c532746_7d1b_11ec_b1b3_0c9d92c473d6row6_col9,#T_7c532746_7d1b_11ec_b1b3_0c9d92c473d6row6_col10,#T_7c532746_7d1b_11ec_b1b3_0c9d92c473d6row6_col11,#T_7c532746_7d1b_11ec_b1b3_0c9d92c473d6row6_col12,#T_7c532746_7d1b_11ec_b1b3_0c9d92c473d6row6_col13,#T_7c532746_7d1b_11ec_b1b3_0c9d92c473d6row6_col14,#T_7c532746_7d1b_11ec_b1b3_0c9d92c473d6row6_col15,#T_7c532746_7d1b_11ec_b1b3_0c9d92c473d6row6_col16,#T_7c532746_7d1b_11ec_b1b3_0c9d92c473d6row6_col17,#T_7c532746_7d1b_11ec_b1b3_0c9d92c473d6row6_col18,#T_7c532746_7d1b_11ec_b1b3_0c9d92c473d6row6_col19,#T_7c532746_7d1b_11ec_b1b3_0c9d92c473d6row6_col20,#T_7c532746_7d1b_11ec_b1b3_0c9d92c473d6row6_col21,#T_7c532746_7d1b_11ec_b1b3_0c9d92c473d6row6_col22,#T_7c532746_7d1b_11ec_b1b3_0c9d92c473d6row6_col23,#T_7c532746_7d1b_11ec_b1b3_0c9d92c473d6row7_col0,#T_7c532746_7d1b_11ec_b1b3_0c9d92c473d6row7_col1,#T_7c532746_7d1b_11ec_b1b3_0c9d92c473d6row7_col2,#T_7c532746_7d1b_11ec_b1b3_0c9d92c473d6row7_col3,#T_7c532746_7d1b_11ec_b1b3_0c9d92c473d6row7_col4,#T_7c532746_7d1b_11ec_b1b3_0c9d92c473d6row7_col5,#T_7c532746_7d1b_11ec_b1b3_0c9d92c473d6row7_col6,#T_7c532746_7d1b_11ec_b1b3_0c9d92c473d6row7_col7,#T_7c532746_7d1b_11ec_b1b3_0c9d92c473d6row7_col8,#T_7c532746_7d1b_11ec_b1b3_0c9d92c473d6row7_col9,#T_7c532746_7d1b_11ec_b1b3_0c9d92c473d6row7_col10,#T_7c532746_7d1b_11ec_b1b3_0c9d92c473d6row7_col11,#T_7c532746_7d1b_11ec_b1b3_0c9d92c473d6row7_col12,#T_7c532746_7d1b_11ec_b1b3_0c9d92c473d6row7_col13,#T_7c532746_7d1b_11ec_b1b3_0c9d92c473d6row7_col14,#T_7c532746_7d1b_11ec_b1b3_0c9d92c473d6row7_col15,#T_7c532746_7d1b_11ec_b1b3_0c9d92c473d6row7_col16,#T_7c532746_7d1b_11ec_b1b3_0c9d92c473d6row7_col17,#T_7c532746_7d1b_11ec_b1b3_0c9d92c473d6row7_col18,#T_7c532746_7d1b_11ec_b1b3_0c9d92c473d6row7_col19,#T_7c532746_7d1b_11ec_b1b3_0c9d92c473d6row7_col20,#T_7c532746_7d1b_11ec_b1b3_0c9d92c473d6row7_col21,#T_7c532746_7d1b_11ec_b1b3_0c9d92c473d6row7_col22,#T_7c532746_7d1b_11ec_b1b3_0c9d92c473d6row7_col23,#T_7c532746_7d1b_11ec_b1b3_0c9d92c473d6row8_col0,#T_7c532746_7d1b_11ec_b1b3_0c9d92c473d6row8_col1,#T_7c532746_7d1b_11ec_b1b3_0c9d92c473d6row8_col2,#T_7c532746_7d1b_11ec_b1b3_0c9d92c473d6row8_col3,#T_7c532746_7d1b_11ec_b1b3_0c9d92c473d6row8_col4,#T_7c532746_7d1b_11ec_b1b3_0c9d92c473d6row8_col6,#T_7c532746_7d1b_11ec_b1b3_0c9d92c473d6row8_col7,#T_7c532746_7d1b_11ec_b1b3_0c9d92c473d6row8_col8,#T_7c532746_7d1b_11ec_b1b3_0c9d92c473d6row8_col9,#T_7c532746_7d1b_11ec_b1b3_0c9d92c473d6row8_col10,#T_7c532746_7d1b_11ec_b1b3_0c9d92c473d6row8_col11,#T_7c532746_7d1b_11ec_b1b3_0c9d92c473d6row8_col12,#T_7c532746_7d1b_11ec_b1b3_0c9d92c473d6row8_col13,#T_7c532746_7d1b_11ec_b1b3_0c9d92c473d6row8_col14,#T_7c532746_7d1b_11ec_b1b3_0c9d92c473d6row8_col15,#T_7c532746_7d1b_11ec_b1b3_0c9d92c473d6row8_col16,#T_7c532746_7d1b_11ec_b1b3_0c9d92c473d6row8_col17,#T_7c532746_7d1b_11ec_b1b3_0c9d92c473d6row8_col18,#T_7c532746_7d1b_11ec_b1b3_0c9d92c473d6row8_col19,#T_7c532746_7d1b_11ec_b1b3_0c9d92c473d6row8_col20,#T_7c532746_7d1b_11ec_b1b3_0c9d92c473d6row8_col21,#T_7c532746_7d1b_11ec_b1b3_0c9d92c473d6row8_col22,#T_7c532746_7d1b_11ec_b1b3_0c9d92c473d6row8_col23,#T_7c532746_7d1b_11ec_b1b3_0c9d92c473d6row9_col0,#T_7c532746_7d1b_11ec_b1b3_0c9d92c473d6row9_col2,#T_7c532746_7d1b_11ec_b1b3_0c9d92c473d6row9_col3,#T_7c532746_7d1b_11ec_b1b3_0c9d92c473d6row9_col5,#T_7c532746_7d1b_11ec_b1b3_0c9d92c473d6row9_col6,#T_7c532746_7d1b_11ec_b1b3_0c9d92c473d6row9_col7,#T_7c532746_7d1b_11ec_b1b3_0c9d92c473d6row9_col8,#T_7c532746_7d1b_11ec_b1b3_0c9d92c473d6row9_col9,#T_7c532746_7d1b_11ec_b1b3_0c9d92c473d6row9_col10,#T_7c532746_7d1b_11ec_b1b3_0c9d92c473d6row9_col11,#T_7c532746_7d1b_11ec_b1b3_0c9d92c473d6row9_col12,#T_7c532746_7d1b_11ec_b1b3_0c9d92c473d6row9_col13,#T_7c532746_7d1b_11ec_b1b3_0c9d92c473d6row9_col14,#T_7c532746_7d1b_11ec_b1b3_0c9d92c473d6row9_col15,#T_7c532746_7d1b_11ec_b1b3_0c9d92c473d6row9_col16,#T_7c532746_7d1b_11ec_b1b3_0c9d92c473d6row9_col17,#T_7c532746_7d1b_11ec_b1b3_0c9d92c473d6row9_col18,#T_7c532746_7d1b_11ec_b1b3_0c9d92c473d6row9_col19,#T_7c532746_7d1b_11ec_b1b3_0c9d92c473d6row9_col20,#T_7c532746_7d1b_11ec_b1b3_0c9d92c473d6row9_col21,#T_7c532746_7d1b_11ec_b1b3_0c9d92c473d6row9_col22,#T_7c532746_7d1b_11ec_b1b3_0c9d92c473d6row9_col23,#T_7c532746_7d1b_11ec_b1b3_0c9d92c473d6row10_col0,#T_7c532746_7d1b_11ec_b1b3_0c9d92c473d6row10_col2,#T_7c532746_7d1b_11ec_b1b3_0c9d92c473d6row10_col3,#T_7c532746_7d1b_11ec_b1b3_0c9d92c473d6row10_col4,#T_7c532746_7d1b_11ec_b1b3_0c9d92c473d6row10_col5,#T_7c532746_7d1b_11ec_b1b3_0c9d92c473d6row10_col7,#T_7c532746_7d1b_11ec_b1b3_0c9d92c473d6row10_col8,#T_7c532746_7d1b_11ec_b1b3_0c9d92c473d6row10_col9,#T_7c532746_7d1b_11ec_b1b3_0c9d92c473d6row10_col10,#T_7c532746_7d1b_11ec_b1b3_0c9d92c473d6row10_col11,#T_7c532746_7d1b_11ec_b1b3_0c9d92c473d6row10_col12,#T_7c532746_7d1b_11ec_b1b3_0c9d92c473d6row10_col13,#T_7c532746_7d1b_11ec_b1b3_0c9d92c473d6row10_col14,#T_7c532746_7d1b_11ec_b1b3_0c9d92c473d6row10_col15,#T_7c532746_7d1b_11ec_b1b3_0c9d92c473d6row10_col16,#T_7c532746_7d1b_11ec_b1b3_0c9d92c473d6row10_col17,#T_7c532746_7d1b_11ec_b1b3_0c9d92c473d6row10_col18,#T_7c532746_7d1b_11ec_b1b3_0c9d92c473d6row10_col19,#T_7c532746_7d1b_11ec_b1b3_0c9d92c473d6row10_col20,#T_7c532746_7d1b_11ec_b1b3_0c9d92c473d6row10_col21,#T_7c532746_7d1b_11ec_b1b3_0c9d92c473d6row10_col22,#T_7c532746_7d1b_11ec_b1b3_0c9d92c473d6row10_col23,#T_7c532746_7d1b_11ec_b1b3_0c9d92c473d6row11_col0,#T_7c532746_7d1b_11ec_b1b3_0c9d92c473d6row11_col2,#T_7c532746_7d1b_11ec_b1b3_0c9d92c473d6row11_col3,#T_7c532746_7d1b_11ec_b1b3_0c9d92c473d6row11_col4,#T_7c532746_7d1b_11ec_b1b3_0c9d92c473d6row11_col5,#T_7c532746_7d1b_11ec_b1b3_0c9d92c473d6row11_col6,#T_7c532746_7d1b_11ec_b1b3_0c9d92c473d6row11_col7,#T_7c532746_7d1b_11ec_b1b3_0c9d92c473d6row11_col8,#T_7c532746_7d1b_11ec_b1b3_0c9d92c473d6row11_col9,#T_7c532746_7d1b_11ec_b1b3_0c9d92c473d6row11_col11,#T_7c532746_7d1b_11ec_b1b3_0c9d92c473d6row11_col13,#T_7c532746_7d1b_11ec_b1b3_0c9d92c473d6row11_col14,#T_7c532746_7d1b_11ec_b1b3_0c9d92c473d6row11_col15,#T_7c532746_7d1b_11ec_b1b3_0c9d92c473d6row11_col16,#T_7c532746_7d1b_11ec_b1b3_0c9d92c473d6row11_col17,#T_7c532746_7d1b_11ec_b1b3_0c9d92c473d6row11_col18,#T_7c532746_7d1b_11ec_b1b3_0c9d92c473d6row11_col19,#T_7c532746_7d1b_11ec_b1b3_0c9d92c473d6row11_col20,#T_7c532746_7d1b_11ec_b1b3_0c9d92c473d6row11_col21,#T_7c532746_7d1b_11ec_b1b3_0c9d92c473d6row11_col22,#T_7c532746_7d1b_11ec_b1b3_0c9d92c473d6row11_col23,#T_7c532746_7d1b_11ec_b1b3_0c9d92c473d6row12_col0,#T_7c532746_7d1b_11ec_b1b3_0c9d92c473d6row12_col2,#T_7c532746_7d1b_11ec_b1b3_0c9d92c473d6row12_col3,#T_7c532746_7d1b_11ec_b1b3_0c9d92c473d6row12_col4,#T_7c532746_7d1b_11ec_b1b3_0c9d92c473d6row12_col5,#T_7c532746_7d1b_11ec_b1b3_0c9d92c473d6row12_col6,#T_7c532746_7d1b_11ec_b1b3_0c9d92c473d6row12_col7,#T_7c532746_7d1b_11ec_b1b3_0c9d92c473d6row12_col8,#T_7c532746_7d1b_11ec_b1b3_0c9d92c473d6row12_col9,#T_7c532746_7d1b_11ec_b1b3_0c9d92c473d6row12_col11,#T_7c532746_7d1b_11ec_b1b3_0c9d92c473d6row12_col12,#T_7c532746_7d1b_11ec_b1b3_0c9d92c473d6row12_col13,#T_7c532746_7d1b_11ec_b1b3_0c9d92c473d6row12_col14,#T_7c532746_7d1b_11ec_b1b3_0c9d92c473d6row12_col15,#T_7c532746_7d1b_11ec_b1b3_0c9d92c473d6row12_col16,#T_7c532746_7d1b_11ec_b1b3_0c9d92c473d6row12_col17,#T_7c532746_7d1b_11ec_b1b3_0c9d92c473d6row12_col18,#T_7c532746_7d1b_11ec_b1b3_0c9d92c473d6row12_col19,#T_7c532746_7d1b_11ec_b1b3_0c9d92c473d6row12_col21,#T_7c532746_7d1b_11ec_b1b3_0c9d92c473d6row12_col22,#T_7c532746_7d1b_11ec_b1b3_0c9d92c473d6row12_col23,#T_7c532746_7d1b_11ec_b1b3_0c9d92c473d6row13_col0,#T_7c532746_7d1b_11ec_b1b3_0c9d92c473d6row13_col2,#T_7c532746_7d1b_11ec_b1b3_0c9d92c473d6row13_col3,#T_7c532746_7d1b_11ec_b1b3_0c9d92c473d6row13_col4,#T_7c532746_7d1b_11ec_b1b3_0c9d92c473d6row13_col5,#T_7c532746_7d1b_11ec_b1b3_0c9d92c473d6row13_col6,#T_7c532746_7d1b_11ec_b1b3_0c9d92c473d6row13_col7,#T_7c532746_7d1b_11ec_b1b3_0c9d92c473d6row13_col8,#T_7c532746_7d1b_11ec_b1b3_0c9d92c473d6row13_col9,#T_7c532746_7d1b_11ec_b1b3_0c9d92c473d6row13_col10,#T_7c532746_7d1b_11ec_b1b3_0c9d92c473d6row13_col11,#T_7c532746_7d1b_11ec_b1b3_0c9d92c473d6row13_col12,#T_7c532746_7d1b_11ec_b1b3_0c9d92c473d6row13_col13,#T_7c532746_7d1b_11ec_b1b3_0c9d92c473d6row13_col14,#T_7c532746_7d1b_11ec_b1b3_0c9d92c473d6row13_col15,#T_7c532746_7d1b_11ec_b1b3_0c9d92c473d6row13_col16,#T_7c532746_7d1b_11ec_b1b3_0c9d92c473d6row13_col17,#T_7c532746_7d1b_11ec_b1b3_0c9d92c473d6row13_col18,#T_7c532746_7d1b_11ec_b1b3_0c9d92c473d6row13_col19,#T_7c532746_7d1b_11ec_b1b3_0c9d92c473d6row13_col20,#T_7c532746_7d1b_11ec_b1b3_0c9d92c473d6row13_col21,#T_7c532746_7d1b_11ec_b1b3_0c9d92c473d6row13_col22,#T_7c532746_7d1b_11ec_b1b3_0c9d92c473d6row13_col23,#T_7c532746_7d1b_11ec_b1b3_0c9d92c473d6row14_col0,#T_7c532746_7d1b_11ec_b1b3_0c9d92c473d6row14_col2,#T_7c532746_7d1b_11ec_b1b3_0c9d92c473d6row14_col3,#T_7c532746_7d1b_11ec_b1b3_0c9d92c473d6row14_col4,#T_7c532746_7d1b_11ec_b1b3_0c9d92c473d6row14_col5,#T_7c532746_7d1b_11ec_b1b3_0c9d92c473d6row14_col6,#T_7c532746_7d1b_11ec_b1b3_0c9d92c473d6row14_col7,#T_7c532746_7d1b_11ec_b1b3_0c9d92c473d6row14_col8,#T_7c532746_7d1b_11ec_b1b3_0c9d92c473d6row14_col9,#T_7c532746_7d1b_11ec_b1b3_0c9d92c473d6row14_col10,#T_7c532746_7d1b_11ec_b1b3_0c9d92c473d6row14_col11,#T_7c532746_7d1b_11ec_b1b3_0c9d92c473d6row14_col12,#T_7c532746_7d1b_11ec_b1b3_0c9d92c473d6row14_col13,#T_7c532746_7d1b_11ec_b1b3_0c9d92c473d6row14_col14,#T_7c532746_7d1b_11ec_b1b3_0c9d92c473d6row14_col15,#T_7c532746_7d1b_11ec_b1b3_0c9d92c473d6row14_col16,#T_7c532746_7d1b_11ec_b1b3_0c9d92c473d6row14_col17,#T_7c532746_7d1b_11ec_b1b3_0c9d92c473d6row14_col18,#T_7c532746_7d1b_11ec_b1b3_0c9d92c473d6row14_col19,#T_7c532746_7d1b_11ec_b1b3_0c9d92c473d6row14_col21,#T_7c532746_7d1b_11ec_b1b3_0c9d92c473d6row14_col22,#T_7c532746_7d1b_11ec_b1b3_0c9d92c473d6row15_col0,#T_7c532746_7d1b_11ec_b1b3_0c9d92c473d6row15_col1,#T_7c532746_7d1b_11ec_b1b3_0c9d92c473d6row15_col2,#T_7c532746_7d1b_11ec_b1b3_0c9d92c473d6row15_col3,#T_7c532746_7d1b_11ec_b1b3_0c9d92c473d6row15_col4,#T_7c532746_7d1b_11ec_b1b3_0c9d92c473d6row15_col5,#T_7c532746_7d1b_11ec_b1b3_0c9d92c473d6row15_col6,#T_7c532746_7d1b_11ec_b1b3_0c9d92c473d6row15_col7,#T_7c532746_7d1b_11ec_b1b3_0c9d92c473d6row15_col8,#T_7c532746_7d1b_11ec_b1b3_0c9d92c473d6row15_col9,#T_7c532746_7d1b_11ec_b1b3_0c9d92c473d6row15_col10,#T_7c532746_7d1b_11ec_b1b3_0c9d92c473d6row15_col11,#T_7c532746_7d1b_11ec_b1b3_0c9d92c473d6row15_col12,#T_7c532746_7d1b_11ec_b1b3_0c9d92c473d6row15_col13,#T_7c532746_7d1b_11ec_b1b3_0c9d92c473d6row15_col14,#T_7c532746_7d1b_11ec_b1b3_0c9d92c473d6row15_col15,#T_7c532746_7d1b_11ec_b1b3_0c9d92c473d6row15_col16,#T_7c532746_7d1b_11ec_b1b3_0c9d92c473d6row15_col17,#T_7c532746_7d1b_11ec_b1b3_0c9d92c473d6row15_col18,#T_7c532746_7d1b_11ec_b1b3_0c9d92c473d6row15_col19,#T_7c532746_7d1b_11ec_b1b3_0c9d92c473d6row15_col20,#T_7c532746_7d1b_11ec_b1b3_0c9d92c473d6row15_col21,#T_7c532746_7d1b_11ec_b1b3_0c9d92c473d6row15_col22,#T_7c532746_7d1b_11ec_b1b3_0c9d92c473d6row15_col23,#T_7c532746_7d1b_11ec_b1b3_0c9d92c473d6row16_col0,#T_7c532746_7d1b_11ec_b1b3_0c9d92c473d6row16_col2,#T_7c532746_7d1b_11ec_b1b3_0c9d92c473d6row16_col3,#T_7c532746_7d1b_11ec_b1b3_0c9d92c473d6row16_col4,#T_7c532746_7d1b_11ec_b1b3_0c9d92c473d6row16_col5,#T_7c532746_7d1b_11ec_b1b3_0c9d92c473d6row16_col6,#T_7c532746_7d1b_11ec_b1b3_0c9d92c473d6row16_col7,#T_7c532746_7d1b_11ec_b1b3_0c9d92c473d6row16_col8,#T_7c532746_7d1b_11ec_b1b3_0c9d92c473d6row16_col9,#T_7c532746_7d1b_11ec_b1b3_0c9d92c473d6row16_col10,#T_7c532746_7d1b_11ec_b1b3_0c9d92c473d6row16_col11,#T_7c532746_7d1b_11ec_b1b3_0c9d92c473d6row16_col12,#T_7c532746_7d1b_11ec_b1b3_0c9d92c473d6row16_col13,#T_7c532746_7d1b_11ec_b1b3_0c9d92c473d6row16_col14,#T_7c532746_7d1b_11ec_b1b3_0c9d92c473d6row16_col15,#T_7c532746_7d1b_11ec_b1b3_0c9d92c473d6row16_col16,#T_7c532746_7d1b_11ec_b1b3_0c9d92c473d6row16_col18,#T_7c532746_7d1b_11ec_b1b3_0c9d92c473d6row16_col19,#T_7c532746_7d1b_11ec_b1b3_0c9d92c473d6row16_col20,#T_7c532746_7d1b_11ec_b1b3_0c9d92c473d6row16_col21,#T_7c532746_7d1b_11ec_b1b3_0c9d92c473d6row16_col22,#T_7c532746_7d1b_11ec_b1b3_0c9d92c473d6row16_col23,#T_7c532746_7d1b_11ec_b1b3_0c9d92c473d6row17_col1,#T_7c532746_7d1b_11ec_b1b3_0c9d92c473d6row17_col2,#T_7c532746_7d1b_11ec_b1b3_0c9d92c473d6row17_col3,#T_7c532746_7d1b_11ec_b1b3_0c9d92c473d6row17_col4,#T_7c532746_7d1b_11ec_b1b3_0c9d92c473d6row17_col5,#T_7c532746_7d1b_11ec_b1b3_0c9d92c473d6row17_col6,#T_7c532746_7d1b_11ec_b1b3_0c9d92c473d6row17_col7,#T_7c532746_7d1b_11ec_b1b3_0c9d92c473d6row17_col8,#T_7c532746_7d1b_11ec_b1b3_0c9d92c473d6row17_col9,#T_7c532746_7d1b_11ec_b1b3_0c9d92c473d6row17_col10,#T_7c532746_7d1b_11ec_b1b3_0c9d92c473d6row17_col11,#T_7c532746_7d1b_11ec_b1b3_0c9d92c473d6row17_col12,#T_7c532746_7d1b_11ec_b1b3_0c9d92c473d6row17_col13,#T_7c532746_7d1b_11ec_b1b3_0c9d92c473d6row17_col14,#T_7c532746_7d1b_11ec_b1b3_0c9d92c473d6row17_col15,#T_7c532746_7d1b_11ec_b1b3_0c9d92c473d6row17_col16,#T_7c532746_7d1b_11ec_b1b3_0c9d92c473d6row17_col17,#T_7c532746_7d1b_11ec_b1b3_0c9d92c473d6row17_col18,#T_7c532746_7d1b_11ec_b1b3_0c9d92c473d6row17_col19,#T_7c532746_7d1b_11ec_b1b3_0c9d92c473d6row17_col20,#T_7c532746_7d1b_11ec_b1b3_0c9d92c473d6row17_col21,#T_7c532746_7d1b_11ec_b1b3_0c9d92c473d6row17_col22,#T_7c532746_7d1b_11ec_b1b3_0c9d92c473d6row17_col23,#T_7c532746_7d1b_11ec_b1b3_0c9d92c473d6row18_col0,#T_7c532746_7d1b_11ec_b1b3_0c9d92c473d6row18_col2,#T_7c532746_7d1b_11ec_b1b3_0c9d92c473d6row18_col3,#T_7c532746_7d1b_11ec_b1b3_0c9d92c473d6row18_col4,#T_7c532746_7d1b_11ec_b1b3_0c9d92c473d6row18_col5,#T_7c532746_7d1b_11ec_b1b3_0c9d92c473d6row18_col6,#T_7c532746_7d1b_11ec_b1b3_0c9d92c473d6row18_col7,#T_7c532746_7d1b_11ec_b1b3_0c9d92c473d6row18_col8,#T_7c532746_7d1b_11ec_b1b3_0c9d92c473d6row18_col9,#T_7c532746_7d1b_11ec_b1b3_0c9d92c473d6row18_col10,#T_7c532746_7d1b_11ec_b1b3_0c9d92c473d6row18_col11,#T_7c532746_7d1b_11ec_b1b3_0c9d92c473d6row18_col12,#T_7c532746_7d1b_11ec_b1b3_0c9d92c473d6row18_col13,#T_7c532746_7d1b_11ec_b1b3_0c9d92c473d6row18_col14,#T_7c532746_7d1b_11ec_b1b3_0c9d92c473d6row18_col15,#T_7c532746_7d1b_11ec_b1b3_0c9d92c473d6row18_col16,#T_7c532746_7d1b_11ec_b1b3_0c9d92c473d6row18_col18,#T_7c532746_7d1b_11ec_b1b3_0c9d92c473d6row18_col19,#T_7c532746_7d1b_11ec_b1b3_0c9d92c473d6row18_col20,#T_7c532746_7d1b_11ec_b1b3_0c9d92c473d6row18_col21,#T_7c532746_7d1b_11ec_b1b3_0c9d92c473d6row18_col22,#T_7c532746_7d1b_11ec_b1b3_0c9d92c473d6row18_col23,#T_7c532746_7d1b_11ec_b1b3_0c9d92c473d6row19_col0,#T_7c532746_7d1b_11ec_b1b3_0c9d92c473d6row19_col1,#T_7c532746_7d1b_11ec_b1b3_0c9d92c473d6row19_col2,#T_7c532746_7d1b_11ec_b1b3_0c9d92c473d6row19_col3,#T_7c532746_7d1b_11ec_b1b3_0c9d92c473d6row19_col4,#T_7c532746_7d1b_11ec_b1b3_0c9d92c473d6row19_col5,#T_7c532746_7d1b_11ec_b1b3_0c9d92c473d6row19_col6,#T_7c532746_7d1b_11ec_b1b3_0c9d92c473d6row19_col7,#T_7c532746_7d1b_11ec_b1b3_0c9d92c473d6row19_col8,#T_7c532746_7d1b_11ec_b1b3_0c9d92c473d6row19_col9,#T_7c532746_7d1b_11ec_b1b3_0c9d92c473d6row19_col10,#T_7c532746_7d1b_11ec_b1b3_0c9d92c473d6row19_col11,#T_7c532746_7d1b_11ec_b1b3_0c9d92c473d6row19_col12,#T_7c532746_7d1b_11ec_b1b3_0c9d92c473d6row19_col13,#T_7c532746_7d1b_11ec_b1b3_0c9d92c473d6row19_col14,#T_7c532746_7d1b_11ec_b1b3_0c9d92c473d6row19_col15,#T_7c532746_7d1b_11ec_b1b3_0c9d92c473d6row19_col16,#T_7c532746_7d1b_11ec_b1b3_0c9d92c473d6row19_col17,#T_7c532746_7d1b_11ec_b1b3_0c9d92c473d6row19_col18,#T_7c532746_7d1b_11ec_b1b3_0c9d92c473d6row19_col19,#T_7c532746_7d1b_11ec_b1b3_0c9d92c473d6row19_col20,#T_7c532746_7d1b_11ec_b1b3_0c9d92c473d6row19_col21,#T_7c532746_7d1b_11ec_b1b3_0c9d92c473d6row19_col22,#T_7c532746_7d1b_11ec_b1b3_0c9d92c473d6row19_col23,#T_7c532746_7d1b_11ec_b1b3_0c9d92c473d6row20_col0,#T_7c532746_7d1b_11ec_b1b3_0c9d92c473d6row20_col2,#T_7c532746_7d1b_11ec_b1b3_0c9d92c473d6row20_col3,#T_7c532746_7d1b_11ec_b1b3_0c9d92c473d6row20_col4,#T_7c532746_7d1b_11ec_b1b3_0c9d92c473d6row20_col5,#T_7c532746_7d1b_11ec_b1b3_0c9d92c473d6row20_col6,#T_7c532746_7d1b_11ec_b1b3_0c9d92c473d6row20_col7,#T_7c532746_7d1b_11ec_b1b3_0c9d92c473d6row20_col8,#T_7c532746_7d1b_11ec_b1b3_0c9d92c473d6row20_col9,#T_7c532746_7d1b_11ec_b1b3_0c9d92c473d6row20_col10,#T_7c532746_7d1b_11ec_b1b3_0c9d92c473d6row20_col11,#T_7c532746_7d1b_11ec_b1b3_0c9d92c473d6row20_col12,#T_7c532746_7d1b_11ec_b1b3_0c9d92c473d6row20_col13,#T_7c532746_7d1b_11ec_b1b3_0c9d92c473d6row20_col14,#T_7c532746_7d1b_11ec_b1b3_0c9d92c473d6row20_col15,#T_7c532746_7d1b_11ec_b1b3_0c9d92c473d6row20_col16,#T_7c532746_7d1b_11ec_b1b3_0c9d92c473d6row20_col17,#T_7c532746_7d1b_11ec_b1b3_0c9d92c473d6row20_col18,#T_7c532746_7d1b_11ec_b1b3_0c9d92c473d6row20_col19,#T_7c532746_7d1b_11ec_b1b3_0c9d92c473d6row20_col20,#T_7c532746_7d1b_11ec_b1b3_0c9d92c473d6row20_col21,#T_7c532746_7d1b_11ec_b1b3_0c9d92c473d6row20_col23,#T_7c532746_7d1b_11ec_b1b3_0c9d92c473d6row21_col0,#T_7c532746_7d1b_11ec_b1b3_0c9d92c473d6row21_col2,#T_7c532746_7d1b_11ec_b1b3_0c9d92c473d6row21_col3,#T_7c532746_7d1b_11ec_b1b3_0c9d92c473d6row21_col4,#T_7c532746_7d1b_11ec_b1b3_0c9d92c473d6row21_col6,#T_7c532746_7d1b_11ec_b1b3_0c9d92c473d6row21_col7,#T_7c532746_7d1b_11ec_b1b3_0c9d92c473d6row21_col8,#T_7c532746_7d1b_11ec_b1b3_0c9d92c473d6row21_col9,#T_7c532746_7d1b_11ec_b1b3_0c9d92c473d6row21_col10,#T_7c532746_7d1b_11ec_b1b3_0c9d92c473d6row21_col11,#T_7c532746_7d1b_11ec_b1b3_0c9d92c473d6row21_col12,#T_7c532746_7d1b_11ec_b1b3_0c9d92c473d6row21_col13,#T_7c532746_7d1b_11ec_b1b3_0c9d92c473d6row21_col15,#T_7c532746_7d1b_11ec_b1b3_0c9d92c473d6row21_col16,#T_7c532746_7d1b_11ec_b1b3_0c9d92c473d6row21_col17,#T_7c532746_7d1b_11ec_b1b3_0c9d92c473d6row21_col18,#T_7c532746_7d1b_11ec_b1b3_0c9d92c473d6row21_col19,#T_7c532746_7d1b_11ec_b1b3_0c9d92c473d6row21_col21,#T_7c532746_7d1b_11ec_b1b3_0c9d92c473d6row22_col0,#T_7c532746_7d1b_11ec_b1b3_0c9d92c473d6row22_col2,#T_7c532746_7d1b_11ec_b1b3_0c9d92c473d6row22_col3,#T_7c532746_7d1b_11ec_b1b3_0c9d92c473d6row22_col4,#T_7c532746_7d1b_11ec_b1b3_0c9d92c473d6row22_col5,#T_7c532746_7d1b_11ec_b1b3_0c9d92c473d6row22_col6,#T_7c532746_7d1b_11ec_b1b3_0c9d92c473d6row22_col7,#T_7c532746_7d1b_11ec_b1b3_0c9d92c473d6row22_col8,#T_7c532746_7d1b_11ec_b1b3_0c9d92c473d6row22_col9,#T_7c532746_7d1b_11ec_b1b3_0c9d92c473d6row22_col10,#T_7c532746_7d1b_11ec_b1b3_0c9d92c473d6row22_col11,#T_7c532746_7d1b_11ec_b1b3_0c9d92c473d6row22_col12,#T_7c532746_7d1b_11ec_b1b3_0c9d92c473d6row22_col13,#T_7c532746_7d1b_11ec_b1b3_0c9d92c473d6row22_col14,#T_7c532746_7d1b_11ec_b1b3_0c9d92c473d6row22_col15,#T_7c532746_7d1b_11ec_b1b3_0c9d92c473d6row22_col16,#T_7c532746_7d1b_11ec_b1b3_0c9d92c473d6row22_col17,#T_7c532746_7d1b_11ec_b1b3_0c9d92c473d6row22_col18,#T_7c532746_7d1b_11ec_b1b3_0c9d92c473d6row22_col19,#T_7c532746_7d1b_11ec_b1b3_0c9d92c473d6row22_col20,#T_7c532746_7d1b_11ec_b1b3_0c9d92c473d6row22_col21,#T_7c532746_7d1b_11ec_b1b3_0c9d92c473d6row22_col22,#T_7c532746_7d1b_11ec_b1b3_0c9d92c473d6row22_col23,#T_7c532746_7d1b_11ec_b1b3_0c9d92c473d6row23_col0,#T_7c532746_7d1b_11ec_b1b3_0c9d92c473d6row23_col1,#T_7c532746_7d1b_11ec_b1b3_0c9d92c473d6row23_col2,#T_7c532746_7d1b_11ec_b1b3_0c9d92c473d6row23_col3,#T_7c532746_7d1b_11ec_b1b3_0c9d92c473d6row23_col4,#T_7c532746_7d1b_11ec_b1b3_0c9d92c473d6row23_col5,#T_7c532746_7d1b_11ec_b1b3_0c9d92c473d6row23_col6,#T_7c532746_7d1b_11ec_b1b3_0c9d92c473d6row23_col7,#T_7c532746_7d1b_11ec_b1b3_0c9d92c473d6row23_col8,#T_7c532746_7d1b_11ec_b1b3_0c9d92c473d6row23_col9,#T_7c532746_7d1b_11ec_b1b3_0c9d92c473d6row23_col10,#T_7c532746_7d1b_11ec_b1b3_0c9d92c473d6row23_col11,#T_7c532746_7d1b_11ec_b1b3_0c9d92c473d6row23_col12,#T_7c532746_7d1b_11ec_b1b3_0c9d92c473d6row23_col13,#T_7c532746_7d1b_11ec_b1b3_0c9d92c473d6row23_col14,#T_7c532746_7d1b_11ec_b1b3_0c9d92c473d6row23_col15,#T_7c532746_7d1b_11ec_b1b3_0c9d92c473d6row23_col16,#T_7c532746_7d1b_11ec_b1b3_0c9d92c473d6row23_col17,#T_7c532746_7d1b_11ec_b1b3_0c9d92c473d6row23_col18,#T_7c532746_7d1b_11ec_b1b3_0c9d92c473d6row23_col19,#T_7c532746_7d1b_11ec_b1b3_0c9d92c473d6row23_col21,#T_7c532746_7d1b_11ec_b1b3_0c9d92c473d6row23_col22,#T_7c532746_7d1b_11ec_b1b3_0c9d92c473d6row23_col23{\n",
       "            background-color:  #f0f1f3;\n",
       "            color:  #000000;\n",
       "        }#T_7c532746_7d1b_11ec_b1b3_0c9d92c473d6row1_col0,#T_7c532746_7d1b_11ec_b1b3_0c9d92c473d6row2_col4,#T_7c532746_7d1b_11ec_b1b3_0c9d92c473d6row2_col8,#T_7c532746_7d1b_11ec_b1b3_0c9d92c473d6row8_col5,#T_7c532746_7d1b_11ec_b1b3_0c9d92c473d6row10_col6,#T_7c532746_7d1b_11ec_b1b3_0c9d92c473d6row11_col10,#T_7c532746_7d1b_11ec_b1b3_0c9d92c473d6row11_col12,#T_7c532746_7d1b_11ec_b1b3_0c9d92c473d6row13_col1,#T_7c532746_7d1b_11ec_b1b3_0c9d92c473d6row16_col17,#T_7c532746_7d1b_11ec_b1b3_0c9d92c473d6row21_col14,#T_7c532746_7d1b_11ec_b1b3_0c9d92c473d6row21_col22,#T_7c532746_7d1b_11ec_b1b3_0c9d92c473d6row21_col23,#T_7c532746_7d1b_11ec_b1b3_0c9d92c473d6row23_col20{\n",
       "            background-color:  #094579;\n",
       "            color:  #f1f1f1;\n",
       "        }#T_7c532746_7d1b_11ec_b1b3_0c9d92c473d6row4_col0{\n",
       "            background-color:  #34658f;\n",
       "            color:  #f1f1f1;\n",
       "        }#T_7c532746_7d1b_11ec_b1b3_0c9d92c473d6row4_col1{\n",
       "            background-color:  #829fb9;\n",
       "            color:  #000000;\n",
       "        }#T_7c532746_7d1b_11ec_b1b3_0c9d92c473d6row4_col17,#T_7c532746_7d1b_11ec_b1b3_0c9d92c473d6row5_col23{\n",
       "            background-color:  #7d9bb6;\n",
       "            color:  #000000;\n",
       "        }#T_7c532746_7d1b_11ec_b1b3_0c9d92c473d6row5_col0,#T_7c532746_7d1b_11ec_b1b3_0c9d92c473d6row17_col0{\n",
       "            background-color:  #5d83a5;\n",
       "            color:  #000000;\n",
       "        }#T_7c532746_7d1b_11ec_b1b3_0c9d92c473d6row5_col1{\n",
       "            background-color:  #bccad7;\n",
       "            color:  #000000;\n",
       "        }#T_7c532746_7d1b_11ec_b1b3_0c9d92c473d6row5_col10{\n",
       "            background-color:  #bbc9d7;\n",
       "            color:  #000000;\n",
       "        }#T_7c532746_7d1b_11ec_b1b3_0c9d92c473d6row5_col22{\n",
       "            background-color:  #b9c8d6;\n",
       "            color:  #000000;\n",
       "        }#T_7c532746_7d1b_11ec_b1b3_0c9d92c473d6row6_col1,#T_7c532746_7d1b_11ec_b1b3_0c9d92c473d6row11_col1{\n",
       "            background-color:  #9cb2c7;\n",
       "            color:  #000000;\n",
       "        }#T_7c532746_7d1b_11ec_b1b3_0c9d92c473d6row9_col1,#T_7c532746_7d1b_11ec_b1b3_0c9d92c473d6row16_col1,#T_7c532746_7d1b_11ec_b1b3_0c9d92c473d6row22_col1{\n",
       "            background-color:  #b6c6d4;\n",
       "            color:  #000000;\n",
       "        }#T_7c532746_7d1b_11ec_b1b3_0c9d92c473d6row9_col4,#T_7c532746_7d1b_11ec_b1b3_0c9d92c473d6row18_col1,#T_7c532746_7d1b_11ec_b1b3_0c9d92c473d6row21_col1{\n",
       "            background-color:  #a6bacc;\n",
       "            color:  #000000;\n",
       "        }#T_7c532746_7d1b_11ec_b1b3_0c9d92c473d6row10_col1{\n",
       "            background-color:  #a2b6ca;\n",
       "            color:  #000000;\n",
       "        }#T_7c532746_7d1b_11ec_b1b3_0c9d92c473d6row12_col1{\n",
       "            background-color:  #5880a3;\n",
       "            color:  #000000;\n",
       "        }#T_7c532746_7d1b_11ec_b1b3_0c9d92c473d6row12_col10{\n",
       "            background-color:  #a1b6c9;\n",
       "            color:  #000000;\n",
       "        }#T_7c532746_7d1b_11ec_b1b3_0c9d92c473d6row12_col20,#T_7c532746_7d1b_11ec_b1b3_0c9d92c473d6row14_col20{\n",
       "            background-color:  #aabdce;\n",
       "            color:  #000000;\n",
       "        }#T_7c532746_7d1b_11ec_b1b3_0c9d92c473d6row14_col1{\n",
       "            background-color:  #c6d2dd;\n",
       "            color:  #000000;\n",
       "        }#T_7c532746_7d1b_11ec_b1b3_0c9d92c473d6row14_col23{\n",
       "            background-color:  #577ea2;\n",
       "            color:  #000000;\n",
       "        }#T_7c532746_7d1b_11ec_b1b3_0c9d92c473d6row18_col17{\n",
       "            background-color:  #124b7d;\n",
       "            color:  #f1f1f1;\n",
       "        }#T_7c532746_7d1b_11ec_b1b3_0c9d92c473d6row20_col1{\n",
       "            background-color:  #87a3bc;\n",
       "            color:  #000000;\n",
       "        }#T_7c532746_7d1b_11ec_b1b3_0c9d92c473d6row20_col22{\n",
       "            background-color:  #aec0d0;\n",
       "            color:  #000000;\n",
       "        }#T_7c532746_7d1b_11ec_b1b3_0c9d92c473d6row21_col5{\n",
       "            background-color:  #a0b5c9;\n",
       "            color:  #000000;\n",
       "        }#T_7c532746_7d1b_11ec_b1b3_0c9d92c473d6row21_col20{\n",
       "            background-color:  #96aec4;\n",
       "            color:  #000000;\n",
       "        }</style><table id=\"T_7c532746_7d1b_11ec_b1b3_0c9d92c473d6\" ><thead>    <tr>        <th class=\"blank level0\" ></th>        <th class=\"col_heading level0 col0\" >RiskPerformance</th>        <th class=\"col_heading level0 col1\" >ExternalRiskEstimate_bin_WOE</th>        <th class=\"col_heading level0 col2\" >MSinceOldestTradeOpen_bin_WOE</th>        <th class=\"col_heading level0 col3\" >MSinceMostRecentTradeOpen_bin_WOE</th>        <th class=\"col_heading level0 col4\" >AverageMInFile_bin_WOE</th>        <th class=\"col_heading level0 col5\" >NumSatisfactoryTrades_bin_WOE</th>        <th class=\"col_heading level0 col6\" >NumTrades60Ever2DerogPubRec_bin_WOE</th>        <th class=\"col_heading level0 col7\" >NumTrades90Ever2DerogPubRec_bin_WOE</th>        <th class=\"col_heading level0 col8\" >NumTotalTrades_bin_WOE</th>        <th class=\"col_heading level0 col9\" >NumTradesOpeninLast12M_bin_WOE</th>        <th class=\"col_heading level0 col10\" >PercentTradesNeverDelq_bin_WOE</th>        <th class=\"col_heading level0 col11\" >MSinceMostRecentDelq_bin_WOE</th>        <th class=\"col_heading level0 col12\" >MaxDelq2PublicRecLast12M_bin_WOE</th>        <th class=\"col_heading level0 col13\" >MaxDelqEver_bin_WOE</th>        <th class=\"col_heading level0 col14\" >PercentInstallTrades_bin_WOE</th>        <th class=\"col_heading level0 col15\" >NetFractionInstallBurden_bin_WOE</th>        <th class=\"col_heading level0 col16\" >NumInstallTradesWBalance_bin_WOE</th>        <th class=\"col_heading level0 col17\" >MSinceMostRecentInqexcl7days_bin_WOE</th>        <th class=\"col_heading level0 col18\" >NumInqLast6M_bin_WOE</th>        <th class=\"col_heading level0 col19\" >NumInqLast6Mexcl7days_bin_WOE</th>        <th class=\"col_heading level0 col20\" >NetFractionRevolvingBurden_bin_WOE</th>        <th class=\"col_heading level0 col21\" >NumRevolvingTradesWBalance_bin_WOE</th>        <th class=\"col_heading level0 col22\" >NumBank2NatlTradesWHighUtilization_bin_WOE</th>        <th class=\"col_heading level0 col23\" >PercentTradesWBalance_bin_WOE</th>    </tr></thead><tbody>\n",
       "                <tr>\n",
       "                        <th id=\"T_7c532746_7d1b_11ec_b1b3_0c9d92c473d6level0_row0\" class=\"row_heading level0 row0\" >RiskPerformance</th>\n",
       "                        <td id=\"T_7c532746_7d1b_11ec_b1b3_0c9d92c473d6row0_col0\" class=\"data row0 col0\" >0.0</td>\n",
       "                        <td id=\"T_7c532746_7d1b_11ec_b1b3_0c9d92c473d6row0_col1\" class=\"data row0 col1\" >0.0</td>\n",
       "                        <td id=\"T_7c532746_7d1b_11ec_b1b3_0c9d92c473d6row0_col2\" class=\"data row0 col2\" >0.0</td>\n",
       "                        <td id=\"T_7c532746_7d1b_11ec_b1b3_0c9d92c473d6row0_col3\" class=\"data row0 col3\" >0.0</td>\n",
       "                        <td id=\"T_7c532746_7d1b_11ec_b1b3_0c9d92c473d6row0_col4\" class=\"data row0 col4\" >0.0</td>\n",
       "                        <td id=\"T_7c532746_7d1b_11ec_b1b3_0c9d92c473d6row0_col5\" class=\"data row0 col5\" >0.0</td>\n",
       "                        <td id=\"T_7c532746_7d1b_11ec_b1b3_0c9d92c473d6row0_col6\" class=\"data row0 col6\" >0.0</td>\n",
       "                        <td id=\"T_7c532746_7d1b_11ec_b1b3_0c9d92c473d6row0_col7\" class=\"data row0 col7\" >0.0</td>\n",
       "                        <td id=\"T_7c532746_7d1b_11ec_b1b3_0c9d92c473d6row0_col8\" class=\"data row0 col8\" >0.0</td>\n",
       "                        <td id=\"T_7c532746_7d1b_11ec_b1b3_0c9d92c473d6row0_col9\" class=\"data row0 col9\" >0.0</td>\n",
       "                        <td id=\"T_7c532746_7d1b_11ec_b1b3_0c9d92c473d6row0_col10\" class=\"data row0 col10\" >0.0</td>\n",
       "                        <td id=\"T_7c532746_7d1b_11ec_b1b3_0c9d92c473d6row0_col11\" class=\"data row0 col11\" >0.0</td>\n",
       "                        <td id=\"T_7c532746_7d1b_11ec_b1b3_0c9d92c473d6row0_col12\" class=\"data row0 col12\" >0.0</td>\n",
       "                        <td id=\"T_7c532746_7d1b_11ec_b1b3_0c9d92c473d6row0_col13\" class=\"data row0 col13\" >0.0</td>\n",
       "                        <td id=\"T_7c532746_7d1b_11ec_b1b3_0c9d92c473d6row0_col14\" class=\"data row0 col14\" >0.0</td>\n",
       "                        <td id=\"T_7c532746_7d1b_11ec_b1b3_0c9d92c473d6row0_col15\" class=\"data row0 col15\" >0.0</td>\n",
       "                        <td id=\"T_7c532746_7d1b_11ec_b1b3_0c9d92c473d6row0_col16\" class=\"data row0 col16\" >0.0</td>\n",
       "                        <td id=\"T_7c532746_7d1b_11ec_b1b3_0c9d92c473d6row0_col17\" class=\"data row0 col17\" >0.0</td>\n",
       "                        <td id=\"T_7c532746_7d1b_11ec_b1b3_0c9d92c473d6row0_col18\" class=\"data row0 col18\" >0.0</td>\n",
       "                        <td id=\"T_7c532746_7d1b_11ec_b1b3_0c9d92c473d6row0_col19\" class=\"data row0 col19\" >0.0</td>\n",
       "                        <td id=\"T_7c532746_7d1b_11ec_b1b3_0c9d92c473d6row0_col20\" class=\"data row0 col20\" >0.0</td>\n",
       "                        <td id=\"T_7c532746_7d1b_11ec_b1b3_0c9d92c473d6row0_col21\" class=\"data row0 col21\" >0.0</td>\n",
       "                        <td id=\"T_7c532746_7d1b_11ec_b1b3_0c9d92c473d6row0_col22\" class=\"data row0 col22\" >0.0</td>\n",
       "                        <td id=\"T_7c532746_7d1b_11ec_b1b3_0c9d92c473d6row0_col23\" class=\"data row0 col23\" >0.0</td>\n",
       "            </tr>\n",
       "            <tr>\n",
       "                        <th id=\"T_7c532746_7d1b_11ec_b1b3_0c9d92c473d6level0_row1\" class=\"row_heading level0 row1\" >ExternalRiskEstimate_bin_WOE</th>\n",
       "                        <td id=\"T_7c532746_7d1b_11ec_b1b3_0c9d92c473d6row1_col0\" class=\"data row1 col0\" >0.011</td>\n",
       "                        <td id=\"T_7c532746_7d1b_11ec_b1b3_0c9d92c473d6row1_col1\" class=\"data row1 col1\" >0.0</td>\n",
       "                        <td id=\"T_7c532746_7d1b_11ec_b1b3_0c9d92c473d6row1_col2\" class=\"data row1 col2\" >0.0</td>\n",
       "                        <td id=\"T_7c532746_7d1b_11ec_b1b3_0c9d92c473d6row1_col3\" class=\"data row1 col3\" >0.0</td>\n",
       "                        <td id=\"T_7c532746_7d1b_11ec_b1b3_0c9d92c473d6row1_col4\" class=\"data row1 col4\" >0.0</td>\n",
       "                        <td id=\"T_7c532746_7d1b_11ec_b1b3_0c9d92c473d6row1_col5\" class=\"data row1 col5\" >0.0</td>\n",
       "                        <td id=\"T_7c532746_7d1b_11ec_b1b3_0c9d92c473d6row1_col6\" class=\"data row1 col6\" >0.0</td>\n",
       "                        <td id=\"T_7c532746_7d1b_11ec_b1b3_0c9d92c473d6row1_col7\" class=\"data row1 col7\" >0.0</td>\n",
       "                        <td id=\"T_7c532746_7d1b_11ec_b1b3_0c9d92c473d6row1_col8\" class=\"data row1 col8\" >0.0</td>\n",
       "                        <td id=\"T_7c532746_7d1b_11ec_b1b3_0c9d92c473d6row1_col9\" class=\"data row1 col9\" >0.0</td>\n",
       "                        <td id=\"T_7c532746_7d1b_11ec_b1b3_0c9d92c473d6row1_col10\" class=\"data row1 col10\" >0.0</td>\n",
       "                        <td id=\"T_7c532746_7d1b_11ec_b1b3_0c9d92c473d6row1_col11\" class=\"data row1 col11\" >0.0</td>\n",
       "                        <td id=\"T_7c532746_7d1b_11ec_b1b3_0c9d92c473d6row1_col12\" class=\"data row1 col12\" >0.0</td>\n",
       "                        <td id=\"T_7c532746_7d1b_11ec_b1b3_0c9d92c473d6row1_col13\" class=\"data row1 col13\" >0.0</td>\n",
       "                        <td id=\"T_7c532746_7d1b_11ec_b1b3_0c9d92c473d6row1_col14\" class=\"data row1 col14\" >0.0</td>\n",
       "                        <td id=\"T_7c532746_7d1b_11ec_b1b3_0c9d92c473d6row1_col15\" class=\"data row1 col15\" >0.0</td>\n",
       "                        <td id=\"T_7c532746_7d1b_11ec_b1b3_0c9d92c473d6row1_col16\" class=\"data row1 col16\" >0.0</td>\n",
       "                        <td id=\"T_7c532746_7d1b_11ec_b1b3_0c9d92c473d6row1_col17\" class=\"data row1 col17\" >0.0</td>\n",
       "                        <td id=\"T_7c532746_7d1b_11ec_b1b3_0c9d92c473d6row1_col18\" class=\"data row1 col18\" >0.0</td>\n",
       "                        <td id=\"T_7c532746_7d1b_11ec_b1b3_0c9d92c473d6row1_col19\" class=\"data row1 col19\" >0.0</td>\n",
       "                        <td id=\"T_7c532746_7d1b_11ec_b1b3_0c9d92c473d6row1_col20\" class=\"data row1 col20\" >0.0</td>\n",
       "                        <td id=\"T_7c532746_7d1b_11ec_b1b3_0c9d92c473d6row1_col21\" class=\"data row1 col21\" >0.0</td>\n",
       "                        <td id=\"T_7c532746_7d1b_11ec_b1b3_0c9d92c473d6row1_col22\" class=\"data row1 col22\" >0.0</td>\n",
       "                        <td id=\"T_7c532746_7d1b_11ec_b1b3_0c9d92c473d6row1_col23\" class=\"data row1 col23\" >0.0</td>\n",
       "            </tr>\n",
       "            <tr>\n",
       "                        <th id=\"T_7c532746_7d1b_11ec_b1b3_0c9d92c473d6level0_row2\" class=\"row_heading level0 row2\" >MSinceOldestTradeOpen_bin_WOE</th>\n",
       "                        <td id=\"T_7c532746_7d1b_11ec_b1b3_0c9d92c473d6row2_col0\" class=\"data row2 col0\" >0.0</td>\n",
       "                        <td id=\"T_7c532746_7d1b_11ec_b1b3_0c9d92c473d6row2_col1\" class=\"data row2 col1\" >0.0</td>\n",
       "                        <td id=\"T_7c532746_7d1b_11ec_b1b3_0c9d92c473d6row2_col2\" class=\"data row2 col2\" >0.0</td>\n",
       "                        <td id=\"T_7c532746_7d1b_11ec_b1b3_0c9d92c473d6row2_col3\" class=\"data row2 col3\" >0.0</td>\n",
       "                        <td id=\"T_7c532746_7d1b_11ec_b1b3_0c9d92c473d6row2_col4\" class=\"data row2 col4\" >0.028</td>\n",
       "                        <td id=\"T_7c532746_7d1b_11ec_b1b3_0c9d92c473d6row2_col5\" class=\"data row2 col5\" >0.0</td>\n",
       "                        <td id=\"T_7c532746_7d1b_11ec_b1b3_0c9d92c473d6row2_col6\" class=\"data row2 col6\" >0.0</td>\n",
       "                        <td id=\"T_7c532746_7d1b_11ec_b1b3_0c9d92c473d6row2_col7\" class=\"data row2 col7\" >0.0</td>\n",
       "                        <td id=\"T_7c532746_7d1b_11ec_b1b3_0c9d92c473d6row2_col8\" class=\"data row2 col8\" >0.007</td>\n",
       "                        <td id=\"T_7c532746_7d1b_11ec_b1b3_0c9d92c473d6row2_col9\" class=\"data row2 col9\" >0.0</td>\n",
       "                        <td id=\"T_7c532746_7d1b_11ec_b1b3_0c9d92c473d6row2_col10\" class=\"data row2 col10\" >0.0</td>\n",
       "                        <td id=\"T_7c532746_7d1b_11ec_b1b3_0c9d92c473d6row2_col11\" class=\"data row2 col11\" >0.0</td>\n",
       "                        <td id=\"T_7c532746_7d1b_11ec_b1b3_0c9d92c473d6row2_col12\" class=\"data row2 col12\" >0.0</td>\n",
       "                        <td id=\"T_7c532746_7d1b_11ec_b1b3_0c9d92c473d6row2_col13\" class=\"data row2 col13\" >0.0</td>\n",
       "                        <td id=\"T_7c532746_7d1b_11ec_b1b3_0c9d92c473d6row2_col14\" class=\"data row2 col14\" >0.0</td>\n",
       "                        <td id=\"T_7c532746_7d1b_11ec_b1b3_0c9d92c473d6row2_col15\" class=\"data row2 col15\" >0.0</td>\n",
       "                        <td id=\"T_7c532746_7d1b_11ec_b1b3_0c9d92c473d6row2_col16\" class=\"data row2 col16\" >0.0</td>\n",
       "                        <td id=\"T_7c532746_7d1b_11ec_b1b3_0c9d92c473d6row2_col17\" class=\"data row2 col17\" >0.0</td>\n",
       "                        <td id=\"T_7c532746_7d1b_11ec_b1b3_0c9d92c473d6row2_col18\" class=\"data row2 col18\" >0.0</td>\n",
       "                        <td id=\"T_7c532746_7d1b_11ec_b1b3_0c9d92c473d6row2_col19\" class=\"data row2 col19\" >0.0</td>\n",
       "                        <td id=\"T_7c532746_7d1b_11ec_b1b3_0c9d92c473d6row2_col20\" class=\"data row2 col20\" >0.0</td>\n",
       "                        <td id=\"T_7c532746_7d1b_11ec_b1b3_0c9d92c473d6row2_col21\" class=\"data row2 col21\" >0.0</td>\n",
       "                        <td id=\"T_7c532746_7d1b_11ec_b1b3_0c9d92c473d6row2_col22\" class=\"data row2 col22\" >0.0</td>\n",
       "                        <td id=\"T_7c532746_7d1b_11ec_b1b3_0c9d92c473d6row2_col23\" class=\"data row2 col23\" >0.0</td>\n",
       "            </tr>\n",
       "            <tr>\n",
       "                        <th id=\"T_7c532746_7d1b_11ec_b1b3_0c9d92c473d6level0_row3\" class=\"row_heading level0 row3\" >MSinceMostRecentTradeOpen_bin_WOE</th>\n",
       "                        <td id=\"T_7c532746_7d1b_11ec_b1b3_0c9d92c473d6row3_col0\" class=\"data row3 col0\" >0.0</td>\n",
       "                        <td id=\"T_7c532746_7d1b_11ec_b1b3_0c9d92c473d6row3_col1\" class=\"data row3 col1\" >0.0</td>\n",
       "                        <td id=\"T_7c532746_7d1b_11ec_b1b3_0c9d92c473d6row3_col2\" class=\"data row3 col2\" >0.0</td>\n",
       "                        <td id=\"T_7c532746_7d1b_11ec_b1b3_0c9d92c473d6row3_col3\" class=\"data row3 col3\" >0.0</td>\n",
       "                        <td id=\"T_7c532746_7d1b_11ec_b1b3_0c9d92c473d6row3_col4\" class=\"data row3 col4\" >0.0</td>\n",
       "                        <td id=\"T_7c532746_7d1b_11ec_b1b3_0c9d92c473d6row3_col5\" class=\"data row3 col5\" >0.0</td>\n",
       "                        <td id=\"T_7c532746_7d1b_11ec_b1b3_0c9d92c473d6row3_col6\" class=\"data row3 col6\" >0.0</td>\n",
       "                        <td id=\"T_7c532746_7d1b_11ec_b1b3_0c9d92c473d6row3_col7\" class=\"data row3 col7\" >0.0</td>\n",
       "                        <td id=\"T_7c532746_7d1b_11ec_b1b3_0c9d92c473d6row3_col8\" class=\"data row3 col8\" >0.0</td>\n",
       "                        <td id=\"T_7c532746_7d1b_11ec_b1b3_0c9d92c473d6row3_col9\" class=\"data row3 col9\" >0.0</td>\n",
       "                        <td id=\"T_7c532746_7d1b_11ec_b1b3_0c9d92c473d6row3_col10\" class=\"data row3 col10\" >0.0</td>\n",
       "                        <td id=\"T_7c532746_7d1b_11ec_b1b3_0c9d92c473d6row3_col11\" class=\"data row3 col11\" >0.0</td>\n",
       "                        <td id=\"T_7c532746_7d1b_11ec_b1b3_0c9d92c473d6row3_col12\" class=\"data row3 col12\" >0.0</td>\n",
       "                        <td id=\"T_7c532746_7d1b_11ec_b1b3_0c9d92c473d6row3_col13\" class=\"data row3 col13\" >0.0</td>\n",
       "                        <td id=\"T_7c532746_7d1b_11ec_b1b3_0c9d92c473d6row3_col14\" class=\"data row3 col14\" >0.0</td>\n",
       "                        <td id=\"T_7c532746_7d1b_11ec_b1b3_0c9d92c473d6row3_col15\" class=\"data row3 col15\" >0.0</td>\n",
       "                        <td id=\"T_7c532746_7d1b_11ec_b1b3_0c9d92c473d6row3_col16\" class=\"data row3 col16\" >0.0</td>\n",
       "                        <td id=\"T_7c532746_7d1b_11ec_b1b3_0c9d92c473d6row3_col17\" class=\"data row3 col17\" >0.0</td>\n",
       "                        <td id=\"T_7c532746_7d1b_11ec_b1b3_0c9d92c473d6row3_col18\" class=\"data row3 col18\" >0.0</td>\n",
       "                        <td id=\"T_7c532746_7d1b_11ec_b1b3_0c9d92c473d6row3_col19\" class=\"data row3 col19\" >0.0</td>\n",
       "                        <td id=\"T_7c532746_7d1b_11ec_b1b3_0c9d92c473d6row3_col20\" class=\"data row3 col20\" >0.0</td>\n",
       "                        <td id=\"T_7c532746_7d1b_11ec_b1b3_0c9d92c473d6row3_col21\" class=\"data row3 col21\" >0.0</td>\n",
       "                        <td id=\"T_7c532746_7d1b_11ec_b1b3_0c9d92c473d6row3_col22\" class=\"data row3 col22\" >0.0</td>\n",
       "                        <td id=\"T_7c532746_7d1b_11ec_b1b3_0c9d92c473d6row3_col23\" class=\"data row3 col23\" >0.0</td>\n",
       "            </tr>\n",
       "            <tr>\n",
       "                        <th id=\"T_7c532746_7d1b_11ec_b1b3_0c9d92c473d6level0_row4\" class=\"row_heading level0 row4\" >AverageMInFile_bin_WOE</th>\n",
       "                        <td id=\"T_7c532746_7d1b_11ec_b1b3_0c9d92c473d6row4_col0\" class=\"data row4 col0\" >0.009</td>\n",
       "                        <td id=\"T_7c532746_7d1b_11ec_b1b3_0c9d92c473d6row4_col1\" class=\"data row4 col1\" >0.021</td>\n",
       "                        <td id=\"T_7c532746_7d1b_11ec_b1b3_0c9d92c473d6row4_col2\" class=\"data row4 col2\" >0.0</td>\n",
       "                        <td id=\"T_7c532746_7d1b_11ec_b1b3_0c9d92c473d6row4_col3\" class=\"data row4 col3\" >0.0</td>\n",
       "                        <td id=\"T_7c532746_7d1b_11ec_b1b3_0c9d92c473d6row4_col4\" class=\"data row4 col4\" >0.0</td>\n",
       "                        <td id=\"T_7c532746_7d1b_11ec_b1b3_0c9d92c473d6row4_col5\" class=\"data row4 col5\" >0.0</td>\n",
       "                        <td id=\"T_7c532746_7d1b_11ec_b1b3_0c9d92c473d6row4_col6\" class=\"data row4 col6\" >0.0</td>\n",
       "                        <td id=\"T_7c532746_7d1b_11ec_b1b3_0c9d92c473d6row4_col7\" class=\"data row4 col7\" >0.0</td>\n",
       "                        <td id=\"T_7c532746_7d1b_11ec_b1b3_0c9d92c473d6row4_col8\" class=\"data row4 col8\" >0.0</td>\n",
       "                        <td id=\"T_7c532746_7d1b_11ec_b1b3_0c9d92c473d6row4_col9\" class=\"data row4 col9\" >0.0</td>\n",
       "                        <td id=\"T_7c532746_7d1b_11ec_b1b3_0c9d92c473d6row4_col10\" class=\"data row4 col10\" >0.0</td>\n",
       "                        <td id=\"T_7c532746_7d1b_11ec_b1b3_0c9d92c473d6row4_col11\" class=\"data row4 col11\" >0.0</td>\n",
       "                        <td id=\"T_7c532746_7d1b_11ec_b1b3_0c9d92c473d6row4_col12\" class=\"data row4 col12\" >0.0</td>\n",
       "                        <td id=\"T_7c532746_7d1b_11ec_b1b3_0c9d92c473d6row4_col13\" class=\"data row4 col13\" >0.0</td>\n",
       "                        <td id=\"T_7c532746_7d1b_11ec_b1b3_0c9d92c473d6row4_col14\" class=\"data row4 col14\" >0.0</td>\n",
       "                        <td id=\"T_7c532746_7d1b_11ec_b1b3_0c9d92c473d6row4_col15\" class=\"data row4 col15\" >0.0</td>\n",
       "                        <td id=\"T_7c532746_7d1b_11ec_b1b3_0c9d92c473d6row4_col16\" class=\"data row4 col16\" >0.0</td>\n",
       "                        <td id=\"T_7c532746_7d1b_11ec_b1b3_0c9d92c473d6row4_col17\" class=\"data row4 col17\" >0.015</td>\n",
       "                        <td id=\"T_7c532746_7d1b_11ec_b1b3_0c9d92c473d6row4_col18\" class=\"data row4 col18\" >0.0</td>\n",
       "                        <td id=\"T_7c532746_7d1b_11ec_b1b3_0c9d92c473d6row4_col19\" class=\"data row4 col19\" >0.0</td>\n",
       "                        <td id=\"T_7c532746_7d1b_11ec_b1b3_0c9d92c473d6row4_col20\" class=\"data row4 col20\" >0.0</td>\n",
       "                        <td id=\"T_7c532746_7d1b_11ec_b1b3_0c9d92c473d6row4_col21\" class=\"data row4 col21\" >0.0</td>\n",
       "                        <td id=\"T_7c532746_7d1b_11ec_b1b3_0c9d92c473d6row4_col22\" class=\"data row4 col22\" >0.0</td>\n",
       "                        <td id=\"T_7c532746_7d1b_11ec_b1b3_0c9d92c473d6row4_col23\" class=\"data row4 col23\" >0.0</td>\n",
       "            </tr>\n",
       "            <tr>\n",
       "                        <th id=\"T_7c532746_7d1b_11ec_b1b3_0c9d92c473d6level0_row5\" class=\"row_heading level0 row5\" >NumSatisfactoryTrades_bin_WOE</th>\n",
       "                        <td id=\"T_7c532746_7d1b_11ec_b1b3_0c9d92c473d6row5_col0\" class=\"data row5 col0\" >0.007</td>\n",
       "                        <td id=\"T_7c532746_7d1b_11ec_b1b3_0c9d92c473d6row5_col1\" class=\"data row5 col1\" >0.01</td>\n",
       "                        <td id=\"T_7c532746_7d1b_11ec_b1b3_0c9d92c473d6row5_col2\" class=\"data row5 col2\" >0.0</td>\n",
       "                        <td id=\"T_7c532746_7d1b_11ec_b1b3_0c9d92c473d6row5_col3\" class=\"data row5 col3\" >0.0</td>\n",
       "                        <td id=\"T_7c532746_7d1b_11ec_b1b3_0c9d92c473d6row5_col4\" class=\"data row5 col4\" >0.0</td>\n",
       "                        <td id=\"T_7c532746_7d1b_11ec_b1b3_0c9d92c473d6row5_col5\" class=\"data row5 col5\" >0.0</td>\n",
       "                        <td id=\"T_7c532746_7d1b_11ec_b1b3_0c9d92c473d6row5_col6\" class=\"data row5 col6\" >0.0</td>\n",
       "                        <td id=\"T_7c532746_7d1b_11ec_b1b3_0c9d92c473d6row5_col7\" class=\"data row5 col7\" >0.0</td>\n",
       "                        <td id=\"T_7c532746_7d1b_11ec_b1b3_0c9d92c473d6row5_col8\" class=\"data row5 col8\" >0.0</td>\n",
       "                        <td id=\"T_7c532746_7d1b_11ec_b1b3_0c9d92c473d6row5_col9\" class=\"data row5 col9\" >0.0</td>\n",
       "                        <td id=\"T_7c532746_7d1b_11ec_b1b3_0c9d92c473d6row5_col10\" class=\"data row5 col10\" >0.008</td>\n",
       "                        <td id=\"T_7c532746_7d1b_11ec_b1b3_0c9d92c473d6row5_col11\" class=\"data row5 col11\" >0.0</td>\n",
       "                        <td id=\"T_7c532746_7d1b_11ec_b1b3_0c9d92c473d6row5_col12\" class=\"data row5 col12\" >0.0</td>\n",
       "                        <td id=\"T_7c532746_7d1b_11ec_b1b3_0c9d92c473d6row5_col13\" class=\"data row5 col13\" >0.0</td>\n",
       "                        <td id=\"T_7c532746_7d1b_11ec_b1b3_0c9d92c473d6row5_col14\" class=\"data row5 col14\" >0.0</td>\n",
       "                        <td id=\"T_7c532746_7d1b_11ec_b1b3_0c9d92c473d6row5_col15\" class=\"data row5 col15\" >0.0</td>\n",
       "                        <td id=\"T_7c532746_7d1b_11ec_b1b3_0c9d92c473d6row5_col16\" class=\"data row5 col16\" >0.0</td>\n",
       "                        <td id=\"T_7c532746_7d1b_11ec_b1b3_0c9d92c473d6row5_col17\" class=\"data row5 col17\" >0.0</td>\n",
       "                        <td id=\"T_7c532746_7d1b_11ec_b1b3_0c9d92c473d6row5_col18\" class=\"data row5 col18\" >0.0</td>\n",
       "                        <td id=\"T_7c532746_7d1b_11ec_b1b3_0c9d92c473d6row5_col19\" class=\"data row5 col19\" >0.0</td>\n",
       "                        <td id=\"T_7c532746_7d1b_11ec_b1b3_0c9d92c473d6row5_col20\" class=\"data row5 col20\" >0.0</td>\n",
       "                        <td id=\"T_7c532746_7d1b_11ec_b1b3_0c9d92c473d6row5_col21\" class=\"data row5 col21\" >0.0</td>\n",
       "                        <td id=\"T_7c532746_7d1b_11ec_b1b3_0c9d92c473d6row5_col22\" class=\"data row5 col22\" >0.009</td>\n",
       "                        <td id=\"T_7c532746_7d1b_11ec_b1b3_0c9d92c473d6row5_col23\" class=\"data row5 col23\" >0.015</td>\n",
       "            </tr>\n",
       "            <tr>\n",
       "                        <th id=\"T_7c532746_7d1b_11ec_b1b3_0c9d92c473d6level0_row6\" class=\"row_heading level0 row6\" >NumTrades60Ever2DerogPubRec_bin_WOE</th>\n",
       "                        <td id=\"T_7c532746_7d1b_11ec_b1b3_0c9d92c473d6row6_col0\" class=\"data row6 col0\" >0.0</td>\n",
       "                        <td id=\"T_7c532746_7d1b_11ec_b1b3_0c9d92c473d6row6_col1\" class=\"data row6 col1\" >0.016</td>\n",
       "                        <td id=\"T_7c532746_7d1b_11ec_b1b3_0c9d92c473d6row6_col2\" class=\"data row6 col2\" >0.0</td>\n",
       "                        <td id=\"T_7c532746_7d1b_11ec_b1b3_0c9d92c473d6row6_col3\" class=\"data row6 col3\" >0.0</td>\n",
       "                        <td id=\"T_7c532746_7d1b_11ec_b1b3_0c9d92c473d6row6_col4\" class=\"data row6 col4\" >0.0</td>\n",
       "                        <td id=\"T_7c532746_7d1b_11ec_b1b3_0c9d92c473d6row6_col5\" class=\"data row6 col5\" >0.0</td>\n",
       "                        <td id=\"T_7c532746_7d1b_11ec_b1b3_0c9d92c473d6row6_col6\" class=\"data row6 col6\" >0.0</td>\n",
       "                        <td id=\"T_7c532746_7d1b_11ec_b1b3_0c9d92c473d6row6_col7\" class=\"data row6 col7\" >0.0</td>\n",
       "                        <td id=\"T_7c532746_7d1b_11ec_b1b3_0c9d92c473d6row6_col8\" class=\"data row6 col8\" >0.0</td>\n",
       "                        <td id=\"T_7c532746_7d1b_11ec_b1b3_0c9d92c473d6row6_col9\" class=\"data row6 col9\" >0.0</td>\n",
       "                        <td id=\"T_7c532746_7d1b_11ec_b1b3_0c9d92c473d6row6_col10\" class=\"data row6 col10\" >0.0</td>\n",
       "                        <td id=\"T_7c532746_7d1b_11ec_b1b3_0c9d92c473d6row6_col11\" class=\"data row6 col11\" >0.0</td>\n",
       "                        <td id=\"T_7c532746_7d1b_11ec_b1b3_0c9d92c473d6row6_col12\" class=\"data row6 col12\" >0.0</td>\n",
       "                        <td id=\"T_7c532746_7d1b_11ec_b1b3_0c9d92c473d6row6_col13\" class=\"data row6 col13\" >0.0</td>\n",
       "                        <td id=\"T_7c532746_7d1b_11ec_b1b3_0c9d92c473d6row6_col14\" class=\"data row6 col14\" >0.0</td>\n",
       "                        <td id=\"T_7c532746_7d1b_11ec_b1b3_0c9d92c473d6row6_col15\" class=\"data row6 col15\" >0.0</td>\n",
       "                        <td id=\"T_7c532746_7d1b_11ec_b1b3_0c9d92c473d6row6_col16\" class=\"data row6 col16\" >0.0</td>\n",
       "                        <td id=\"T_7c532746_7d1b_11ec_b1b3_0c9d92c473d6row6_col17\" class=\"data row6 col17\" >0.0</td>\n",
       "                        <td id=\"T_7c532746_7d1b_11ec_b1b3_0c9d92c473d6row6_col18\" class=\"data row6 col18\" >0.0</td>\n",
       "                        <td id=\"T_7c532746_7d1b_11ec_b1b3_0c9d92c473d6row6_col19\" class=\"data row6 col19\" >0.0</td>\n",
       "                        <td id=\"T_7c532746_7d1b_11ec_b1b3_0c9d92c473d6row6_col20\" class=\"data row6 col20\" >0.0</td>\n",
       "                        <td id=\"T_7c532746_7d1b_11ec_b1b3_0c9d92c473d6row6_col21\" class=\"data row6 col21\" >0.0</td>\n",
       "                        <td id=\"T_7c532746_7d1b_11ec_b1b3_0c9d92c473d6row6_col22\" class=\"data row6 col22\" >0.0</td>\n",
       "                        <td id=\"T_7c532746_7d1b_11ec_b1b3_0c9d92c473d6row6_col23\" class=\"data row6 col23\" >0.0</td>\n",
       "            </tr>\n",
       "            <tr>\n",
       "                        <th id=\"T_7c532746_7d1b_11ec_b1b3_0c9d92c473d6level0_row7\" class=\"row_heading level0 row7\" >NumTrades90Ever2DerogPubRec_bin_WOE</th>\n",
       "                        <td id=\"T_7c532746_7d1b_11ec_b1b3_0c9d92c473d6row7_col0\" class=\"data row7 col0\" >0.0</td>\n",
       "                        <td id=\"T_7c532746_7d1b_11ec_b1b3_0c9d92c473d6row7_col1\" class=\"data row7 col1\" >0.0</td>\n",
       "                        <td id=\"T_7c532746_7d1b_11ec_b1b3_0c9d92c473d6row7_col2\" class=\"data row7 col2\" >0.0</td>\n",
       "                        <td id=\"T_7c532746_7d1b_11ec_b1b3_0c9d92c473d6row7_col3\" class=\"data row7 col3\" >0.0</td>\n",
       "                        <td id=\"T_7c532746_7d1b_11ec_b1b3_0c9d92c473d6row7_col4\" class=\"data row7 col4\" >0.0</td>\n",
       "                        <td id=\"T_7c532746_7d1b_11ec_b1b3_0c9d92c473d6row7_col5\" class=\"data row7 col5\" >0.0</td>\n",
       "                        <td id=\"T_7c532746_7d1b_11ec_b1b3_0c9d92c473d6row7_col6\" class=\"data row7 col6\" >0.0</td>\n",
       "                        <td id=\"T_7c532746_7d1b_11ec_b1b3_0c9d92c473d6row7_col7\" class=\"data row7 col7\" >0.0</td>\n",
       "                        <td id=\"T_7c532746_7d1b_11ec_b1b3_0c9d92c473d6row7_col8\" class=\"data row7 col8\" >0.0</td>\n",
       "                        <td id=\"T_7c532746_7d1b_11ec_b1b3_0c9d92c473d6row7_col9\" class=\"data row7 col9\" >0.0</td>\n",
       "                        <td id=\"T_7c532746_7d1b_11ec_b1b3_0c9d92c473d6row7_col10\" class=\"data row7 col10\" >0.0</td>\n",
       "                        <td id=\"T_7c532746_7d1b_11ec_b1b3_0c9d92c473d6row7_col11\" class=\"data row7 col11\" >0.0</td>\n",
       "                        <td id=\"T_7c532746_7d1b_11ec_b1b3_0c9d92c473d6row7_col12\" class=\"data row7 col12\" >0.0</td>\n",
       "                        <td id=\"T_7c532746_7d1b_11ec_b1b3_0c9d92c473d6row7_col13\" class=\"data row7 col13\" >0.0</td>\n",
       "                        <td id=\"T_7c532746_7d1b_11ec_b1b3_0c9d92c473d6row7_col14\" class=\"data row7 col14\" >0.0</td>\n",
       "                        <td id=\"T_7c532746_7d1b_11ec_b1b3_0c9d92c473d6row7_col15\" class=\"data row7 col15\" >0.0</td>\n",
       "                        <td id=\"T_7c532746_7d1b_11ec_b1b3_0c9d92c473d6row7_col16\" class=\"data row7 col16\" >0.0</td>\n",
       "                        <td id=\"T_7c532746_7d1b_11ec_b1b3_0c9d92c473d6row7_col17\" class=\"data row7 col17\" >0.0</td>\n",
       "                        <td id=\"T_7c532746_7d1b_11ec_b1b3_0c9d92c473d6row7_col18\" class=\"data row7 col18\" >0.0</td>\n",
       "                        <td id=\"T_7c532746_7d1b_11ec_b1b3_0c9d92c473d6row7_col19\" class=\"data row7 col19\" >0.0</td>\n",
       "                        <td id=\"T_7c532746_7d1b_11ec_b1b3_0c9d92c473d6row7_col20\" class=\"data row7 col20\" >0.0</td>\n",
       "                        <td id=\"T_7c532746_7d1b_11ec_b1b3_0c9d92c473d6row7_col21\" class=\"data row7 col21\" >0.0</td>\n",
       "                        <td id=\"T_7c532746_7d1b_11ec_b1b3_0c9d92c473d6row7_col22\" class=\"data row7 col22\" >0.0</td>\n",
       "                        <td id=\"T_7c532746_7d1b_11ec_b1b3_0c9d92c473d6row7_col23\" class=\"data row7 col23\" >0.0</td>\n",
       "            </tr>\n",
       "            <tr>\n",
       "                        <th id=\"T_7c532746_7d1b_11ec_b1b3_0c9d92c473d6level0_row8\" class=\"row_heading level0 row8\" >NumTotalTrades_bin_WOE</th>\n",
       "                        <td id=\"T_7c532746_7d1b_11ec_b1b3_0c9d92c473d6row8_col0\" class=\"data row8 col0\" >0.0</td>\n",
       "                        <td id=\"T_7c532746_7d1b_11ec_b1b3_0c9d92c473d6row8_col1\" class=\"data row8 col1\" >0.0</td>\n",
       "                        <td id=\"T_7c532746_7d1b_11ec_b1b3_0c9d92c473d6row8_col2\" class=\"data row8 col2\" >0.0</td>\n",
       "                        <td id=\"T_7c532746_7d1b_11ec_b1b3_0c9d92c473d6row8_col3\" class=\"data row8 col3\" >0.0</td>\n",
       "                        <td id=\"T_7c532746_7d1b_11ec_b1b3_0c9d92c473d6row8_col4\" class=\"data row8 col4\" >0.0</td>\n",
       "                        <td id=\"T_7c532746_7d1b_11ec_b1b3_0c9d92c473d6row8_col5\" class=\"data row8 col5\" >0.023</td>\n",
       "                        <td id=\"T_7c532746_7d1b_11ec_b1b3_0c9d92c473d6row8_col6\" class=\"data row8 col6\" >0.0</td>\n",
       "                        <td id=\"T_7c532746_7d1b_11ec_b1b3_0c9d92c473d6row8_col7\" class=\"data row8 col7\" >0.0</td>\n",
       "                        <td id=\"T_7c532746_7d1b_11ec_b1b3_0c9d92c473d6row8_col8\" class=\"data row8 col8\" >0.0</td>\n",
       "                        <td id=\"T_7c532746_7d1b_11ec_b1b3_0c9d92c473d6row8_col9\" class=\"data row8 col9\" >0.0</td>\n",
       "                        <td id=\"T_7c532746_7d1b_11ec_b1b3_0c9d92c473d6row8_col10\" class=\"data row8 col10\" >0.0</td>\n",
       "                        <td id=\"T_7c532746_7d1b_11ec_b1b3_0c9d92c473d6row8_col11\" class=\"data row8 col11\" >0.0</td>\n",
       "                        <td id=\"T_7c532746_7d1b_11ec_b1b3_0c9d92c473d6row8_col12\" class=\"data row8 col12\" >0.0</td>\n",
       "                        <td id=\"T_7c532746_7d1b_11ec_b1b3_0c9d92c473d6row8_col13\" class=\"data row8 col13\" >0.0</td>\n",
       "                        <td id=\"T_7c532746_7d1b_11ec_b1b3_0c9d92c473d6row8_col14\" class=\"data row8 col14\" >0.0</td>\n",
       "                        <td id=\"T_7c532746_7d1b_11ec_b1b3_0c9d92c473d6row8_col15\" class=\"data row8 col15\" >0.0</td>\n",
       "                        <td id=\"T_7c532746_7d1b_11ec_b1b3_0c9d92c473d6row8_col16\" class=\"data row8 col16\" >0.0</td>\n",
       "                        <td id=\"T_7c532746_7d1b_11ec_b1b3_0c9d92c473d6row8_col17\" class=\"data row8 col17\" >0.0</td>\n",
       "                        <td id=\"T_7c532746_7d1b_11ec_b1b3_0c9d92c473d6row8_col18\" class=\"data row8 col18\" >0.0</td>\n",
       "                        <td id=\"T_7c532746_7d1b_11ec_b1b3_0c9d92c473d6row8_col19\" class=\"data row8 col19\" >0.0</td>\n",
       "                        <td id=\"T_7c532746_7d1b_11ec_b1b3_0c9d92c473d6row8_col20\" class=\"data row8 col20\" >0.0</td>\n",
       "                        <td id=\"T_7c532746_7d1b_11ec_b1b3_0c9d92c473d6row8_col21\" class=\"data row8 col21\" >0.0</td>\n",
       "                        <td id=\"T_7c532746_7d1b_11ec_b1b3_0c9d92c473d6row8_col22\" class=\"data row8 col22\" >0.0</td>\n",
       "                        <td id=\"T_7c532746_7d1b_11ec_b1b3_0c9d92c473d6row8_col23\" class=\"data row8 col23\" >0.0</td>\n",
       "            </tr>\n",
       "            <tr>\n",
       "                        <th id=\"T_7c532746_7d1b_11ec_b1b3_0c9d92c473d6level0_row9\" class=\"row_heading level0 row9\" >NumTradesOpeninLast12M_bin_WOE</th>\n",
       "                        <td id=\"T_7c532746_7d1b_11ec_b1b3_0c9d92c473d6row9_col0\" class=\"data row9 col0\" >0.0</td>\n",
       "                        <td id=\"T_7c532746_7d1b_11ec_b1b3_0c9d92c473d6row9_col1\" class=\"data row9 col1\" >0.011</td>\n",
       "                        <td id=\"T_7c532746_7d1b_11ec_b1b3_0c9d92c473d6row9_col2\" class=\"data row9 col2\" >0.0</td>\n",
       "                        <td id=\"T_7c532746_7d1b_11ec_b1b3_0c9d92c473d6row9_col3\" class=\"data row9 col3\" >0.0</td>\n",
       "                        <td id=\"T_7c532746_7d1b_11ec_b1b3_0c9d92c473d6row9_col4\" class=\"data row9 col4\" >0.009</td>\n",
       "                        <td id=\"T_7c532746_7d1b_11ec_b1b3_0c9d92c473d6row9_col5\" class=\"data row9 col5\" >0.0</td>\n",
       "                        <td id=\"T_7c532746_7d1b_11ec_b1b3_0c9d92c473d6row9_col6\" class=\"data row9 col6\" >0.0</td>\n",
       "                        <td id=\"T_7c532746_7d1b_11ec_b1b3_0c9d92c473d6row9_col7\" class=\"data row9 col7\" >0.0</td>\n",
       "                        <td id=\"T_7c532746_7d1b_11ec_b1b3_0c9d92c473d6row9_col8\" class=\"data row9 col8\" >0.0</td>\n",
       "                        <td id=\"T_7c532746_7d1b_11ec_b1b3_0c9d92c473d6row9_col9\" class=\"data row9 col9\" >0.0</td>\n",
       "                        <td id=\"T_7c532746_7d1b_11ec_b1b3_0c9d92c473d6row9_col10\" class=\"data row9 col10\" >0.0</td>\n",
       "                        <td id=\"T_7c532746_7d1b_11ec_b1b3_0c9d92c473d6row9_col11\" class=\"data row9 col11\" >0.0</td>\n",
       "                        <td id=\"T_7c532746_7d1b_11ec_b1b3_0c9d92c473d6row9_col12\" class=\"data row9 col12\" >0.0</td>\n",
       "                        <td id=\"T_7c532746_7d1b_11ec_b1b3_0c9d92c473d6row9_col13\" class=\"data row9 col13\" >0.0</td>\n",
       "                        <td id=\"T_7c532746_7d1b_11ec_b1b3_0c9d92c473d6row9_col14\" class=\"data row9 col14\" >0.0</td>\n",
       "                        <td id=\"T_7c532746_7d1b_11ec_b1b3_0c9d92c473d6row9_col15\" class=\"data row9 col15\" >0.0</td>\n",
       "                        <td id=\"T_7c532746_7d1b_11ec_b1b3_0c9d92c473d6row9_col16\" class=\"data row9 col16\" >0.0</td>\n",
       "                        <td id=\"T_7c532746_7d1b_11ec_b1b3_0c9d92c473d6row9_col17\" class=\"data row9 col17\" >0.0</td>\n",
       "                        <td id=\"T_7c532746_7d1b_11ec_b1b3_0c9d92c473d6row9_col18\" class=\"data row9 col18\" >0.0</td>\n",
       "                        <td id=\"T_7c532746_7d1b_11ec_b1b3_0c9d92c473d6row9_col19\" class=\"data row9 col19\" >0.0</td>\n",
       "                        <td id=\"T_7c532746_7d1b_11ec_b1b3_0c9d92c473d6row9_col20\" class=\"data row9 col20\" >0.0</td>\n",
       "                        <td id=\"T_7c532746_7d1b_11ec_b1b3_0c9d92c473d6row9_col21\" class=\"data row9 col21\" >0.0</td>\n",
       "                        <td id=\"T_7c532746_7d1b_11ec_b1b3_0c9d92c473d6row9_col22\" class=\"data row9 col22\" >0.0</td>\n",
       "                        <td id=\"T_7c532746_7d1b_11ec_b1b3_0c9d92c473d6row9_col23\" class=\"data row9 col23\" >0.0</td>\n",
       "            </tr>\n",
       "            <tr>\n",
       "                        <th id=\"T_7c532746_7d1b_11ec_b1b3_0c9d92c473d6level0_row10\" class=\"row_heading level0 row10\" >PercentTradesNeverDelq_bin_WOE</th>\n",
       "                        <td id=\"T_7c532746_7d1b_11ec_b1b3_0c9d92c473d6row10_col0\" class=\"data row10 col0\" >0.0</td>\n",
       "                        <td id=\"T_7c532746_7d1b_11ec_b1b3_0c9d92c473d6row10_col1\" class=\"data row10 col1\" >0.015</td>\n",
       "                        <td id=\"T_7c532746_7d1b_11ec_b1b3_0c9d92c473d6row10_col2\" class=\"data row10 col2\" >0.0</td>\n",
       "                        <td id=\"T_7c532746_7d1b_11ec_b1b3_0c9d92c473d6row10_col3\" class=\"data row10 col3\" >0.0</td>\n",
       "                        <td id=\"T_7c532746_7d1b_11ec_b1b3_0c9d92c473d6row10_col4\" class=\"data row10 col4\" >0.0</td>\n",
       "                        <td id=\"T_7c532746_7d1b_11ec_b1b3_0c9d92c473d6row10_col5\" class=\"data row10 col5\" >0.0</td>\n",
       "                        <td id=\"T_7c532746_7d1b_11ec_b1b3_0c9d92c473d6row10_col6\" class=\"data row10 col6\" >0.015</td>\n",
       "                        <td id=\"T_7c532746_7d1b_11ec_b1b3_0c9d92c473d6row10_col7\" class=\"data row10 col7\" >0.0</td>\n",
       "                        <td id=\"T_7c532746_7d1b_11ec_b1b3_0c9d92c473d6row10_col8\" class=\"data row10 col8\" >0.0</td>\n",
       "                        <td id=\"T_7c532746_7d1b_11ec_b1b3_0c9d92c473d6row10_col9\" class=\"data row10 col9\" >0.0</td>\n",
       "                        <td id=\"T_7c532746_7d1b_11ec_b1b3_0c9d92c473d6row10_col10\" class=\"data row10 col10\" >0.0</td>\n",
       "                        <td id=\"T_7c532746_7d1b_11ec_b1b3_0c9d92c473d6row10_col11\" class=\"data row10 col11\" >0.0</td>\n",
       "                        <td id=\"T_7c532746_7d1b_11ec_b1b3_0c9d92c473d6row10_col12\" class=\"data row10 col12\" >0.0</td>\n",
       "                        <td id=\"T_7c532746_7d1b_11ec_b1b3_0c9d92c473d6row10_col13\" class=\"data row10 col13\" >0.0</td>\n",
       "                        <td id=\"T_7c532746_7d1b_11ec_b1b3_0c9d92c473d6row10_col14\" class=\"data row10 col14\" >0.0</td>\n",
       "                        <td id=\"T_7c532746_7d1b_11ec_b1b3_0c9d92c473d6row10_col15\" class=\"data row10 col15\" >0.0</td>\n",
       "                        <td id=\"T_7c532746_7d1b_11ec_b1b3_0c9d92c473d6row10_col16\" class=\"data row10 col16\" >0.0</td>\n",
       "                        <td id=\"T_7c532746_7d1b_11ec_b1b3_0c9d92c473d6row10_col17\" class=\"data row10 col17\" >0.0</td>\n",
       "                        <td id=\"T_7c532746_7d1b_11ec_b1b3_0c9d92c473d6row10_col18\" class=\"data row10 col18\" >0.0</td>\n",
       "                        <td id=\"T_7c532746_7d1b_11ec_b1b3_0c9d92c473d6row10_col19\" class=\"data row10 col19\" >0.0</td>\n",
       "                        <td id=\"T_7c532746_7d1b_11ec_b1b3_0c9d92c473d6row10_col20\" class=\"data row10 col20\" >0.0</td>\n",
       "                        <td id=\"T_7c532746_7d1b_11ec_b1b3_0c9d92c473d6row10_col21\" class=\"data row10 col21\" >0.0</td>\n",
       "                        <td id=\"T_7c532746_7d1b_11ec_b1b3_0c9d92c473d6row10_col22\" class=\"data row10 col22\" >0.0</td>\n",
       "                        <td id=\"T_7c532746_7d1b_11ec_b1b3_0c9d92c473d6row10_col23\" class=\"data row10 col23\" >0.0</td>\n",
       "            </tr>\n",
       "            <tr>\n",
       "                        <th id=\"T_7c532746_7d1b_11ec_b1b3_0c9d92c473d6level0_row11\" class=\"row_heading level0 row11\" >MSinceMostRecentDelq_bin_WOE</th>\n",
       "                        <td id=\"T_7c532746_7d1b_11ec_b1b3_0c9d92c473d6row11_col0\" class=\"data row11 col0\" >0.0</td>\n",
       "                        <td id=\"T_7c532746_7d1b_11ec_b1b3_0c9d92c473d6row11_col1\" class=\"data row11 col1\" >0.016</td>\n",
       "                        <td id=\"T_7c532746_7d1b_11ec_b1b3_0c9d92c473d6row11_col2\" class=\"data row11 col2\" >0.0</td>\n",
       "                        <td id=\"T_7c532746_7d1b_11ec_b1b3_0c9d92c473d6row11_col3\" class=\"data row11 col3\" >0.0</td>\n",
       "                        <td id=\"T_7c532746_7d1b_11ec_b1b3_0c9d92c473d6row11_col4\" class=\"data row11 col4\" >0.0</td>\n",
       "                        <td id=\"T_7c532746_7d1b_11ec_b1b3_0c9d92c473d6row11_col5\" class=\"data row11 col5\" >0.0</td>\n",
       "                        <td id=\"T_7c532746_7d1b_11ec_b1b3_0c9d92c473d6row11_col6\" class=\"data row11 col6\" >0.0</td>\n",
       "                        <td id=\"T_7c532746_7d1b_11ec_b1b3_0c9d92c473d6row11_col7\" class=\"data row11 col7\" >0.0</td>\n",
       "                        <td id=\"T_7c532746_7d1b_11ec_b1b3_0c9d92c473d6row11_col8\" class=\"data row11 col8\" >0.0</td>\n",
       "                        <td id=\"T_7c532746_7d1b_11ec_b1b3_0c9d92c473d6row11_col9\" class=\"data row11 col9\" >0.0</td>\n",
       "                        <td id=\"T_7c532746_7d1b_11ec_b1b3_0c9d92c473d6row11_col10\" class=\"data row11 col10\" >0.035</td>\n",
       "                        <td id=\"T_7c532746_7d1b_11ec_b1b3_0c9d92c473d6row11_col11\" class=\"data row11 col11\" >0.0</td>\n",
       "                        <td id=\"T_7c532746_7d1b_11ec_b1b3_0c9d92c473d6row11_col12\" class=\"data row11 col12\" >0.04</td>\n",
       "                        <td id=\"T_7c532746_7d1b_11ec_b1b3_0c9d92c473d6row11_col13\" class=\"data row11 col13\" >0.0</td>\n",
       "                        <td id=\"T_7c532746_7d1b_11ec_b1b3_0c9d92c473d6row11_col14\" class=\"data row11 col14\" >0.0</td>\n",
       "                        <td id=\"T_7c532746_7d1b_11ec_b1b3_0c9d92c473d6row11_col15\" class=\"data row11 col15\" >0.0</td>\n",
       "                        <td id=\"T_7c532746_7d1b_11ec_b1b3_0c9d92c473d6row11_col16\" class=\"data row11 col16\" >0.0</td>\n",
       "                        <td id=\"T_7c532746_7d1b_11ec_b1b3_0c9d92c473d6row11_col17\" class=\"data row11 col17\" >0.0</td>\n",
       "                        <td id=\"T_7c532746_7d1b_11ec_b1b3_0c9d92c473d6row11_col18\" class=\"data row11 col18\" >0.0</td>\n",
       "                        <td id=\"T_7c532746_7d1b_11ec_b1b3_0c9d92c473d6row11_col19\" class=\"data row11 col19\" >0.0</td>\n",
       "                        <td id=\"T_7c532746_7d1b_11ec_b1b3_0c9d92c473d6row11_col20\" class=\"data row11 col20\" >0.0</td>\n",
       "                        <td id=\"T_7c532746_7d1b_11ec_b1b3_0c9d92c473d6row11_col21\" class=\"data row11 col21\" >0.0</td>\n",
       "                        <td id=\"T_7c532746_7d1b_11ec_b1b3_0c9d92c473d6row11_col22\" class=\"data row11 col22\" >0.0</td>\n",
       "                        <td id=\"T_7c532746_7d1b_11ec_b1b3_0c9d92c473d6row11_col23\" class=\"data row11 col23\" >0.0</td>\n",
       "            </tr>\n",
       "            <tr>\n",
       "                        <th id=\"T_7c532746_7d1b_11ec_b1b3_0c9d92c473d6level0_row12\" class=\"row_heading level0 row12\" >MaxDelq2PublicRecLast12M_bin_WOE</th>\n",
       "                        <td id=\"T_7c532746_7d1b_11ec_b1b3_0c9d92c473d6row12_col0\" class=\"data row12 col0\" >0.0</td>\n",
       "                        <td id=\"T_7c532746_7d1b_11ec_b1b3_0c9d92c473d6row12_col1\" class=\"data row12 col1\" >0.029</td>\n",
       "                        <td id=\"T_7c532746_7d1b_11ec_b1b3_0c9d92c473d6row12_col2\" class=\"data row12 col2\" >0.0</td>\n",
       "                        <td id=\"T_7c532746_7d1b_11ec_b1b3_0c9d92c473d6row12_col3\" class=\"data row12 col3\" >0.0</td>\n",
       "                        <td id=\"T_7c532746_7d1b_11ec_b1b3_0c9d92c473d6row12_col4\" class=\"data row12 col4\" >0.0</td>\n",
       "                        <td id=\"T_7c532746_7d1b_11ec_b1b3_0c9d92c473d6row12_col5\" class=\"data row12 col5\" >0.0</td>\n",
       "                        <td id=\"T_7c532746_7d1b_11ec_b1b3_0c9d92c473d6row12_col6\" class=\"data row12 col6\" >0.0</td>\n",
       "                        <td id=\"T_7c532746_7d1b_11ec_b1b3_0c9d92c473d6row12_col7\" class=\"data row12 col7\" >0.0</td>\n",
       "                        <td id=\"T_7c532746_7d1b_11ec_b1b3_0c9d92c473d6row12_col8\" class=\"data row12 col8\" >0.0</td>\n",
       "                        <td id=\"T_7c532746_7d1b_11ec_b1b3_0c9d92c473d6row12_col9\" class=\"data row12 col9\" >0.0</td>\n",
       "                        <td id=\"T_7c532746_7d1b_11ec_b1b3_0c9d92c473d6row12_col10\" class=\"data row12 col10\" >0.012</td>\n",
       "                        <td id=\"T_7c532746_7d1b_11ec_b1b3_0c9d92c473d6row12_col11\" class=\"data row12 col11\" >0.0</td>\n",
       "                        <td id=\"T_7c532746_7d1b_11ec_b1b3_0c9d92c473d6row12_col12\" class=\"data row12 col12\" >0.0</td>\n",
       "                        <td id=\"T_7c532746_7d1b_11ec_b1b3_0c9d92c473d6row12_col13\" class=\"data row12 col13\" >0.0</td>\n",
       "                        <td id=\"T_7c532746_7d1b_11ec_b1b3_0c9d92c473d6row12_col14\" class=\"data row12 col14\" >0.0</td>\n",
       "                        <td id=\"T_7c532746_7d1b_11ec_b1b3_0c9d92c473d6row12_col15\" class=\"data row12 col15\" >0.0</td>\n",
       "                        <td id=\"T_7c532746_7d1b_11ec_b1b3_0c9d92c473d6row12_col16\" class=\"data row12 col16\" >0.0</td>\n",
       "                        <td id=\"T_7c532746_7d1b_11ec_b1b3_0c9d92c473d6row12_col17\" class=\"data row12 col17\" >0.0</td>\n",
       "                        <td id=\"T_7c532746_7d1b_11ec_b1b3_0c9d92c473d6row12_col18\" class=\"data row12 col18\" >0.0</td>\n",
       "                        <td id=\"T_7c532746_7d1b_11ec_b1b3_0c9d92c473d6row12_col19\" class=\"data row12 col19\" >0.0</td>\n",
       "                        <td id=\"T_7c532746_7d1b_11ec_b1b3_0c9d92c473d6row12_col20\" class=\"data row12 col20\" >0.007</td>\n",
       "                        <td id=\"T_7c532746_7d1b_11ec_b1b3_0c9d92c473d6row12_col21\" class=\"data row12 col21\" >0.0</td>\n",
       "                        <td id=\"T_7c532746_7d1b_11ec_b1b3_0c9d92c473d6row12_col22\" class=\"data row12 col22\" >0.0</td>\n",
       "                        <td id=\"T_7c532746_7d1b_11ec_b1b3_0c9d92c473d6row12_col23\" class=\"data row12 col23\" >0.0</td>\n",
       "            </tr>\n",
       "            <tr>\n",
       "                        <th id=\"T_7c532746_7d1b_11ec_b1b3_0c9d92c473d6level0_row13\" class=\"row_heading level0 row13\" >MaxDelqEver_bin_WOE</th>\n",
       "                        <td id=\"T_7c532746_7d1b_11ec_b1b3_0c9d92c473d6row13_col0\" class=\"data row13 col0\" >0.0</td>\n",
       "                        <td id=\"T_7c532746_7d1b_11ec_b1b3_0c9d92c473d6row13_col1\" class=\"data row13 col1\" >0.044</td>\n",
       "                        <td id=\"T_7c532746_7d1b_11ec_b1b3_0c9d92c473d6row13_col2\" class=\"data row13 col2\" >0.0</td>\n",
       "                        <td id=\"T_7c532746_7d1b_11ec_b1b3_0c9d92c473d6row13_col3\" class=\"data row13 col3\" >0.0</td>\n",
       "                        <td id=\"T_7c532746_7d1b_11ec_b1b3_0c9d92c473d6row13_col4\" class=\"data row13 col4\" >0.0</td>\n",
       "                        <td id=\"T_7c532746_7d1b_11ec_b1b3_0c9d92c473d6row13_col5\" class=\"data row13 col5\" >0.0</td>\n",
       "                        <td id=\"T_7c532746_7d1b_11ec_b1b3_0c9d92c473d6row13_col6\" class=\"data row13 col6\" >0.0</td>\n",
       "                        <td id=\"T_7c532746_7d1b_11ec_b1b3_0c9d92c473d6row13_col7\" class=\"data row13 col7\" >0.0</td>\n",
       "                        <td id=\"T_7c532746_7d1b_11ec_b1b3_0c9d92c473d6row13_col8\" class=\"data row13 col8\" >0.0</td>\n",
       "                        <td id=\"T_7c532746_7d1b_11ec_b1b3_0c9d92c473d6row13_col9\" class=\"data row13 col9\" >0.0</td>\n",
       "                        <td id=\"T_7c532746_7d1b_11ec_b1b3_0c9d92c473d6row13_col10\" class=\"data row13 col10\" >0.0</td>\n",
       "                        <td id=\"T_7c532746_7d1b_11ec_b1b3_0c9d92c473d6row13_col11\" class=\"data row13 col11\" >0.0</td>\n",
       "                        <td id=\"T_7c532746_7d1b_11ec_b1b3_0c9d92c473d6row13_col12\" class=\"data row13 col12\" >0.0</td>\n",
       "                        <td id=\"T_7c532746_7d1b_11ec_b1b3_0c9d92c473d6row13_col13\" class=\"data row13 col13\" >0.0</td>\n",
       "                        <td id=\"T_7c532746_7d1b_11ec_b1b3_0c9d92c473d6row13_col14\" class=\"data row13 col14\" >0.0</td>\n",
       "                        <td id=\"T_7c532746_7d1b_11ec_b1b3_0c9d92c473d6row13_col15\" class=\"data row13 col15\" >0.0</td>\n",
       "                        <td id=\"T_7c532746_7d1b_11ec_b1b3_0c9d92c473d6row13_col16\" class=\"data row13 col16\" >0.0</td>\n",
       "                        <td id=\"T_7c532746_7d1b_11ec_b1b3_0c9d92c473d6row13_col17\" class=\"data row13 col17\" >0.0</td>\n",
       "                        <td id=\"T_7c532746_7d1b_11ec_b1b3_0c9d92c473d6row13_col18\" class=\"data row13 col18\" >0.0</td>\n",
       "                        <td id=\"T_7c532746_7d1b_11ec_b1b3_0c9d92c473d6row13_col19\" class=\"data row13 col19\" >0.0</td>\n",
       "                        <td id=\"T_7c532746_7d1b_11ec_b1b3_0c9d92c473d6row13_col20\" class=\"data row13 col20\" >0.0</td>\n",
       "                        <td id=\"T_7c532746_7d1b_11ec_b1b3_0c9d92c473d6row13_col21\" class=\"data row13 col21\" >0.0</td>\n",
       "                        <td id=\"T_7c532746_7d1b_11ec_b1b3_0c9d92c473d6row13_col22\" class=\"data row13 col22\" >0.0</td>\n",
       "                        <td id=\"T_7c532746_7d1b_11ec_b1b3_0c9d92c473d6row13_col23\" class=\"data row13 col23\" >0.0</td>\n",
       "            </tr>\n",
       "            <tr>\n",
       "                        <th id=\"T_7c532746_7d1b_11ec_b1b3_0c9d92c473d6level0_row14\" class=\"row_heading level0 row14\" >PercentInstallTrades_bin_WOE</th>\n",
       "                        <td id=\"T_7c532746_7d1b_11ec_b1b3_0c9d92c473d6row14_col0\" class=\"data row14 col0\" >0.0</td>\n",
       "                        <td id=\"T_7c532746_7d1b_11ec_b1b3_0c9d92c473d6row14_col1\" class=\"data row14 col1\" >0.008</td>\n",
       "                        <td id=\"T_7c532746_7d1b_11ec_b1b3_0c9d92c473d6row14_col2\" class=\"data row14 col2\" >0.0</td>\n",
       "                        <td id=\"T_7c532746_7d1b_11ec_b1b3_0c9d92c473d6row14_col3\" class=\"data row14 col3\" >0.0</td>\n",
       "                        <td id=\"T_7c532746_7d1b_11ec_b1b3_0c9d92c473d6row14_col4\" class=\"data row14 col4\" >0.0</td>\n",
       "                        <td id=\"T_7c532746_7d1b_11ec_b1b3_0c9d92c473d6row14_col5\" class=\"data row14 col5\" >0.0</td>\n",
       "                        <td id=\"T_7c532746_7d1b_11ec_b1b3_0c9d92c473d6row14_col6\" class=\"data row14 col6\" >0.0</td>\n",
       "                        <td id=\"T_7c532746_7d1b_11ec_b1b3_0c9d92c473d6row14_col7\" class=\"data row14 col7\" >0.0</td>\n",
       "                        <td id=\"T_7c532746_7d1b_11ec_b1b3_0c9d92c473d6row14_col8\" class=\"data row14 col8\" >0.0</td>\n",
       "                        <td id=\"T_7c532746_7d1b_11ec_b1b3_0c9d92c473d6row14_col9\" class=\"data row14 col9\" >0.0</td>\n",
       "                        <td id=\"T_7c532746_7d1b_11ec_b1b3_0c9d92c473d6row14_col10\" class=\"data row14 col10\" >0.0</td>\n",
       "                        <td id=\"T_7c532746_7d1b_11ec_b1b3_0c9d92c473d6row14_col11\" class=\"data row14 col11\" >0.0</td>\n",
       "                        <td id=\"T_7c532746_7d1b_11ec_b1b3_0c9d92c473d6row14_col12\" class=\"data row14 col12\" >0.0</td>\n",
       "                        <td id=\"T_7c532746_7d1b_11ec_b1b3_0c9d92c473d6row14_col13\" class=\"data row14 col13\" >0.0</td>\n",
       "                        <td id=\"T_7c532746_7d1b_11ec_b1b3_0c9d92c473d6row14_col14\" class=\"data row14 col14\" >0.0</td>\n",
       "                        <td id=\"T_7c532746_7d1b_11ec_b1b3_0c9d92c473d6row14_col15\" class=\"data row14 col15\" >0.0</td>\n",
       "                        <td id=\"T_7c532746_7d1b_11ec_b1b3_0c9d92c473d6row14_col16\" class=\"data row14 col16\" >0.0</td>\n",
       "                        <td id=\"T_7c532746_7d1b_11ec_b1b3_0c9d92c473d6row14_col17\" class=\"data row14 col17\" >0.0</td>\n",
       "                        <td id=\"T_7c532746_7d1b_11ec_b1b3_0c9d92c473d6row14_col18\" class=\"data row14 col18\" >0.0</td>\n",
       "                        <td id=\"T_7c532746_7d1b_11ec_b1b3_0c9d92c473d6row14_col19\" class=\"data row14 col19\" >0.0</td>\n",
       "                        <td id=\"T_7c532746_7d1b_11ec_b1b3_0c9d92c473d6row14_col20\" class=\"data row14 col20\" >0.007</td>\n",
       "                        <td id=\"T_7c532746_7d1b_11ec_b1b3_0c9d92c473d6row14_col21\" class=\"data row14 col21\" >0.0</td>\n",
       "                        <td id=\"T_7c532746_7d1b_11ec_b1b3_0c9d92c473d6row14_col22\" class=\"data row14 col22\" >0.0</td>\n",
       "                        <td id=\"T_7c532746_7d1b_11ec_b1b3_0c9d92c473d6row14_col23\" class=\"data row14 col23\" >0.02</td>\n",
       "            </tr>\n",
       "            <tr>\n",
       "                        <th id=\"T_7c532746_7d1b_11ec_b1b3_0c9d92c473d6level0_row15\" class=\"row_heading level0 row15\" >NetFractionInstallBurden_bin_WOE</th>\n",
       "                        <td id=\"T_7c532746_7d1b_11ec_b1b3_0c9d92c473d6row15_col0\" class=\"data row15 col0\" >0.0</td>\n",
       "                        <td id=\"T_7c532746_7d1b_11ec_b1b3_0c9d92c473d6row15_col1\" class=\"data row15 col1\" >0.0</td>\n",
       "                        <td id=\"T_7c532746_7d1b_11ec_b1b3_0c9d92c473d6row15_col2\" class=\"data row15 col2\" >0.0</td>\n",
       "                        <td id=\"T_7c532746_7d1b_11ec_b1b3_0c9d92c473d6row15_col3\" class=\"data row15 col3\" >0.0</td>\n",
       "                        <td id=\"T_7c532746_7d1b_11ec_b1b3_0c9d92c473d6row15_col4\" class=\"data row15 col4\" >0.0</td>\n",
       "                        <td id=\"T_7c532746_7d1b_11ec_b1b3_0c9d92c473d6row15_col5\" class=\"data row15 col5\" >0.0</td>\n",
       "                        <td id=\"T_7c532746_7d1b_11ec_b1b3_0c9d92c473d6row15_col6\" class=\"data row15 col6\" >0.0</td>\n",
       "                        <td id=\"T_7c532746_7d1b_11ec_b1b3_0c9d92c473d6row15_col7\" class=\"data row15 col7\" >0.0</td>\n",
       "                        <td id=\"T_7c532746_7d1b_11ec_b1b3_0c9d92c473d6row15_col8\" class=\"data row15 col8\" >0.0</td>\n",
       "                        <td id=\"T_7c532746_7d1b_11ec_b1b3_0c9d92c473d6row15_col9\" class=\"data row15 col9\" >0.0</td>\n",
       "                        <td id=\"T_7c532746_7d1b_11ec_b1b3_0c9d92c473d6row15_col10\" class=\"data row15 col10\" >0.0</td>\n",
       "                        <td id=\"T_7c532746_7d1b_11ec_b1b3_0c9d92c473d6row15_col11\" class=\"data row15 col11\" >0.0</td>\n",
       "                        <td id=\"T_7c532746_7d1b_11ec_b1b3_0c9d92c473d6row15_col12\" class=\"data row15 col12\" >0.0</td>\n",
       "                        <td id=\"T_7c532746_7d1b_11ec_b1b3_0c9d92c473d6row15_col13\" class=\"data row15 col13\" >0.0</td>\n",
       "                        <td id=\"T_7c532746_7d1b_11ec_b1b3_0c9d92c473d6row15_col14\" class=\"data row15 col14\" >0.0</td>\n",
       "                        <td id=\"T_7c532746_7d1b_11ec_b1b3_0c9d92c473d6row15_col15\" class=\"data row15 col15\" >0.0</td>\n",
       "                        <td id=\"T_7c532746_7d1b_11ec_b1b3_0c9d92c473d6row15_col16\" class=\"data row15 col16\" >0.0</td>\n",
       "                        <td id=\"T_7c532746_7d1b_11ec_b1b3_0c9d92c473d6row15_col17\" class=\"data row15 col17\" >0.0</td>\n",
       "                        <td id=\"T_7c532746_7d1b_11ec_b1b3_0c9d92c473d6row15_col18\" class=\"data row15 col18\" >0.0</td>\n",
       "                        <td id=\"T_7c532746_7d1b_11ec_b1b3_0c9d92c473d6row15_col19\" class=\"data row15 col19\" >0.0</td>\n",
       "                        <td id=\"T_7c532746_7d1b_11ec_b1b3_0c9d92c473d6row15_col20\" class=\"data row15 col20\" >0.0</td>\n",
       "                        <td id=\"T_7c532746_7d1b_11ec_b1b3_0c9d92c473d6row15_col21\" class=\"data row15 col21\" >0.0</td>\n",
       "                        <td id=\"T_7c532746_7d1b_11ec_b1b3_0c9d92c473d6row15_col22\" class=\"data row15 col22\" >0.0</td>\n",
       "                        <td id=\"T_7c532746_7d1b_11ec_b1b3_0c9d92c473d6row15_col23\" class=\"data row15 col23\" >0.0</td>\n",
       "            </tr>\n",
       "            <tr>\n",
       "                        <th id=\"T_7c532746_7d1b_11ec_b1b3_0c9d92c473d6level0_row16\" class=\"row_heading level0 row16\" >NumInstallTradesWBalance_bin_WOE</th>\n",
       "                        <td id=\"T_7c532746_7d1b_11ec_b1b3_0c9d92c473d6row16_col0\" class=\"data row16 col0\" >0.0</td>\n",
       "                        <td id=\"T_7c532746_7d1b_11ec_b1b3_0c9d92c473d6row16_col1\" class=\"data row16 col1\" >0.011</td>\n",
       "                        <td id=\"T_7c532746_7d1b_11ec_b1b3_0c9d92c473d6row16_col2\" class=\"data row16 col2\" >0.0</td>\n",
       "                        <td id=\"T_7c532746_7d1b_11ec_b1b3_0c9d92c473d6row16_col3\" class=\"data row16 col3\" >0.0</td>\n",
       "                        <td id=\"T_7c532746_7d1b_11ec_b1b3_0c9d92c473d6row16_col4\" class=\"data row16 col4\" >0.0</td>\n",
       "                        <td id=\"T_7c532746_7d1b_11ec_b1b3_0c9d92c473d6row16_col5\" class=\"data row16 col5\" >0.0</td>\n",
       "                        <td id=\"T_7c532746_7d1b_11ec_b1b3_0c9d92c473d6row16_col6\" class=\"data row16 col6\" >0.0</td>\n",
       "                        <td id=\"T_7c532746_7d1b_11ec_b1b3_0c9d92c473d6row16_col7\" class=\"data row16 col7\" >0.0</td>\n",
       "                        <td id=\"T_7c532746_7d1b_11ec_b1b3_0c9d92c473d6row16_col8\" class=\"data row16 col8\" >0.0</td>\n",
       "                        <td id=\"T_7c532746_7d1b_11ec_b1b3_0c9d92c473d6row16_col9\" class=\"data row16 col9\" >0.0</td>\n",
       "                        <td id=\"T_7c532746_7d1b_11ec_b1b3_0c9d92c473d6row16_col10\" class=\"data row16 col10\" >0.0</td>\n",
       "                        <td id=\"T_7c532746_7d1b_11ec_b1b3_0c9d92c473d6row16_col11\" class=\"data row16 col11\" >0.0</td>\n",
       "                        <td id=\"T_7c532746_7d1b_11ec_b1b3_0c9d92c473d6row16_col12\" class=\"data row16 col12\" >0.0</td>\n",
       "                        <td id=\"T_7c532746_7d1b_11ec_b1b3_0c9d92c473d6row16_col13\" class=\"data row16 col13\" >0.0</td>\n",
       "                        <td id=\"T_7c532746_7d1b_11ec_b1b3_0c9d92c473d6row16_col14\" class=\"data row16 col14\" >0.0</td>\n",
       "                        <td id=\"T_7c532746_7d1b_11ec_b1b3_0c9d92c473d6row16_col15\" class=\"data row16 col15\" >0.0</td>\n",
       "                        <td id=\"T_7c532746_7d1b_11ec_b1b3_0c9d92c473d6row16_col16\" class=\"data row16 col16\" >0.0</td>\n",
       "                        <td id=\"T_7c532746_7d1b_11ec_b1b3_0c9d92c473d6row16_col17\" class=\"data row16 col17\" >0.03</td>\n",
       "                        <td id=\"T_7c532746_7d1b_11ec_b1b3_0c9d92c473d6row16_col18\" class=\"data row16 col18\" >0.0</td>\n",
       "                        <td id=\"T_7c532746_7d1b_11ec_b1b3_0c9d92c473d6row16_col19\" class=\"data row16 col19\" >0.0</td>\n",
       "                        <td id=\"T_7c532746_7d1b_11ec_b1b3_0c9d92c473d6row16_col20\" class=\"data row16 col20\" >0.0</td>\n",
       "                        <td id=\"T_7c532746_7d1b_11ec_b1b3_0c9d92c473d6row16_col21\" class=\"data row16 col21\" >0.0</td>\n",
       "                        <td id=\"T_7c532746_7d1b_11ec_b1b3_0c9d92c473d6row16_col22\" class=\"data row16 col22\" >0.0</td>\n",
       "                        <td id=\"T_7c532746_7d1b_11ec_b1b3_0c9d92c473d6row16_col23\" class=\"data row16 col23\" >0.0</td>\n",
       "            </tr>\n",
       "            <tr>\n",
       "                        <th id=\"T_7c532746_7d1b_11ec_b1b3_0c9d92c473d6level0_row17\" class=\"row_heading level0 row17\" >MSinceMostRecentInqexcl7days_bin_WOE</th>\n",
       "                        <td id=\"T_7c532746_7d1b_11ec_b1b3_0c9d92c473d6row17_col0\" class=\"data row17 col0\" >0.007</td>\n",
       "                        <td id=\"T_7c532746_7d1b_11ec_b1b3_0c9d92c473d6row17_col1\" class=\"data row17 col1\" >0.0</td>\n",
       "                        <td id=\"T_7c532746_7d1b_11ec_b1b3_0c9d92c473d6row17_col2\" class=\"data row17 col2\" >0.0</td>\n",
       "                        <td id=\"T_7c532746_7d1b_11ec_b1b3_0c9d92c473d6row17_col3\" class=\"data row17 col3\" >0.0</td>\n",
       "                        <td id=\"T_7c532746_7d1b_11ec_b1b3_0c9d92c473d6row17_col4\" class=\"data row17 col4\" >0.0</td>\n",
       "                        <td id=\"T_7c532746_7d1b_11ec_b1b3_0c9d92c473d6row17_col5\" class=\"data row17 col5\" >0.0</td>\n",
       "                        <td id=\"T_7c532746_7d1b_11ec_b1b3_0c9d92c473d6row17_col6\" class=\"data row17 col6\" >0.0</td>\n",
       "                        <td id=\"T_7c532746_7d1b_11ec_b1b3_0c9d92c473d6row17_col7\" class=\"data row17 col7\" >0.0</td>\n",
       "                        <td id=\"T_7c532746_7d1b_11ec_b1b3_0c9d92c473d6row17_col8\" class=\"data row17 col8\" >0.0</td>\n",
       "                        <td id=\"T_7c532746_7d1b_11ec_b1b3_0c9d92c473d6row17_col9\" class=\"data row17 col9\" >0.0</td>\n",
       "                        <td id=\"T_7c532746_7d1b_11ec_b1b3_0c9d92c473d6row17_col10\" class=\"data row17 col10\" >0.0</td>\n",
       "                        <td id=\"T_7c532746_7d1b_11ec_b1b3_0c9d92c473d6row17_col11\" class=\"data row17 col11\" >0.0</td>\n",
       "                        <td id=\"T_7c532746_7d1b_11ec_b1b3_0c9d92c473d6row17_col12\" class=\"data row17 col12\" >0.0</td>\n",
       "                        <td id=\"T_7c532746_7d1b_11ec_b1b3_0c9d92c473d6row17_col13\" class=\"data row17 col13\" >0.0</td>\n",
       "                        <td id=\"T_7c532746_7d1b_11ec_b1b3_0c9d92c473d6row17_col14\" class=\"data row17 col14\" >0.0</td>\n",
       "                        <td id=\"T_7c532746_7d1b_11ec_b1b3_0c9d92c473d6row17_col15\" class=\"data row17 col15\" >0.0</td>\n",
       "                        <td id=\"T_7c532746_7d1b_11ec_b1b3_0c9d92c473d6row17_col16\" class=\"data row17 col16\" >0.0</td>\n",
       "                        <td id=\"T_7c532746_7d1b_11ec_b1b3_0c9d92c473d6row17_col17\" class=\"data row17 col17\" >0.0</td>\n",
       "                        <td id=\"T_7c532746_7d1b_11ec_b1b3_0c9d92c473d6row17_col18\" class=\"data row17 col18\" >0.0</td>\n",
       "                        <td id=\"T_7c532746_7d1b_11ec_b1b3_0c9d92c473d6row17_col19\" class=\"data row17 col19\" >0.0</td>\n",
       "                        <td id=\"T_7c532746_7d1b_11ec_b1b3_0c9d92c473d6row17_col20\" class=\"data row17 col20\" >0.0</td>\n",
       "                        <td id=\"T_7c532746_7d1b_11ec_b1b3_0c9d92c473d6row17_col21\" class=\"data row17 col21\" >0.0</td>\n",
       "                        <td id=\"T_7c532746_7d1b_11ec_b1b3_0c9d92c473d6row17_col22\" class=\"data row17 col22\" >0.0</td>\n",
       "                        <td id=\"T_7c532746_7d1b_11ec_b1b3_0c9d92c473d6row17_col23\" class=\"data row17 col23\" >0.0</td>\n",
       "            </tr>\n",
       "            <tr>\n",
       "                        <th id=\"T_7c532746_7d1b_11ec_b1b3_0c9d92c473d6level0_row18\" class=\"row_heading level0 row18\" >NumInqLast6M_bin_WOE</th>\n",
       "                        <td id=\"T_7c532746_7d1b_11ec_b1b3_0c9d92c473d6row18_col0\" class=\"data row18 col0\" >0.0</td>\n",
       "                        <td id=\"T_7c532746_7d1b_11ec_b1b3_0c9d92c473d6row18_col1\" class=\"data row18 col1\" >0.014</td>\n",
       "                        <td id=\"T_7c532746_7d1b_11ec_b1b3_0c9d92c473d6row18_col2\" class=\"data row18 col2\" >0.0</td>\n",
       "                        <td id=\"T_7c532746_7d1b_11ec_b1b3_0c9d92c473d6row18_col3\" class=\"data row18 col3\" >0.0</td>\n",
       "                        <td id=\"T_7c532746_7d1b_11ec_b1b3_0c9d92c473d6row18_col4\" class=\"data row18 col4\" >0.0</td>\n",
       "                        <td id=\"T_7c532746_7d1b_11ec_b1b3_0c9d92c473d6row18_col5\" class=\"data row18 col5\" >0.0</td>\n",
       "                        <td id=\"T_7c532746_7d1b_11ec_b1b3_0c9d92c473d6row18_col6\" class=\"data row18 col6\" >0.0</td>\n",
       "                        <td id=\"T_7c532746_7d1b_11ec_b1b3_0c9d92c473d6row18_col7\" class=\"data row18 col7\" >0.0</td>\n",
       "                        <td id=\"T_7c532746_7d1b_11ec_b1b3_0c9d92c473d6row18_col8\" class=\"data row18 col8\" >0.0</td>\n",
       "                        <td id=\"T_7c532746_7d1b_11ec_b1b3_0c9d92c473d6row18_col9\" class=\"data row18 col9\" >0.0</td>\n",
       "                        <td id=\"T_7c532746_7d1b_11ec_b1b3_0c9d92c473d6row18_col10\" class=\"data row18 col10\" >0.0</td>\n",
       "                        <td id=\"T_7c532746_7d1b_11ec_b1b3_0c9d92c473d6row18_col11\" class=\"data row18 col11\" >0.0</td>\n",
       "                        <td id=\"T_7c532746_7d1b_11ec_b1b3_0c9d92c473d6row18_col12\" class=\"data row18 col12\" >0.0</td>\n",
       "                        <td id=\"T_7c532746_7d1b_11ec_b1b3_0c9d92c473d6row18_col13\" class=\"data row18 col13\" >0.0</td>\n",
       "                        <td id=\"T_7c532746_7d1b_11ec_b1b3_0c9d92c473d6row18_col14\" class=\"data row18 col14\" >0.0</td>\n",
       "                        <td id=\"T_7c532746_7d1b_11ec_b1b3_0c9d92c473d6row18_col15\" class=\"data row18 col15\" >0.0</td>\n",
       "                        <td id=\"T_7c532746_7d1b_11ec_b1b3_0c9d92c473d6row18_col16\" class=\"data row18 col16\" >0.0</td>\n",
       "                        <td id=\"T_7c532746_7d1b_11ec_b1b3_0c9d92c473d6row18_col17\" class=\"data row18 col17\" >0.029</td>\n",
       "                        <td id=\"T_7c532746_7d1b_11ec_b1b3_0c9d92c473d6row18_col18\" class=\"data row18 col18\" >0.0</td>\n",
       "                        <td id=\"T_7c532746_7d1b_11ec_b1b3_0c9d92c473d6row18_col19\" class=\"data row18 col19\" >0.0</td>\n",
       "                        <td id=\"T_7c532746_7d1b_11ec_b1b3_0c9d92c473d6row18_col20\" class=\"data row18 col20\" >0.0</td>\n",
       "                        <td id=\"T_7c532746_7d1b_11ec_b1b3_0c9d92c473d6row18_col21\" class=\"data row18 col21\" >0.0</td>\n",
       "                        <td id=\"T_7c532746_7d1b_11ec_b1b3_0c9d92c473d6row18_col22\" class=\"data row18 col22\" >0.0</td>\n",
       "                        <td id=\"T_7c532746_7d1b_11ec_b1b3_0c9d92c473d6row18_col23\" class=\"data row18 col23\" >0.0</td>\n",
       "            </tr>\n",
       "            <tr>\n",
       "                        <th id=\"T_7c532746_7d1b_11ec_b1b3_0c9d92c473d6level0_row19\" class=\"row_heading level0 row19\" >NumInqLast6Mexcl7days_bin_WOE</th>\n",
       "                        <td id=\"T_7c532746_7d1b_11ec_b1b3_0c9d92c473d6row19_col0\" class=\"data row19 col0\" >0.0</td>\n",
       "                        <td id=\"T_7c532746_7d1b_11ec_b1b3_0c9d92c473d6row19_col1\" class=\"data row19 col1\" >0.0</td>\n",
       "                        <td id=\"T_7c532746_7d1b_11ec_b1b3_0c9d92c473d6row19_col2\" class=\"data row19 col2\" >0.0</td>\n",
       "                        <td id=\"T_7c532746_7d1b_11ec_b1b3_0c9d92c473d6row19_col3\" class=\"data row19 col3\" >0.0</td>\n",
       "                        <td id=\"T_7c532746_7d1b_11ec_b1b3_0c9d92c473d6row19_col4\" class=\"data row19 col4\" >0.0</td>\n",
       "                        <td id=\"T_7c532746_7d1b_11ec_b1b3_0c9d92c473d6row19_col5\" class=\"data row19 col5\" >0.0</td>\n",
       "                        <td id=\"T_7c532746_7d1b_11ec_b1b3_0c9d92c473d6row19_col6\" class=\"data row19 col6\" >0.0</td>\n",
       "                        <td id=\"T_7c532746_7d1b_11ec_b1b3_0c9d92c473d6row19_col7\" class=\"data row19 col7\" >0.0</td>\n",
       "                        <td id=\"T_7c532746_7d1b_11ec_b1b3_0c9d92c473d6row19_col8\" class=\"data row19 col8\" >0.0</td>\n",
       "                        <td id=\"T_7c532746_7d1b_11ec_b1b3_0c9d92c473d6row19_col9\" class=\"data row19 col9\" >0.0</td>\n",
       "                        <td id=\"T_7c532746_7d1b_11ec_b1b3_0c9d92c473d6row19_col10\" class=\"data row19 col10\" >0.0</td>\n",
       "                        <td id=\"T_7c532746_7d1b_11ec_b1b3_0c9d92c473d6row19_col11\" class=\"data row19 col11\" >0.0</td>\n",
       "                        <td id=\"T_7c532746_7d1b_11ec_b1b3_0c9d92c473d6row19_col12\" class=\"data row19 col12\" >0.0</td>\n",
       "                        <td id=\"T_7c532746_7d1b_11ec_b1b3_0c9d92c473d6row19_col13\" class=\"data row19 col13\" >0.0</td>\n",
       "                        <td id=\"T_7c532746_7d1b_11ec_b1b3_0c9d92c473d6row19_col14\" class=\"data row19 col14\" >0.0</td>\n",
       "                        <td id=\"T_7c532746_7d1b_11ec_b1b3_0c9d92c473d6row19_col15\" class=\"data row19 col15\" >0.0</td>\n",
       "                        <td id=\"T_7c532746_7d1b_11ec_b1b3_0c9d92c473d6row19_col16\" class=\"data row19 col16\" >0.0</td>\n",
       "                        <td id=\"T_7c532746_7d1b_11ec_b1b3_0c9d92c473d6row19_col17\" class=\"data row19 col17\" >0.0</td>\n",
       "                        <td id=\"T_7c532746_7d1b_11ec_b1b3_0c9d92c473d6row19_col18\" class=\"data row19 col18\" >0.0</td>\n",
       "                        <td id=\"T_7c532746_7d1b_11ec_b1b3_0c9d92c473d6row19_col19\" class=\"data row19 col19\" >0.0</td>\n",
       "                        <td id=\"T_7c532746_7d1b_11ec_b1b3_0c9d92c473d6row19_col20\" class=\"data row19 col20\" >0.0</td>\n",
       "                        <td id=\"T_7c532746_7d1b_11ec_b1b3_0c9d92c473d6row19_col21\" class=\"data row19 col21\" >0.0</td>\n",
       "                        <td id=\"T_7c532746_7d1b_11ec_b1b3_0c9d92c473d6row19_col22\" class=\"data row19 col22\" >0.0</td>\n",
       "                        <td id=\"T_7c532746_7d1b_11ec_b1b3_0c9d92c473d6row19_col23\" class=\"data row19 col23\" >0.0</td>\n",
       "            </tr>\n",
       "            <tr>\n",
       "                        <th id=\"T_7c532746_7d1b_11ec_b1b3_0c9d92c473d6level0_row20\" class=\"row_heading level0 row20\" >NetFractionRevolvingBurden_bin_WOE</th>\n",
       "                        <td id=\"T_7c532746_7d1b_11ec_b1b3_0c9d92c473d6row20_col0\" class=\"data row20 col0\" >0.0</td>\n",
       "                        <td id=\"T_7c532746_7d1b_11ec_b1b3_0c9d92c473d6row20_col1\" class=\"data row20 col1\" >0.02</td>\n",
       "                        <td id=\"T_7c532746_7d1b_11ec_b1b3_0c9d92c473d6row20_col2\" class=\"data row20 col2\" >0.0</td>\n",
       "                        <td id=\"T_7c532746_7d1b_11ec_b1b3_0c9d92c473d6row20_col3\" class=\"data row20 col3\" >0.0</td>\n",
       "                        <td id=\"T_7c532746_7d1b_11ec_b1b3_0c9d92c473d6row20_col4\" class=\"data row20 col4\" >0.0</td>\n",
       "                        <td id=\"T_7c532746_7d1b_11ec_b1b3_0c9d92c473d6row20_col5\" class=\"data row20 col5\" >0.0</td>\n",
       "                        <td id=\"T_7c532746_7d1b_11ec_b1b3_0c9d92c473d6row20_col6\" class=\"data row20 col6\" >0.0</td>\n",
       "                        <td id=\"T_7c532746_7d1b_11ec_b1b3_0c9d92c473d6row20_col7\" class=\"data row20 col7\" >0.0</td>\n",
       "                        <td id=\"T_7c532746_7d1b_11ec_b1b3_0c9d92c473d6row20_col8\" class=\"data row20 col8\" >0.0</td>\n",
       "                        <td id=\"T_7c532746_7d1b_11ec_b1b3_0c9d92c473d6row20_col9\" class=\"data row20 col9\" >0.0</td>\n",
       "                        <td id=\"T_7c532746_7d1b_11ec_b1b3_0c9d92c473d6row20_col10\" class=\"data row20 col10\" >0.0</td>\n",
       "                        <td id=\"T_7c532746_7d1b_11ec_b1b3_0c9d92c473d6row20_col11\" class=\"data row20 col11\" >0.0</td>\n",
       "                        <td id=\"T_7c532746_7d1b_11ec_b1b3_0c9d92c473d6row20_col12\" class=\"data row20 col12\" >0.0</td>\n",
       "                        <td id=\"T_7c532746_7d1b_11ec_b1b3_0c9d92c473d6row20_col13\" class=\"data row20 col13\" >0.0</td>\n",
       "                        <td id=\"T_7c532746_7d1b_11ec_b1b3_0c9d92c473d6row20_col14\" class=\"data row20 col14\" >0.0</td>\n",
       "                        <td id=\"T_7c532746_7d1b_11ec_b1b3_0c9d92c473d6row20_col15\" class=\"data row20 col15\" >0.0</td>\n",
       "                        <td id=\"T_7c532746_7d1b_11ec_b1b3_0c9d92c473d6row20_col16\" class=\"data row20 col16\" >0.0</td>\n",
       "                        <td id=\"T_7c532746_7d1b_11ec_b1b3_0c9d92c473d6row20_col17\" class=\"data row20 col17\" >0.0</td>\n",
       "                        <td id=\"T_7c532746_7d1b_11ec_b1b3_0c9d92c473d6row20_col18\" class=\"data row20 col18\" >0.0</td>\n",
       "                        <td id=\"T_7c532746_7d1b_11ec_b1b3_0c9d92c473d6row20_col19\" class=\"data row20 col19\" >0.0</td>\n",
       "                        <td id=\"T_7c532746_7d1b_11ec_b1b3_0c9d92c473d6row20_col20\" class=\"data row20 col20\" >0.0</td>\n",
       "                        <td id=\"T_7c532746_7d1b_11ec_b1b3_0c9d92c473d6row20_col21\" class=\"data row20 col21\" >0.0</td>\n",
       "                        <td id=\"T_7c532746_7d1b_11ec_b1b3_0c9d92c473d6row20_col22\" class=\"data row20 col22\" >0.011</td>\n",
       "                        <td id=\"T_7c532746_7d1b_11ec_b1b3_0c9d92c473d6row20_col23\" class=\"data row20 col23\" >0.0</td>\n",
       "            </tr>\n",
       "            <tr>\n",
       "                        <th id=\"T_7c532746_7d1b_11ec_b1b3_0c9d92c473d6level0_row21\" class=\"row_heading level0 row21\" >NumRevolvingTradesWBalance_bin_WOE</th>\n",
       "                        <td id=\"T_7c532746_7d1b_11ec_b1b3_0c9d92c473d6row21_col0\" class=\"data row21 col0\" >0.0</td>\n",
       "                        <td id=\"T_7c532746_7d1b_11ec_b1b3_0c9d92c473d6row21_col1\" class=\"data row21 col1\" >0.014</td>\n",
       "                        <td id=\"T_7c532746_7d1b_11ec_b1b3_0c9d92c473d6row21_col2\" class=\"data row21 col2\" >0.0</td>\n",
       "                        <td id=\"T_7c532746_7d1b_11ec_b1b3_0c9d92c473d6row21_col3\" class=\"data row21 col3\" >0.0</td>\n",
       "                        <td id=\"T_7c532746_7d1b_11ec_b1b3_0c9d92c473d6row21_col4\" class=\"data row21 col4\" >0.0</td>\n",
       "                        <td id=\"T_7c532746_7d1b_11ec_b1b3_0c9d92c473d6row21_col5\" class=\"data row21 col5\" >0.008</td>\n",
       "                        <td id=\"T_7c532746_7d1b_11ec_b1b3_0c9d92c473d6row21_col6\" class=\"data row21 col6\" >0.0</td>\n",
       "                        <td id=\"T_7c532746_7d1b_11ec_b1b3_0c9d92c473d6row21_col7\" class=\"data row21 col7\" >0.0</td>\n",
       "                        <td id=\"T_7c532746_7d1b_11ec_b1b3_0c9d92c473d6row21_col8\" class=\"data row21 col8\" >0.0</td>\n",
       "                        <td id=\"T_7c532746_7d1b_11ec_b1b3_0c9d92c473d6row21_col9\" class=\"data row21 col9\" >0.0</td>\n",
       "                        <td id=\"T_7c532746_7d1b_11ec_b1b3_0c9d92c473d6row21_col10\" class=\"data row21 col10\" >0.0</td>\n",
       "                        <td id=\"T_7c532746_7d1b_11ec_b1b3_0c9d92c473d6row21_col11\" class=\"data row21 col11\" >0.0</td>\n",
       "                        <td id=\"T_7c532746_7d1b_11ec_b1b3_0c9d92c473d6row21_col12\" class=\"data row21 col12\" >0.0</td>\n",
       "                        <td id=\"T_7c532746_7d1b_11ec_b1b3_0c9d92c473d6row21_col13\" class=\"data row21 col13\" >0.0</td>\n",
       "                        <td id=\"T_7c532746_7d1b_11ec_b1b3_0c9d92c473d6row21_col14\" class=\"data row21 col14\" >0.025</td>\n",
       "                        <td id=\"T_7c532746_7d1b_11ec_b1b3_0c9d92c473d6row21_col15\" class=\"data row21 col15\" >0.0</td>\n",
       "                        <td id=\"T_7c532746_7d1b_11ec_b1b3_0c9d92c473d6row21_col16\" class=\"data row21 col16\" >0.0</td>\n",
       "                        <td id=\"T_7c532746_7d1b_11ec_b1b3_0c9d92c473d6row21_col17\" class=\"data row21 col17\" >0.0</td>\n",
       "                        <td id=\"T_7c532746_7d1b_11ec_b1b3_0c9d92c473d6row21_col18\" class=\"data row21 col18\" >0.0</td>\n",
       "                        <td id=\"T_7c532746_7d1b_11ec_b1b3_0c9d92c473d6row21_col19\" class=\"data row21 col19\" >0.0</td>\n",
       "                        <td id=\"T_7c532746_7d1b_11ec_b1b3_0c9d92c473d6row21_col20\" class=\"data row21 col20\" >0.009</td>\n",
       "                        <td id=\"T_7c532746_7d1b_11ec_b1b3_0c9d92c473d6row21_col21\" class=\"data row21 col21\" >0.0</td>\n",
       "                        <td id=\"T_7c532746_7d1b_11ec_b1b3_0c9d92c473d6row21_col22\" class=\"data row21 col22\" >0.038</td>\n",
       "                        <td id=\"T_7c532746_7d1b_11ec_b1b3_0c9d92c473d6row21_col23\" class=\"data row21 col23\" >0.03</td>\n",
       "            </tr>\n",
       "            <tr>\n",
       "                        <th id=\"T_7c532746_7d1b_11ec_b1b3_0c9d92c473d6level0_row22\" class=\"row_heading level0 row22\" >NumBank2NatlTradesWHighUtilization_bin_WOE</th>\n",
       "                        <td id=\"T_7c532746_7d1b_11ec_b1b3_0c9d92c473d6row22_col0\" class=\"data row22 col0\" >0.0</td>\n",
       "                        <td id=\"T_7c532746_7d1b_11ec_b1b3_0c9d92c473d6row22_col1\" class=\"data row22 col1\" >0.011</td>\n",
       "                        <td id=\"T_7c532746_7d1b_11ec_b1b3_0c9d92c473d6row22_col2\" class=\"data row22 col2\" >0.0</td>\n",
       "                        <td id=\"T_7c532746_7d1b_11ec_b1b3_0c9d92c473d6row22_col3\" class=\"data row22 col3\" >0.0</td>\n",
       "                        <td id=\"T_7c532746_7d1b_11ec_b1b3_0c9d92c473d6row22_col4\" class=\"data row22 col4\" >0.0</td>\n",
       "                        <td id=\"T_7c532746_7d1b_11ec_b1b3_0c9d92c473d6row22_col5\" class=\"data row22 col5\" >0.0</td>\n",
       "                        <td id=\"T_7c532746_7d1b_11ec_b1b3_0c9d92c473d6row22_col6\" class=\"data row22 col6\" >0.0</td>\n",
       "                        <td id=\"T_7c532746_7d1b_11ec_b1b3_0c9d92c473d6row22_col7\" class=\"data row22 col7\" >0.0</td>\n",
       "                        <td id=\"T_7c532746_7d1b_11ec_b1b3_0c9d92c473d6row22_col8\" class=\"data row22 col8\" >0.0</td>\n",
       "                        <td id=\"T_7c532746_7d1b_11ec_b1b3_0c9d92c473d6row22_col9\" class=\"data row22 col9\" >0.0</td>\n",
       "                        <td id=\"T_7c532746_7d1b_11ec_b1b3_0c9d92c473d6row22_col10\" class=\"data row22 col10\" >0.0</td>\n",
       "                        <td id=\"T_7c532746_7d1b_11ec_b1b3_0c9d92c473d6row22_col11\" class=\"data row22 col11\" >0.0</td>\n",
       "                        <td id=\"T_7c532746_7d1b_11ec_b1b3_0c9d92c473d6row22_col12\" class=\"data row22 col12\" >0.0</td>\n",
       "                        <td id=\"T_7c532746_7d1b_11ec_b1b3_0c9d92c473d6row22_col13\" class=\"data row22 col13\" >0.0</td>\n",
       "                        <td id=\"T_7c532746_7d1b_11ec_b1b3_0c9d92c473d6row22_col14\" class=\"data row22 col14\" >0.0</td>\n",
       "                        <td id=\"T_7c532746_7d1b_11ec_b1b3_0c9d92c473d6row22_col15\" class=\"data row22 col15\" >0.0</td>\n",
       "                        <td id=\"T_7c532746_7d1b_11ec_b1b3_0c9d92c473d6row22_col16\" class=\"data row22 col16\" >0.0</td>\n",
       "                        <td id=\"T_7c532746_7d1b_11ec_b1b3_0c9d92c473d6row22_col17\" class=\"data row22 col17\" >0.0</td>\n",
       "                        <td id=\"T_7c532746_7d1b_11ec_b1b3_0c9d92c473d6row22_col18\" class=\"data row22 col18\" >0.0</td>\n",
       "                        <td id=\"T_7c532746_7d1b_11ec_b1b3_0c9d92c473d6row22_col19\" class=\"data row22 col19\" >0.0</td>\n",
       "                        <td id=\"T_7c532746_7d1b_11ec_b1b3_0c9d92c473d6row22_col20\" class=\"data row22 col20\" >0.0</td>\n",
       "                        <td id=\"T_7c532746_7d1b_11ec_b1b3_0c9d92c473d6row22_col21\" class=\"data row22 col21\" >0.0</td>\n",
       "                        <td id=\"T_7c532746_7d1b_11ec_b1b3_0c9d92c473d6row22_col22\" class=\"data row22 col22\" >0.0</td>\n",
       "                        <td id=\"T_7c532746_7d1b_11ec_b1b3_0c9d92c473d6row22_col23\" class=\"data row22 col23\" >0.0</td>\n",
       "            </tr>\n",
       "            <tr>\n",
       "                        <th id=\"T_7c532746_7d1b_11ec_b1b3_0c9d92c473d6level0_row23\" class=\"row_heading level0 row23\" >PercentTradesWBalance_bin_WOE</th>\n",
       "                        <td id=\"T_7c532746_7d1b_11ec_b1b3_0c9d92c473d6row23_col0\" class=\"data row23 col0\" >0.0</td>\n",
       "                        <td id=\"T_7c532746_7d1b_11ec_b1b3_0c9d92c473d6row23_col1\" class=\"data row23 col1\" >0.0</td>\n",
       "                        <td id=\"T_7c532746_7d1b_11ec_b1b3_0c9d92c473d6row23_col2\" class=\"data row23 col2\" >0.0</td>\n",
       "                        <td id=\"T_7c532746_7d1b_11ec_b1b3_0c9d92c473d6row23_col3\" class=\"data row23 col3\" >0.0</td>\n",
       "                        <td id=\"T_7c532746_7d1b_11ec_b1b3_0c9d92c473d6row23_col4\" class=\"data row23 col4\" >0.0</td>\n",
       "                        <td id=\"T_7c532746_7d1b_11ec_b1b3_0c9d92c473d6row23_col5\" class=\"data row23 col5\" >0.0</td>\n",
       "                        <td id=\"T_7c532746_7d1b_11ec_b1b3_0c9d92c473d6row23_col6\" class=\"data row23 col6\" >0.0</td>\n",
       "                        <td id=\"T_7c532746_7d1b_11ec_b1b3_0c9d92c473d6row23_col7\" class=\"data row23 col7\" >0.0</td>\n",
       "                        <td id=\"T_7c532746_7d1b_11ec_b1b3_0c9d92c473d6row23_col8\" class=\"data row23 col8\" >0.0</td>\n",
       "                        <td id=\"T_7c532746_7d1b_11ec_b1b3_0c9d92c473d6row23_col9\" class=\"data row23 col9\" >0.0</td>\n",
       "                        <td id=\"T_7c532746_7d1b_11ec_b1b3_0c9d92c473d6row23_col10\" class=\"data row23 col10\" >0.0</td>\n",
       "                        <td id=\"T_7c532746_7d1b_11ec_b1b3_0c9d92c473d6row23_col11\" class=\"data row23 col11\" >0.0</td>\n",
       "                        <td id=\"T_7c532746_7d1b_11ec_b1b3_0c9d92c473d6row23_col12\" class=\"data row23 col12\" >0.0</td>\n",
       "                        <td id=\"T_7c532746_7d1b_11ec_b1b3_0c9d92c473d6row23_col13\" class=\"data row23 col13\" >0.0</td>\n",
       "                        <td id=\"T_7c532746_7d1b_11ec_b1b3_0c9d92c473d6row23_col14\" class=\"data row23 col14\" >0.0</td>\n",
       "                        <td id=\"T_7c532746_7d1b_11ec_b1b3_0c9d92c473d6row23_col15\" class=\"data row23 col15\" >0.0</td>\n",
       "                        <td id=\"T_7c532746_7d1b_11ec_b1b3_0c9d92c473d6row23_col16\" class=\"data row23 col16\" >0.0</td>\n",
       "                        <td id=\"T_7c532746_7d1b_11ec_b1b3_0c9d92c473d6row23_col17\" class=\"data row23 col17\" >0.0</td>\n",
       "                        <td id=\"T_7c532746_7d1b_11ec_b1b3_0c9d92c473d6row23_col18\" class=\"data row23 col18\" >0.0</td>\n",
       "                        <td id=\"T_7c532746_7d1b_11ec_b1b3_0c9d92c473d6row23_col19\" class=\"data row23 col19\" >0.0</td>\n",
       "                        <td id=\"T_7c532746_7d1b_11ec_b1b3_0c9d92c473d6row23_col20\" class=\"data row23 col20\" >0.023</td>\n",
       "                        <td id=\"T_7c532746_7d1b_11ec_b1b3_0c9d92c473d6row23_col21\" class=\"data row23 col21\" >0.0</td>\n",
       "                        <td id=\"T_7c532746_7d1b_11ec_b1b3_0c9d92c473d6row23_col22\" class=\"data row23 col22\" >0.0</td>\n",
       "                        <td id=\"T_7c532746_7d1b_11ec_b1b3_0c9d92c473d6row23_col23\" class=\"data row23 col23\" >0.0</td>\n",
       "            </tr>\n",
       "    </tbody></table>"
      ],
      "text/plain": [
       "<pandas.io.formats.style.Styler at 0x7ff27d0bc4a8>"
      ]
     },
     "metadata": {},
     "output_type": "display_data"
    },
    {
     "name": "stdout",
     "output_type": "stream",
     "text": [
      "Total Number of Edges in G: 42\n",
      "Max in degree: 14\n",
      "DAG: True\n"
     ]
    },
    {
     "data": {
      "text/html": [
       "\n",
       "        <iframe\n",
       "            width=\"100%\"\n",
       "            height=\"600px\"\n",
       "            src=\"a.html\"\n",
       "            frameborder=\"0\"\n",
       "            allowfullscreen\n",
       "        ></iframe>\n",
       "        "
      ],
      "text/plain": [
       "<IPython.lib.display.IFrame at 0x7ff27cd41400>"
      ]
     },
     "execution_count": 17,
     "metadata": {},
     "output_type": "execute_result"
    }
   ],
   "source": [
    "dag_type = 'fico'\n",
    "csv = './data/fico/WOE_Rud_data.csv'\n",
    "csv_y = './data/fico/y_data.csv'\n",
    "df = pd.read_csv(csv)\n",
    "label = 'RiskPerformance'\n",
    "y = pd.read_csv(os.path.join(csv_y))\n",
    "y = pd.get_dummies(y[label])[['Bad']].to_numpy()\n",
    "df.insert(loc=0, column=label, value=y)\n",
    "from utils import DAG_retreive_np, heat_mat, plot_DAG\n",
    "\n",
    "\n",
    "import re\n",
    "dset = '100000'\n",
    "theta = '0.006'\n",
    "version = dag_type+\"_3\"\n",
    "folder = \"./results/adjmats/\"\n",
    "list_edges = []\n",
    "count = 0\n",
    "W_est = np.zeros((df.shape[1],df.shape[1]))\n",
    "# print(W_est.shape)\n",
    "for filename in os.listdir(folder):\n",
    "#     print(filename)\n",
    "    if version in ['v3','p1']:\n",
    "        match = re.search(f'W_est.{dset}.([\\w]+).([\\w.]+).{version}.pkl$', filename)\n",
    "    else:\n",
    "        match = re.search(f'W_est.{dset}.(\\d).(\\d).{theta}(\\d+)?.{version}.pkl$', filename)\n",
    "    if match:\n",
    "#         print( match.groups())\n",
    "#         print(filename)\n",
    "        out_f, in_f, _ = match.groups()\n",
    "        w_est = load_pickle(os.path.join(folder,filename), verbose=False)\n",
    "#         print(sum(w_est.flatten()>0))\n",
    "#         print(w_est)\n",
    "        # print(w_est.shape)\n",
    "        W_est += w_est\n",
    "#         print(W_est)\n",
    "        count += 1\n",
    "W_est = W_est/count\n",
    "# print(W_est)\n",
    "# print((W_est).flatten())\n",
    "# print(sum((W_est).flatten()>0))\n",
    "\n",
    "tau = float(theta)\n",
    "print(\"tau:\",tau)\n",
    "maxed_adj = DAG_retreive_np(W_est, tau)\n",
    "heat_mat(maxed_adj, names= df.columns.values)\n",
    "plot_DAG(maxed_adj, graphic_type = \"py\", names = list(df.columns))"
   ]
  },
  {
   "cell_type": "code",
   "execution_count": null,
   "metadata": {},
   "outputs": [],
   "source": [
    "save_mat = True\n",
    "if save_mat:\n",
    "    pd.DataFrame(W_est).to_csv(f\"{dag_type}_adj_matrix.csv\", index=False)"
   ]
  },
  {
   "cell_type": "code",
   "execution_count": 94,
   "metadata": {},
   "outputs": [
    {
     "name": "stdout",
     "output_type": "stream",
     "text": [
      "100\n",
      "       0   1         2          \n",
      "         max      mean       std\n",
      "0 -1.000  10  0.747526  0.012529\n",
      "1  0.006  10  0.500000  0.000000\n",
      "200\n",
      "       0   1         2          \n",
      "         max      mean       std\n",
      "0 -1.000  10  0.786898  0.005297\n",
      "1  0.006  10  0.500000  0.000000\n",
      "300\n",
      "       0   1         2          \n",
      "         max      mean       std\n",
      "0 -1.000  10  0.790780  0.005481\n",
      "1  0.006  10  0.714671  0.002736\n",
      "400\n",
      "       0   1         2          \n",
      "         max      mean       std\n",
      "0 -1.000  10  0.793683  0.001849\n",
      "1  0.006  10  0.500000  0.000000\n",
      "500\n",
      "       0   1         2          \n",
      "         max      mean       std\n",
      "0 -1.000  10  0.794163  0.002011\n",
      "1  0.006  10  0.790653  0.002072\n",
      "1000\n",
      "       0   1         2          \n",
      "         max      mean       std\n",
      "0 -1.000  10  0.794397  0.003449\n",
      "1  0.006  10  0.792225  0.002034\n",
      "2000\n",
      "       0   1         2          \n",
      "         max      mean       std\n",
      "0 -1.000  10  0.794649  0.003458\n",
      "1  0.006  10  0.793043  0.002927\n",
      "4000\n",
      "       0   1         2          \n",
      "         max      mean       std\n",
      "0 -1.000  10  0.797028  0.002279\n",
      "1  0.006  10  0.777349  0.001081\n",
      "8000\n",
      "       0   1         2          \n",
      "         max      mean       std\n",
      "0 -1.000  10  0.797389  0.001373\n",
      "1  0.006  10  0.793371  0.000905\n"
     ]
    },
    {
     "data": {
      "text/html": [
       "<div>\n",
       "<style scoped>\n",
       "    .dataframe tbody tr th:only-of-type {\n",
       "        vertical-align: middle;\n",
       "    }\n",
       "\n",
       "    .dataframe tbody tr th {\n",
       "        vertical-align: top;\n",
       "    }\n",
       "\n",
       "    .dataframe thead th {\n",
       "        text-align: right;\n",
       "    }\n",
       "</style>\n",
       "<table border=\"1\" class=\"dataframe\">\n",
       "  <thead>\n",
       "    <tr style=\"text-align: right;\">\n",
       "      <th>theta</th>\n",
       "      <th>Injected</th>\n",
       "      <th>Unconstrained</th>\n",
       "    </tr>\n",
       "    <tr>\n",
       "      <th>Dset_sz</th>\n",
       "      <th></th>\n",
       "      <th></th>\n",
       "    </tr>\n",
       "  </thead>\n",
       "  <tbody>\n",
       "    <tr>\n",
       "      <th>100</th>\n",
       "      <td>0.500 (0.00)</td>\n",
       "      <td>0.748 (0.01)</td>\n",
       "    </tr>\n",
       "    <tr>\n",
       "      <th>200</th>\n",
       "      <td>0.500 (0.00)</td>\n",
       "      <td>0.787 (0.01)</td>\n",
       "    </tr>\n",
       "    <tr>\n",
       "      <th>300</th>\n",
       "      <td>0.715 (0.00)</td>\n",
       "      <td>0.791 (0.01)</td>\n",
       "    </tr>\n",
       "    <tr>\n",
       "      <th>400</th>\n",
       "      <td>0.500 (0.00)</td>\n",
       "      <td>0.794 (0.00)</td>\n",
       "    </tr>\n",
       "    <tr>\n",
       "      <th>500</th>\n",
       "      <td>0.791 (0.00)</td>\n",
       "      <td>0.794 (0.00)</td>\n",
       "    </tr>\n",
       "    <tr>\n",
       "      <th>1000</th>\n",
       "      <td>0.792 (0.00)</td>\n",
       "      <td>0.794 (0.00)</td>\n",
       "    </tr>\n",
       "    <tr>\n",
       "      <th>2000</th>\n",
       "      <td>0.793 (0.00)</td>\n",
       "      <td>0.795 (0.00)</td>\n",
       "    </tr>\n",
       "    <tr>\n",
       "      <th>4000</th>\n",
       "      <td>0.777 (0.00)</td>\n",
       "      <td>0.797 (0.00)</td>\n",
       "    </tr>\n",
       "    <tr>\n",
       "      <th>8000</th>\n",
       "      <td>0.793 (0.00)</td>\n",
       "      <td>0.797 (0.00)</td>\n",
       "    </tr>\n",
       "  </tbody>\n",
       "</table>\n",
       "</div>"
      ],
      "text/plain": [
       "theta        Injected Unconstrained\n",
       "Dset_sz                            \n",
       "100      0.500 (0.00)  0.748 (0.01)\n",
       "200      0.500 (0.00)  0.787 (0.01)\n",
       "300      0.715 (0.00)  0.791 (0.01)\n",
       "400      0.500 (0.00)  0.794 (0.00)\n",
       "500      0.791 (0.00)  0.794 (0.00)\n",
       "1000     0.792 (0.00)  0.794 (0.00)\n",
       "2000     0.793 (0.00)  0.795 (0.00)\n",
       "4000     0.777 (0.00)  0.797 (0.00)\n",
       "8000     0.793 (0.00)  0.797 (0.00)"
      ]
     },
     "metadata": {},
     "output_type": "display_data"
    },
    {
     "name": "stdout",
     "output_type": "stream",
     "text": [
      "['Injected' 'Unconstrained']\n",
      "\\begin{tabular}{rcc}\n",
      "Dataset & \\multicolumn{1}{c}{Injected} & \\multicolumn{1}{c}{Unconstrained}\\\\ \n",
      "\\hline \n",
      "100  &  \\!0.500 (0.00)\\! &  \\!0.748 (0.01)\\! \\\\\n",
      "200  &  \\!0.500 (0.00)\\! &  \\!0.787 (0.01)\\! \\\\\n",
      "300  &  \\!0.715 (0.00)\\! &  \\!0.791 (0.01)\\! \\\\\n",
      "400  &  \\!0.500 (0.00)\\! &  \\!0.794 (0.00)\\! \\\\\n",
      "500  &  \\!0.791 (0.00)\\! &  \\!0.794 (0.00)\\! \\\\\n",
      "1000 &  \\!0.792 (0.00)\\! &  \\!0.794 (0.00)\\! \\\\\n",
      "2000 &  \\!0.793 (0.00)\\! &  \\!0.795 (0.00)\\! \\\\\n",
      "4000 &  \\!0.777 (0.00)\\! &  \\!0.797 (0.00)\\! \\\\\n",
      "8000 &  \\!0.793 (0.00)\\! &  \\!0.797 (0.00)\\! \\\\\n",
      "\\hline\n",
      "\\end{tabular}\n",
      "\n"
     ]
    }
   ],
   "source": [
    "import networkx as nx\n",
    "debug=True\n",
    "\n",
    "W_est = pd.read_csv(f\"{dag_type}_adj_matrix.csv\").to_numpy()\n",
    "\n",
    "v = f'{dag_type}_size2'\n",
    "agg_stats_all = pd.DataFrame()\n",
    "\n",
    "metric = 'auc'\n",
    "theta = 0.006 ## fico: 0.006\n",
    "# size_list = [100,500,1000,4000,8000] ##fico\n",
    "# size_list = [50,100,200,300,400,506] ## boston\n",
    "size_list = [int(i) for i in [\"100\",\"200\",\"300\",\"400\",\"500\",\"1000\",\"2000\",\"4000\",\"8000\"]]\n",
    "# out_folds = 5 ##fico\n",
    "out_folds = 1\n",
    "# metric = 'accuracy' ##fico\n",
    "\n",
    "\n",
    "for size in size_list:\n",
    "    # filename = f\"5FoldCASTLE.Reg.Synth.{size}.pkl\"\n",
    "# for size in [50,100,200,500,1000]:\n",
    "    filename = f\"results/Nested{out_folds}FoldCASTLE.Reg.Synth.{size}.{v}.pkl\"\n",
    "    describe = load_pickle(os.path.join(filename), verbose=False)\n",
    "\n",
    "    if debug:\n",
    "        print(size)\n",
    "        print(pd.DataFrame([(describe[c]['theta'],describe[c]['fold'],describe[c][metric]) for c in describe]).groupby(0, as_index=False).agg({1 : ['max'], 2 : ['mean', 'std']}))\n",
    "\n",
    "    agg_stats = pd.DataFrame([(describe[c]['theta'],describe[c]['fold'],describe[c][metric]) for c in describe]).groupby(0, as_index=False).agg({1 : ['max'], 2 : ['mean', 'std']})\n",
    "    agg_stats.columns = ['theta', 'folds', 'accuracy_mean', 'accuracy_std']\n",
    "\n",
    "    agg_stats.loc[agg_stats['theta']==-1,'theta'] = -0.05\n",
    "\n",
    "    # display(agg_stats)\n",
    "\n",
    "    n_edges = pd.DataFrame([(theta, nx.from_numpy_matrix(DAG_retreive_np(W_est, theta), create_using=nx.DiGraph, parallel_edges=False).number_of_edges()) for theta in agg_stats['theta']])\n",
    "\n",
    "    n_edges.loc[n_edges[0]==-1,0] = -0.05\n",
    "    n_edges.loc[n_edges[0]==-0.05,1] = nx.from_numpy_matrix(W_est, create_using=nx.DiGraph, parallel_edges=False).number_of_edges()\n",
    "\n",
    "    # display(n_edges)\n",
    "\n",
    "    n_edges_DAG = n_edges.merge(pd.DataFrame([(theta, nx.is_directed_acyclic_graph(nx.from_numpy_matrix(DAG_retreive_np(W_est, theta), create_using=nx.DiGraph, parallel_edges=False))) for theta in agg_stats['theta']]), on=0)\n",
    "\n",
    "    n_edges_DAG.columns = ['theta', 'N_edges', 'is_DAG']\n",
    "\n",
    "    agg_stats.merge(n_edges_DAG,on='theta')\n",
    "    agg_stats['Dset_sz'] = size\n",
    "\n",
    "    # display(agg_stats)\n",
    "\n",
    "    agg_stats_all = pd.concat([agg_stats_all,agg_stats])\n",
    "\n",
    "agg_stats_all\n",
    "\n",
    "ds = agg_stats_all[['theta', 'accuracy_mean', 'accuracy_std','Dset_sz']]\n",
    "\n",
    "ds['values'] = [\"{0:.3f}\".format(round(mean,3))+\" ({0:.2f})\".format(round(std,2)) for mean,std in zip(ds['accuracy_mean'],ds['accuracy_std']) ]\n",
    "ds.loc[ds['theta']==-0.05,'theta'] = \"Unconstrained\"\n",
    "ds.loc[ds['theta']==theta,'theta'] = \"Injected\"\n",
    "table = ds.pivot(index='Dset_sz',columns='theta', values='values')\n",
    "\n",
    "display(table)\n",
    "\n",
    "\n",
    "def compute_top_2(names):\n",
    "    t = ''\n",
    "    pcount = round(len(names)/len(np.unique(names)))\n",
    "    _, idx = np.unique(names, return_index=True)\n",
    "    names = names[np.sort(idx)]\n",
    "    print(names)\n",
    "    for i in range(len(names)):\n",
    "        t += ' & \\multicolumn{' + str(pcount) + '}{c}{' + str(names[i]) + '}'\n",
    "    return t\n",
    "            \n",
    "# top1 = '\\multirow{2}{*}{Dataset} & \\multirow{2}{*}{BC$^{*}$}' + compute_top(table.columns.values[1:]) + '\\\\\\\\'\n",
    "top1 = 'Dataset' + compute_top_2(table.columns.values) + '\\\\\\\\ \\n\\hline '\n",
    "\n",
    "print_table = lambda table, top : table.to_latex(escape = False, index = True, index_names = False, header =False,\n",
    "                     formatters=[(lambda x : '\\!' + str(x) + '\\!') for col in table.columns.values],\n",
    "#                      header = [f'\\!\\!{nice_relations[col[-1:]] if col != \"BC\" else \"\"}\\!\\!' for col in table.columns.values],\\\n",
    "                     column_format = 'r' + 'c' * (len(table.columns.values)),\n",
    "                    ).replace(r'\\toprule', top).replace(r'\\midrule', r'\\hline').replace(r'\\bottomrule', r'\\hline').replace('.0%', '%').replace('\\!%', '\\!0%').replace('%', '\\%')\n",
    "\n",
    "print(print_table(table, top1))"
   ]
  },
  {
   "cell_type": "markdown",
   "metadata": {},
   "source": [
    "## Adult"
   ]
  },
  {
   "cell_type": "code",
   "execution_count": 5,
   "metadata": {
    "tags": []
   },
   "outputs": [
    {
     "data": {
      "text/html": [
       "<div>\n",
       "<style scoped>\n",
       "    .dataframe tbody tr th:only-of-type {\n",
       "        vertical-align: middle;\n",
       "    }\n",
       "\n",
       "    .dataframe tbody tr th {\n",
       "        vertical-align: top;\n",
       "    }\n",
       "\n",
       "    .dataframe thead th {\n",
       "        text-align: right;\n",
       "    }\n",
       "</style>\n",
       "<table border=\"1\" class=\"dataframe\">\n",
       "  <thead>\n",
       "    <tr style=\"text-align: right;\">\n",
       "      <th></th>\n",
       "      <th>theta</th>\n",
       "      <th>count</th>\n",
       "      <th>folds</th>\n",
       "      <th>accuracy_mean</th>\n",
       "      <th>accuracy_std</th>\n",
       "      <th>N_edges</th>\n",
       "      <th>Std</th>\n",
       "    </tr>\n",
       "  </thead>\n",
       "  <tbody>\n",
       "    <tr>\n",
       "      <th>0</th>\n",
       "      <td>-0.07</td>\n",
       "      <td>25</td>\n",
       "      <td>5</td>\n",
       "      <td>0.747038</td>\n",
       "      <td>0.027878</td>\n",
       "      <td>210.00</td>\n",
       "      <td>0.000000</td>\n",
       "    </tr>\n",
       "    <tr>\n",
       "      <th>1</th>\n",
       "      <td>0.00</td>\n",
       "      <td>25</td>\n",
       "      <td>5</td>\n",
       "      <td>0.863468</td>\n",
       "      <td>0.005990</td>\n",
       "      <td>105.00</td>\n",
       "      <td>0.000000</td>\n",
       "    </tr>\n",
       "    <tr>\n",
       "      <th>3</th>\n",
       "      <td>0.08</td>\n",
       "      <td>25</td>\n",
       "      <td>5</td>\n",
       "      <td>0.855648</td>\n",
       "      <td>0.010548</td>\n",
       "      <td>46.20</td>\n",
       "      <td>1.979057</td>\n",
       "    </tr>\n",
       "    <tr>\n",
       "      <th>4</th>\n",
       "      <td>0.10</td>\n",
       "      <td>25</td>\n",
       "      <td>5</td>\n",
       "      <td>0.851808</td>\n",
       "      <td>0.006541</td>\n",
       "      <td>40.80</td>\n",
       "      <td>2.614065</td>\n",
       "    </tr>\n",
       "    <tr>\n",
       "      <th>5</th>\n",
       "      <td>0.12</td>\n",
       "      <td>25</td>\n",
       "      <td>5</td>\n",
       "      <td>0.850752</td>\n",
       "      <td>0.006104</td>\n",
       "      <td>36.60</td>\n",
       "      <td>2.783882</td>\n",
       "    </tr>\n",
       "    <tr>\n",
       "      <th>6</th>\n",
       "      <td>0.14</td>\n",
       "      <td>25</td>\n",
       "      <td>5</td>\n",
       "      <td>0.820374</td>\n",
       "      <td>0.059331</td>\n",
       "      <td>32.20</td>\n",
       "      <td>1.354006</td>\n",
       "    </tr>\n",
       "    <tr>\n",
       "      <th>7</th>\n",
       "      <td>0.16</td>\n",
       "      <td>25</td>\n",
       "      <td>5</td>\n",
       "      <td>0.783488</td>\n",
       "      <td>0.063420</td>\n",
       "      <td>30.80</td>\n",
       "      <td>1.190238</td>\n",
       "    </tr>\n",
       "    <tr>\n",
       "      <th>8</th>\n",
       "      <td>0.18</td>\n",
       "      <td>20</td>\n",
       "      <td>5</td>\n",
       "      <td>0.653790</td>\n",
       "      <td>0.161708</td>\n",
       "      <td>29.75</td>\n",
       "      <td>1.332785</td>\n",
       "    </tr>\n",
       "    <tr>\n",
       "      <th>11</th>\n",
       "      <td>0.28</td>\n",
       "      <td>5</td>\n",
       "      <td>5</td>\n",
       "      <td>0.500000</td>\n",
       "      <td>0.000000</td>\n",
       "      <td>27.00</td>\n",
       "      <td>0.000000</td>\n",
       "    </tr>\n",
       "    <tr>\n",
       "      <th>12</th>\n",
       "      <td>0.32</td>\n",
       "      <td>5</td>\n",
       "      <td>5</td>\n",
       "      <td>0.500000</td>\n",
       "      <td>0.000000</td>\n",
       "      <td>25.00</td>\n",
       "      <td>0.000000</td>\n",
       "    </tr>\n",
       "    <tr>\n",
       "      <th>13</th>\n",
       "      <td>0.40</td>\n",
       "      <td>5</td>\n",
       "      <td>5</td>\n",
       "      <td>0.500000</td>\n",
       "      <td>0.000000</td>\n",
       "      <td>24.00</td>\n",
       "      <td>0.000000</td>\n",
       "    </tr>\n",
       "  </tbody>\n",
       "</table>\n",
       "</div>"
      ],
      "text/plain": [
       "    theta  count  folds  accuracy_mean  accuracy_std  N_edges       Std\n",
       "0   -0.07     25      5       0.747038      0.027878   210.00  0.000000\n",
       "1    0.00     25      5       0.863468      0.005990   105.00  0.000000\n",
       "3    0.08     25      5       0.855648      0.010548    46.20  1.979057\n",
       "4    0.10     25      5       0.851808      0.006541    40.80  2.614065\n",
       "5    0.12     25      5       0.850752      0.006104    36.60  2.783882\n",
       "6    0.14     25      5       0.820374      0.059331    32.20  1.354006\n",
       "7    0.16     25      5       0.783488      0.063420    30.80  1.190238\n",
       "8    0.18     20      5       0.653790      0.161708    29.75  1.332785\n",
       "11   0.28      5      5       0.500000      0.000000    27.00  0.000000\n",
       "12   0.32      5      5       0.500000      0.000000    25.00  0.000000\n",
       "13   0.40      5      5       0.500000      0.000000    24.00  0.000000"
      ]
     },
     "metadata": {},
     "output_type": "display_data"
    },
    {
     "data": {
      "application/vnd.plotly.v1+json": {
       "config": {
        "plotlyServerURL": "https://plot.ly"
       },
       "data": [
        {
         "error_y": {
          "array": [
           0.027877660048992642,
           0.005990399399860237,
           0.01054767635363887,
           0.006540974206346158,
           0.006103871560386087,
           0.05933110504372719,
           0.06342043968175894,
           0.1617077132642796,
           0,
           0,
           0
          ],
          "type": "data",
          "visible": true
         },
         "name": "AUC",
         "type": "scatter",
         "x": [
          -0.07,
          0,
          0.08,
          0.1,
          0.12,
          0.14,
          0.16,
          0.18,
          0.28,
          0.32,
          0.4
         ],
         "xaxis": "x",
         "y": [
          0.7470380696274307,
          0.8634678058914658,
          0.8556479446454784,
          0.8518079280265499,
          0.8507520186685801,
          0.8203743640360259,
          0.7834881839086392,
          0.6537895255246378,
          0.5,
          0.5,
          0.5
         ],
         "yaxis": "y2"
        },
        {
         "error_y": {
          "array": [
           0,
           0,
           1.9790570145063204,
           2.6140645235596867,
           2.7838821814150116,
           1.3540064007726602,
           1.1902380714238083,
           1.3327849749579577,
           0,
           0,
           0
          ],
          "type": "data",
          "visible": true
         },
         "name": "Edges",
         "type": "scatter",
         "x": [
          -0.07,
          0,
          0.08,
          0.1,
          0.12,
          0.14,
          0.16,
          0.18,
          0.28,
          0.32,
          0.4
         ],
         "xaxis": "x",
         "y": [
          210,
          105,
          46.2,
          40.8,
          36.6,
          32.2,
          30.8,
          29.75,
          27,
          25,
          24
         ],
         "yaxis": "y"
        }
       ],
       "layout": {
        "annotations": [
         {
          "showarrow": false,
          "text": "CASTLE",
          "x": 0.02,
          "xref": "paper",
          "y": -0.094,
          "yref": "paper",
          "yshift": 0
         },
         {
          "ax": 0,
          "ay": 165,
          "showarrow": true,
          "text": "0.08",
          "x": 0.08,
          "xref": "x",
          "y": 0.8556,
          "yref": "y2",
          "yshift": 0
         },
         {
          "ax": 300,
          "ay": 0,
          "showarrow": true,
          "text": "0.86",
          "x": 0.08,
          "xref": "x",
          "y": 0.8556,
          "yref": "y2",
          "yshift": 0
         },
         {
          "ax": -150,
          "ay": 0,
          "showarrow": true,
          "text": "46",
          "x": 0.08,
          "xref": "x",
          "y": 46.2,
          "yref": "y",
          "yshift": 0
         }
        ],
        "autosize": true,
        "font": {
         "family": "Serif",
         "size": 18
        },
        "height": 250,
        "legend": {
         "orientation": "h",
         "x": 0.85,
         "xanchor": "center",
         "y": -0.23,
         "yanchor": "bottom"
        },
        "margin": {
         "b": 0,
         "l": 10,
         "pad": 0,
         "r": 10,
         "t": 10
        },
        "template": {
         "data": {
          "bar": [
           {
            "error_x": {
             "color": "#2a3f5f"
            },
            "error_y": {
             "color": "#2a3f5f"
            },
            "marker": {
             "line": {
              "color": "white",
              "width": 0.5
             },
             "pattern": {
              "fillmode": "overlay",
              "size": 10,
              "solidity": 0.2
             }
            },
            "type": "bar"
           }
          ],
          "barpolar": [
           {
            "marker": {
             "line": {
              "color": "white",
              "width": 0.5
             },
             "pattern": {
              "fillmode": "overlay",
              "size": 10,
              "solidity": 0.2
             }
            },
            "type": "barpolar"
           }
          ],
          "carpet": [
           {
            "aaxis": {
             "endlinecolor": "#2a3f5f",
             "gridcolor": "#C8D4E3",
             "linecolor": "#C8D4E3",
             "minorgridcolor": "#C8D4E3",
             "startlinecolor": "#2a3f5f"
            },
            "baxis": {
             "endlinecolor": "#2a3f5f",
             "gridcolor": "#C8D4E3",
             "linecolor": "#C8D4E3",
             "minorgridcolor": "#C8D4E3",
             "startlinecolor": "#2a3f5f"
            },
            "type": "carpet"
           }
          ],
          "choropleth": [
           {
            "colorbar": {
             "outlinewidth": 0,
             "ticks": ""
            },
            "type": "choropleth"
           }
          ],
          "contour": [
           {
            "colorbar": {
             "outlinewidth": 0,
             "ticks": ""
            },
            "colorscale": [
             [
              0,
              "#0d0887"
             ],
             [
              0.1111111111111111,
              "#46039f"
             ],
             [
              0.2222222222222222,
              "#7201a8"
             ],
             [
              0.3333333333333333,
              "#9c179e"
             ],
             [
              0.4444444444444444,
              "#bd3786"
             ],
             [
              0.5555555555555556,
              "#d8576b"
             ],
             [
              0.6666666666666666,
              "#ed7953"
             ],
             [
              0.7777777777777778,
              "#fb9f3a"
             ],
             [
              0.8888888888888888,
              "#fdca26"
             ],
             [
              1,
              "#f0f921"
             ]
            ],
            "type": "contour"
           }
          ],
          "contourcarpet": [
           {
            "colorbar": {
             "outlinewidth": 0,
             "ticks": ""
            },
            "type": "contourcarpet"
           }
          ],
          "heatmap": [
           {
            "colorbar": {
             "outlinewidth": 0,
             "ticks": ""
            },
            "colorscale": [
             [
              0,
              "#0d0887"
             ],
             [
              0.1111111111111111,
              "#46039f"
             ],
             [
              0.2222222222222222,
              "#7201a8"
             ],
             [
              0.3333333333333333,
              "#9c179e"
             ],
             [
              0.4444444444444444,
              "#bd3786"
             ],
             [
              0.5555555555555556,
              "#d8576b"
             ],
             [
              0.6666666666666666,
              "#ed7953"
             ],
             [
              0.7777777777777778,
              "#fb9f3a"
             ],
             [
              0.8888888888888888,
              "#fdca26"
             ],
             [
              1,
              "#f0f921"
             ]
            ],
            "type": "heatmap"
           }
          ],
          "heatmapgl": [
           {
            "colorbar": {
             "outlinewidth": 0,
             "ticks": ""
            },
            "colorscale": [
             [
              0,
              "#0d0887"
             ],
             [
              0.1111111111111111,
              "#46039f"
             ],
             [
              0.2222222222222222,
              "#7201a8"
             ],
             [
              0.3333333333333333,
              "#9c179e"
             ],
             [
              0.4444444444444444,
              "#bd3786"
             ],
             [
              0.5555555555555556,
              "#d8576b"
             ],
             [
              0.6666666666666666,
              "#ed7953"
             ],
             [
              0.7777777777777778,
              "#fb9f3a"
             ],
             [
              0.8888888888888888,
              "#fdca26"
             ],
             [
              1,
              "#f0f921"
             ]
            ],
            "type": "heatmapgl"
           }
          ],
          "histogram": [
           {
            "marker": {
             "pattern": {
              "fillmode": "overlay",
              "size": 10,
              "solidity": 0.2
             }
            },
            "type": "histogram"
           }
          ],
          "histogram2d": [
           {
            "colorbar": {
             "outlinewidth": 0,
             "ticks": ""
            },
            "colorscale": [
             [
              0,
              "#0d0887"
             ],
             [
              0.1111111111111111,
              "#46039f"
             ],
             [
              0.2222222222222222,
              "#7201a8"
             ],
             [
              0.3333333333333333,
              "#9c179e"
             ],
             [
              0.4444444444444444,
              "#bd3786"
             ],
             [
              0.5555555555555556,
              "#d8576b"
             ],
             [
              0.6666666666666666,
              "#ed7953"
             ],
             [
              0.7777777777777778,
              "#fb9f3a"
             ],
             [
              0.8888888888888888,
              "#fdca26"
             ],
             [
              1,
              "#f0f921"
             ]
            ],
            "type": "histogram2d"
           }
          ],
          "histogram2dcontour": [
           {
            "colorbar": {
             "outlinewidth": 0,
             "ticks": ""
            },
            "colorscale": [
             [
              0,
              "#0d0887"
             ],
             [
              0.1111111111111111,
              "#46039f"
             ],
             [
              0.2222222222222222,
              "#7201a8"
             ],
             [
              0.3333333333333333,
              "#9c179e"
             ],
             [
              0.4444444444444444,
              "#bd3786"
             ],
             [
              0.5555555555555556,
              "#d8576b"
             ],
             [
              0.6666666666666666,
              "#ed7953"
             ],
             [
              0.7777777777777778,
              "#fb9f3a"
             ],
             [
              0.8888888888888888,
              "#fdca26"
             ],
             [
              1,
              "#f0f921"
             ]
            ],
            "type": "histogram2dcontour"
           }
          ],
          "mesh3d": [
           {
            "colorbar": {
             "outlinewidth": 0,
             "ticks": ""
            },
            "type": "mesh3d"
           }
          ],
          "parcoords": [
           {
            "line": {
             "colorbar": {
              "outlinewidth": 0,
              "ticks": ""
             }
            },
            "type": "parcoords"
           }
          ],
          "pie": [
           {
            "automargin": true,
            "type": "pie"
           }
          ],
          "scatter": [
           {
            "marker": {
             "colorbar": {
              "outlinewidth": 0,
              "ticks": ""
             }
            },
            "type": "scatter"
           }
          ],
          "scatter3d": [
           {
            "line": {
             "colorbar": {
              "outlinewidth": 0,
              "ticks": ""
             }
            },
            "marker": {
             "colorbar": {
              "outlinewidth": 0,
              "ticks": ""
             }
            },
            "type": "scatter3d"
           }
          ],
          "scattercarpet": [
           {
            "marker": {
             "colorbar": {
              "outlinewidth": 0,
              "ticks": ""
             }
            },
            "type": "scattercarpet"
           }
          ],
          "scattergeo": [
           {
            "marker": {
             "colorbar": {
              "outlinewidth": 0,
              "ticks": ""
             }
            },
            "type": "scattergeo"
           }
          ],
          "scattergl": [
           {
            "marker": {
             "colorbar": {
              "outlinewidth": 0,
              "ticks": ""
             }
            },
            "type": "scattergl"
           }
          ],
          "scattermapbox": [
           {
            "marker": {
             "colorbar": {
              "outlinewidth": 0,
              "ticks": ""
             }
            },
            "type": "scattermapbox"
           }
          ],
          "scatterpolar": [
           {
            "marker": {
             "colorbar": {
              "outlinewidth": 0,
              "ticks": ""
             }
            },
            "type": "scatterpolar"
           }
          ],
          "scatterpolargl": [
           {
            "marker": {
             "colorbar": {
              "outlinewidth": 0,
              "ticks": ""
             }
            },
            "type": "scatterpolargl"
           }
          ],
          "scatterternary": [
           {
            "marker": {
             "colorbar": {
              "outlinewidth": 0,
              "ticks": ""
             }
            },
            "type": "scatterternary"
           }
          ],
          "surface": [
           {
            "colorbar": {
             "outlinewidth": 0,
             "ticks": ""
            },
            "colorscale": [
             [
              0,
              "#0d0887"
             ],
             [
              0.1111111111111111,
              "#46039f"
             ],
             [
              0.2222222222222222,
              "#7201a8"
             ],
             [
              0.3333333333333333,
              "#9c179e"
             ],
             [
              0.4444444444444444,
              "#bd3786"
             ],
             [
              0.5555555555555556,
              "#d8576b"
             ],
             [
              0.6666666666666666,
              "#ed7953"
             ],
             [
              0.7777777777777778,
              "#fb9f3a"
             ],
             [
              0.8888888888888888,
              "#fdca26"
             ],
             [
              1,
              "#f0f921"
             ]
            ],
            "type": "surface"
           }
          ],
          "table": [
           {
            "cells": {
             "fill": {
              "color": "#EBF0F8"
             },
             "line": {
              "color": "white"
             }
            },
            "header": {
             "fill": {
              "color": "#C8D4E3"
             },
             "line": {
              "color": "white"
             }
            },
            "type": "table"
           }
          ]
         },
         "layout": {
          "annotationdefaults": {
           "arrowcolor": "#2a3f5f",
           "arrowhead": 0,
           "arrowwidth": 1
          },
          "autotypenumbers": "strict",
          "coloraxis": {
           "colorbar": {
            "outlinewidth": 0,
            "ticks": ""
           }
          },
          "colorscale": {
           "diverging": [
            [
             0,
             "#8e0152"
            ],
            [
             0.1,
             "#c51b7d"
            ],
            [
             0.2,
             "#de77ae"
            ],
            [
             0.3,
             "#f1b6da"
            ],
            [
             0.4,
             "#fde0ef"
            ],
            [
             0.5,
             "#f7f7f7"
            ],
            [
             0.6,
             "#e6f5d0"
            ],
            [
             0.7,
             "#b8e186"
            ],
            [
             0.8,
             "#7fbc41"
            ],
            [
             0.9,
             "#4d9221"
            ],
            [
             1,
             "#276419"
            ]
           ],
           "sequential": [
            [
             0,
             "#0d0887"
            ],
            [
             0.1111111111111111,
             "#46039f"
            ],
            [
             0.2222222222222222,
             "#7201a8"
            ],
            [
             0.3333333333333333,
             "#9c179e"
            ],
            [
             0.4444444444444444,
             "#bd3786"
            ],
            [
             0.5555555555555556,
             "#d8576b"
            ],
            [
             0.6666666666666666,
             "#ed7953"
            ],
            [
             0.7777777777777778,
             "#fb9f3a"
            ],
            [
             0.8888888888888888,
             "#fdca26"
            ],
            [
             1,
             "#f0f921"
            ]
           ],
           "sequentialminus": [
            [
             0,
             "#0d0887"
            ],
            [
             0.1111111111111111,
             "#46039f"
            ],
            [
             0.2222222222222222,
             "#7201a8"
            ],
            [
             0.3333333333333333,
             "#9c179e"
            ],
            [
             0.4444444444444444,
             "#bd3786"
            ],
            [
             0.5555555555555556,
             "#d8576b"
            ],
            [
             0.6666666666666666,
             "#ed7953"
            ],
            [
             0.7777777777777778,
             "#fb9f3a"
            ],
            [
             0.8888888888888888,
             "#fdca26"
            ],
            [
             1,
             "#f0f921"
            ]
           ]
          },
          "colorway": [
           "#636efa",
           "#EF553B",
           "#00cc96",
           "#ab63fa",
           "#FFA15A",
           "#19d3f3",
           "#FF6692",
           "#B6E880",
           "#FF97FF",
           "#FECB52"
          ],
          "font": {
           "color": "#2a3f5f"
          },
          "geo": {
           "bgcolor": "white",
           "lakecolor": "white",
           "landcolor": "white",
           "showlakes": true,
           "showland": true,
           "subunitcolor": "#C8D4E3"
          },
          "hoverlabel": {
           "align": "left"
          },
          "hovermode": "closest",
          "mapbox": {
           "style": "light"
          },
          "paper_bgcolor": "white",
          "plot_bgcolor": "white",
          "polar": {
           "angularaxis": {
            "gridcolor": "#EBF0F8",
            "linecolor": "#EBF0F8",
            "ticks": ""
           },
           "bgcolor": "white",
           "radialaxis": {
            "gridcolor": "#EBF0F8",
            "linecolor": "#EBF0F8",
            "ticks": ""
           }
          },
          "scene": {
           "xaxis": {
            "backgroundcolor": "white",
            "gridcolor": "#DFE8F3",
            "gridwidth": 2,
            "linecolor": "#EBF0F8",
            "showbackground": true,
            "ticks": "",
            "zerolinecolor": "#EBF0F8"
           },
           "yaxis": {
            "backgroundcolor": "white",
            "gridcolor": "#DFE8F3",
            "gridwidth": 2,
            "linecolor": "#EBF0F8",
            "showbackground": true,
            "ticks": "",
            "zerolinecolor": "#EBF0F8"
           },
           "zaxis": {
            "backgroundcolor": "white",
            "gridcolor": "#DFE8F3",
            "gridwidth": 2,
            "linecolor": "#EBF0F8",
            "showbackground": true,
            "ticks": "",
            "zerolinecolor": "#EBF0F8"
           }
          },
          "shapedefaults": {
           "line": {
            "color": "#2a3f5f"
           }
          },
          "ternary": {
           "aaxis": {
            "gridcolor": "#DFE8F3",
            "linecolor": "#A2B1C6",
            "ticks": ""
           },
           "baxis": {
            "gridcolor": "#DFE8F3",
            "linecolor": "#A2B1C6",
            "ticks": ""
           },
           "bgcolor": "white",
           "caxis": {
            "gridcolor": "#DFE8F3",
            "linecolor": "#A2B1C6",
            "ticks": ""
           }
          },
          "title": {
           "x": 0.05
          },
          "xaxis": {
           "automargin": true,
           "gridcolor": "#EBF0F8",
           "linecolor": "#EBF0F8",
           "ticks": "",
           "title": {
            "standoff": 15
           },
           "zerolinecolor": "#EBF0F8",
           "zerolinewidth": 2
          },
          "yaxis": {
           "automargin": true,
           "gridcolor": "#EBF0F8",
           "linecolor": "#EBF0F8",
           "ticks": "",
           "title": {
            "standoff": 15
           },
           "zerolinecolor": "#EBF0F8",
           "zerolinewidth": 2
          }
         }
        },
        "title": {
         "text": ""
        },
        "width": 600,
        "xaxis": {
         "anchor": "y",
         "domain": [
          0,
          0.94
         ],
         "showgrid": true,
         "tickvals": [
          0,
          0.1,
          0.2,
          0.3
         ],
         "title": {
          "font": {
           "size": 18
          },
          "text": "$\\text{Threshold } \\tau$"
         }
        },
        "yaxis": {
         "anchor": "x",
         "domain": [
          0,
          1
         ],
         "nticks": 6,
         "showgrid": true,
         "title": {
          "text": "Number of Edges"
         },
         "zeroline": true
        },
        "yaxis2": {
         "anchor": "x",
         "nticks": 6,
         "overlaying": "y",
         "showgrid": false,
         "side": "right",
         "title": {
          "text": "AUC"
         },
         "zeroline": false
        }
       }
      },
      "text/html": [
       "<div>                            <div id=\"d988d3a1-7198-47a6-b440-2d9c30af9adb\" class=\"plotly-graph-div\" style=\"height:250px; width:600px;\"></div>            <script type=\"text/javascript\">                require([\"plotly\"], function(Plotly) {                    window.PLOTLYENV=window.PLOTLYENV || {};                                    if (document.getElementById(\"d988d3a1-7198-47a6-b440-2d9c30af9adb\")) {                    Plotly.newPlot(                        \"d988d3a1-7198-47a6-b440-2d9c30af9adb\",                        [{\"error_y\":{\"array\":[0.027877660048992642,0.005990399399860237,0.01054767635363887,0.006540974206346158,0.006103871560386087,0.05933110504372719,0.06342043968175894,0.1617077132642796,0.0,0.0,0.0],\"type\":\"data\",\"visible\":true},\"name\":\"AUC\",\"type\":\"scatter\",\"x\":[-0.07,0.0,0.08,0.1,0.12,0.14,0.16,0.18,0.28,0.32,0.4],\"xaxis\":\"x\",\"y\":[0.7470380696274307,0.8634678058914658,0.8556479446454784,0.8518079280265499,0.8507520186685801,0.8203743640360259,0.7834881839086392,0.6537895255246378,0.5,0.5,0.5],\"yaxis\":\"y2\"},{\"error_y\":{\"array\":[0.0,0.0,1.9790570145063204,2.6140645235596867,2.7838821814150116,1.3540064007726602,1.1902380714238083,1.3327849749579577,0.0,0.0,0.0],\"type\":\"data\",\"visible\":true},\"name\":\"Edges\",\"type\":\"scatter\",\"x\":[-0.07,0.0,0.08,0.1,0.12,0.14,0.16,0.18,0.28,0.32,0.4],\"xaxis\":\"x\",\"y\":[210.0,105.0,46.2,40.8,36.6,32.2,30.8,29.75,27.0,25.0,24.0],\"yaxis\":\"y\"}],                        {\"annotations\":[{\"showarrow\":false,\"text\":\"CASTLE\",\"x\":0.02,\"xref\":\"paper\",\"y\":-0.094,\"yref\":\"paper\",\"yshift\":0},{\"ax\":0,\"ay\":165,\"showarrow\":true,\"text\":\"0.08\",\"x\":0.08,\"xref\":\"x\",\"y\":0.8556,\"yref\":\"y2\",\"yshift\":0},{\"ax\":300,\"ay\":0,\"showarrow\":true,\"text\":\"0.86\",\"x\":0.08,\"xref\":\"x\",\"y\":0.8556,\"yref\":\"y2\",\"yshift\":0},{\"ax\":-150,\"ay\":0,\"showarrow\":true,\"text\":\"46\",\"x\":0.08,\"xref\":\"x\",\"y\":46.2,\"yref\":\"y\",\"yshift\":0}],\"autosize\":true,\"font\":{\"family\":\"Serif\",\"size\":18},\"height\":250,\"legend\":{\"orientation\":\"h\",\"x\":0.85,\"xanchor\":\"center\",\"y\":-0.23,\"yanchor\":\"bottom\"},\"margin\":{\"b\":0,\"l\":10,\"pad\":0,\"r\":10,\"t\":10},\"template\":{\"data\":{\"bar\":[{\"error_x\":{\"color\":\"#2a3f5f\"},\"error_y\":{\"color\":\"#2a3f5f\"},\"marker\":{\"line\":{\"color\":\"white\",\"width\":0.5},\"pattern\":{\"fillmode\":\"overlay\",\"size\":10,\"solidity\":0.2}},\"type\":\"bar\"}],\"barpolar\":[{\"marker\":{\"line\":{\"color\":\"white\",\"width\":0.5},\"pattern\":{\"fillmode\":\"overlay\",\"size\":10,\"solidity\":0.2}},\"type\":\"barpolar\"}],\"carpet\":[{\"aaxis\":{\"endlinecolor\":\"#2a3f5f\",\"gridcolor\":\"#C8D4E3\",\"linecolor\":\"#C8D4E3\",\"minorgridcolor\":\"#C8D4E3\",\"startlinecolor\":\"#2a3f5f\"},\"baxis\":{\"endlinecolor\":\"#2a3f5f\",\"gridcolor\":\"#C8D4E3\",\"linecolor\":\"#C8D4E3\",\"minorgridcolor\":\"#C8D4E3\",\"startlinecolor\":\"#2a3f5f\"},\"type\":\"carpet\"}],\"choropleth\":[{\"colorbar\":{\"outlinewidth\":0,\"ticks\":\"\"},\"type\":\"choropleth\"}],\"contour\":[{\"colorbar\":{\"outlinewidth\":0,\"ticks\":\"\"},\"colorscale\":[[0.0,\"#0d0887\"],[0.1111111111111111,\"#46039f\"],[0.2222222222222222,\"#7201a8\"],[0.3333333333333333,\"#9c179e\"],[0.4444444444444444,\"#bd3786\"],[0.5555555555555556,\"#d8576b\"],[0.6666666666666666,\"#ed7953\"],[0.7777777777777778,\"#fb9f3a\"],[0.8888888888888888,\"#fdca26\"],[1.0,\"#f0f921\"]],\"type\":\"contour\"}],\"contourcarpet\":[{\"colorbar\":{\"outlinewidth\":0,\"ticks\":\"\"},\"type\":\"contourcarpet\"}],\"heatmap\":[{\"colorbar\":{\"outlinewidth\":0,\"ticks\":\"\"},\"colorscale\":[[0.0,\"#0d0887\"],[0.1111111111111111,\"#46039f\"],[0.2222222222222222,\"#7201a8\"],[0.3333333333333333,\"#9c179e\"],[0.4444444444444444,\"#bd3786\"],[0.5555555555555556,\"#d8576b\"],[0.6666666666666666,\"#ed7953\"],[0.7777777777777778,\"#fb9f3a\"],[0.8888888888888888,\"#fdca26\"],[1.0,\"#f0f921\"]],\"type\":\"heatmap\"}],\"heatmapgl\":[{\"colorbar\":{\"outlinewidth\":0,\"ticks\":\"\"},\"colorscale\":[[0.0,\"#0d0887\"],[0.1111111111111111,\"#46039f\"],[0.2222222222222222,\"#7201a8\"],[0.3333333333333333,\"#9c179e\"],[0.4444444444444444,\"#bd3786\"],[0.5555555555555556,\"#d8576b\"],[0.6666666666666666,\"#ed7953\"],[0.7777777777777778,\"#fb9f3a\"],[0.8888888888888888,\"#fdca26\"],[1.0,\"#f0f921\"]],\"type\":\"heatmapgl\"}],\"histogram\":[{\"marker\":{\"pattern\":{\"fillmode\":\"overlay\",\"size\":10,\"solidity\":0.2}},\"type\":\"histogram\"}],\"histogram2d\":[{\"colorbar\":{\"outlinewidth\":0,\"ticks\":\"\"},\"colorscale\":[[0.0,\"#0d0887\"],[0.1111111111111111,\"#46039f\"],[0.2222222222222222,\"#7201a8\"],[0.3333333333333333,\"#9c179e\"],[0.4444444444444444,\"#bd3786\"],[0.5555555555555556,\"#d8576b\"],[0.6666666666666666,\"#ed7953\"],[0.7777777777777778,\"#fb9f3a\"],[0.8888888888888888,\"#fdca26\"],[1.0,\"#f0f921\"]],\"type\":\"histogram2d\"}],\"histogram2dcontour\":[{\"colorbar\":{\"outlinewidth\":0,\"ticks\":\"\"},\"colorscale\":[[0.0,\"#0d0887\"],[0.1111111111111111,\"#46039f\"],[0.2222222222222222,\"#7201a8\"],[0.3333333333333333,\"#9c179e\"],[0.4444444444444444,\"#bd3786\"],[0.5555555555555556,\"#d8576b\"],[0.6666666666666666,\"#ed7953\"],[0.7777777777777778,\"#fb9f3a\"],[0.8888888888888888,\"#fdca26\"],[1.0,\"#f0f921\"]],\"type\":\"histogram2dcontour\"}],\"mesh3d\":[{\"colorbar\":{\"outlinewidth\":0,\"ticks\":\"\"},\"type\":\"mesh3d\"}],\"parcoords\":[{\"line\":{\"colorbar\":{\"outlinewidth\":0,\"ticks\":\"\"}},\"type\":\"parcoords\"}],\"pie\":[{\"automargin\":true,\"type\":\"pie\"}],\"scatter\":[{\"marker\":{\"colorbar\":{\"outlinewidth\":0,\"ticks\":\"\"}},\"type\":\"scatter\"}],\"scatter3d\":[{\"line\":{\"colorbar\":{\"outlinewidth\":0,\"ticks\":\"\"}},\"marker\":{\"colorbar\":{\"outlinewidth\":0,\"ticks\":\"\"}},\"type\":\"scatter3d\"}],\"scattercarpet\":[{\"marker\":{\"colorbar\":{\"outlinewidth\":0,\"ticks\":\"\"}},\"type\":\"scattercarpet\"}],\"scattergeo\":[{\"marker\":{\"colorbar\":{\"outlinewidth\":0,\"ticks\":\"\"}},\"type\":\"scattergeo\"}],\"scattergl\":[{\"marker\":{\"colorbar\":{\"outlinewidth\":0,\"ticks\":\"\"}},\"type\":\"scattergl\"}],\"scattermapbox\":[{\"marker\":{\"colorbar\":{\"outlinewidth\":0,\"ticks\":\"\"}},\"type\":\"scattermapbox\"}],\"scatterpolar\":[{\"marker\":{\"colorbar\":{\"outlinewidth\":0,\"ticks\":\"\"}},\"type\":\"scatterpolar\"}],\"scatterpolargl\":[{\"marker\":{\"colorbar\":{\"outlinewidth\":0,\"ticks\":\"\"}},\"type\":\"scatterpolargl\"}],\"scatterternary\":[{\"marker\":{\"colorbar\":{\"outlinewidth\":0,\"ticks\":\"\"}},\"type\":\"scatterternary\"}],\"surface\":[{\"colorbar\":{\"outlinewidth\":0,\"ticks\":\"\"},\"colorscale\":[[0.0,\"#0d0887\"],[0.1111111111111111,\"#46039f\"],[0.2222222222222222,\"#7201a8\"],[0.3333333333333333,\"#9c179e\"],[0.4444444444444444,\"#bd3786\"],[0.5555555555555556,\"#d8576b\"],[0.6666666666666666,\"#ed7953\"],[0.7777777777777778,\"#fb9f3a\"],[0.8888888888888888,\"#fdca26\"],[1.0,\"#f0f921\"]],\"type\":\"surface\"}],\"table\":[{\"cells\":{\"fill\":{\"color\":\"#EBF0F8\"},\"line\":{\"color\":\"white\"}},\"header\":{\"fill\":{\"color\":\"#C8D4E3\"},\"line\":{\"color\":\"white\"}},\"type\":\"table\"}]},\"layout\":{\"annotationdefaults\":{\"arrowcolor\":\"#2a3f5f\",\"arrowhead\":0,\"arrowwidth\":1},\"autotypenumbers\":\"strict\",\"coloraxis\":{\"colorbar\":{\"outlinewidth\":0,\"ticks\":\"\"}},\"colorscale\":{\"diverging\":[[0,\"#8e0152\"],[0.1,\"#c51b7d\"],[0.2,\"#de77ae\"],[0.3,\"#f1b6da\"],[0.4,\"#fde0ef\"],[0.5,\"#f7f7f7\"],[0.6,\"#e6f5d0\"],[0.7,\"#b8e186\"],[0.8,\"#7fbc41\"],[0.9,\"#4d9221\"],[1,\"#276419\"]],\"sequential\":[[0.0,\"#0d0887\"],[0.1111111111111111,\"#46039f\"],[0.2222222222222222,\"#7201a8\"],[0.3333333333333333,\"#9c179e\"],[0.4444444444444444,\"#bd3786\"],[0.5555555555555556,\"#d8576b\"],[0.6666666666666666,\"#ed7953\"],[0.7777777777777778,\"#fb9f3a\"],[0.8888888888888888,\"#fdca26\"],[1.0,\"#f0f921\"]],\"sequentialminus\":[[0.0,\"#0d0887\"],[0.1111111111111111,\"#46039f\"],[0.2222222222222222,\"#7201a8\"],[0.3333333333333333,\"#9c179e\"],[0.4444444444444444,\"#bd3786\"],[0.5555555555555556,\"#d8576b\"],[0.6666666666666666,\"#ed7953\"],[0.7777777777777778,\"#fb9f3a\"],[0.8888888888888888,\"#fdca26\"],[1.0,\"#f0f921\"]]},\"colorway\":[\"#636efa\",\"#EF553B\",\"#00cc96\",\"#ab63fa\",\"#FFA15A\",\"#19d3f3\",\"#FF6692\",\"#B6E880\",\"#FF97FF\",\"#FECB52\"],\"font\":{\"color\":\"#2a3f5f\"},\"geo\":{\"bgcolor\":\"white\",\"lakecolor\":\"white\",\"landcolor\":\"white\",\"showlakes\":true,\"showland\":true,\"subunitcolor\":\"#C8D4E3\"},\"hoverlabel\":{\"align\":\"left\"},\"hovermode\":\"closest\",\"mapbox\":{\"style\":\"light\"},\"paper_bgcolor\":\"white\",\"plot_bgcolor\":\"white\",\"polar\":{\"angularaxis\":{\"gridcolor\":\"#EBF0F8\",\"linecolor\":\"#EBF0F8\",\"ticks\":\"\"},\"bgcolor\":\"white\",\"radialaxis\":{\"gridcolor\":\"#EBF0F8\",\"linecolor\":\"#EBF0F8\",\"ticks\":\"\"}},\"scene\":{\"xaxis\":{\"backgroundcolor\":\"white\",\"gridcolor\":\"#DFE8F3\",\"gridwidth\":2,\"linecolor\":\"#EBF0F8\",\"showbackground\":true,\"ticks\":\"\",\"zerolinecolor\":\"#EBF0F8\"},\"yaxis\":{\"backgroundcolor\":\"white\",\"gridcolor\":\"#DFE8F3\",\"gridwidth\":2,\"linecolor\":\"#EBF0F8\",\"showbackground\":true,\"ticks\":\"\",\"zerolinecolor\":\"#EBF0F8\"},\"zaxis\":{\"backgroundcolor\":\"white\",\"gridcolor\":\"#DFE8F3\",\"gridwidth\":2,\"linecolor\":\"#EBF0F8\",\"showbackground\":true,\"ticks\":\"\",\"zerolinecolor\":\"#EBF0F8\"}},\"shapedefaults\":{\"line\":{\"color\":\"#2a3f5f\"}},\"ternary\":{\"aaxis\":{\"gridcolor\":\"#DFE8F3\",\"linecolor\":\"#A2B1C6\",\"ticks\":\"\"},\"baxis\":{\"gridcolor\":\"#DFE8F3\",\"linecolor\":\"#A2B1C6\",\"ticks\":\"\"},\"bgcolor\":\"white\",\"caxis\":{\"gridcolor\":\"#DFE8F3\",\"linecolor\":\"#A2B1C6\",\"ticks\":\"\"}},\"title\":{\"x\":0.05},\"xaxis\":{\"automargin\":true,\"gridcolor\":\"#EBF0F8\",\"linecolor\":\"#EBF0F8\",\"ticks\":\"\",\"title\":{\"standoff\":15},\"zerolinecolor\":\"#EBF0F8\",\"zerolinewidth\":2},\"yaxis\":{\"automargin\":true,\"gridcolor\":\"#EBF0F8\",\"linecolor\":\"#EBF0F8\",\"ticks\":\"\",\"title\":{\"standoff\":15},\"zerolinecolor\":\"#EBF0F8\",\"zerolinewidth\":2}}},\"title\":{\"text\":\"\"},\"width\":600,\"xaxis\":{\"anchor\":\"y\",\"domain\":[0.0,0.94],\"showgrid\":true,\"tickvals\":[0.0,0.1,0.2,0.3],\"title\":{\"font\":{\"size\":18},\"text\":\"$\\\\text{Threshold } \\\\tau$\"}},\"yaxis\":{\"anchor\":\"x\",\"domain\":[0.0,1.0],\"nticks\":6,\"showgrid\":true,\"title\":{\"text\":\"Number of Edges\"},\"zeroline\":true},\"yaxis2\":{\"anchor\":\"x\",\"nticks\":6,\"overlaying\":\"y\",\"showgrid\":false,\"side\":\"right\",\"title\":{\"text\":\"AUC\"},\"zeroline\":false}},                        {\"responsive\": true}                    ).then(function(){\n",
       "                            \n",
       "var gd = document.getElementById('d988d3a1-7198-47a6-b440-2d9c30af9adb');\n",
       "var x = new MutationObserver(function (mutations, observer) {{\n",
       "        var display = window.getComputedStyle(gd).display;\n",
       "        if (!display || display === 'none') {{\n",
       "            console.log([gd, 'removed!']);\n",
       "            Plotly.purge(gd);\n",
       "            observer.disconnect();\n",
       "        }}\n",
       "}});\n",
       "\n",
       "// Listen for the removal of the full notebook cells\n",
       "var notebookContainer = gd.closest('#notebook-container');\n",
       "if (notebookContainer) {{\n",
       "    x.observe(notebookContainer, {childList: true});\n",
       "}}\n",
       "\n",
       "// Listen for the clearing of the current output cell\n",
       "var outputEl = gd.closest('.output');\n",
       "if (outputEl) {{\n",
       "    x.observe(outputEl, {childList: true});\n",
       "}}\n",
       "\n",
       "                        })                };                });            </script>        </div>"
      ]
     },
     "metadata": {},
     "output_type": "display_data"
    },
    {
     "data": {
      "text/plain": [
       "3    0.855648\n",
       "Name: accuracy_mean, dtype: float64"
      ]
     },
     "execution_count": 5,
     "metadata": {},
     "output_type": "execute_result"
    }
   ],
   "source": [
    "import os\n",
    "import pandas as pd\n",
    "import numpy as np\n",
    "from utils import load_pickle\n",
    "save = True\n",
    "\n",
    "version = 'adult_fulltest'\n",
    "metric = 'auc'\n",
    "\n",
    "dset='100000'\n",
    "theta = '(([+-])?\\d(\\.\\d+)?)'\n",
    "\n",
    "folder = \"./results/adjmats/\"\n",
    "\n",
    "import re\n",
    "list_edges = []\n",
    "for filename in os.listdir(folder):\n",
    "    match = re.search(f'W_est.{dset}.(\\d).(\\d).(.*?).{version}.pkl$', filename)\n",
    "    if match:\n",
    "        out_f, in_f, theta = match.groups()\n",
    "        edges = sum(load_pickle(os.path.join(folder,filename), verbose=False).flatten()>0)\n",
    "        list_edges.append((float(theta), out_f, in_f, edges))\n",
    "n_edges = pd.DataFrame(list_edges).groupby(0, as_index=False).agg({3 : ['mean', 'std']})\n",
    "n_edges.columns = n_edges.columns.droplevel()\n",
    "n_edges.columns = ['theta','N_edges','Std']\n",
    "\n",
    "\n",
    "folder = \"./results/\"\n",
    "filename = f\"Nested5FoldCASTLE.Reg.Synth.100000.{version}.pkl\"\n",
    "describe = load_pickle(os.path.join(folder,filename), verbose=False)\n",
    "agg_stats = pd.DataFrame([(describe[c]['theta'],c[9],describe[c]['fold'],describe[c][metric]) for c in describe]).groupby(0, as_index=False).agg({2 : ['count','max'], 3 : ['mean', 'std']})\n",
    "agg_stats.columns = ['theta', 'count','folds',  'accuracy_mean', 'accuracy_std']\n",
    "agg_stats=agg_stats.merge(n_edges,on='theta')\n",
    "agg_stats= agg_stats.drop_duplicates(subset=['N_edges']) ########################################################### DROP DUPS\n",
    "\n",
    "if version == 'fico2':\n",
    "    #### Add Normal CASTLE\n",
    "    agg_stats.loc[-1] = [-1,5,5,0.723377,0.009611,405.12,10.401602]#,True]  # adding a row\n",
    "    agg_stats.index = agg_stats.index + 1  # shifting index\n",
    "    agg_stats = agg_stats.sort_index()  # sorting by index\n",
    "\n",
    "    n_edges.loc[-1] = [-1,405.12,10.401602]  # adding a row\n",
    "    n_edges.index = n_edges.index + 1  # shifting index\n",
    "    n_edges = n_edges.sort_index()  # sorting by index\n",
    "\n",
    "sub = -0.07\n",
    "agg_stats.loc[agg_stats['theta']==-1,'theta'] = sub\n",
    "\n",
    "filter_theta = 0.6\n",
    "filter_list = [0.2,0.24]\n",
    "agg_stats = agg_stats[(agg_stats['theta']<=filter_theta) & (~agg_stats['theta'].isin(filter_list))]\n",
    "display(agg_stats)\n",
    "\n",
    "import plotly.graph_objects as go\n",
    "from plotly.subplots import make_subplots\n",
    "\n",
    "# Create figure with secondary y-axis\n",
    "fig = make_subplots(specs=[[{\"secondary_y\": True}]])\n",
    "\n",
    "if metric == 'accuracy':\n",
    "    metric =metric.capitalize()\n",
    "else:\n",
    "    metric = metric.upper()\n",
    "\n",
    "# Add traces\n",
    "fig.add_trace(\n",
    "    go.Scatter(x=agg_stats['theta'], y=agg_stats['accuracy_mean'], name=metric,         \n",
    "    error_y=dict(\n",
    "            type='data', # value of error bar given in data coordinates\n",
    "            array=agg_stats['accuracy_std'],\n",
    "            visible=True)\n",
    "            ),\n",
    "    secondary_y=True, \n",
    ")\n",
    "\n",
    "fig.add_trace(\n",
    "    go.Scatter(x=agg_stats['theta'], y=agg_stats['N_edges'], name=\"Edges\",\n",
    "    error_y=dict(\n",
    "            type='data', # value of error bar given in data coordinates\n",
    "            array=agg_stats['Std'],\n",
    "            visible=True)\n",
    "              ),\n",
    "    secondary_y=False,\n",
    ")\n",
    "\n",
    "# Add figure title\n",
    "fig.update_layout(\n",
    "    title='',\n",
    "    legend={\n",
    "        'y':-0.23,\n",
    "        'x':0.85,\n",
    "        'orientation':\"h\",\n",
    "        'xanchor': 'center',\n",
    "        'yanchor': 'bottom'},\n",
    "    template='plotly_white',\n",
    "    autosize=True,\n",
    "    width=600, height=250, \n",
    "    margin=dict(\n",
    "        l=10,\n",
    "        r=10,\n",
    "        b=0,\n",
    "        t=10,\n",
    "        pad=0\n",
    "    ),\n",
    "    font=dict(\n",
    "        family='Serif',#\"Courier New, monospace\",\n",
    "        size=18,\n",
    "        # color=\"Black\"\n",
    "    )    \n",
    ")\n",
    "\n",
    "# Set x-axis title\n",
    "fig.update_xaxes(showgrid=True,title={'text':r'$\\text{Threshold } \\tau$','font':{'size':18#, 'family': 'Courier New, monospace',\n",
    "}},tickvals=list(np.round(np.arange(0, max(agg_stats['theta']), 0.1),3)),\n",
    ")\n",
    "\n",
    "# Set y-axes titles\n",
    "fig.update_yaxes(showgrid=False,nticks=6,zeroline=False, title={'text':metric#,'font':{'size':18}\n",
    "}, #nticks=13,\n",
    "secondary_y=True)\n",
    "fig.update_yaxes(showgrid=True,nticks=6,zeroline=True, title={'text':\"Number of Edges\"#,'font':{'size':18}\n",
    "}, secondary_y=False)\n",
    "\n",
    "fig.add_annotation(x=0.02, y=-0.094,\n",
    "            text=\"CASTLE\",\n",
    "            showarrow=False,\n",
    "            yshift=0,\n",
    "            xref='paper',\n",
    "            yref='paper',)\n",
    "\n",
    "chosen_tau=0.08\n",
    "y_co = agg_stats[agg_stats['theta']==chosen_tau]['accuracy_mean']\n",
    "fig.add_annotation(x=chosen_tau, y=0.8556,\n",
    "            text=str(chosen_tau),\n",
    "            showarrow=True,\n",
    "            yshift=0,\n",
    "            xref='x',ax=0,\n",
    "            yref='y2',ay=165)\n",
    "fig.add_annotation(x=chosen_tau, y=0.8556,\n",
    "            text=str(0.86),\n",
    "            showarrow=True,\n",
    "            yshift=0,\n",
    "            xref='x',ax=300,\n",
    "            yref='y2',ay=0)\n",
    "fig.add_annotation(x=chosen_tau, y=46.2,\n",
    "            text=str(46),\n",
    "            showarrow=True,\n",
    "            yshift=0,\n",
    "            xref='x',ax=-150,\n",
    "            yref='y',ay=0)\n",
    "\n",
    "fig.show()\n",
    "\n",
    "output_folder = \"figures\"\n",
    "if not os.path.exists(output_folder):\n",
    "    os.mkdir(output_folder)\n",
    "\n",
    "out_path = os.path.join(output_folder,f\"plot_tauoptim_{version}.png\")\n",
    "\n",
    "if save:\n",
    "    import kaleido\n",
    "    fig.write_image(out_path)\n",
    "\n",
    "y_co"
   ]
  },
  {
   "cell_type": "markdown",
   "metadata": {},
   "source": [
    "## Boston"
   ]
  },
  {
   "cell_type": "code",
   "execution_count": 15,
   "metadata": {
    "tags": []
   },
   "outputs": [
    {
     "data": {
      "text/html": [
       "<div>\n",
       "<style scoped>\n",
       "    .dataframe tbody tr th:only-of-type {\n",
       "        vertical-align: middle;\n",
       "    }\n",
       "\n",
       "    .dataframe tbody tr th {\n",
       "        vertical-align: top;\n",
       "    }\n",
       "\n",
       "    .dataframe thead th {\n",
       "        text-align: right;\n",
       "    }\n",
       "</style>\n",
       "<table border=\"1\" class=\"dataframe\">\n",
       "  <thead>\n",
       "    <tr style=\"text-align: right;\">\n",
       "      <th></th>\n",
       "      <th>theta</th>\n",
       "      <th>count</th>\n",
       "      <th>folds</th>\n",
       "      <th>accuracy_mean</th>\n",
       "      <th>accuracy_std</th>\n",
       "      <th>N_edges</th>\n",
       "      <th>Std</th>\n",
       "    </tr>\n",
       "  </thead>\n",
       "  <tbody>\n",
       "    <tr>\n",
       "      <th>0</th>\n",
       "      <td>-0.170</td>\n",
       "      <td>25</td>\n",
       "      <td>5</td>\n",
       "      <td>22.231392</td>\n",
       "      <td>7.387012</td>\n",
       "      <td>182.000000</td>\n",
       "      <td>0.000000</td>\n",
       "    </tr>\n",
       "    <tr>\n",
       "      <th>1</th>\n",
       "      <td>0.000</td>\n",
       "      <td>25</td>\n",
       "      <td>5</td>\n",
       "      <td>18.507690</td>\n",
       "      <td>7.042780</td>\n",
       "      <td>91.000000</td>\n",
       "      <td>0.000000</td>\n",
       "    </tr>\n",
       "    <tr>\n",
       "      <th>15</th>\n",
       "      <td>0.037</td>\n",
       "      <td>10</td>\n",
       "      <td>5</td>\n",
       "      <td>16.818329</td>\n",
       "      <td>6.783890</td>\n",
       "      <td>90.500000</td>\n",
       "      <td>0.527046</td>\n",
       "    </tr>\n",
       "    <tr>\n",
       "      <th>16</th>\n",
       "      <td>0.066</td>\n",
       "      <td>25</td>\n",
       "      <td>5</td>\n",
       "      <td>18.437362</td>\n",
       "      <td>6.868943</td>\n",
       "      <td>86.000000</td>\n",
       "      <td>1.290994</td>\n",
       "    </tr>\n",
       "    <tr>\n",
       "      <th>17</th>\n",
       "      <td>0.132</td>\n",
       "      <td>25</td>\n",
       "      <td>5</td>\n",
       "      <td>20.363651</td>\n",
       "      <td>5.233823</td>\n",
       "      <td>47.800000</td>\n",
       "      <td>7.942502</td>\n",
       "    </tr>\n",
       "    <tr>\n",
       "      <th>18</th>\n",
       "      <td>0.198</td>\n",
       "      <td>25</td>\n",
       "      <td>5</td>\n",
       "      <td>40.765085</td>\n",
       "      <td>27.205065</td>\n",
       "      <td>32.800000</td>\n",
       "      <td>8.098354</td>\n",
       "    </tr>\n",
       "    <tr>\n",
       "      <th>19</th>\n",
       "      <td>0.264</td>\n",
       "      <td>25</td>\n",
       "      <td>5</td>\n",
       "      <td>41.876700</td>\n",
       "      <td>27.307922</td>\n",
       "      <td>23.000000</td>\n",
       "      <td>6.390097</td>\n",
       "    </tr>\n",
       "    <tr>\n",
       "      <th>20</th>\n",
       "      <td>0.330</td>\n",
       "      <td>25</td>\n",
       "      <td>5</td>\n",
       "      <td>62.497449</td>\n",
       "      <td>29.583180</td>\n",
       "      <td>17.000000</td>\n",
       "      <td>5.916080</td>\n",
       "    </tr>\n",
       "    <tr>\n",
       "      <th>21</th>\n",
       "      <td>0.396</td>\n",
       "      <td>25</td>\n",
       "      <td>5</td>\n",
       "      <td>84.998406</td>\n",
       "      <td>12.277859</td>\n",
       "      <td>12.200000</td>\n",
       "      <td>5.416026</td>\n",
       "    </tr>\n",
       "    <tr>\n",
       "      <th>22</th>\n",
       "      <td>0.462</td>\n",
       "      <td>25</td>\n",
       "      <td>5</td>\n",
       "      <td>84.606197</td>\n",
       "      <td>12.862441</td>\n",
       "      <td>9.800000</td>\n",
       "      <td>4.804512</td>\n",
       "    </tr>\n",
       "    <tr>\n",
       "      <th>23</th>\n",
       "      <td>0.528</td>\n",
       "      <td>25</td>\n",
       "      <td>5</td>\n",
       "      <td>84.601992</td>\n",
       "      <td>12.865846</td>\n",
       "      <td>7.800000</td>\n",
       "      <td>4.252450</td>\n",
       "    </tr>\n",
       "    <tr>\n",
       "      <th>24</th>\n",
       "      <td>0.594</td>\n",
       "      <td>15</td>\n",
       "      <td>5</td>\n",
       "      <td>85.127489</td>\n",
       "      <td>3.362446</td>\n",
       "      <td>5.666667</td>\n",
       "      <td>3.415650</td>\n",
       "    </tr>\n",
       "    <tr>\n",
       "      <th>25</th>\n",
       "      <td>0.660</td>\n",
       "      <td>15</td>\n",
       "      <td>5</td>\n",
       "      <td>92.360319</td>\n",
       "      <td>8.356597</td>\n",
       "      <td>6.666667</td>\n",
       "      <td>3.518658</td>\n",
       "    </tr>\n",
       "    <tr>\n",
       "      <th>26</th>\n",
       "      <td>0.726</td>\n",
       "      <td>10</td>\n",
       "      <td>5</td>\n",
       "      <td>93.777601</td>\n",
       "      <td>10.106333</td>\n",
       "      <td>6.500000</td>\n",
       "      <td>0.527046</td>\n",
       "    </tr>\n",
       "    <tr>\n",
       "      <th>27</th>\n",
       "      <td>0.792</td>\n",
       "      <td>15</td>\n",
       "      <td>5</td>\n",
       "      <td>89.775006</td>\n",
       "      <td>10.007312</td>\n",
       "      <td>2.666667</td>\n",
       "      <td>1.290994</td>\n",
       "    </tr>\n",
       "  </tbody>\n",
       "</table>\n",
       "</div>"
      ],
      "text/plain": [
       "    theta  count  folds  accuracy_mean  accuracy_std     N_edges       Std\n",
       "0  -0.170     25      5      22.231392      7.387012  182.000000  0.000000\n",
       "1   0.000     25      5      18.507690      7.042780   91.000000  0.000000\n",
       "15  0.037     10      5      16.818329      6.783890   90.500000  0.527046\n",
       "16  0.066     25      5      18.437362      6.868943   86.000000  1.290994\n",
       "17  0.132     25      5      20.363651      5.233823   47.800000  7.942502\n",
       "18  0.198     25      5      40.765085     27.205065   32.800000  8.098354\n",
       "19  0.264     25      5      41.876700     27.307922   23.000000  6.390097\n",
       "20  0.330     25      5      62.497449     29.583180   17.000000  5.916080\n",
       "21  0.396     25      5      84.998406     12.277859   12.200000  5.416026\n",
       "22  0.462     25      5      84.606197     12.862441    9.800000  4.804512\n",
       "23  0.528     25      5      84.601992     12.865846    7.800000  4.252450\n",
       "24  0.594     15      5      85.127489      3.362446    5.666667  3.415650\n",
       "25  0.660     15      5      92.360319      8.356597    6.666667  3.518658\n",
       "26  0.726     10      5      93.777601     10.106333    6.500000  0.527046\n",
       "27  0.792     15      5      89.775006     10.007312    2.666667  1.290994"
      ]
     },
     "metadata": {},
     "output_type": "display_data"
    },
    {
     "data": {
      "application/vnd.plotly.v1+json": {
       "config": {
        "plotlyServerURL": "https://plot.ly"
       },
       "data": [
        {
         "error_y": {
          "array": [
           7.387011778212339,
           7.042780073563186,
           6.783889825213433,
           6.868942622813242,
           5.233823309639463,
           27.2050648946466,
           27.307922325269054,
           29.5831797422127,
           12.277859208340255,
           12.862440544372042,
           12.865846193946338,
           3.3624461481766983,
           8.356597330489718,
           10.106332926751348,
           10.007311731194303
          ],
          "type": "data",
          "visible": true
         },
         "name": "MSE",
         "type": "scatter",
         "x": [
          -0.17,
          0,
          0.037,
          0.066,
          0.132,
          0.198,
          0.264,
          0.33,
          0.396,
          0.462,
          0.528,
          0.5940000000000001,
          0.66,
          0.726,
          0.792
         ],
         "xaxis": "x",
         "y": [
          22.231392264045418,
          18.50768999498596,
          16.818328777785908,
          18.437362453397082,
          20.36365077742586,
          40.76508476467781,
          41.87670011744681,
          62.4974491992222,
          84.99840569296435,
          84.60619672687682,
          84.60199238831366,
          85.12748922987889,
          92.36031912990856,
          93.77760136324999,
          89.77500632386798
         ],
         "yaxis": "y2"
        },
        {
         "error_y": {
          "array": [
           0,
           0,
           0.5270462766947284,
           1.2909944487357985,
           7.942501704962573,
           8.098353742170895,
           6.390096504226937,
           5.916079783099617,
           5.416025603090639,
           4.804511768466525,
           4.252450274057693,
           3.4156502553198664,
           3.518657752744984,
           0.5270462766947299,
           1.2909944487358054
          ],
          "type": "data",
          "visible": true
         },
         "name": "Edges",
         "type": "scatter",
         "x": [
          -0.17,
          0,
          0.037,
          0.066,
          0.132,
          0.198,
          0.264,
          0.33,
          0.396,
          0.462,
          0.528,
          0.5940000000000001,
          0.66,
          0.726,
          0.792
         ],
         "xaxis": "x",
         "y": [
          182,
          91,
          90.5,
          86,
          47.8,
          32.8,
          23,
          17,
          12.2,
          9.8,
          7.8,
          5.666666666666667,
          6.666666666666667,
          6.5,
          2.6666666666666665
         ],
         "yaxis": "y"
        }
       ],
       "layout": {
        "annotations": [
         {
          "showarrow": false,
          "text": "CASTLE",
          "x": 0.02,
          "xref": "paper",
          "y": -0.094,
          "yref": "paper",
          "yshift": 0
         },
         {
          "ax": 0,
          "ay": 80,
          "showarrow": true,
          "text": "0.13",
          "x": 0.13,
          "xref": "x",
          "y": 20.363,
          "yref": "y2",
          "yshift": 0
         },
         {
          "ax": 300,
          "ay": 0,
          "showarrow": true,
          "text": "20.4",
          "x": 0.13,
          "xref": "x",
          "y": 20.363,
          "yref": "y2",
          "yshift": 0
         },
         {
          "ax": -150,
          "ay": 0,
          "showarrow": true,
          "text": "48",
          "x": 0.13,
          "xref": "x",
          "y": 47.8,
          "yref": "y",
          "yshift": 0
         }
        ],
        "autosize": true,
        "font": {
         "family": "Serif",
         "size": 18
        },
        "height": 250,
        "legend": {
         "orientation": "h",
         "x": 0.85,
         "xanchor": "center",
         "y": -0.23,
         "yanchor": "bottom"
        },
        "margin": {
         "b": 0,
         "l": 10,
         "pad": 0,
         "r": 10,
         "t": 10
        },
        "template": {
         "data": {
          "bar": [
           {
            "error_x": {
             "color": "#2a3f5f"
            },
            "error_y": {
             "color": "#2a3f5f"
            },
            "marker": {
             "line": {
              "color": "white",
              "width": 0.5
             },
             "pattern": {
              "fillmode": "overlay",
              "size": 10,
              "solidity": 0.2
             }
            },
            "type": "bar"
           }
          ],
          "barpolar": [
           {
            "marker": {
             "line": {
              "color": "white",
              "width": 0.5
             },
             "pattern": {
              "fillmode": "overlay",
              "size": 10,
              "solidity": 0.2
             }
            },
            "type": "barpolar"
           }
          ],
          "carpet": [
           {
            "aaxis": {
             "endlinecolor": "#2a3f5f",
             "gridcolor": "#C8D4E3",
             "linecolor": "#C8D4E3",
             "minorgridcolor": "#C8D4E3",
             "startlinecolor": "#2a3f5f"
            },
            "baxis": {
             "endlinecolor": "#2a3f5f",
             "gridcolor": "#C8D4E3",
             "linecolor": "#C8D4E3",
             "minorgridcolor": "#C8D4E3",
             "startlinecolor": "#2a3f5f"
            },
            "type": "carpet"
           }
          ],
          "choropleth": [
           {
            "colorbar": {
             "outlinewidth": 0,
             "ticks": ""
            },
            "type": "choropleth"
           }
          ],
          "contour": [
           {
            "colorbar": {
             "outlinewidth": 0,
             "ticks": ""
            },
            "colorscale": [
             [
              0,
              "#0d0887"
             ],
             [
              0.1111111111111111,
              "#46039f"
             ],
             [
              0.2222222222222222,
              "#7201a8"
             ],
             [
              0.3333333333333333,
              "#9c179e"
             ],
             [
              0.4444444444444444,
              "#bd3786"
             ],
             [
              0.5555555555555556,
              "#d8576b"
             ],
             [
              0.6666666666666666,
              "#ed7953"
             ],
             [
              0.7777777777777778,
              "#fb9f3a"
             ],
             [
              0.8888888888888888,
              "#fdca26"
             ],
             [
              1,
              "#f0f921"
             ]
            ],
            "type": "contour"
           }
          ],
          "contourcarpet": [
           {
            "colorbar": {
             "outlinewidth": 0,
             "ticks": ""
            },
            "type": "contourcarpet"
           }
          ],
          "heatmap": [
           {
            "colorbar": {
             "outlinewidth": 0,
             "ticks": ""
            },
            "colorscale": [
             [
              0,
              "#0d0887"
             ],
             [
              0.1111111111111111,
              "#46039f"
             ],
             [
              0.2222222222222222,
              "#7201a8"
             ],
             [
              0.3333333333333333,
              "#9c179e"
             ],
             [
              0.4444444444444444,
              "#bd3786"
             ],
             [
              0.5555555555555556,
              "#d8576b"
             ],
             [
              0.6666666666666666,
              "#ed7953"
             ],
             [
              0.7777777777777778,
              "#fb9f3a"
             ],
             [
              0.8888888888888888,
              "#fdca26"
             ],
             [
              1,
              "#f0f921"
             ]
            ],
            "type": "heatmap"
           }
          ],
          "heatmapgl": [
           {
            "colorbar": {
             "outlinewidth": 0,
             "ticks": ""
            },
            "colorscale": [
             [
              0,
              "#0d0887"
             ],
             [
              0.1111111111111111,
              "#46039f"
             ],
             [
              0.2222222222222222,
              "#7201a8"
             ],
             [
              0.3333333333333333,
              "#9c179e"
             ],
             [
              0.4444444444444444,
              "#bd3786"
             ],
             [
              0.5555555555555556,
              "#d8576b"
             ],
             [
              0.6666666666666666,
              "#ed7953"
             ],
             [
              0.7777777777777778,
              "#fb9f3a"
             ],
             [
              0.8888888888888888,
              "#fdca26"
             ],
             [
              1,
              "#f0f921"
             ]
            ],
            "type": "heatmapgl"
           }
          ],
          "histogram": [
           {
            "marker": {
             "pattern": {
              "fillmode": "overlay",
              "size": 10,
              "solidity": 0.2
             }
            },
            "type": "histogram"
           }
          ],
          "histogram2d": [
           {
            "colorbar": {
             "outlinewidth": 0,
             "ticks": ""
            },
            "colorscale": [
             [
              0,
              "#0d0887"
             ],
             [
              0.1111111111111111,
              "#46039f"
             ],
             [
              0.2222222222222222,
              "#7201a8"
             ],
             [
              0.3333333333333333,
              "#9c179e"
             ],
             [
              0.4444444444444444,
              "#bd3786"
             ],
             [
              0.5555555555555556,
              "#d8576b"
             ],
             [
              0.6666666666666666,
              "#ed7953"
             ],
             [
              0.7777777777777778,
              "#fb9f3a"
             ],
             [
              0.8888888888888888,
              "#fdca26"
             ],
             [
              1,
              "#f0f921"
             ]
            ],
            "type": "histogram2d"
           }
          ],
          "histogram2dcontour": [
           {
            "colorbar": {
             "outlinewidth": 0,
             "ticks": ""
            },
            "colorscale": [
             [
              0,
              "#0d0887"
             ],
             [
              0.1111111111111111,
              "#46039f"
             ],
             [
              0.2222222222222222,
              "#7201a8"
             ],
             [
              0.3333333333333333,
              "#9c179e"
             ],
             [
              0.4444444444444444,
              "#bd3786"
             ],
             [
              0.5555555555555556,
              "#d8576b"
             ],
             [
              0.6666666666666666,
              "#ed7953"
             ],
             [
              0.7777777777777778,
              "#fb9f3a"
             ],
             [
              0.8888888888888888,
              "#fdca26"
             ],
             [
              1,
              "#f0f921"
             ]
            ],
            "type": "histogram2dcontour"
           }
          ],
          "mesh3d": [
           {
            "colorbar": {
             "outlinewidth": 0,
             "ticks": ""
            },
            "type": "mesh3d"
           }
          ],
          "parcoords": [
           {
            "line": {
             "colorbar": {
              "outlinewidth": 0,
              "ticks": ""
             }
            },
            "type": "parcoords"
           }
          ],
          "pie": [
           {
            "automargin": true,
            "type": "pie"
           }
          ],
          "scatter": [
           {
            "marker": {
             "colorbar": {
              "outlinewidth": 0,
              "ticks": ""
             }
            },
            "type": "scatter"
           }
          ],
          "scatter3d": [
           {
            "line": {
             "colorbar": {
              "outlinewidth": 0,
              "ticks": ""
             }
            },
            "marker": {
             "colorbar": {
              "outlinewidth": 0,
              "ticks": ""
             }
            },
            "type": "scatter3d"
           }
          ],
          "scattercarpet": [
           {
            "marker": {
             "colorbar": {
              "outlinewidth": 0,
              "ticks": ""
             }
            },
            "type": "scattercarpet"
           }
          ],
          "scattergeo": [
           {
            "marker": {
             "colorbar": {
              "outlinewidth": 0,
              "ticks": ""
             }
            },
            "type": "scattergeo"
           }
          ],
          "scattergl": [
           {
            "marker": {
             "colorbar": {
              "outlinewidth": 0,
              "ticks": ""
             }
            },
            "type": "scattergl"
           }
          ],
          "scattermapbox": [
           {
            "marker": {
             "colorbar": {
              "outlinewidth": 0,
              "ticks": ""
             }
            },
            "type": "scattermapbox"
           }
          ],
          "scatterpolar": [
           {
            "marker": {
             "colorbar": {
              "outlinewidth": 0,
              "ticks": ""
             }
            },
            "type": "scatterpolar"
           }
          ],
          "scatterpolargl": [
           {
            "marker": {
             "colorbar": {
              "outlinewidth": 0,
              "ticks": ""
             }
            },
            "type": "scatterpolargl"
           }
          ],
          "scatterternary": [
           {
            "marker": {
             "colorbar": {
              "outlinewidth": 0,
              "ticks": ""
             }
            },
            "type": "scatterternary"
           }
          ],
          "surface": [
           {
            "colorbar": {
             "outlinewidth": 0,
             "ticks": ""
            },
            "colorscale": [
             [
              0,
              "#0d0887"
             ],
             [
              0.1111111111111111,
              "#46039f"
             ],
             [
              0.2222222222222222,
              "#7201a8"
             ],
             [
              0.3333333333333333,
              "#9c179e"
             ],
             [
              0.4444444444444444,
              "#bd3786"
             ],
             [
              0.5555555555555556,
              "#d8576b"
             ],
             [
              0.6666666666666666,
              "#ed7953"
             ],
             [
              0.7777777777777778,
              "#fb9f3a"
             ],
             [
              0.8888888888888888,
              "#fdca26"
             ],
             [
              1,
              "#f0f921"
             ]
            ],
            "type": "surface"
           }
          ],
          "table": [
           {
            "cells": {
             "fill": {
              "color": "#EBF0F8"
             },
             "line": {
              "color": "white"
             }
            },
            "header": {
             "fill": {
              "color": "#C8D4E3"
             },
             "line": {
              "color": "white"
             }
            },
            "type": "table"
           }
          ]
         },
         "layout": {
          "annotationdefaults": {
           "arrowcolor": "#2a3f5f",
           "arrowhead": 0,
           "arrowwidth": 1
          },
          "autotypenumbers": "strict",
          "coloraxis": {
           "colorbar": {
            "outlinewidth": 0,
            "ticks": ""
           }
          },
          "colorscale": {
           "diverging": [
            [
             0,
             "#8e0152"
            ],
            [
             0.1,
             "#c51b7d"
            ],
            [
             0.2,
             "#de77ae"
            ],
            [
             0.3,
             "#f1b6da"
            ],
            [
             0.4,
             "#fde0ef"
            ],
            [
             0.5,
             "#f7f7f7"
            ],
            [
             0.6,
             "#e6f5d0"
            ],
            [
             0.7,
             "#b8e186"
            ],
            [
             0.8,
             "#7fbc41"
            ],
            [
             0.9,
             "#4d9221"
            ],
            [
             1,
             "#276419"
            ]
           ],
           "sequential": [
            [
             0,
             "#0d0887"
            ],
            [
             0.1111111111111111,
             "#46039f"
            ],
            [
             0.2222222222222222,
             "#7201a8"
            ],
            [
             0.3333333333333333,
             "#9c179e"
            ],
            [
             0.4444444444444444,
             "#bd3786"
            ],
            [
             0.5555555555555556,
             "#d8576b"
            ],
            [
             0.6666666666666666,
             "#ed7953"
            ],
            [
             0.7777777777777778,
             "#fb9f3a"
            ],
            [
             0.8888888888888888,
             "#fdca26"
            ],
            [
             1,
             "#f0f921"
            ]
           ],
           "sequentialminus": [
            [
             0,
             "#0d0887"
            ],
            [
             0.1111111111111111,
             "#46039f"
            ],
            [
             0.2222222222222222,
             "#7201a8"
            ],
            [
             0.3333333333333333,
             "#9c179e"
            ],
            [
             0.4444444444444444,
             "#bd3786"
            ],
            [
             0.5555555555555556,
             "#d8576b"
            ],
            [
             0.6666666666666666,
             "#ed7953"
            ],
            [
             0.7777777777777778,
             "#fb9f3a"
            ],
            [
             0.8888888888888888,
             "#fdca26"
            ],
            [
             1,
             "#f0f921"
            ]
           ]
          },
          "colorway": [
           "#636efa",
           "#EF553B",
           "#00cc96",
           "#ab63fa",
           "#FFA15A",
           "#19d3f3",
           "#FF6692",
           "#B6E880",
           "#FF97FF",
           "#FECB52"
          ],
          "font": {
           "color": "#2a3f5f"
          },
          "geo": {
           "bgcolor": "white",
           "lakecolor": "white",
           "landcolor": "white",
           "showlakes": true,
           "showland": true,
           "subunitcolor": "#C8D4E3"
          },
          "hoverlabel": {
           "align": "left"
          },
          "hovermode": "closest",
          "mapbox": {
           "style": "light"
          },
          "paper_bgcolor": "white",
          "plot_bgcolor": "white",
          "polar": {
           "angularaxis": {
            "gridcolor": "#EBF0F8",
            "linecolor": "#EBF0F8",
            "ticks": ""
           },
           "bgcolor": "white",
           "radialaxis": {
            "gridcolor": "#EBF0F8",
            "linecolor": "#EBF0F8",
            "ticks": ""
           }
          },
          "scene": {
           "xaxis": {
            "backgroundcolor": "white",
            "gridcolor": "#DFE8F3",
            "gridwidth": 2,
            "linecolor": "#EBF0F8",
            "showbackground": true,
            "ticks": "",
            "zerolinecolor": "#EBF0F8"
           },
           "yaxis": {
            "backgroundcolor": "white",
            "gridcolor": "#DFE8F3",
            "gridwidth": 2,
            "linecolor": "#EBF0F8",
            "showbackground": true,
            "ticks": "",
            "zerolinecolor": "#EBF0F8"
           },
           "zaxis": {
            "backgroundcolor": "white",
            "gridcolor": "#DFE8F3",
            "gridwidth": 2,
            "linecolor": "#EBF0F8",
            "showbackground": true,
            "ticks": "",
            "zerolinecolor": "#EBF0F8"
           }
          },
          "shapedefaults": {
           "line": {
            "color": "#2a3f5f"
           }
          },
          "ternary": {
           "aaxis": {
            "gridcolor": "#DFE8F3",
            "linecolor": "#A2B1C6",
            "ticks": ""
           },
           "baxis": {
            "gridcolor": "#DFE8F3",
            "linecolor": "#A2B1C6",
            "ticks": ""
           },
           "bgcolor": "white",
           "caxis": {
            "gridcolor": "#DFE8F3",
            "linecolor": "#A2B1C6",
            "ticks": ""
           }
          },
          "title": {
           "x": 0.05
          },
          "xaxis": {
           "automargin": true,
           "gridcolor": "#EBF0F8",
           "linecolor": "#EBF0F8",
           "ticks": "",
           "title": {
            "standoff": 15
           },
           "zerolinecolor": "#EBF0F8",
           "zerolinewidth": 2
          },
          "yaxis": {
           "automargin": true,
           "gridcolor": "#EBF0F8",
           "linecolor": "#EBF0F8",
           "ticks": "",
           "title": {
            "standoff": 15
           },
           "zerolinecolor": "#EBF0F8",
           "zerolinewidth": 2
          }
         }
        },
        "title": {
         "text": ""
        },
        "width": 600,
        "xaxis": {
         "anchor": "y",
         "domain": [
          0,
          0.94
         ],
         "showgrid": true,
         "tickvals": [
          0,
          0.3,
          0.6
         ],
         "title": {
          "font": {
           "size": 18
          },
          "text": "$\\text{Threshold } \\tau$"
         }
        },
        "yaxis": {
         "anchor": "x",
         "domain": [
          0,
          1
         ],
         "nticks": 6,
         "showgrid": true,
         "title": {
          "text": "Number of Edges"
         },
         "zeroline": true
        },
        "yaxis2": {
         "anchor": "x",
         "nticks": 6,
         "overlaying": "y",
         "showgrid": false,
         "side": "right",
         "title": {
          "text": "MSE"
         },
         "zeroline": false
        }
       }
      },
      "text/html": [
       "<div>                            <div id=\"bb2c8436-fe46-4f0b-836d-17821dab92bc\" class=\"plotly-graph-div\" style=\"height:250px; width:600px;\"></div>            <script type=\"text/javascript\">                require([\"plotly\"], function(Plotly) {                    window.PLOTLYENV=window.PLOTLYENV || {};                                    if (document.getElementById(\"bb2c8436-fe46-4f0b-836d-17821dab92bc\")) {                    Plotly.newPlot(                        \"bb2c8436-fe46-4f0b-836d-17821dab92bc\",                        [{\"error_y\":{\"array\":[7.387011778212339,7.042780073563186,6.783889825213433,6.868942622813242,5.233823309639463,27.2050648946466,27.307922325269054,29.5831797422127,12.277859208340255,12.862440544372042,12.865846193946338,3.3624461481766983,8.356597330489718,10.106332926751348,10.007311731194303],\"type\":\"data\",\"visible\":true},\"name\":\"MSE\",\"type\":\"scatter\",\"x\":[-0.17,0.0,0.037,0.066,0.132,0.198,0.264,0.33,0.396,0.462,0.528,0.5940000000000001,0.66,0.726,0.792],\"xaxis\":\"x\",\"y\":[22.231392264045418,18.50768999498596,16.818328777785908,18.437362453397082,20.36365077742586,40.76508476467781,41.87670011744681,62.4974491992222,84.99840569296435,84.60619672687682,84.60199238831366,85.12748922987889,92.36031912990856,93.77760136324999,89.77500632386798],\"yaxis\":\"y2\"},{\"error_y\":{\"array\":[0.0,0.0,0.5270462766947284,1.2909944487357985,7.942501704962573,8.098353742170895,6.390096504226937,5.916079783099617,5.416025603090639,4.804511768466525,4.252450274057693,3.4156502553198664,3.518657752744984,0.5270462766947299,1.2909944487358054],\"type\":\"data\",\"visible\":true},\"name\":\"Edges\",\"type\":\"scatter\",\"x\":[-0.17,0.0,0.037,0.066,0.132,0.198,0.264,0.33,0.396,0.462,0.528,0.5940000000000001,0.66,0.726,0.792],\"xaxis\":\"x\",\"y\":[182.0,91.0,90.5,86.0,47.8,32.8,23.0,17.0,12.2,9.8,7.8,5.666666666666667,6.666666666666667,6.5,2.6666666666666665],\"yaxis\":\"y\"}],                        {\"annotations\":[{\"showarrow\":false,\"text\":\"CASTLE\",\"x\":0.02,\"xref\":\"paper\",\"y\":-0.094,\"yref\":\"paper\",\"yshift\":0},{\"ax\":0,\"ay\":80,\"showarrow\":true,\"text\":\"0.13\",\"x\":0.13,\"xref\":\"x\",\"y\":20.363,\"yref\":\"y2\",\"yshift\":0},{\"ax\":300,\"ay\":0,\"showarrow\":true,\"text\":\"20.4\",\"x\":0.13,\"xref\":\"x\",\"y\":20.363,\"yref\":\"y2\",\"yshift\":0},{\"ax\":-150,\"ay\":0,\"showarrow\":true,\"text\":\"48\",\"x\":0.13,\"xref\":\"x\",\"y\":47.8,\"yref\":\"y\",\"yshift\":0}],\"autosize\":true,\"font\":{\"family\":\"Serif\",\"size\":18},\"height\":250,\"legend\":{\"orientation\":\"h\",\"x\":0.85,\"xanchor\":\"center\",\"y\":-0.23,\"yanchor\":\"bottom\"},\"margin\":{\"b\":0,\"l\":10,\"pad\":0,\"r\":10,\"t\":10},\"template\":{\"data\":{\"bar\":[{\"error_x\":{\"color\":\"#2a3f5f\"},\"error_y\":{\"color\":\"#2a3f5f\"},\"marker\":{\"line\":{\"color\":\"white\",\"width\":0.5},\"pattern\":{\"fillmode\":\"overlay\",\"size\":10,\"solidity\":0.2}},\"type\":\"bar\"}],\"barpolar\":[{\"marker\":{\"line\":{\"color\":\"white\",\"width\":0.5},\"pattern\":{\"fillmode\":\"overlay\",\"size\":10,\"solidity\":0.2}},\"type\":\"barpolar\"}],\"carpet\":[{\"aaxis\":{\"endlinecolor\":\"#2a3f5f\",\"gridcolor\":\"#C8D4E3\",\"linecolor\":\"#C8D4E3\",\"minorgridcolor\":\"#C8D4E3\",\"startlinecolor\":\"#2a3f5f\"},\"baxis\":{\"endlinecolor\":\"#2a3f5f\",\"gridcolor\":\"#C8D4E3\",\"linecolor\":\"#C8D4E3\",\"minorgridcolor\":\"#C8D4E3\",\"startlinecolor\":\"#2a3f5f\"},\"type\":\"carpet\"}],\"choropleth\":[{\"colorbar\":{\"outlinewidth\":0,\"ticks\":\"\"},\"type\":\"choropleth\"}],\"contour\":[{\"colorbar\":{\"outlinewidth\":0,\"ticks\":\"\"},\"colorscale\":[[0.0,\"#0d0887\"],[0.1111111111111111,\"#46039f\"],[0.2222222222222222,\"#7201a8\"],[0.3333333333333333,\"#9c179e\"],[0.4444444444444444,\"#bd3786\"],[0.5555555555555556,\"#d8576b\"],[0.6666666666666666,\"#ed7953\"],[0.7777777777777778,\"#fb9f3a\"],[0.8888888888888888,\"#fdca26\"],[1.0,\"#f0f921\"]],\"type\":\"contour\"}],\"contourcarpet\":[{\"colorbar\":{\"outlinewidth\":0,\"ticks\":\"\"},\"type\":\"contourcarpet\"}],\"heatmap\":[{\"colorbar\":{\"outlinewidth\":0,\"ticks\":\"\"},\"colorscale\":[[0.0,\"#0d0887\"],[0.1111111111111111,\"#46039f\"],[0.2222222222222222,\"#7201a8\"],[0.3333333333333333,\"#9c179e\"],[0.4444444444444444,\"#bd3786\"],[0.5555555555555556,\"#d8576b\"],[0.6666666666666666,\"#ed7953\"],[0.7777777777777778,\"#fb9f3a\"],[0.8888888888888888,\"#fdca26\"],[1.0,\"#f0f921\"]],\"type\":\"heatmap\"}],\"heatmapgl\":[{\"colorbar\":{\"outlinewidth\":0,\"ticks\":\"\"},\"colorscale\":[[0.0,\"#0d0887\"],[0.1111111111111111,\"#46039f\"],[0.2222222222222222,\"#7201a8\"],[0.3333333333333333,\"#9c179e\"],[0.4444444444444444,\"#bd3786\"],[0.5555555555555556,\"#d8576b\"],[0.6666666666666666,\"#ed7953\"],[0.7777777777777778,\"#fb9f3a\"],[0.8888888888888888,\"#fdca26\"],[1.0,\"#f0f921\"]],\"type\":\"heatmapgl\"}],\"histogram\":[{\"marker\":{\"pattern\":{\"fillmode\":\"overlay\",\"size\":10,\"solidity\":0.2}},\"type\":\"histogram\"}],\"histogram2d\":[{\"colorbar\":{\"outlinewidth\":0,\"ticks\":\"\"},\"colorscale\":[[0.0,\"#0d0887\"],[0.1111111111111111,\"#46039f\"],[0.2222222222222222,\"#7201a8\"],[0.3333333333333333,\"#9c179e\"],[0.4444444444444444,\"#bd3786\"],[0.5555555555555556,\"#d8576b\"],[0.6666666666666666,\"#ed7953\"],[0.7777777777777778,\"#fb9f3a\"],[0.8888888888888888,\"#fdca26\"],[1.0,\"#f0f921\"]],\"type\":\"histogram2d\"}],\"histogram2dcontour\":[{\"colorbar\":{\"outlinewidth\":0,\"ticks\":\"\"},\"colorscale\":[[0.0,\"#0d0887\"],[0.1111111111111111,\"#46039f\"],[0.2222222222222222,\"#7201a8\"],[0.3333333333333333,\"#9c179e\"],[0.4444444444444444,\"#bd3786\"],[0.5555555555555556,\"#d8576b\"],[0.6666666666666666,\"#ed7953\"],[0.7777777777777778,\"#fb9f3a\"],[0.8888888888888888,\"#fdca26\"],[1.0,\"#f0f921\"]],\"type\":\"histogram2dcontour\"}],\"mesh3d\":[{\"colorbar\":{\"outlinewidth\":0,\"ticks\":\"\"},\"type\":\"mesh3d\"}],\"parcoords\":[{\"line\":{\"colorbar\":{\"outlinewidth\":0,\"ticks\":\"\"}},\"type\":\"parcoords\"}],\"pie\":[{\"automargin\":true,\"type\":\"pie\"}],\"scatter\":[{\"marker\":{\"colorbar\":{\"outlinewidth\":0,\"ticks\":\"\"}},\"type\":\"scatter\"}],\"scatter3d\":[{\"line\":{\"colorbar\":{\"outlinewidth\":0,\"ticks\":\"\"}},\"marker\":{\"colorbar\":{\"outlinewidth\":0,\"ticks\":\"\"}},\"type\":\"scatter3d\"}],\"scattercarpet\":[{\"marker\":{\"colorbar\":{\"outlinewidth\":0,\"ticks\":\"\"}},\"type\":\"scattercarpet\"}],\"scattergeo\":[{\"marker\":{\"colorbar\":{\"outlinewidth\":0,\"ticks\":\"\"}},\"type\":\"scattergeo\"}],\"scattergl\":[{\"marker\":{\"colorbar\":{\"outlinewidth\":0,\"ticks\":\"\"}},\"type\":\"scattergl\"}],\"scattermapbox\":[{\"marker\":{\"colorbar\":{\"outlinewidth\":0,\"ticks\":\"\"}},\"type\":\"scattermapbox\"}],\"scatterpolar\":[{\"marker\":{\"colorbar\":{\"outlinewidth\":0,\"ticks\":\"\"}},\"type\":\"scatterpolar\"}],\"scatterpolargl\":[{\"marker\":{\"colorbar\":{\"outlinewidth\":0,\"ticks\":\"\"}},\"type\":\"scatterpolargl\"}],\"scatterternary\":[{\"marker\":{\"colorbar\":{\"outlinewidth\":0,\"ticks\":\"\"}},\"type\":\"scatterternary\"}],\"surface\":[{\"colorbar\":{\"outlinewidth\":0,\"ticks\":\"\"},\"colorscale\":[[0.0,\"#0d0887\"],[0.1111111111111111,\"#46039f\"],[0.2222222222222222,\"#7201a8\"],[0.3333333333333333,\"#9c179e\"],[0.4444444444444444,\"#bd3786\"],[0.5555555555555556,\"#d8576b\"],[0.6666666666666666,\"#ed7953\"],[0.7777777777777778,\"#fb9f3a\"],[0.8888888888888888,\"#fdca26\"],[1.0,\"#f0f921\"]],\"type\":\"surface\"}],\"table\":[{\"cells\":{\"fill\":{\"color\":\"#EBF0F8\"},\"line\":{\"color\":\"white\"}},\"header\":{\"fill\":{\"color\":\"#C8D4E3\"},\"line\":{\"color\":\"white\"}},\"type\":\"table\"}]},\"layout\":{\"annotationdefaults\":{\"arrowcolor\":\"#2a3f5f\",\"arrowhead\":0,\"arrowwidth\":1},\"autotypenumbers\":\"strict\",\"coloraxis\":{\"colorbar\":{\"outlinewidth\":0,\"ticks\":\"\"}},\"colorscale\":{\"diverging\":[[0,\"#8e0152\"],[0.1,\"#c51b7d\"],[0.2,\"#de77ae\"],[0.3,\"#f1b6da\"],[0.4,\"#fde0ef\"],[0.5,\"#f7f7f7\"],[0.6,\"#e6f5d0\"],[0.7,\"#b8e186\"],[0.8,\"#7fbc41\"],[0.9,\"#4d9221\"],[1,\"#276419\"]],\"sequential\":[[0.0,\"#0d0887\"],[0.1111111111111111,\"#46039f\"],[0.2222222222222222,\"#7201a8\"],[0.3333333333333333,\"#9c179e\"],[0.4444444444444444,\"#bd3786\"],[0.5555555555555556,\"#d8576b\"],[0.6666666666666666,\"#ed7953\"],[0.7777777777777778,\"#fb9f3a\"],[0.8888888888888888,\"#fdca26\"],[1.0,\"#f0f921\"]],\"sequentialminus\":[[0.0,\"#0d0887\"],[0.1111111111111111,\"#46039f\"],[0.2222222222222222,\"#7201a8\"],[0.3333333333333333,\"#9c179e\"],[0.4444444444444444,\"#bd3786\"],[0.5555555555555556,\"#d8576b\"],[0.6666666666666666,\"#ed7953\"],[0.7777777777777778,\"#fb9f3a\"],[0.8888888888888888,\"#fdca26\"],[1.0,\"#f0f921\"]]},\"colorway\":[\"#636efa\",\"#EF553B\",\"#00cc96\",\"#ab63fa\",\"#FFA15A\",\"#19d3f3\",\"#FF6692\",\"#B6E880\",\"#FF97FF\",\"#FECB52\"],\"font\":{\"color\":\"#2a3f5f\"},\"geo\":{\"bgcolor\":\"white\",\"lakecolor\":\"white\",\"landcolor\":\"white\",\"showlakes\":true,\"showland\":true,\"subunitcolor\":\"#C8D4E3\"},\"hoverlabel\":{\"align\":\"left\"},\"hovermode\":\"closest\",\"mapbox\":{\"style\":\"light\"},\"paper_bgcolor\":\"white\",\"plot_bgcolor\":\"white\",\"polar\":{\"angularaxis\":{\"gridcolor\":\"#EBF0F8\",\"linecolor\":\"#EBF0F8\",\"ticks\":\"\"},\"bgcolor\":\"white\",\"radialaxis\":{\"gridcolor\":\"#EBF0F8\",\"linecolor\":\"#EBF0F8\",\"ticks\":\"\"}},\"scene\":{\"xaxis\":{\"backgroundcolor\":\"white\",\"gridcolor\":\"#DFE8F3\",\"gridwidth\":2,\"linecolor\":\"#EBF0F8\",\"showbackground\":true,\"ticks\":\"\",\"zerolinecolor\":\"#EBF0F8\"},\"yaxis\":{\"backgroundcolor\":\"white\",\"gridcolor\":\"#DFE8F3\",\"gridwidth\":2,\"linecolor\":\"#EBF0F8\",\"showbackground\":true,\"ticks\":\"\",\"zerolinecolor\":\"#EBF0F8\"},\"zaxis\":{\"backgroundcolor\":\"white\",\"gridcolor\":\"#DFE8F3\",\"gridwidth\":2,\"linecolor\":\"#EBF0F8\",\"showbackground\":true,\"ticks\":\"\",\"zerolinecolor\":\"#EBF0F8\"}},\"shapedefaults\":{\"line\":{\"color\":\"#2a3f5f\"}},\"ternary\":{\"aaxis\":{\"gridcolor\":\"#DFE8F3\",\"linecolor\":\"#A2B1C6\",\"ticks\":\"\"},\"baxis\":{\"gridcolor\":\"#DFE8F3\",\"linecolor\":\"#A2B1C6\",\"ticks\":\"\"},\"bgcolor\":\"white\",\"caxis\":{\"gridcolor\":\"#DFE8F3\",\"linecolor\":\"#A2B1C6\",\"ticks\":\"\"}},\"title\":{\"x\":0.05},\"xaxis\":{\"automargin\":true,\"gridcolor\":\"#EBF0F8\",\"linecolor\":\"#EBF0F8\",\"ticks\":\"\",\"title\":{\"standoff\":15},\"zerolinecolor\":\"#EBF0F8\",\"zerolinewidth\":2},\"yaxis\":{\"automargin\":true,\"gridcolor\":\"#EBF0F8\",\"linecolor\":\"#EBF0F8\",\"ticks\":\"\",\"title\":{\"standoff\":15},\"zerolinecolor\":\"#EBF0F8\",\"zerolinewidth\":2}}},\"title\":{\"text\":\"\"},\"width\":600,\"xaxis\":{\"anchor\":\"y\",\"domain\":[0.0,0.94],\"showgrid\":true,\"tickvals\":[0.0,0.3,0.6],\"title\":{\"font\":{\"size\":18},\"text\":\"$\\\\text{Threshold } \\\\tau$\"}},\"yaxis\":{\"anchor\":\"x\",\"domain\":[0.0,1.0],\"nticks\":6,\"showgrid\":true,\"title\":{\"text\":\"Number of Edges\"},\"zeroline\":true},\"yaxis2\":{\"anchor\":\"x\",\"nticks\":6,\"overlaying\":\"y\",\"showgrid\":false,\"side\":\"right\",\"title\":{\"text\":\"MSE\"},\"zeroline\":false}},                        {\"responsive\": true}                    ).then(function(){\n",
       "                            \n",
       "var gd = document.getElementById('bb2c8436-fe46-4f0b-836d-17821dab92bc');\n",
       "var x = new MutationObserver(function (mutations, observer) {{\n",
       "        var display = window.getComputedStyle(gd).display;\n",
       "        if (!display || display === 'none') {{\n",
       "            console.log([gd, 'removed!']);\n",
       "            Plotly.purge(gd);\n",
       "            observer.disconnect();\n",
       "        }}\n",
       "}});\n",
       "\n",
       "// Listen for the removal of the full notebook cells\n",
       "var notebookContainer = gd.closest('#notebook-container');\n",
       "if (notebookContainer) {{\n",
       "    x.observe(notebookContainer, {childList: true});\n",
       "}}\n",
       "\n",
       "// Listen for the clearing of the current output cell\n",
       "var outputEl = gd.closest('.output');\n",
       "if (outputEl) {{\n",
       "    x.observe(outputEl, {childList: true});\n",
       "}}\n",
       "\n",
       "                        })                };                });            </script>        </div>"
      ]
     },
     "metadata": {},
     "output_type": "display_data"
    }
   ],
   "source": [
    "import re\n",
    "from utils import load_pickle\n",
    "import pandas as pd\n",
    "import numpy as np\n",
    "\n",
    "save = True\n",
    "dset='100000'\n",
    "version = 'boston'#'(adult2|adult)'\n",
    "metric = 'MSE'\n",
    "theta = '(([+-])?\\d(\\.\\d+)?)'\n",
    "folder = \"./results/adjmats/\"\n",
    "list_edges = []\n",
    "for filename in os.listdir(folder):\n",
    "    match = re.search(f'W_est.{dset}.(\\d).(\\d).(.*?).{version}.pkl$', filename)\n",
    "    if match:\n",
    "        out_f, in_f, theta = match.groups()\n",
    "        edges = sum(load_pickle(os.path.join(folder,filename), verbose=False).flatten()>0)\n",
    "        list_edges.append((float(theta), out_f, in_f, edges))\n",
    "n_edges = pd.DataFrame(list_edges).groupby(0, as_index=False).agg({3 : ['mean', 'std']})\n",
    "n_edges.columns = n_edges.columns.droplevel()\n",
    "n_edges.columns = ['theta','N_edges','Std']\n",
    "\n",
    "folder = \"./results/\"\n",
    "filename = f\"Nested5FoldCASTLE.Reg.Synth.100000.{version}.pkl\"\n",
    "describe = load_pickle(os.path.join(folder,filename), verbose=False)\n",
    "agg_stats = pd.DataFrame([(describe[c]['theta'],c[9],describe[c]['fold'],describe[c][metric]) for c in describe]).groupby(0, as_index=False).agg({2 : ['count','max'], 3 : ['mean', 'std']})\n",
    "agg_stats.columns = ['theta', 'count','folds',  'accuracy_mean', 'accuracy_std']\n",
    "agg_stats=agg_stats.merge(n_edges,on='theta')\n",
    "agg_stats= agg_stats.drop_duplicates(subset=['N_edges'])\n",
    "sub = -0.17\n",
    "agg_stats.loc[agg_stats['theta']==-1,'theta'] = sub\n",
    "\n",
    "filter_theta = 0.8\n",
    "filter_list = []\n",
    "agg_stats = agg_stats[(agg_stats['theta']<=filter_theta) & (~round(agg_stats['theta'],3).isin(filter_list))]\n",
    "display(agg_stats)\n",
    "\n",
    "import plotly.graph_objects as go\n",
    "from plotly.subplots import make_subplots\n",
    "\n",
    "# Create figure with secondary y-axis\n",
    "fig = make_subplots(specs=[[{\"secondary_y\": True}]])\n",
    "\n",
    "if metric == 'accuracy':\n",
    "    metric =metric.capitalize()\n",
    "else:\n",
    "    metric = metric.upper()\n",
    "\n",
    "# Add traces\n",
    "fig.add_trace(\n",
    "    go.Scatter(x=agg_stats['theta'], y=agg_stats['accuracy_mean'], name=metric,         \n",
    "    error_y=dict(\n",
    "            type='data', # value of error bar given in data coordinates\n",
    "            array=agg_stats['accuracy_std'],\n",
    "            visible=True)\n",
    "            ),\n",
    "    secondary_y=True, \n",
    ")\n",
    "\n",
    "fig.add_trace(\n",
    "    go.Scatter(x=agg_stats['theta'], y=agg_stats['N_edges'], name=\"Edges\",\n",
    "    error_y=dict(\n",
    "            type='data', # value of error bar given in data coordinates\n",
    "            array=agg_stats['Std'],\n",
    "            visible=True)\n",
    "              ),\n",
    "    secondary_y=False,\n",
    ")\n",
    "\n",
    "# Add figure title\n",
    "fig.update_layout(\n",
    "    title='',\n",
    "    legend={\n",
    "        'y':-0.23,\n",
    "        'x':0.85,\n",
    "        'orientation':\"h\",\n",
    "        'xanchor': 'center',\n",
    "        'yanchor': 'bottom'},\n",
    "    template='plotly_white',\n",
    "    autosize=True,\n",
    "    width=600, height=250, \n",
    "    margin=dict(\n",
    "        l=10,\n",
    "        r=10,\n",
    "        b=0,\n",
    "        t=10,\n",
    "        pad=0\n",
    "    ),\n",
    "    font=dict(\n",
    "        family='Serif',#\"Courier New, monospace\",\n",
    "        size=18,\n",
    "        # color=\"Black\"\n",
    "    )    \n",
    ")\n",
    "\n",
    "# Set x-axis title\n",
    "fig.update_xaxes(showgrid=True,title={'text':r'$\\text{Threshold } \\tau$','font':{'size':18#, 'family': 'Courier New, monospace',\n",
    "}},tickvals=list(np.round(np.arange(0, max(agg_stats['theta']), 0.3),3)),\n",
    ")\n",
    "\n",
    "# Set y-axes titles\n",
    "fig.update_yaxes(showgrid=False,nticks=6,zeroline=False, title={'text':metric#,'font':{'size':18}\n",
    "}, #nticks=13,\n",
    "secondary_y=True)\n",
    "fig.update_yaxes(showgrid=True,nticks=6,zeroline=True, title={'text':\"Number of Edges\"#,'font':{'size':18}\n",
    "}, secondary_y=False)\n",
    "\n",
    "fig.add_annotation(x=0.02, y=-0.094,\n",
    "            text=\"CASTLE\",\n",
    "            showarrow=False,\n",
    "            yshift=0,\n",
    "            xref='paper',\n",
    "            yref='paper',)\n",
    "chosen_tau=0.13\n",
    "y_co = agg_stats[agg_stats['theta']==chosen_tau]['accuracy_mean']\n",
    "fig.add_annotation(x=chosen_tau, y=20.363,\n",
    "            text=str(chosen_tau),\n",
    "            showarrow=True,\n",
    "            yshift=0,\n",
    "            xref='x',ax=0,\n",
    "            yref='y2',ay=80)\n",
    "fig.add_annotation(x=chosen_tau, y=20.363,\n",
    "            text=str(20.4),\n",
    "            showarrow=True,\n",
    "            yshift=0,\n",
    "            xref='x',ax=300,\n",
    "            yref='y2',ay=0)\n",
    "fig.add_annotation(x=chosen_tau, y=47.8,\n",
    "            text=str(48),\n",
    "            showarrow=True,\n",
    "            yshift=0,\n",
    "            xref='x',ax=-150,\n",
    "            yref='y',ay=0)\n",
    "            \n",
    "fig.show()\n",
    "\n",
    "output_folder = \"figures\"\n",
    "if not os.path.exists(output_folder):\n",
    "    os.mkdir(output_folder)\n",
    "\n",
    "out_path = os.path.join(output_folder,f\"plot_tauoptim_{version}.png\")\n",
    "\n",
    "if save:\n",
    "    import kaleido\n",
    "    fig.write_image(out_path)\n",
    "\n"
   ]
  },
  {
   "cell_type": "markdown",
   "metadata": {},
   "source": [
    "## Cali"
   ]
  },
  {
   "cell_type": "code",
   "execution_count": 25,
   "metadata": {},
   "outputs": [
    {
     "data": {
      "text/html": [
       "<div>\n",
       "<style scoped>\n",
       "    .dataframe tbody tr th:only-of-type {\n",
       "        vertical-align: middle;\n",
       "    }\n",
       "\n",
       "    .dataframe tbody tr th {\n",
       "        vertical-align: top;\n",
       "    }\n",
       "\n",
       "    .dataframe thead th {\n",
       "        text-align: right;\n",
       "    }\n",
       "</style>\n",
       "<table border=\"1\" class=\"dataframe\">\n",
       "  <thead>\n",
       "    <tr style=\"text-align: right;\">\n",
       "      <th></th>\n",
       "      <th>theta</th>\n",
       "      <th>count</th>\n",
       "      <th>folds</th>\n",
       "      <th>accuracy_mean</th>\n",
       "      <th>accuracy_std</th>\n",
       "      <th>N_edges</th>\n",
       "      <th>Std</th>\n",
       "    </tr>\n",
       "  </thead>\n",
       "  <tbody>\n",
       "    <tr>\n",
       "      <th>0</th>\n",
       "      <td>-0.500</td>\n",
       "      <td>25</td>\n",
       "      <td>5</td>\n",
       "      <td>0.662208</td>\n",
       "      <td>0.081241</td>\n",
       "      <td>72.00</td>\n",
       "      <td>0.000000</td>\n",
       "    </tr>\n",
       "    <tr>\n",
       "      <th>1</th>\n",
       "      <td>0.000</td>\n",
       "      <td>25</td>\n",
       "      <td>5</td>\n",
       "      <td>1.062381</td>\n",
       "      <td>0.312212</td>\n",
       "      <td>36.00</td>\n",
       "      <td>0.000000</td>\n",
       "    </tr>\n",
       "    <tr>\n",
       "      <th>2</th>\n",
       "      <td>0.050</td>\n",
       "      <td>25</td>\n",
       "      <td>5</td>\n",
       "      <td>1.018462</td>\n",
       "      <td>0.348869</td>\n",
       "      <td>30.60</td>\n",
       "      <td>2.929733</td>\n",
       "    </tr>\n",
       "    <tr>\n",
       "      <th>4</th>\n",
       "      <td>0.150</td>\n",
       "      <td>25</td>\n",
       "      <td>5</td>\n",
       "      <td>1.049525</td>\n",
       "      <td>0.365987</td>\n",
       "      <td>23.40</td>\n",
       "      <td>0.816497</td>\n",
       "    </tr>\n",
       "    <tr>\n",
       "      <th>9</th>\n",
       "      <td>0.350</td>\n",
       "      <td>25</td>\n",
       "      <td>5</td>\n",
       "      <td>1.081789</td>\n",
       "      <td>0.323505</td>\n",
       "      <td>18.40</td>\n",
       "      <td>1.527525</td>\n",
       "    </tr>\n",
       "    <tr>\n",
       "      <th>13</th>\n",
       "      <td>0.500</td>\n",
       "      <td>25</td>\n",
       "      <td>5</td>\n",
       "      <td>1.083272</td>\n",
       "      <td>0.321736</td>\n",
       "      <td>16.80</td>\n",
       "      <td>1.500000</td>\n",
       "    </tr>\n",
       "    <tr>\n",
       "      <th>20</th>\n",
       "      <td>0.752</td>\n",
       "      <td>20</td>\n",
       "      <td>5</td>\n",
       "      <td>1.174837</td>\n",
       "      <td>0.294267</td>\n",
       "      <td>14.25</td>\n",
       "      <td>0.850696</td>\n",
       "    </tr>\n",
       "    <tr>\n",
       "      <th>25</th>\n",
       "      <td>0.950</td>\n",
       "      <td>15</td>\n",
       "      <td>5</td>\n",
       "      <td>1.339808</td>\n",
       "      <td>0.030016</td>\n",
       "      <td>11.00</td>\n",
       "      <td>2.236068</td>\n",
       "    </tr>\n",
       "    <tr>\n",
       "      <th>27</th>\n",
       "      <td>1.316</td>\n",
       "      <td>20</td>\n",
       "      <td>5</td>\n",
       "      <td>1.339957</td>\n",
       "      <td>0.023627</td>\n",
       "      <td>8.75</td>\n",
       "      <td>1.681947</td>\n",
       "    </tr>\n",
       "    <tr>\n",
       "      <th>29</th>\n",
       "      <td>1.692</td>\n",
       "      <td>25</td>\n",
       "      <td>5</td>\n",
       "      <td>1.331741</td>\n",
       "      <td>0.026890</td>\n",
       "      <td>6.20</td>\n",
       "      <td>1.000000</td>\n",
       "    </tr>\n",
       "    <tr>\n",
       "      <th>31</th>\n",
       "      <td>2.068</td>\n",
       "      <td>20</td>\n",
       "      <td>5</td>\n",
       "      <td>1.323914</td>\n",
       "      <td>0.024332</td>\n",
       "      <td>3.00</td>\n",
       "      <td>0.725476</td>\n",
       "    </tr>\n",
       "    <tr>\n",
       "      <th>33</th>\n",
       "      <td>2.444</td>\n",
       "      <td>20</td>\n",
       "      <td>5</td>\n",
       "      <td>1.338538</td>\n",
       "      <td>0.025893</td>\n",
       "      <td>1.75</td>\n",
       "      <td>0.850696</td>\n",
       "    </tr>\n",
       "  </tbody>\n",
       "</table>\n",
       "</div>"
      ],
      "text/plain": [
       "    theta  count  folds  accuracy_mean  accuracy_std  N_edges       Std\n",
       "0  -0.500     25      5       0.662208      0.081241    72.00  0.000000\n",
       "1   0.000     25      5       1.062381      0.312212    36.00  0.000000\n",
       "2   0.050     25      5       1.018462      0.348869    30.60  2.929733\n",
       "4   0.150     25      5       1.049525      0.365987    23.40  0.816497\n",
       "9   0.350     25      5       1.081789      0.323505    18.40  1.527525\n",
       "13  0.500     25      5       1.083272      0.321736    16.80  1.500000\n",
       "20  0.752     20      5       1.174837      0.294267    14.25  0.850696\n",
       "25  0.950     15      5       1.339808      0.030016    11.00  2.236068\n",
       "27  1.316     20      5       1.339957      0.023627     8.75  1.681947\n",
       "29  1.692     25      5       1.331741      0.026890     6.20  1.000000\n",
       "31  2.068     20      5       1.323914      0.024332     3.00  0.725476\n",
       "33  2.444     20      5       1.338538      0.025893     1.75  0.850696"
      ]
     },
     "metadata": {},
     "output_type": "display_data"
    },
    {
     "data": {
      "application/vnd.plotly.v1+json": {
       "config": {
        "plotlyServerURL": "https://plot.ly"
       },
       "data": [
        {
         "error_y": {
          "array": [
           0.08124133455302959,
           0.31221185761932635,
           0.3488693949671982,
           0.36598715573747276,
           0.32350461669607095,
           0.32173570592623957,
           0.29426735954701816,
           0.0300155281808635,
           0.023626780248184244,
           0.02688986900602854,
           0.02433217766362282,
           0.02589261205362003
          ],
          "type": "data",
          "visible": true
         },
         "name": "MSE",
         "type": "scatter",
         "x": [
          -0.5,
          0,
          0.05,
          0.15,
          0.35,
          0.5,
          0.752,
          0.95,
          1.316,
          1.692,
          2.068,
          2.444
         ],
         "xaxis": "x",
         "y": [
          0.6622075161669813,
          1.0623806684742694,
          1.0184620580426453,
          1.049525359524898,
          1.0817885939317229,
          1.0832717585997775,
          1.1748369498034168,
          1.3398076970417623,
          1.3399569522889117,
          1.3317408926283334,
          1.323914025850333,
          1.3385380047700841
         ],
         "yaxis": "y2"
        },
        {
         "error_y": {
          "array": [
           0,
           0,
           2.9297326385411573,
           0.816496580927726,
           1.5275252316519468,
           1.4999999999999996,
           0.8506963092234006,
           2.23606797749979,
           1.6819474927657674,
           1,
           0.7254762501100116,
           0.8506963092234008
          ],
          "type": "data",
          "visible": true
         },
         "name": "Edges",
         "type": "scatter",
         "x": [
          -0.5,
          0,
          0.05,
          0.15,
          0.35,
          0.5,
          0.752,
          0.95,
          1.316,
          1.692,
          2.068,
          2.444
         ],
         "xaxis": "x",
         "y": [
          72,
          36,
          30.6,
          23.4,
          18.4,
          16.8,
          14.25,
          11,
          8.75,
          6.2,
          3,
          1.75
         ],
         "yaxis": "y"
        }
       ],
       "layout": {
        "annotations": [
         {
          "showarrow": false,
          "text": "CASTLE",
          "x": 0.02,
          "xref": "paper",
          "y": -0.094,
          "yref": "paper",
          "yshift": 0
         },
         {
          "ax": 0,
          "ay": 90,
          "showarrow": true,
          "text": "0.05",
          "x": 0.05,
          "xref": "x",
          "y": 1.0185,
          "yref": "y2",
          "yshift": 0
         },
         {
          "ax": 350,
          "ay": 0,
          "showarrow": true,
          "text": "1.02",
          "x": 0.05,
          "xref": "x",
          "y": 1.0185,
          "yref": "y2",
          "yshift": 0
         },
         {
          "ax": -100,
          "ay": 0,
          "showarrow": true,
          "text": "31",
          "x": 0.05,
          "xref": "x",
          "y": 30.6,
          "yref": "y",
          "yshift": 0
         }
        ],
        "autosize": true,
        "font": {
         "family": "Serif",
         "size": 18
        },
        "height": 250,
        "legend": {
         "orientation": "h",
         "x": 0.85,
         "xanchor": "center",
         "y": -0.23,
         "yanchor": "bottom"
        },
        "margin": {
         "b": 0,
         "l": 10,
         "pad": 0,
         "r": 10,
         "t": 10
        },
        "template": {
         "data": {
          "bar": [
           {
            "error_x": {
             "color": "#2a3f5f"
            },
            "error_y": {
             "color": "#2a3f5f"
            },
            "marker": {
             "line": {
              "color": "white",
              "width": 0.5
             },
             "pattern": {
              "fillmode": "overlay",
              "size": 10,
              "solidity": 0.2
             }
            },
            "type": "bar"
           }
          ],
          "barpolar": [
           {
            "marker": {
             "line": {
              "color": "white",
              "width": 0.5
             },
             "pattern": {
              "fillmode": "overlay",
              "size": 10,
              "solidity": 0.2
             }
            },
            "type": "barpolar"
           }
          ],
          "carpet": [
           {
            "aaxis": {
             "endlinecolor": "#2a3f5f",
             "gridcolor": "#C8D4E3",
             "linecolor": "#C8D4E3",
             "minorgridcolor": "#C8D4E3",
             "startlinecolor": "#2a3f5f"
            },
            "baxis": {
             "endlinecolor": "#2a3f5f",
             "gridcolor": "#C8D4E3",
             "linecolor": "#C8D4E3",
             "minorgridcolor": "#C8D4E3",
             "startlinecolor": "#2a3f5f"
            },
            "type": "carpet"
           }
          ],
          "choropleth": [
           {
            "colorbar": {
             "outlinewidth": 0,
             "ticks": ""
            },
            "type": "choropleth"
           }
          ],
          "contour": [
           {
            "colorbar": {
             "outlinewidth": 0,
             "ticks": ""
            },
            "colorscale": [
             [
              0,
              "#0d0887"
             ],
             [
              0.1111111111111111,
              "#46039f"
             ],
             [
              0.2222222222222222,
              "#7201a8"
             ],
             [
              0.3333333333333333,
              "#9c179e"
             ],
             [
              0.4444444444444444,
              "#bd3786"
             ],
             [
              0.5555555555555556,
              "#d8576b"
             ],
             [
              0.6666666666666666,
              "#ed7953"
             ],
             [
              0.7777777777777778,
              "#fb9f3a"
             ],
             [
              0.8888888888888888,
              "#fdca26"
             ],
             [
              1,
              "#f0f921"
             ]
            ],
            "type": "contour"
           }
          ],
          "contourcarpet": [
           {
            "colorbar": {
             "outlinewidth": 0,
             "ticks": ""
            },
            "type": "contourcarpet"
           }
          ],
          "heatmap": [
           {
            "colorbar": {
             "outlinewidth": 0,
             "ticks": ""
            },
            "colorscale": [
             [
              0,
              "#0d0887"
             ],
             [
              0.1111111111111111,
              "#46039f"
             ],
             [
              0.2222222222222222,
              "#7201a8"
             ],
             [
              0.3333333333333333,
              "#9c179e"
             ],
             [
              0.4444444444444444,
              "#bd3786"
             ],
             [
              0.5555555555555556,
              "#d8576b"
             ],
             [
              0.6666666666666666,
              "#ed7953"
             ],
             [
              0.7777777777777778,
              "#fb9f3a"
             ],
             [
              0.8888888888888888,
              "#fdca26"
             ],
             [
              1,
              "#f0f921"
             ]
            ],
            "type": "heatmap"
           }
          ],
          "heatmapgl": [
           {
            "colorbar": {
             "outlinewidth": 0,
             "ticks": ""
            },
            "colorscale": [
             [
              0,
              "#0d0887"
             ],
             [
              0.1111111111111111,
              "#46039f"
             ],
             [
              0.2222222222222222,
              "#7201a8"
             ],
             [
              0.3333333333333333,
              "#9c179e"
             ],
             [
              0.4444444444444444,
              "#bd3786"
             ],
             [
              0.5555555555555556,
              "#d8576b"
             ],
             [
              0.6666666666666666,
              "#ed7953"
             ],
             [
              0.7777777777777778,
              "#fb9f3a"
             ],
             [
              0.8888888888888888,
              "#fdca26"
             ],
             [
              1,
              "#f0f921"
             ]
            ],
            "type": "heatmapgl"
           }
          ],
          "histogram": [
           {
            "marker": {
             "pattern": {
              "fillmode": "overlay",
              "size": 10,
              "solidity": 0.2
             }
            },
            "type": "histogram"
           }
          ],
          "histogram2d": [
           {
            "colorbar": {
             "outlinewidth": 0,
             "ticks": ""
            },
            "colorscale": [
             [
              0,
              "#0d0887"
             ],
             [
              0.1111111111111111,
              "#46039f"
             ],
             [
              0.2222222222222222,
              "#7201a8"
             ],
             [
              0.3333333333333333,
              "#9c179e"
             ],
             [
              0.4444444444444444,
              "#bd3786"
             ],
             [
              0.5555555555555556,
              "#d8576b"
             ],
             [
              0.6666666666666666,
              "#ed7953"
             ],
             [
              0.7777777777777778,
              "#fb9f3a"
             ],
             [
              0.8888888888888888,
              "#fdca26"
             ],
             [
              1,
              "#f0f921"
             ]
            ],
            "type": "histogram2d"
           }
          ],
          "histogram2dcontour": [
           {
            "colorbar": {
             "outlinewidth": 0,
             "ticks": ""
            },
            "colorscale": [
             [
              0,
              "#0d0887"
             ],
             [
              0.1111111111111111,
              "#46039f"
             ],
             [
              0.2222222222222222,
              "#7201a8"
             ],
             [
              0.3333333333333333,
              "#9c179e"
             ],
             [
              0.4444444444444444,
              "#bd3786"
             ],
             [
              0.5555555555555556,
              "#d8576b"
             ],
             [
              0.6666666666666666,
              "#ed7953"
             ],
             [
              0.7777777777777778,
              "#fb9f3a"
             ],
             [
              0.8888888888888888,
              "#fdca26"
             ],
             [
              1,
              "#f0f921"
             ]
            ],
            "type": "histogram2dcontour"
           }
          ],
          "mesh3d": [
           {
            "colorbar": {
             "outlinewidth": 0,
             "ticks": ""
            },
            "type": "mesh3d"
           }
          ],
          "parcoords": [
           {
            "line": {
             "colorbar": {
              "outlinewidth": 0,
              "ticks": ""
             }
            },
            "type": "parcoords"
           }
          ],
          "pie": [
           {
            "automargin": true,
            "type": "pie"
           }
          ],
          "scatter": [
           {
            "marker": {
             "colorbar": {
              "outlinewidth": 0,
              "ticks": ""
             }
            },
            "type": "scatter"
           }
          ],
          "scatter3d": [
           {
            "line": {
             "colorbar": {
              "outlinewidth": 0,
              "ticks": ""
             }
            },
            "marker": {
             "colorbar": {
              "outlinewidth": 0,
              "ticks": ""
             }
            },
            "type": "scatter3d"
           }
          ],
          "scattercarpet": [
           {
            "marker": {
             "colorbar": {
              "outlinewidth": 0,
              "ticks": ""
             }
            },
            "type": "scattercarpet"
           }
          ],
          "scattergeo": [
           {
            "marker": {
             "colorbar": {
              "outlinewidth": 0,
              "ticks": ""
             }
            },
            "type": "scattergeo"
           }
          ],
          "scattergl": [
           {
            "marker": {
             "colorbar": {
              "outlinewidth": 0,
              "ticks": ""
             }
            },
            "type": "scattergl"
           }
          ],
          "scattermapbox": [
           {
            "marker": {
             "colorbar": {
              "outlinewidth": 0,
              "ticks": ""
             }
            },
            "type": "scattermapbox"
           }
          ],
          "scatterpolar": [
           {
            "marker": {
             "colorbar": {
              "outlinewidth": 0,
              "ticks": ""
             }
            },
            "type": "scatterpolar"
           }
          ],
          "scatterpolargl": [
           {
            "marker": {
             "colorbar": {
              "outlinewidth": 0,
              "ticks": ""
             }
            },
            "type": "scatterpolargl"
           }
          ],
          "scatterternary": [
           {
            "marker": {
             "colorbar": {
              "outlinewidth": 0,
              "ticks": ""
             }
            },
            "type": "scatterternary"
           }
          ],
          "surface": [
           {
            "colorbar": {
             "outlinewidth": 0,
             "ticks": ""
            },
            "colorscale": [
             [
              0,
              "#0d0887"
             ],
             [
              0.1111111111111111,
              "#46039f"
             ],
             [
              0.2222222222222222,
              "#7201a8"
             ],
             [
              0.3333333333333333,
              "#9c179e"
             ],
             [
              0.4444444444444444,
              "#bd3786"
             ],
             [
              0.5555555555555556,
              "#d8576b"
             ],
             [
              0.6666666666666666,
              "#ed7953"
             ],
             [
              0.7777777777777778,
              "#fb9f3a"
             ],
             [
              0.8888888888888888,
              "#fdca26"
             ],
             [
              1,
              "#f0f921"
             ]
            ],
            "type": "surface"
           }
          ],
          "table": [
           {
            "cells": {
             "fill": {
              "color": "#EBF0F8"
             },
             "line": {
              "color": "white"
             }
            },
            "header": {
             "fill": {
              "color": "#C8D4E3"
             },
             "line": {
              "color": "white"
             }
            },
            "type": "table"
           }
          ]
         },
         "layout": {
          "annotationdefaults": {
           "arrowcolor": "#2a3f5f",
           "arrowhead": 0,
           "arrowwidth": 1
          },
          "autotypenumbers": "strict",
          "coloraxis": {
           "colorbar": {
            "outlinewidth": 0,
            "ticks": ""
           }
          },
          "colorscale": {
           "diverging": [
            [
             0,
             "#8e0152"
            ],
            [
             0.1,
             "#c51b7d"
            ],
            [
             0.2,
             "#de77ae"
            ],
            [
             0.3,
             "#f1b6da"
            ],
            [
             0.4,
             "#fde0ef"
            ],
            [
             0.5,
             "#f7f7f7"
            ],
            [
             0.6,
             "#e6f5d0"
            ],
            [
             0.7,
             "#b8e186"
            ],
            [
             0.8,
             "#7fbc41"
            ],
            [
             0.9,
             "#4d9221"
            ],
            [
             1,
             "#276419"
            ]
           ],
           "sequential": [
            [
             0,
             "#0d0887"
            ],
            [
             0.1111111111111111,
             "#46039f"
            ],
            [
             0.2222222222222222,
             "#7201a8"
            ],
            [
             0.3333333333333333,
             "#9c179e"
            ],
            [
             0.4444444444444444,
             "#bd3786"
            ],
            [
             0.5555555555555556,
             "#d8576b"
            ],
            [
             0.6666666666666666,
             "#ed7953"
            ],
            [
             0.7777777777777778,
             "#fb9f3a"
            ],
            [
             0.8888888888888888,
             "#fdca26"
            ],
            [
             1,
             "#f0f921"
            ]
           ],
           "sequentialminus": [
            [
             0,
             "#0d0887"
            ],
            [
             0.1111111111111111,
             "#46039f"
            ],
            [
             0.2222222222222222,
             "#7201a8"
            ],
            [
             0.3333333333333333,
             "#9c179e"
            ],
            [
             0.4444444444444444,
             "#bd3786"
            ],
            [
             0.5555555555555556,
             "#d8576b"
            ],
            [
             0.6666666666666666,
             "#ed7953"
            ],
            [
             0.7777777777777778,
             "#fb9f3a"
            ],
            [
             0.8888888888888888,
             "#fdca26"
            ],
            [
             1,
             "#f0f921"
            ]
           ]
          },
          "colorway": [
           "#636efa",
           "#EF553B",
           "#00cc96",
           "#ab63fa",
           "#FFA15A",
           "#19d3f3",
           "#FF6692",
           "#B6E880",
           "#FF97FF",
           "#FECB52"
          ],
          "font": {
           "color": "#2a3f5f"
          },
          "geo": {
           "bgcolor": "white",
           "lakecolor": "white",
           "landcolor": "white",
           "showlakes": true,
           "showland": true,
           "subunitcolor": "#C8D4E3"
          },
          "hoverlabel": {
           "align": "left"
          },
          "hovermode": "closest",
          "mapbox": {
           "style": "light"
          },
          "paper_bgcolor": "white",
          "plot_bgcolor": "white",
          "polar": {
           "angularaxis": {
            "gridcolor": "#EBF0F8",
            "linecolor": "#EBF0F8",
            "ticks": ""
           },
           "bgcolor": "white",
           "radialaxis": {
            "gridcolor": "#EBF0F8",
            "linecolor": "#EBF0F8",
            "ticks": ""
           }
          },
          "scene": {
           "xaxis": {
            "backgroundcolor": "white",
            "gridcolor": "#DFE8F3",
            "gridwidth": 2,
            "linecolor": "#EBF0F8",
            "showbackground": true,
            "ticks": "",
            "zerolinecolor": "#EBF0F8"
           },
           "yaxis": {
            "backgroundcolor": "white",
            "gridcolor": "#DFE8F3",
            "gridwidth": 2,
            "linecolor": "#EBF0F8",
            "showbackground": true,
            "ticks": "",
            "zerolinecolor": "#EBF0F8"
           },
           "zaxis": {
            "backgroundcolor": "white",
            "gridcolor": "#DFE8F3",
            "gridwidth": 2,
            "linecolor": "#EBF0F8",
            "showbackground": true,
            "ticks": "",
            "zerolinecolor": "#EBF0F8"
           }
          },
          "shapedefaults": {
           "line": {
            "color": "#2a3f5f"
           }
          },
          "ternary": {
           "aaxis": {
            "gridcolor": "#DFE8F3",
            "linecolor": "#A2B1C6",
            "ticks": ""
           },
           "baxis": {
            "gridcolor": "#DFE8F3",
            "linecolor": "#A2B1C6",
            "ticks": ""
           },
           "bgcolor": "white",
           "caxis": {
            "gridcolor": "#DFE8F3",
            "linecolor": "#A2B1C6",
            "ticks": ""
           }
          },
          "title": {
           "x": 0.05
          },
          "xaxis": {
           "automargin": true,
           "gridcolor": "#EBF0F8",
           "linecolor": "#EBF0F8",
           "ticks": "",
           "title": {
            "standoff": 15
           },
           "zerolinecolor": "#EBF0F8",
           "zerolinewidth": 2
          },
          "yaxis": {
           "automargin": true,
           "gridcolor": "#EBF0F8",
           "linecolor": "#EBF0F8",
           "ticks": "",
           "title": {
            "standoff": 15
           },
           "zerolinecolor": "#EBF0F8",
           "zerolinewidth": 2
          }
         }
        },
        "title": {
         "text": ""
        },
        "width": 600,
        "xaxis": {
         "anchor": "y",
         "domain": [
          0,
          0.94
         ],
         "showgrid": true,
         "tickvals": [
          0,
          0.5,
          1,
          1.5,
          2
         ],
         "title": {
          "font": {
           "size": 18
          },
          "text": "$\\text{Threshold } \\tau$"
         }
        },
        "yaxis": {
         "anchor": "x",
         "domain": [
          0,
          1
         ],
         "title": {
          "text": "Number of Edges"
         }
        },
        "yaxis2": {
         "anchor": "x",
         "nticks": 6,
         "overlaying": "y",
         "showgrid": false,
         "side": "right",
         "title": {
          "text": "MSE"
         },
         "zeroline": false
        }
       }
      },
      "text/html": [
       "<div>                            <div id=\"52e69478-f497-44d7-8dba-4cbdb502f87f\" class=\"plotly-graph-div\" style=\"height:250px; width:600px;\"></div>            <script type=\"text/javascript\">                require([\"plotly\"], function(Plotly) {                    window.PLOTLYENV=window.PLOTLYENV || {};                                    if (document.getElementById(\"52e69478-f497-44d7-8dba-4cbdb502f87f\")) {                    Plotly.newPlot(                        \"52e69478-f497-44d7-8dba-4cbdb502f87f\",                        [{\"error_y\":{\"array\":[0.08124133455302959,0.31221185761932635,0.3488693949671982,0.36598715573747276,0.32350461669607095,0.32173570592623957,0.29426735954701816,0.0300155281808635,0.023626780248184244,0.02688986900602854,0.02433217766362282,0.02589261205362003],\"type\":\"data\",\"visible\":true},\"name\":\"MSE\",\"type\":\"scatter\",\"x\":[-0.5,0.0,0.05,0.15,0.35,0.5,0.752,0.95,1.316,1.692,2.068,2.444],\"xaxis\":\"x\",\"y\":[0.6622075161669813,1.0623806684742694,1.0184620580426453,1.049525359524898,1.0817885939317229,1.0832717585997775,1.1748369498034168,1.3398076970417623,1.3399569522889117,1.3317408926283334,1.323914025850333,1.3385380047700841],\"yaxis\":\"y2\"},{\"error_y\":{\"array\":[0.0,0.0,2.9297326385411573,0.816496580927726,1.5275252316519468,1.4999999999999996,0.8506963092234006,2.23606797749979,1.6819474927657674,1.0,0.7254762501100116,0.8506963092234008],\"type\":\"data\",\"visible\":true},\"name\":\"Edges\",\"type\":\"scatter\",\"x\":[-0.5,0.0,0.05,0.15,0.35,0.5,0.752,0.95,1.316,1.692,2.068,2.444],\"xaxis\":\"x\",\"y\":[72.0,36.0,30.6,23.4,18.4,16.8,14.25,11.0,8.75,6.2,3.0,1.75],\"yaxis\":\"y\"}],                        {\"annotations\":[{\"showarrow\":false,\"text\":\"CASTLE\",\"x\":0.02,\"xref\":\"paper\",\"y\":-0.094,\"yref\":\"paper\",\"yshift\":0},{\"ax\":0,\"ay\":90,\"showarrow\":true,\"text\":\"0.05\",\"x\":0.05,\"xref\":\"x\",\"y\":1.0185,\"yref\":\"y2\",\"yshift\":0},{\"ax\":350,\"ay\":0,\"showarrow\":true,\"text\":\"1.02\",\"x\":0.05,\"xref\":\"x\",\"y\":1.0185,\"yref\":\"y2\",\"yshift\":0},{\"ax\":-100,\"ay\":0,\"showarrow\":true,\"text\":\"31\",\"x\":0.05,\"xref\":\"x\",\"y\":30.6,\"yref\":\"y\",\"yshift\":0}],\"autosize\":true,\"font\":{\"family\":\"Serif\",\"size\":18},\"height\":250,\"legend\":{\"orientation\":\"h\",\"x\":0.85,\"xanchor\":\"center\",\"y\":-0.23,\"yanchor\":\"bottom\"},\"margin\":{\"b\":0,\"l\":10,\"pad\":0,\"r\":10,\"t\":10},\"template\":{\"data\":{\"bar\":[{\"error_x\":{\"color\":\"#2a3f5f\"},\"error_y\":{\"color\":\"#2a3f5f\"},\"marker\":{\"line\":{\"color\":\"white\",\"width\":0.5},\"pattern\":{\"fillmode\":\"overlay\",\"size\":10,\"solidity\":0.2}},\"type\":\"bar\"}],\"barpolar\":[{\"marker\":{\"line\":{\"color\":\"white\",\"width\":0.5},\"pattern\":{\"fillmode\":\"overlay\",\"size\":10,\"solidity\":0.2}},\"type\":\"barpolar\"}],\"carpet\":[{\"aaxis\":{\"endlinecolor\":\"#2a3f5f\",\"gridcolor\":\"#C8D4E3\",\"linecolor\":\"#C8D4E3\",\"minorgridcolor\":\"#C8D4E3\",\"startlinecolor\":\"#2a3f5f\"},\"baxis\":{\"endlinecolor\":\"#2a3f5f\",\"gridcolor\":\"#C8D4E3\",\"linecolor\":\"#C8D4E3\",\"minorgridcolor\":\"#C8D4E3\",\"startlinecolor\":\"#2a3f5f\"},\"type\":\"carpet\"}],\"choropleth\":[{\"colorbar\":{\"outlinewidth\":0,\"ticks\":\"\"},\"type\":\"choropleth\"}],\"contour\":[{\"colorbar\":{\"outlinewidth\":0,\"ticks\":\"\"},\"colorscale\":[[0.0,\"#0d0887\"],[0.1111111111111111,\"#46039f\"],[0.2222222222222222,\"#7201a8\"],[0.3333333333333333,\"#9c179e\"],[0.4444444444444444,\"#bd3786\"],[0.5555555555555556,\"#d8576b\"],[0.6666666666666666,\"#ed7953\"],[0.7777777777777778,\"#fb9f3a\"],[0.8888888888888888,\"#fdca26\"],[1.0,\"#f0f921\"]],\"type\":\"contour\"}],\"contourcarpet\":[{\"colorbar\":{\"outlinewidth\":0,\"ticks\":\"\"},\"type\":\"contourcarpet\"}],\"heatmap\":[{\"colorbar\":{\"outlinewidth\":0,\"ticks\":\"\"},\"colorscale\":[[0.0,\"#0d0887\"],[0.1111111111111111,\"#46039f\"],[0.2222222222222222,\"#7201a8\"],[0.3333333333333333,\"#9c179e\"],[0.4444444444444444,\"#bd3786\"],[0.5555555555555556,\"#d8576b\"],[0.6666666666666666,\"#ed7953\"],[0.7777777777777778,\"#fb9f3a\"],[0.8888888888888888,\"#fdca26\"],[1.0,\"#f0f921\"]],\"type\":\"heatmap\"}],\"heatmapgl\":[{\"colorbar\":{\"outlinewidth\":0,\"ticks\":\"\"},\"colorscale\":[[0.0,\"#0d0887\"],[0.1111111111111111,\"#46039f\"],[0.2222222222222222,\"#7201a8\"],[0.3333333333333333,\"#9c179e\"],[0.4444444444444444,\"#bd3786\"],[0.5555555555555556,\"#d8576b\"],[0.6666666666666666,\"#ed7953\"],[0.7777777777777778,\"#fb9f3a\"],[0.8888888888888888,\"#fdca26\"],[1.0,\"#f0f921\"]],\"type\":\"heatmapgl\"}],\"histogram\":[{\"marker\":{\"pattern\":{\"fillmode\":\"overlay\",\"size\":10,\"solidity\":0.2}},\"type\":\"histogram\"}],\"histogram2d\":[{\"colorbar\":{\"outlinewidth\":0,\"ticks\":\"\"},\"colorscale\":[[0.0,\"#0d0887\"],[0.1111111111111111,\"#46039f\"],[0.2222222222222222,\"#7201a8\"],[0.3333333333333333,\"#9c179e\"],[0.4444444444444444,\"#bd3786\"],[0.5555555555555556,\"#d8576b\"],[0.6666666666666666,\"#ed7953\"],[0.7777777777777778,\"#fb9f3a\"],[0.8888888888888888,\"#fdca26\"],[1.0,\"#f0f921\"]],\"type\":\"histogram2d\"}],\"histogram2dcontour\":[{\"colorbar\":{\"outlinewidth\":0,\"ticks\":\"\"},\"colorscale\":[[0.0,\"#0d0887\"],[0.1111111111111111,\"#46039f\"],[0.2222222222222222,\"#7201a8\"],[0.3333333333333333,\"#9c179e\"],[0.4444444444444444,\"#bd3786\"],[0.5555555555555556,\"#d8576b\"],[0.6666666666666666,\"#ed7953\"],[0.7777777777777778,\"#fb9f3a\"],[0.8888888888888888,\"#fdca26\"],[1.0,\"#f0f921\"]],\"type\":\"histogram2dcontour\"}],\"mesh3d\":[{\"colorbar\":{\"outlinewidth\":0,\"ticks\":\"\"},\"type\":\"mesh3d\"}],\"parcoords\":[{\"line\":{\"colorbar\":{\"outlinewidth\":0,\"ticks\":\"\"}},\"type\":\"parcoords\"}],\"pie\":[{\"automargin\":true,\"type\":\"pie\"}],\"scatter\":[{\"marker\":{\"colorbar\":{\"outlinewidth\":0,\"ticks\":\"\"}},\"type\":\"scatter\"}],\"scatter3d\":[{\"line\":{\"colorbar\":{\"outlinewidth\":0,\"ticks\":\"\"}},\"marker\":{\"colorbar\":{\"outlinewidth\":0,\"ticks\":\"\"}},\"type\":\"scatter3d\"}],\"scattercarpet\":[{\"marker\":{\"colorbar\":{\"outlinewidth\":0,\"ticks\":\"\"}},\"type\":\"scattercarpet\"}],\"scattergeo\":[{\"marker\":{\"colorbar\":{\"outlinewidth\":0,\"ticks\":\"\"}},\"type\":\"scattergeo\"}],\"scattergl\":[{\"marker\":{\"colorbar\":{\"outlinewidth\":0,\"ticks\":\"\"}},\"type\":\"scattergl\"}],\"scattermapbox\":[{\"marker\":{\"colorbar\":{\"outlinewidth\":0,\"ticks\":\"\"}},\"type\":\"scattermapbox\"}],\"scatterpolar\":[{\"marker\":{\"colorbar\":{\"outlinewidth\":0,\"ticks\":\"\"}},\"type\":\"scatterpolar\"}],\"scatterpolargl\":[{\"marker\":{\"colorbar\":{\"outlinewidth\":0,\"ticks\":\"\"}},\"type\":\"scatterpolargl\"}],\"scatterternary\":[{\"marker\":{\"colorbar\":{\"outlinewidth\":0,\"ticks\":\"\"}},\"type\":\"scatterternary\"}],\"surface\":[{\"colorbar\":{\"outlinewidth\":0,\"ticks\":\"\"},\"colorscale\":[[0.0,\"#0d0887\"],[0.1111111111111111,\"#46039f\"],[0.2222222222222222,\"#7201a8\"],[0.3333333333333333,\"#9c179e\"],[0.4444444444444444,\"#bd3786\"],[0.5555555555555556,\"#d8576b\"],[0.6666666666666666,\"#ed7953\"],[0.7777777777777778,\"#fb9f3a\"],[0.8888888888888888,\"#fdca26\"],[1.0,\"#f0f921\"]],\"type\":\"surface\"}],\"table\":[{\"cells\":{\"fill\":{\"color\":\"#EBF0F8\"},\"line\":{\"color\":\"white\"}},\"header\":{\"fill\":{\"color\":\"#C8D4E3\"},\"line\":{\"color\":\"white\"}},\"type\":\"table\"}]},\"layout\":{\"annotationdefaults\":{\"arrowcolor\":\"#2a3f5f\",\"arrowhead\":0,\"arrowwidth\":1},\"autotypenumbers\":\"strict\",\"coloraxis\":{\"colorbar\":{\"outlinewidth\":0,\"ticks\":\"\"}},\"colorscale\":{\"diverging\":[[0,\"#8e0152\"],[0.1,\"#c51b7d\"],[0.2,\"#de77ae\"],[0.3,\"#f1b6da\"],[0.4,\"#fde0ef\"],[0.5,\"#f7f7f7\"],[0.6,\"#e6f5d0\"],[0.7,\"#b8e186\"],[0.8,\"#7fbc41\"],[0.9,\"#4d9221\"],[1,\"#276419\"]],\"sequential\":[[0.0,\"#0d0887\"],[0.1111111111111111,\"#46039f\"],[0.2222222222222222,\"#7201a8\"],[0.3333333333333333,\"#9c179e\"],[0.4444444444444444,\"#bd3786\"],[0.5555555555555556,\"#d8576b\"],[0.6666666666666666,\"#ed7953\"],[0.7777777777777778,\"#fb9f3a\"],[0.8888888888888888,\"#fdca26\"],[1.0,\"#f0f921\"]],\"sequentialminus\":[[0.0,\"#0d0887\"],[0.1111111111111111,\"#46039f\"],[0.2222222222222222,\"#7201a8\"],[0.3333333333333333,\"#9c179e\"],[0.4444444444444444,\"#bd3786\"],[0.5555555555555556,\"#d8576b\"],[0.6666666666666666,\"#ed7953\"],[0.7777777777777778,\"#fb9f3a\"],[0.8888888888888888,\"#fdca26\"],[1.0,\"#f0f921\"]]},\"colorway\":[\"#636efa\",\"#EF553B\",\"#00cc96\",\"#ab63fa\",\"#FFA15A\",\"#19d3f3\",\"#FF6692\",\"#B6E880\",\"#FF97FF\",\"#FECB52\"],\"font\":{\"color\":\"#2a3f5f\"},\"geo\":{\"bgcolor\":\"white\",\"lakecolor\":\"white\",\"landcolor\":\"white\",\"showlakes\":true,\"showland\":true,\"subunitcolor\":\"#C8D4E3\"},\"hoverlabel\":{\"align\":\"left\"},\"hovermode\":\"closest\",\"mapbox\":{\"style\":\"light\"},\"paper_bgcolor\":\"white\",\"plot_bgcolor\":\"white\",\"polar\":{\"angularaxis\":{\"gridcolor\":\"#EBF0F8\",\"linecolor\":\"#EBF0F8\",\"ticks\":\"\"},\"bgcolor\":\"white\",\"radialaxis\":{\"gridcolor\":\"#EBF0F8\",\"linecolor\":\"#EBF0F8\",\"ticks\":\"\"}},\"scene\":{\"xaxis\":{\"backgroundcolor\":\"white\",\"gridcolor\":\"#DFE8F3\",\"gridwidth\":2,\"linecolor\":\"#EBF0F8\",\"showbackground\":true,\"ticks\":\"\",\"zerolinecolor\":\"#EBF0F8\"},\"yaxis\":{\"backgroundcolor\":\"white\",\"gridcolor\":\"#DFE8F3\",\"gridwidth\":2,\"linecolor\":\"#EBF0F8\",\"showbackground\":true,\"ticks\":\"\",\"zerolinecolor\":\"#EBF0F8\"},\"zaxis\":{\"backgroundcolor\":\"white\",\"gridcolor\":\"#DFE8F3\",\"gridwidth\":2,\"linecolor\":\"#EBF0F8\",\"showbackground\":true,\"ticks\":\"\",\"zerolinecolor\":\"#EBF0F8\"}},\"shapedefaults\":{\"line\":{\"color\":\"#2a3f5f\"}},\"ternary\":{\"aaxis\":{\"gridcolor\":\"#DFE8F3\",\"linecolor\":\"#A2B1C6\",\"ticks\":\"\"},\"baxis\":{\"gridcolor\":\"#DFE8F3\",\"linecolor\":\"#A2B1C6\",\"ticks\":\"\"},\"bgcolor\":\"white\",\"caxis\":{\"gridcolor\":\"#DFE8F3\",\"linecolor\":\"#A2B1C6\",\"ticks\":\"\"}},\"title\":{\"x\":0.05},\"xaxis\":{\"automargin\":true,\"gridcolor\":\"#EBF0F8\",\"linecolor\":\"#EBF0F8\",\"ticks\":\"\",\"title\":{\"standoff\":15},\"zerolinecolor\":\"#EBF0F8\",\"zerolinewidth\":2},\"yaxis\":{\"automargin\":true,\"gridcolor\":\"#EBF0F8\",\"linecolor\":\"#EBF0F8\",\"ticks\":\"\",\"title\":{\"standoff\":15},\"zerolinecolor\":\"#EBF0F8\",\"zerolinewidth\":2}}},\"title\":{\"text\":\"\"},\"width\":600,\"xaxis\":{\"anchor\":\"y\",\"domain\":[0.0,0.94],\"showgrid\":true,\"tickvals\":[0.0,0.5,1.0,1.5,2.0],\"title\":{\"font\":{\"size\":18},\"text\":\"$\\\\text{Threshold } \\\\tau$\"}},\"yaxis\":{\"anchor\":\"x\",\"domain\":[0.0,1.0],\"title\":{\"text\":\"Number of Edges\"}},\"yaxis2\":{\"anchor\":\"x\",\"nticks\":6,\"overlaying\":\"y\",\"showgrid\":false,\"side\":\"right\",\"title\":{\"text\":\"MSE\"},\"zeroline\":false}},                        {\"responsive\": true}                    ).then(function(){\n",
       "                            \n",
       "var gd = document.getElementById('52e69478-f497-44d7-8dba-4cbdb502f87f');\n",
       "var x = new MutationObserver(function (mutations, observer) {{\n",
       "        var display = window.getComputedStyle(gd).display;\n",
       "        if (!display || display === 'none') {{\n",
       "            console.log([gd, 'removed!']);\n",
       "            Plotly.purge(gd);\n",
       "            observer.disconnect();\n",
       "        }}\n",
       "}});\n",
       "\n",
       "// Listen for the removal of the full notebook cells\n",
       "var notebookContainer = gd.closest('#notebook-container');\n",
       "if (notebookContainer) {{\n",
       "    x.observe(notebookContainer, {childList: true});\n",
       "}}\n",
       "\n",
       "// Listen for the clearing of the current output cell\n",
       "var outputEl = gd.closest('.output');\n",
       "if (outputEl) {{\n",
       "    x.observe(outputEl, {childList: true});\n",
       "}}\n",
       "\n",
       "                        })                };                });            </script>        </div>"
      ]
     },
     "metadata": {},
     "output_type": "display_data"
    }
   ],
   "source": [
    "import re\n",
    "from utils import load_pickle\n",
    "import pandas as pd\n",
    "import numpy as np\n",
    "\n",
    "save = True\n",
    "dset='100000'\n",
    "version = 'cali'#'(adult2|adult)'\n",
    "metric = 'MSE'\n",
    "theta = '(([+-])?\\d(\\.\\d+)?)'\n",
    "folder = \"./results/adjmats/\"\n",
    "list_edges = []\n",
    "for filename in os.listdir(folder):\n",
    "    match = re.search(f'W_est.{dset}.(\\d).(\\d).(.*?).{version}.pkl$', filename)\n",
    "    if match:\n",
    "        out_f, in_f, theta = match.groups()\n",
    "        edges = sum(load_pickle(os.path.join(folder,filename), verbose=False).flatten()>0)\n",
    "        list_edges.append((float(theta), out_f, in_f, edges))\n",
    "n_edges = pd.DataFrame(list_edges).groupby(0, as_index=False).agg({3 : ['mean', 'std']})\n",
    "n_edges.columns = n_edges.columns.droplevel()\n",
    "n_edges.columns = ['theta','N_edges','Std']\n",
    "\n",
    "folder = \"./results/\"\n",
    "filename = f\"Nested5FoldCASTLE.Reg.Synth.100000.{version}.pkl\"\n",
    "describe = load_pickle(os.path.join(folder,filename), verbose=False)\n",
    "agg_stats = pd.DataFrame([(describe[c]['theta'],c[9],describe[c]['fold'],describe[c][metric]) for c in describe]).groupby(0, as_index=False).agg({2 : ['count','max'], 3 : ['mean', 'std']})\n",
    "agg_stats.columns = ['theta', 'count','folds',  'accuracy_mean', 'accuracy_std']\n",
    "agg_stats=agg_stats.merge(n_edges,on='theta')\n",
    "agg_stats= agg_stats.drop_duplicates(subset=['N_edges'])\n",
    "sub = -0.5\n",
    "agg_stats.loc[agg_stats['theta']==-1,'theta'] = sub\n",
    "\n",
    "filter_theta = 3\n",
    "filter_list = [0.1, 0.188, 0.2,0.25, 0.3,0.4,0.45, 0.376, 0.55,0.65, 0.7,0.75, 0.8,0.85,0.9,0.94, 1.504,1.88, 2.256,2.632]#[0.1,0.188,0.2,0.3,0.35,0.376,0.45,0.65,0.7,0.8,0.85,0.9,0.95]\n",
    "agg_stats = agg_stats[(agg_stats['theta']<=filter_theta) & (~round(agg_stats['theta'],3).isin(filter_list))]\n",
    "display(agg_stats)\n",
    "\n",
    "import plotly.graph_objects as go\n",
    "from plotly.subplots import make_subplots\n",
    "\n",
    "# Create figure with secondary y-axis\n",
    "fig = make_subplots(specs=[[{\"secondary_y\": True}]])\n",
    "\n",
    "# Add traces\n",
    "fig.add_trace(\n",
    "    go.Scatter(x=agg_stats['theta'], y=agg_stats['accuracy_mean'], name=metric,         \n",
    "    error_y=dict(\n",
    "            type='data', # value of error bar given in data coordinates\n",
    "            array=agg_stats['accuracy_std'],\n",
    "            visible=True)\n",
    "            ),\n",
    "    secondary_y=True, \n",
    ")\n",
    "\n",
    "fig.add_trace(\n",
    "    go.Scatter(x=agg_stats['theta'], y=agg_stats['N_edges'], name=\"Edges\",\n",
    "    error_y=dict(\n",
    "            type='data', # value of error bar given in data coordinates\n",
    "            array=agg_stats['Std'],\n",
    "            visible=True)\n",
    "              ),\n",
    "    secondary_y=False,\n",
    ")\n",
    "\n",
    "# Add figure title\n",
    "fig.update_layout(\n",
    "    title='',\n",
    "    legend={\n",
    "        'y':-0.23,\n",
    "        'x':0.85,\n",
    "        'orientation':\"h\",\n",
    "        'xanchor': 'center',\n",
    "        'yanchor': 'bottom'},\n",
    "    template='plotly_white',\n",
    "    autosize=True,\n",
    "    width=600, height=250, \n",
    "    margin=dict(\n",
    "        l=10,\n",
    "        r=10,\n",
    "        b=0,\n",
    "        t=10,\n",
    "        pad=0\n",
    "    ),\n",
    "    font=dict(\n",
    "        family='Serif',#\"Courier New, monospace\",\n",
    "        size=18,\n",
    "        # color=\"Black\"\n",
    "    )    \n",
    ")\n",
    "\n",
    "# Set x-axis title\n",
    "fig.update_xaxes(showgrid=True,title={'text':r'$\\text{Threshold } \\tau$','font':{'size':18#, 'family': 'Courier New, monospace',\n",
    "}},tickvals=list(np.round(np.arange(0, max(agg_stats['theta']), 0.5),1)),\n",
    ")\n",
    "\n",
    "# Set y-axes titles\n",
    "fig.update_yaxes(title={'text':\"Number of Edges\"#,'font':{'size':18}\n",
    "}, secondary_y=False)\n",
    "fig.update_yaxes(showgrid=False,nticks=6,zeroline=False, title={'text':metric#,'font':{'size':18}\n",
    "}, #nticks=13,\n",
    "secondary_y=True)\n",
    "\n",
    "\n",
    "fig.add_annotation(x=0.02, y=-0.094,\n",
    "            text=\"CASTLE\",\n",
    "            showarrow=False,\n",
    "            yshift=0,\n",
    "            xref='paper',\n",
    "            yref='paper',)\n",
    "\n",
    "chosen_tau=0.05\n",
    "y_co = agg_stats[agg_stats['theta']==chosen_tau]['accuracy_mean']\n",
    "fig.add_annotation(x=chosen_tau, y=1.0185,\n",
    "            text=str(chosen_tau),\n",
    "            showarrow=True,\n",
    "            yshift=0,\n",
    "            xref='x',ax=0,\n",
    "            yref='y2',ay=90)\n",
    "fig.add_annotation(x=chosen_tau, y=1.0185,\n",
    "            text=str(1.02),\n",
    "            showarrow=True,\n",
    "            yshift=0,\n",
    "            xref='x',ax=350,\n",
    "            yref='y2',ay=0)\n",
    "fig.add_annotation(x=chosen_tau, y=30.6,\n",
    "            text=str(31),\n",
    "            showarrow=True,\n",
    "            yshift=0,\n",
    "            xref='x',ax=-100,\n",
    "            yref='y',ay=0)\n",
    "            \n",
    "fig.show()\n",
    "\n",
    "output_folder = \"figures\"\n",
    "if not os.path.exists(output_folder):\n",
    "    os.mkdir(output_folder)\n",
    "\n",
    "out_path = os.path.join(output_folder,f\"plot_tauoptim_{version}.png\")\n",
    "\n",
    "if save:\n",
    "    import kaleido\n",
    "    fig.write_image(out_path)\n",
    "\n"
   ]
  }
 ],
 "metadata": {
  "interpreter": {
   "hash": "17ddb6dd1369b98a9580534afb07762b5ebdbc039cd5b98c3e5a98f1dd9838be"
  },
  "kernelspec": {
   "display_name": "Python 3.6.9 64-bit ('bayesenv': virtualenv)",
   "language": "python",
   "name": "python3"
  },
  "language_info": {
   "codemirror_mode": {
    "name": "ipython",
    "version": 3
   },
   "file_extension": ".py",
   "mimetype": "text/x-python",
   "name": "python",
   "nbconvert_exporter": "python",
   "pygments_lexer": "ipython3",
   "version": "3.6.9"
  },
  "orig_nbformat": 4
 },
 "nbformat": 4,
 "nbformat_minor": 2
}
