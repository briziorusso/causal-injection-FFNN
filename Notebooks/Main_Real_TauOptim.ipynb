{
 "cells": [
  {
   "cell_type": "markdown",
   "metadata": {},
   "source": [
    "## Fico"
   ]
  },
  {
   "cell_type": "code",
   "execution_count": 77,
   "metadata": {
    "tags": []
   },
   "outputs": [
    {
     "data": {
      "text/html": [
       "<div>\n",
       "<style scoped>\n",
       "    .dataframe tbody tr th:only-of-type {\n",
       "        vertical-align: middle;\n",
       "    }\n",
       "\n",
       "    .dataframe tbody tr th {\n",
       "        vertical-align: top;\n",
       "    }\n",
       "\n",
       "    .dataframe thead th {\n",
       "        text-align: right;\n",
       "    }\n",
       "</style>\n",
       "<table border=\"1\" class=\"dataframe\">\n",
       "  <thead>\n",
       "    <tr style=\"text-align: right;\">\n",
       "      <th></th>\n",
       "      <th>theta</th>\n",
       "      <th>count</th>\n",
       "      <th>folds</th>\n",
       "      <th>accuracy_mean</th>\n",
       "      <th>accuracy_std</th>\n",
       "      <th>N_edges</th>\n",
       "      <th>Std</th>\n",
       "    </tr>\n",
       "  </thead>\n",
       "  <tbody>\n",
       "    <tr>\n",
       "      <th>0</th>\n",
       "      <td>-0.005</td>\n",
       "      <td>25</td>\n",
       "      <td>5</td>\n",
       "      <td>0.795521</td>\n",
       "      <td>0.005878</td>\n",
       "      <td>552.0</td>\n",
       "      <td>0.000000</td>\n",
       "    </tr>\n",
       "    <tr>\n",
       "      <th>1</th>\n",
       "      <td>0.000</td>\n",
       "      <td>25</td>\n",
       "      <td>5</td>\n",
       "      <td>0.795158</td>\n",
       "      <td>0.003524</td>\n",
       "      <td>276.0</td>\n",
       "      <td>0.000000</td>\n",
       "    </tr>\n",
       "    <tr>\n",
       "      <th>2</th>\n",
       "      <td>0.004</td>\n",
       "      <td>25</td>\n",
       "      <td>5</td>\n",
       "      <td>0.792953</td>\n",
       "      <td>0.003936</td>\n",
       "      <td>84.6</td>\n",
       "      <td>6.144103</td>\n",
       "    </tr>\n",
       "    <tr>\n",
       "      <th>4</th>\n",
       "      <td>0.006</td>\n",
       "      <td>25</td>\n",
       "      <td>5</td>\n",
       "      <td>0.790614</td>\n",
       "      <td>0.002682</td>\n",
       "      <td>60.8</td>\n",
       "      <td>6.812978</td>\n",
       "    </tr>\n",
       "    <tr>\n",
       "      <th>6</th>\n",
       "      <td>0.008</td>\n",
       "      <td>25</td>\n",
       "      <td>5</td>\n",
       "      <td>0.780123</td>\n",
       "      <td>0.012351</td>\n",
       "      <td>47.0</td>\n",
       "      <td>4.232808</td>\n",
       "    </tr>\n",
       "    <tr>\n",
       "      <th>8</th>\n",
       "      <td>0.010</td>\n",
       "      <td>25</td>\n",
       "      <td>5</td>\n",
       "      <td>0.773345</td>\n",
       "      <td>0.009844</td>\n",
       "      <td>36.4</td>\n",
       "      <td>2.857738</td>\n",
       "    </tr>\n",
       "    <tr>\n",
       "      <th>10</th>\n",
       "      <td>0.012</td>\n",
       "      <td>25</td>\n",
       "      <td>5</td>\n",
       "      <td>0.714603</td>\n",
       "      <td>0.109900</td>\n",
       "      <td>29.8</td>\n",
       "      <td>1.979057</td>\n",
       "    </tr>\n",
       "    <tr>\n",
       "      <th>11</th>\n",
       "      <td>0.016</td>\n",
       "      <td>25</td>\n",
       "      <td>5</td>\n",
       "      <td>0.550320</td>\n",
       "      <td>0.102716</td>\n",
       "      <td>20.8</td>\n",
       "      <td>2.362908</td>\n",
       "    </tr>\n",
       "    <tr>\n",
       "      <th>12</th>\n",
       "      <td>0.020</td>\n",
       "      <td>25</td>\n",
       "      <td>5</td>\n",
       "      <td>0.500000</td>\n",
       "      <td>0.000000</td>\n",
       "      <td>15.2</td>\n",
       "      <td>1.979057</td>\n",
       "    </tr>\n",
       "    <tr>\n",
       "      <th>13</th>\n",
       "      <td>0.024</td>\n",
       "      <td>25</td>\n",
       "      <td>5</td>\n",
       "      <td>0.500000</td>\n",
       "      <td>0.000000</td>\n",
       "      <td>11.2</td>\n",
       "      <td>0.763763</td>\n",
       "    </tr>\n",
       "    <tr>\n",
       "      <th>14</th>\n",
       "      <td>0.028</td>\n",
       "      <td>25</td>\n",
       "      <td>5</td>\n",
       "      <td>0.500000</td>\n",
       "      <td>0.000000</td>\n",
       "      <td>7.8</td>\n",
       "      <td>1.000000</td>\n",
       "    </tr>\n",
       "  </tbody>\n",
       "</table>\n",
       "</div>"
      ],
      "text/plain": [
       "    theta  count  folds  accuracy_mean  accuracy_std  N_edges       Std\n",
       "0  -0.005     25      5       0.795521      0.005878    552.0  0.000000\n",
       "1   0.000     25      5       0.795158      0.003524    276.0  0.000000\n",
       "2   0.004     25      5       0.792953      0.003936     84.6  6.144103\n",
       "4   0.006     25      5       0.790614      0.002682     60.8  6.812978\n",
       "6   0.008     25      5       0.780123      0.012351     47.0  4.232808\n",
       "8   0.010     25      5       0.773345      0.009844     36.4  2.857738\n",
       "10  0.012     25      5       0.714603      0.109900     29.8  1.979057\n",
       "11  0.016     25      5       0.550320      0.102716     20.8  2.362908\n",
       "12  0.020     25      5       0.500000      0.000000     15.2  1.979057\n",
       "13  0.024     25      5       0.500000      0.000000     11.2  0.763763\n",
       "14  0.028     25      5       0.500000      0.000000      7.8  1.000000"
      ]
     },
     "metadata": {},
     "output_type": "display_data"
    },
    {
     "data": {
      "application/vnd.plotly.v1+json": {
       "config": {
        "plotlyServerURL": "https://plot.ly"
       },
       "data": [
        {
         "error_y": {
          "array": [
           0.005877570351900918,
           0.0035235027953191577,
           0.003935783955406033,
           0.002681633166266534,
           0.012350515777747612,
           0.009843734156192361,
           0.10989961507491076,
           0.10271620700277363,
           0,
           0,
           0
          ],
          "type": "data",
          "visible": true
         },
         "name": "AUC",
         "type": "scatter",
         "x": [
          -0.005,
          0,
          0.004,
          0.006,
          0.008,
          0.01,
          0.012,
          0.016,
          0.02,
          0.024,
          0.028
         ],
         "xaxis": "x",
         "y": [
          0.7955208414820057,
          0.7951577473751638,
          0.7929526929011074,
          0.7906142803606535,
          0.7801230485050473,
          0.7733454467827382,
          0.7146025315135799,
          0.5503204590941775,
          0.5,
          0.5,
          0.5
         ],
         "yaxis": "y2"
        },
        {
         "error_y": {
          "array": [
           0,
           0,
           6.144102863722253,
           6.8129778119898985,
           4.232808366400098,
           2.857738033247041,
           1.9790570145063193,
           2.3629078131263044,
           1.9790570145063195,
           0.7637626158259732,
           0.9999999999999998
          ],
          "type": "data",
          "visible": true
         },
         "name": "Edges",
         "type": "scatter",
         "x": [
          -0.005,
          0,
          0.004,
          0.006,
          0.008,
          0.01,
          0.012,
          0.016,
          0.02,
          0.024,
          0.028
         ],
         "xaxis": "x",
         "y": [
          552,
          276,
          84.6,
          60.8,
          47,
          36.4,
          29.8,
          20.8,
          15.2,
          11.2,
          7.8
         ],
         "yaxis": "y"
        }
       ],
       "layout": {
        "annotations": [
         {
          "showarrow": false,
          "text": "CASTLE",
          "x": 0.02,
          "xref": "paper",
          "y": -0.14,
          "yref": "paper",
          "yshift": 0
         },
         {
          "ax": 0,
          "ay": 170,
          "showarrow": true,
          "text": "0.004",
          "x": 0.004,
          "xref": "x",
          "y": 0.7929,
          "yref": "y2",
          "yshift": 0
         },
         {
          "ax": 300,
          "ay": 0,
          "showarrow": true,
          "text": "0.79",
          "x": 0.004,
          "xref": "x",
          "y": 0.7929,
          "yref": "y2",
          "yshift": 0
         },
         {
          "ax": -130,
          "ay": 0,
          "showarrow": true,
          "text": "85",
          "x": 0.004,
          "xref": "x",
          "y": 84.6,
          "yref": "y",
          "yshift": 0
         }
        ],
        "autosize": true,
        "font": {
         "family": "Serif",
         "size": 18
        },
        "height": 250,
        "legend": {
         "orientation": "h",
         "x": 0.85,
         "xanchor": "center",
         "y": -0.35,
         "yanchor": "bottom"
        },
        "margin": {
         "b": 0,
         "l": 10,
         "pad": 0,
         "r": 10,
         "t": 10
        },
        "template": {
         "data": {
          "bar": [
           {
            "error_x": {
             "color": "#2a3f5f"
            },
            "error_y": {
             "color": "#2a3f5f"
            },
            "marker": {
             "line": {
              "color": "white",
              "width": 0.5
             },
             "pattern": {
              "fillmode": "overlay",
              "size": 10,
              "solidity": 0.2
             }
            },
            "type": "bar"
           }
          ],
          "barpolar": [
           {
            "marker": {
             "line": {
              "color": "white",
              "width": 0.5
             },
             "pattern": {
              "fillmode": "overlay",
              "size": 10,
              "solidity": 0.2
             }
            },
            "type": "barpolar"
           }
          ],
          "carpet": [
           {
            "aaxis": {
             "endlinecolor": "#2a3f5f",
             "gridcolor": "#C8D4E3",
             "linecolor": "#C8D4E3",
             "minorgridcolor": "#C8D4E3",
             "startlinecolor": "#2a3f5f"
            },
            "baxis": {
             "endlinecolor": "#2a3f5f",
             "gridcolor": "#C8D4E3",
             "linecolor": "#C8D4E3",
             "minorgridcolor": "#C8D4E3",
             "startlinecolor": "#2a3f5f"
            },
            "type": "carpet"
           }
          ],
          "choropleth": [
           {
            "colorbar": {
             "outlinewidth": 0,
             "ticks": ""
            },
            "type": "choropleth"
           }
          ],
          "contour": [
           {
            "colorbar": {
             "outlinewidth": 0,
             "ticks": ""
            },
            "colorscale": [
             [
              0,
              "#0d0887"
             ],
             [
              0.1111111111111111,
              "#46039f"
             ],
             [
              0.2222222222222222,
              "#7201a8"
             ],
             [
              0.3333333333333333,
              "#9c179e"
             ],
             [
              0.4444444444444444,
              "#bd3786"
             ],
             [
              0.5555555555555556,
              "#d8576b"
             ],
             [
              0.6666666666666666,
              "#ed7953"
             ],
             [
              0.7777777777777778,
              "#fb9f3a"
             ],
             [
              0.8888888888888888,
              "#fdca26"
             ],
             [
              1,
              "#f0f921"
             ]
            ],
            "type": "contour"
           }
          ],
          "contourcarpet": [
           {
            "colorbar": {
             "outlinewidth": 0,
             "ticks": ""
            },
            "type": "contourcarpet"
           }
          ],
          "heatmap": [
           {
            "colorbar": {
             "outlinewidth": 0,
             "ticks": ""
            },
            "colorscale": [
             [
              0,
              "#0d0887"
             ],
             [
              0.1111111111111111,
              "#46039f"
             ],
             [
              0.2222222222222222,
              "#7201a8"
             ],
             [
              0.3333333333333333,
              "#9c179e"
             ],
             [
              0.4444444444444444,
              "#bd3786"
             ],
             [
              0.5555555555555556,
              "#d8576b"
             ],
             [
              0.6666666666666666,
              "#ed7953"
             ],
             [
              0.7777777777777778,
              "#fb9f3a"
             ],
             [
              0.8888888888888888,
              "#fdca26"
             ],
             [
              1,
              "#f0f921"
             ]
            ],
            "type": "heatmap"
           }
          ],
          "heatmapgl": [
           {
            "colorbar": {
             "outlinewidth": 0,
             "ticks": ""
            },
            "colorscale": [
             [
              0,
              "#0d0887"
             ],
             [
              0.1111111111111111,
              "#46039f"
             ],
             [
              0.2222222222222222,
              "#7201a8"
             ],
             [
              0.3333333333333333,
              "#9c179e"
             ],
             [
              0.4444444444444444,
              "#bd3786"
             ],
             [
              0.5555555555555556,
              "#d8576b"
             ],
             [
              0.6666666666666666,
              "#ed7953"
             ],
             [
              0.7777777777777778,
              "#fb9f3a"
             ],
             [
              0.8888888888888888,
              "#fdca26"
             ],
             [
              1,
              "#f0f921"
             ]
            ],
            "type": "heatmapgl"
           }
          ],
          "histogram": [
           {
            "marker": {
             "pattern": {
              "fillmode": "overlay",
              "size": 10,
              "solidity": 0.2
             }
            },
            "type": "histogram"
           }
          ],
          "histogram2d": [
           {
            "colorbar": {
             "outlinewidth": 0,
             "ticks": ""
            },
            "colorscale": [
             [
              0,
              "#0d0887"
             ],
             [
              0.1111111111111111,
              "#46039f"
             ],
             [
              0.2222222222222222,
              "#7201a8"
             ],
             [
              0.3333333333333333,
              "#9c179e"
             ],
             [
              0.4444444444444444,
              "#bd3786"
             ],
             [
              0.5555555555555556,
              "#d8576b"
             ],
             [
              0.6666666666666666,
              "#ed7953"
             ],
             [
              0.7777777777777778,
              "#fb9f3a"
             ],
             [
              0.8888888888888888,
              "#fdca26"
             ],
             [
              1,
              "#f0f921"
             ]
            ],
            "type": "histogram2d"
           }
          ],
          "histogram2dcontour": [
           {
            "colorbar": {
             "outlinewidth": 0,
             "ticks": ""
            },
            "colorscale": [
             [
              0,
              "#0d0887"
             ],
             [
              0.1111111111111111,
              "#46039f"
             ],
             [
              0.2222222222222222,
              "#7201a8"
             ],
             [
              0.3333333333333333,
              "#9c179e"
             ],
             [
              0.4444444444444444,
              "#bd3786"
             ],
             [
              0.5555555555555556,
              "#d8576b"
             ],
             [
              0.6666666666666666,
              "#ed7953"
             ],
             [
              0.7777777777777778,
              "#fb9f3a"
             ],
             [
              0.8888888888888888,
              "#fdca26"
             ],
             [
              1,
              "#f0f921"
             ]
            ],
            "type": "histogram2dcontour"
           }
          ],
          "mesh3d": [
           {
            "colorbar": {
             "outlinewidth": 0,
             "ticks": ""
            },
            "type": "mesh3d"
           }
          ],
          "parcoords": [
           {
            "line": {
             "colorbar": {
              "outlinewidth": 0,
              "ticks": ""
             }
            },
            "type": "parcoords"
           }
          ],
          "pie": [
           {
            "automargin": true,
            "type": "pie"
           }
          ],
          "scatter": [
           {
            "marker": {
             "colorbar": {
              "outlinewidth": 0,
              "ticks": ""
             }
            },
            "type": "scatter"
           }
          ],
          "scatter3d": [
           {
            "line": {
             "colorbar": {
              "outlinewidth": 0,
              "ticks": ""
             }
            },
            "marker": {
             "colorbar": {
              "outlinewidth": 0,
              "ticks": ""
             }
            },
            "type": "scatter3d"
           }
          ],
          "scattercarpet": [
           {
            "marker": {
             "colorbar": {
              "outlinewidth": 0,
              "ticks": ""
             }
            },
            "type": "scattercarpet"
           }
          ],
          "scattergeo": [
           {
            "marker": {
             "colorbar": {
              "outlinewidth": 0,
              "ticks": ""
             }
            },
            "type": "scattergeo"
           }
          ],
          "scattergl": [
           {
            "marker": {
             "colorbar": {
              "outlinewidth": 0,
              "ticks": ""
             }
            },
            "type": "scattergl"
           }
          ],
          "scattermapbox": [
           {
            "marker": {
             "colorbar": {
              "outlinewidth": 0,
              "ticks": ""
             }
            },
            "type": "scattermapbox"
           }
          ],
          "scatterpolar": [
           {
            "marker": {
             "colorbar": {
              "outlinewidth": 0,
              "ticks": ""
             }
            },
            "type": "scatterpolar"
           }
          ],
          "scatterpolargl": [
           {
            "marker": {
             "colorbar": {
              "outlinewidth": 0,
              "ticks": ""
             }
            },
            "type": "scatterpolargl"
           }
          ],
          "scatterternary": [
           {
            "marker": {
             "colorbar": {
              "outlinewidth": 0,
              "ticks": ""
             }
            },
            "type": "scatterternary"
           }
          ],
          "surface": [
           {
            "colorbar": {
             "outlinewidth": 0,
             "ticks": ""
            },
            "colorscale": [
             [
              0,
              "#0d0887"
             ],
             [
              0.1111111111111111,
              "#46039f"
             ],
             [
              0.2222222222222222,
              "#7201a8"
             ],
             [
              0.3333333333333333,
              "#9c179e"
             ],
             [
              0.4444444444444444,
              "#bd3786"
             ],
             [
              0.5555555555555556,
              "#d8576b"
             ],
             [
              0.6666666666666666,
              "#ed7953"
             ],
             [
              0.7777777777777778,
              "#fb9f3a"
             ],
             [
              0.8888888888888888,
              "#fdca26"
             ],
             [
              1,
              "#f0f921"
             ]
            ],
            "type": "surface"
           }
          ],
          "table": [
           {
            "cells": {
             "fill": {
              "color": "#EBF0F8"
             },
             "line": {
              "color": "white"
             }
            },
            "header": {
             "fill": {
              "color": "#C8D4E3"
             },
             "line": {
              "color": "white"
             }
            },
            "type": "table"
           }
          ]
         },
         "layout": {
          "annotationdefaults": {
           "arrowcolor": "#2a3f5f",
           "arrowhead": 0,
           "arrowwidth": 1
          },
          "autotypenumbers": "strict",
          "coloraxis": {
           "colorbar": {
            "outlinewidth": 0,
            "ticks": ""
           }
          },
          "colorscale": {
           "diverging": [
            [
             0,
             "#8e0152"
            ],
            [
             0.1,
             "#c51b7d"
            ],
            [
             0.2,
             "#de77ae"
            ],
            [
             0.3,
             "#f1b6da"
            ],
            [
             0.4,
             "#fde0ef"
            ],
            [
             0.5,
             "#f7f7f7"
            ],
            [
             0.6,
             "#e6f5d0"
            ],
            [
             0.7,
             "#b8e186"
            ],
            [
             0.8,
             "#7fbc41"
            ],
            [
             0.9,
             "#4d9221"
            ],
            [
             1,
             "#276419"
            ]
           ],
           "sequential": [
            [
             0,
             "#0d0887"
            ],
            [
             0.1111111111111111,
             "#46039f"
            ],
            [
             0.2222222222222222,
             "#7201a8"
            ],
            [
             0.3333333333333333,
             "#9c179e"
            ],
            [
             0.4444444444444444,
             "#bd3786"
            ],
            [
             0.5555555555555556,
             "#d8576b"
            ],
            [
             0.6666666666666666,
             "#ed7953"
            ],
            [
             0.7777777777777778,
             "#fb9f3a"
            ],
            [
             0.8888888888888888,
             "#fdca26"
            ],
            [
             1,
             "#f0f921"
            ]
           ],
           "sequentialminus": [
            [
             0,
             "#0d0887"
            ],
            [
             0.1111111111111111,
             "#46039f"
            ],
            [
             0.2222222222222222,
             "#7201a8"
            ],
            [
             0.3333333333333333,
             "#9c179e"
            ],
            [
             0.4444444444444444,
             "#bd3786"
            ],
            [
             0.5555555555555556,
             "#d8576b"
            ],
            [
             0.6666666666666666,
             "#ed7953"
            ],
            [
             0.7777777777777778,
             "#fb9f3a"
            ],
            [
             0.8888888888888888,
             "#fdca26"
            ],
            [
             1,
             "#f0f921"
            ]
           ]
          },
          "colorway": [
           "#636efa",
           "#EF553B",
           "#00cc96",
           "#ab63fa",
           "#FFA15A",
           "#19d3f3",
           "#FF6692",
           "#B6E880",
           "#FF97FF",
           "#FECB52"
          ],
          "font": {
           "color": "#2a3f5f"
          },
          "geo": {
           "bgcolor": "white",
           "lakecolor": "white",
           "landcolor": "white",
           "showlakes": true,
           "showland": true,
           "subunitcolor": "#C8D4E3"
          },
          "hoverlabel": {
           "align": "left"
          },
          "hovermode": "closest",
          "mapbox": {
           "style": "light"
          },
          "paper_bgcolor": "white",
          "plot_bgcolor": "white",
          "polar": {
           "angularaxis": {
            "gridcolor": "#EBF0F8",
            "linecolor": "#EBF0F8",
            "ticks": ""
           },
           "bgcolor": "white",
           "radialaxis": {
            "gridcolor": "#EBF0F8",
            "linecolor": "#EBF0F8",
            "ticks": ""
           }
          },
          "scene": {
           "xaxis": {
            "backgroundcolor": "white",
            "gridcolor": "#DFE8F3",
            "gridwidth": 2,
            "linecolor": "#EBF0F8",
            "showbackground": true,
            "ticks": "",
            "zerolinecolor": "#EBF0F8"
           },
           "yaxis": {
            "backgroundcolor": "white",
            "gridcolor": "#DFE8F3",
            "gridwidth": 2,
            "linecolor": "#EBF0F8",
            "showbackground": true,
            "ticks": "",
            "zerolinecolor": "#EBF0F8"
           },
           "zaxis": {
            "backgroundcolor": "white",
            "gridcolor": "#DFE8F3",
            "gridwidth": 2,
            "linecolor": "#EBF0F8",
            "showbackground": true,
            "ticks": "",
            "zerolinecolor": "#EBF0F8"
           }
          },
          "shapedefaults": {
           "line": {
            "color": "#2a3f5f"
           }
          },
          "ternary": {
           "aaxis": {
            "gridcolor": "#DFE8F3",
            "linecolor": "#A2B1C6",
            "ticks": ""
           },
           "baxis": {
            "gridcolor": "#DFE8F3",
            "linecolor": "#A2B1C6",
            "ticks": ""
           },
           "bgcolor": "white",
           "caxis": {
            "gridcolor": "#DFE8F3",
            "linecolor": "#A2B1C6",
            "ticks": ""
           }
          },
          "title": {
           "x": 0.05
          },
          "xaxis": {
           "automargin": true,
           "gridcolor": "#EBF0F8",
           "linecolor": "#EBF0F8",
           "ticks": "",
           "title": {
            "standoff": 15
           },
           "zerolinecolor": "#EBF0F8",
           "zerolinewidth": 2
          },
          "yaxis": {
           "automargin": true,
           "gridcolor": "#EBF0F8",
           "linecolor": "#EBF0F8",
           "ticks": "",
           "title": {
            "standoff": 15
           },
           "zerolinecolor": "#EBF0F8",
           "zerolinewidth": 2
          }
         }
        },
        "title": {
         "text": ""
        },
        "width": 600,
        "xaxis": {
         "anchor": "y",
         "domain": [
          0,
          0.94
         ],
         "showgrid": true,
         "tickvals": [
          0,
          0.004,
          0.01,
          0.02
         ],
         "title": {
          "font": {
           "size": 18
          },
          "text": "$\\text{Threshold } \\tau$"
         }
        },
        "yaxis": {
         "anchor": "x",
         "domain": [
          0,
          1
         ],
         "title": {
          "text": "Number of Edges"
         }
        },
        "yaxis2": {
         "anchor": "x",
         "nticks": 6,
         "overlaying": "y",
         "showgrid": false,
         "side": "right",
         "title": {
          "text": "AUC"
         },
         "zeroline": false
        }
       }
      },
      "text/html": [
       "<div>                            <div id=\"66a20737-1e2f-46a4-800c-361930c76c4b\" class=\"plotly-graph-div\" style=\"height:250px; width:600px;\"></div>            <script type=\"text/javascript\">                require([\"plotly\"], function(Plotly) {                    window.PLOTLYENV=window.PLOTLYENV || {};                                    if (document.getElementById(\"66a20737-1e2f-46a4-800c-361930c76c4b\")) {                    Plotly.newPlot(                        \"66a20737-1e2f-46a4-800c-361930c76c4b\",                        [{\"error_y\":{\"array\":[0.005877570351900918,0.0035235027953191577,0.003935783955406033,0.002681633166266534,0.012350515777747612,0.009843734156192361,0.10989961507491076,0.10271620700277363,0.0,0.0,0.0],\"type\":\"data\",\"visible\":true},\"name\":\"AUC\",\"type\":\"scatter\",\"x\":[-0.005,0.0,0.004,0.006,0.008,0.01,0.012,0.016,0.02,0.024,0.028],\"xaxis\":\"x\",\"y\":[0.7955208414820057,0.7951577473751638,0.7929526929011074,0.7906142803606535,0.7801230485050473,0.7733454467827382,0.7146025315135799,0.5503204590941775,0.5,0.5,0.5],\"yaxis\":\"y2\"},{\"error_y\":{\"array\":[0.0,0.0,6.144102863722253,6.8129778119898985,4.232808366400098,2.857738033247041,1.9790570145063193,2.3629078131263044,1.9790570145063195,0.7637626158259732,0.9999999999999998],\"type\":\"data\",\"visible\":true},\"name\":\"Edges\",\"type\":\"scatter\",\"x\":[-0.005,0.0,0.004,0.006,0.008,0.01,0.012,0.016,0.02,0.024,0.028],\"xaxis\":\"x\",\"y\":[552.0,276.0,84.6,60.8,47.0,36.4,29.8,20.8,15.2,11.2,7.8],\"yaxis\":\"y\"}],                        {\"annotations\":[{\"showarrow\":false,\"text\":\"CASTLE\",\"x\":0.02,\"xref\":\"paper\",\"y\":-0.14,\"yref\":\"paper\",\"yshift\":0},{\"ax\":0,\"ay\":170,\"showarrow\":true,\"text\":\"0.004\",\"x\":0.004,\"xref\":\"x\",\"y\":0.7929,\"yref\":\"y2\",\"yshift\":0},{\"ax\":300,\"ay\":0,\"showarrow\":true,\"text\":\"0.79\",\"x\":0.004,\"xref\":\"x\",\"y\":0.7929,\"yref\":\"y2\",\"yshift\":0},{\"ax\":-130,\"ay\":0,\"showarrow\":true,\"text\":\"85\",\"x\":0.004,\"xref\":\"x\",\"y\":84.6,\"yref\":\"y\",\"yshift\":0}],\"autosize\":true,\"font\":{\"family\":\"Serif\",\"size\":18},\"height\":250,\"legend\":{\"orientation\":\"h\",\"x\":0.85,\"xanchor\":\"center\",\"y\":-0.35,\"yanchor\":\"bottom\"},\"margin\":{\"b\":0,\"l\":10,\"pad\":0,\"r\":10,\"t\":10},\"template\":{\"data\":{\"bar\":[{\"error_x\":{\"color\":\"#2a3f5f\"},\"error_y\":{\"color\":\"#2a3f5f\"},\"marker\":{\"line\":{\"color\":\"white\",\"width\":0.5},\"pattern\":{\"fillmode\":\"overlay\",\"size\":10,\"solidity\":0.2}},\"type\":\"bar\"}],\"barpolar\":[{\"marker\":{\"line\":{\"color\":\"white\",\"width\":0.5},\"pattern\":{\"fillmode\":\"overlay\",\"size\":10,\"solidity\":0.2}},\"type\":\"barpolar\"}],\"carpet\":[{\"aaxis\":{\"endlinecolor\":\"#2a3f5f\",\"gridcolor\":\"#C8D4E3\",\"linecolor\":\"#C8D4E3\",\"minorgridcolor\":\"#C8D4E3\",\"startlinecolor\":\"#2a3f5f\"},\"baxis\":{\"endlinecolor\":\"#2a3f5f\",\"gridcolor\":\"#C8D4E3\",\"linecolor\":\"#C8D4E3\",\"minorgridcolor\":\"#C8D4E3\",\"startlinecolor\":\"#2a3f5f\"},\"type\":\"carpet\"}],\"choropleth\":[{\"colorbar\":{\"outlinewidth\":0,\"ticks\":\"\"},\"type\":\"choropleth\"}],\"contour\":[{\"colorbar\":{\"outlinewidth\":0,\"ticks\":\"\"},\"colorscale\":[[0.0,\"#0d0887\"],[0.1111111111111111,\"#46039f\"],[0.2222222222222222,\"#7201a8\"],[0.3333333333333333,\"#9c179e\"],[0.4444444444444444,\"#bd3786\"],[0.5555555555555556,\"#d8576b\"],[0.6666666666666666,\"#ed7953\"],[0.7777777777777778,\"#fb9f3a\"],[0.8888888888888888,\"#fdca26\"],[1.0,\"#f0f921\"]],\"type\":\"contour\"}],\"contourcarpet\":[{\"colorbar\":{\"outlinewidth\":0,\"ticks\":\"\"},\"type\":\"contourcarpet\"}],\"heatmap\":[{\"colorbar\":{\"outlinewidth\":0,\"ticks\":\"\"},\"colorscale\":[[0.0,\"#0d0887\"],[0.1111111111111111,\"#46039f\"],[0.2222222222222222,\"#7201a8\"],[0.3333333333333333,\"#9c179e\"],[0.4444444444444444,\"#bd3786\"],[0.5555555555555556,\"#d8576b\"],[0.6666666666666666,\"#ed7953\"],[0.7777777777777778,\"#fb9f3a\"],[0.8888888888888888,\"#fdca26\"],[1.0,\"#f0f921\"]],\"type\":\"heatmap\"}],\"heatmapgl\":[{\"colorbar\":{\"outlinewidth\":0,\"ticks\":\"\"},\"colorscale\":[[0.0,\"#0d0887\"],[0.1111111111111111,\"#46039f\"],[0.2222222222222222,\"#7201a8\"],[0.3333333333333333,\"#9c179e\"],[0.4444444444444444,\"#bd3786\"],[0.5555555555555556,\"#d8576b\"],[0.6666666666666666,\"#ed7953\"],[0.7777777777777778,\"#fb9f3a\"],[0.8888888888888888,\"#fdca26\"],[1.0,\"#f0f921\"]],\"type\":\"heatmapgl\"}],\"histogram\":[{\"marker\":{\"pattern\":{\"fillmode\":\"overlay\",\"size\":10,\"solidity\":0.2}},\"type\":\"histogram\"}],\"histogram2d\":[{\"colorbar\":{\"outlinewidth\":0,\"ticks\":\"\"},\"colorscale\":[[0.0,\"#0d0887\"],[0.1111111111111111,\"#46039f\"],[0.2222222222222222,\"#7201a8\"],[0.3333333333333333,\"#9c179e\"],[0.4444444444444444,\"#bd3786\"],[0.5555555555555556,\"#d8576b\"],[0.6666666666666666,\"#ed7953\"],[0.7777777777777778,\"#fb9f3a\"],[0.8888888888888888,\"#fdca26\"],[1.0,\"#f0f921\"]],\"type\":\"histogram2d\"}],\"histogram2dcontour\":[{\"colorbar\":{\"outlinewidth\":0,\"ticks\":\"\"},\"colorscale\":[[0.0,\"#0d0887\"],[0.1111111111111111,\"#46039f\"],[0.2222222222222222,\"#7201a8\"],[0.3333333333333333,\"#9c179e\"],[0.4444444444444444,\"#bd3786\"],[0.5555555555555556,\"#d8576b\"],[0.6666666666666666,\"#ed7953\"],[0.7777777777777778,\"#fb9f3a\"],[0.8888888888888888,\"#fdca26\"],[1.0,\"#f0f921\"]],\"type\":\"histogram2dcontour\"}],\"mesh3d\":[{\"colorbar\":{\"outlinewidth\":0,\"ticks\":\"\"},\"type\":\"mesh3d\"}],\"parcoords\":[{\"line\":{\"colorbar\":{\"outlinewidth\":0,\"ticks\":\"\"}},\"type\":\"parcoords\"}],\"pie\":[{\"automargin\":true,\"type\":\"pie\"}],\"scatter\":[{\"marker\":{\"colorbar\":{\"outlinewidth\":0,\"ticks\":\"\"}},\"type\":\"scatter\"}],\"scatter3d\":[{\"line\":{\"colorbar\":{\"outlinewidth\":0,\"ticks\":\"\"}},\"marker\":{\"colorbar\":{\"outlinewidth\":0,\"ticks\":\"\"}},\"type\":\"scatter3d\"}],\"scattercarpet\":[{\"marker\":{\"colorbar\":{\"outlinewidth\":0,\"ticks\":\"\"}},\"type\":\"scattercarpet\"}],\"scattergeo\":[{\"marker\":{\"colorbar\":{\"outlinewidth\":0,\"ticks\":\"\"}},\"type\":\"scattergeo\"}],\"scattergl\":[{\"marker\":{\"colorbar\":{\"outlinewidth\":0,\"ticks\":\"\"}},\"type\":\"scattergl\"}],\"scattermapbox\":[{\"marker\":{\"colorbar\":{\"outlinewidth\":0,\"ticks\":\"\"}},\"type\":\"scattermapbox\"}],\"scatterpolar\":[{\"marker\":{\"colorbar\":{\"outlinewidth\":0,\"ticks\":\"\"}},\"type\":\"scatterpolar\"}],\"scatterpolargl\":[{\"marker\":{\"colorbar\":{\"outlinewidth\":0,\"ticks\":\"\"}},\"type\":\"scatterpolargl\"}],\"scatterternary\":[{\"marker\":{\"colorbar\":{\"outlinewidth\":0,\"ticks\":\"\"}},\"type\":\"scatterternary\"}],\"surface\":[{\"colorbar\":{\"outlinewidth\":0,\"ticks\":\"\"},\"colorscale\":[[0.0,\"#0d0887\"],[0.1111111111111111,\"#46039f\"],[0.2222222222222222,\"#7201a8\"],[0.3333333333333333,\"#9c179e\"],[0.4444444444444444,\"#bd3786\"],[0.5555555555555556,\"#d8576b\"],[0.6666666666666666,\"#ed7953\"],[0.7777777777777778,\"#fb9f3a\"],[0.8888888888888888,\"#fdca26\"],[1.0,\"#f0f921\"]],\"type\":\"surface\"}],\"table\":[{\"cells\":{\"fill\":{\"color\":\"#EBF0F8\"},\"line\":{\"color\":\"white\"}},\"header\":{\"fill\":{\"color\":\"#C8D4E3\"},\"line\":{\"color\":\"white\"}},\"type\":\"table\"}]},\"layout\":{\"annotationdefaults\":{\"arrowcolor\":\"#2a3f5f\",\"arrowhead\":0,\"arrowwidth\":1},\"autotypenumbers\":\"strict\",\"coloraxis\":{\"colorbar\":{\"outlinewidth\":0,\"ticks\":\"\"}},\"colorscale\":{\"diverging\":[[0,\"#8e0152\"],[0.1,\"#c51b7d\"],[0.2,\"#de77ae\"],[0.3,\"#f1b6da\"],[0.4,\"#fde0ef\"],[0.5,\"#f7f7f7\"],[0.6,\"#e6f5d0\"],[0.7,\"#b8e186\"],[0.8,\"#7fbc41\"],[0.9,\"#4d9221\"],[1,\"#276419\"]],\"sequential\":[[0.0,\"#0d0887\"],[0.1111111111111111,\"#46039f\"],[0.2222222222222222,\"#7201a8\"],[0.3333333333333333,\"#9c179e\"],[0.4444444444444444,\"#bd3786\"],[0.5555555555555556,\"#d8576b\"],[0.6666666666666666,\"#ed7953\"],[0.7777777777777778,\"#fb9f3a\"],[0.8888888888888888,\"#fdca26\"],[1.0,\"#f0f921\"]],\"sequentialminus\":[[0.0,\"#0d0887\"],[0.1111111111111111,\"#46039f\"],[0.2222222222222222,\"#7201a8\"],[0.3333333333333333,\"#9c179e\"],[0.4444444444444444,\"#bd3786\"],[0.5555555555555556,\"#d8576b\"],[0.6666666666666666,\"#ed7953\"],[0.7777777777777778,\"#fb9f3a\"],[0.8888888888888888,\"#fdca26\"],[1.0,\"#f0f921\"]]},\"colorway\":[\"#636efa\",\"#EF553B\",\"#00cc96\",\"#ab63fa\",\"#FFA15A\",\"#19d3f3\",\"#FF6692\",\"#B6E880\",\"#FF97FF\",\"#FECB52\"],\"font\":{\"color\":\"#2a3f5f\"},\"geo\":{\"bgcolor\":\"white\",\"lakecolor\":\"white\",\"landcolor\":\"white\",\"showlakes\":true,\"showland\":true,\"subunitcolor\":\"#C8D4E3\"},\"hoverlabel\":{\"align\":\"left\"},\"hovermode\":\"closest\",\"mapbox\":{\"style\":\"light\"},\"paper_bgcolor\":\"white\",\"plot_bgcolor\":\"white\",\"polar\":{\"angularaxis\":{\"gridcolor\":\"#EBF0F8\",\"linecolor\":\"#EBF0F8\",\"ticks\":\"\"},\"bgcolor\":\"white\",\"radialaxis\":{\"gridcolor\":\"#EBF0F8\",\"linecolor\":\"#EBF0F8\",\"ticks\":\"\"}},\"scene\":{\"xaxis\":{\"backgroundcolor\":\"white\",\"gridcolor\":\"#DFE8F3\",\"gridwidth\":2,\"linecolor\":\"#EBF0F8\",\"showbackground\":true,\"ticks\":\"\",\"zerolinecolor\":\"#EBF0F8\"},\"yaxis\":{\"backgroundcolor\":\"white\",\"gridcolor\":\"#DFE8F3\",\"gridwidth\":2,\"linecolor\":\"#EBF0F8\",\"showbackground\":true,\"ticks\":\"\",\"zerolinecolor\":\"#EBF0F8\"},\"zaxis\":{\"backgroundcolor\":\"white\",\"gridcolor\":\"#DFE8F3\",\"gridwidth\":2,\"linecolor\":\"#EBF0F8\",\"showbackground\":true,\"ticks\":\"\",\"zerolinecolor\":\"#EBF0F8\"}},\"shapedefaults\":{\"line\":{\"color\":\"#2a3f5f\"}},\"ternary\":{\"aaxis\":{\"gridcolor\":\"#DFE8F3\",\"linecolor\":\"#A2B1C6\",\"ticks\":\"\"},\"baxis\":{\"gridcolor\":\"#DFE8F3\",\"linecolor\":\"#A2B1C6\",\"ticks\":\"\"},\"bgcolor\":\"white\",\"caxis\":{\"gridcolor\":\"#DFE8F3\",\"linecolor\":\"#A2B1C6\",\"ticks\":\"\"}},\"title\":{\"x\":0.05},\"xaxis\":{\"automargin\":true,\"gridcolor\":\"#EBF0F8\",\"linecolor\":\"#EBF0F8\",\"ticks\":\"\",\"title\":{\"standoff\":15},\"zerolinecolor\":\"#EBF0F8\",\"zerolinewidth\":2},\"yaxis\":{\"automargin\":true,\"gridcolor\":\"#EBF0F8\",\"linecolor\":\"#EBF0F8\",\"ticks\":\"\",\"title\":{\"standoff\":15},\"zerolinecolor\":\"#EBF0F8\",\"zerolinewidth\":2}}},\"title\":{\"text\":\"\"},\"width\":600,\"xaxis\":{\"anchor\":\"y\",\"domain\":[0.0,0.94],\"showgrid\":true,\"tickvals\":[0,0.004,0.01,0.02],\"title\":{\"font\":{\"size\":18},\"text\":\"$\\\\text{Threshold } \\\\tau$\"}},\"yaxis\":{\"anchor\":\"x\",\"domain\":[0.0,1.0],\"title\":{\"text\":\"Number of Edges\"}},\"yaxis2\":{\"anchor\":\"x\",\"nticks\":6,\"overlaying\":\"y\",\"showgrid\":false,\"side\":\"right\",\"title\":{\"text\":\"AUC\"},\"zeroline\":false}},                        {\"responsive\": true}                    ).then(function(){\n",
       "                            \n",
       "var gd = document.getElementById('66a20737-1e2f-46a4-800c-361930c76c4b');\n",
       "var x = new MutationObserver(function (mutations, observer) {{\n",
       "        var display = window.getComputedStyle(gd).display;\n",
       "        if (!display || display === 'none') {{\n",
       "            console.log([gd, 'removed!']);\n",
       "            Plotly.purge(gd);\n",
       "            observer.disconnect();\n",
       "        }}\n",
       "}});\n",
       "\n",
       "// Listen for the removal of the full notebook cells\n",
       "var notebookContainer = gd.closest('#notebook-container');\n",
       "if (notebookContainer) {{\n",
       "    x.observe(notebookContainer, {childList: true});\n",
       "}}\n",
       "\n",
       "// Listen for the clearing of the current output cell\n",
       "var outputEl = gd.closest('.output');\n",
       "if (outputEl) {{\n",
       "    x.observe(outputEl, {childList: true});\n",
       "}}\n",
       "\n",
       "                        })                };                });            </script>        </div>"
      ]
     },
     "metadata": {},
     "output_type": "display_data"
    }
   ],
   "source": [
    "import os\n",
    "import pandas as pd\n",
    "import numpy as np\n",
    "from utils import load_pickle\n",
    "save = True\n",
    "\n",
    "version = 'fico_3'\n",
    "metric = 'auc'\n",
    "\n",
    "dset='100000'\n",
    "theta = '(([+-])?\\d(\\.\\d+)?)'\n",
    "\n",
    "folder = \"./results/adjmats/\"\n",
    "\n",
    "import re\n",
    "list_edges = []\n",
    "for filename in os.listdir(folder):\n",
    "    match = re.search(f'W_est.{dset}.(\\d).(\\d).(.*?).{version}.pkl$', filename)\n",
    "    if match:\n",
    "        out_f, in_f, theta = match.groups()\n",
    "        edges = sum(load_pickle(os.path.join(folder,filename), verbose=False).flatten()>0)\n",
    "        list_edges.append((float(theta), out_f, in_f, edges))\n",
    "n_edges = pd.DataFrame(list_edges).groupby(0, as_index=False).agg({3 : ['mean', 'std']})\n",
    "n_edges.columns = n_edges.columns.droplevel()\n",
    "n_edges.columns = ['theta','N_edges','Std']\n",
    "\n",
    "\n",
    "folder = \"./results/\"\n",
    "filename = f\"Nested5FoldCASTLE.Reg.Synth.100000.{version}.pkl\"\n",
    "describe = load_pickle(os.path.join(folder,filename), verbose=False)\n",
    "agg_stats = pd.DataFrame([(describe[c]['theta'],c[9],describe[c]['fold'],describe[c][metric]) for c in describe]).groupby(0, as_index=False).agg({2 : ['count','max'], 3 : ['mean', 'std']})\n",
    "agg_stats.columns = ['theta', 'count','folds',  'accuracy_mean', 'accuracy_std']\n",
    "agg_stats=agg_stats.merge(n_edges,on='theta')\n",
    "agg_stats= agg_stats.drop_duplicates(subset=['N_edges'])\n",
    "\n",
    "if version == 'fico2':\n",
    "    #### Add Normal CASTLE\n",
    "    agg_stats.loc[-1] = [-1,5,5,0.723377,0.009611,405.12,10.401602]#,True]  # adding a row\n",
    "    agg_stats.index = agg_stats.index + 1  # shifting index\n",
    "    agg_stats = agg_stats.sort_index()  # sorting by index\n",
    "\n",
    "    n_edges.loc[-1] = [-1,405.12,10.401602]  # adding a row\n",
    "    n_edges.index = n_edges.index + 1  # shifting index\n",
    "    n_edges = n_edges.sort_index()  # sorting by index\n",
    "\n",
    "sub = -0.005\n",
    "agg_stats.loc[agg_stats['theta']==-1,'theta'] = sub\n",
    "\n",
    "filter_theta = 0.03\n",
    "filter_list = [0.005,0.007,0.009,0.011]\n",
    "agg_stats = agg_stats[(agg_stats['theta']<=filter_theta) & (~agg_stats['theta'].isin(filter_list))]\n",
    "display(agg_stats)\n",
    "\n",
    "import plotly.graph_objects as go\n",
    "from plotly.subplots import make_subplots\n",
    "\n",
    "# Create figure with secondary y-axis\n",
    "fig = make_subplots(specs=[[{\"secondary_y\": True}]])\n",
    "\n",
    "if metric == 'accuracy':\n",
    "    metric =metric.capitalize()\n",
    "else:\n",
    "    metric = metric.upper()\n",
    "\n",
    "# Add traces\n",
    "fig.add_trace(\n",
    "    go.Scatter(x=agg_stats['theta'], y=agg_stats['accuracy_mean'], name=metric,         \n",
    "    error_y=dict(\n",
    "            type='data', # value of error bar given in data coordinates\n",
    "            array=agg_stats['accuracy_std'],\n",
    "            visible=True)\n",
    "            ),\n",
    "    secondary_y=True, \n",
    ")\n",
    "\n",
    "fig.add_trace(\n",
    "    go.Scatter(x=agg_stats['theta'], y=agg_stats['N_edges'], name=\"Edges\",\n",
    "    error_y=dict(\n",
    "            type='data', # value of error bar given in data coordinates\n",
    "            array=agg_stats['Std'],\n",
    "            visible=True)\n",
    "              ),\n",
    "    secondary_y=False,\n",
    ")\n",
    "\n",
    "# Add figure title\n",
    "fig.update_layout(\n",
    "    title='',\n",
    "    legend={\n",
    "        'y':-0.35,\n",
    "        'x':0.85,\n",
    "        'orientation':\"h\",\n",
    "        'xanchor': 'center',\n",
    "        'yanchor': 'bottom'},\n",
    "    template='plotly_white',\n",
    "    autosize=True,\n",
    "    width=600, height=250, \n",
    "    margin=dict(\n",
    "        l=10,\n",
    "        r=10,\n",
    "        b=0,\n",
    "        t=10,\n",
    "        pad=0\n",
    "    ),\n",
    "    font=dict(\n",
    "        family='Serif',#\"Courier New, monospace\",\n",
    "        size=18,\n",
    "        # color=\"Black\"\n",
    "    )    \n",
    ")\n",
    "\n",
    "# Set x-axis title\n",
    "fig.update_xaxes(showgrid=True,title={'text':r'$\\text{Threshold } \\tau$','font':{'size':18#, 'family': 'Courier New, monospace',\n",
    "}},tickvals=[a for sub in [[0,0.004],list(np.round(np.arange(0.01, max(agg_stats['theta']), 0.01),2))] for a in sub],\n",
    ")\n",
    "\n",
    "# Set y-axes titles\n",
    "fig.update_yaxes(showgrid=False,nticks=6,zeroline=False, title={'text':metric#,'font':{'size':18}\n",
    "}, #nticks=13,\n",
    "secondary_y=True)\n",
    "fig.update_yaxes(title={'text':\"Number of Edges\"#,'font':{'size':18}\n",
    "}, secondary_y=False)\n",
    "\n",
    "fig.add_annotation(x=0.02, y=-0.14,\n",
    "            text=\"CASTLE\",\n",
    "            showarrow=False,\n",
    "            yshift=0,\n",
    "            xref='paper',\n",
    "            yref='paper',)\n",
    "chosen_tau=0.004\n",
    "y_co = agg_stats[agg_stats['theta']==chosen_tau]['accuracy_mean']\n",
    "fig.add_annotation(x=chosen_tau, y=0.7929,\n",
    "            text=str(chosen_tau),\n",
    "            showarrow=True,\n",
    "            yshift=0,\n",
    "            xref='x',ax=0,\n",
    "            yref='y2',ay=170)\n",
    "fig.add_annotation(x=chosen_tau, y=0.7929,\n",
    "            text=str(0.79),\n",
    "            showarrow=True,\n",
    "            yshift=0,\n",
    "            xref='x',ax=300,\n",
    "            yref='y2',ay=0)\n",
    "fig.add_annotation(x=chosen_tau, y=84.6,\n",
    "            text=str(85),\n",
    "            showarrow=True,\n",
    "            yshift=0,\n",
    "            xref='x',ax=-130,\n",
    "            yref='y',ay=0)\n",
    "\n",
    "fig.show()\n",
    "\n",
    "output_folder = \"figures\"\n",
    "if not os.path.exists(output_folder):\n",
    "    os.mkdir(output_folder)\n",
    "\n",
    "out_path = os.path.join(output_folder,f\"plot_tauoptim_{version}.png\")\n",
    "\n",
    "if save:\n",
    "    import kaleido\n",
    "    fig.write_image(out_path)\n",
    "\n"
   ]
  },
  {
   "cell_type": "markdown",
   "metadata": {},
   "source": [
    "## Adult"
   ]
  },
  {
   "cell_type": "code",
   "execution_count": 75,
   "metadata": {
    "tags": []
   },
   "outputs": [
    {
     "data": {
      "text/html": [
       "<div>\n",
       "<style scoped>\n",
       "    .dataframe tbody tr th:only-of-type {\n",
       "        vertical-align: middle;\n",
       "    }\n",
       "\n",
       "    .dataframe tbody tr th {\n",
       "        vertical-align: top;\n",
       "    }\n",
       "\n",
       "    .dataframe thead th {\n",
       "        text-align: right;\n",
       "    }\n",
       "</style>\n",
       "<table border=\"1\" class=\"dataframe\">\n",
       "  <thead>\n",
       "    <tr style=\"text-align: right;\">\n",
       "      <th></th>\n",
       "      <th>theta</th>\n",
       "      <th>count</th>\n",
       "      <th>folds</th>\n",
       "      <th>accuracy_mean</th>\n",
       "      <th>accuracy_std</th>\n",
       "      <th>N_edges</th>\n",
       "      <th>Std</th>\n",
       "    </tr>\n",
       "  </thead>\n",
       "  <tbody>\n",
       "    <tr>\n",
       "      <th>0</th>\n",
       "      <td>-0.09</td>\n",
       "      <td>25</td>\n",
       "      <td>5</td>\n",
       "      <td>0.747038</td>\n",
       "      <td>0.027878</td>\n",
       "      <td>210.00</td>\n",
       "      <td>0.000000</td>\n",
       "    </tr>\n",
       "    <tr>\n",
       "      <th>1</th>\n",
       "      <td>0.00</td>\n",
       "      <td>25</td>\n",
       "      <td>5</td>\n",
       "      <td>0.863468</td>\n",
       "      <td>0.005990</td>\n",
       "      <td>105.00</td>\n",
       "      <td>0.000000</td>\n",
       "    </tr>\n",
       "    <tr>\n",
       "      <th>3</th>\n",
       "      <td>0.08</td>\n",
       "      <td>25</td>\n",
       "      <td>5</td>\n",
       "      <td>0.855648</td>\n",
       "      <td>0.010548</td>\n",
       "      <td>46.20</td>\n",
       "      <td>1.979057</td>\n",
       "    </tr>\n",
       "    <tr>\n",
       "      <th>4</th>\n",
       "      <td>0.10</td>\n",
       "      <td>25</td>\n",
       "      <td>5</td>\n",
       "      <td>0.851808</td>\n",
       "      <td>0.006541</td>\n",
       "      <td>40.80</td>\n",
       "      <td>2.614065</td>\n",
       "    </tr>\n",
       "    <tr>\n",
       "      <th>5</th>\n",
       "      <td>0.12</td>\n",
       "      <td>25</td>\n",
       "      <td>5</td>\n",
       "      <td>0.850752</td>\n",
       "      <td>0.006104</td>\n",
       "      <td>36.60</td>\n",
       "      <td>2.783882</td>\n",
       "    </tr>\n",
       "    <tr>\n",
       "      <th>6</th>\n",
       "      <td>0.14</td>\n",
       "      <td>25</td>\n",
       "      <td>5</td>\n",
       "      <td>0.820374</td>\n",
       "      <td>0.059331</td>\n",
       "      <td>32.20</td>\n",
       "      <td>1.354006</td>\n",
       "    </tr>\n",
       "    <tr>\n",
       "      <th>7</th>\n",
       "      <td>0.16</td>\n",
       "      <td>25</td>\n",
       "      <td>5</td>\n",
       "      <td>0.783488</td>\n",
       "      <td>0.063420</td>\n",
       "      <td>30.80</td>\n",
       "      <td>1.190238</td>\n",
       "    </tr>\n",
       "    <tr>\n",
       "      <th>8</th>\n",
       "      <td>0.18</td>\n",
       "      <td>20</td>\n",
       "      <td>5</td>\n",
       "      <td>0.653790</td>\n",
       "      <td>0.161708</td>\n",
       "      <td>29.75</td>\n",
       "      <td>1.332785</td>\n",
       "    </tr>\n",
       "    <tr>\n",
       "      <th>11</th>\n",
       "      <td>0.28</td>\n",
       "      <td>5</td>\n",
       "      <td>5</td>\n",
       "      <td>0.500000</td>\n",
       "      <td>0.000000</td>\n",
       "      <td>27.00</td>\n",
       "      <td>0.000000</td>\n",
       "    </tr>\n",
       "    <tr>\n",
       "      <th>12</th>\n",
       "      <td>0.32</td>\n",
       "      <td>5</td>\n",
       "      <td>5</td>\n",
       "      <td>0.500000</td>\n",
       "      <td>0.000000</td>\n",
       "      <td>25.00</td>\n",
       "      <td>0.000000</td>\n",
       "    </tr>\n",
       "    <tr>\n",
       "      <th>13</th>\n",
       "      <td>0.40</td>\n",
       "      <td>5</td>\n",
       "      <td>5</td>\n",
       "      <td>0.500000</td>\n",
       "      <td>0.000000</td>\n",
       "      <td>24.00</td>\n",
       "      <td>0.000000</td>\n",
       "    </tr>\n",
       "  </tbody>\n",
       "</table>\n",
       "</div>"
      ],
      "text/plain": [
       "    theta  count  folds  accuracy_mean  accuracy_std  N_edges       Std\n",
       "0   -0.09     25      5       0.747038      0.027878   210.00  0.000000\n",
       "1    0.00     25      5       0.863468      0.005990   105.00  0.000000\n",
       "3    0.08     25      5       0.855648      0.010548    46.20  1.979057\n",
       "4    0.10     25      5       0.851808      0.006541    40.80  2.614065\n",
       "5    0.12     25      5       0.850752      0.006104    36.60  2.783882\n",
       "6    0.14     25      5       0.820374      0.059331    32.20  1.354006\n",
       "7    0.16     25      5       0.783488      0.063420    30.80  1.190238\n",
       "8    0.18     20      5       0.653790      0.161708    29.75  1.332785\n",
       "11   0.28      5      5       0.500000      0.000000    27.00  0.000000\n",
       "12   0.32      5      5       0.500000      0.000000    25.00  0.000000\n",
       "13   0.40      5      5       0.500000      0.000000    24.00  0.000000"
      ]
     },
     "metadata": {},
     "output_type": "display_data"
    },
    {
     "data": {
      "application/vnd.plotly.v1+json": {
       "config": {
        "plotlyServerURL": "https://plot.ly"
       },
       "data": [
        {
         "error_y": {
          "array": [
           0.027877660048992642,
           0.005990399399860237,
           0.01054767635363887,
           0.006540974206346158,
           0.006103871560386087,
           0.05933110504372719,
           0.06342043968175894,
           0.1617077132642796,
           0,
           0,
           0
          ],
          "type": "data",
          "visible": true
         },
         "name": "AUC",
         "type": "scatter",
         "x": [
          -0.09,
          0,
          0.08,
          0.1,
          0.12,
          0.14,
          0.16,
          0.18,
          0.28,
          0.32,
          0.4
         ],
         "xaxis": "x",
         "y": [
          0.7470380696274307,
          0.8634678058914658,
          0.8556479446454784,
          0.8518079280265499,
          0.8507520186685801,
          0.8203743640360259,
          0.7834881839086392,
          0.6537895255246378,
          0.5,
          0.5,
          0.5
         ],
         "yaxis": "y2"
        },
        {
         "error_y": {
          "array": [
           0,
           0,
           1.9790570145063204,
           2.6140645235596867,
           2.7838821814150116,
           1.3540064007726602,
           1.1902380714238083,
           1.3327849749579577,
           0,
           0,
           0
          ],
          "type": "data",
          "visible": true
         },
         "name": "Edges",
         "type": "scatter",
         "x": [
          -0.09,
          0,
          0.08,
          0.1,
          0.12,
          0.14,
          0.16,
          0.18,
          0.28,
          0.32,
          0.4
         ],
         "xaxis": "x",
         "y": [
          210,
          105,
          46.2,
          40.8,
          36.6,
          32.2,
          30.8,
          29.75,
          27,
          25,
          24
         ],
         "yaxis": "y"
        }
       ],
       "layout": {
        "annotations": [
         {
          "showarrow": false,
          "text": "CASTLE",
          "x": 0.02,
          "xref": "paper",
          "y": -0.15,
          "yref": "paper",
          "yshift": 0
         },
         {
          "ax": 0,
          "ay": 160,
          "showarrow": true,
          "text": "0.08",
          "x": 0.08,
          "xref": "x",
          "y": 0.8556,
          "yref": "y2",
          "yshift": 0
         },
         {
          "ax": 280,
          "ay": 0,
          "showarrow": true,
          "text": "0.86",
          "x": 0.08,
          "xref": "x",
          "y": 0.8556,
          "yref": "y2",
          "yshift": 0
         },
         {
          "ax": -160,
          "ay": 0,
          "showarrow": true,
          "text": "46",
          "x": 0.08,
          "xref": "x",
          "y": 46.2,
          "yref": "y",
          "yshift": 0
         }
        ],
        "autosize": true,
        "font": {
         "family": "Serif",
         "size": 18
        },
        "height": 250,
        "legend": {
         "orientation": "h",
         "x": 0.85,
         "xanchor": "center",
         "y": -0.35,
         "yanchor": "bottom"
        },
        "margin": {
         "b": 10,
         "l": 10,
         "pad": 0,
         "r": 10,
         "t": 10
        },
        "template": {
         "data": {
          "bar": [
           {
            "error_x": {
             "color": "#2a3f5f"
            },
            "error_y": {
             "color": "#2a3f5f"
            },
            "marker": {
             "line": {
              "color": "white",
              "width": 0.5
             },
             "pattern": {
              "fillmode": "overlay",
              "size": 10,
              "solidity": 0.2
             }
            },
            "type": "bar"
           }
          ],
          "barpolar": [
           {
            "marker": {
             "line": {
              "color": "white",
              "width": 0.5
             },
             "pattern": {
              "fillmode": "overlay",
              "size": 10,
              "solidity": 0.2
             }
            },
            "type": "barpolar"
           }
          ],
          "carpet": [
           {
            "aaxis": {
             "endlinecolor": "#2a3f5f",
             "gridcolor": "#C8D4E3",
             "linecolor": "#C8D4E3",
             "minorgridcolor": "#C8D4E3",
             "startlinecolor": "#2a3f5f"
            },
            "baxis": {
             "endlinecolor": "#2a3f5f",
             "gridcolor": "#C8D4E3",
             "linecolor": "#C8D4E3",
             "minorgridcolor": "#C8D4E3",
             "startlinecolor": "#2a3f5f"
            },
            "type": "carpet"
           }
          ],
          "choropleth": [
           {
            "colorbar": {
             "outlinewidth": 0,
             "ticks": ""
            },
            "type": "choropleth"
           }
          ],
          "contour": [
           {
            "colorbar": {
             "outlinewidth": 0,
             "ticks": ""
            },
            "colorscale": [
             [
              0,
              "#0d0887"
             ],
             [
              0.1111111111111111,
              "#46039f"
             ],
             [
              0.2222222222222222,
              "#7201a8"
             ],
             [
              0.3333333333333333,
              "#9c179e"
             ],
             [
              0.4444444444444444,
              "#bd3786"
             ],
             [
              0.5555555555555556,
              "#d8576b"
             ],
             [
              0.6666666666666666,
              "#ed7953"
             ],
             [
              0.7777777777777778,
              "#fb9f3a"
             ],
             [
              0.8888888888888888,
              "#fdca26"
             ],
             [
              1,
              "#f0f921"
             ]
            ],
            "type": "contour"
           }
          ],
          "contourcarpet": [
           {
            "colorbar": {
             "outlinewidth": 0,
             "ticks": ""
            },
            "type": "contourcarpet"
           }
          ],
          "heatmap": [
           {
            "colorbar": {
             "outlinewidth": 0,
             "ticks": ""
            },
            "colorscale": [
             [
              0,
              "#0d0887"
             ],
             [
              0.1111111111111111,
              "#46039f"
             ],
             [
              0.2222222222222222,
              "#7201a8"
             ],
             [
              0.3333333333333333,
              "#9c179e"
             ],
             [
              0.4444444444444444,
              "#bd3786"
             ],
             [
              0.5555555555555556,
              "#d8576b"
             ],
             [
              0.6666666666666666,
              "#ed7953"
             ],
             [
              0.7777777777777778,
              "#fb9f3a"
             ],
             [
              0.8888888888888888,
              "#fdca26"
             ],
             [
              1,
              "#f0f921"
             ]
            ],
            "type": "heatmap"
           }
          ],
          "heatmapgl": [
           {
            "colorbar": {
             "outlinewidth": 0,
             "ticks": ""
            },
            "colorscale": [
             [
              0,
              "#0d0887"
             ],
             [
              0.1111111111111111,
              "#46039f"
             ],
             [
              0.2222222222222222,
              "#7201a8"
             ],
             [
              0.3333333333333333,
              "#9c179e"
             ],
             [
              0.4444444444444444,
              "#bd3786"
             ],
             [
              0.5555555555555556,
              "#d8576b"
             ],
             [
              0.6666666666666666,
              "#ed7953"
             ],
             [
              0.7777777777777778,
              "#fb9f3a"
             ],
             [
              0.8888888888888888,
              "#fdca26"
             ],
             [
              1,
              "#f0f921"
             ]
            ],
            "type": "heatmapgl"
           }
          ],
          "histogram": [
           {
            "marker": {
             "pattern": {
              "fillmode": "overlay",
              "size": 10,
              "solidity": 0.2
             }
            },
            "type": "histogram"
           }
          ],
          "histogram2d": [
           {
            "colorbar": {
             "outlinewidth": 0,
             "ticks": ""
            },
            "colorscale": [
             [
              0,
              "#0d0887"
             ],
             [
              0.1111111111111111,
              "#46039f"
             ],
             [
              0.2222222222222222,
              "#7201a8"
             ],
             [
              0.3333333333333333,
              "#9c179e"
             ],
             [
              0.4444444444444444,
              "#bd3786"
             ],
             [
              0.5555555555555556,
              "#d8576b"
             ],
             [
              0.6666666666666666,
              "#ed7953"
             ],
             [
              0.7777777777777778,
              "#fb9f3a"
             ],
             [
              0.8888888888888888,
              "#fdca26"
             ],
             [
              1,
              "#f0f921"
             ]
            ],
            "type": "histogram2d"
           }
          ],
          "histogram2dcontour": [
           {
            "colorbar": {
             "outlinewidth": 0,
             "ticks": ""
            },
            "colorscale": [
             [
              0,
              "#0d0887"
             ],
             [
              0.1111111111111111,
              "#46039f"
             ],
             [
              0.2222222222222222,
              "#7201a8"
             ],
             [
              0.3333333333333333,
              "#9c179e"
             ],
             [
              0.4444444444444444,
              "#bd3786"
             ],
             [
              0.5555555555555556,
              "#d8576b"
             ],
             [
              0.6666666666666666,
              "#ed7953"
             ],
             [
              0.7777777777777778,
              "#fb9f3a"
             ],
             [
              0.8888888888888888,
              "#fdca26"
             ],
             [
              1,
              "#f0f921"
             ]
            ],
            "type": "histogram2dcontour"
           }
          ],
          "mesh3d": [
           {
            "colorbar": {
             "outlinewidth": 0,
             "ticks": ""
            },
            "type": "mesh3d"
           }
          ],
          "parcoords": [
           {
            "line": {
             "colorbar": {
              "outlinewidth": 0,
              "ticks": ""
             }
            },
            "type": "parcoords"
           }
          ],
          "pie": [
           {
            "automargin": true,
            "type": "pie"
           }
          ],
          "scatter": [
           {
            "marker": {
             "colorbar": {
              "outlinewidth": 0,
              "ticks": ""
             }
            },
            "type": "scatter"
           }
          ],
          "scatter3d": [
           {
            "line": {
             "colorbar": {
              "outlinewidth": 0,
              "ticks": ""
             }
            },
            "marker": {
             "colorbar": {
              "outlinewidth": 0,
              "ticks": ""
             }
            },
            "type": "scatter3d"
           }
          ],
          "scattercarpet": [
           {
            "marker": {
             "colorbar": {
              "outlinewidth": 0,
              "ticks": ""
             }
            },
            "type": "scattercarpet"
           }
          ],
          "scattergeo": [
           {
            "marker": {
             "colorbar": {
              "outlinewidth": 0,
              "ticks": ""
             }
            },
            "type": "scattergeo"
           }
          ],
          "scattergl": [
           {
            "marker": {
             "colorbar": {
              "outlinewidth": 0,
              "ticks": ""
             }
            },
            "type": "scattergl"
           }
          ],
          "scattermapbox": [
           {
            "marker": {
             "colorbar": {
              "outlinewidth": 0,
              "ticks": ""
             }
            },
            "type": "scattermapbox"
           }
          ],
          "scatterpolar": [
           {
            "marker": {
             "colorbar": {
              "outlinewidth": 0,
              "ticks": ""
             }
            },
            "type": "scatterpolar"
           }
          ],
          "scatterpolargl": [
           {
            "marker": {
             "colorbar": {
              "outlinewidth": 0,
              "ticks": ""
             }
            },
            "type": "scatterpolargl"
           }
          ],
          "scatterternary": [
           {
            "marker": {
             "colorbar": {
              "outlinewidth": 0,
              "ticks": ""
             }
            },
            "type": "scatterternary"
           }
          ],
          "surface": [
           {
            "colorbar": {
             "outlinewidth": 0,
             "ticks": ""
            },
            "colorscale": [
             [
              0,
              "#0d0887"
             ],
             [
              0.1111111111111111,
              "#46039f"
             ],
             [
              0.2222222222222222,
              "#7201a8"
             ],
             [
              0.3333333333333333,
              "#9c179e"
             ],
             [
              0.4444444444444444,
              "#bd3786"
             ],
             [
              0.5555555555555556,
              "#d8576b"
             ],
             [
              0.6666666666666666,
              "#ed7953"
             ],
             [
              0.7777777777777778,
              "#fb9f3a"
             ],
             [
              0.8888888888888888,
              "#fdca26"
             ],
             [
              1,
              "#f0f921"
             ]
            ],
            "type": "surface"
           }
          ],
          "table": [
           {
            "cells": {
             "fill": {
              "color": "#EBF0F8"
             },
             "line": {
              "color": "white"
             }
            },
            "header": {
             "fill": {
              "color": "#C8D4E3"
             },
             "line": {
              "color": "white"
             }
            },
            "type": "table"
           }
          ]
         },
         "layout": {
          "annotationdefaults": {
           "arrowcolor": "#2a3f5f",
           "arrowhead": 0,
           "arrowwidth": 1
          },
          "autotypenumbers": "strict",
          "coloraxis": {
           "colorbar": {
            "outlinewidth": 0,
            "ticks": ""
           }
          },
          "colorscale": {
           "diverging": [
            [
             0,
             "#8e0152"
            ],
            [
             0.1,
             "#c51b7d"
            ],
            [
             0.2,
             "#de77ae"
            ],
            [
             0.3,
             "#f1b6da"
            ],
            [
             0.4,
             "#fde0ef"
            ],
            [
             0.5,
             "#f7f7f7"
            ],
            [
             0.6,
             "#e6f5d0"
            ],
            [
             0.7,
             "#b8e186"
            ],
            [
             0.8,
             "#7fbc41"
            ],
            [
             0.9,
             "#4d9221"
            ],
            [
             1,
             "#276419"
            ]
           ],
           "sequential": [
            [
             0,
             "#0d0887"
            ],
            [
             0.1111111111111111,
             "#46039f"
            ],
            [
             0.2222222222222222,
             "#7201a8"
            ],
            [
             0.3333333333333333,
             "#9c179e"
            ],
            [
             0.4444444444444444,
             "#bd3786"
            ],
            [
             0.5555555555555556,
             "#d8576b"
            ],
            [
             0.6666666666666666,
             "#ed7953"
            ],
            [
             0.7777777777777778,
             "#fb9f3a"
            ],
            [
             0.8888888888888888,
             "#fdca26"
            ],
            [
             1,
             "#f0f921"
            ]
           ],
           "sequentialminus": [
            [
             0,
             "#0d0887"
            ],
            [
             0.1111111111111111,
             "#46039f"
            ],
            [
             0.2222222222222222,
             "#7201a8"
            ],
            [
             0.3333333333333333,
             "#9c179e"
            ],
            [
             0.4444444444444444,
             "#bd3786"
            ],
            [
             0.5555555555555556,
             "#d8576b"
            ],
            [
             0.6666666666666666,
             "#ed7953"
            ],
            [
             0.7777777777777778,
             "#fb9f3a"
            ],
            [
             0.8888888888888888,
             "#fdca26"
            ],
            [
             1,
             "#f0f921"
            ]
           ]
          },
          "colorway": [
           "#636efa",
           "#EF553B",
           "#00cc96",
           "#ab63fa",
           "#FFA15A",
           "#19d3f3",
           "#FF6692",
           "#B6E880",
           "#FF97FF",
           "#FECB52"
          ],
          "font": {
           "color": "#2a3f5f"
          },
          "geo": {
           "bgcolor": "white",
           "lakecolor": "white",
           "landcolor": "white",
           "showlakes": true,
           "showland": true,
           "subunitcolor": "#C8D4E3"
          },
          "hoverlabel": {
           "align": "left"
          },
          "hovermode": "closest",
          "mapbox": {
           "style": "light"
          },
          "paper_bgcolor": "white",
          "plot_bgcolor": "white",
          "polar": {
           "angularaxis": {
            "gridcolor": "#EBF0F8",
            "linecolor": "#EBF0F8",
            "ticks": ""
           },
           "bgcolor": "white",
           "radialaxis": {
            "gridcolor": "#EBF0F8",
            "linecolor": "#EBF0F8",
            "ticks": ""
           }
          },
          "scene": {
           "xaxis": {
            "backgroundcolor": "white",
            "gridcolor": "#DFE8F3",
            "gridwidth": 2,
            "linecolor": "#EBF0F8",
            "showbackground": true,
            "ticks": "",
            "zerolinecolor": "#EBF0F8"
           },
           "yaxis": {
            "backgroundcolor": "white",
            "gridcolor": "#DFE8F3",
            "gridwidth": 2,
            "linecolor": "#EBF0F8",
            "showbackground": true,
            "ticks": "",
            "zerolinecolor": "#EBF0F8"
           },
           "zaxis": {
            "backgroundcolor": "white",
            "gridcolor": "#DFE8F3",
            "gridwidth": 2,
            "linecolor": "#EBF0F8",
            "showbackground": true,
            "ticks": "",
            "zerolinecolor": "#EBF0F8"
           }
          },
          "shapedefaults": {
           "line": {
            "color": "#2a3f5f"
           }
          },
          "ternary": {
           "aaxis": {
            "gridcolor": "#DFE8F3",
            "linecolor": "#A2B1C6",
            "ticks": ""
           },
           "baxis": {
            "gridcolor": "#DFE8F3",
            "linecolor": "#A2B1C6",
            "ticks": ""
           },
           "bgcolor": "white",
           "caxis": {
            "gridcolor": "#DFE8F3",
            "linecolor": "#A2B1C6",
            "ticks": ""
           }
          },
          "title": {
           "x": 0.05
          },
          "xaxis": {
           "automargin": true,
           "gridcolor": "#EBF0F8",
           "linecolor": "#EBF0F8",
           "ticks": "",
           "title": {
            "standoff": 15
           },
           "zerolinecolor": "#EBF0F8",
           "zerolinewidth": 2
          },
          "yaxis": {
           "automargin": true,
           "gridcolor": "#EBF0F8",
           "linecolor": "#EBF0F8",
           "ticks": "",
           "title": {
            "standoff": 15
           },
           "zerolinecolor": "#EBF0F8",
           "zerolinewidth": 2
          }
         }
        },
        "title": {
         "text": ""
        },
        "width": 600,
        "xaxis": {
         "anchor": "y",
         "domain": [
          0,
          0.94
         ],
         "showgrid": true,
         "tickvals": [
          0,
          0.08,
          0.2,
          0.3
         ],
         "title": {
          "font": {
           "size": 18
          },
          "text": "$\\text{Threshold } \\tau$"
         }
        },
        "yaxis": {
         "anchor": "x",
         "domain": [
          0,
          1
         ],
         "nticks": 6,
         "showgrid": true,
         "title": {
          "text": "Number of Edges"
         },
         "zeroline": true
        },
        "yaxis2": {
         "anchor": "x",
         "nticks": 6,
         "overlaying": "y",
         "showgrid": false,
         "side": "right",
         "title": {
          "text": "AUC"
         },
         "zeroline": false
        }
       }
      },
      "text/html": [
       "<div>                            <div id=\"eaa4cf91-4c88-41e1-8532-732ef86d3b22\" class=\"plotly-graph-div\" style=\"height:250px; width:600px;\"></div>            <script type=\"text/javascript\">                require([\"plotly\"], function(Plotly) {                    window.PLOTLYENV=window.PLOTLYENV || {};                                    if (document.getElementById(\"eaa4cf91-4c88-41e1-8532-732ef86d3b22\")) {                    Plotly.newPlot(                        \"eaa4cf91-4c88-41e1-8532-732ef86d3b22\",                        [{\"error_y\":{\"array\":[0.027877660048992642,0.005990399399860237,0.01054767635363887,0.006540974206346158,0.006103871560386087,0.05933110504372719,0.06342043968175894,0.1617077132642796,0.0,0.0,0.0],\"type\":\"data\",\"visible\":true},\"name\":\"AUC\",\"type\":\"scatter\",\"x\":[-0.09,0.0,0.08,0.1,0.12,0.14,0.16,0.18,0.28,0.32,0.4],\"xaxis\":\"x\",\"y\":[0.7470380696274307,0.8634678058914658,0.8556479446454784,0.8518079280265499,0.8507520186685801,0.8203743640360259,0.7834881839086392,0.6537895255246378,0.5,0.5,0.5],\"yaxis\":\"y2\"},{\"error_y\":{\"array\":[0.0,0.0,1.9790570145063204,2.6140645235596867,2.7838821814150116,1.3540064007726602,1.1902380714238083,1.3327849749579577,0.0,0.0,0.0],\"type\":\"data\",\"visible\":true},\"name\":\"Edges\",\"type\":\"scatter\",\"x\":[-0.09,0.0,0.08,0.1,0.12,0.14,0.16,0.18,0.28,0.32,0.4],\"xaxis\":\"x\",\"y\":[210.0,105.0,46.2,40.8,36.6,32.2,30.8,29.75,27.0,25.0,24.0],\"yaxis\":\"y\"}],                        {\"annotations\":[{\"showarrow\":false,\"text\":\"CASTLE\",\"x\":0.02,\"xref\":\"paper\",\"y\":-0.15,\"yref\":\"paper\",\"yshift\":0},{\"ax\":0,\"ay\":160,\"showarrow\":true,\"text\":\"0.08\",\"x\":0.08,\"xref\":\"x\",\"y\":0.8556,\"yref\":\"y2\",\"yshift\":0},{\"ax\":280,\"ay\":0,\"showarrow\":true,\"text\":\"0.86\",\"x\":0.08,\"xref\":\"x\",\"y\":0.8556,\"yref\":\"y2\",\"yshift\":0},{\"ax\":-160,\"ay\":0,\"showarrow\":true,\"text\":\"46\",\"x\":0.08,\"xref\":\"x\",\"y\":46.2,\"yref\":\"y\",\"yshift\":0}],\"autosize\":true,\"font\":{\"family\":\"Serif\",\"size\":18},\"height\":250,\"legend\":{\"orientation\":\"h\",\"x\":0.85,\"xanchor\":\"center\",\"y\":-0.35,\"yanchor\":\"bottom\"},\"margin\":{\"b\":10,\"l\":10,\"pad\":0,\"r\":10,\"t\":10},\"template\":{\"data\":{\"bar\":[{\"error_x\":{\"color\":\"#2a3f5f\"},\"error_y\":{\"color\":\"#2a3f5f\"},\"marker\":{\"line\":{\"color\":\"white\",\"width\":0.5},\"pattern\":{\"fillmode\":\"overlay\",\"size\":10,\"solidity\":0.2}},\"type\":\"bar\"}],\"barpolar\":[{\"marker\":{\"line\":{\"color\":\"white\",\"width\":0.5},\"pattern\":{\"fillmode\":\"overlay\",\"size\":10,\"solidity\":0.2}},\"type\":\"barpolar\"}],\"carpet\":[{\"aaxis\":{\"endlinecolor\":\"#2a3f5f\",\"gridcolor\":\"#C8D4E3\",\"linecolor\":\"#C8D4E3\",\"minorgridcolor\":\"#C8D4E3\",\"startlinecolor\":\"#2a3f5f\"},\"baxis\":{\"endlinecolor\":\"#2a3f5f\",\"gridcolor\":\"#C8D4E3\",\"linecolor\":\"#C8D4E3\",\"minorgridcolor\":\"#C8D4E3\",\"startlinecolor\":\"#2a3f5f\"},\"type\":\"carpet\"}],\"choropleth\":[{\"colorbar\":{\"outlinewidth\":0,\"ticks\":\"\"},\"type\":\"choropleth\"}],\"contour\":[{\"colorbar\":{\"outlinewidth\":0,\"ticks\":\"\"},\"colorscale\":[[0.0,\"#0d0887\"],[0.1111111111111111,\"#46039f\"],[0.2222222222222222,\"#7201a8\"],[0.3333333333333333,\"#9c179e\"],[0.4444444444444444,\"#bd3786\"],[0.5555555555555556,\"#d8576b\"],[0.6666666666666666,\"#ed7953\"],[0.7777777777777778,\"#fb9f3a\"],[0.8888888888888888,\"#fdca26\"],[1.0,\"#f0f921\"]],\"type\":\"contour\"}],\"contourcarpet\":[{\"colorbar\":{\"outlinewidth\":0,\"ticks\":\"\"},\"type\":\"contourcarpet\"}],\"heatmap\":[{\"colorbar\":{\"outlinewidth\":0,\"ticks\":\"\"},\"colorscale\":[[0.0,\"#0d0887\"],[0.1111111111111111,\"#46039f\"],[0.2222222222222222,\"#7201a8\"],[0.3333333333333333,\"#9c179e\"],[0.4444444444444444,\"#bd3786\"],[0.5555555555555556,\"#d8576b\"],[0.6666666666666666,\"#ed7953\"],[0.7777777777777778,\"#fb9f3a\"],[0.8888888888888888,\"#fdca26\"],[1.0,\"#f0f921\"]],\"type\":\"heatmap\"}],\"heatmapgl\":[{\"colorbar\":{\"outlinewidth\":0,\"ticks\":\"\"},\"colorscale\":[[0.0,\"#0d0887\"],[0.1111111111111111,\"#46039f\"],[0.2222222222222222,\"#7201a8\"],[0.3333333333333333,\"#9c179e\"],[0.4444444444444444,\"#bd3786\"],[0.5555555555555556,\"#d8576b\"],[0.6666666666666666,\"#ed7953\"],[0.7777777777777778,\"#fb9f3a\"],[0.8888888888888888,\"#fdca26\"],[1.0,\"#f0f921\"]],\"type\":\"heatmapgl\"}],\"histogram\":[{\"marker\":{\"pattern\":{\"fillmode\":\"overlay\",\"size\":10,\"solidity\":0.2}},\"type\":\"histogram\"}],\"histogram2d\":[{\"colorbar\":{\"outlinewidth\":0,\"ticks\":\"\"},\"colorscale\":[[0.0,\"#0d0887\"],[0.1111111111111111,\"#46039f\"],[0.2222222222222222,\"#7201a8\"],[0.3333333333333333,\"#9c179e\"],[0.4444444444444444,\"#bd3786\"],[0.5555555555555556,\"#d8576b\"],[0.6666666666666666,\"#ed7953\"],[0.7777777777777778,\"#fb9f3a\"],[0.8888888888888888,\"#fdca26\"],[1.0,\"#f0f921\"]],\"type\":\"histogram2d\"}],\"histogram2dcontour\":[{\"colorbar\":{\"outlinewidth\":0,\"ticks\":\"\"},\"colorscale\":[[0.0,\"#0d0887\"],[0.1111111111111111,\"#46039f\"],[0.2222222222222222,\"#7201a8\"],[0.3333333333333333,\"#9c179e\"],[0.4444444444444444,\"#bd3786\"],[0.5555555555555556,\"#d8576b\"],[0.6666666666666666,\"#ed7953\"],[0.7777777777777778,\"#fb9f3a\"],[0.8888888888888888,\"#fdca26\"],[1.0,\"#f0f921\"]],\"type\":\"histogram2dcontour\"}],\"mesh3d\":[{\"colorbar\":{\"outlinewidth\":0,\"ticks\":\"\"},\"type\":\"mesh3d\"}],\"parcoords\":[{\"line\":{\"colorbar\":{\"outlinewidth\":0,\"ticks\":\"\"}},\"type\":\"parcoords\"}],\"pie\":[{\"automargin\":true,\"type\":\"pie\"}],\"scatter\":[{\"marker\":{\"colorbar\":{\"outlinewidth\":0,\"ticks\":\"\"}},\"type\":\"scatter\"}],\"scatter3d\":[{\"line\":{\"colorbar\":{\"outlinewidth\":0,\"ticks\":\"\"}},\"marker\":{\"colorbar\":{\"outlinewidth\":0,\"ticks\":\"\"}},\"type\":\"scatter3d\"}],\"scattercarpet\":[{\"marker\":{\"colorbar\":{\"outlinewidth\":0,\"ticks\":\"\"}},\"type\":\"scattercarpet\"}],\"scattergeo\":[{\"marker\":{\"colorbar\":{\"outlinewidth\":0,\"ticks\":\"\"}},\"type\":\"scattergeo\"}],\"scattergl\":[{\"marker\":{\"colorbar\":{\"outlinewidth\":0,\"ticks\":\"\"}},\"type\":\"scattergl\"}],\"scattermapbox\":[{\"marker\":{\"colorbar\":{\"outlinewidth\":0,\"ticks\":\"\"}},\"type\":\"scattermapbox\"}],\"scatterpolar\":[{\"marker\":{\"colorbar\":{\"outlinewidth\":0,\"ticks\":\"\"}},\"type\":\"scatterpolar\"}],\"scatterpolargl\":[{\"marker\":{\"colorbar\":{\"outlinewidth\":0,\"ticks\":\"\"}},\"type\":\"scatterpolargl\"}],\"scatterternary\":[{\"marker\":{\"colorbar\":{\"outlinewidth\":0,\"ticks\":\"\"}},\"type\":\"scatterternary\"}],\"surface\":[{\"colorbar\":{\"outlinewidth\":0,\"ticks\":\"\"},\"colorscale\":[[0.0,\"#0d0887\"],[0.1111111111111111,\"#46039f\"],[0.2222222222222222,\"#7201a8\"],[0.3333333333333333,\"#9c179e\"],[0.4444444444444444,\"#bd3786\"],[0.5555555555555556,\"#d8576b\"],[0.6666666666666666,\"#ed7953\"],[0.7777777777777778,\"#fb9f3a\"],[0.8888888888888888,\"#fdca26\"],[1.0,\"#f0f921\"]],\"type\":\"surface\"}],\"table\":[{\"cells\":{\"fill\":{\"color\":\"#EBF0F8\"},\"line\":{\"color\":\"white\"}},\"header\":{\"fill\":{\"color\":\"#C8D4E3\"},\"line\":{\"color\":\"white\"}},\"type\":\"table\"}]},\"layout\":{\"annotationdefaults\":{\"arrowcolor\":\"#2a3f5f\",\"arrowhead\":0,\"arrowwidth\":1},\"autotypenumbers\":\"strict\",\"coloraxis\":{\"colorbar\":{\"outlinewidth\":0,\"ticks\":\"\"}},\"colorscale\":{\"diverging\":[[0,\"#8e0152\"],[0.1,\"#c51b7d\"],[0.2,\"#de77ae\"],[0.3,\"#f1b6da\"],[0.4,\"#fde0ef\"],[0.5,\"#f7f7f7\"],[0.6,\"#e6f5d0\"],[0.7,\"#b8e186\"],[0.8,\"#7fbc41\"],[0.9,\"#4d9221\"],[1,\"#276419\"]],\"sequential\":[[0.0,\"#0d0887\"],[0.1111111111111111,\"#46039f\"],[0.2222222222222222,\"#7201a8\"],[0.3333333333333333,\"#9c179e\"],[0.4444444444444444,\"#bd3786\"],[0.5555555555555556,\"#d8576b\"],[0.6666666666666666,\"#ed7953\"],[0.7777777777777778,\"#fb9f3a\"],[0.8888888888888888,\"#fdca26\"],[1.0,\"#f0f921\"]],\"sequentialminus\":[[0.0,\"#0d0887\"],[0.1111111111111111,\"#46039f\"],[0.2222222222222222,\"#7201a8\"],[0.3333333333333333,\"#9c179e\"],[0.4444444444444444,\"#bd3786\"],[0.5555555555555556,\"#d8576b\"],[0.6666666666666666,\"#ed7953\"],[0.7777777777777778,\"#fb9f3a\"],[0.8888888888888888,\"#fdca26\"],[1.0,\"#f0f921\"]]},\"colorway\":[\"#636efa\",\"#EF553B\",\"#00cc96\",\"#ab63fa\",\"#FFA15A\",\"#19d3f3\",\"#FF6692\",\"#B6E880\",\"#FF97FF\",\"#FECB52\"],\"font\":{\"color\":\"#2a3f5f\"},\"geo\":{\"bgcolor\":\"white\",\"lakecolor\":\"white\",\"landcolor\":\"white\",\"showlakes\":true,\"showland\":true,\"subunitcolor\":\"#C8D4E3\"},\"hoverlabel\":{\"align\":\"left\"},\"hovermode\":\"closest\",\"mapbox\":{\"style\":\"light\"},\"paper_bgcolor\":\"white\",\"plot_bgcolor\":\"white\",\"polar\":{\"angularaxis\":{\"gridcolor\":\"#EBF0F8\",\"linecolor\":\"#EBF0F8\",\"ticks\":\"\"},\"bgcolor\":\"white\",\"radialaxis\":{\"gridcolor\":\"#EBF0F8\",\"linecolor\":\"#EBF0F8\",\"ticks\":\"\"}},\"scene\":{\"xaxis\":{\"backgroundcolor\":\"white\",\"gridcolor\":\"#DFE8F3\",\"gridwidth\":2,\"linecolor\":\"#EBF0F8\",\"showbackground\":true,\"ticks\":\"\",\"zerolinecolor\":\"#EBF0F8\"},\"yaxis\":{\"backgroundcolor\":\"white\",\"gridcolor\":\"#DFE8F3\",\"gridwidth\":2,\"linecolor\":\"#EBF0F8\",\"showbackground\":true,\"ticks\":\"\",\"zerolinecolor\":\"#EBF0F8\"},\"zaxis\":{\"backgroundcolor\":\"white\",\"gridcolor\":\"#DFE8F3\",\"gridwidth\":2,\"linecolor\":\"#EBF0F8\",\"showbackground\":true,\"ticks\":\"\",\"zerolinecolor\":\"#EBF0F8\"}},\"shapedefaults\":{\"line\":{\"color\":\"#2a3f5f\"}},\"ternary\":{\"aaxis\":{\"gridcolor\":\"#DFE8F3\",\"linecolor\":\"#A2B1C6\",\"ticks\":\"\"},\"baxis\":{\"gridcolor\":\"#DFE8F3\",\"linecolor\":\"#A2B1C6\",\"ticks\":\"\"},\"bgcolor\":\"white\",\"caxis\":{\"gridcolor\":\"#DFE8F3\",\"linecolor\":\"#A2B1C6\",\"ticks\":\"\"}},\"title\":{\"x\":0.05},\"xaxis\":{\"automargin\":true,\"gridcolor\":\"#EBF0F8\",\"linecolor\":\"#EBF0F8\",\"ticks\":\"\",\"title\":{\"standoff\":15},\"zerolinecolor\":\"#EBF0F8\",\"zerolinewidth\":2},\"yaxis\":{\"automargin\":true,\"gridcolor\":\"#EBF0F8\",\"linecolor\":\"#EBF0F8\",\"ticks\":\"\",\"title\":{\"standoff\":15},\"zerolinecolor\":\"#EBF0F8\",\"zerolinewidth\":2}}},\"title\":{\"text\":\"\"},\"width\":600,\"xaxis\":{\"anchor\":\"y\",\"domain\":[0.0,0.94],\"showgrid\":true,\"tickvals\":[0,0.08,0.2,0.3],\"title\":{\"font\":{\"size\":18},\"text\":\"$\\\\text{Threshold } \\\\tau$\"}},\"yaxis\":{\"anchor\":\"x\",\"domain\":[0.0,1.0],\"nticks\":6,\"showgrid\":true,\"title\":{\"text\":\"Number of Edges\"},\"zeroline\":true},\"yaxis2\":{\"anchor\":\"x\",\"nticks\":6,\"overlaying\":\"y\",\"showgrid\":false,\"side\":\"right\",\"title\":{\"text\":\"AUC\"},\"zeroline\":false}},                        {\"responsive\": true}                    ).then(function(){\n",
       "                            \n",
       "var gd = document.getElementById('eaa4cf91-4c88-41e1-8532-732ef86d3b22');\n",
       "var x = new MutationObserver(function (mutations, observer) {{\n",
       "        var display = window.getComputedStyle(gd).display;\n",
       "        if (!display || display === 'none') {{\n",
       "            console.log([gd, 'removed!']);\n",
       "            Plotly.purge(gd);\n",
       "            observer.disconnect();\n",
       "        }}\n",
       "}});\n",
       "\n",
       "// Listen for the removal of the full notebook cells\n",
       "var notebookContainer = gd.closest('#notebook-container');\n",
       "if (notebookContainer) {{\n",
       "    x.observe(notebookContainer, {childList: true});\n",
       "}}\n",
       "\n",
       "// Listen for the clearing of the current output cell\n",
       "var outputEl = gd.closest('.output');\n",
       "if (outputEl) {{\n",
       "    x.observe(outputEl, {childList: true});\n",
       "}}\n",
       "\n",
       "                        })                };                });            </script>        </div>"
      ]
     },
     "metadata": {},
     "output_type": "display_data"
    },
    {
     "data": {
      "text/plain": [
       "3    0.855648\n",
       "Name: accuracy_mean, dtype: float64"
      ]
     },
     "execution_count": 75,
     "metadata": {},
     "output_type": "execute_result"
    }
   ],
   "source": [
    "import os\n",
    "import pandas as pd\n",
    "import numpy as np\n",
    "from utils import load_pickle\n",
    "save = True\n",
    "\n",
    "version = 'adult_fulltest'\n",
    "metric = 'auc'\n",
    "\n",
    "dset='100000'\n",
    "theta = '(([+-])?\\d(\\.\\d+)?)'\n",
    "\n",
    "folder = \"./results/adjmats/\"\n",
    "\n",
    "import re\n",
    "list_edges = []\n",
    "for filename in os.listdir(folder):\n",
    "    match = re.search(f'W_est.{dset}.(\\d).(\\d).(.*?).{version}.pkl$', filename)\n",
    "    if match:\n",
    "        out_f, in_f, theta = match.groups()\n",
    "        edges = sum(load_pickle(os.path.join(folder,filename), verbose=False).flatten()>0)\n",
    "        list_edges.append((float(theta), out_f, in_f, edges))\n",
    "n_edges = pd.DataFrame(list_edges).groupby(0, as_index=False).agg({3 : ['mean', 'std']})\n",
    "n_edges.columns = n_edges.columns.droplevel()\n",
    "n_edges.columns = ['theta','N_edges','Std']\n",
    "\n",
    "\n",
    "folder = \"./results/\"\n",
    "filename = f\"Nested5FoldCASTLE.Reg.Synth.100000.{version}.pkl\"\n",
    "describe = load_pickle(os.path.join(folder,filename), verbose=False)\n",
    "agg_stats = pd.DataFrame([(describe[c]['theta'],c[9],describe[c]['fold'],describe[c][metric]) for c in describe]).groupby(0, as_index=False).agg({2 : ['count','max'], 3 : ['mean', 'std']})\n",
    "agg_stats.columns = ['theta', 'count','folds',  'accuracy_mean', 'accuracy_std']\n",
    "agg_stats=agg_stats.merge(n_edges,on='theta')\n",
    "agg_stats= agg_stats.drop_duplicates(subset=['N_edges']) ########################################################### DROP DUPS\n",
    "\n",
    "if version == 'fico2':\n",
    "    #### Add Normal CASTLE\n",
    "    agg_stats.loc[-1] = [-1,5,5,0.723377,0.009611,405.12,10.401602]#,True]  # adding a row\n",
    "    agg_stats.index = agg_stats.index + 1  # shifting index\n",
    "    agg_stats = agg_stats.sort_index()  # sorting by index\n",
    "\n",
    "    n_edges.loc[-1] = [-1,405.12,10.401602]  # adding a row\n",
    "    n_edges.index = n_edges.index + 1  # shifting index\n",
    "    n_edges = n_edges.sort_index()  # sorting by index\n",
    "\n",
    "sub = -0.09\n",
    "agg_stats.loc[agg_stats['theta']==-1,'theta'] = sub\n",
    "\n",
    "filter_theta = 0.6\n",
    "filter_list = [0.2,0.24]\n",
    "agg_stats = agg_stats[(agg_stats['theta']<=filter_theta) & (~agg_stats['theta'].isin(filter_list))]\n",
    "display(agg_stats)\n",
    "\n",
    "import plotly.graph_objects as go\n",
    "from plotly.subplots import make_subplots\n",
    "\n",
    "# Create figure with secondary y-axis\n",
    "fig = make_subplots(specs=[[{\"secondary_y\": True}]])\n",
    "\n",
    "if metric == 'accuracy':\n",
    "    metric =metric.capitalize()\n",
    "else:\n",
    "    metric = metric.upper()\n",
    "\n",
    "# Add traces\n",
    "fig.add_trace(\n",
    "    go.Scatter(x=agg_stats['theta'], y=agg_stats['accuracy_mean'], name=metric,         \n",
    "    error_y=dict(\n",
    "            type='data', # value of error bar given in data coordinates\n",
    "            array=agg_stats['accuracy_std'],\n",
    "            visible=True)\n",
    "            ),\n",
    "    secondary_y=True, \n",
    ")\n",
    "\n",
    "fig.add_trace(\n",
    "    go.Scatter(x=agg_stats['theta'], y=agg_stats['N_edges'], name=\"Edges\",\n",
    "    error_y=dict(\n",
    "            type='data', # value of error bar given in data coordinates\n",
    "            array=agg_stats['Std'],\n",
    "            visible=True)\n",
    "              ),\n",
    "    secondary_y=False,\n",
    ")\n",
    "\n",
    "# Add figure title\n",
    "fig.update_layout(\n",
    "    title='',\n",
    "    legend={\n",
    "        'y':-0.35,\n",
    "        'x':0.85,\n",
    "        'orientation':\"h\",\n",
    "        'xanchor': 'center',\n",
    "        'yanchor': 'bottom'},\n",
    "    template='plotly_white',\n",
    "    autosize=True,\n",
    "    width=600, height=250, \n",
    "    margin=dict(\n",
    "        l=10,\n",
    "        r=10,\n",
    "        b=10,\n",
    "        t=10,\n",
    "        pad=0\n",
    "    ),\n",
    "    font=dict(\n",
    "        family='Serif',#\"Courier New, monospace\",\n",
    "        size=18,\n",
    "        # color=\"Black\"\n",
    "    )    \n",
    ")\n",
    "\n",
    "# Set x-axis title\n",
    "fig.update_xaxes(showgrid=True,title={'text':r'$\\text{Threshold } \\tau$','font':{'size':18#, 'family': 'Courier New, monospace',\n",
    "}},tickvals=[a for sub in [[0,0.08],list(np.round(np.arange(0.15, max(agg_stats['theta']), 0.15),1))] for a in sub],\n",
    ")\n",
    "\n",
    "# Set y-axes titles\n",
    "fig.update_yaxes(showgrid=False,nticks=6,zeroline=False, title={'text':metric#,'font':{'size':18}\n",
    "}, #nticks=13,\n",
    "secondary_y=True)\n",
    "fig.update_yaxes(showgrid=True,nticks=6,zeroline=True, title={'text':\"Number of Edges\"#,'font':{'size':18}\n",
    "}, secondary_y=False)\n",
    "\n",
    "fig.add_annotation(x=0.02, y=-0.15,\n",
    "            text=\"CASTLE\",\n",
    "            showarrow=False,\n",
    "            yshift=0,\n",
    "            xref='paper',\n",
    "            yref='paper',)\n",
    "\n",
    "chosen_tau=0.08\n",
    "y_co = agg_stats[agg_stats['theta']==chosen_tau]['accuracy_mean']\n",
    "fig.add_annotation(x=chosen_tau, y=0.8556,\n",
    "            text=str(chosen_tau),\n",
    "            showarrow=True,\n",
    "            yshift=0,\n",
    "            xref='x',ax=0,\n",
    "            yref='y2',ay=160)\n",
    "fig.add_annotation(x=chosen_tau, y=0.8556,\n",
    "            text=str(0.86),\n",
    "            showarrow=True,\n",
    "            yshift=0,\n",
    "            xref='x',ax=280,\n",
    "            yref='y2',ay=0)\n",
    "fig.add_annotation(x=chosen_tau, y=46.2,\n",
    "            text=str(46),\n",
    "            showarrow=True,\n",
    "            yshift=0,\n",
    "            xref='x',ax=-160,\n",
    "            yref='y',ay=0)\n",
    "\n",
    "fig.show()\n",
    "\n",
    "output_folder = \"figures\"\n",
    "if not os.path.exists(output_folder):\n",
    "    os.mkdir(output_folder)\n",
    "\n",
    "out_path = os.path.join(output_folder,f\"plot_tauoptim_{version}.png\")\n",
    "\n",
    "if save:\n",
    "    import kaleido\n",
    "    fig.write_image(out_path)\n",
    "\n",
    "y_co"
   ]
  },
  {
   "cell_type": "markdown",
   "metadata": {},
   "source": [
    "## Boston"
   ]
  },
  {
   "cell_type": "code",
   "execution_count": 73,
   "metadata": {
    "tags": []
   },
   "outputs": [
    {
     "data": {
      "text/html": [
       "<div>\n",
       "<style scoped>\n",
       "    .dataframe tbody tr th:only-of-type {\n",
       "        vertical-align: middle;\n",
       "    }\n",
       "\n",
       "    .dataframe tbody tr th {\n",
       "        vertical-align: top;\n",
       "    }\n",
       "\n",
       "    .dataframe thead th {\n",
       "        text-align: right;\n",
       "    }\n",
       "</style>\n",
       "<table border=\"1\" class=\"dataframe\">\n",
       "  <thead>\n",
       "    <tr style=\"text-align: right;\">\n",
       "      <th></th>\n",
       "      <th>theta</th>\n",
       "      <th>count</th>\n",
       "      <th>folds</th>\n",
       "      <th>accuracy_mean</th>\n",
       "      <th>accuracy_std</th>\n",
       "      <th>N_edges</th>\n",
       "      <th>Std</th>\n",
       "    </tr>\n",
       "  </thead>\n",
       "  <tbody>\n",
       "    <tr>\n",
       "      <th>0</th>\n",
       "      <td>-0.170</td>\n",
       "      <td>25</td>\n",
       "      <td>5</td>\n",
       "      <td>22.231392</td>\n",
       "      <td>7.387012</td>\n",
       "      <td>182.000000</td>\n",
       "      <td>0.000000</td>\n",
       "    </tr>\n",
       "    <tr>\n",
       "      <th>1</th>\n",
       "      <td>0.000</td>\n",
       "      <td>25</td>\n",
       "      <td>5</td>\n",
       "      <td>18.507690</td>\n",
       "      <td>7.042780</td>\n",
       "      <td>91.000000</td>\n",
       "      <td>0.000000</td>\n",
       "    </tr>\n",
       "    <tr>\n",
       "      <th>15</th>\n",
       "      <td>0.037</td>\n",
       "      <td>10</td>\n",
       "      <td>5</td>\n",
       "      <td>16.818329</td>\n",
       "      <td>6.783890</td>\n",
       "      <td>90.500000</td>\n",
       "      <td>0.527046</td>\n",
       "    </tr>\n",
       "    <tr>\n",
       "      <th>16</th>\n",
       "      <td>0.066</td>\n",
       "      <td>25</td>\n",
       "      <td>5</td>\n",
       "      <td>18.437362</td>\n",
       "      <td>6.868943</td>\n",
       "      <td>86.000000</td>\n",
       "      <td>1.290994</td>\n",
       "    </tr>\n",
       "    <tr>\n",
       "      <th>17</th>\n",
       "      <td>0.132</td>\n",
       "      <td>25</td>\n",
       "      <td>5</td>\n",
       "      <td>20.363651</td>\n",
       "      <td>5.233823</td>\n",
       "      <td>47.800000</td>\n",
       "      <td>7.942502</td>\n",
       "    </tr>\n",
       "    <tr>\n",
       "      <th>18</th>\n",
       "      <td>0.198</td>\n",
       "      <td>25</td>\n",
       "      <td>5</td>\n",
       "      <td>40.765085</td>\n",
       "      <td>27.205065</td>\n",
       "      <td>32.800000</td>\n",
       "      <td>8.098354</td>\n",
       "    </tr>\n",
       "    <tr>\n",
       "      <th>19</th>\n",
       "      <td>0.264</td>\n",
       "      <td>25</td>\n",
       "      <td>5</td>\n",
       "      <td>41.876700</td>\n",
       "      <td>27.307922</td>\n",
       "      <td>23.000000</td>\n",
       "      <td>6.390097</td>\n",
       "    </tr>\n",
       "    <tr>\n",
       "      <th>20</th>\n",
       "      <td>0.330</td>\n",
       "      <td>25</td>\n",
       "      <td>5</td>\n",
       "      <td>62.497449</td>\n",
       "      <td>29.583180</td>\n",
       "      <td>17.000000</td>\n",
       "      <td>5.916080</td>\n",
       "    </tr>\n",
       "    <tr>\n",
       "      <th>21</th>\n",
       "      <td>0.396</td>\n",
       "      <td>25</td>\n",
       "      <td>5</td>\n",
       "      <td>84.998406</td>\n",
       "      <td>12.277859</td>\n",
       "      <td>12.200000</td>\n",
       "      <td>5.416026</td>\n",
       "    </tr>\n",
       "    <tr>\n",
       "      <th>22</th>\n",
       "      <td>0.462</td>\n",
       "      <td>25</td>\n",
       "      <td>5</td>\n",
       "      <td>84.606197</td>\n",
       "      <td>12.862441</td>\n",
       "      <td>9.800000</td>\n",
       "      <td>4.804512</td>\n",
       "    </tr>\n",
       "    <tr>\n",
       "      <th>23</th>\n",
       "      <td>0.528</td>\n",
       "      <td>25</td>\n",
       "      <td>5</td>\n",
       "      <td>84.601992</td>\n",
       "      <td>12.865846</td>\n",
       "      <td>7.800000</td>\n",
       "      <td>4.252450</td>\n",
       "    </tr>\n",
       "    <tr>\n",
       "      <th>24</th>\n",
       "      <td>0.594</td>\n",
       "      <td>15</td>\n",
       "      <td>5</td>\n",
       "      <td>85.127489</td>\n",
       "      <td>3.362446</td>\n",
       "      <td>5.666667</td>\n",
       "      <td>3.415650</td>\n",
       "    </tr>\n",
       "    <tr>\n",
       "      <th>25</th>\n",
       "      <td>0.660</td>\n",
       "      <td>15</td>\n",
       "      <td>5</td>\n",
       "      <td>92.360319</td>\n",
       "      <td>8.356597</td>\n",
       "      <td>6.666667</td>\n",
       "      <td>3.518658</td>\n",
       "    </tr>\n",
       "    <tr>\n",
       "      <th>26</th>\n",
       "      <td>0.726</td>\n",
       "      <td>10</td>\n",
       "      <td>5</td>\n",
       "      <td>93.777601</td>\n",
       "      <td>10.106333</td>\n",
       "      <td>6.500000</td>\n",
       "      <td>0.527046</td>\n",
       "    </tr>\n",
       "    <tr>\n",
       "      <th>27</th>\n",
       "      <td>0.792</td>\n",
       "      <td>15</td>\n",
       "      <td>5</td>\n",
       "      <td>89.775006</td>\n",
       "      <td>10.007312</td>\n",
       "      <td>2.666667</td>\n",
       "      <td>1.290994</td>\n",
       "    </tr>\n",
       "  </tbody>\n",
       "</table>\n",
       "</div>"
      ],
      "text/plain": [
       "    theta  count  folds  accuracy_mean  accuracy_std     N_edges       Std\n",
       "0  -0.170     25      5      22.231392      7.387012  182.000000  0.000000\n",
       "1   0.000     25      5      18.507690      7.042780   91.000000  0.000000\n",
       "15  0.037     10      5      16.818329      6.783890   90.500000  0.527046\n",
       "16  0.066     25      5      18.437362      6.868943   86.000000  1.290994\n",
       "17  0.132     25      5      20.363651      5.233823   47.800000  7.942502\n",
       "18  0.198     25      5      40.765085     27.205065   32.800000  8.098354\n",
       "19  0.264     25      5      41.876700     27.307922   23.000000  6.390097\n",
       "20  0.330     25      5      62.497449     29.583180   17.000000  5.916080\n",
       "21  0.396     25      5      84.998406     12.277859   12.200000  5.416026\n",
       "22  0.462     25      5      84.606197     12.862441    9.800000  4.804512\n",
       "23  0.528     25      5      84.601992     12.865846    7.800000  4.252450\n",
       "24  0.594     15      5      85.127489      3.362446    5.666667  3.415650\n",
       "25  0.660     15      5      92.360319      8.356597    6.666667  3.518658\n",
       "26  0.726     10      5      93.777601     10.106333    6.500000  0.527046\n",
       "27  0.792     15      5      89.775006     10.007312    2.666667  1.290994"
      ]
     },
     "metadata": {},
     "output_type": "display_data"
    },
    {
     "data": {
      "application/vnd.plotly.v1+json": {
       "config": {
        "plotlyServerURL": "https://plot.ly"
       },
       "data": [
        {
         "error_y": {
          "array": [
           7.387011778212339,
           7.042780073563186,
           6.783889825213433,
           6.868942622813242,
           5.233823309639463,
           27.2050648946466,
           27.307922325269054,
           29.5831797422127,
           12.277859208340255,
           12.862440544372042,
           12.865846193946338,
           3.3624461481766983,
           8.356597330489718,
           10.106332926751348,
           10.007311731194303
          ],
          "type": "data",
          "visible": true
         },
         "name": "MSE",
         "type": "scatter",
         "x": [
          -0.17,
          0,
          0.037,
          0.066,
          0.132,
          0.198,
          0.264,
          0.33,
          0.396,
          0.462,
          0.528,
          0.5940000000000001,
          0.66,
          0.726,
          0.792
         ],
         "xaxis": "x",
         "y": [
          22.231392264045418,
          18.50768999498596,
          16.818328777785908,
          18.437362453397082,
          20.36365077742586,
          40.76508476467781,
          41.87670011744681,
          62.4974491992222,
          84.99840569296435,
          84.60619672687682,
          84.60199238831366,
          85.12748922987889,
          92.36031912990856,
          93.77760136324999,
          89.77500632386798
         ],
         "yaxis": "y2"
        },
        {
         "error_y": {
          "array": [
           0,
           0,
           0.5270462766947284,
           1.2909944487357985,
           7.942501704962573,
           8.098353742170895,
           6.390096504226937,
           5.916079783099617,
           5.416025603090639,
           4.804511768466525,
           4.252450274057693,
           3.4156502553198664,
           3.518657752744984,
           0.5270462766947299,
           1.2909944487358054
          ],
          "type": "data",
          "visible": true
         },
         "name": "Edges",
         "type": "scatter",
         "x": [
          -0.17,
          0,
          0.037,
          0.066,
          0.132,
          0.198,
          0.264,
          0.33,
          0.396,
          0.462,
          0.528,
          0.5940000000000001,
          0.66,
          0.726,
          0.792
         ],
         "xaxis": "x",
         "y": [
          182,
          91,
          90.5,
          86,
          47.8,
          32.8,
          23,
          17,
          12.2,
          9.8,
          7.8,
          5.666666666666667,
          6.666666666666667,
          6.5,
          2.6666666666666665
         ],
         "yaxis": "y"
        }
       ],
       "layout": {
        "annotations": [
         {
          "showarrow": false,
          "text": "CASTLE",
          "x": 0.02,
          "xref": "paper",
          "y": -0.15,
          "yref": "paper",
          "yshift": 0
         },
         {
          "ax": 0,
          "ay": 0,
          "showarrow": true,
          "text": "0.13",
          "x": 0.13,
          "xref": "x",
          "y": 20.363,
          "yref": "paper",
          "yshift": -193
         },
         {
          "ax": 280,
          "ay": 0,
          "showarrow": true,
          "text": "20.4",
          "x": 0.13,
          "xref": "x",
          "y": 20.363,
          "yref": "y2",
          "yshift": 0
         },
         {
          "ax": -130,
          "ay": 0,
          "showarrow": true,
          "text": "48",
          "x": 0.13,
          "xref": "x",
          "y": 47.8,
          "yref": "y",
          "yshift": 0
         }
        ],
        "autosize": true,
        "font": {
         "family": "Serif",
         "size": 18
        },
        "height": 250,
        "legend": {
         "orientation": "h",
         "x": 0.85,
         "xanchor": "center",
         "y": -0.35,
         "yanchor": "bottom"
        },
        "margin": {
         "b": 10,
         "l": 10,
         "pad": 0,
         "r": 10,
         "t": 10
        },
        "template": {
         "data": {
          "bar": [
           {
            "error_x": {
             "color": "#2a3f5f"
            },
            "error_y": {
             "color": "#2a3f5f"
            },
            "marker": {
             "line": {
              "color": "white",
              "width": 0.5
             },
             "pattern": {
              "fillmode": "overlay",
              "size": 10,
              "solidity": 0.2
             }
            },
            "type": "bar"
           }
          ],
          "barpolar": [
           {
            "marker": {
             "line": {
              "color": "white",
              "width": 0.5
             },
             "pattern": {
              "fillmode": "overlay",
              "size": 10,
              "solidity": 0.2
             }
            },
            "type": "barpolar"
           }
          ],
          "carpet": [
           {
            "aaxis": {
             "endlinecolor": "#2a3f5f",
             "gridcolor": "#C8D4E3",
             "linecolor": "#C8D4E3",
             "minorgridcolor": "#C8D4E3",
             "startlinecolor": "#2a3f5f"
            },
            "baxis": {
             "endlinecolor": "#2a3f5f",
             "gridcolor": "#C8D4E3",
             "linecolor": "#C8D4E3",
             "minorgridcolor": "#C8D4E3",
             "startlinecolor": "#2a3f5f"
            },
            "type": "carpet"
           }
          ],
          "choropleth": [
           {
            "colorbar": {
             "outlinewidth": 0,
             "ticks": ""
            },
            "type": "choropleth"
           }
          ],
          "contour": [
           {
            "colorbar": {
             "outlinewidth": 0,
             "ticks": ""
            },
            "colorscale": [
             [
              0,
              "#0d0887"
             ],
             [
              0.1111111111111111,
              "#46039f"
             ],
             [
              0.2222222222222222,
              "#7201a8"
             ],
             [
              0.3333333333333333,
              "#9c179e"
             ],
             [
              0.4444444444444444,
              "#bd3786"
             ],
             [
              0.5555555555555556,
              "#d8576b"
             ],
             [
              0.6666666666666666,
              "#ed7953"
             ],
             [
              0.7777777777777778,
              "#fb9f3a"
             ],
             [
              0.8888888888888888,
              "#fdca26"
             ],
             [
              1,
              "#f0f921"
             ]
            ],
            "type": "contour"
           }
          ],
          "contourcarpet": [
           {
            "colorbar": {
             "outlinewidth": 0,
             "ticks": ""
            },
            "type": "contourcarpet"
           }
          ],
          "heatmap": [
           {
            "colorbar": {
             "outlinewidth": 0,
             "ticks": ""
            },
            "colorscale": [
             [
              0,
              "#0d0887"
             ],
             [
              0.1111111111111111,
              "#46039f"
             ],
             [
              0.2222222222222222,
              "#7201a8"
             ],
             [
              0.3333333333333333,
              "#9c179e"
             ],
             [
              0.4444444444444444,
              "#bd3786"
             ],
             [
              0.5555555555555556,
              "#d8576b"
             ],
             [
              0.6666666666666666,
              "#ed7953"
             ],
             [
              0.7777777777777778,
              "#fb9f3a"
             ],
             [
              0.8888888888888888,
              "#fdca26"
             ],
             [
              1,
              "#f0f921"
             ]
            ],
            "type": "heatmap"
           }
          ],
          "heatmapgl": [
           {
            "colorbar": {
             "outlinewidth": 0,
             "ticks": ""
            },
            "colorscale": [
             [
              0,
              "#0d0887"
             ],
             [
              0.1111111111111111,
              "#46039f"
             ],
             [
              0.2222222222222222,
              "#7201a8"
             ],
             [
              0.3333333333333333,
              "#9c179e"
             ],
             [
              0.4444444444444444,
              "#bd3786"
             ],
             [
              0.5555555555555556,
              "#d8576b"
             ],
             [
              0.6666666666666666,
              "#ed7953"
             ],
             [
              0.7777777777777778,
              "#fb9f3a"
             ],
             [
              0.8888888888888888,
              "#fdca26"
             ],
             [
              1,
              "#f0f921"
             ]
            ],
            "type": "heatmapgl"
           }
          ],
          "histogram": [
           {
            "marker": {
             "pattern": {
              "fillmode": "overlay",
              "size": 10,
              "solidity": 0.2
             }
            },
            "type": "histogram"
           }
          ],
          "histogram2d": [
           {
            "colorbar": {
             "outlinewidth": 0,
             "ticks": ""
            },
            "colorscale": [
             [
              0,
              "#0d0887"
             ],
             [
              0.1111111111111111,
              "#46039f"
             ],
             [
              0.2222222222222222,
              "#7201a8"
             ],
             [
              0.3333333333333333,
              "#9c179e"
             ],
             [
              0.4444444444444444,
              "#bd3786"
             ],
             [
              0.5555555555555556,
              "#d8576b"
             ],
             [
              0.6666666666666666,
              "#ed7953"
             ],
             [
              0.7777777777777778,
              "#fb9f3a"
             ],
             [
              0.8888888888888888,
              "#fdca26"
             ],
             [
              1,
              "#f0f921"
             ]
            ],
            "type": "histogram2d"
           }
          ],
          "histogram2dcontour": [
           {
            "colorbar": {
             "outlinewidth": 0,
             "ticks": ""
            },
            "colorscale": [
             [
              0,
              "#0d0887"
             ],
             [
              0.1111111111111111,
              "#46039f"
             ],
             [
              0.2222222222222222,
              "#7201a8"
             ],
             [
              0.3333333333333333,
              "#9c179e"
             ],
             [
              0.4444444444444444,
              "#bd3786"
             ],
             [
              0.5555555555555556,
              "#d8576b"
             ],
             [
              0.6666666666666666,
              "#ed7953"
             ],
             [
              0.7777777777777778,
              "#fb9f3a"
             ],
             [
              0.8888888888888888,
              "#fdca26"
             ],
             [
              1,
              "#f0f921"
             ]
            ],
            "type": "histogram2dcontour"
           }
          ],
          "mesh3d": [
           {
            "colorbar": {
             "outlinewidth": 0,
             "ticks": ""
            },
            "type": "mesh3d"
           }
          ],
          "parcoords": [
           {
            "line": {
             "colorbar": {
              "outlinewidth": 0,
              "ticks": ""
             }
            },
            "type": "parcoords"
           }
          ],
          "pie": [
           {
            "automargin": true,
            "type": "pie"
           }
          ],
          "scatter": [
           {
            "marker": {
             "colorbar": {
              "outlinewidth": 0,
              "ticks": ""
             }
            },
            "type": "scatter"
           }
          ],
          "scatter3d": [
           {
            "line": {
             "colorbar": {
              "outlinewidth": 0,
              "ticks": ""
             }
            },
            "marker": {
             "colorbar": {
              "outlinewidth": 0,
              "ticks": ""
             }
            },
            "type": "scatter3d"
           }
          ],
          "scattercarpet": [
           {
            "marker": {
             "colorbar": {
              "outlinewidth": 0,
              "ticks": ""
             }
            },
            "type": "scattercarpet"
           }
          ],
          "scattergeo": [
           {
            "marker": {
             "colorbar": {
              "outlinewidth": 0,
              "ticks": ""
             }
            },
            "type": "scattergeo"
           }
          ],
          "scattergl": [
           {
            "marker": {
             "colorbar": {
              "outlinewidth": 0,
              "ticks": ""
             }
            },
            "type": "scattergl"
           }
          ],
          "scattermapbox": [
           {
            "marker": {
             "colorbar": {
              "outlinewidth": 0,
              "ticks": ""
             }
            },
            "type": "scattermapbox"
           }
          ],
          "scatterpolar": [
           {
            "marker": {
             "colorbar": {
              "outlinewidth": 0,
              "ticks": ""
             }
            },
            "type": "scatterpolar"
           }
          ],
          "scatterpolargl": [
           {
            "marker": {
             "colorbar": {
              "outlinewidth": 0,
              "ticks": ""
             }
            },
            "type": "scatterpolargl"
           }
          ],
          "scatterternary": [
           {
            "marker": {
             "colorbar": {
              "outlinewidth": 0,
              "ticks": ""
             }
            },
            "type": "scatterternary"
           }
          ],
          "surface": [
           {
            "colorbar": {
             "outlinewidth": 0,
             "ticks": ""
            },
            "colorscale": [
             [
              0,
              "#0d0887"
             ],
             [
              0.1111111111111111,
              "#46039f"
             ],
             [
              0.2222222222222222,
              "#7201a8"
             ],
             [
              0.3333333333333333,
              "#9c179e"
             ],
             [
              0.4444444444444444,
              "#bd3786"
             ],
             [
              0.5555555555555556,
              "#d8576b"
             ],
             [
              0.6666666666666666,
              "#ed7953"
             ],
             [
              0.7777777777777778,
              "#fb9f3a"
             ],
             [
              0.8888888888888888,
              "#fdca26"
             ],
             [
              1,
              "#f0f921"
             ]
            ],
            "type": "surface"
           }
          ],
          "table": [
           {
            "cells": {
             "fill": {
              "color": "#EBF0F8"
             },
             "line": {
              "color": "white"
             }
            },
            "header": {
             "fill": {
              "color": "#C8D4E3"
             },
             "line": {
              "color": "white"
             }
            },
            "type": "table"
           }
          ]
         },
         "layout": {
          "annotationdefaults": {
           "arrowcolor": "#2a3f5f",
           "arrowhead": 0,
           "arrowwidth": 1
          },
          "autotypenumbers": "strict",
          "coloraxis": {
           "colorbar": {
            "outlinewidth": 0,
            "ticks": ""
           }
          },
          "colorscale": {
           "diverging": [
            [
             0,
             "#8e0152"
            ],
            [
             0.1,
             "#c51b7d"
            ],
            [
             0.2,
             "#de77ae"
            ],
            [
             0.3,
             "#f1b6da"
            ],
            [
             0.4,
             "#fde0ef"
            ],
            [
             0.5,
             "#f7f7f7"
            ],
            [
             0.6,
             "#e6f5d0"
            ],
            [
             0.7,
             "#b8e186"
            ],
            [
             0.8,
             "#7fbc41"
            ],
            [
             0.9,
             "#4d9221"
            ],
            [
             1,
             "#276419"
            ]
           ],
           "sequential": [
            [
             0,
             "#0d0887"
            ],
            [
             0.1111111111111111,
             "#46039f"
            ],
            [
             0.2222222222222222,
             "#7201a8"
            ],
            [
             0.3333333333333333,
             "#9c179e"
            ],
            [
             0.4444444444444444,
             "#bd3786"
            ],
            [
             0.5555555555555556,
             "#d8576b"
            ],
            [
             0.6666666666666666,
             "#ed7953"
            ],
            [
             0.7777777777777778,
             "#fb9f3a"
            ],
            [
             0.8888888888888888,
             "#fdca26"
            ],
            [
             1,
             "#f0f921"
            ]
           ],
           "sequentialminus": [
            [
             0,
             "#0d0887"
            ],
            [
             0.1111111111111111,
             "#46039f"
            ],
            [
             0.2222222222222222,
             "#7201a8"
            ],
            [
             0.3333333333333333,
             "#9c179e"
            ],
            [
             0.4444444444444444,
             "#bd3786"
            ],
            [
             0.5555555555555556,
             "#d8576b"
            ],
            [
             0.6666666666666666,
             "#ed7953"
            ],
            [
             0.7777777777777778,
             "#fb9f3a"
            ],
            [
             0.8888888888888888,
             "#fdca26"
            ],
            [
             1,
             "#f0f921"
            ]
           ]
          },
          "colorway": [
           "#636efa",
           "#EF553B",
           "#00cc96",
           "#ab63fa",
           "#FFA15A",
           "#19d3f3",
           "#FF6692",
           "#B6E880",
           "#FF97FF",
           "#FECB52"
          ],
          "font": {
           "color": "#2a3f5f"
          },
          "geo": {
           "bgcolor": "white",
           "lakecolor": "white",
           "landcolor": "white",
           "showlakes": true,
           "showland": true,
           "subunitcolor": "#C8D4E3"
          },
          "hoverlabel": {
           "align": "left"
          },
          "hovermode": "closest",
          "mapbox": {
           "style": "light"
          },
          "paper_bgcolor": "white",
          "plot_bgcolor": "white",
          "polar": {
           "angularaxis": {
            "gridcolor": "#EBF0F8",
            "linecolor": "#EBF0F8",
            "ticks": ""
           },
           "bgcolor": "white",
           "radialaxis": {
            "gridcolor": "#EBF0F8",
            "linecolor": "#EBF0F8",
            "ticks": ""
           }
          },
          "scene": {
           "xaxis": {
            "backgroundcolor": "white",
            "gridcolor": "#DFE8F3",
            "gridwidth": 2,
            "linecolor": "#EBF0F8",
            "showbackground": true,
            "ticks": "",
            "zerolinecolor": "#EBF0F8"
           },
           "yaxis": {
            "backgroundcolor": "white",
            "gridcolor": "#DFE8F3",
            "gridwidth": 2,
            "linecolor": "#EBF0F8",
            "showbackground": true,
            "ticks": "",
            "zerolinecolor": "#EBF0F8"
           },
           "zaxis": {
            "backgroundcolor": "white",
            "gridcolor": "#DFE8F3",
            "gridwidth": 2,
            "linecolor": "#EBF0F8",
            "showbackground": true,
            "ticks": "",
            "zerolinecolor": "#EBF0F8"
           }
          },
          "shapedefaults": {
           "line": {
            "color": "#2a3f5f"
           }
          },
          "ternary": {
           "aaxis": {
            "gridcolor": "#DFE8F3",
            "linecolor": "#A2B1C6",
            "ticks": ""
           },
           "baxis": {
            "gridcolor": "#DFE8F3",
            "linecolor": "#A2B1C6",
            "ticks": ""
           },
           "bgcolor": "white",
           "caxis": {
            "gridcolor": "#DFE8F3",
            "linecolor": "#A2B1C6",
            "ticks": ""
           }
          },
          "title": {
           "x": 0.05
          },
          "xaxis": {
           "automargin": true,
           "gridcolor": "#EBF0F8",
           "linecolor": "#EBF0F8",
           "ticks": "",
           "title": {
            "standoff": 15
           },
           "zerolinecolor": "#EBF0F8",
           "zerolinewidth": 2
          },
          "yaxis": {
           "automargin": true,
           "gridcolor": "#EBF0F8",
           "linecolor": "#EBF0F8",
           "ticks": "",
           "title": {
            "standoff": 15
           },
           "zerolinecolor": "#EBF0F8",
           "zerolinewidth": 2
          }
         }
        },
        "title": {
         "text": ""
        },
        "width": 600,
        "xaxis": {
         "anchor": "y",
         "domain": [
          0,
          0.94
         ],
         "showgrid": true,
         "tickvals": [
          0,
          0.13,
          0.3,
          0.5,
          0.7
         ],
         "title": {
          "font": {
           "size": 18
          },
          "text": "$\\text{Threshold } \\tau$"
         }
        },
        "yaxis": {
         "anchor": "x",
         "domain": [
          0,
          1
         ],
         "nticks": 6,
         "showgrid": true,
         "title": {
          "text": "Number of Edges"
         },
         "zeroline": true
        },
        "yaxis2": {
         "anchor": "x",
         "nticks": 6,
         "overlaying": "y",
         "showgrid": false,
         "side": "right",
         "title": {
          "text": "MSE"
         },
         "zeroline": false
        }
       }
      },
      "text/html": [
       "<div>                            <div id=\"d94a4156-774e-4d79-a072-ba9c892c65be\" class=\"plotly-graph-div\" style=\"height:250px; width:600px;\"></div>            <script type=\"text/javascript\">                require([\"plotly\"], function(Plotly) {                    window.PLOTLYENV=window.PLOTLYENV || {};                                    if (document.getElementById(\"d94a4156-774e-4d79-a072-ba9c892c65be\")) {                    Plotly.newPlot(                        \"d94a4156-774e-4d79-a072-ba9c892c65be\",                        [{\"error_y\":{\"array\":[7.387011778212339,7.042780073563186,6.783889825213433,6.868942622813242,5.233823309639463,27.2050648946466,27.307922325269054,29.5831797422127,12.277859208340255,12.862440544372042,12.865846193946338,3.3624461481766983,8.356597330489718,10.106332926751348,10.007311731194303],\"type\":\"data\",\"visible\":true},\"name\":\"MSE\",\"type\":\"scatter\",\"x\":[-0.17,0.0,0.037,0.066,0.132,0.198,0.264,0.33,0.396,0.462,0.528,0.5940000000000001,0.66,0.726,0.792],\"xaxis\":\"x\",\"y\":[22.231392264045418,18.50768999498596,16.818328777785908,18.437362453397082,20.36365077742586,40.76508476467781,41.87670011744681,62.4974491992222,84.99840569296435,84.60619672687682,84.60199238831366,85.12748922987889,92.36031912990856,93.77760136324999,89.77500632386798],\"yaxis\":\"y2\"},{\"error_y\":{\"array\":[0.0,0.0,0.5270462766947284,1.2909944487357985,7.942501704962573,8.098353742170895,6.390096504226937,5.916079783099617,5.416025603090639,4.804511768466525,4.252450274057693,3.4156502553198664,3.518657752744984,0.5270462766947299,1.2909944487358054],\"type\":\"data\",\"visible\":true},\"name\":\"Edges\",\"type\":\"scatter\",\"x\":[-0.17,0.0,0.037,0.066,0.132,0.198,0.264,0.33,0.396,0.462,0.528,0.5940000000000001,0.66,0.726,0.792],\"xaxis\":\"x\",\"y\":[182.0,91.0,90.5,86.0,47.8,32.8,23.0,17.0,12.2,9.8,7.8,5.666666666666667,6.666666666666667,6.5,2.6666666666666665],\"yaxis\":\"y\"}],                        {\"annotations\":[{\"showarrow\":false,\"text\":\"CASTLE\",\"x\":0.02,\"xref\":\"paper\",\"y\":-0.15,\"yref\":\"paper\",\"yshift\":0},{\"ax\":0,\"ay\":0,\"showarrow\":true,\"text\":\"0.13\",\"x\":0.13,\"xref\":\"x\",\"y\":20.363,\"yref\":\"paper\",\"yshift\":-193},{\"ax\":280,\"ay\":0,\"showarrow\":true,\"text\":\"20.4\",\"x\":0.13,\"xref\":\"x\",\"y\":20.363,\"yref\":\"y2\",\"yshift\":0},{\"ax\":-130,\"ay\":0,\"showarrow\":true,\"text\":\"48\",\"x\":0.13,\"xref\":\"x\",\"y\":47.8,\"yref\":\"y\",\"yshift\":0}],\"autosize\":true,\"font\":{\"family\":\"Serif\",\"size\":18},\"height\":250,\"legend\":{\"orientation\":\"h\",\"x\":0.85,\"xanchor\":\"center\",\"y\":-0.35,\"yanchor\":\"bottom\"},\"margin\":{\"b\":10,\"l\":10,\"pad\":0,\"r\":10,\"t\":10},\"template\":{\"data\":{\"bar\":[{\"error_x\":{\"color\":\"#2a3f5f\"},\"error_y\":{\"color\":\"#2a3f5f\"},\"marker\":{\"line\":{\"color\":\"white\",\"width\":0.5},\"pattern\":{\"fillmode\":\"overlay\",\"size\":10,\"solidity\":0.2}},\"type\":\"bar\"}],\"barpolar\":[{\"marker\":{\"line\":{\"color\":\"white\",\"width\":0.5},\"pattern\":{\"fillmode\":\"overlay\",\"size\":10,\"solidity\":0.2}},\"type\":\"barpolar\"}],\"carpet\":[{\"aaxis\":{\"endlinecolor\":\"#2a3f5f\",\"gridcolor\":\"#C8D4E3\",\"linecolor\":\"#C8D4E3\",\"minorgridcolor\":\"#C8D4E3\",\"startlinecolor\":\"#2a3f5f\"},\"baxis\":{\"endlinecolor\":\"#2a3f5f\",\"gridcolor\":\"#C8D4E3\",\"linecolor\":\"#C8D4E3\",\"minorgridcolor\":\"#C8D4E3\",\"startlinecolor\":\"#2a3f5f\"},\"type\":\"carpet\"}],\"choropleth\":[{\"colorbar\":{\"outlinewidth\":0,\"ticks\":\"\"},\"type\":\"choropleth\"}],\"contour\":[{\"colorbar\":{\"outlinewidth\":0,\"ticks\":\"\"},\"colorscale\":[[0.0,\"#0d0887\"],[0.1111111111111111,\"#46039f\"],[0.2222222222222222,\"#7201a8\"],[0.3333333333333333,\"#9c179e\"],[0.4444444444444444,\"#bd3786\"],[0.5555555555555556,\"#d8576b\"],[0.6666666666666666,\"#ed7953\"],[0.7777777777777778,\"#fb9f3a\"],[0.8888888888888888,\"#fdca26\"],[1.0,\"#f0f921\"]],\"type\":\"contour\"}],\"contourcarpet\":[{\"colorbar\":{\"outlinewidth\":0,\"ticks\":\"\"},\"type\":\"contourcarpet\"}],\"heatmap\":[{\"colorbar\":{\"outlinewidth\":0,\"ticks\":\"\"},\"colorscale\":[[0.0,\"#0d0887\"],[0.1111111111111111,\"#46039f\"],[0.2222222222222222,\"#7201a8\"],[0.3333333333333333,\"#9c179e\"],[0.4444444444444444,\"#bd3786\"],[0.5555555555555556,\"#d8576b\"],[0.6666666666666666,\"#ed7953\"],[0.7777777777777778,\"#fb9f3a\"],[0.8888888888888888,\"#fdca26\"],[1.0,\"#f0f921\"]],\"type\":\"heatmap\"}],\"heatmapgl\":[{\"colorbar\":{\"outlinewidth\":0,\"ticks\":\"\"},\"colorscale\":[[0.0,\"#0d0887\"],[0.1111111111111111,\"#46039f\"],[0.2222222222222222,\"#7201a8\"],[0.3333333333333333,\"#9c179e\"],[0.4444444444444444,\"#bd3786\"],[0.5555555555555556,\"#d8576b\"],[0.6666666666666666,\"#ed7953\"],[0.7777777777777778,\"#fb9f3a\"],[0.8888888888888888,\"#fdca26\"],[1.0,\"#f0f921\"]],\"type\":\"heatmapgl\"}],\"histogram\":[{\"marker\":{\"pattern\":{\"fillmode\":\"overlay\",\"size\":10,\"solidity\":0.2}},\"type\":\"histogram\"}],\"histogram2d\":[{\"colorbar\":{\"outlinewidth\":0,\"ticks\":\"\"},\"colorscale\":[[0.0,\"#0d0887\"],[0.1111111111111111,\"#46039f\"],[0.2222222222222222,\"#7201a8\"],[0.3333333333333333,\"#9c179e\"],[0.4444444444444444,\"#bd3786\"],[0.5555555555555556,\"#d8576b\"],[0.6666666666666666,\"#ed7953\"],[0.7777777777777778,\"#fb9f3a\"],[0.8888888888888888,\"#fdca26\"],[1.0,\"#f0f921\"]],\"type\":\"histogram2d\"}],\"histogram2dcontour\":[{\"colorbar\":{\"outlinewidth\":0,\"ticks\":\"\"},\"colorscale\":[[0.0,\"#0d0887\"],[0.1111111111111111,\"#46039f\"],[0.2222222222222222,\"#7201a8\"],[0.3333333333333333,\"#9c179e\"],[0.4444444444444444,\"#bd3786\"],[0.5555555555555556,\"#d8576b\"],[0.6666666666666666,\"#ed7953\"],[0.7777777777777778,\"#fb9f3a\"],[0.8888888888888888,\"#fdca26\"],[1.0,\"#f0f921\"]],\"type\":\"histogram2dcontour\"}],\"mesh3d\":[{\"colorbar\":{\"outlinewidth\":0,\"ticks\":\"\"},\"type\":\"mesh3d\"}],\"parcoords\":[{\"line\":{\"colorbar\":{\"outlinewidth\":0,\"ticks\":\"\"}},\"type\":\"parcoords\"}],\"pie\":[{\"automargin\":true,\"type\":\"pie\"}],\"scatter\":[{\"marker\":{\"colorbar\":{\"outlinewidth\":0,\"ticks\":\"\"}},\"type\":\"scatter\"}],\"scatter3d\":[{\"line\":{\"colorbar\":{\"outlinewidth\":0,\"ticks\":\"\"}},\"marker\":{\"colorbar\":{\"outlinewidth\":0,\"ticks\":\"\"}},\"type\":\"scatter3d\"}],\"scattercarpet\":[{\"marker\":{\"colorbar\":{\"outlinewidth\":0,\"ticks\":\"\"}},\"type\":\"scattercarpet\"}],\"scattergeo\":[{\"marker\":{\"colorbar\":{\"outlinewidth\":0,\"ticks\":\"\"}},\"type\":\"scattergeo\"}],\"scattergl\":[{\"marker\":{\"colorbar\":{\"outlinewidth\":0,\"ticks\":\"\"}},\"type\":\"scattergl\"}],\"scattermapbox\":[{\"marker\":{\"colorbar\":{\"outlinewidth\":0,\"ticks\":\"\"}},\"type\":\"scattermapbox\"}],\"scatterpolar\":[{\"marker\":{\"colorbar\":{\"outlinewidth\":0,\"ticks\":\"\"}},\"type\":\"scatterpolar\"}],\"scatterpolargl\":[{\"marker\":{\"colorbar\":{\"outlinewidth\":0,\"ticks\":\"\"}},\"type\":\"scatterpolargl\"}],\"scatterternary\":[{\"marker\":{\"colorbar\":{\"outlinewidth\":0,\"ticks\":\"\"}},\"type\":\"scatterternary\"}],\"surface\":[{\"colorbar\":{\"outlinewidth\":0,\"ticks\":\"\"},\"colorscale\":[[0.0,\"#0d0887\"],[0.1111111111111111,\"#46039f\"],[0.2222222222222222,\"#7201a8\"],[0.3333333333333333,\"#9c179e\"],[0.4444444444444444,\"#bd3786\"],[0.5555555555555556,\"#d8576b\"],[0.6666666666666666,\"#ed7953\"],[0.7777777777777778,\"#fb9f3a\"],[0.8888888888888888,\"#fdca26\"],[1.0,\"#f0f921\"]],\"type\":\"surface\"}],\"table\":[{\"cells\":{\"fill\":{\"color\":\"#EBF0F8\"},\"line\":{\"color\":\"white\"}},\"header\":{\"fill\":{\"color\":\"#C8D4E3\"},\"line\":{\"color\":\"white\"}},\"type\":\"table\"}]},\"layout\":{\"annotationdefaults\":{\"arrowcolor\":\"#2a3f5f\",\"arrowhead\":0,\"arrowwidth\":1},\"autotypenumbers\":\"strict\",\"coloraxis\":{\"colorbar\":{\"outlinewidth\":0,\"ticks\":\"\"}},\"colorscale\":{\"diverging\":[[0,\"#8e0152\"],[0.1,\"#c51b7d\"],[0.2,\"#de77ae\"],[0.3,\"#f1b6da\"],[0.4,\"#fde0ef\"],[0.5,\"#f7f7f7\"],[0.6,\"#e6f5d0\"],[0.7,\"#b8e186\"],[0.8,\"#7fbc41\"],[0.9,\"#4d9221\"],[1,\"#276419\"]],\"sequential\":[[0.0,\"#0d0887\"],[0.1111111111111111,\"#46039f\"],[0.2222222222222222,\"#7201a8\"],[0.3333333333333333,\"#9c179e\"],[0.4444444444444444,\"#bd3786\"],[0.5555555555555556,\"#d8576b\"],[0.6666666666666666,\"#ed7953\"],[0.7777777777777778,\"#fb9f3a\"],[0.8888888888888888,\"#fdca26\"],[1.0,\"#f0f921\"]],\"sequentialminus\":[[0.0,\"#0d0887\"],[0.1111111111111111,\"#46039f\"],[0.2222222222222222,\"#7201a8\"],[0.3333333333333333,\"#9c179e\"],[0.4444444444444444,\"#bd3786\"],[0.5555555555555556,\"#d8576b\"],[0.6666666666666666,\"#ed7953\"],[0.7777777777777778,\"#fb9f3a\"],[0.8888888888888888,\"#fdca26\"],[1.0,\"#f0f921\"]]},\"colorway\":[\"#636efa\",\"#EF553B\",\"#00cc96\",\"#ab63fa\",\"#FFA15A\",\"#19d3f3\",\"#FF6692\",\"#B6E880\",\"#FF97FF\",\"#FECB52\"],\"font\":{\"color\":\"#2a3f5f\"},\"geo\":{\"bgcolor\":\"white\",\"lakecolor\":\"white\",\"landcolor\":\"white\",\"showlakes\":true,\"showland\":true,\"subunitcolor\":\"#C8D4E3\"},\"hoverlabel\":{\"align\":\"left\"},\"hovermode\":\"closest\",\"mapbox\":{\"style\":\"light\"},\"paper_bgcolor\":\"white\",\"plot_bgcolor\":\"white\",\"polar\":{\"angularaxis\":{\"gridcolor\":\"#EBF0F8\",\"linecolor\":\"#EBF0F8\",\"ticks\":\"\"},\"bgcolor\":\"white\",\"radialaxis\":{\"gridcolor\":\"#EBF0F8\",\"linecolor\":\"#EBF0F8\",\"ticks\":\"\"}},\"scene\":{\"xaxis\":{\"backgroundcolor\":\"white\",\"gridcolor\":\"#DFE8F3\",\"gridwidth\":2,\"linecolor\":\"#EBF0F8\",\"showbackground\":true,\"ticks\":\"\",\"zerolinecolor\":\"#EBF0F8\"},\"yaxis\":{\"backgroundcolor\":\"white\",\"gridcolor\":\"#DFE8F3\",\"gridwidth\":2,\"linecolor\":\"#EBF0F8\",\"showbackground\":true,\"ticks\":\"\",\"zerolinecolor\":\"#EBF0F8\"},\"zaxis\":{\"backgroundcolor\":\"white\",\"gridcolor\":\"#DFE8F3\",\"gridwidth\":2,\"linecolor\":\"#EBF0F8\",\"showbackground\":true,\"ticks\":\"\",\"zerolinecolor\":\"#EBF0F8\"}},\"shapedefaults\":{\"line\":{\"color\":\"#2a3f5f\"}},\"ternary\":{\"aaxis\":{\"gridcolor\":\"#DFE8F3\",\"linecolor\":\"#A2B1C6\",\"ticks\":\"\"},\"baxis\":{\"gridcolor\":\"#DFE8F3\",\"linecolor\":\"#A2B1C6\",\"ticks\":\"\"},\"bgcolor\":\"white\",\"caxis\":{\"gridcolor\":\"#DFE8F3\",\"linecolor\":\"#A2B1C6\",\"ticks\":\"\"}},\"title\":{\"x\":0.05},\"xaxis\":{\"automargin\":true,\"gridcolor\":\"#EBF0F8\",\"linecolor\":\"#EBF0F8\",\"ticks\":\"\",\"title\":{\"standoff\":15},\"zerolinecolor\":\"#EBF0F8\",\"zerolinewidth\":2},\"yaxis\":{\"automargin\":true,\"gridcolor\":\"#EBF0F8\",\"linecolor\":\"#EBF0F8\",\"ticks\":\"\",\"title\":{\"standoff\":15},\"zerolinecolor\":\"#EBF0F8\",\"zerolinewidth\":2}}},\"title\":{\"text\":\"\"},\"width\":600,\"xaxis\":{\"anchor\":\"y\",\"domain\":[0.0,0.94],\"showgrid\":true,\"tickvals\":[0,0.13,0.3,0.5,0.7],\"title\":{\"font\":{\"size\":18},\"text\":\"$\\\\text{Threshold } \\\\tau$\"}},\"yaxis\":{\"anchor\":\"x\",\"domain\":[0.0,1.0],\"nticks\":6,\"showgrid\":true,\"title\":{\"text\":\"Number of Edges\"},\"zeroline\":true},\"yaxis2\":{\"anchor\":\"x\",\"nticks\":6,\"overlaying\":\"y\",\"showgrid\":false,\"side\":\"right\",\"title\":{\"text\":\"MSE\"},\"zeroline\":false}},                        {\"responsive\": true}                    ).then(function(){\n",
       "                            \n",
       "var gd = document.getElementById('d94a4156-774e-4d79-a072-ba9c892c65be');\n",
       "var x = new MutationObserver(function (mutations, observer) {{\n",
       "        var display = window.getComputedStyle(gd).display;\n",
       "        if (!display || display === 'none') {{\n",
       "            console.log([gd, 'removed!']);\n",
       "            Plotly.purge(gd);\n",
       "            observer.disconnect();\n",
       "        }}\n",
       "}});\n",
       "\n",
       "// Listen for the removal of the full notebook cells\n",
       "var notebookContainer = gd.closest('#notebook-container');\n",
       "if (notebookContainer) {{\n",
       "    x.observe(notebookContainer, {childList: true});\n",
       "}}\n",
       "\n",
       "// Listen for the clearing of the current output cell\n",
       "var outputEl = gd.closest('.output');\n",
       "if (outputEl) {{\n",
       "    x.observe(outputEl, {childList: true});\n",
       "}}\n",
       "\n",
       "                        })                };                });            </script>        </div>"
      ]
     },
     "metadata": {},
     "output_type": "display_data"
    }
   ],
   "source": [
    "import re\n",
    "from utils import load_pickle\n",
    "import pandas as pd\n",
    "import numpy as np\n",
    "\n",
    "save = True\n",
    "dset='100000'\n",
    "version = 'boston'#'(adult2|adult)'\n",
    "metric = 'MSE'\n",
    "theta = '(([+-])?\\d(\\.\\d+)?)'\n",
    "folder = \"./results/adjmats/\"\n",
    "list_edges = []\n",
    "for filename in os.listdir(folder):\n",
    "    match = re.search(f'W_est.{dset}.(\\d).(\\d).(.*?).{version}.pkl$', filename)\n",
    "    if match:\n",
    "        out_f, in_f, theta = match.groups()\n",
    "        edges = sum(load_pickle(os.path.join(folder,filename), verbose=False).flatten()>0)\n",
    "        list_edges.append((float(theta), out_f, in_f, edges))\n",
    "n_edges = pd.DataFrame(list_edges).groupby(0, as_index=False).agg({3 : ['mean', 'std']})\n",
    "n_edges.columns = n_edges.columns.droplevel()\n",
    "n_edges.columns = ['theta','N_edges','Std']\n",
    "\n",
    "folder = \"./results/\"\n",
    "filename = f\"Nested5FoldCASTLE.Reg.Synth.100000.{version}.pkl\"\n",
    "describe = load_pickle(os.path.join(folder,filename), verbose=False)\n",
    "agg_stats = pd.DataFrame([(describe[c]['theta'],c[9],describe[c]['fold'],describe[c][metric]) for c in describe]).groupby(0, as_index=False).agg({2 : ['count','max'], 3 : ['mean', 'std']})\n",
    "agg_stats.columns = ['theta', 'count','folds',  'accuracy_mean', 'accuracy_std']\n",
    "agg_stats=agg_stats.merge(n_edges,on='theta')\n",
    "agg_stats= agg_stats.drop_duplicates(subset=['N_edges'])\n",
    "sub = -0.17\n",
    "agg_stats.loc[agg_stats['theta']==-1,'theta'] = sub\n",
    "\n",
    "filter_theta = 0.8\n",
    "filter_list = []\n",
    "agg_stats = agg_stats[(agg_stats['theta']<=filter_theta) & (~round(agg_stats['theta'],3).isin(filter_list))]\n",
    "display(agg_stats)\n",
    "\n",
    "import plotly.graph_objects as go\n",
    "from plotly.subplots import make_subplots\n",
    "\n",
    "# Create figure with secondary y-axis\n",
    "fig = make_subplots(specs=[[{\"secondary_y\": True}]])\n",
    "\n",
    "if metric == 'accuracy':\n",
    "    metric =metric.capitalize()\n",
    "else:\n",
    "    metric = metric.upper()\n",
    "\n",
    "# Add traces\n",
    "fig.add_trace(\n",
    "    go.Scatter(x=agg_stats['theta'], y=agg_stats['accuracy_mean'], name=metric,         \n",
    "    error_y=dict(\n",
    "            type='data', # value of error bar given in data coordinates\n",
    "            array=agg_stats['accuracy_std'],\n",
    "            visible=True)\n",
    "            ),\n",
    "    secondary_y=True, \n",
    ")\n",
    "\n",
    "fig.add_trace(\n",
    "    go.Scatter(x=agg_stats['theta'], y=agg_stats['N_edges'], name=\"Edges\",\n",
    "    error_y=dict(\n",
    "            type='data', # value of error bar given in data coordinates\n",
    "            array=agg_stats['Std'],\n",
    "            visible=True)\n",
    "              ),\n",
    "    secondary_y=False,\n",
    ")\n",
    "\n",
    "# Add figure title\n",
    "fig.update_layout(\n",
    "    title='',\n",
    "    legend={\n",
    "        'y':-0.35,\n",
    "        'x':0.85,\n",
    "        'orientation':\"h\",\n",
    "        'xanchor': 'center',\n",
    "        'yanchor': 'bottom'},\n",
    "    template='plotly_white',\n",
    "    autosize=True,\n",
    "    width=600, height=250, \n",
    "    margin=dict(\n",
    "        l=10,\n",
    "        r=10,\n",
    "        b=10,\n",
    "        t=10,\n",
    "        pad=0\n",
    "    ),\n",
    "    font=dict(\n",
    "        family='Serif',#\"Courier New, monospace\",\n",
    "        size=18,\n",
    "        # color=\"Black\"\n",
    "    )    \n",
    ")\n",
    "\n",
    "# Set x-axis title\n",
    "fig.update_xaxes(showgrid=True,title={'text':r'$\\text{Threshold } \\tau$','font':{'size':18#, 'family': 'Courier New, monospace',\n",
    "}},tickvals=[a for sub in [[0,0.13],list(np.round(np.arange(0.3, max(agg_stats['theta']), 0.2),1))] for a in sub],\n",
    ")\n",
    "\n",
    "# Set y-axes titles\n",
    "fig.update_yaxes(showgrid=False,nticks=6,zeroline=False, title={'text':metric#,'font':{'size':18}\n",
    "}, #nticks=13,\n",
    "secondary_y=True)\n",
    "fig.update_yaxes(showgrid=True,nticks=6,zeroline=True, title={'text':\"Number of Edges\"#,'font':{'size':18}\n",
    "}, secondary_y=False)\n",
    "\n",
    "fig.add_annotation(x=0.02, y=-0.15,\n",
    "            text=\"CASTLE\",\n",
    "            showarrow=False,\n",
    "            yshift=0,\n",
    "            xref='paper',\n",
    "            yref='paper',)\n",
    "chosen_tau=0.13\n",
    "y_co = agg_stats[agg_stats['theta']==chosen_tau]['accuracy_mean']\n",
    "fig.add_annotation(x=chosen_tau, y=20.363,\n",
    "            text=str(chosen_tau),\n",
    "            showarrow=True,\n",
    "            yshift=-193,\n",
    "            xref='x',ax=0,\n",
    "            yref='paper',ay=0)\n",
    "fig.add_annotation(x=chosen_tau, y=20.363,\n",
    "            text=str(20.4),\n",
    "            showarrow=True,\n",
    "            yshift=0,\n",
    "            xref='x',ax=280,\n",
    "            yref='y2',ay=0)\n",
    "fig.add_annotation(x=chosen_tau, y=47.8,\n",
    "            text=str(48),\n",
    "            showarrow=True,\n",
    "            yshift=0,\n",
    "            xref='x',ax=-130,\n",
    "            yref='y',ay=0)\n",
    "            \n",
    "fig.show()\n",
    "\n",
    "output_folder = \"figures\"\n",
    "if not os.path.exists(output_folder):\n",
    "    os.mkdir(output_folder)\n",
    "\n",
    "out_path = os.path.join(output_folder,f\"plot_tauoptim_{version}.png\")\n",
    "\n",
    "if save:\n",
    "    import kaleido\n",
    "    fig.write_image(out_path)\n",
    "\n"
   ]
  },
  {
   "cell_type": "markdown",
   "metadata": {},
   "source": [
    "## Cali"
   ]
  },
  {
   "cell_type": "code",
   "execution_count": 74,
   "metadata": {},
   "outputs": [
    {
     "data": {
      "text/html": [
       "<div>\n",
       "<style scoped>\n",
       "    .dataframe tbody tr th:only-of-type {\n",
       "        vertical-align: middle;\n",
       "    }\n",
       "\n",
       "    .dataframe tbody tr th {\n",
       "        vertical-align: top;\n",
       "    }\n",
       "\n",
       "    .dataframe thead th {\n",
       "        text-align: right;\n",
       "    }\n",
       "</style>\n",
       "<table border=\"1\" class=\"dataframe\">\n",
       "  <thead>\n",
       "    <tr style=\"text-align: right;\">\n",
       "      <th></th>\n",
       "      <th>theta</th>\n",
       "      <th>count</th>\n",
       "      <th>folds</th>\n",
       "      <th>accuracy_mean</th>\n",
       "      <th>accuracy_std</th>\n",
       "      <th>N_edges</th>\n",
       "      <th>Std</th>\n",
       "    </tr>\n",
       "  </thead>\n",
       "  <tbody>\n",
       "    <tr>\n",
       "      <th>0</th>\n",
       "      <td>-0.500</td>\n",
       "      <td>25</td>\n",
       "      <td>5</td>\n",
       "      <td>0.662208</td>\n",
       "      <td>0.081241</td>\n",
       "      <td>72.00</td>\n",
       "      <td>0.000000</td>\n",
       "    </tr>\n",
       "    <tr>\n",
       "      <th>1</th>\n",
       "      <td>0.000</td>\n",
       "      <td>25</td>\n",
       "      <td>5</td>\n",
       "      <td>1.062381</td>\n",
       "      <td>0.312212</td>\n",
       "      <td>36.00</td>\n",
       "      <td>0.000000</td>\n",
       "    </tr>\n",
       "    <tr>\n",
       "      <th>2</th>\n",
       "      <td>0.050</td>\n",
       "      <td>25</td>\n",
       "      <td>5</td>\n",
       "      <td>1.018462</td>\n",
       "      <td>0.348869</td>\n",
       "      <td>30.60</td>\n",
       "      <td>2.929733</td>\n",
       "    </tr>\n",
       "    <tr>\n",
       "      <th>4</th>\n",
       "      <td>0.150</td>\n",
       "      <td>25</td>\n",
       "      <td>5</td>\n",
       "      <td>1.049525</td>\n",
       "      <td>0.365987</td>\n",
       "      <td>23.40</td>\n",
       "      <td>0.816497</td>\n",
       "    </tr>\n",
       "    <tr>\n",
       "      <th>9</th>\n",
       "      <td>0.350</td>\n",
       "      <td>25</td>\n",
       "      <td>5</td>\n",
       "      <td>1.081789</td>\n",
       "      <td>0.323505</td>\n",
       "      <td>18.40</td>\n",
       "      <td>1.527525</td>\n",
       "    </tr>\n",
       "    <tr>\n",
       "      <th>13</th>\n",
       "      <td>0.500</td>\n",
       "      <td>25</td>\n",
       "      <td>5</td>\n",
       "      <td>1.083272</td>\n",
       "      <td>0.321736</td>\n",
       "      <td>16.80</td>\n",
       "      <td>1.500000</td>\n",
       "    </tr>\n",
       "    <tr>\n",
       "      <th>20</th>\n",
       "      <td>0.752</td>\n",
       "      <td>20</td>\n",
       "      <td>5</td>\n",
       "      <td>1.174837</td>\n",
       "      <td>0.294267</td>\n",
       "      <td>14.25</td>\n",
       "      <td>0.850696</td>\n",
       "    </tr>\n",
       "    <tr>\n",
       "      <th>25</th>\n",
       "      <td>0.950</td>\n",
       "      <td>15</td>\n",
       "      <td>5</td>\n",
       "      <td>1.339808</td>\n",
       "      <td>0.030016</td>\n",
       "      <td>11.00</td>\n",
       "      <td>2.236068</td>\n",
       "    </tr>\n",
       "    <tr>\n",
       "      <th>27</th>\n",
       "      <td>1.316</td>\n",
       "      <td>20</td>\n",
       "      <td>5</td>\n",
       "      <td>1.339957</td>\n",
       "      <td>0.023627</td>\n",
       "      <td>8.75</td>\n",
       "      <td>1.681947</td>\n",
       "    </tr>\n",
       "    <tr>\n",
       "      <th>29</th>\n",
       "      <td>1.692</td>\n",
       "      <td>25</td>\n",
       "      <td>5</td>\n",
       "      <td>1.331741</td>\n",
       "      <td>0.026890</td>\n",
       "      <td>6.20</td>\n",
       "      <td>1.000000</td>\n",
       "    </tr>\n",
       "  </tbody>\n",
       "</table>\n",
       "</div>"
      ],
      "text/plain": [
       "    theta  count  folds  accuracy_mean  accuracy_std  N_edges       Std\n",
       "0  -0.500     25      5       0.662208      0.081241    72.00  0.000000\n",
       "1   0.000     25      5       1.062381      0.312212    36.00  0.000000\n",
       "2   0.050     25      5       1.018462      0.348869    30.60  2.929733\n",
       "4   0.150     25      5       1.049525      0.365987    23.40  0.816497\n",
       "9   0.350     25      5       1.081789      0.323505    18.40  1.527525\n",
       "13  0.500     25      5       1.083272      0.321736    16.80  1.500000\n",
       "20  0.752     20      5       1.174837      0.294267    14.25  0.850696\n",
       "25  0.950     15      5       1.339808      0.030016    11.00  2.236068\n",
       "27  1.316     20      5       1.339957      0.023627     8.75  1.681947\n",
       "29  1.692     25      5       1.331741      0.026890     6.20  1.000000"
      ]
     },
     "metadata": {},
     "output_type": "display_data"
    },
    {
     "data": {
      "application/vnd.plotly.v1+json": {
       "config": {
        "plotlyServerURL": "https://plot.ly"
       },
       "data": [
        {
         "error_y": {
          "array": [
           0.08124133455302959,
           0.31221185761932635,
           0.3488693949671982,
           0.36598715573747276,
           0.32350461669607095,
           0.32173570592623957,
           0.29426735954701816,
           0.0300155281808635,
           0.023626780248184244,
           0.02688986900602854
          ],
          "type": "data",
          "visible": true
         },
         "name": "MSE",
         "type": "scatter",
         "x": [
          -0.5,
          0,
          0.05,
          0.15,
          0.35,
          0.5,
          0.752,
          0.95,
          1.316,
          1.692
         ],
         "xaxis": "x",
         "y": [
          0.6622075161669813,
          1.0623806684742694,
          1.0184620580426453,
          1.049525359524898,
          1.0817885939317229,
          1.0832717585997775,
          1.1748369498034168,
          1.3398076970417623,
          1.3399569522889117,
          1.3317408926283334
         ],
         "yaxis": "y2"
        },
        {
         "error_y": {
          "array": [
           0,
           0,
           2.9297326385411573,
           0.816496580927726,
           1.5275252316519468,
           1.4999999999999996,
           0.8506963092234006,
           2.23606797749979,
           1.6819474927657674,
           1
          ],
          "type": "data",
          "visible": true
         },
         "name": "Edges",
         "type": "scatter",
         "x": [
          -0.5,
          0,
          0.05,
          0.15,
          0.35,
          0.5,
          0.752,
          0.95,
          1.316,
          1.692
         ],
         "xaxis": "x",
         "y": [
          72,
          36,
          30.6,
          23.4,
          18.4,
          16.8,
          14.25,
          11,
          8.75,
          6.2
         ],
         "yaxis": "y"
        }
       ],
       "layout": {
        "annotations": [
         {
          "showarrow": false,
          "text": "CASTLE",
          "x": 0.02,
          "xref": "paper",
          "y": -0.14,
          "yref": "paper",
          "yshift": 0
         },
         {
          "ax": 0,
          "ay": 0,
          "showarrow": true,
          "text": "0.05",
          "x": 0.05,
          "xref": "x",
          "y": 1.0185,
          "yref": "paper",
          "yshift": -185
         },
         {
          "ax": 310,
          "ay": 0,
          "showarrow": true,
          "text": "1.02",
          "x": 0.05,
          "xref": "x",
          "y": 1.0185,
          "yref": "y2",
          "yshift": 0
         },
         {
          "ax": -120,
          "ay": 0,
          "showarrow": true,
          "text": "31",
          "x": 0.05,
          "xref": "x",
          "y": 30.6,
          "yref": "y",
          "yshift": 0
         }
        ],
        "autosize": true,
        "font": {
         "family": "Serif",
         "size": 18
        },
        "height": 250,
        "legend": {
         "orientation": "h",
         "x": 0.85,
         "xanchor": "center",
         "y": -0.35,
         "yanchor": "bottom"
        },
        "margin": {
         "b": 10,
         "l": 10,
         "pad": 0,
         "r": 10,
         "t": 10
        },
        "template": {
         "data": {
          "bar": [
           {
            "error_x": {
             "color": "#2a3f5f"
            },
            "error_y": {
             "color": "#2a3f5f"
            },
            "marker": {
             "line": {
              "color": "white",
              "width": 0.5
             },
             "pattern": {
              "fillmode": "overlay",
              "size": 10,
              "solidity": 0.2
             }
            },
            "type": "bar"
           }
          ],
          "barpolar": [
           {
            "marker": {
             "line": {
              "color": "white",
              "width": 0.5
             },
             "pattern": {
              "fillmode": "overlay",
              "size": 10,
              "solidity": 0.2
             }
            },
            "type": "barpolar"
           }
          ],
          "carpet": [
           {
            "aaxis": {
             "endlinecolor": "#2a3f5f",
             "gridcolor": "#C8D4E3",
             "linecolor": "#C8D4E3",
             "minorgridcolor": "#C8D4E3",
             "startlinecolor": "#2a3f5f"
            },
            "baxis": {
             "endlinecolor": "#2a3f5f",
             "gridcolor": "#C8D4E3",
             "linecolor": "#C8D4E3",
             "minorgridcolor": "#C8D4E3",
             "startlinecolor": "#2a3f5f"
            },
            "type": "carpet"
           }
          ],
          "choropleth": [
           {
            "colorbar": {
             "outlinewidth": 0,
             "ticks": ""
            },
            "type": "choropleth"
           }
          ],
          "contour": [
           {
            "colorbar": {
             "outlinewidth": 0,
             "ticks": ""
            },
            "colorscale": [
             [
              0,
              "#0d0887"
             ],
             [
              0.1111111111111111,
              "#46039f"
             ],
             [
              0.2222222222222222,
              "#7201a8"
             ],
             [
              0.3333333333333333,
              "#9c179e"
             ],
             [
              0.4444444444444444,
              "#bd3786"
             ],
             [
              0.5555555555555556,
              "#d8576b"
             ],
             [
              0.6666666666666666,
              "#ed7953"
             ],
             [
              0.7777777777777778,
              "#fb9f3a"
             ],
             [
              0.8888888888888888,
              "#fdca26"
             ],
             [
              1,
              "#f0f921"
             ]
            ],
            "type": "contour"
           }
          ],
          "contourcarpet": [
           {
            "colorbar": {
             "outlinewidth": 0,
             "ticks": ""
            },
            "type": "contourcarpet"
           }
          ],
          "heatmap": [
           {
            "colorbar": {
             "outlinewidth": 0,
             "ticks": ""
            },
            "colorscale": [
             [
              0,
              "#0d0887"
             ],
             [
              0.1111111111111111,
              "#46039f"
             ],
             [
              0.2222222222222222,
              "#7201a8"
             ],
             [
              0.3333333333333333,
              "#9c179e"
             ],
             [
              0.4444444444444444,
              "#bd3786"
             ],
             [
              0.5555555555555556,
              "#d8576b"
             ],
             [
              0.6666666666666666,
              "#ed7953"
             ],
             [
              0.7777777777777778,
              "#fb9f3a"
             ],
             [
              0.8888888888888888,
              "#fdca26"
             ],
             [
              1,
              "#f0f921"
             ]
            ],
            "type": "heatmap"
           }
          ],
          "heatmapgl": [
           {
            "colorbar": {
             "outlinewidth": 0,
             "ticks": ""
            },
            "colorscale": [
             [
              0,
              "#0d0887"
             ],
             [
              0.1111111111111111,
              "#46039f"
             ],
             [
              0.2222222222222222,
              "#7201a8"
             ],
             [
              0.3333333333333333,
              "#9c179e"
             ],
             [
              0.4444444444444444,
              "#bd3786"
             ],
             [
              0.5555555555555556,
              "#d8576b"
             ],
             [
              0.6666666666666666,
              "#ed7953"
             ],
             [
              0.7777777777777778,
              "#fb9f3a"
             ],
             [
              0.8888888888888888,
              "#fdca26"
             ],
             [
              1,
              "#f0f921"
             ]
            ],
            "type": "heatmapgl"
           }
          ],
          "histogram": [
           {
            "marker": {
             "pattern": {
              "fillmode": "overlay",
              "size": 10,
              "solidity": 0.2
             }
            },
            "type": "histogram"
           }
          ],
          "histogram2d": [
           {
            "colorbar": {
             "outlinewidth": 0,
             "ticks": ""
            },
            "colorscale": [
             [
              0,
              "#0d0887"
             ],
             [
              0.1111111111111111,
              "#46039f"
             ],
             [
              0.2222222222222222,
              "#7201a8"
             ],
             [
              0.3333333333333333,
              "#9c179e"
             ],
             [
              0.4444444444444444,
              "#bd3786"
             ],
             [
              0.5555555555555556,
              "#d8576b"
             ],
             [
              0.6666666666666666,
              "#ed7953"
             ],
             [
              0.7777777777777778,
              "#fb9f3a"
             ],
             [
              0.8888888888888888,
              "#fdca26"
             ],
             [
              1,
              "#f0f921"
             ]
            ],
            "type": "histogram2d"
           }
          ],
          "histogram2dcontour": [
           {
            "colorbar": {
             "outlinewidth": 0,
             "ticks": ""
            },
            "colorscale": [
             [
              0,
              "#0d0887"
             ],
             [
              0.1111111111111111,
              "#46039f"
             ],
             [
              0.2222222222222222,
              "#7201a8"
             ],
             [
              0.3333333333333333,
              "#9c179e"
             ],
             [
              0.4444444444444444,
              "#bd3786"
             ],
             [
              0.5555555555555556,
              "#d8576b"
             ],
             [
              0.6666666666666666,
              "#ed7953"
             ],
             [
              0.7777777777777778,
              "#fb9f3a"
             ],
             [
              0.8888888888888888,
              "#fdca26"
             ],
             [
              1,
              "#f0f921"
             ]
            ],
            "type": "histogram2dcontour"
           }
          ],
          "mesh3d": [
           {
            "colorbar": {
             "outlinewidth": 0,
             "ticks": ""
            },
            "type": "mesh3d"
           }
          ],
          "parcoords": [
           {
            "line": {
             "colorbar": {
              "outlinewidth": 0,
              "ticks": ""
             }
            },
            "type": "parcoords"
           }
          ],
          "pie": [
           {
            "automargin": true,
            "type": "pie"
           }
          ],
          "scatter": [
           {
            "marker": {
             "colorbar": {
              "outlinewidth": 0,
              "ticks": ""
             }
            },
            "type": "scatter"
           }
          ],
          "scatter3d": [
           {
            "line": {
             "colorbar": {
              "outlinewidth": 0,
              "ticks": ""
             }
            },
            "marker": {
             "colorbar": {
              "outlinewidth": 0,
              "ticks": ""
             }
            },
            "type": "scatter3d"
           }
          ],
          "scattercarpet": [
           {
            "marker": {
             "colorbar": {
              "outlinewidth": 0,
              "ticks": ""
             }
            },
            "type": "scattercarpet"
           }
          ],
          "scattergeo": [
           {
            "marker": {
             "colorbar": {
              "outlinewidth": 0,
              "ticks": ""
             }
            },
            "type": "scattergeo"
           }
          ],
          "scattergl": [
           {
            "marker": {
             "colorbar": {
              "outlinewidth": 0,
              "ticks": ""
             }
            },
            "type": "scattergl"
           }
          ],
          "scattermapbox": [
           {
            "marker": {
             "colorbar": {
              "outlinewidth": 0,
              "ticks": ""
             }
            },
            "type": "scattermapbox"
           }
          ],
          "scatterpolar": [
           {
            "marker": {
             "colorbar": {
              "outlinewidth": 0,
              "ticks": ""
             }
            },
            "type": "scatterpolar"
           }
          ],
          "scatterpolargl": [
           {
            "marker": {
             "colorbar": {
              "outlinewidth": 0,
              "ticks": ""
             }
            },
            "type": "scatterpolargl"
           }
          ],
          "scatterternary": [
           {
            "marker": {
             "colorbar": {
              "outlinewidth": 0,
              "ticks": ""
             }
            },
            "type": "scatterternary"
           }
          ],
          "surface": [
           {
            "colorbar": {
             "outlinewidth": 0,
             "ticks": ""
            },
            "colorscale": [
             [
              0,
              "#0d0887"
             ],
             [
              0.1111111111111111,
              "#46039f"
             ],
             [
              0.2222222222222222,
              "#7201a8"
             ],
             [
              0.3333333333333333,
              "#9c179e"
             ],
             [
              0.4444444444444444,
              "#bd3786"
             ],
             [
              0.5555555555555556,
              "#d8576b"
             ],
             [
              0.6666666666666666,
              "#ed7953"
             ],
             [
              0.7777777777777778,
              "#fb9f3a"
             ],
             [
              0.8888888888888888,
              "#fdca26"
             ],
             [
              1,
              "#f0f921"
             ]
            ],
            "type": "surface"
           }
          ],
          "table": [
           {
            "cells": {
             "fill": {
              "color": "#EBF0F8"
             },
             "line": {
              "color": "white"
             }
            },
            "header": {
             "fill": {
              "color": "#C8D4E3"
             },
             "line": {
              "color": "white"
             }
            },
            "type": "table"
           }
          ]
         },
         "layout": {
          "annotationdefaults": {
           "arrowcolor": "#2a3f5f",
           "arrowhead": 0,
           "arrowwidth": 1
          },
          "autotypenumbers": "strict",
          "coloraxis": {
           "colorbar": {
            "outlinewidth": 0,
            "ticks": ""
           }
          },
          "colorscale": {
           "diverging": [
            [
             0,
             "#8e0152"
            ],
            [
             0.1,
             "#c51b7d"
            ],
            [
             0.2,
             "#de77ae"
            ],
            [
             0.3,
             "#f1b6da"
            ],
            [
             0.4,
             "#fde0ef"
            ],
            [
             0.5,
             "#f7f7f7"
            ],
            [
             0.6,
             "#e6f5d0"
            ],
            [
             0.7,
             "#b8e186"
            ],
            [
             0.8,
             "#7fbc41"
            ],
            [
             0.9,
             "#4d9221"
            ],
            [
             1,
             "#276419"
            ]
           ],
           "sequential": [
            [
             0,
             "#0d0887"
            ],
            [
             0.1111111111111111,
             "#46039f"
            ],
            [
             0.2222222222222222,
             "#7201a8"
            ],
            [
             0.3333333333333333,
             "#9c179e"
            ],
            [
             0.4444444444444444,
             "#bd3786"
            ],
            [
             0.5555555555555556,
             "#d8576b"
            ],
            [
             0.6666666666666666,
             "#ed7953"
            ],
            [
             0.7777777777777778,
             "#fb9f3a"
            ],
            [
             0.8888888888888888,
             "#fdca26"
            ],
            [
             1,
             "#f0f921"
            ]
           ],
           "sequentialminus": [
            [
             0,
             "#0d0887"
            ],
            [
             0.1111111111111111,
             "#46039f"
            ],
            [
             0.2222222222222222,
             "#7201a8"
            ],
            [
             0.3333333333333333,
             "#9c179e"
            ],
            [
             0.4444444444444444,
             "#bd3786"
            ],
            [
             0.5555555555555556,
             "#d8576b"
            ],
            [
             0.6666666666666666,
             "#ed7953"
            ],
            [
             0.7777777777777778,
             "#fb9f3a"
            ],
            [
             0.8888888888888888,
             "#fdca26"
            ],
            [
             1,
             "#f0f921"
            ]
           ]
          },
          "colorway": [
           "#636efa",
           "#EF553B",
           "#00cc96",
           "#ab63fa",
           "#FFA15A",
           "#19d3f3",
           "#FF6692",
           "#B6E880",
           "#FF97FF",
           "#FECB52"
          ],
          "font": {
           "color": "#2a3f5f"
          },
          "geo": {
           "bgcolor": "white",
           "lakecolor": "white",
           "landcolor": "white",
           "showlakes": true,
           "showland": true,
           "subunitcolor": "#C8D4E3"
          },
          "hoverlabel": {
           "align": "left"
          },
          "hovermode": "closest",
          "mapbox": {
           "style": "light"
          },
          "paper_bgcolor": "white",
          "plot_bgcolor": "white",
          "polar": {
           "angularaxis": {
            "gridcolor": "#EBF0F8",
            "linecolor": "#EBF0F8",
            "ticks": ""
           },
           "bgcolor": "white",
           "radialaxis": {
            "gridcolor": "#EBF0F8",
            "linecolor": "#EBF0F8",
            "ticks": ""
           }
          },
          "scene": {
           "xaxis": {
            "backgroundcolor": "white",
            "gridcolor": "#DFE8F3",
            "gridwidth": 2,
            "linecolor": "#EBF0F8",
            "showbackground": true,
            "ticks": "",
            "zerolinecolor": "#EBF0F8"
           },
           "yaxis": {
            "backgroundcolor": "white",
            "gridcolor": "#DFE8F3",
            "gridwidth": 2,
            "linecolor": "#EBF0F8",
            "showbackground": true,
            "ticks": "",
            "zerolinecolor": "#EBF0F8"
           },
           "zaxis": {
            "backgroundcolor": "white",
            "gridcolor": "#DFE8F3",
            "gridwidth": 2,
            "linecolor": "#EBF0F8",
            "showbackground": true,
            "ticks": "",
            "zerolinecolor": "#EBF0F8"
           }
          },
          "shapedefaults": {
           "line": {
            "color": "#2a3f5f"
           }
          },
          "ternary": {
           "aaxis": {
            "gridcolor": "#DFE8F3",
            "linecolor": "#A2B1C6",
            "ticks": ""
           },
           "baxis": {
            "gridcolor": "#DFE8F3",
            "linecolor": "#A2B1C6",
            "ticks": ""
           },
           "bgcolor": "white",
           "caxis": {
            "gridcolor": "#DFE8F3",
            "linecolor": "#A2B1C6",
            "ticks": ""
           }
          },
          "title": {
           "x": 0.05
          },
          "xaxis": {
           "automargin": true,
           "gridcolor": "#EBF0F8",
           "linecolor": "#EBF0F8",
           "ticks": "",
           "title": {
            "standoff": 15
           },
           "zerolinecolor": "#EBF0F8",
           "zerolinewidth": 2
          },
          "yaxis": {
           "automargin": true,
           "gridcolor": "#EBF0F8",
           "linecolor": "#EBF0F8",
           "ticks": "",
           "title": {
            "standoff": 15
           },
           "zerolinecolor": "#EBF0F8",
           "zerolinewidth": 2
          }
         }
        },
        "title": {
         "text": ""
        },
        "width": 600,
        "xaxis": {
         "anchor": "y",
         "domain": [
          0,
          0.94
         ],
         "showgrid": true,
         "tickvals": [
          0.05,
          0.5,
          1,
          1.5
         ],
         "title": {
          "font": {
           "size": 18
          },
          "text": "$\\text{Threshold } \\tau$"
         }
        },
        "yaxis": {
         "anchor": "x",
         "domain": [
          0,
          1
         ],
         "title": {
          "text": "Number of Edges"
         }
        },
        "yaxis2": {
         "anchor": "x",
         "nticks": 6,
         "overlaying": "y",
         "showgrid": false,
         "side": "right",
         "title": {
          "text": "MSE"
         },
         "zeroline": false
        }
       }
      },
      "text/html": [
       "<div>                            <div id=\"a1a13f29-916a-487e-89ce-1a8377e42095\" class=\"plotly-graph-div\" style=\"height:250px; width:600px;\"></div>            <script type=\"text/javascript\">                require([\"plotly\"], function(Plotly) {                    window.PLOTLYENV=window.PLOTLYENV || {};                                    if (document.getElementById(\"a1a13f29-916a-487e-89ce-1a8377e42095\")) {                    Plotly.newPlot(                        \"a1a13f29-916a-487e-89ce-1a8377e42095\",                        [{\"error_y\":{\"array\":[0.08124133455302959,0.31221185761932635,0.3488693949671982,0.36598715573747276,0.32350461669607095,0.32173570592623957,0.29426735954701816,0.0300155281808635,0.023626780248184244,0.02688986900602854],\"type\":\"data\",\"visible\":true},\"name\":\"MSE\",\"type\":\"scatter\",\"x\":[-0.5,0.0,0.05,0.15,0.35,0.5,0.752,0.95,1.316,1.692],\"xaxis\":\"x\",\"y\":[0.6622075161669813,1.0623806684742694,1.0184620580426453,1.049525359524898,1.0817885939317229,1.0832717585997775,1.1748369498034168,1.3398076970417623,1.3399569522889117,1.3317408926283334],\"yaxis\":\"y2\"},{\"error_y\":{\"array\":[0.0,0.0,2.9297326385411573,0.816496580927726,1.5275252316519468,1.4999999999999996,0.8506963092234006,2.23606797749979,1.6819474927657674,1.0],\"type\":\"data\",\"visible\":true},\"name\":\"Edges\",\"type\":\"scatter\",\"x\":[-0.5,0.0,0.05,0.15,0.35,0.5,0.752,0.95,1.316,1.692],\"xaxis\":\"x\",\"y\":[72.0,36.0,30.6,23.4,18.4,16.8,14.25,11.0,8.75,6.2],\"yaxis\":\"y\"}],                        {\"annotations\":[{\"showarrow\":false,\"text\":\"CASTLE\",\"x\":0.02,\"xref\":\"paper\",\"y\":-0.14,\"yref\":\"paper\",\"yshift\":0},{\"ax\":0,\"ay\":0,\"showarrow\":true,\"text\":\"0.05\",\"x\":0.05,\"xref\":\"x\",\"y\":1.0185,\"yref\":\"paper\",\"yshift\":-185},{\"ax\":310,\"ay\":0,\"showarrow\":true,\"text\":\"1.02\",\"x\":0.05,\"xref\":\"x\",\"y\":1.0185,\"yref\":\"y2\",\"yshift\":0},{\"ax\":-120,\"ay\":0,\"showarrow\":true,\"text\":\"31\",\"x\":0.05,\"xref\":\"x\",\"y\":30.6,\"yref\":\"y\",\"yshift\":0}],\"autosize\":true,\"font\":{\"family\":\"Serif\",\"size\":18},\"height\":250,\"legend\":{\"orientation\":\"h\",\"x\":0.85,\"xanchor\":\"center\",\"y\":-0.35,\"yanchor\":\"bottom\"},\"margin\":{\"b\":10,\"l\":10,\"pad\":0,\"r\":10,\"t\":10},\"template\":{\"data\":{\"bar\":[{\"error_x\":{\"color\":\"#2a3f5f\"},\"error_y\":{\"color\":\"#2a3f5f\"},\"marker\":{\"line\":{\"color\":\"white\",\"width\":0.5},\"pattern\":{\"fillmode\":\"overlay\",\"size\":10,\"solidity\":0.2}},\"type\":\"bar\"}],\"barpolar\":[{\"marker\":{\"line\":{\"color\":\"white\",\"width\":0.5},\"pattern\":{\"fillmode\":\"overlay\",\"size\":10,\"solidity\":0.2}},\"type\":\"barpolar\"}],\"carpet\":[{\"aaxis\":{\"endlinecolor\":\"#2a3f5f\",\"gridcolor\":\"#C8D4E3\",\"linecolor\":\"#C8D4E3\",\"minorgridcolor\":\"#C8D4E3\",\"startlinecolor\":\"#2a3f5f\"},\"baxis\":{\"endlinecolor\":\"#2a3f5f\",\"gridcolor\":\"#C8D4E3\",\"linecolor\":\"#C8D4E3\",\"minorgridcolor\":\"#C8D4E3\",\"startlinecolor\":\"#2a3f5f\"},\"type\":\"carpet\"}],\"choropleth\":[{\"colorbar\":{\"outlinewidth\":0,\"ticks\":\"\"},\"type\":\"choropleth\"}],\"contour\":[{\"colorbar\":{\"outlinewidth\":0,\"ticks\":\"\"},\"colorscale\":[[0.0,\"#0d0887\"],[0.1111111111111111,\"#46039f\"],[0.2222222222222222,\"#7201a8\"],[0.3333333333333333,\"#9c179e\"],[0.4444444444444444,\"#bd3786\"],[0.5555555555555556,\"#d8576b\"],[0.6666666666666666,\"#ed7953\"],[0.7777777777777778,\"#fb9f3a\"],[0.8888888888888888,\"#fdca26\"],[1.0,\"#f0f921\"]],\"type\":\"contour\"}],\"contourcarpet\":[{\"colorbar\":{\"outlinewidth\":0,\"ticks\":\"\"},\"type\":\"contourcarpet\"}],\"heatmap\":[{\"colorbar\":{\"outlinewidth\":0,\"ticks\":\"\"},\"colorscale\":[[0.0,\"#0d0887\"],[0.1111111111111111,\"#46039f\"],[0.2222222222222222,\"#7201a8\"],[0.3333333333333333,\"#9c179e\"],[0.4444444444444444,\"#bd3786\"],[0.5555555555555556,\"#d8576b\"],[0.6666666666666666,\"#ed7953\"],[0.7777777777777778,\"#fb9f3a\"],[0.8888888888888888,\"#fdca26\"],[1.0,\"#f0f921\"]],\"type\":\"heatmap\"}],\"heatmapgl\":[{\"colorbar\":{\"outlinewidth\":0,\"ticks\":\"\"},\"colorscale\":[[0.0,\"#0d0887\"],[0.1111111111111111,\"#46039f\"],[0.2222222222222222,\"#7201a8\"],[0.3333333333333333,\"#9c179e\"],[0.4444444444444444,\"#bd3786\"],[0.5555555555555556,\"#d8576b\"],[0.6666666666666666,\"#ed7953\"],[0.7777777777777778,\"#fb9f3a\"],[0.8888888888888888,\"#fdca26\"],[1.0,\"#f0f921\"]],\"type\":\"heatmapgl\"}],\"histogram\":[{\"marker\":{\"pattern\":{\"fillmode\":\"overlay\",\"size\":10,\"solidity\":0.2}},\"type\":\"histogram\"}],\"histogram2d\":[{\"colorbar\":{\"outlinewidth\":0,\"ticks\":\"\"},\"colorscale\":[[0.0,\"#0d0887\"],[0.1111111111111111,\"#46039f\"],[0.2222222222222222,\"#7201a8\"],[0.3333333333333333,\"#9c179e\"],[0.4444444444444444,\"#bd3786\"],[0.5555555555555556,\"#d8576b\"],[0.6666666666666666,\"#ed7953\"],[0.7777777777777778,\"#fb9f3a\"],[0.8888888888888888,\"#fdca26\"],[1.0,\"#f0f921\"]],\"type\":\"histogram2d\"}],\"histogram2dcontour\":[{\"colorbar\":{\"outlinewidth\":0,\"ticks\":\"\"},\"colorscale\":[[0.0,\"#0d0887\"],[0.1111111111111111,\"#46039f\"],[0.2222222222222222,\"#7201a8\"],[0.3333333333333333,\"#9c179e\"],[0.4444444444444444,\"#bd3786\"],[0.5555555555555556,\"#d8576b\"],[0.6666666666666666,\"#ed7953\"],[0.7777777777777778,\"#fb9f3a\"],[0.8888888888888888,\"#fdca26\"],[1.0,\"#f0f921\"]],\"type\":\"histogram2dcontour\"}],\"mesh3d\":[{\"colorbar\":{\"outlinewidth\":0,\"ticks\":\"\"},\"type\":\"mesh3d\"}],\"parcoords\":[{\"line\":{\"colorbar\":{\"outlinewidth\":0,\"ticks\":\"\"}},\"type\":\"parcoords\"}],\"pie\":[{\"automargin\":true,\"type\":\"pie\"}],\"scatter\":[{\"marker\":{\"colorbar\":{\"outlinewidth\":0,\"ticks\":\"\"}},\"type\":\"scatter\"}],\"scatter3d\":[{\"line\":{\"colorbar\":{\"outlinewidth\":0,\"ticks\":\"\"}},\"marker\":{\"colorbar\":{\"outlinewidth\":0,\"ticks\":\"\"}},\"type\":\"scatter3d\"}],\"scattercarpet\":[{\"marker\":{\"colorbar\":{\"outlinewidth\":0,\"ticks\":\"\"}},\"type\":\"scattercarpet\"}],\"scattergeo\":[{\"marker\":{\"colorbar\":{\"outlinewidth\":0,\"ticks\":\"\"}},\"type\":\"scattergeo\"}],\"scattergl\":[{\"marker\":{\"colorbar\":{\"outlinewidth\":0,\"ticks\":\"\"}},\"type\":\"scattergl\"}],\"scattermapbox\":[{\"marker\":{\"colorbar\":{\"outlinewidth\":0,\"ticks\":\"\"}},\"type\":\"scattermapbox\"}],\"scatterpolar\":[{\"marker\":{\"colorbar\":{\"outlinewidth\":0,\"ticks\":\"\"}},\"type\":\"scatterpolar\"}],\"scatterpolargl\":[{\"marker\":{\"colorbar\":{\"outlinewidth\":0,\"ticks\":\"\"}},\"type\":\"scatterpolargl\"}],\"scatterternary\":[{\"marker\":{\"colorbar\":{\"outlinewidth\":0,\"ticks\":\"\"}},\"type\":\"scatterternary\"}],\"surface\":[{\"colorbar\":{\"outlinewidth\":0,\"ticks\":\"\"},\"colorscale\":[[0.0,\"#0d0887\"],[0.1111111111111111,\"#46039f\"],[0.2222222222222222,\"#7201a8\"],[0.3333333333333333,\"#9c179e\"],[0.4444444444444444,\"#bd3786\"],[0.5555555555555556,\"#d8576b\"],[0.6666666666666666,\"#ed7953\"],[0.7777777777777778,\"#fb9f3a\"],[0.8888888888888888,\"#fdca26\"],[1.0,\"#f0f921\"]],\"type\":\"surface\"}],\"table\":[{\"cells\":{\"fill\":{\"color\":\"#EBF0F8\"},\"line\":{\"color\":\"white\"}},\"header\":{\"fill\":{\"color\":\"#C8D4E3\"},\"line\":{\"color\":\"white\"}},\"type\":\"table\"}]},\"layout\":{\"annotationdefaults\":{\"arrowcolor\":\"#2a3f5f\",\"arrowhead\":0,\"arrowwidth\":1},\"autotypenumbers\":\"strict\",\"coloraxis\":{\"colorbar\":{\"outlinewidth\":0,\"ticks\":\"\"}},\"colorscale\":{\"diverging\":[[0,\"#8e0152\"],[0.1,\"#c51b7d\"],[0.2,\"#de77ae\"],[0.3,\"#f1b6da\"],[0.4,\"#fde0ef\"],[0.5,\"#f7f7f7\"],[0.6,\"#e6f5d0\"],[0.7,\"#b8e186\"],[0.8,\"#7fbc41\"],[0.9,\"#4d9221\"],[1,\"#276419\"]],\"sequential\":[[0.0,\"#0d0887\"],[0.1111111111111111,\"#46039f\"],[0.2222222222222222,\"#7201a8\"],[0.3333333333333333,\"#9c179e\"],[0.4444444444444444,\"#bd3786\"],[0.5555555555555556,\"#d8576b\"],[0.6666666666666666,\"#ed7953\"],[0.7777777777777778,\"#fb9f3a\"],[0.8888888888888888,\"#fdca26\"],[1.0,\"#f0f921\"]],\"sequentialminus\":[[0.0,\"#0d0887\"],[0.1111111111111111,\"#46039f\"],[0.2222222222222222,\"#7201a8\"],[0.3333333333333333,\"#9c179e\"],[0.4444444444444444,\"#bd3786\"],[0.5555555555555556,\"#d8576b\"],[0.6666666666666666,\"#ed7953\"],[0.7777777777777778,\"#fb9f3a\"],[0.8888888888888888,\"#fdca26\"],[1.0,\"#f0f921\"]]},\"colorway\":[\"#636efa\",\"#EF553B\",\"#00cc96\",\"#ab63fa\",\"#FFA15A\",\"#19d3f3\",\"#FF6692\",\"#B6E880\",\"#FF97FF\",\"#FECB52\"],\"font\":{\"color\":\"#2a3f5f\"},\"geo\":{\"bgcolor\":\"white\",\"lakecolor\":\"white\",\"landcolor\":\"white\",\"showlakes\":true,\"showland\":true,\"subunitcolor\":\"#C8D4E3\"},\"hoverlabel\":{\"align\":\"left\"},\"hovermode\":\"closest\",\"mapbox\":{\"style\":\"light\"},\"paper_bgcolor\":\"white\",\"plot_bgcolor\":\"white\",\"polar\":{\"angularaxis\":{\"gridcolor\":\"#EBF0F8\",\"linecolor\":\"#EBF0F8\",\"ticks\":\"\"},\"bgcolor\":\"white\",\"radialaxis\":{\"gridcolor\":\"#EBF0F8\",\"linecolor\":\"#EBF0F8\",\"ticks\":\"\"}},\"scene\":{\"xaxis\":{\"backgroundcolor\":\"white\",\"gridcolor\":\"#DFE8F3\",\"gridwidth\":2,\"linecolor\":\"#EBF0F8\",\"showbackground\":true,\"ticks\":\"\",\"zerolinecolor\":\"#EBF0F8\"},\"yaxis\":{\"backgroundcolor\":\"white\",\"gridcolor\":\"#DFE8F3\",\"gridwidth\":2,\"linecolor\":\"#EBF0F8\",\"showbackground\":true,\"ticks\":\"\",\"zerolinecolor\":\"#EBF0F8\"},\"zaxis\":{\"backgroundcolor\":\"white\",\"gridcolor\":\"#DFE8F3\",\"gridwidth\":2,\"linecolor\":\"#EBF0F8\",\"showbackground\":true,\"ticks\":\"\",\"zerolinecolor\":\"#EBF0F8\"}},\"shapedefaults\":{\"line\":{\"color\":\"#2a3f5f\"}},\"ternary\":{\"aaxis\":{\"gridcolor\":\"#DFE8F3\",\"linecolor\":\"#A2B1C6\",\"ticks\":\"\"},\"baxis\":{\"gridcolor\":\"#DFE8F3\",\"linecolor\":\"#A2B1C6\",\"ticks\":\"\"},\"bgcolor\":\"white\",\"caxis\":{\"gridcolor\":\"#DFE8F3\",\"linecolor\":\"#A2B1C6\",\"ticks\":\"\"}},\"title\":{\"x\":0.05},\"xaxis\":{\"automargin\":true,\"gridcolor\":\"#EBF0F8\",\"linecolor\":\"#EBF0F8\",\"ticks\":\"\",\"title\":{\"standoff\":15},\"zerolinecolor\":\"#EBF0F8\",\"zerolinewidth\":2},\"yaxis\":{\"automargin\":true,\"gridcolor\":\"#EBF0F8\",\"linecolor\":\"#EBF0F8\",\"ticks\":\"\",\"title\":{\"standoff\":15},\"zerolinecolor\":\"#EBF0F8\",\"zerolinewidth\":2}}},\"title\":{\"text\":\"\"},\"width\":600,\"xaxis\":{\"anchor\":\"y\",\"domain\":[0.0,0.94],\"showgrid\":true,\"tickvals\":[0.05,0.5,1.0,1.5],\"title\":{\"font\":{\"size\":18},\"text\":\"$\\\\text{Threshold } \\\\tau$\"}},\"yaxis\":{\"anchor\":\"x\",\"domain\":[0.0,1.0],\"title\":{\"text\":\"Number of Edges\"}},\"yaxis2\":{\"anchor\":\"x\",\"nticks\":6,\"overlaying\":\"y\",\"showgrid\":false,\"side\":\"right\",\"title\":{\"text\":\"MSE\"},\"zeroline\":false}},                        {\"responsive\": true}                    ).then(function(){\n",
       "                            \n",
       "var gd = document.getElementById('a1a13f29-916a-487e-89ce-1a8377e42095');\n",
       "var x = new MutationObserver(function (mutations, observer) {{\n",
       "        var display = window.getComputedStyle(gd).display;\n",
       "        if (!display || display === 'none') {{\n",
       "            console.log([gd, 'removed!']);\n",
       "            Plotly.purge(gd);\n",
       "            observer.disconnect();\n",
       "        }}\n",
       "}});\n",
       "\n",
       "// Listen for the removal of the full notebook cells\n",
       "var notebookContainer = gd.closest('#notebook-container');\n",
       "if (notebookContainer) {{\n",
       "    x.observe(notebookContainer, {childList: true});\n",
       "}}\n",
       "\n",
       "// Listen for the clearing of the current output cell\n",
       "var outputEl = gd.closest('.output');\n",
       "if (outputEl) {{\n",
       "    x.observe(outputEl, {childList: true});\n",
       "}}\n",
       "\n",
       "                        })                };                });            </script>        </div>"
      ]
     },
     "metadata": {},
     "output_type": "display_data"
    }
   ],
   "source": [
    "import re\n",
    "from utils import load_pickle\n",
    "import pandas as pd\n",
    "import numpy as np\n",
    "\n",
    "save = True\n",
    "dset='100000'\n",
    "version = 'cali'#'(adult2|adult)'\n",
    "metric = 'MSE'\n",
    "theta = '(([+-])?\\d(\\.\\d+)?)'\n",
    "folder = \"./results/adjmats/\"\n",
    "list_edges = []\n",
    "for filename in os.listdir(folder):\n",
    "    match = re.search(f'W_est.{dset}.(\\d).(\\d).(.*?).{version}.pkl$', filename)\n",
    "    if match:\n",
    "        out_f, in_f, theta = match.groups()\n",
    "        edges = sum(load_pickle(os.path.join(folder,filename), verbose=False).flatten()>0)\n",
    "        list_edges.append((float(theta), out_f, in_f, edges))\n",
    "n_edges = pd.DataFrame(list_edges).groupby(0, as_index=False).agg({3 : ['mean', 'std']})\n",
    "n_edges.columns = n_edges.columns.droplevel()\n",
    "n_edges.columns = ['theta','N_edges','Std']\n",
    "\n",
    "folder = \"./results/\"\n",
    "filename = f\"Nested5FoldCASTLE.Reg.Synth.100000.{version}.pkl\"\n",
    "describe = load_pickle(os.path.join(folder,filename), verbose=False)\n",
    "agg_stats = pd.DataFrame([(describe[c]['theta'],c[9],describe[c]['fold'],describe[c][metric]) for c in describe]).groupby(0, as_index=False).agg({2 : ['count','max'], 3 : ['mean', 'std']})\n",
    "agg_stats.columns = ['theta', 'count','folds',  'accuracy_mean', 'accuracy_std']\n",
    "agg_stats=agg_stats.merge(n_edges,on='theta')\n",
    "agg_stats= agg_stats.drop_duplicates(subset=['N_edges'])\n",
    "sub = -0.5\n",
    "agg_stats.loc[agg_stats['theta']==-1,'theta'] = sub\n",
    "\n",
    "filter_theta = 1.8\n",
    "filter_list = [0.1, 0.188, 0.2,0.25, 0.3,0.4,0.45, 0.376, 0.55,0.65, 0.7,0.75, 0.8,0.85,0.9,0.94, 1.504,1.88, 2.256,2.632]#[0.1,0.188,0.2,0.3,0.35,0.376,0.45,0.65,0.7,0.8,0.85,0.9,0.95]\n",
    "agg_stats = agg_stats[(agg_stats['theta']<=filter_theta) & (~round(agg_stats['theta'],3).isin(filter_list))]\n",
    "display(agg_stats)\n",
    "\n",
    "import plotly.graph_objects as go\n",
    "from plotly.subplots import make_subplots\n",
    "\n",
    "# Create figure with secondary y-axis\n",
    "fig = make_subplots(specs=[[{\"secondary_y\": True}]])\n",
    "\n",
    "# Add traces\n",
    "fig.add_trace(\n",
    "    go.Scatter(x=agg_stats['theta'], y=agg_stats['accuracy_mean'], name=metric,         \n",
    "    error_y=dict(\n",
    "            type='data', # value of error bar given in data coordinates\n",
    "            array=agg_stats['accuracy_std'],\n",
    "            visible=True)\n",
    "            ),\n",
    "    secondary_y=True, \n",
    ")\n",
    "\n",
    "fig.add_trace(\n",
    "    go.Scatter(x=agg_stats['theta'], y=agg_stats['N_edges'], name=\"Edges\",\n",
    "    error_y=dict(\n",
    "            type='data', # value of error bar given in data coordinates\n",
    "            array=agg_stats['Std'],\n",
    "            visible=True)\n",
    "              ),\n",
    "    secondary_y=False,\n",
    ")\n",
    "\n",
    "# Add figure title\n",
    "fig.update_layout(\n",
    "    title='',\n",
    "    legend={\n",
    "        'y':-0.35,\n",
    "        'x':0.85,\n",
    "        'orientation':\"h\",\n",
    "        'xanchor': 'center',\n",
    "        'yanchor': 'bottom'},\n",
    "    template='plotly_white',\n",
    "    autosize=True,\n",
    "    width=600, height=250, \n",
    "    margin=dict(\n",
    "        l=10,\n",
    "        r=10,\n",
    "        b=10,\n",
    "        t=10,\n",
    "        pad=0\n",
    "    ),\n",
    "    font=dict(\n",
    "        family='Serif',#\"Courier New, monospace\",\n",
    "        size=18,\n",
    "        # color=\"Black\"\n",
    "    )    \n",
    ")\n",
    "\n",
    "# Set x-axis title\n",
    "fig.update_xaxes(showgrid=True,title={'text':r'$\\text{Threshold } \\tau$','font':{'size':18#, 'family': 'Courier New, monospace',\n",
    "}},tickvals=[a for sub in [[0.05],list(np.round(np.arange(0.5, max(agg_stats['theta']), 0.5),1))] for a in sub],\n",
    ")\n",
    "\n",
    "# Set y-axes titles\n",
    "fig.update_yaxes(title={'text':\"Number of Edges\"#,'font':{'size':18}\n",
    "}, secondary_y=False)\n",
    "fig.update_yaxes(showgrid=False,nticks=6,zeroline=False, title={'text':metric#,'font':{'size':18}\n",
    "}, #nticks=13,\n",
    "secondary_y=True)\n",
    "\n",
    "\n",
    "fig.add_annotation(x=0.02, y=-0.14,\n",
    "            text=\"CASTLE\",\n",
    "            showarrow=False,\n",
    "            yshift=0,\n",
    "            xref='paper',\n",
    "            yref='paper',)\n",
    "\n",
    "chosen_tau=0.05\n",
    "y_co = agg_stats[agg_stats['theta']==chosen_tau]['accuracy_mean']\n",
    "fig.add_annotation(x=chosen_tau, y=1.0185,\n",
    "            text=str(chosen_tau),\n",
    "            showarrow=True,\n",
    "            yshift=-185,\n",
    "            xref='x',ax=0,\n",
    "            yref='paper',ay=0)\n",
    "fig.add_annotation(x=chosen_tau, y=1.0185,\n",
    "            text=str(1.02),\n",
    "            showarrow=True,\n",
    "            yshift=0,\n",
    "            xref='x',ax=310,\n",
    "            yref='y2',ay=0)\n",
    "fig.add_annotation(x=chosen_tau, y=30.6,\n",
    "            text=str(31),\n",
    "            showarrow=True,\n",
    "            yshift=0,\n",
    "            xref='x',ax=-120,\n",
    "            yref='y',ay=0)\n",
    "            \n",
    "fig.show()\n",
    "\n",
    "output_folder = \"figures\"\n",
    "if not os.path.exists(output_folder):\n",
    "    os.mkdir(output_folder)\n",
    "\n",
    "out_path = os.path.join(output_folder,f\"plot_tauoptim_{version}.png\")\n",
    "\n",
    "if save:\n",
    "    import kaleido\n",
    "    fig.write_image(out_path)\n",
    "\n"
   ]
  }
 ],
 "metadata": {
  "interpreter": {
   "hash": "17ddb6dd1369b98a9580534afb07762b5ebdbc039cd5b98c3e5a98f1dd9838be"
  },
  "kernelspec": {
   "display_name": "Python 3.6.9 64-bit ('bayesenv': virtualenv)",
   "language": "python",
   "name": "python3"
  },
  "language_info": {
   "codemirror_mode": {
    "name": "ipython",
    "version": 3
   },
   "file_extension": ".py",
   "mimetype": "text/x-python",
   "name": "python",
   "nbconvert_exporter": "python",
   "pygments_lexer": "ipython3",
   "version": "3.6.9"
  },
  "orig_nbformat": 4
 },
 "nbformat": 4,
 "nbformat_minor": 2
}
