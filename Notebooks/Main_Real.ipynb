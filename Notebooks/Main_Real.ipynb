{
 "cells": [
  {
   "cell_type": "markdown",
   "metadata": {},
   "source": [
    "# Causal Discovery and Injection for Feed Forward Neural Networks\n",
    "\n",
    "Notebook collecting results for causal injection paper (real data experiments)"
   ]
  },
  {
   "cell_type": "code",
   "execution_count": 77,
   "metadata": {},
   "outputs": [],
   "source": [
    "import sys\n",
    "sys.path.insert(0,'..')\n",
    "import re\n",
    "import os\n",
    "import numpy as np\n",
    "import pandas as pd\n",
    "from utils import load_pickle, plot_DAG, plot_ly_lines, heat_mat, DAG_retreive_np\n",
    "from IPython.display import Image\n",
    "from IPython.core.display import HTML \n",
    "\n",
    "results_folder = '../results'\n",
    "mats_folder = '../results/adjmats'\n",
    "output_folder = 'figures'\n",
    "os.listdir(results_folder)\n",
    "\n",
    "debug = False\n",
    "save_figs = True"
   ]
  },
  {
   "cell_type": "markdown",
   "metadata": {},
   "source": [
    "## Appendix - Tau Optimisation"
   ]
  },
  {
   "cell_type": "code",
   "execution_count": 78,
   "metadata": {},
   "outputs": [],
   "source": [
    "def collect_results(\n",
    "    version,\n",
    "    metric,\n",
    "    res_folder='./results/',\n",
    "    mat_folder='./results/adjmats',\n",
    "    dsets = '([\\w.]+)',\n",
    "    outfs = str(5)\n",
    "    ):\n",
    "\n",
    "    ## Collect Edges Numbers\n",
    "    list_edges = []\n",
    "    for filename in os.listdir(mat_folder):\n",
    "        match = re.search(f'W_est.{dsets}.(\\d).(\\d).(.*?).{version}.pkl$', filename)\n",
    "        if match:\n",
    "            out_f, in_f, theta = match.groups()\n",
    "            edges = sum(load_pickle(os.path.join(mat_folder,filename), verbose=False).flatten()>0)\n",
    "            list_edges.append((float(theta), out_f, in_f, edges))\n",
    "    n_edges = pd.DataFrame(list_edges).groupby(0, as_index=False).agg({3 : ['mean', 'std']})\n",
    "    n_edges.columns = n_edges.columns.droplevel()\n",
    "    n_edges.columns = ['theta','N_edges','Std']\n",
    "\n",
    "    ## Collect Predictive Performances\n",
    "    filename = f\"Nested{outfs}FoldCASTLE.Reg.Synth.{dsets}.{version}.pkl\"\n",
    "    describe = load_pickle(os.path.join(res_folder,filename), verbose=False)\n",
    "    agg_stats = pd.DataFrame([(describe[c]['theta'],c[9],describe[c]['fold'],\n",
    "                                describe[c][metric]) for c in describe]).groupby(0, as_index=False).agg({2 : ['count','max'], 3 : ['mean', 'std']})\n",
    "    agg_stats.columns = ['theta', 'count','folds',  'accuracy_mean', 'accuracy_std']\n",
    "    agg_stats=agg_stats.merge(n_edges,on='theta')\n",
    "    agg_stats= agg_stats.drop_duplicates(subset=['N_edges'])\n",
    "\n",
    "    return agg_stats\n"
   ]
  },
  {
   "cell_type": "markdown",
   "metadata": {},
   "source": [
    "### Fico"
   ]
  },
  {
   "cell_type": "code",
   "execution_count": 79,
   "metadata": {},
   "outputs": [],
   "source": [
    "rerun_fico_optim = False\n",
    "if rerun_fico_optim:\n",
    "    ## First run - broader\n",
    "    %run -i main_realdata.py --version=fico_3\n",
    "    ## Second run - focused on interval of interest\n",
    "    %run -i main_realdata.py --version=fico_3 --theta_auto=False --theta_range=\"0.005\",\"0.008\",\"0.001\"\n",
    "    # ## Third run\n",
    "    %run -i main_realdata.py --version=fico_3 --theta_auto=False --theta_range=\"0.009\",\"0.012\",\"0.001\"\n"
   ]
  },
  {
   "cell_type": "code",
   "execution_count": 80,
   "metadata": {
    "tags": []
   },
   "outputs": [
    {
     "data": {
      "text/html": [
       "<div>\n",
       "<style scoped>\n",
       "    .dataframe tbody tr th:only-of-type {\n",
       "        vertical-align: middle;\n",
       "    }\n",
       "\n",
       "    .dataframe tbody tr th {\n",
       "        vertical-align: top;\n",
       "    }\n",
       "\n",
       "    .dataframe thead th {\n",
       "        text-align: right;\n",
       "    }\n",
       "</style>\n",
       "<table border=\"1\" class=\"dataframe\">\n",
       "  <thead>\n",
       "    <tr style=\"text-align: right;\">\n",
       "      <th></th>\n",
       "      <th>theta</th>\n",
       "      <th>count</th>\n",
       "      <th>folds</th>\n",
       "      <th>accuracy_mean</th>\n",
       "      <th>accuracy_std</th>\n",
       "      <th>N_edges</th>\n",
       "      <th>Std</th>\n",
       "    </tr>\n",
       "  </thead>\n",
       "  <tbody>\n",
       "    <tr>\n",
       "      <th>0</th>\n",
       "      <td>-0.005</td>\n",
       "      <td>25</td>\n",
       "      <td>5</td>\n",
       "      <td>0.795521</td>\n",
       "      <td>0.005878</td>\n",
       "      <td>552.0</td>\n",
       "      <td>0.000000</td>\n",
       "    </tr>\n",
       "    <tr>\n",
       "      <th>1</th>\n",
       "      <td>0.000</td>\n",
       "      <td>25</td>\n",
       "      <td>5</td>\n",
       "      <td>0.795158</td>\n",
       "      <td>0.003524</td>\n",
       "      <td>276.0</td>\n",
       "      <td>0.000000</td>\n",
       "    </tr>\n",
       "    <tr>\n",
       "      <th>2</th>\n",
       "      <td>0.004</td>\n",
       "      <td>25</td>\n",
       "      <td>5</td>\n",
       "      <td>0.792953</td>\n",
       "      <td>0.003936</td>\n",
       "      <td>84.6</td>\n",
       "      <td>6.144103</td>\n",
       "    </tr>\n",
       "    <tr>\n",
       "      <th>4</th>\n",
       "      <td>0.006</td>\n",
       "      <td>25</td>\n",
       "      <td>5</td>\n",
       "      <td>0.790614</td>\n",
       "      <td>0.002682</td>\n",
       "      <td>60.8</td>\n",
       "      <td>6.812978</td>\n",
       "    </tr>\n",
       "    <tr>\n",
       "      <th>6</th>\n",
       "      <td>0.008</td>\n",
       "      <td>25</td>\n",
       "      <td>5</td>\n",
       "      <td>0.780123</td>\n",
       "      <td>0.012351</td>\n",
       "      <td>47.0</td>\n",
       "      <td>4.232808</td>\n",
       "    </tr>\n",
       "    <tr>\n",
       "      <th>8</th>\n",
       "      <td>0.010</td>\n",
       "      <td>25</td>\n",
       "      <td>5</td>\n",
       "      <td>0.773345</td>\n",
       "      <td>0.009844</td>\n",
       "      <td>36.4</td>\n",
       "      <td>2.857738</td>\n",
       "    </tr>\n",
       "    <tr>\n",
       "      <th>10</th>\n",
       "      <td>0.012</td>\n",
       "      <td>25</td>\n",
       "      <td>5</td>\n",
       "      <td>0.714603</td>\n",
       "      <td>0.109900</td>\n",
       "      <td>29.8</td>\n",
       "      <td>1.979057</td>\n",
       "    </tr>\n",
       "    <tr>\n",
       "      <th>11</th>\n",
       "      <td>0.016</td>\n",
       "      <td>25</td>\n",
       "      <td>5</td>\n",
       "      <td>0.550320</td>\n",
       "      <td>0.102716</td>\n",
       "      <td>20.8</td>\n",
       "      <td>2.362908</td>\n",
       "    </tr>\n",
       "    <tr>\n",
       "      <th>12</th>\n",
       "      <td>0.020</td>\n",
       "      <td>25</td>\n",
       "      <td>5</td>\n",
       "      <td>0.500000</td>\n",
       "      <td>0.000000</td>\n",
       "      <td>15.2</td>\n",
       "      <td>1.979057</td>\n",
       "    </tr>\n",
       "    <tr>\n",
       "      <th>13</th>\n",
       "      <td>0.024</td>\n",
       "      <td>25</td>\n",
       "      <td>5</td>\n",
       "      <td>0.500000</td>\n",
       "      <td>0.000000</td>\n",
       "      <td>11.2</td>\n",
       "      <td>0.763763</td>\n",
       "    </tr>\n",
       "    <tr>\n",
       "      <th>14</th>\n",
       "      <td>0.028</td>\n",
       "      <td>25</td>\n",
       "      <td>5</td>\n",
       "      <td>0.500000</td>\n",
       "      <td>0.000000</td>\n",
       "      <td>7.8</td>\n",
       "      <td>1.000000</td>\n",
       "    </tr>\n",
       "  </tbody>\n",
       "</table>\n",
       "</div>"
      ],
      "text/plain": [
       "    theta  count  folds  accuracy_mean  accuracy_std  N_edges       Std\n",
       "0  -0.005     25      5       0.795521      0.005878    552.0  0.000000\n",
       "1   0.000     25      5       0.795158      0.003524    276.0  0.000000\n",
       "2   0.004     25      5       0.792953      0.003936     84.6  6.144103\n",
       "4   0.006     25      5       0.790614      0.002682     60.8  6.812978\n",
       "6   0.008     25      5       0.780123      0.012351     47.0  4.232808\n",
       "8   0.010     25      5       0.773345      0.009844     36.4  2.857738\n",
       "10  0.012     25      5       0.714603      0.109900     29.8  1.979057\n",
       "11  0.016     25      5       0.550320      0.102716     20.8  2.362908\n",
       "12  0.020     25      5       0.500000      0.000000     15.2  1.979057\n",
       "13  0.024     25      5       0.500000      0.000000     11.2  0.763763\n",
       "14  0.028     25      5       0.500000      0.000000      7.8  1.000000"
      ]
     },
     "metadata": {},
     "output_type": "display_data"
    },
    {
     "data": {
      "application/vnd.plotly.v1+json": {
       "config": {
        "plotlyServerURL": "https://plot.ly"
       },
       "data": [
        {
         "error_y": {
          "array": [
           0.005877570351900918,
           0.0035235027953191577,
           0.003935783955406033,
           0.002681633166266534,
           0.012350515777747612,
           0.009843734156192361,
           0.10989961507491076,
           0.10271620700277363,
           0,
           0,
           0
          ],
          "type": "data",
          "visible": true
         },
         "name": "AUC",
         "type": "scatter",
         "x": [
          -0.005,
          0,
          0.004,
          0.006,
          0.008,
          0.01,
          0.012,
          0.016,
          0.02,
          0.024,
          0.028
         ],
         "xaxis": "x",
         "y": [
          0.7955208414820057,
          0.7951577473751636,
          0.7929526929011075,
          0.7906142803606535,
          0.7801230485050474,
          0.7733454467827382,
          0.7146025315135802,
          0.5503204590941775,
          0.5,
          0.5,
          0.5
         ],
         "yaxis": "y2"
        },
        {
         "error_y": {
          "array": [
           0,
           0,
           6.144102863722253,
           6.8129778119898985,
           4.232808366400098,
           2.857738033247041,
           1.9790570145063193,
           2.3629078131263044,
           1.9790570145063195,
           0.7637626158259732,
           0.9999999999999998
          ],
          "type": "data",
          "visible": true
         },
         "name": "Edges",
         "type": "scatter",
         "x": [
          -0.005,
          0,
          0.004,
          0.006,
          0.008,
          0.01,
          0.012,
          0.016,
          0.02,
          0.024,
          0.028
         ],
         "xaxis": "x",
         "y": [
          552,
          276,
          84.6,
          60.8,
          47,
          36.4,
          29.8,
          20.8,
          15.2,
          11.2,
          7.8
         ],
         "yaxis": "y"
        }
       ],
       "layout": {
        "annotations": [
         {
          "showarrow": false,
          "text": "CASTLE",
          "x": 0.02,
          "xref": "paper",
          "y": -0.225,
          "yref": "paper",
          "yshift": 0
         },
         {
          "ax": 0,
          "ay": 110,
          "showarrow": true,
          "text": "0.004",
          "x": 0.004,
          "xref": "x",
          "y": 0.7929,
          "yref": "y2",
          "yshift": 0
         },
         {
          "ax": 300,
          "ay": 0,
          "showarrow": true,
          "text": "0.79",
          "x": 0.004,
          "xref": "x",
          "y": 0.7929,
          "yref": "y2",
          "yshift": 0
         },
         {
          "ax": -130,
          "ay": 0,
          "showarrow": true,
          "text": "85",
          "x": 0.004,
          "xref": "x",
          "y": 84.6,
          "yref": "y",
          "yshift": 0
         }
        ],
        "autosize": true,
        "font": {
         "family": "Serif",
         "size": 18
        },
        "height": 200,
        "legend": {
         "orientation": "h",
         "x": 0.8,
         "xanchor": "center",
         "y": -0.58,
         "yanchor": "bottom"
        },
        "margin": {
         "b": 0,
         "l": 10,
         "pad": 0,
         "r": 10,
         "t": 25
        },
        "template": {
         "data": {
          "bar": [
           {
            "error_x": {
             "color": "#2a3f5f"
            },
            "error_y": {
             "color": "#2a3f5f"
            },
            "marker": {
             "line": {
              "color": "white",
              "width": 0.5
             },
             "pattern": {
              "fillmode": "overlay",
              "size": 10,
              "solidity": 0.2
             }
            },
            "type": "bar"
           }
          ],
          "barpolar": [
           {
            "marker": {
             "line": {
              "color": "white",
              "width": 0.5
             },
             "pattern": {
              "fillmode": "overlay",
              "size": 10,
              "solidity": 0.2
             }
            },
            "type": "barpolar"
           }
          ],
          "carpet": [
           {
            "aaxis": {
             "endlinecolor": "#2a3f5f",
             "gridcolor": "#C8D4E3",
             "linecolor": "#C8D4E3",
             "minorgridcolor": "#C8D4E3",
             "startlinecolor": "#2a3f5f"
            },
            "baxis": {
             "endlinecolor": "#2a3f5f",
             "gridcolor": "#C8D4E3",
             "linecolor": "#C8D4E3",
             "minorgridcolor": "#C8D4E3",
             "startlinecolor": "#2a3f5f"
            },
            "type": "carpet"
           }
          ],
          "choropleth": [
           {
            "colorbar": {
             "outlinewidth": 0,
             "ticks": ""
            },
            "type": "choropleth"
           }
          ],
          "contour": [
           {
            "colorbar": {
             "outlinewidth": 0,
             "ticks": ""
            },
            "colorscale": [
             [
              0,
              "#0d0887"
             ],
             [
              0.1111111111111111,
              "#46039f"
             ],
             [
              0.2222222222222222,
              "#7201a8"
             ],
             [
              0.3333333333333333,
              "#9c179e"
             ],
             [
              0.4444444444444444,
              "#bd3786"
             ],
             [
              0.5555555555555556,
              "#d8576b"
             ],
             [
              0.6666666666666666,
              "#ed7953"
             ],
             [
              0.7777777777777778,
              "#fb9f3a"
             ],
             [
              0.8888888888888888,
              "#fdca26"
             ],
             [
              1,
              "#f0f921"
             ]
            ],
            "type": "contour"
           }
          ],
          "contourcarpet": [
           {
            "colorbar": {
             "outlinewidth": 0,
             "ticks": ""
            },
            "type": "contourcarpet"
           }
          ],
          "heatmap": [
           {
            "colorbar": {
             "outlinewidth": 0,
             "ticks": ""
            },
            "colorscale": [
             [
              0,
              "#0d0887"
             ],
             [
              0.1111111111111111,
              "#46039f"
             ],
             [
              0.2222222222222222,
              "#7201a8"
             ],
             [
              0.3333333333333333,
              "#9c179e"
             ],
             [
              0.4444444444444444,
              "#bd3786"
             ],
             [
              0.5555555555555556,
              "#d8576b"
             ],
             [
              0.6666666666666666,
              "#ed7953"
             ],
             [
              0.7777777777777778,
              "#fb9f3a"
             ],
             [
              0.8888888888888888,
              "#fdca26"
             ],
             [
              1,
              "#f0f921"
             ]
            ],
            "type": "heatmap"
           }
          ],
          "heatmapgl": [
           {
            "colorbar": {
             "outlinewidth": 0,
             "ticks": ""
            },
            "colorscale": [
             [
              0,
              "#0d0887"
             ],
             [
              0.1111111111111111,
              "#46039f"
             ],
             [
              0.2222222222222222,
              "#7201a8"
             ],
             [
              0.3333333333333333,
              "#9c179e"
             ],
             [
              0.4444444444444444,
              "#bd3786"
             ],
             [
              0.5555555555555556,
              "#d8576b"
             ],
             [
              0.6666666666666666,
              "#ed7953"
             ],
             [
              0.7777777777777778,
              "#fb9f3a"
             ],
             [
              0.8888888888888888,
              "#fdca26"
             ],
             [
              1,
              "#f0f921"
             ]
            ],
            "type": "heatmapgl"
           }
          ],
          "histogram": [
           {
            "marker": {
             "pattern": {
              "fillmode": "overlay",
              "size": 10,
              "solidity": 0.2
             }
            },
            "type": "histogram"
           }
          ],
          "histogram2d": [
           {
            "colorbar": {
             "outlinewidth": 0,
             "ticks": ""
            },
            "colorscale": [
             [
              0,
              "#0d0887"
             ],
             [
              0.1111111111111111,
              "#46039f"
             ],
             [
              0.2222222222222222,
              "#7201a8"
             ],
             [
              0.3333333333333333,
              "#9c179e"
             ],
             [
              0.4444444444444444,
              "#bd3786"
             ],
             [
              0.5555555555555556,
              "#d8576b"
             ],
             [
              0.6666666666666666,
              "#ed7953"
             ],
             [
              0.7777777777777778,
              "#fb9f3a"
             ],
             [
              0.8888888888888888,
              "#fdca26"
             ],
             [
              1,
              "#f0f921"
             ]
            ],
            "type": "histogram2d"
           }
          ],
          "histogram2dcontour": [
           {
            "colorbar": {
             "outlinewidth": 0,
             "ticks": ""
            },
            "colorscale": [
             [
              0,
              "#0d0887"
             ],
             [
              0.1111111111111111,
              "#46039f"
             ],
             [
              0.2222222222222222,
              "#7201a8"
             ],
             [
              0.3333333333333333,
              "#9c179e"
             ],
             [
              0.4444444444444444,
              "#bd3786"
             ],
             [
              0.5555555555555556,
              "#d8576b"
             ],
             [
              0.6666666666666666,
              "#ed7953"
             ],
             [
              0.7777777777777778,
              "#fb9f3a"
             ],
             [
              0.8888888888888888,
              "#fdca26"
             ],
             [
              1,
              "#f0f921"
             ]
            ],
            "type": "histogram2dcontour"
           }
          ],
          "mesh3d": [
           {
            "colorbar": {
             "outlinewidth": 0,
             "ticks": ""
            },
            "type": "mesh3d"
           }
          ],
          "parcoords": [
           {
            "line": {
             "colorbar": {
              "outlinewidth": 0,
              "ticks": ""
             }
            },
            "type": "parcoords"
           }
          ],
          "pie": [
           {
            "automargin": true,
            "type": "pie"
           }
          ],
          "scatter": [
           {
            "marker": {
             "colorbar": {
              "outlinewidth": 0,
              "ticks": ""
             }
            },
            "type": "scatter"
           }
          ],
          "scatter3d": [
           {
            "line": {
             "colorbar": {
              "outlinewidth": 0,
              "ticks": ""
             }
            },
            "marker": {
             "colorbar": {
              "outlinewidth": 0,
              "ticks": ""
             }
            },
            "type": "scatter3d"
           }
          ],
          "scattercarpet": [
           {
            "marker": {
             "colorbar": {
              "outlinewidth": 0,
              "ticks": ""
             }
            },
            "type": "scattercarpet"
           }
          ],
          "scattergeo": [
           {
            "marker": {
             "colorbar": {
              "outlinewidth": 0,
              "ticks": ""
             }
            },
            "type": "scattergeo"
           }
          ],
          "scattergl": [
           {
            "marker": {
             "colorbar": {
              "outlinewidth": 0,
              "ticks": ""
             }
            },
            "type": "scattergl"
           }
          ],
          "scattermapbox": [
           {
            "marker": {
             "colorbar": {
              "outlinewidth": 0,
              "ticks": ""
             }
            },
            "type": "scattermapbox"
           }
          ],
          "scatterpolar": [
           {
            "marker": {
             "colorbar": {
              "outlinewidth": 0,
              "ticks": ""
             }
            },
            "type": "scatterpolar"
           }
          ],
          "scatterpolargl": [
           {
            "marker": {
             "colorbar": {
              "outlinewidth": 0,
              "ticks": ""
             }
            },
            "type": "scatterpolargl"
           }
          ],
          "scatterternary": [
           {
            "marker": {
             "colorbar": {
              "outlinewidth": 0,
              "ticks": ""
             }
            },
            "type": "scatterternary"
           }
          ],
          "surface": [
           {
            "colorbar": {
             "outlinewidth": 0,
             "ticks": ""
            },
            "colorscale": [
             [
              0,
              "#0d0887"
             ],
             [
              0.1111111111111111,
              "#46039f"
             ],
             [
              0.2222222222222222,
              "#7201a8"
             ],
             [
              0.3333333333333333,
              "#9c179e"
             ],
             [
              0.4444444444444444,
              "#bd3786"
             ],
             [
              0.5555555555555556,
              "#d8576b"
             ],
             [
              0.6666666666666666,
              "#ed7953"
             ],
             [
              0.7777777777777778,
              "#fb9f3a"
             ],
             [
              0.8888888888888888,
              "#fdca26"
             ],
             [
              1,
              "#f0f921"
             ]
            ],
            "type": "surface"
           }
          ],
          "table": [
           {
            "cells": {
             "fill": {
              "color": "#EBF0F8"
             },
             "line": {
              "color": "white"
             }
            },
            "header": {
             "fill": {
              "color": "#C8D4E3"
             },
             "line": {
              "color": "white"
             }
            },
            "type": "table"
           }
          ]
         },
         "layout": {
          "annotationdefaults": {
           "arrowcolor": "#2a3f5f",
           "arrowhead": 0,
           "arrowwidth": 1
          },
          "autotypenumbers": "strict",
          "coloraxis": {
           "colorbar": {
            "outlinewidth": 0,
            "ticks": ""
           }
          },
          "colorscale": {
           "diverging": [
            [
             0,
             "#8e0152"
            ],
            [
             0.1,
             "#c51b7d"
            ],
            [
             0.2,
             "#de77ae"
            ],
            [
             0.3,
             "#f1b6da"
            ],
            [
             0.4,
             "#fde0ef"
            ],
            [
             0.5,
             "#f7f7f7"
            ],
            [
             0.6,
             "#e6f5d0"
            ],
            [
             0.7,
             "#b8e186"
            ],
            [
             0.8,
             "#7fbc41"
            ],
            [
             0.9,
             "#4d9221"
            ],
            [
             1,
             "#276419"
            ]
           ],
           "sequential": [
            [
             0,
             "#0d0887"
            ],
            [
             0.1111111111111111,
             "#46039f"
            ],
            [
             0.2222222222222222,
             "#7201a8"
            ],
            [
             0.3333333333333333,
             "#9c179e"
            ],
            [
             0.4444444444444444,
             "#bd3786"
            ],
            [
             0.5555555555555556,
             "#d8576b"
            ],
            [
             0.6666666666666666,
             "#ed7953"
            ],
            [
             0.7777777777777778,
             "#fb9f3a"
            ],
            [
             0.8888888888888888,
             "#fdca26"
            ],
            [
             1,
             "#f0f921"
            ]
           ],
           "sequentialminus": [
            [
             0,
             "#0d0887"
            ],
            [
             0.1111111111111111,
             "#46039f"
            ],
            [
             0.2222222222222222,
             "#7201a8"
            ],
            [
             0.3333333333333333,
             "#9c179e"
            ],
            [
             0.4444444444444444,
             "#bd3786"
            ],
            [
             0.5555555555555556,
             "#d8576b"
            ],
            [
             0.6666666666666666,
             "#ed7953"
            ],
            [
             0.7777777777777778,
             "#fb9f3a"
            ],
            [
             0.8888888888888888,
             "#fdca26"
            ],
            [
             1,
             "#f0f921"
            ]
           ]
          },
          "colorway": [
           "#636efa",
           "#EF553B",
           "#00cc96",
           "#ab63fa",
           "#FFA15A",
           "#19d3f3",
           "#FF6692",
           "#B6E880",
           "#FF97FF",
           "#FECB52"
          ],
          "font": {
           "color": "#2a3f5f"
          },
          "geo": {
           "bgcolor": "white",
           "lakecolor": "white",
           "landcolor": "white",
           "showlakes": true,
           "showland": true,
           "subunitcolor": "#C8D4E3"
          },
          "hoverlabel": {
           "align": "left"
          },
          "hovermode": "closest",
          "mapbox": {
           "style": "light"
          },
          "paper_bgcolor": "white",
          "plot_bgcolor": "white",
          "polar": {
           "angularaxis": {
            "gridcolor": "#EBF0F8",
            "linecolor": "#EBF0F8",
            "ticks": ""
           },
           "bgcolor": "white",
           "radialaxis": {
            "gridcolor": "#EBF0F8",
            "linecolor": "#EBF0F8",
            "ticks": ""
           }
          },
          "scene": {
           "xaxis": {
            "backgroundcolor": "white",
            "gridcolor": "#DFE8F3",
            "gridwidth": 2,
            "linecolor": "#EBF0F8",
            "showbackground": true,
            "ticks": "",
            "zerolinecolor": "#EBF0F8"
           },
           "yaxis": {
            "backgroundcolor": "white",
            "gridcolor": "#DFE8F3",
            "gridwidth": 2,
            "linecolor": "#EBF0F8",
            "showbackground": true,
            "ticks": "",
            "zerolinecolor": "#EBF0F8"
           },
           "zaxis": {
            "backgroundcolor": "white",
            "gridcolor": "#DFE8F3",
            "gridwidth": 2,
            "linecolor": "#EBF0F8",
            "showbackground": true,
            "ticks": "",
            "zerolinecolor": "#EBF0F8"
           }
          },
          "shapedefaults": {
           "line": {
            "color": "#2a3f5f"
           }
          },
          "ternary": {
           "aaxis": {
            "gridcolor": "#DFE8F3",
            "linecolor": "#A2B1C6",
            "ticks": ""
           },
           "baxis": {
            "gridcolor": "#DFE8F3",
            "linecolor": "#A2B1C6",
            "ticks": ""
           },
           "bgcolor": "white",
           "caxis": {
            "gridcolor": "#DFE8F3",
            "linecolor": "#A2B1C6",
            "ticks": ""
           }
          },
          "title": {
           "x": 0.05
          },
          "xaxis": {
           "automargin": true,
           "gridcolor": "#EBF0F8",
           "linecolor": "#EBF0F8",
           "ticks": "",
           "title": {
            "standoff": 15
           },
           "zerolinecolor": "#EBF0F8",
           "zerolinewidth": 2
          },
          "yaxis": {
           "automargin": true,
           "gridcolor": "#EBF0F8",
           "linecolor": "#EBF0F8",
           "ticks": "",
           "title": {
            "standoff": 15
           },
           "zerolinecolor": "#EBF0F8",
           "zerolinewidth": 2
          }
         }
        },
        "title": {
         "text": ""
        },
        "width": 600,
        "xaxis": {
         "anchor": "y",
         "domain": [
          0,
          0.94
         ],
         "showgrid": true,
         "tickvals": [
          0,
          0.004,
          0.01,
          0.02
         ],
         "title": {
          "font": {
           "size": 18
          },
          "text": "$\\text{Threshold } \\tau$"
         }
        },
        "yaxis": {
         "anchor": "x",
         "domain": [
          0,
          1
         ],
         "title": {
          "text": "Number of Edges"
         }
        },
        "yaxis2": {
         "anchor": "x",
         "nticks": 6,
         "overlaying": "y",
         "showgrid": false,
         "side": "right",
         "title": {
          "text": "AUC"
         },
         "zeroline": false
        }
       }
      },
      "text/html": [
       "<div>                            <div id=\"535322ec-9e22-4fe8-8a71-8a0da7a1d636\" class=\"plotly-graph-div\" style=\"height:200px; width:600px;\"></div>            <script type=\"text/javascript\">                require([\"plotly\"], function(Plotly) {                    window.PLOTLYENV=window.PLOTLYENV || {};                                    if (document.getElementById(\"535322ec-9e22-4fe8-8a71-8a0da7a1d636\")) {                    Plotly.newPlot(                        \"535322ec-9e22-4fe8-8a71-8a0da7a1d636\",                        [{\"error_y\":{\"array\":[0.005877570351900918,0.0035235027953191577,0.003935783955406033,0.002681633166266534,0.012350515777747612,0.009843734156192361,0.10989961507491076,0.10271620700277363,0.0,0.0,0.0],\"type\":\"data\",\"visible\":true},\"name\":\"AUC\",\"x\":[-0.005,0.0,0.004,0.006,0.008,0.01,0.012,0.016,0.02,0.024,0.028],\"y\":[0.7955208414820057,0.7951577473751636,0.7929526929011075,0.7906142803606535,0.7801230485050474,0.7733454467827382,0.7146025315135802,0.5503204590941775,0.5,0.5,0.5],\"type\":\"scatter\",\"xaxis\":\"x\",\"yaxis\":\"y2\"},{\"error_y\":{\"array\":[0.0,0.0,6.144102863722253,6.8129778119898985,4.232808366400098,2.857738033247041,1.9790570145063193,2.3629078131263044,1.9790570145063195,0.7637626158259732,0.9999999999999998],\"type\":\"data\",\"visible\":true},\"name\":\"Edges\",\"x\":[-0.005,0.0,0.004,0.006,0.008,0.01,0.012,0.016,0.02,0.024,0.028],\"y\":[552.0,276.0,84.6,60.8,47.0,36.4,29.8,20.8,15.2,11.2,7.8],\"type\":\"scatter\",\"xaxis\":\"x\",\"yaxis\":\"y\"}],                        {\"template\":{\"data\":{\"barpolar\":[{\"marker\":{\"line\":{\"color\":\"white\",\"width\":0.5},\"pattern\":{\"fillmode\":\"overlay\",\"size\":10,\"solidity\":0.2}},\"type\":\"barpolar\"}],\"bar\":[{\"error_x\":{\"color\":\"#2a3f5f\"},\"error_y\":{\"color\":\"#2a3f5f\"},\"marker\":{\"line\":{\"color\":\"white\",\"width\":0.5},\"pattern\":{\"fillmode\":\"overlay\",\"size\":10,\"solidity\":0.2}},\"type\":\"bar\"}],\"carpet\":[{\"aaxis\":{\"endlinecolor\":\"#2a3f5f\",\"gridcolor\":\"#C8D4E3\",\"linecolor\":\"#C8D4E3\",\"minorgridcolor\":\"#C8D4E3\",\"startlinecolor\":\"#2a3f5f\"},\"baxis\":{\"endlinecolor\":\"#2a3f5f\",\"gridcolor\":\"#C8D4E3\",\"linecolor\":\"#C8D4E3\",\"minorgridcolor\":\"#C8D4E3\",\"startlinecolor\":\"#2a3f5f\"},\"type\":\"carpet\"}],\"choropleth\":[{\"colorbar\":{\"outlinewidth\":0,\"ticks\":\"\"},\"type\":\"choropleth\"}],\"contourcarpet\":[{\"colorbar\":{\"outlinewidth\":0,\"ticks\":\"\"},\"type\":\"contourcarpet\"}],\"contour\":[{\"colorbar\":{\"outlinewidth\":0,\"ticks\":\"\"},\"colorscale\":[[0.0,\"#0d0887\"],[0.1111111111111111,\"#46039f\"],[0.2222222222222222,\"#7201a8\"],[0.3333333333333333,\"#9c179e\"],[0.4444444444444444,\"#bd3786\"],[0.5555555555555556,\"#d8576b\"],[0.6666666666666666,\"#ed7953\"],[0.7777777777777778,\"#fb9f3a\"],[0.8888888888888888,\"#fdca26\"],[1.0,\"#f0f921\"]],\"type\":\"contour\"}],\"heatmapgl\":[{\"colorbar\":{\"outlinewidth\":0,\"ticks\":\"\"},\"colorscale\":[[0.0,\"#0d0887\"],[0.1111111111111111,\"#46039f\"],[0.2222222222222222,\"#7201a8\"],[0.3333333333333333,\"#9c179e\"],[0.4444444444444444,\"#bd3786\"],[0.5555555555555556,\"#d8576b\"],[0.6666666666666666,\"#ed7953\"],[0.7777777777777778,\"#fb9f3a\"],[0.8888888888888888,\"#fdca26\"],[1.0,\"#f0f921\"]],\"type\":\"heatmapgl\"}],\"heatmap\":[{\"colorbar\":{\"outlinewidth\":0,\"ticks\":\"\"},\"colorscale\":[[0.0,\"#0d0887\"],[0.1111111111111111,\"#46039f\"],[0.2222222222222222,\"#7201a8\"],[0.3333333333333333,\"#9c179e\"],[0.4444444444444444,\"#bd3786\"],[0.5555555555555556,\"#d8576b\"],[0.6666666666666666,\"#ed7953\"],[0.7777777777777778,\"#fb9f3a\"],[0.8888888888888888,\"#fdca26\"],[1.0,\"#f0f921\"]],\"type\":\"heatmap\"}],\"histogram2dcontour\":[{\"colorbar\":{\"outlinewidth\":0,\"ticks\":\"\"},\"colorscale\":[[0.0,\"#0d0887\"],[0.1111111111111111,\"#46039f\"],[0.2222222222222222,\"#7201a8\"],[0.3333333333333333,\"#9c179e\"],[0.4444444444444444,\"#bd3786\"],[0.5555555555555556,\"#d8576b\"],[0.6666666666666666,\"#ed7953\"],[0.7777777777777778,\"#fb9f3a\"],[0.8888888888888888,\"#fdca26\"],[1.0,\"#f0f921\"]],\"type\":\"histogram2dcontour\"}],\"histogram2d\":[{\"colorbar\":{\"outlinewidth\":0,\"ticks\":\"\"},\"colorscale\":[[0.0,\"#0d0887\"],[0.1111111111111111,\"#46039f\"],[0.2222222222222222,\"#7201a8\"],[0.3333333333333333,\"#9c179e\"],[0.4444444444444444,\"#bd3786\"],[0.5555555555555556,\"#d8576b\"],[0.6666666666666666,\"#ed7953\"],[0.7777777777777778,\"#fb9f3a\"],[0.8888888888888888,\"#fdca26\"],[1.0,\"#f0f921\"]],\"type\":\"histogram2d\"}],\"histogram\":[{\"marker\":{\"pattern\":{\"fillmode\":\"overlay\",\"size\":10,\"solidity\":0.2}},\"type\":\"histogram\"}],\"mesh3d\":[{\"colorbar\":{\"outlinewidth\":0,\"ticks\":\"\"},\"type\":\"mesh3d\"}],\"parcoords\":[{\"line\":{\"colorbar\":{\"outlinewidth\":0,\"ticks\":\"\"}},\"type\":\"parcoords\"}],\"pie\":[{\"automargin\":true,\"type\":\"pie\"}],\"scatter3d\":[{\"line\":{\"colorbar\":{\"outlinewidth\":0,\"ticks\":\"\"}},\"marker\":{\"colorbar\":{\"outlinewidth\":0,\"ticks\":\"\"}},\"type\":\"scatter3d\"}],\"scattercarpet\":[{\"marker\":{\"colorbar\":{\"outlinewidth\":0,\"ticks\":\"\"}},\"type\":\"scattercarpet\"}],\"scattergeo\":[{\"marker\":{\"colorbar\":{\"outlinewidth\":0,\"ticks\":\"\"}},\"type\":\"scattergeo\"}],\"scattergl\":[{\"marker\":{\"colorbar\":{\"outlinewidth\":0,\"ticks\":\"\"}},\"type\":\"scattergl\"}],\"scattermapbox\":[{\"marker\":{\"colorbar\":{\"outlinewidth\":0,\"ticks\":\"\"}},\"type\":\"scattermapbox\"}],\"scatterpolargl\":[{\"marker\":{\"colorbar\":{\"outlinewidth\":0,\"ticks\":\"\"}},\"type\":\"scatterpolargl\"}],\"scatterpolar\":[{\"marker\":{\"colorbar\":{\"outlinewidth\":0,\"ticks\":\"\"}},\"type\":\"scatterpolar\"}],\"scatter\":[{\"marker\":{\"colorbar\":{\"outlinewidth\":0,\"ticks\":\"\"}},\"type\":\"scatter\"}],\"scatterternary\":[{\"marker\":{\"colorbar\":{\"outlinewidth\":0,\"ticks\":\"\"}},\"type\":\"scatterternary\"}],\"surface\":[{\"colorbar\":{\"outlinewidth\":0,\"ticks\":\"\"},\"colorscale\":[[0.0,\"#0d0887\"],[0.1111111111111111,\"#46039f\"],[0.2222222222222222,\"#7201a8\"],[0.3333333333333333,\"#9c179e\"],[0.4444444444444444,\"#bd3786\"],[0.5555555555555556,\"#d8576b\"],[0.6666666666666666,\"#ed7953\"],[0.7777777777777778,\"#fb9f3a\"],[0.8888888888888888,\"#fdca26\"],[1.0,\"#f0f921\"]],\"type\":\"surface\"}],\"table\":[{\"cells\":{\"fill\":{\"color\":\"#EBF0F8\"},\"line\":{\"color\":\"white\"}},\"header\":{\"fill\":{\"color\":\"#C8D4E3\"},\"line\":{\"color\":\"white\"}},\"type\":\"table\"}]},\"layout\":{\"annotationdefaults\":{\"arrowcolor\":\"#2a3f5f\",\"arrowhead\":0,\"arrowwidth\":1},\"autotypenumbers\":\"strict\",\"coloraxis\":{\"colorbar\":{\"outlinewidth\":0,\"ticks\":\"\"}},\"colorscale\":{\"diverging\":[[0,\"#8e0152\"],[0.1,\"#c51b7d\"],[0.2,\"#de77ae\"],[0.3,\"#f1b6da\"],[0.4,\"#fde0ef\"],[0.5,\"#f7f7f7\"],[0.6,\"#e6f5d0\"],[0.7,\"#b8e186\"],[0.8,\"#7fbc41\"],[0.9,\"#4d9221\"],[1,\"#276419\"]],\"sequential\":[[0.0,\"#0d0887\"],[0.1111111111111111,\"#46039f\"],[0.2222222222222222,\"#7201a8\"],[0.3333333333333333,\"#9c179e\"],[0.4444444444444444,\"#bd3786\"],[0.5555555555555556,\"#d8576b\"],[0.6666666666666666,\"#ed7953\"],[0.7777777777777778,\"#fb9f3a\"],[0.8888888888888888,\"#fdca26\"],[1.0,\"#f0f921\"]],\"sequentialminus\":[[0.0,\"#0d0887\"],[0.1111111111111111,\"#46039f\"],[0.2222222222222222,\"#7201a8\"],[0.3333333333333333,\"#9c179e\"],[0.4444444444444444,\"#bd3786\"],[0.5555555555555556,\"#d8576b\"],[0.6666666666666666,\"#ed7953\"],[0.7777777777777778,\"#fb9f3a\"],[0.8888888888888888,\"#fdca26\"],[1.0,\"#f0f921\"]]},\"colorway\":[\"#636efa\",\"#EF553B\",\"#00cc96\",\"#ab63fa\",\"#FFA15A\",\"#19d3f3\",\"#FF6692\",\"#B6E880\",\"#FF97FF\",\"#FECB52\"],\"font\":{\"color\":\"#2a3f5f\"},\"geo\":{\"bgcolor\":\"white\",\"lakecolor\":\"white\",\"landcolor\":\"white\",\"showlakes\":true,\"showland\":true,\"subunitcolor\":\"#C8D4E3\"},\"hoverlabel\":{\"align\":\"left\"},\"hovermode\":\"closest\",\"mapbox\":{\"style\":\"light\"},\"paper_bgcolor\":\"white\",\"plot_bgcolor\":\"white\",\"polar\":{\"angularaxis\":{\"gridcolor\":\"#EBF0F8\",\"linecolor\":\"#EBF0F8\",\"ticks\":\"\"},\"bgcolor\":\"white\",\"radialaxis\":{\"gridcolor\":\"#EBF0F8\",\"linecolor\":\"#EBF0F8\",\"ticks\":\"\"}},\"scene\":{\"xaxis\":{\"backgroundcolor\":\"white\",\"gridcolor\":\"#DFE8F3\",\"gridwidth\":2,\"linecolor\":\"#EBF0F8\",\"showbackground\":true,\"ticks\":\"\",\"zerolinecolor\":\"#EBF0F8\"},\"yaxis\":{\"backgroundcolor\":\"white\",\"gridcolor\":\"#DFE8F3\",\"gridwidth\":2,\"linecolor\":\"#EBF0F8\",\"showbackground\":true,\"ticks\":\"\",\"zerolinecolor\":\"#EBF0F8\"},\"zaxis\":{\"backgroundcolor\":\"white\",\"gridcolor\":\"#DFE8F3\",\"gridwidth\":2,\"linecolor\":\"#EBF0F8\",\"showbackground\":true,\"ticks\":\"\",\"zerolinecolor\":\"#EBF0F8\"}},\"shapedefaults\":{\"line\":{\"color\":\"#2a3f5f\"}},\"ternary\":{\"aaxis\":{\"gridcolor\":\"#DFE8F3\",\"linecolor\":\"#A2B1C6\",\"ticks\":\"\"},\"baxis\":{\"gridcolor\":\"#DFE8F3\",\"linecolor\":\"#A2B1C6\",\"ticks\":\"\"},\"bgcolor\":\"white\",\"caxis\":{\"gridcolor\":\"#DFE8F3\",\"linecolor\":\"#A2B1C6\",\"ticks\":\"\"}},\"title\":{\"x\":0.05},\"xaxis\":{\"automargin\":true,\"gridcolor\":\"#EBF0F8\",\"linecolor\":\"#EBF0F8\",\"ticks\":\"\",\"title\":{\"standoff\":15},\"zerolinecolor\":\"#EBF0F8\",\"zerolinewidth\":2},\"yaxis\":{\"automargin\":true,\"gridcolor\":\"#EBF0F8\",\"linecolor\":\"#EBF0F8\",\"ticks\":\"\",\"title\":{\"standoff\":15},\"zerolinecolor\":\"#EBF0F8\",\"zerolinewidth\":2}}},\"xaxis\":{\"anchor\":\"y\",\"domain\":[0.0,0.94],\"title\":{\"font\":{\"size\":18},\"text\":\"$\\\\text{Threshold } \\\\tau$\"},\"showgrid\":true,\"tickvals\":[0,0.004,0.01,0.02]},\"yaxis\":{\"anchor\":\"x\",\"domain\":[0.0,1.0],\"title\":{\"text\":\"Number of Edges\"}},\"yaxis2\":{\"anchor\":\"x\",\"overlaying\":\"y\",\"side\":\"right\",\"title\":{\"text\":\"AUC\"},\"showgrid\":false,\"nticks\":6,\"zeroline\":false},\"legend\":{\"y\":-0.58,\"x\":0.8,\"orientation\":\"h\",\"xanchor\":\"center\",\"yanchor\":\"bottom\"},\"margin\":{\"l\":10,\"r\":10,\"b\":0,\"t\":25,\"pad\":0},\"font\":{\"family\":\"Serif\",\"size\":18},\"title\":{\"text\":\"\"},\"autosize\":true,\"width\":600,\"height\":200,\"annotations\":[{\"showarrow\":false,\"text\":\"CASTLE\",\"x\":0.02,\"xref\":\"paper\",\"y\":-0.225,\"yref\":\"paper\",\"yshift\":0},{\"ax\":0,\"ay\":110,\"showarrow\":true,\"text\":\"0.004\",\"x\":0.004,\"xref\":\"x\",\"y\":0.7929,\"yref\":\"y2\",\"yshift\":0},{\"ax\":300,\"ay\":0,\"showarrow\":true,\"text\":\"0.79\",\"x\":0.004,\"xref\":\"x\",\"y\":0.7929,\"yref\":\"y2\",\"yshift\":0},{\"ax\":-130,\"ay\":0,\"showarrow\":true,\"text\":\"85\",\"x\":0.004,\"xref\":\"x\",\"y\":84.6,\"yref\":\"y\",\"yshift\":0}]},                        {\"responsive\": true}                    ).then(function(){\n",
       "                            \n",
       "var gd = document.getElementById('535322ec-9e22-4fe8-8a71-8a0da7a1d636');\n",
       "var x = new MutationObserver(function (mutations, observer) {{\n",
       "        var display = window.getComputedStyle(gd).display;\n",
       "        if (!display || display === 'none') {{\n",
       "            console.log([gd, 'removed!']);\n",
       "            Plotly.purge(gd);\n",
       "            observer.disconnect();\n",
       "        }}\n",
       "}});\n",
       "\n",
       "// Listen for the removal of the full notebook cells\n",
       "var notebookContainer = gd.closest('#notebook-container');\n",
       "if (notebookContainer) {{\n",
       "    x.observe(notebookContainer, {childList: true});\n",
       "}}\n",
       "\n",
       "// Listen for the clearing of the current output cell\n",
       "var outputEl = gd.closest('.output');\n",
       "if (outputEl) {{\n",
       "    x.observe(outputEl, {childList: true});\n",
       "}}\n",
       "\n",
       "                        })                };                });            </script>        </div>"
      ]
     },
     "metadata": {},
     "output_type": "display_data"
    }
   ],
   "source": [
    "version = 'fico_3'\n",
    "metric = 'auc'\n",
    "\n",
    "agg_stats = collect_results(version=version, metric=metric, dsets='100000', res_folder=results_folder, mat_folder=mats_folder)\n",
    "\n",
    "sub = -0.005\n",
    "agg_stats.loc[agg_stats['theta']==-1,'theta'] = sub\n",
    "\n",
    "filter_theta = 0.03\n",
    "filter_list = [0.005,0.007,0.009,0.011]\n",
    "agg_stats = agg_stats[(agg_stats['theta']<=filter_theta) & (~agg_stats['theta'].isin(filter_list))]\n",
    "display(agg_stats)\n",
    "\n",
    "### Plot results\n",
    "fig = plot_ly_lines(agg_stats,'auc', height=200)\n",
    "\n",
    "fig.update_layout(\n",
    "    legend={\n",
    "        'y':-0.58,\n",
    "        'x':0.8,\n",
    "        'orientation':\"h\",\n",
    "        'xanchor': 'center',\n",
    "        'yanchor': 'bottom'},\n",
    "    font=dict(\n",
    "        family='Serif',#\"Courier New, monospace\",\n",
    "        size=18,\n",
    "        # color=\"Black\"\n",
    "    ) ,\n",
    "    margin=dict(\n",
    "            l=10,\n",
    "            r=10,\n",
    "            b=0,\n",
    "            t=25,\n",
    "            pad=0\n",
    "            ),   \n",
    ")\n",
    "# Set x-axis title\n",
    "fig.update_xaxes(showgrid=True,title={'text':r'$\\text{Threshold } \\tau$','font':{'size':18#, 'family': 'Courier New, monospace',\n",
    "}},tickvals=[a for sub in [[0,0.004],list(np.round(np.arange(0.01, max(agg_stats['theta']), 0.01),2))] for a in sub],\n",
    ")\n",
    "\n",
    "fig.add_annotation(x=0.02, y=-0.225,\n",
    "            text=\"CASTLE\",\n",
    "            showarrow=False,\n",
    "            yshift=0,\n",
    "            xref='paper',\n",
    "            yref='paper',)\n",
    "            \n",
    "chosen_tau=0.004\n",
    "\n",
    "fig.add_annotation(x=chosen_tau, y=0.7929,\n",
    "            text=str(chosen_tau),\n",
    "            showarrow=True,\n",
    "            yshift=0,\n",
    "            xref='x',ax=0,\n",
    "            yref='y2',ay=110#170\n",
    "            )\n",
    "fig.add_annotation(x=chosen_tau, y=0.7929,\n",
    "            text=str(0.79),\n",
    "            showarrow=True,\n",
    "            yshift=0,\n",
    "            xref='x',ax=300,\n",
    "            yref='y2',ay=0)\n",
    "fig.add_annotation(x=chosen_tau, y=84.6,\n",
    "            text=str(85),\n",
    "            showarrow=True,\n",
    "            yshift=0,\n",
    "            xref='x',ax=-130,\n",
    "            yref='y',ay=0)\n",
    "\n",
    "fig.show()\n",
    "\n",
    "if not os.path.exists(output_folder):\n",
    "    os.mkdir(output_folder)\n",
    "\n",
    "out_path = os.path.join(output_folder,f\"plot_tauoptim_{version}.png\")\n",
    "\n",
    "if save_figs:\n",
    "    import kaleido\n",
    "    fig.write_image(out_path)\n",
    "\n",
    "# Image(url= out_path)"
   ]
  },
  {
   "cell_type": "markdown",
   "metadata": {},
   "source": [
    "### Adult"
   ]
  },
  {
   "cell_type": "code",
   "execution_count": 81,
   "metadata": {
    "tags": []
   },
   "outputs": [],
   "source": [
    "rerun_adult_optim = False\n",
    "if rerun_adult_optim:\n",
    "    ## Broad\n",
    "    %run -i main_realdata.py --version=adult_fulltest, --theta_auto=True\n",
    "    ## Finer grained run\n",
    "    %run -i main_realdata.py --version=adult_fulltest, --theta_range=\"-1\",\"0.8\",\"0.1\", --theta_auto=True"
   ]
  },
  {
   "cell_type": "code",
   "execution_count": 82,
   "metadata": {
    "tags": []
   },
   "outputs": [
    {
     "data": {
      "text/html": [
       "<div>\n",
       "<style scoped>\n",
       "    .dataframe tbody tr th:only-of-type {\n",
       "        vertical-align: middle;\n",
       "    }\n",
       "\n",
       "    .dataframe tbody tr th {\n",
       "        vertical-align: top;\n",
       "    }\n",
       "\n",
       "    .dataframe thead th {\n",
       "        text-align: right;\n",
       "    }\n",
       "</style>\n",
       "<table border=\"1\" class=\"dataframe\">\n",
       "  <thead>\n",
       "    <tr style=\"text-align: right;\">\n",
       "      <th></th>\n",
       "      <th>theta</th>\n",
       "      <th>count</th>\n",
       "      <th>folds</th>\n",
       "      <th>accuracy_mean</th>\n",
       "      <th>accuracy_std</th>\n",
       "      <th>N_edges</th>\n",
       "      <th>Std</th>\n",
       "    </tr>\n",
       "  </thead>\n",
       "  <tbody>\n",
       "    <tr>\n",
       "      <th>0</th>\n",
       "      <td>-0.09</td>\n",
       "      <td>25</td>\n",
       "      <td>5</td>\n",
       "      <td>0.747038</td>\n",
       "      <td>0.027878</td>\n",
       "      <td>210.00</td>\n",
       "      <td>0.000000</td>\n",
       "    </tr>\n",
       "    <tr>\n",
       "      <th>1</th>\n",
       "      <td>0.00</td>\n",
       "      <td>25</td>\n",
       "      <td>5</td>\n",
       "      <td>0.863468</td>\n",
       "      <td>0.005990</td>\n",
       "      <td>105.00</td>\n",
       "      <td>0.000000</td>\n",
       "    </tr>\n",
       "    <tr>\n",
       "      <th>3</th>\n",
       "      <td>0.08</td>\n",
       "      <td>25</td>\n",
       "      <td>5</td>\n",
       "      <td>0.855648</td>\n",
       "      <td>0.010548</td>\n",
       "      <td>46.20</td>\n",
       "      <td>1.979057</td>\n",
       "    </tr>\n",
       "    <tr>\n",
       "      <th>4</th>\n",
       "      <td>0.10</td>\n",
       "      <td>25</td>\n",
       "      <td>5</td>\n",
       "      <td>0.851808</td>\n",
       "      <td>0.006541</td>\n",
       "      <td>40.80</td>\n",
       "      <td>2.614065</td>\n",
       "    </tr>\n",
       "    <tr>\n",
       "      <th>5</th>\n",
       "      <td>0.12</td>\n",
       "      <td>25</td>\n",
       "      <td>5</td>\n",
       "      <td>0.850752</td>\n",
       "      <td>0.006104</td>\n",
       "      <td>36.60</td>\n",
       "      <td>2.783882</td>\n",
       "    </tr>\n",
       "    <tr>\n",
       "      <th>6</th>\n",
       "      <td>0.14</td>\n",
       "      <td>25</td>\n",
       "      <td>5</td>\n",
       "      <td>0.820374</td>\n",
       "      <td>0.059331</td>\n",
       "      <td>32.20</td>\n",
       "      <td>1.354006</td>\n",
       "    </tr>\n",
       "    <tr>\n",
       "      <th>7</th>\n",
       "      <td>0.16</td>\n",
       "      <td>25</td>\n",
       "      <td>5</td>\n",
       "      <td>0.783488</td>\n",
       "      <td>0.063420</td>\n",
       "      <td>30.80</td>\n",
       "      <td>1.190238</td>\n",
       "    </tr>\n",
       "    <tr>\n",
       "      <th>8</th>\n",
       "      <td>0.18</td>\n",
       "      <td>20</td>\n",
       "      <td>5</td>\n",
       "      <td>0.653790</td>\n",
       "      <td>0.161708</td>\n",
       "      <td>29.75</td>\n",
       "      <td>1.332785</td>\n",
       "    </tr>\n",
       "    <tr>\n",
       "      <th>11</th>\n",
       "      <td>0.28</td>\n",
       "      <td>5</td>\n",
       "      <td>5</td>\n",
       "      <td>0.500000</td>\n",
       "      <td>0.000000</td>\n",
       "      <td>27.00</td>\n",
       "      <td>0.000000</td>\n",
       "    </tr>\n",
       "    <tr>\n",
       "      <th>12</th>\n",
       "      <td>0.32</td>\n",
       "      <td>5</td>\n",
       "      <td>5</td>\n",
       "      <td>0.500000</td>\n",
       "      <td>0.000000</td>\n",
       "      <td>25.00</td>\n",
       "      <td>0.000000</td>\n",
       "    </tr>\n",
       "    <tr>\n",
       "      <th>13</th>\n",
       "      <td>0.40</td>\n",
       "      <td>5</td>\n",
       "      <td>5</td>\n",
       "      <td>0.500000</td>\n",
       "      <td>0.000000</td>\n",
       "      <td>24.00</td>\n",
       "      <td>0.000000</td>\n",
       "    </tr>\n",
       "  </tbody>\n",
       "</table>\n",
       "</div>"
      ],
      "text/plain": [
       "    theta  count  folds  accuracy_mean  accuracy_std  N_edges       Std\n",
       "0   -0.09     25      5       0.747038      0.027878   210.00  0.000000\n",
       "1    0.00     25      5       0.863468      0.005990   105.00  0.000000\n",
       "3    0.08     25      5       0.855648      0.010548    46.20  1.979057\n",
       "4    0.10     25      5       0.851808      0.006541    40.80  2.614065\n",
       "5    0.12     25      5       0.850752      0.006104    36.60  2.783882\n",
       "6    0.14     25      5       0.820374      0.059331    32.20  1.354006\n",
       "7    0.16     25      5       0.783488      0.063420    30.80  1.190238\n",
       "8    0.18     20      5       0.653790      0.161708    29.75  1.332785\n",
       "11   0.28      5      5       0.500000      0.000000    27.00  0.000000\n",
       "12   0.32      5      5       0.500000      0.000000    25.00  0.000000\n",
       "13   0.40      5      5       0.500000      0.000000    24.00  0.000000"
      ]
     },
     "metadata": {},
     "output_type": "display_data"
    },
    {
     "data": {
      "application/vnd.plotly.v1+json": {
       "config": {
        "plotlyServerURL": "https://plot.ly"
       },
       "data": [
        {
         "error_y": {
          "array": [
           0.027877660048992642,
           0.005990399399860237,
           0.01054767635363887,
           0.006540974206346158,
           0.006103871560386087,
           0.05933110504372719,
           0.06342043968175894,
           0.1617077132642796,
           0,
           0,
           0
          ],
          "type": "data",
          "visible": true
         },
         "name": "AUC",
         "type": "scatter",
         "x": [
          -0.09,
          0,
          0.08,
          0.1,
          0.12,
          0.14,
          0.16,
          0.18,
          0.28,
          0.32,
          0.4
         ],
         "xaxis": "x",
         "y": [
          0.7470380696274307,
          0.8634678058914657,
          0.8556479446454784,
          0.8518079280265499,
          0.8507520186685801,
          0.8203743640360259,
          0.7834881839086388,
          0.6537895255246378,
          0.5,
          0.5,
          0.5
         ],
         "yaxis": "y2"
        },
        {
         "error_y": {
          "array": [
           0,
           0,
           1.9790570145063204,
           2.6140645235596867,
           2.7838821814150116,
           1.3540064007726602,
           1.1902380714238083,
           1.3327849749579577,
           0,
           0,
           0
          ],
          "type": "data",
          "visible": true
         },
         "name": "Edges",
         "type": "scatter",
         "x": [
          -0.09,
          0,
          0.08,
          0.1,
          0.12,
          0.14,
          0.16,
          0.18,
          0.28,
          0.32,
          0.4
         ],
         "xaxis": "x",
         "y": [
          210,
          105,
          46.2,
          40.8,
          36.6,
          32.2,
          30.8,
          29.75,
          27,
          25,
          24
         ],
         "yaxis": "y"
        }
       ],
       "layout": {
        "annotations": [
         {
          "showarrow": false,
          "text": "CASTLE",
          "x": 0.02,
          "xref": "paper",
          "y": -0.225,
          "yref": "paper",
          "yshift": 0
         },
         {
          "ax": 0,
          "ay": 112,
          "showarrow": true,
          "text": "0.08",
          "x": 0.08,
          "xref": "x",
          "y": 0.8556,
          "yref": "y2",
          "yshift": 0
         },
         {
          "ax": 280,
          "ay": 0,
          "showarrow": true,
          "text": "0.86",
          "x": 0.08,
          "xref": "x",
          "y": 0.8556,
          "yref": "y2",
          "yshift": 0
         },
         {
          "ax": -160,
          "ay": 0,
          "showarrow": true,
          "text": "46",
          "x": 0.08,
          "xref": "x",
          "y": 46.2,
          "yref": "y",
          "yshift": 0
         }
        ],
        "autosize": true,
        "font": {
         "family": "Serif",
         "size": 18
        },
        "height": 200,
        "legend": {
         "orientation": "h",
         "x": 0.8,
         "xanchor": "center",
         "y": -0.58,
         "yanchor": "bottom"
        },
        "margin": {
         "b": 0,
         "l": 10,
         "pad": 0,
         "r": 10,
         "t": 25
        },
        "template": {
         "data": {
          "bar": [
           {
            "error_x": {
             "color": "#2a3f5f"
            },
            "error_y": {
             "color": "#2a3f5f"
            },
            "marker": {
             "line": {
              "color": "white",
              "width": 0.5
             },
             "pattern": {
              "fillmode": "overlay",
              "size": 10,
              "solidity": 0.2
             }
            },
            "type": "bar"
           }
          ],
          "barpolar": [
           {
            "marker": {
             "line": {
              "color": "white",
              "width": 0.5
             },
             "pattern": {
              "fillmode": "overlay",
              "size": 10,
              "solidity": 0.2
             }
            },
            "type": "barpolar"
           }
          ],
          "carpet": [
           {
            "aaxis": {
             "endlinecolor": "#2a3f5f",
             "gridcolor": "#C8D4E3",
             "linecolor": "#C8D4E3",
             "minorgridcolor": "#C8D4E3",
             "startlinecolor": "#2a3f5f"
            },
            "baxis": {
             "endlinecolor": "#2a3f5f",
             "gridcolor": "#C8D4E3",
             "linecolor": "#C8D4E3",
             "minorgridcolor": "#C8D4E3",
             "startlinecolor": "#2a3f5f"
            },
            "type": "carpet"
           }
          ],
          "choropleth": [
           {
            "colorbar": {
             "outlinewidth": 0,
             "ticks": ""
            },
            "type": "choropleth"
           }
          ],
          "contour": [
           {
            "colorbar": {
             "outlinewidth": 0,
             "ticks": ""
            },
            "colorscale": [
             [
              0,
              "#0d0887"
             ],
             [
              0.1111111111111111,
              "#46039f"
             ],
             [
              0.2222222222222222,
              "#7201a8"
             ],
             [
              0.3333333333333333,
              "#9c179e"
             ],
             [
              0.4444444444444444,
              "#bd3786"
             ],
             [
              0.5555555555555556,
              "#d8576b"
             ],
             [
              0.6666666666666666,
              "#ed7953"
             ],
             [
              0.7777777777777778,
              "#fb9f3a"
             ],
             [
              0.8888888888888888,
              "#fdca26"
             ],
             [
              1,
              "#f0f921"
             ]
            ],
            "type": "contour"
           }
          ],
          "contourcarpet": [
           {
            "colorbar": {
             "outlinewidth": 0,
             "ticks": ""
            },
            "type": "contourcarpet"
           }
          ],
          "heatmap": [
           {
            "colorbar": {
             "outlinewidth": 0,
             "ticks": ""
            },
            "colorscale": [
             [
              0,
              "#0d0887"
             ],
             [
              0.1111111111111111,
              "#46039f"
             ],
             [
              0.2222222222222222,
              "#7201a8"
             ],
             [
              0.3333333333333333,
              "#9c179e"
             ],
             [
              0.4444444444444444,
              "#bd3786"
             ],
             [
              0.5555555555555556,
              "#d8576b"
             ],
             [
              0.6666666666666666,
              "#ed7953"
             ],
             [
              0.7777777777777778,
              "#fb9f3a"
             ],
             [
              0.8888888888888888,
              "#fdca26"
             ],
             [
              1,
              "#f0f921"
             ]
            ],
            "type": "heatmap"
           }
          ],
          "heatmapgl": [
           {
            "colorbar": {
             "outlinewidth": 0,
             "ticks": ""
            },
            "colorscale": [
             [
              0,
              "#0d0887"
             ],
             [
              0.1111111111111111,
              "#46039f"
             ],
             [
              0.2222222222222222,
              "#7201a8"
             ],
             [
              0.3333333333333333,
              "#9c179e"
             ],
             [
              0.4444444444444444,
              "#bd3786"
             ],
             [
              0.5555555555555556,
              "#d8576b"
             ],
             [
              0.6666666666666666,
              "#ed7953"
             ],
             [
              0.7777777777777778,
              "#fb9f3a"
             ],
             [
              0.8888888888888888,
              "#fdca26"
             ],
             [
              1,
              "#f0f921"
             ]
            ],
            "type": "heatmapgl"
           }
          ],
          "histogram": [
           {
            "marker": {
             "pattern": {
              "fillmode": "overlay",
              "size": 10,
              "solidity": 0.2
             }
            },
            "type": "histogram"
           }
          ],
          "histogram2d": [
           {
            "colorbar": {
             "outlinewidth": 0,
             "ticks": ""
            },
            "colorscale": [
             [
              0,
              "#0d0887"
             ],
             [
              0.1111111111111111,
              "#46039f"
             ],
             [
              0.2222222222222222,
              "#7201a8"
             ],
             [
              0.3333333333333333,
              "#9c179e"
             ],
             [
              0.4444444444444444,
              "#bd3786"
             ],
             [
              0.5555555555555556,
              "#d8576b"
             ],
             [
              0.6666666666666666,
              "#ed7953"
             ],
             [
              0.7777777777777778,
              "#fb9f3a"
             ],
             [
              0.8888888888888888,
              "#fdca26"
             ],
             [
              1,
              "#f0f921"
             ]
            ],
            "type": "histogram2d"
           }
          ],
          "histogram2dcontour": [
           {
            "colorbar": {
             "outlinewidth": 0,
             "ticks": ""
            },
            "colorscale": [
             [
              0,
              "#0d0887"
             ],
             [
              0.1111111111111111,
              "#46039f"
             ],
             [
              0.2222222222222222,
              "#7201a8"
             ],
             [
              0.3333333333333333,
              "#9c179e"
             ],
             [
              0.4444444444444444,
              "#bd3786"
             ],
             [
              0.5555555555555556,
              "#d8576b"
             ],
             [
              0.6666666666666666,
              "#ed7953"
             ],
             [
              0.7777777777777778,
              "#fb9f3a"
             ],
             [
              0.8888888888888888,
              "#fdca26"
             ],
             [
              1,
              "#f0f921"
             ]
            ],
            "type": "histogram2dcontour"
           }
          ],
          "mesh3d": [
           {
            "colorbar": {
             "outlinewidth": 0,
             "ticks": ""
            },
            "type": "mesh3d"
           }
          ],
          "parcoords": [
           {
            "line": {
             "colorbar": {
              "outlinewidth": 0,
              "ticks": ""
             }
            },
            "type": "parcoords"
           }
          ],
          "pie": [
           {
            "automargin": true,
            "type": "pie"
           }
          ],
          "scatter": [
           {
            "marker": {
             "colorbar": {
              "outlinewidth": 0,
              "ticks": ""
             }
            },
            "type": "scatter"
           }
          ],
          "scatter3d": [
           {
            "line": {
             "colorbar": {
              "outlinewidth": 0,
              "ticks": ""
             }
            },
            "marker": {
             "colorbar": {
              "outlinewidth": 0,
              "ticks": ""
             }
            },
            "type": "scatter3d"
           }
          ],
          "scattercarpet": [
           {
            "marker": {
             "colorbar": {
              "outlinewidth": 0,
              "ticks": ""
             }
            },
            "type": "scattercarpet"
           }
          ],
          "scattergeo": [
           {
            "marker": {
             "colorbar": {
              "outlinewidth": 0,
              "ticks": ""
             }
            },
            "type": "scattergeo"
           }
          ],
          "scattergl": [
           {
            "marker": {
             "colorbar": {
              "outlinewidth": 0,
              "ticks": ""
             }
            },
            "type": "scattergl"
           }
          ],
          "scattermapbox": [
           {
            "marker": {
             "colorbar": {
              "outlinewidth": 0,
              "ticks": ""
             }
            },
            "type": "scattermapbox"
           }
          ],
          "scatterpolar": [
           {
            "marker": {
             "colorbar": {
              "outlinewidth": 0,
              "ticks": ""
             }
            },
            "type": "scatterpolar"
           }
          ],
          "scatterpolargl": [
           {
            "marker": {
             "colorbar": {
              "outlinewidth": 0,
              "ticks": ""
             }
            },
            "type": "scatterpolargl"
           }
          ],
          "scatterternary": [
           {
            "marker": {
             "colorbar": {
              "outlinewidth": 0,
              "ticks": ""
             }
            },
            "type": "scatterternary"
           }
          ],
          "surface": [
           {
            "colorbar": {
             "outlinewidth": 0,
             "ticks": ""
            },
            "colorscale": [
             [
              0,
              "#0d0887"
             ],
             [
              0.1111111111111111,
              "#46039f"
             ],
             [
              0.2222222222222222,
              "#7201a8"
             ],
             [
              0.3333333333333333,
              "#9c179e"
             ],
             [
              0.4444444444444444,
              "#bd3786"
             ],
             [
              0.5555555555555556,
              "#d8576b"
             ],
             [
              0.6666666666666666,
              "#ed7953"
             ],
             [
              0.7777777777777778,
              "#fb9f3a"
             ],
             [
              0.8888888888888888,
              "#fdca26"
             ],
             [
              1,
              "#f0f921"
             ]
            ],
            "type": "surface"
           }
          ],
          "table": [
           {
            "cells": {
             "fill": {
              "color": "#EBF0F8"
             },
             "line": {
              "color": "white"
             }
            },
            "header": {
             "fill": {
              "color": "#C8D4E3"
             },
             "line": {
              "color": "white"
             }
            },
            "type": "table"
           }
          ]
         },
         "layout": {
          "annotationdefaults": {
           "arrowcolor": "#2a3f5f",
           "arrowhead": 0,
           "arrowwidth": 1
          },
          "autotypenumbers": "strict",
          "coloraxis": {
           "colorbar": {
            "outlinewidth": 0,
            "ticks": ""
           }
          },
          "colorscale": {
           "diverging": [
            [
             0,
             "#8e0152"
            ],
            [
             0.1,
             "#c51b7d"
            ],
            [
             0.2,
             "#de77ae"
            ],
            [
             0.3,
             "#f1b6da"
            ],
            [
             0.4,
             "#fde0ef"
            ],
            [
             0.5,
             "#f7f7f7"
            ],
            [
             0.6,
             "#e6f5d0"
            ],
            [
             0.7,
             "#b8e186"
            ],
            [
             0.8,
             "#7fbc41"
            ],
            [
             0.9,
             "#4d9221"
            ],
            [
             1,
             "#276419"
            ]
           ],
           "sequential": [
            [
             0,
             "#0d0887"
            ],
            [
             0.1111111111111111,
             "#46039f"
            ],
            [
             0.2222222222222222,
             "#7201a8"
            ],
            [
             0.3333333333333333,
             "#9c179e"
            ],
            [
             0.4444444444444444,
             "#bd3786"
            ],
            [
             0.5555555555555556,
             "#d8576b"
            ],
            [
             0.6666666666666666,
             "#ed7953"
            ],
            [
             0.7777777777777778,
             "#fb9f3a"
            ],
            [
             0.8888888888888888,
             "#fdca26"
            ],
            [
             1,
             "#f0f921"
            ]
           ],
           "sequentialminus": [
            [
             0,
             "#0d0887"
            ],
            [
             0.1111111111111111,
             "#46039f"
            ],
            [
             0.2222222222222222,
             "#7201a8"
            ],
            [
             0.3333333333333333,
             "#9c179e"
            ],
            [
             0.4444444444444444,
             "#bd3786"
            ],
            [
             0.5555555555555556,
             "#d8576b"
            ],
            [
             0.6666666666666666,
             "#ed7953"
            ],
            [
             0.7777777777777778,
             "#fb9f3a"
            ],
            [
             0.8888888888888888,
             "#fdca26"
            ],
            [
             1,
             "#f0f921"
            ]
           ]
          },
          "colorway": [
           "#636efa",
           "#EF553B",
           "#00cc96",
           "#ab63fa",
           "#FFA15A",
           "#19d3f3",
           "#FF6692",
           "#B6E880",
           "#FF97FF",
           "#FECB52"
          ],
          "font": {
           "color": "#2a3f5f"
          },
          "geo": {
           "bgcolor": "white",
           "lakecolor": "white",
           "landcolor": "white",
           "showlakes": true,
           "showland": true,
           "subunitcolor": "#C8D4E3"
          },
          "hoverlabel": {
           "align": "left"
          },
          "hovermode": "closest",
          "mapbox": {
           "style": "light"
          },
          "paper_bgcolor": "white",
          "plot_bgcolor": "white",
          "polar": {
           "angularaxis": {
            "gridcolor": "#EBF0F8",
            "linecolor": "#EBF0F8",
            "ticks": ""
           },
           "bgcolor": "white",
           "radialaxis": {
            "gridcolor": "#EBF0F8",
            "linecolor": "#EBF0F8",
            "ticks": ""
           }
          },
          "scene": {
           "xaxis": {
            "backgroundcolor": "white",
            "gridcolor": "#DFE8F3",
            "gridwidth": 2,
            "linecolor": "#EBF0F8",
            "showbackground": true,
            "ticks": "",
            "zerolinecolor": "#EBF0F8"
           },
           "yaxis": {
            "backgroundcolor": "white",
            "gridcolor": "#DFE8F3",
            "gridwidth": 2,
            "linecolor": "#EBF0F8",
            "showbackground": true,
            "ticks": "",
            "zerolinecolor": "#EBF0F8"
           },
           "zaxis": {
            "backgroundcolor": "white",
            "gridcolor": "#DFE8F3",
            "gridwidth": 2,
            "linecolor": "#EBF0F8",
            "showbackground": true,
            "ticks": "",
            "zerolinecolor": "#EBF0F8"
           }
          },
          "shapedefaults": {
           "line": {
            "color": "#2a3f5f"
           }
          },
          "ternary": {
           "aaxis": {
            "gridcolor": "#DFE8F3",
            "linecolor": "#A2B1C6",
            "ticks": ""
           },
           "baxis": {
            "gridcolor": "#DFE8F3",
            "linecolor": "#A2B1C6",
            "ticks": ""
           },
           "bgcolor": "white",
           "caxis": {
            "gridcolor": "#DFE8F3",
            "linecolor": "#A2B1C6",
            "ticks": ""
           }
          },
          "title": {
           "x": 0.05
          },
          "xaxis": {
           "automargin": true,
           "gridcolor": "#EBF0F8",
           "linecolor": "#EBF0F8",
           "ticks": "",
           "title": {
            "standoff": 15
           },
           "zerolinecolor": "#EBF0F8",
           "zerolinewidth": 2
          },
          "yaxis": {
           "automargin": true,
           "gridcolor": "#EBF0F8",
           "linecolor": "#EBF0F8",
           "ticks": "",
           "title": {
            "standoff": 15
           },
           "zerolinecolor": "#EBF0F8",
           "zerolinewidth": 2
          }
         }
        },
        "title": {
         "text": ""
        },
        "width": 600,
        "xaxis": {
         "anchor": "y",
         "domain": [
          0,
          0.94
         ],
         "showgrid": true,
         "tickvals": [
          0,
          0.08,
          0.2,
          0.3
         ],
         "title": {
          "font": {
           "size": 18
          },
          "text": "$\\text{Threshold } \\tau$"
         }
        },
        "yaxis": {
         "anchor": "x",
         "domain": [
          0,
          1
         ],
         "title": {
          "text": "Number of Edges"
         }
        },
        "yaxis2": {
         "anchor": "x",
         "nticks": 6,
         "overlaying": "y",
         "showgrid": false,
         "side": "right",
         "title": {
          "text": "AUC"
         },
         "zeroline": false
        }
       }
      },
      "text/html": [
       "<div>                            <div id=\"fd707fe4-fc8a-40d4-b2e7-7ad353d03356\" class=\"plotly-graph-div\" style=\"height:200px; width:600px;\"></div>            <script type=\"text/javascript\">                require([\"plotly\"], function(Plotly) {                    window.PLOTLYENV=window.PLOTLYENV || {};                                    if (document.getElementById(\"fd707fe4-fc8a-40d4-b2e7-7ad353d03356\")) {                    Plotly.newPlot(                        \"fd707fe4-fc8a-40d4-b2e7-7ad353d03356\",                        [{\"error_y\":{\"array\":[0.027877660048992642,0.005990399399860237,0.01054767635363887,0.006540974206346158,0.006103871560386087,0.05933110504372719,0.06342043968175894,0.1617077132642796,0.0,0.0,0.0],\"type\":\"data\",\"visible\":true},\"name\":\"AUC\",\"x\":[-0.09,0.0,0.08,0.1,0.12,0.14,0.16,0.18,0.28,0.32,0.4],\"y\":[0.7470380696274307,0.8634678058914657,0.8556479446454784,0.8518079280265499,0.8507520186685801,0.8203743640360259,0.7834881839086388,0.6537895255246378,0.5,0.5,0.5],\"type\":\"scatter\",\"xaxis\":\"x\",\"yaxis\":\"y2\"},{\"error_y\":{\"array\":[0.0,0.0,1.9790570145063204,2.6140645235596867,2.7838821814150116,1.3540064007726602,1.1902380714238083,1.3327849749579577,0.0,0.0,0.0],\"type\":\"data\",\"visible\":true},\"name\":\"Edges\",\"x\":[-0.09,0.0,0.08,0.1,0.12,0.14,0.16,0.18,0.28,0.32,0.4],\"y\":[210.0,105.0,46.2,40.8,36.6,32.2,30.8,29.75,27.0,25.0,24.0],\"type\":\"scatter\",\"xaxis\":\"x\",\"yaxis\":\"y\"}],                        {\"template\":{\"data\":{\"barpolar\":[{\"marker\":{\"line\":{\"color\":\"white\",\"width\":0.5},\"pattern\":{\"fillmode\":\"overlay\",\"size\":10,\"solidity\":0.2}},\"type\":\"barpolar\"}],\"bar\":[{\"error_x\":{\"color\":\"#2a3f5f\"},\"error_y\":{\"color\":\"#2a3f5f\"},\"marker\":{\"line\":{\"color\":\"white\",\"width\":0.5},\"pattern\":{\"fillmode\":\"overlay\",\"size\":10,\"solidity\":0.2}},\"type\":\"bar\"}],\"carpet\":[{\"aaxis\":{\"endlinecolor\":\"#2a3f5f\",\"gridcolor\":\"#C8D4E3\",\"linecolor\":\"#C8D4E3\",\"minorgridcolor\":\"#C8D4E3\",\"startlinecolor\":\"#2a3f5f\"},\"baxis\":{\"endlinecolor\":\"#2a3f5f\",\"gridcolor\":\"#C8D4E3\",\"linecolor\":\"#C8D4E3\",\"minorgridcolor\":\"#C8D4E3\",\"startlinecolor\":\"#2a3f5f\"},\"type\":\"carpet\"}],\"choropleth\":[{\"colorbar\":{\"outlinewidth\":0,\"ticks\":\"\"},\"type\":\"choropleth\"}],\"contourcarpet\":[{\"colorbar\":{\"outlinewidth\":0,\"ticks\":\"\"},\"type\":\"contourcarpet\"}],\"contour\":[{\"colorbar\":{\"outlinewidth\":0,\"ticks\":\"\"},\"colorscale\":[[0.0,\"#0d0887\"],[0.1111111111111111,\"#46039f\"],[0.2222222222222222,\"#7201a8\"],[0.3333333333333333,\"#9c179e\"],[0.4444444444444444,\"#bd3786\"],[0.5555555555555556,\"#d8576b\"],[0.6666666666666666,\"#ed7953\"],[0.7777777777777778,\"#fb9f3a\"],[0.8888888888888888,\"#fdca26\"],[1.0,\"#f0f921\"]],\"type\":\"contour\"}],\"heatmapgl\":[{\"colorbar\":{\"outlinewidth\":0,\"ticks\":\"\"},\"colorscale\":[[0.0,\"#0d0887\"],[0.1111111111111111,\"#46039f\"],[0.2222222222222222,\"#7201a8\"],[0.3333333333333333,\"#9c179e\"],[0.4444444444444444,\"#bd3786\"],[0.5555555555555556,\"#d8576b\"],[0.6666666666666666,\"#ed7953\"],[0.7777777777777778,\"#fb9f3a\"],[0.8888888888888888,\"#fdca26\"],[1.0,\"#f0f921\"]],\"type\":\"heatmapgl\"}],\"heatmap\":[{\"colorbar\":{\"outlinewidth\":0,\"ticks\":\"\"},\"colorscale\":[[0.0,\"#0d0887\"],[0.1111111111111111,\"#46039f\"],[0.2222222222222222,\"#7201a8\"],[0.3333333333333333,\"#9c179e\"],[0.4444444444444444,\"#bd3786\"],[0.5555555555555556,\"#d8576b\"],[0.6666666666666666,\"#ed7953\"],[0.7777777777777778,\"#fb9f3a\"],[0.8888888888888888,\"#fdca26\"],[1.0,\"#f0f921\"]],\"type\":\"heatmap\"}],\"histogram2dcontour\":[{\"colorbar\":{\"outlinewidth\":0,\"ticks\":\"\"},\"colorscale\":[[0.0,\"#0d0887\"],[0.1111111111111111,\"#46039f\"],[0.2222222222222222,\"#7201a8\"],[0.3333333333333333,\"#9c179e\"],[0.4444444444444444,\"#bd3786\"],[0.5555555555555556,\"#d8576b\"],[0.6666666666666666,\"#ed7953\"],[0.7777777777777778,\"#fb9f3a\"],[0.8888888888888888,\"#fdca26\"],[1.0,\"#f0f921\"]],\"type\":\"histogram2dcontour\"}],\"histogram2d\":[{\"colorbar\":{\"outlinewidth\":0,\"ticks\":\"\"},\"colorscale\":[[0.0,\"#0d0887\"],[0.1111111111111111,\"#46039f\"],[0.2222222222222222,\"#7201a8\"],[0.3333333333333333,\"#9c179e\"],[0.4444444444444444,\"#bd3786\"],[0.5555555555555556,\"#d8576b\"],[0.6666666666666666,\"#ed7953\"],[0.7777777777777778,\"#fb9f3a\"],[0.8888888888888888,\"#fdca26\"],[1.0,\"#f0f921\"]],\"type\":\"histogram2d\"}],\"histogram\":[{\"marker\":{\"pattern\":{\"fillmode\":\"overlay\",\"size\":10,\"solidity\":0.2}},\"type\":\"histogram\"}],\"mesh3d\":[{\"colorbar\":{\"outlinewidth\":0,\"ticks\":\"\"},\"type\":\"mesh3d\"}],\"parcoords\":[{\"line\":{\"colorbar\":{\"outlinewidth\":0,\"ticks\":\"\"}},\"type\":\"parcoords\"}],\"pie\":[{\"automargin\":true,\"type\":\"pie\"}],\"scatter3d\":[{\"line\":{\"colorbar\":{\"outlinewidth\":0,\"ticks\":\"\"}},\"marker\":{\"colorbar\":{\"outlinewidth\":0,\"ticks\":\"\"}},\"type\":\"scatter3d\"}],\"scattercarpet\":[{\"marker\":{\"colorbar\":{\"outlinewidth\":0,\"ticks\":\"\"}},\"type\":\"scattercarpet\"}],\"scattergeo\":[{\"marker\":{\"colorbar\":{\"outlinewidth\":0,\"ticks\":\"\"}},\"type\":\"scattergeo\"}],\"scattergl\":[{\"marker\":{\"colorbar\":{\"outlinewidth\":0,\"ticks\":\"\"}},\"type\":\"scattergl\"}],\"scattermapbox\":[{\"marker\":{\"colorbar\":{\"outlinewidth\":0,\"ticks\":\"\"}},\"type\":\"scattermapbox\"}],\"scatterpolargl\":[{\"marker\":{\"colorbar\":{\"outlinewidth\":0,\"ticks\":\"\"}},\"type\":\"scatterpolargl\"}],\"scatterpolar\":[{\"marker\":{\"colorbar\":{\"outlinewidth\":0,\"ticks\":\"\"}},\"type\":\"scatterpolar\"}],\"scatter\":[{\"marker\":{\"colorbar\":{\"outlinewidth\":0,\"ticks\":\"\"}},\"type\":\"scatter\"}],\"scatterternary\":[{\"marker\":{\"colorbar\":{\"outlinewidth\":0,\"ticks\":\"\"}},\"type\":\"scatterternary\"}],\"surface\":[{\"colorbar\":{\"outlinewidth\":0,\"ticks\":\"\"},\"colorscale\":[[0.0,\"#0d0887\"],[0.1111111111111111,\"#46039f\"],[0.2222222222222222,\"#7201a8\"],[0.3333333333333333,\"#9c179e\"],[0.4444444444444444,\"#bd3786\"],[0.5555555555555556,\"#d8576b\"],[0.6666666666666666,\"#ed7953\"],[0.7777777777777778,\"#fb9f3a\"],[0.8888888888888888,\"#fdca26\"],[1.0,\"#f0f921\"]],\"type\":\"surface\"}],\"table\":[{\"cells\":{\"fill\":{\"color\":\"#EBF0F8\"},\"line\":{\"color\":\"white\"}},\"header\":{\"fill\":{\"color\":\"#C8D4E3\"},\"line\":{\"color\":\"white\"}},\"type\":\"table\"}]},\"layout\":{\"annotationdefaults\":{\"arrowcolor\":\"#2a3f5f\",\"arrowhead\":0,\"arrowwidth\":1},\"autotypenumbers\":\"strict\",\"coloraxis\":{\"colorbar\":{\"outlinewidth\":0,\"ticks\":\"\"}},\"colorscale\":{\"diverging\":[[0,\"#8e0152\"],[0.1,\"#c51b7d\"],[0.2,\"#de77ae\"],[0.3,\"#f1b6da\"],[0.4,\"#fde0ef\"],[0.5,\"#f7f7f7\"],[0.6,\"#e6f5d0\"],[0.7,\"#b8e186\"],[0.8,\"#7fbc41\"],[0.9,\"#4d9221\"],[1,\"#276419\"]],\"sequential\":[[0.0,\"#0d0887\"],[0.1111111111111111,\"#46039f\"],[0.2222222222222222,\"#7201a8\"],[0.3333333333333333,\"#9c179e\"],[0.4444444444444444,\"#bd3786\"],[0.5555555555555556,\"#d8576b\"],[0.6666666666666666,\"#ed7953\"],[0.7777777777777778,\"#fb9f3a\"],[0.8888888888888888,\"#fdca26\"],[1.0,\"#f0f921\"]],\"sequentialminus\":[[0.0,\"#0d0887\"],[0.1111111111111111,\"#46039f\"],[0.2222222222222222,\"#7201a8\"],[0.3333333333333333,\"#9c179e\"],[0.4444444444444444,\"#bd3786\"],[0.5555555555555556,\"#d8576b\"],[0.6666666666666666,\"#ed7953\"],[0.7777777777777778,\"#fb9f3a\"],[0.8888888888888888,\"#fdca26\"],[1.0,\"#f0f921\"]]},\"colorway\":[\"#636efa\",\"#EF553B\",\"#00cc96\",\"#ab63fa\",\"#FFA15A\",\"#19d3f3\",\"#FF6692\",\"#B6E880\",\"#FF97FF\",\"#FECB52\"],\"font\":{\"color\":\"#2a3f5f\"},\"geo\":{\"bgcolor\":\"white\",\"lakecolor\":\"white\",\"landcolor\":\"white\",\"showlakes\":true,\"showland\":true,\"subunitcolor\":\"#C8D4E3\"},\"hoverlabel\":{\"align\":\"left\"},\"hovermode\":\"closest\",\"mapbox\":{\"style\":\"light\"},\"paper_bgcolor\":\"white\",\"plot_bgcolor\":\"white\",\"polar\":{\"angularaxis\":{\"gridcolor\":\"#EBF0F8\",\"linecolor\":\"#EBF0F8\",\"ticks\":\"\"},\"bgcolor\":\"white\",\"radialaxis\":{\"gridcolor\":\"#EBF0F8\",\"linecolor\":\"#EBF0F8\",\"ticks\":\"\"}},\"scene\":{\"xaxis\":{\"backgroundcolor\":\"white\",\"gridcolor\":\"#DFE8F3\",\"gridwidth\":2,\"linecolor\":\"#EBF0F8\",\"showbackground\":true,\"ticks\":\"\",\"zerolinecolor\":\"#EBF0F8\"},\"yaxis\":{\"backgroundcolor\":\"white\",\"gridcolor\":\"#DFE8F3\",\"gridwidth\":2,\"linecolor\":\"#EBF0F8\",\"showbackground\":true,\"ticks\":\"\",\"zerolinecolor\":\"#EBF0F8\"},\"zaxis\":{\"backgroundcolor\":\"white\",\"gridcolor\":\"#DFE8F3\",\"gridwidth\":2,\"linecolor\":\"#EBF0F8\",\"showbackground\":true,\"ticks\":\"\",\"zerolinecolor\":\"#EBF0F8\"}},\"shapedefaults\":{\"line\":{\"color\":\"#2a3f5f\"}},\"ternary\":{\"aaxis\":{\"gridcolor\":\"#DFE8F3\",\"linecolor\":\"#A2B1C6\",\"ticks\":\"\"},\"baxis\":{\"gridcolor\":\"#DFE8F3\",\"linecolor\":\"#A2B1C6\",\"ticks\":\"\"},\"bgcolor\":\"white\",\"caxis\":{\"gridcolor\":\"#DFE8F3\",\"linecolor\":\"#A2B1C6\",\"ticks\":\"\"}},\"title\":{\"x\":0.05},\"xaxis\":{\"automargin\":true,\"gridcolor\":\"#EBF0F8\",\"linecolor\":\"#EBF0F8\",\"ticks\":\"\",\"title\":{\"standoff\":15},\"zerolinecolor\":\"#EBF0F8\",\"zerolinewidth\":2},\"yaxis\":{\"automargin\":true,\"gridcolor\":\"#EBF0F8\",\"linecolor\":\"#EBF0F8\",\"ticks\":\"\",\"title\":{\"standoff\":15},\"zerolinecolor\":\"#EBF0F8\",\"zerolinewidth\":2}}},\"xaxis\":{\"anchor\":\"y\",\"domain\":[0.0,0.94],\"title\":{\"font\":{\"size\":18},\"text\":\"$\\\\text{Threshold } \\\\tau$\"},\"showgrid\":true,\"tickvals\":[0,0.08,0.2,0.3]},\"yaxis\":{\"anchor\":\"x\",\"domain\":[0.0,1.0],\"title\":{\"text\":\"Number of Edges\"}},\"yaxis2\":{\"anchor\":\"x\",\"overlaying\":\"y\",\"side\":\"right\",\"title\":{\"text\":\"AUC\"},\"showgrid\":false,\"nticks\":6,\"zeroline\":false},\"legend\":{\"y\":-0.58,\"x\":0.8,\"orientation\":\"h\",\"xanchor\":\"center\",\"yanchor\":\"bottom\"},\"margin\":{\"l\":10,\"r\":10,\"b\":0,\"t\":25,\"pad\":0},\"font\":{\"family\":\"Serif\",\"size\":18},\"title\":{\"text\":\"\"},\"autosize\":true,\"width\":600,\"height\":200,\"annotations\":[{\"showarrow\":false,\"text\":\"CASTLE\",\"x\":0.02,\"xref\":\"paper\",\"y\":-0.225,\"yref\":\"paper\",\"yshift\":0},{\"ax\":0,\"ay\":112,\"showarrow\":true,\"text\":\"0.08\",\"x\":0.08,\"xref\":\"x\",\"y\":0.8556,\"yref\":\"y2\",\"yshift\":0},{\"ax\":280,\"ay\":0,\"showarrow\":true,\"text\":\"0.86\",\"x\":0.08,\"xref\":\"x\",\"y\":0.8556,\"yref\":\"y2\",\"yshift\":0},{\"ax\":-160,\"ay\":0,\"showarrow\":true,\"text\":\"46\",\"x\":0.08,\"xref\":\"x\",\"y\":46.2,\"yref\":\"y\",\"yshift\":0}]},                        {\"responsive\": true}                    ).then(function(){\n",
       "                            \n",
       "var gd = document.getElementById('fd707fe4-fc8a-40d4-b2e7-7ad353d03356');\n",
       "var x = new MutationObserver(function (mutations, observer) {{\n",
       "        var display = window.getComputedStyle(gd).display;\n",
       "        if (!display || display === 'none') {{\n",
       "            console.log([gd, 'removed!']);\n",
       "            Plotly.purge(gd);\n",
       "            observer.disconnect();\n",
       "        }}\n",
       "}});\n",
       "\n",
       "// Listen for the removal of the full notebook cells\n",
       "var notebookContainer = gd.closest('#notebook-container');\n",
       "if (notebookContainer) {{\n",
       "    x.observe(notebookContainer, {childList: true});\n",
       "}}\n",
       "\n",
       "// Listen for the clearing of the current output cell\n",
       "var outputEl = gd.closest('.output');\n",
       "if (outputEl) {{\n",
       "    x.observe(outputEl, {childList: true});\n",
       "}}\n",
       "\n",
       "                        })                };                });            </script>        </div>"
      ]
     },
     "metadata": {},
     "output_type": "display_data"
    }
   ],
   "source": [
    "version = 'adult_fulltest'\n",
    "metric = 'auc'\n",
    "\n",
    "agg_stats = collect_results(version=version, metric=metric, dsets='100000', res_folder=results_folder, mat_folder=mats_folder)\n",
    "\n",
    "sub = -0.09\n",
    "agg_stats.loc[agg_stats['theta']==-1,'theta'] = sub\n",
    "\n",
    "filter_theta = 0.6\n",
    "filter_list = [0.2,0.24]\n",
    "agg_stats = agg_stats[(agg_stats['theta']<=filter_theta) & (~agg_stats['theta'].isin(filter_list))]\n",
    "display(agg_stats)\n",
    "\n",
    "### Plot results\n",
    "fig = plot_ly_lines(agg_stats,'auc', height=200)\n",
    "\n",
    "fig.update_layout(\n",
    "    legend={\n",
    "        'y':-0.58,\n",
    "        'x':0.8,\n",
    "        'orientation':\"h\",\n",
    "        'xanchor': 'center',\n",
    "        'yanchor': 'bottom'},\n",
    "    font=dict(\n",
    "        family='Serif',#\"Courier New, monospace\",\n",
    "        size=18,\n",
    "        # color=\"Black\"\n",
    "    ) ,\n",
    "    margin=dict(\n",
    "            l=10,\n",
    "            r=10,\n",
    "            b=0,\n",
    "            t=25,\n",
    "            pad=0\n",
    "            ),   \n",
    ")\n",
    "\n",
    "# Set x-axis title\n",
    "fig.update_xaxes(showgrid=True,title={'text':r'$\\text{Threshold } \\tau$','font':{'size':18#, 'family': 'Courier New, monospace',\n",
    "}},tickvals=[a for sub in [[0,0.08],list(np.round(np.arange(0.15, max(agg_stats['theta']), 0.15),1))] for a in sub],\n",
    ")\n",
    "\n",
    "fig.add_annotation(x=0.02, y=-0.225,\n",
    "            text=\"CASTLE\",\n",
    "            showarrow=False,\n",
    "            yshift=0,\n",
    "            xref='paper',\n",
    "            yref='paper',)\n",
    "\n",
    "chosen_tau=0.08\n",
    "\n",
    "fig.add_annotation(x=chosen_tau, y=0.8556,\n",
    "            text=str(chosen_tau),\n",
    "            showarrow=True,\n",
    "            yshift=0,\n",
    "            xref='x',ax=0,\n",
    "            yref='y2',ay=112#172\n",
    "            )\n",
    "fig.add_annotation(x=chosen_tau, y=0.8556,\n",
    "            text=str(0.86),\n",
    "            showarrow=True,\n",
    "            yshift=0,\n",
    "            xref='x',ax=280,\n",
    "            yref='y2',ay=0)\n",
    "fig.add_annotation(x=chosen_tau, y=46.2,\n",
    "            text=str(46),\n",
    "            showarrow=True,\n",
    "            yshift=0,\n",
    "            xref='x',ax=-160,\n",
    "            yref='y',ay=0)\n",
    "\n",
    "fig.show()\n",
    "\n",
    "if not os.path.exists(output_folder):\n",
    "    os.mkdir(output_folder)\n",
    "\n",
    "out_path = os.path.join(output_folder,f\"plot_tauoptim_{version}.png\")\n",
    "\n",
    "if save_figs:\n",
    "    import kaleido\n",
    "    fig.write_image(out_path)"
   ]
  },
  {
   "cell_type": "markdown",
   "metadata": {},
   "source": [
    "### Boston"
   ]
  },
  {
   "cell_type": "code",
   "execution_count": 83,
   "metadata": {},
   "outputs": [],
   "source": [
    "rerun_boston_optim = False\n",
    "if rerun_boston_optim:\n",
    "    %run -i main_realdata.py --version=\"boston\" "
   ]
  },
  {
   "cell_type": "code",
   "execution_count": 84,
   "metadata": {
    "tags": []
   },
   "outputs": [
    {
     "data": {
      "text/html": [
       "<div>\n",
       "<style scoped>\n",
       "    .dataframe tbody tr th:only-of-type {\n",
       "        vertical-align: middle;\n",
       "    }\n",
       "\n",
       "    .dataframe tbody tr th {\n",
       "        vertical-align: top;\n",
       "    }\n",
       "\n",
       "    .dataframe thead th {\n",
       "        text-align: right;\n",
       "    }\n",
       "</style>\n",
       "<table border=\"1\" class=\"dataframe\">\n",
       "  <thead>\n",
       "    <tr style=\"text-align: right;\">\n",
       "      <th></th>\n",
       "      <th>theta</th>\n",
       "      <th>count</th>\n",
       "      <th>folds</th>\n",
       "      <th>accuracy_mean</th>\n",
       "      <th>accuracy_std</th>\n",
       "      <th>N_edges</th>\n",
       "      <th>Std</th>\n",
       "    </tr>\n",
       "  </thead>\n",
       "  <tbody>\n",
       "    <tr>\n",
       "      <th>0</th>\n",
       "      <td>-0.170</td>\n",
       "      <td>25</td>\n",
       "      <td>5</td>\n",
       "      <td>22.231392</td>\n",
       "      <td>7.387012</td>\n",
       "      <td>182.000000</td>\n",
       "      <td>0.000000</td>\n",
       "    </tr>\n",
       "    <tr>\n",
       "      <th>1</th>\n",
       "      <td>0.000</td>\n",
       "      <td>25</td>\n",
       "      <td>5</td>\n",
       "      <td>18.507690</td>\n",
       "      <td>7.042780</td>\n",
       "      <td>91.000000</td>\n",
       "      <td>0.000000</td>\n",
       "    </tr>\n",
       "    <tr>\n",
       "      <th>15</th>\n",
       "      <td>0.037</td>\n",
       "      <td>10</td>\n",
       "      <td>5</td>\n",
       "      <td>16.818329</td>\n",
       "      <td>6.783890</td>\n",
       "      <td>90.500000</td>\n",
       "      <td>0.527046</td>\n",
       "    </tr>\n",
       "    <tr>\n",
       "      <th>16</th>\n",
       "      <td>0.066</td>\n",
       "      <td>25</td>\n",
       "      <td>5</td>\n",
       "      <td>18.437362</td>\n",
       "      <td>6.868943</td>\n",
       "      <td>86.000000</td>\n",
       "      <td>1.290994</td>\n",
       "    </tr>\n",
       "    <tr>\n",
       "      <th>17</th>\n",
       "      <td>0.132</td>\n",
       "      <td>25</td>\n",
       "      <td>5</td>\n",
       "      <td>20.363651</td>\n",
       "      <td>5.233823</td>\n",
       "      <td>47.800000</td>\n",
       "      <td>7.942502</td>\n",
       "    </tr>\n",
       "    <tr>\n",
       "      <th>18</th>\n",
       "      <td>0.198</td>\n",
       "      <td>25</td>\n",
       "      <td>5</td>\n",
       "      <td>40.765085</td>\n",
       "      <td>27.205065</td>\n",
       "      <td>32.800000</td>\n",
       "      <td>8.098354</td>\n",
       "    </tr>\n",
       "    <tr>\n",
       "      <th>19</th>\n",
       "      <td>0.264</td>\n",
       "      <td>25</td>\n",
       "      <td>5</td>\n",
       "      <td>41.876700</td>\n",
       "      <td>27.307922</td>\n",
       "      <td>23.000000</td>\n",
       "      <td>6.390097</td>\n",
       "    </tr>\n",
       "    <tr>\n",
       "      <th>20</th>\n",
       "      <td>0.330</td>\n",
       "      <td>25</td>\n",
       "      <td>5</td>\n",
       "      <td>62.497449</td>\n",
       "      <td>29.583180</td>\n",
       "      <td>17.000000</td>\n",
       "      <td>5.916080</td>\n",
       "    </tr>\n",
       "    <tr>\n",
       "      <th>21</th>\n",
       "      <td>0.396</td>\n",
       "      <td>25</td>\n",
       "      <td>5</td>\n",
       "      <td>84.998406</td>\n",
       "      <td>12.277859</td>\n",
       "      <td>12.200000</td>\n",
       "      <td>5.416026</td>\n",
       "    </tr>\n",
       "    <tr>\n",
       "      <th>22</th>\n",
       "      <td>0.462</td>\n",
       "      <td>25</td>\n",
       "      <td>5</td>\n",
       "      <td>84.606197</td>\n",
       "      <td>12.862441</td>\n",
       "      <td>9.800000</td>\n",
       "      <td>4.804512</td>\n",
       "    </tr>\n",
       "    <tr>\n",
       "      <th>23</th>\n",
       "      <td>0.528</td>\n",
       "      <td>25</td>\n",
       "      <td>5</td>\n",
       "      <td>84.601992</td>\n",
       "      <td>12.865846</td>\n",
       "      <td>7.800000</td>\n",
       "      <td>4.252450</td>\n",
       "    </tr>\n",
       "    <tr>\n",
       "      <th>24</th>\n",
       "      <td>0.594</td>\n",
       "      <td>15</td>\n",
       "      <td>5</td>\n",
       "      <td>85.127489</td>\n",
       "      <td>3.362446</td>\n",
       "      <td>5.666667</td>\n",
       "      <td>3.415650</td>\n",
       "    </tr>\n",
       "    <tr>\n",
       "      <th>25</th>\n",
       "      <td>0.660</td>\n",
       "      <td>15</td>\n",
       "      <td>5</td>\n",
       "      <td>92.360319</td>\n",
       "      <td>8.356597</td>\n",
       "      <td>6.666667</td>\n",
       "      <td>3.518658</td>\n",
       "    </tr>\n",
       "    <tr>\n",
       "      <th>26</th>\n",
       "      <td>0.726</td>\n",
       "      <td>10</td>\n",
       "      <td>5</td>\n",
       "      <td>93.777601</td>\n",
       "      <td>10.106333</td>\n",
       "      <td>6.500000</td>\n",
       "      <td>0.527046</td>\n",
       "    </tr>\n",
       "    <tr>\n",
       "      <th>27</th>\n",
       "      <td>0.792</td>\n",
       "      <td>15</td>\n",
       "      <td>5</td>\n",
       "      <td>89.775006</td>\n",
       "      <td>10.007312</td>\n",
       "      <td>2.666667</td>\n",
       "      <td>1.290994</td>\n",
       "    </tr>\n",
       "  </tbody>\n",
       "</table>\n",
       "</div>"
      ],
      "text/plain": [
       "    theta  count  folds  accuracy_mean  accuracy_std     N_edges       Std\n",
       "0  -0.170     25      5      22.231392      7.387012  182.000000  0.000000\n",
       "1   0.000     25      5      18.507690      7.042780   91.000000  0.000000\n",
       "15  0.037     10      5      16.818329      6.783890   90.500000  0.527046\n",
       "16  0.066     25      5      18.437362      6.868943   86.000000  1.290994\n",
       "17  0.132     25      5      20.363651      5.233823   47.800000  7.942502\n",
       "18  0.198     25      5      40.765085     27.205065   32.800000  8.098354\n",
       "19  0.264     25      5      41.876700     27.307922   23.000000  6.390097\n",
       "20  0.330     25      5      62.497449     29.583180   17.000000  5.916080\n",
       "21  0.396     25      5      84.998406     12.277859   12.200000  5.416026\n",
       "22  0.462     25      5      84.606197     12.862441    9.800000  4.804512\n",
       "23  0.528     25      5      84.601992     12.865846    7.800000  4.252450\n",
       "24  0.594     15      5      85.127489      3.362446    5.666667  3.415650\n",
       "25  0.660     15      5      92.360319      8.356597    6.666667  3.518658\n",
       "26  0.726     10      5      93.777601     10.106333    6.500000  0.527046\n",
       "27  0.792     15      5      89.775006     10.007312    2.666667  1.290994"
      ]
     },
     "metadata": {},
     "output_type": "display_data"
    },
    {
     "data": {
      "application/vnd.plotly.v1+json": {
       "config": {
        "plotlyServerURL": "https://plot.ly"
       },
       "data": [
        {
         "error_y": {
          "array": [
           7.387011778212339,
           7.042780073563186,
           6.783889825213433,
           6.868942622813242,
           5.233823309639463,
           27.2050648946466,
           27.307922325269054,
           29.5831797422127,
           12.277859208340255,
           12.862440544372042,
           12.865846193946338,
           3.3624461481766983,
           8.356597330489718,
           10.106332926751348,
           10.007311731194303
          ],
          "type": "data",
          "visible": true
         },
         "name": "MSE",
         "type": "scatter",
         "x": [
          -0.17,
          0,
          0.037,
          0.066,
          0.132,
          0.198,
          0.264,
          0.33,
          0.396,
          0.462,
          0.528,
          0.5940000000000001,
          0.66,
          0.726,
          0.792
         ],
         "xaxis": "x",
         "y": [
          22.231392264045418,
          18.507689994985956,
          16.818328777785904,
          18.43736245339708,
          20.36365077742586,
          40.76508476467781,
          41.8767001174468,
          62.49744919922221,
          84.99840569296435,
          84.60619672687682,
          84.60199238831366,
          85.12748922987889,
          92.36031912990858,
          93.77760136325,
          89.77500632386798
         ],
         "yaxis": "y2"
        },
        {
         "error_y": {
          "array": [
           0,
           0,
           0.5270462766947284,
           1.2909944487357985,
           7.942501704962573,
           8.098353742170895,
           6.390096504226937,
           5.916079783099617,
           5.416025603090639,
           4.804511768466525,
           4.252450274057693,
           3.4156502553198664,
           3.518657752744984,
           0.5270462766947299,
           1.2909944487358054
          ],
          "type": "data",
          "visible": true
         },
         "name": "Edges",
         "type": "scatter",
         "x": [
          -0.17,
          0,
          0.037,
          0.066,
          0.132,
          0.198,
          0.264,
          0.33,
          0.396,
          0.462,
          0.528,
          0.5940000000000001,
          0.66,
          0.726,
          0.792
         ],
         "xaxis": "x",
         "y": [
          182,
          91,
          90.5,
          86,
          47.8,
          32.8,
          23,
          17,
          12.2,
          9.8,
          7.8,
          5.666666666666667,
          6.666666666666667,
          6.5,
          2.6666666666666665
         ],
         "yaxis": "y"
        }
       ],
       "layout": {
        "annotations": [
         {
          "showarrow": false,
          "text": "CASTLE",
          "x": 0.02,
          "xref": "paper",
          "y": -0.225,
          "yref": "paper",
          "yshift": 0
         },
         {
          "ax": 0,
          "ay": 0,
          "showarrow": true,
          "text": "0.13",
          "x": 0.13,
          "xref": "x",
          "y": 20.363,
          "yref": "paper",
          "yshift": -149
         },
         {
          "ax": 280,
          "ay": 0,
          "showarrow": true,
          "text": "20.4",
          "x": 0.13,
          "xref": "x",
          "y": 20.363,
          "yref": "y2",
          "yshift": 0
         },
         {
          "ax": -130,
          "ay": 0,
          "showarrow": true,
          "text": "48",
          "x": 0.13,
          "xref": "x",
          "y": 47.8,
          "yref": "y",
          "yshift": 0
         }
        ],
        "autosize": true,
        "font": {
         "family": "Serif",
         "size": 18
        },
        "height": 200,
        "legend": {
         "orientation": "h",
         "x": 0.8,
         "xanchor": "center",
         "y": -0.58,
         "yanchor": "bottom"
        },
        "margin": {
         "b": 0,
         "l": 10,
         "pad": 0,
         "r": 10,
         "t": 25
        },
        "template": {
         "data": {
          "bar": [
           {
            "error_x": {
             "color": "#2a3f5f"
            },
            "error_y": {
             "color": "#2a3f5f"
            },
            "marker": {
             "line": {
              "color": "white",
              "width": 0.5
             },
             "pattern": {
              "fillmode": "overlay",
              "size": 10,
              "solidity": 0.2
             }
            },
            "type": "bar"
           }
          ],
          "barpolar": [
           {
            "marker": {
             "line": {
              "color": "white",
              "width": 0.5
             },
             "pattern": {
              "fillmode": "overlay",
              "size": 10,
              "solidity": 0.2
             }
            },
            "type": "barpolar"
           }
          ],
          "carpet": [
           {
            "aaxis": {
             "endlinecolor": "#2a3f5f",
             "gridcolor": "#C8D4E3",
             "linecolor": "#C8D4E3",
             "minorgridcolor": "#C8D4E3",
             "startlinecolor": "#2a3f5f"
            },
            "baxis": {
             "endlinecolor": "#2a3f5f",
             "gridcolor": "#C8D4E3",
             "linecolor": "#C8D4E3",
             "minorgridcolor": "#C8D4E3",
             "startlinecolor": "#2a3f5f"
            },
            "type": "carpet"
           }
          ],
          "choropleth": [
           {
            "colorbar": {
             "outlinewidth": 0,
             "ticks": ""
            },
            "type": "choropleth"
           }
          ],
          "contour": [
           {
            "colorbar": {
             "outlinewidth": 0,
             "ticks": ""
            },
            "colorscale": [
             [
              0,
              "#0d0887"
             ],
             [
              0.1111111111111111,
              "#46039f"
             ],
             [
              0.2222222222222222,
              "#7201a8"
             ],
             [
              0.3333333333333333,
              "#9c179e"
             ],
             [
              0.4444444444444444,
              "#bd3786"
             ],
             [
              0.5555555555555556,
              "#d8576b"
             ],
             [
              0.6666666666666666,
              "#ed7953"
             ],
             [
              0.7777777777777778,
              "#fb9f3a"
             ],
             [
              0.8888888888888888,
              "#fdca26"
             ],
             [
              1,
              "#f0f921"
             ]
            ],
            "type": "contour"
           }
          ],
          "contourcarpet": [
           {
            "colorbar": {
             "outlinewidth": 0,
             "ticks": ""
            },
            "type": "contourcarpet"
           }
          ],
          "heatmap": [
           {
            "colorbar": {
             "outlinewidth": 0,
             "ticks": ""
            },
            "colorscale": [
             [
              0,
              "#0d0887"
             ],
             [
              0.1111111111111111,
              "#46039f"
             ],
             [
              0.2222222222222222,
              "#7201a8"
             ],
             [
              0.3333333333333333,
              "#9c179e"
             ],
             [
              0.4444444444444444,
              "#bd3786"
             ],
             [
              0.5555555555555556,
              "#d8576b"
             ],
             [
              0.6666666666666666,
              "#ed7953"
             ],
             [
              0.7777777777777778,
              "#fb9f3a"
             ],
             [
              0.8888888888888888,
              "#fdca26"
             ],
             [
              1,
              "#f0f921"
             ]
            ],
            "type": "heatmap"
           }
          ],
          "heatmapgl": [
           {
            "colorbar": {
             "outlinewidth": 0,
             "ticks": ""
            },
            "colorscale": [
             [
              0,
              "#0d0887"
             ],
             [
              0.1111111111111111,
              "#46039f"
             ],
             [
              0.2222222222222222,
              "#7201a8"
             ],
             [
              0.3333333333333333,
              "#9c179e"
             ],
             [
              0.4444444444444444,
              "#bd3786"
             ],
             [
              0.5555555555555556,
              "#d8576b"
             ],
             [
              0.6666666666666666,
              "#ed7953"
             ],
             [
              0.7777777777777778,
              "#fb9f3a"
             ],
             [
              0.8888888888888888,
              "#fdca26"
             ],
             [
              1,
              "#f0f921"
             ]
            ],
            "type": "heatmapgl"
           }
          ],
          "histogram": [
           {
            "marker": {
             "pattern": {
              "fillmode": "overlay",
              "size": 10,
              "solidity": 0.2
             }
            },
            "type": "histogram"
           }
          ],
          "histogram2d": [
           {
            "colorbar": {
             "outlinewidth": 0,
             "ticks": ""
            },
            "colorscale": [
             [
              0,
              "#0d0887"
             ],
             [
              0.1111111111111111,
              "#46039f"
             ],
             [
              0.2222222222222222,
              "#7201a8"
             ],
             [
              0.3333333333333333,
              "#9c179e"
             ],
             [
              0.4444444444444444,
              "#bd3786"
             ],
             [
              0.5555555555555556,
              "#d8576b"
             ],
             [
              0.6666666666666666,
              "#ed7953"
             ],
             [
              0.7777777777777778,
              "#fb9f3a"
             ],
             [
              0.8888888888888888,
              "#fdca26"
             ],
             [
              1,
              "#f0f921"
             ]
            ],
            "type": "histogram2d"
           }
          ],
          "histogram2dcontour": [
           {
            "colorbar": {
             "outlinewidth": 0,
             "ticks": ""
            },
            "colorscale": [
             [
              0,
              "#0d0887"
             ],
             [
              0.1111111111111111,
              "#46039f"
             ],
             [
              0.2222222222222222,
              "#7201a8"
             ],
             [
              0.3333333333333333,
              "#9c179e"
             ],
             [
              0.4444444444444444,
              "#bd3786"
             ],
             [
              0.5555555555555556,
              "#d8576b"
             ],
             [
              0.6666666666666666,
              "#ed7953"
             ],
             [
              0.7777777777777778,
              "#fb9f3a"
             ],
             [
              0.8888888888888888,
              "#fdca26"
             ],
             [
              1,
              "#f0f921"
             ]
            ],
            "type": "histogram2dcontour"
           }
          ],
          "mesh3d": [
           {
            "colorbar": {
             "outlinewidth": 0,
             "ticks": ""
            },
            "type": "mesh3d"
           }
          ],
          "parcoords": [
           {
            "line": {
             "colorbar": {
              "outlinewidth": 0,
              "ticks": ""
             }
            },
            "type": "parcoords"
           }
          ],
          "pie": [
           {
            "automargin": true,
            "type": "pie"
           }
          ],
          "scatter": [
           {
            "marker": {
             "colorbar": {
              "outlinewidth": 0,
              "ticks": ""
             }
            },
            "type": "scatter"
           }
          ],
          "scatter3d": [
           {
            "line": {
             "colorbar": {
              "outlinewidth": 0,
              "ticks": ""
             }
            },
            "marker": {
             "colorbar": {
              "outlinewidth": 0,
              "ticks": ""
             }
            },
            "type": "scatter3d"
           }
          ],
          "scattercarpet": [
           {
            "marker": {
             "colorbar": {
              "outlinewidth": 0,
              "ticks": ""
             }
            },
            "type": "scattercarpet"
           }
          ],
          "scattergeo": [
           {
            "marker": {
             "colorbar": {
              "outlinewidth": 0,
              "ticks": ""
             }
            },
            "type": "scattergeo"
           }
          ],
          "scattergl": [
           {
            "marker": {
             "colorbar": {
              "outlinewidth": 0,
              "ticks": ""
             }
            },
            "type": "scattergl"
           }
          ],
          "scattermapbox": [
           {
            "marker": {
             "colorbar": {
              "outlinewidth": 0,
              "ticks": ""
             }
            },
            "type": "scattermapbox"
           }
          ],
          "scatterpolar": [
           {
            "marker": {
             "colorbar": {
              "outlinewidth": 0,
              "ticks": ""
             }
            },
            "type": "scatterpolar"
           }
          ],
          "scatterpolargl": [
           {
            "marker": {
             "colorbar": {
              "outlinewidth": 0,
              "ticks": ""
             }
            },
            "type": "scatterpolargl"
           }
          ],
          "scatterternary": [
           {
            "marker": {
             "colorbar": {
              "outlinewidth": 0,
              "ticks": ""
             }
            },
            "type": "scatterternary"
           }
          ],
          "surface": [
           {
            "colorbar": {
             "outlinewidth": 0,
             "ticks": ""
            },
            "colorscale": [
             [
              0,
              "#0d0887"
             ],
             [
              0.1111111111111111,
              "#46039f"
             ],
             [
              0.2222222222222222,
              "#7201a8"
             ],
             [
              0.3333333333333333,
              "#9c179e"
             ],
             [
              0.4444444444444444,
              "#bd3786"
             ],
             [
              0.5555555555555556,
              "#d8576b"
             ],
             [
              0.6666666666666666,
              "#ed7953"
             ],
             [
              0.7777777777777778,
              "#fb9f3a"
             ],
             [
              0.8888888888888888,
              "#fdca26"
             ],
             [
              1,
              "#f0f921"
             ]
            ],
            "type": "surface"
           }
          ],
          "table": [
           {
            "cells": {
             "fill": {
              "color": "#EBF0F8"
             },
             "line": {
              "color": "white"
             }
            },
            "header": {
             "fill": {
              "color": "#C8D4E3"
             },
             "line": {
              "color": "white"
             }
            },
            "type": "table"
           }
          ]
         },
         "layout": {
          "annotationdefaults": {
           "arrowcolor": "#2a3f5f",
           "arrowhead": 0,
           "arrowwidth": 1
          },
          "autotypenumbers": "strict",
          "coloraxis": {
           "colorbar": {
            "outlinewidth": 0,
            "ticks": ""
           }
          },
          "colorscale": {
           "diverging": [
            [
             0,
             "#8e0152"
            ],
            [
             0.1,
             "#c51b7d"
            ],
            [
             0.2,
             "#de77ae"
            ],
            [
             0.3,
             "#f1b6da"
            ],
            [
             0.4,
             "#fde0ef"
            ],
            [
             0.5,
             "#f7f7f7"
            ],
            [
             0.6,
             "#e6f5d0"
            ],
            [
             0.7,
             "#b8e186"
            ],
            [
             0.8,
             "#7fbc41"
            ],
            [
             0.9,
             "#4d9221"
            ],
            [
             1,
             "#276419"
            ]
           ],
           "sequential": [
            [
             0,
             "#0d0887"
            ],
            [
             0.1111111111111111,
             "#46039f"
            ],
            [
             0.2222222222222222,
             "#7201a8"
            ],
            [
             0.3333333333333333,
             "#9c179e"
            ],
            [
             0.4444444444444444,
             "#bd3786"
            ],
            [
             0.5555555555555556,
             "#d8576b"
            ],
            [
             0.6666666666666666,
             "#ed7953"
            ],
            [
             0.7777777777777778,
             "#fb9f3a"
            ],
            [
             0.8888888888888888,
             "#fdca26"
            ],
            [
             1,
             "#f0f921"
            ]
           ],
           "sequentialminus": [
            [
             0,
             "#0d0887"
            ],
            [
             0.1111111111111111,
             "#46039f"
            ],
            [
             0.2222222222222222,
             "#7201a8"
            ],
            [
             0.3333333333333333,
             "#9c179e"
            ],
            [
             0.4444444444444444,
             "#bd3786"
            ],
            [
             0.5555555555555556,
             "#d8576b"
            ],
            [
             0.6666666666666666,
             "#ed7953"
            ],
            [
             0.7777777777777778,
             "#fb9f3a"
            ],
            [
             0.8888888888888888,
             "#fdca26"
            ],
            [
             1,
             "#f0f921"
            ]
           ]
          },
          "colorway": [
           "#636efa",
           "#EF553B",
           "#00cc96",
           "#ab63fa",
           "#FFA15A",
           "#19d3f3",
           "#FF6692",
           "#B6E880",
           "#FF97FF",
           "#FECB52"
          ],
          "font": {
           "color": "#2a3f5f"
          },
          "geo": {
           "bgcolor": "white",
           "lakecolor": "white",
           "landcolor": "white",
           "showlakes": true,
           "showland": true,
           "subunitcolor": "#C8D4E3"
          },
          "hoverlabel": {
           "align": "left"
          },
          "hovermode": "closest",
          "mapbox": {
           "style": "light"
          },
          "paper_bgcolor": "white",
          "plot_bgcolor": "white",
          "polar": {
           "angularaxis": {
            "gridcolor": "#EBF0F8",
            "linecolor": "#EBF0F8",
            "ticks": ""
           },
           "bgcolor": "white",
           "radialaxis": {
            "gridcolor": "#EBF0F8",
            "linecolor": "#EBF0F8",
            "ticks": ""
           }
          },
          "scene": {
           "xaxis": {
            "backgroundcolor": "white",
            "gridcolor": "#DFE8F3",
            "gridwidth": 2,
            "linecolor": "#EBF0F8",
            "showbackground": true,
            "ticks": "",
            "zerolinecolor": "#EBF0F8"
           },
           "yaxis": {
            "backgroundcolor": "white",
            "gridcolor": "#DFE8F3",
            "gridwidth": 2,
            "linecolor": "#EBF0F8",
            "showbackground": true,
            "ticks": "",
            "zerolinecolor": "#EBF0F8"
           },
           "zaxis": {
            "backgroundcolor": "white",
            "gridcolor": "#DFE8F3",
            "gridwidth": 2,
            "linecolor": "#EBF0F8",
            "showbackground": true,
            "ticks": "",
            "zerolinecolor": "#EBF0F8"
           }
          },
          "shapedefaults": {
           "line": {
            "color": "#2a3f5f"
           }
          },
          "ternary": {
           "aaxis": {
            "gridcolor": "#DFE8F3",
            "linecolor": "#A2B1C6",
            "ticks": ""
           },
           "baxis": {
            "gridcolor": "#DFE8F3",
            "linecolor": "#A2B1C6",
            "ticks": ""
           },
           "bgcolor": "white",
           "caxis": {
            "gridcolor": "#DFE8F3",
            "linecolor": "#A2B1C6",
            "ticks": ""
           }
          },
          "title": {
           "x": 0.05
          },
          "xaxis": {
           "automargin": true,
           "gridcolor": "#EBF0F8",
           "linecolor": "#EBF0F8",
           "ticks": "",
           "title": {
            "standoff": 15
           },
           "zerolinecolor": "#EBF0F8",
           "zerolinewidth": 2
          },
          "yaxis": {
           "automargin": true,
           "gridcolor": "#EBF0F8",
           "linecolor": "#EBF0F8",
           "ticks": "",
           "title": {
            "standoff": 15
           },
           "zerolinecolor": "#EBF0F8",
           "zerolinewidth": 2
          }
         }
        },
        "title": {
         "text": ""
        },
        "width": 600,
        "xaxis": {
         "anchor": "y",
         "domain": [
          0,
          0.94
         ],
         "showgrid": true,
         "tickvals": [
          0,
          0.13,
          0.3,
          0.5,
          0.7
         ],
         "title": {
          "font": {
           "size": 18
          },
          "text": "$\\text{Threshold } \\tau$"
         }
        },
        "yaxis": {
         "anchor": "x",
         "domain": [
          0,
          1
         ],
         "title": {
          "text": "Number of Edges"
         }
        },
        "yaxis2": {
         "anchor": "x",
         "nticks": 6,
         "overlaying": "y",
         "showgrid": false,
         "side": "right",
         "title": {
          "text": "MSE"
         },
         "zeroline": false
        }
       }
      },
      "text/html": [
       "<div>                            <div id=\"c7ad303c-e6dc-48fa-8611-005f4a2bcd03\" class=\"plotly-graph-div\" style=\"height:200px; width:600px;\"></div>            <script type=\"text/javascript\">                require([\"plotly\"], function(Plotly) {                    window.PLOTLYENV=window.PLOTLYENV || {};                                    if (document.getElementById(\"c7ad303c-e6dc-48fa-8611-005f4a2bcd03\")) {                    Plotly.newPlot(                        \"c7ad303c-e6dc-48fa-8611-005f4a2bcd03\",                        [{\"error_y\":{\"array\":[7.387011778212339,7.042780073563186,6.783889825213433,6.868942622813242,5.233823309639463,27.2050648946466,27.307922325269054,29.5831797422127,12.277859208340255,12.862440544372042,12.865846193946338,3.3624461481766983,8.356597330489718,10.106332926751348,10.007311731194303],\"type\":\"data\",\"visible\":true},\"name\":\"MSE\",\"x\":[-0.17,0.0,0.037,0.066,0.132,0.198,0.264,0.33,0.396,0.462,0.528,0.5940000000000001,0.66,0.726,0.792],\"y\":[22.231392264045418,18.507689994985956,16.818328777785904,18.43736245339708,20.36365077742586,40.76508476467781,41.8767001174468,62.49744919922221,84.99840569296435,84.60619672687682,84.60199238831366,85.12748922987889,92.36031912990858,93.77760136325,89.77500632386798],\"type\":\"scatter\",\"xaxis\":\"x\",\"yaxis\":\"y2\"},{\"error_y\":{\"array\":[0.0,0.0,0.5270462766947284,1.2909944487357985,7.942501704962573,8.098353742170895,6.390096504226937,5.916079783099617,5.416025603090639,4.804511768466525,4.252450274057693,3.4156502553198664,3.518657752744984,0.5270462766947299,1.2909944487358054],\"type\":\"data\",\"visible\":true},\"name\":\"Edges\",\"x\":[-0.17,0.0,0.037,0.066,0.132,0.198,0.264,0.33,0.396,0.462,0.528,0.5940000000000001,0.66,0.726,0.792],\"y\":[182.0,91.0,90.5,86.0,47.8,32.8,23.0,17.0,12.2,9.8,7.8,5.666666666666667,6.666666666666667,6.5,2.6666666666666665],\"type\":\"scatter\",\"xaxis\":\"x\",\"yaxis\":\"y\"}],                        {\"template\":{\"data\":{\"barpolar\":[{\"marker\":{\"line\":{\"color\":\"white\",\"width\":0.5},\"pattern\":{\"fillmode\":\"overlay\",\"size\":10,\"solidity\":0.2}},\"type\":\"barpolar\"}],\"bar\":[{\"error_x\":{\"color\":\"#2a3f5f\"},\"error_y\":{\"color\":\"#2a3f5f\"},\"marker\":{\"line\":{\"color\":\"white\",\"width\":0.5},\"pattern\":{\"fillmode\":\"overlay\",\"size\":10,\"solidity\":0.2}},\"type\":\"bar\"}],\"carpet\":[{\"aaxis\":{\"endlinecolor\":\"#2a3f5f\",\"gridcolor\":\"#C8D4E3\",\"linecolor\":\"#C8D4E3\",\"minorgridcolor\":\"#C8D4E3\",\"startlinecolor\":\"#2a3f5f\"},\"baxis\":{\"endlinecolor\":\"#2a3f5f\",\"gridcolor\":\"#C8D4E3\",\"linecolor\":\"#C8D4E3\",\"minorgridcolor\":\"#C8D4E3\",\"startlinecolor\":\"#2a3f5f\"},\"type\":\"carpet\"}],\"choropleth\":[{\"colorbar\":{\"outlinewidth\":0,\"ticks\":\"\"},\"type\":\"choropleth\"}],\"contourcarpet\":[{\"colorbar\":{\"outlinewidth\":0,\"ticks\":\"\"},\"type\":\"contourcarpet\"}],\"contour\":[{\"colorbar\":{\"outlinewidth\":0,\"ticks\":\"\"},\"colorscale\":[[0.0,\"#0d0887\"],[0.1111111111111111,\"#46039f\"],[0.2222222222222222,\"#7201a8\"],[0.3333333333333333,\"#9c179e\"],[0.4444444444444444,\"#bd3786\"],[0.5555555555555556,\"#d8576b\"],[0.6666666666666666,\"#ed7953\"],[0.7777777777777778,\"#fb9f3a\"],[0.8888888888888888,\"#fdca26\"],[1.0,\"#f0f921\"]],\"type\":\"contour\"}],\"heatmapgl\":[{\"colorbar\":{\"outlinewidth\":0,\"ticks\":\"\"},\"colorscale\":[[0.0,\"#0d0887\"],[0.1111111111111111,\"#46039f\"],[0.2222222222222222,\"#7201a8\"],[0.3333333333333333,\"#9c179e\"],[0.4444444444444444,\"#bd3786\"],[0.5555555555555556,\"#d8576b\"],[0.6666666666666666,\"#ed7953\"],[0.7777777777777778,\"#fb9f3a\"],[0.8888888888888888,\"#fdca26\"],[1.0,\"#f0f921\"]],\"type\":\"heatmapgl\"}],\"heatmap\":[{\"colorbar\":{\"outlinewidth\":0,\"ticks\":\"\"},\"colorscale\":[[0.0,\"#0d0887\"],[0.1111111111111111,\"#46039f\"],[0.2222222222222222,\"#7201a8\"],[0.3333333333333333,\"#9c179e\"],[0.4444444444444444,\"#bd3786\"],[0.5555555555555556,\"#d8576b\"],[0.6666666666666666,\"#ed7953\"],[0.7777777777777778,\"#fb9f3a\"],[0.8888888888888888,\"#fdca26\"],[1.0,\"#f0f921\"]],\"type\":\"heatmap\"}],\"histogram2dcontour\":[{\"colorbar\":{\"outlinewidth\":0,\"ticks\":\"\"},\"colorscale\":[[0.0,\"#0d0887\"],[0.1111111111111111,\"#46039f\"],[0.2222222222222222,\"#7201a8\"],[0.3333333333333333,\"#9c179e\"],[0.4444444444444444,\"#bd3786\"],[0.5555555555555556,\"#d8576b\"],[0.6666666666666666,\"#ed7953\"],[0.7777777777777778,\"#fb9f3a\"],[0.8888888888888888,\"#fdca26\"],[1.0,\"#f0f921\"]],\"type\":\"histogram2dcontour\"}],\"histogram2d\":[{\"colorbar\":{\"outlinewidth\":0,\"ticks\":\"\"},\"colorscale\":[[0.0,\"#0d0887\"],[0.1111111111111111,\"#46039f\"],[0.2222222222222222,\"#7201a8\"],[0.3333333333333333,\"#9c179e\"],[0.4444444444444444,\"#bd3786\"],[0.5555555555555556,\"#d8576b\"],[0.6666666666666666,\"#ed7953\"],[0.7777777777777778,\"#fb9f3a\"],[0.8888888888888888,\"#fdca26\"],[1.0,\"#f0f921\"]],\"type\":\"histogram2d\"}],\"histogram\":[{\"marker\":{\"pattern\":{\"fillmode\":\"overlay\",\"size\":10,\"solidity\":0.2}},\"type\":\"histogram\"}],\"mesh3d\":[{\"colorbar\":{\"outlinewidth\":0,\"ticks\":\"\"},\"type\":\"mesh3d\"}],\"parcoords\":[{\"line\":{\"colorbar\":{\"outlinewidth\":0,\"ticks\":\"\"}},\"type\":\"parcoords\"}],\"pie\":[{\"automargin\":true,\"type\":\"pie\"}],\"scatter3d\":[{\"line\":{\"colorbar\":{\"outlinewidth\":0,\"ticks\":\"\"}},\"marker\":{\"colorbar\":{\"outlinewidth\":0,\"ticks\":\"\"}},\"type\":\"scatter3d\"}],\"scattercarpet\":[{\"marker\":{\"colorbar\":{\"outlinewidth\":0,\"ticks\":\"\"}},\"type\":\"scattercarpet\"}],\"scattergeo\":[{\"marker\":{\"colorbar\":{\"outlinewidth\":0,\"ticks\":\"\"}},\"type\":\"scattergeo\"}],\"scattergl\":[{\"marker\":{\"colorbar\":{\"outlinewidth\":0,\"ticks\":\"\"}},\"type\":\"scattergl\"}],\"scattermapbox\":[{\"marker\":{\"colorbar\":{\"outlinewidth\":0,\"ticks\":\"\"}},\"type\":\"scattermapbox\"}],\"scatterpolargl\":[{\"marker\":{\"colorbar\":{\"outlinewidth\":0,\"ticks\":\"\"}},\"type\":\"scatterpolargl\"}],\"scatterpolar\":[{\"marker\":{\"colorbar\":{\"outlinewidth\":0,\"ticks\":\"\"}},\"type\":\"scatterpolar\"}],\"scatter\":[{\"marker\":{\"colorbar\":{\"outlinewidth\":0,\"ticks\":\"\"}},\"type\":\"scatter\"}],\"scatterternary\":[{\"marker\":{\"colorbar\":{\"outlinewidth\":0,\"ticks\":\"\"}},\"type\":\"scatterternary\"}],\"surface\":[{\"colorbar\":{\"outlinewidth\":0,\"ticks\":\"\"},\"colorscale\":[[0.0,\"#0d0887\"],[0.1111111111111111,\"#46039f\"],[0.2222222222222222,\"#7201a8\"],[0.3333333333333333,\"#9c179e\"],[0.4444444444444444,\"#bd3786\"],[0.5555555555555556,\"#d8576b\"],[0.6666666666666666,\"#ed7953\"],[0.7777777777777778,\"#fb9f3a\"],[0.8888888888888888,\"#fdca26\"],[1.0,\"#f0f921\"]],\"type\":\"surface\"}],\"table\":[{\"cells\":{\"fill\":{\"color\":\"#EBF0F8\"},\"line\":{\"color\":\"white\"}},\"header\":{\"fill\":{\"color\":\"#C8D4E3\"},\"line\":{\"color\":\"white\"}},\"type\":\"table\"}]},\"layout\":{\"annotationdefaults\":{\"arrowcolor\":\"#2a3f5f\",\"arrowhead\":0,\"arrowwidth\":1},\"autotypenumbers\":\"strict\",\"coloraxis\":{\"colorbar\":{\"outlinewidth\":0,\"ticks\":\"\"}},\"colorscale\":{\"diverging\":[[0,\"#8e0152\"],[0.1,\"#c51b7d\"],[0.2,\"#de77ae\"],[0.3,\"#f1b6da\"],[0.4,\"#fde0ef\"],[0.5,\"#f7f7f7\"],[0.6,\"#e6f5d0\"],[0.7,\"#b8e186\"],[0.8,\"#7fbc41\"],[0.9,\"#4d9221\"],[1,\"#276419\"]],\"sequential\":[[0.0,\"#0d0887\"],[0.1111111111111111,\"#46039f\"],[0.2222222222222222,\"#7201a8\"],[0.3333333333333333,\"#9c179e\"],[0.4444444444444444,\"#bd3786\"],[0.5555555555555556,\"#d8576b\"],[0.6666666666666666,\"#ed7953\"],[0.7777777777777778,\"#fb9f3a\"],[0.8888888888888888,\"#fdca26\"],[1.0,\"#f0f921\"]],\"sequentialminus\":[[0.0,\"#0d0887\"],[0.1111111111111111,\"#46039f\"],[0.2222222222222222,\"#7201a8\"],[0.3333333333333333,\"#9c179e\"],[0.4444444444444444,\"#bd3786\"],[0.5555555555555556,\"#d8576b\"],[0.6666666666666666,\"#ed7953\"],[0.7777777777777778,\"#fb9f3a\"],[0.8888888888888888,\"#fdca26\"],[1.0,\"#f0f921\"]]},\"colorway\":[\"#636efa\",\"#EF553B\",\"#00cc96\",\"#ab63fa\",\"#FFA15A\",\"#19d3f3\",\"#FF6692\",\"#B6E880\",\"#FF97FF\",\"#FECB52\"],\"font\":{\"color\":\"#2a3f5f\"},\"geo\":{\"bgcolor\":\"white\",\"lakecolor\":\"white\",\"landcolor\":\"white\",\"showlakes\":true,\"showland\":true,\"subunitcolor\":\"#C8D4E3\"},\"hoverlabel\":{\"align\":\"left\"},\"hovermode\":\"closest\",\"mapbox\":{\"style\":\"light\"},\"paper_bgcolor\":\"white\",\"plot_bgcolor\":\"white\",\"polar\":{\"angularaxis\":{\"gridcolor\":\"#EBF0F8\",\"linecolor\":\"#EBF0F8\",\"ticks\":\"\"},\"bgcolor\":\"white\",\"radialaxis\":{\"gridcolor\":\"#EBF0F8\",\"linecolor\":\"#EBF0F8\",\"ticks\":\"\"}},\"scene\":{\"xaxis\":{\"backgroundcolor\":\"white\",\"gridcolor\":\"#DFE8F3\",\"gridwidth\":2,\"linecolor\":\"#EBF0F8\",\"showbackground\":true,\"ticks\":\"\",\"zerolinecolor\":\"#EBF0F8\"},\"yaxis\":{\"backgroundcolor\":\"white\",\"gridcolor\":\"#DFE8F3\",\"gridwidth\":2,\"linecolor\":\"#EBF0F8\",\"showbackground\":true,\"ticks\":\"\",\"zerolinecolor\":\"#EBF0F8\"},\"zaxis\":{\"backgroundcolor\":\"white\",\"gridcolor\":\"#DFE8F3\",\"gridwidth\":2,\"linecolor\":\"#EBF0F8\",\"showbackground\":true,\"ticks\":\"\",\"zerolinecolor\":\"#EBF0F8\"}},\"shapedefaults\":{\"line\":{\"color\":\"#2a3f5f\"}},\"ternary\":{\"aaxis\":{\"gridcolor\":\"#DFE8F3\",\"linecolor\":\"#A2B1C6\",\"ticks\":\"\"},\"baxis\":{\"gridcolor\":\"#DFE8F3\",\"linecolor\":\"#A2B1C6\",\"ticks\":\"\"},\"bgcolor\":\"white\",\"caxis\":{\"gridcolor\":\"#DFE8F3\",\"linecolor\":\"#A2B1C6\",\"ticks\":\"\"}},\"title\":{\"x\":0.05},\"xaxis\":{\"automargin\":true,\"gridcolor\":\"#EBF0F8\",\"linecolor\":\"#EBF0F8\",\"ticks\":\"\",\"title\":{\"standoff\":15},\"zerolinecolor\":\"#EBF0F8\",\"zerolinewidth\":2},\"yaxis\":{\"automargin\":true,\"gridcolor\":\"#EBF0F8\",\"linecolor\":\"#EBF0F8\",\"ticks\":\"\",\"title\":{\"standoff\":15},\"zerolinecolor\":\"#EBF0F8\",\"zerolinewidth\":2}}},\"xaxis\":{\"anchor\":\"y\",\"domain\":[0.0,0.94],\"title\":{\"font\":{\"size\":18},\"text\":\"$\\\\text{Threshold } \\\\tau$\"},\"showgrid\":true,\"tickvals\":[0,0.13,0.3,0.5,0.7]},\"yaxis\":{\"anchor\":\"x\",\"domain\":[0.0,1.0],\"title\":{\"text\":\"Number of Edges\"}},\"yaxis2\":{\"anchor\":\"x\",\"overlaying\":\"y\",\"side\":\"right\",\"title\":{\"text\":\"MSE\"},\"showgrid\":false,\"nticks\":6,\"zeroline\":false},\"legend\":{\"y\":-0.58,\"x\":0.8,\"orientation\":\"h\",\"xanchor\":\"center\",\"yanchor\":\"bottom\"},\"margin\":{\"l\":10,\"r\":10,\"b\":0,\"t\":25,\"pad\":0},\"font\":{\"family\":\"Serif\",\"size\":18},\"title\":{\"text\":\"\"},\"autosize\":true,\"width\":600,\"height\":200,\"annotations\":[{\"showarrow\":false,\"text\":\"CASTLE\",\"x\":0.02,\"xref\":\"paper\",\"y\":-0.225,\"yref\":\"paper\",\"yshift\":0},{\"ax\":0,\"ay\":0,\"showarrow\":true,\"text\":\"0.13\",\"x\":0.13,\"xref\":\"x\",\"y\":20.363,\"yref\":\"paper\",\"yshift\":-149},{\"ax\":280,\"ay\":0,\"showarrow\":true,\"text\":\"20.4\",\"x\":0.13,\"xref\":\"x\",\"y\":20.363,\"yref\":\"y2\",\"yshift\":0},{\"ax\":-130,\"ay\":0,\"showarrow\":true,\"text\":\"48\",\"x\":0.13,\"xref\":\"x\",\"y\":47.8,\"yref\":\"y\",\"yshift\":0}]},                        {\"responsive\": true}                    ).then(function(){\n",
       "                            \n",
       "var gd = document.getElementById('c7ad303c-e6dc-48fa-8611-005f4a2bcd03');\n",
       "var x = new MutationObserver(function (mutations, observer) {{\n",
       "        var display = window.getComputedStyle(gd).display;\n",
       "        if (!display || display === 'none') {{\n",
       "            console.log([gd, 'removed!']);\n",
       "            Plotly.purge(gd);\n",
       "            observer.disconnect();\n",
       "        }}\n",
       "}});\n",
       "\n",
       "// Listen for the removal of the full notebook cells\n",
       "var notebookContainer = gd.closest('#notebook-container');\n",
       "if (notebookContainer) {{\n",
       "    x.observe(notebookContainer, {childList: true});\n",
       "}}\n",
       "\n",
       "// Listen for the clearing of the current output cell\n",
       "var outputEl = gd.closest('.output');\n",
       "if (outputEl) {{\n",
       "    x.observe(outputEl, {childList: true});\n",
       "}}\n",
       "\n",
       "                        })                };                });            </script>        </div>"
      ]
     },
     "metadata": {},
     "output_type": "display_data"
    }
   ],
   "source": [
    "version = 'boston'\n",
    "metric = 'MSE'\n",
    "\n",
    "agg_stats = collect_results(version=version, metric=metric, dsets='100000', res_folder=results_folder, mat_folder=mats_folder)\n",
    "\n",
    "sub = -0.17\n",
    "agg_stats.loc[agg_stats['theta']==-1,'theta'] = sub\n",
    "\n",
    "filter_theta = 0.8\n",
    "filter_list = []\n",
    "agg_stats = agg_stats[(agg_stats['theta']<=filter_theta) & (~round(agg_stats['theta'],3).isin(filter_list))]\n",
    "display(agg_stats)\n",
    "\n",
    "### Plot results\n",
    "fig = plot_ly_lines(agg_stats,'MSE',height=200)\n",
    "\n",
    "fig.update_layout(\n",
    "    legend={\n",
    "        'y':-0.58,\n",
    "        'x':0.8,\n",
    "        'orientation':\"h\",\n",
    "        'xanchor': 'center',\n",
    "        'yanchor': 'bottom'},\n",
    "    font=dict(\n",
    "        family='Serif',#\"Courier New, monospace\",\n",
    "        size=18,\n",
    "        # color=\"Black\"\n",
    "    ) ,\n",
    "    margin=dict(\n",
    "            l=10,\n",
    "            r=10,\n",
    "            b=0,\n",
    "            t=25,\n",
    "            pad=0\n",
    "            ),   \n",
    ")\n",
    "# Set x-axis title\n",
    "fig.update_xaxes(showgrid=True,title={'text':r'$\\text{Threshold } \\tau$','font':{'size':18#, 'family': 'Courier New, monospace',\n",
    "}},tickvals=[a for sub in [[0,0.13],list(np.round(np.arange(0.3, max(agg_stats['theta']), 0.2),1))] for a in sub],\n",
    ")\n",
    "\n",
    "fig.add_annotation(x=0.02, y=-0.225,\n",
    "            text=\"CASTLE\",\n",
    "            showarrow=False,\n",
    "            yshift=0,\n",
    "            xref='paper',\n",
    "            yref='paper',)\n",
    "            \n",
    "chosen_tau=0.13\n",
    "\n",
    "fig.add_annotation(x=chosen_tau, y=20.363,\n",
    "            text=str(chosen_tau),\n",
    "            showarrow=True,\n",
    "            yshift=-149,#-202,\n",
    "            xref='x',ax=0,\n",
    "            yref='paper',ay=0)\n",
    "fig.add_annotation(x=chosen_tau, y=20.363,\n",
    "            text=str(20.4),\n",
    "            showarrow=True,\n",
    "            yshift=0,\n",
    "            xref='x',ax=280,\n",
    "            yref='y2',ay=0)\n",
    "fig.add_annotation(x=chosen_tau, y=47.8,\n",
    "            text=str(48),\n",
    "            showarrow=True,\n",
    "            yshift=0,\n",
    "            xref='x',ax=-130,\n",
    "            yref='y',ay=0)\n",
    "            \n",
    "fig.show()\n",
    "\n",
    "if not os.path.exists(output_folder):\n",
    "    os.mkdir(output_folder)\n",
    "\n",
    "out_path = os.path.join(output_folder,f\"plot_tauoptim_{version}.png\")\n",
    "\n",
    "if save_figs:\n",
    "    import kaleido\n",
    "    fig.write_image(out_path)"
   ]
  },
  {
   "cell_type": "markdown",
   "metadata": {},
   "source": [
    "### Cali"
   ]
  },
  {
   "cell_type": "code",
   "execution_count": 85,
   "metadata": {},
   "outputs": [],
   "source": [
    "rerun_cali_optim = False\n",
    "if rerun_cali_optim:\n",
    "    ## First run - broader\n",
    "    %run -i main_realdata.py --version=cali\n",
    "    ## Second run\n",
    "    %run -i main_realdata.py --version=cali --theta_interval=False --thetas='0.35','0.5'\n",
    "\n"
   ]
  },
  {
   "cell_type": "code",
   "execution_count": 86,
   "metadata": {},
   "outputs": [
    {
     "data": {
      "text/html": [
       "<div>\n",
       "<style scoped>\n",
       "    .dataframe tbody tr th:only-of-type {\n",
       "        vertical-align: middle;\n",
       "    }\n",
       "\n",
       "    .dataframe tbody tr th {\n",
       "        vertical-align: top;\n",
       "    }\n",
       "\n",
       "    .dataframe thead th {\n",
       "        text-align: right;\n",
       "    }\n",
       "</style>\n",
       "<table border=\"1\" class=\"dataframe\">\n",
       "  <thead>\n",
       "    <tr style=\"text-align: right;\">\n",
       "      <th></th>\n",
       "      <th>theta</th>\n",
       "      <th>count</th>\n",
       "      <th>folds</th>\n",
       "      <th>accuracy_mean</th>\n",
       "      <th>accuracy_std</th>\n",
       "      <th>N_edges</th>\n",
       "      <th>Std</th>\n",
       "    </tr>\n",
       "  </thead>\n",
       "  <tbody>\n",
       "    <tr>\n",
       "      <th>0</th>\n",
       "      <td>-0.500</td>\n",
       "      <td>25</td>\n",
       "      <td>5</td>\n",
       "      <td>0.662208</td>\n",
       "      <td>0.081241</td>\n",
       "      <td>72.00</td>\n",
       "      <td>0.000000</td>\n",
       "    </tr>\n",
       "    <tr>\n",
       "      <th>1</th>\n",
       "      <td>0.000</td>\n",
       "      <td>25</td>\n",
       "      <td>5</td>\n",
       "      <td>1.062381</td>\n",
       "      <td>0.312212</td>\n",
       "      <td>36.00</td>\n",
       "      <td>0.000000</td>\n",
       "    </tr>\n",
       "    <tr>\n",
       "      <th>2</th>\n",
       "      <td>0.050</td>\n",
       "      <td>25</td>\n",
       "      <td>5</td>\n",
       "      <td>1.018462</td>\n",
       "      <td>0.348869</td>\n",
       "      <td>30.60</td>\n",
       "      <td>2.929733</td>\n",
       "    </tr>\n",
       "    <tr>\n",
       "      <th>4</th>\n",
       "      <td>0.150</td>\n",
       "      <td>25</td>\n",
       "      <td>5</td>\n",
       "      <td>1.049525</td>\n",
       "      <td>0.365987</td>\n",
       "      <td>23.40</td>\n",
       "      <td>0.816497</td>\n",
       "    </tr>\n",
       "    <tr>\n",
       "      <th>9</th>\n",
       "      <td>0.350</td>\n",
       "      <td>25</td>\n",
       "      <td>5</td>\n",
       "      <td>1.081789</td>\n",
       "      <td>0.323505</td>\n",
       "      <td>18.40</td>\n",
       "      <td>1.527525</td>\n",
       "    </tr>\n",
       "    <tr>\n",
       "      <th>13</th>\n",
       "      <td>0.500</td>\n",
       "      <td>25</td>\n",
       "      <td>5</td>\n",
       "      <td>1.083272</td>\n",
       "      <td>0.321736</td>\n",
       "      <td>16.80</td>\n",
       "      <td>1.500000</td>\n",
       "    </tr>\n",
       "    <tr>\n",
       "      <th>20</th>\n",
       "      <td>0.752</td>\n",
       "      <td>20</td>\n",
       "      <td>5</td>\n",
       "      <td>1.174837</td>\n",
       "      <td>0.294267</td>\n",
       "      <td>14.25</td>\n",
       "      <td>0.850696</td>\n",
       "    </tr>\n",
       "    <tr>\n",
       "      <th>25</th>\n",
       "      <td>0.950</td>\n",
       "      <td>15</td>\n",
       "      <td>5</td>\n",
       "      <td>1.339808</td>\n",
       "      <td>0.030016</td>\n",
       "      <td>11.00</td>\n",
       "      <td>2.236068</td>\n",
       "    </tr>\n",
       "    <tr>\n",
       "      <th>27</th>\n",
       "      <td>1.316</td>\n",
       "      <td>20</td>\n",
       "      <td>5</td>\n",
       "      <td>1.339957</td>\n",
       "      <td>0.023627</td>\n",
       "      <td>8.75</td>\n",
       "      <td>1.681947</td>\n",
       "    </tr>\n",
       "    <tr>\n",
       "      <th>29</th>\n",
       "      <td>1.692</td>\n",
       "      <td>25</td>\n",
       "      <td>5</td>\n",
       "      <td>1.331741</td>\n",
       "      <td>0.026890</td>\n",
       "      <td>6.20</td>\n",
       "      <td>1.000000</td>\n",
       "    </tr>\n",
       "  </tbody>\n",
       "</table>\n",
       "</div>"
      ],
      "text/plain": [
       "    theta  count  folds  accuracy_mean  accuracy_std  N_edges       Std\n",
       "0  -0.500     25      5       0.662208      0.081241    72.00  0.000000\n",
       "1   0.000     25      5       1.062381      0.312212    36.00  0.000000\n",
       "2   0.050     25      5       1.018462      0.348869    30.60  2.929733\n",
       "4   0.150     25      5       1.049525      0.365987    23.40  0.816497\n",
       "9   0.350     25      5       1.081789      0.323505    18.40  1.527525\n",
       "13  0.500     25      5       1.083272      0.321736    16.80  1.500000\n",
       "20  0.752     20      5       1.174837      0.294267    14.25  0.850696\n",
       "25  0.950     15      5       1.339808      0.030016    11.00  2.236068\n",
       "27  1.316     20      5       1.339957      0.023627     8.75  1.681947\n",
       "29  1.692     25      5       1.331741      0.026890     6.20  1.000000"
      ]
     },
     "metadata": {},
     "output_type": "display_data"
    },
    {
     "data": {
      "application/vnd.plotly.v1+json": {
       "config": {
        "plotlyServerURL": "https://plot.ly"
       },
       "data": [
        {
         "error_y": {
          "array": [
           0.08124133455302959,
           0.31221185761932635,
           0.3488693949671982,
           0.36598715573747276,
           0.32350461669607095,
           0.32173570592623957,
           0.29426735954701816,
           0.0300155281808635,
           0.023626780248184244,
           0.02688986900602854
          ],
          "type": "data",
          "visible": true
         },
         "name": "MSE",
         "type": "scatter",
         "x": [
          -0.5,
          0,
          0.05,
          0.15,
          0.35,
          0.5,
          0.752,
          0.95,
          1.316,
          1.692
         ],
         "xaxis": "x",
         "y": [
          0.6622075161669811,
          1.0623806684742696,
          1.0184620580426451,
          1.049525359524898,
          1.0817885939317227,
          1.0832717585997775,
          1.1748369498034168,
          1.3398076970417623,
          1.3399569522889117,
          1.3317408926283338
         ],
         "yaxis": "y2"
        },
        {
         "error_y": {
          "array": [
           0,
           0,
           2.9297326385411573,
           0.816496580927726,
           1.5275252316519468,
           1.4999999999999996,
           0.8506963092234006,
           2.23606797749979,
           1.6819474927657674,
           1
          ],
          "type": "data",
          "visible": true
         },
         "name": "Edges",
         "type": "scatter",
         "x": [
          -0.5,
          0,
          0.05,
          0.15,
          0.35,
          0.5,
          0.752,
          0.95,
          1.316,
          1.692
         ],
         "xaxis": "x",
         "y": [
          72,
          36,
          30.6,
          23.4,
          18.4,
          16.8,
          14.25,
          11,
          8.75,
          6.2
         ],
         "yaxis": "y"
        }
       ],
       "layout": {
        "annotations": [
         {
          "showarrow": false,
          "text": "CASTLE",
          "x": 0.02,
          "xref": "paper",
          "y": -0.225,
          "yref": "paper",
          "yshift": 0
         },
         {
          "ax": 0,
          "ay": 0,
          "showarrow": true,
          "text": "0.05",
          "x": 0.05,
          "xref": "x",
          "y": 1.0185,
          "yref": "paper",
          "yshift": -126
         },
         {
          "ax": 310,
          "ay": 0,
          "showarrow": true,
          "text": "1.02",
          "x": 0.05,
          "xref": "x",
          "y": 1.0185,
          "yref": "y2",
          "yshift": 0
         },
         {
          "ax": -120,
          "ay": 0,
          "showarrow": true,
          "text": "31",
          "x": 0.05,
          "xref": "x",
          "y": 30.6,
          "yref": "y",
          "yshift": 0
         }
        ],
        "autosize": true,
        "font": {
         "family": "Serif",
         "size": 18
        },
        "height": 200,
        "legend": {
         "orientation": "h",
         "x": 0.8,
         "xanchor": "center",
         "y": -0.58,
         "yanchor": "bottom"
        },
        "margin": {
         "b": 0,
         "l": 10,
         "pad": 0,
         "r": 10,
         "t": 25
        },
        "template": {
         "data": {
          "bar": [
           {
            "error_x": {
             "color": "#2a3f5f"
            },
            "error_y": {
             "color": "#2a3f5f"
            },
            "marker": {
             "line": {
              "color": "white",
              "width": 0.5
             },
             "pattern": {
              "fillmode": "overlay",
              "size": 10,
              "solidity": 0.2
             }
            },
            "type": "bar"
           }
          ],
          "barpolar": [
           {
            "marker": {
             "line": {
              "color": "white",
              "width": 0.5
             },
             "pattern": {
              "fillmode": "overlay",
              "size": 10,
              "solidity": 0.2
             }
            },
            "type": "barpolar"
           }
          ],
          "carpet": [
           {
            "aaxis": {
             "endlinecolor": "#2a3f5f",
             "gridcolor": "#C8D4E3",
             "linecolor": "#C8D4E3",
             "minorgridcolor": "#C8D4E3",
             "startlinecolor": "#2a3f5f"
            },
            "baxis": {
             "endlinecolor": "#2a3f5f",
             "gridcolor": "#C8D4E3",
             "linecolor": "#C8D4E3",
             "minorgridcolor": "#C8D4E3",
             "startlinecolor": "#2a3f5f"
            },
            "type": "carpet"
           }
          ],
          "choropleth": [
           {
            "colorbar": {
             "outlinewidth": 0,
             "ticks": ""
            },
            "type": "choropleth"
           }
          ],
          "contour": [
           {
            "colorbar": {
             "outlinewidth": 0,
             "ticks": ""
            },
            "colorscale": [
             [
              0,
              "#0d0887"
             ],
             [
              0.1111111111111111,
              "#46039f"
             ],
             [
              0.2222222222222222,
              "#7201a8"
             ],
             [
              0.3333333333333333,
              "#9c179e"
             ],
             [
              0.4444444444444444,
              "#bd3786"
             ],
             [
              0.5555555555555556,
              "#d8576b"
             ],
             [
              0.6666666666666666,
              "#ed7953"
             ],
             [
              0.7777777777777778,
              "#fb9f3a"
             ],
             [
              0.8888888888888888,
              "#fdca26"
             ],
             [
              1,
              "#f0f921"
             ]
            ],
            "type": "contour"
           }
          ],
          "contourcarpet": [
           {
            "colorbar": {
             "outlinewidth": 0,
             "ticks": ""
            },
            "type": "contourcarpet"
           }
          ],
          "heatmap": [
           {
            "colorbar": {
             "outlinewidth": 0,
             "ticks": ""
            },
            "colorscale": [
             [
              0,
              "#0d0887"
             ],
             [
              0.1111111111111111,
              "#46039f"
             ],
             [
              0.2222222222222222,
              "#7201a8"
             ],
             [
              0.3333333333333333,
              "#9c179e"
             ],
             [
              0.4444444444444444,
              "#bd3786"
             ],
             [
              0.5555555555555556,
              "#d8576b"
             ],
             [
              0.6666666666666666,
              "#ed7953"
             ],
             [
              0.7777777777777778,
              "#fb9f3a"
             ],
             [
              0.8888888888888888,
              "#fdca26"
             ],
             [
              1,
              "#f0f921"
             ]
            ],
            "type": "heatmap"
           }
          ],
          "heatmapgl": [
           {
            "colorbar": {
             "outlinewidth": 0,
             "ticks": ""
            },
            "colorscale": [
             [
              0,
              "#0d0887"
             ],
             [
              0.1111111111111111,
              "#46039f"
             ],
             [
              0.2222222222222222,
              "#7201a8"
             ],
             [
              0.3333333333333333,
              "#9c179e"
             ],
             [
              0.4444444444444444,
              "#bd3786"
             ],
             [
              0.5555555555555556,
              "#d8576b"
             ],
             [
              0.6666666666666666,
              "#ed7953"
             ],
             [
              0.7777777777777778,
              "#fb9f3a"
             ],
             [
              0.8888888888888888,
              "#fdca26"
             ],
             [
              1,
              "#f0f921"
             ]
            ],
            "type": "heatmapgl"
           }
          ],
          "histogram": [
           {
            "marker": {
             "pattern": {
              "fillmode": "overlay",
              "size": 10,
              "solidity": 0.2
             }
            },
            "type": "histogram"
           }
          ],
          "histogram2d": [
           {
            "colorbar": {
             "outlinewidth": 0,
             "ticks": ""
            },
            "colorscale": [
             [
              0,
              "#0d0887"
             ],
             [
              0.1111111111111111,
              "#46039f"
             ],
             [
              0.2222222222222222,
              "#7201a8"
             ],
             [
              0.3333333333333333,
              "#9c179e"
             ],
             [
              0.4444444444444444,
              "#bd3786"
             ],
             [
              0.5555555555555556,
              "#d8576b"
             ],
             [
              0.6666666666666666,
              "#ed7953"
             ],
             [
              0.7777777777777778,
              "#fb9f3a"
             ],
             [
              0.8888888888888888,
              "#fdca26"
             ],
             [
              1,
              "#f0f921"
             ]
            ],
            "type": "histogram2d"
           }
          ],
          "histogram2dcontour": [
           {
            "colorbar": {
             "outlinewidth": 0,
             "ticks": ""
            },
            "colorscale": [
             [
              0,
              "#0d0887"
             ],
             [
              0.1111111111111111,
              "#46039f"
             ],
             [
              0.2222222222222222,
              "#7201a8"
             ],
             [
              0.3333333333333333,
              "#9c179e"
             ],
             [
              0.4444444444444444,
              "#bd3786"
             ],
             [
              0.5555555555555556,
              "#d8576b"
             ],
             [
              0.6666666666666666,
              "#ed7953"
             ],
             [
              0.7777777777777778,
              "#fb9f3a"
             ],
             [
              0.8888888888888888,
              "#fdca26"
             ],
             [
              1,
              "#f0f921"
             ]
            ],
            "type": "histogram2dcontour"
           }
          ],
          "mesh3d": [
           {
            "colorbar": {
             "outlinewidth": 0,
             "ticks": ""
            },
            "type": "mesh3d"
           }
          ],
          "parcoords": [
           {
            "line": {
             "colorbar": {
              "outlinewidth": 0,
              "ticks": ""
             }
            },
            "type": "parcoords"
           }
          ],
          "pie": [
           {
            "automargin": true,
            "type": "pie"
           }
          ],
          "scatter": [
           {
            "marker": {
             "colorbar": {
              "outlinewidth": 0,
              "ticks": ""
             }
            },
            "type": "scatter"
           }
          ],
          "scatter3d": [
           {
            "line": {
             "colorbar": {
              "outlinewidth": 0,
              "ticks": ""
             }
            },
            "marker": {
             "colorbar": {
              "outlinewidth": 0,
              "ticks": ""
             }
            },
            "type": "scatter3d"
           }
          ],
          "scattercarpet": [
           {
            "marker": {
             "colorbar": {
              "outlinewidth": 0,
              "ticks": ""
             }
            },
            "type": "scattercarpet"
           }
          ],
          "scattergeo": [
           {
            "marker": {
             "colorbar": {
              "outlinewidth": 0,
              "ticks": ""
             }
            },
            "type": "scattergeo"
           }
          ],
          "scattergl": [
           {
            "marker": {
             "colorbar": {
              "outlinewidth": 0,
              "ticks": ""
             }
            },
            "type": "scattergl"
           }
          ],
          "scattermapbox": [
           {
            "marker": {
             "colorbar": {
              "outlinewidth": 0,
              "ticks": ""
             }
            },
            "type": "scattermapbox"
           }
          ],
          "scatterpolar": [
           {
            "marker": {
             "colorbar": {
              "outlinewidth": 0,
              "ticks": ""
             }
            },
            "type": "scatterpolar"
           }
          ],
          "scatterpolargl": [
           {
            "marker": {
             "colorbar": {
              "outlinewidth": 0,
              "ticks": ""
             }
            },
            "type": "scatterpolargl"
           }
          ],
          "scatterternary": [
           {
            "marker": {
             "colorbar": {
              "outlinewidth": 0,
              "ticks": ""
             }
            },
            "type": "scatterternary"
           }
          ],
          "surface": [
           {
            "colorbar": {
             "outlinewidth": 0,
             "ticks": ""
            },
            "colorscale": [
             [
              0,
              "#0d0887"
             ],
             [
              0.1111111111111111,
              "#46039f"
             ],
             [
              0.2222222222222222,
              "#7201a8"
             ],
             [
              0.3333333333333333,
              "#9c179e"
             ],
             [
              0.4444444444444444,
              "#bd3786"
             ],
             [
              0.5555555555555556,
              "#d8576b"
             ],
             [
              0.6666666666666666,
              "#ed7953"
             ],
             [
              0.7777777777777778,
              "#fb9f3a"
             ],
             [
              0.8888888888888888,
              "#fdca26"
             ],
             [
              1,
              "#f0f921"
             ]
            ],
            "type": "surface"
           }
          ],
          "table": [
           {
            "cells": {
             "fill": {
              "color": "#EBF0F8"
             },
             "line": {
              "color": "white"
             }
            },
            "header": {
             "fill": {
              "color": "#C8D4E3"
             },
             "line": {
              "color": "white"
             }
            },
            "type": "table"
           }
          ]
         },
         "layout": {
          "annotationdefaults": {
           "arrowcolor": "#2a3f5f",
           "arrowhead": 0,
           "arrowwidth": 1
          },
          "autotypenumbers": "strict",
          "coloraxis": {
           "colorbar": {
            "outlinewidth": 0,
            "ticks": ""
           }
          },
          "colorscale": {
           "diverging": [
            [
             0,
             "#8e0152"
            ],
            [
             0.1,
             "#c51b7d"
            ],
            [
             0.2,
             "#de77ae"
            ],
            [
             0.3,
             "#f1b6da"
            ],
            [
             0.4,
             "#fde0ef"
            ],
            [
             0.5,
             "#f7f7f7"
            ],
            [
             0.6,
             "#e6f5d0"
            ],
            [
             0.7,
             "#b8e186"
            ],
            [
             0.8,
             "#7fbc41"
            ],
            [
             0.9,
             "#4d9221"
            ],
            [
             1,
             "#276419"
            ]
           ],
           "sequential": [
            [
             0,
             "#0d0887"
            ],
            [
             0.1111111111111111,
             "#46039f"
            ],
            [
             0.2222222222222222,
             "#7201a8"
            ],
            [
             0.3333333333333333,
             "#9c179e"
            ],
            [
             0.4444444444444444,
             "#bd3786"
            ],
            [
             0.5555555555555556,
             "#d8576b"
            ],
            [
             0.6666666666666666,
             "#ed7953"
            ],
            [
             0.7777777777777778,
             "#fb9f3a"
            ],
            [
             0.8888888888888888,
             "#fdca26"
            ],
            [
             1,
             "#f0f921"
            ]
           ],
           "sequentialminus": [
            [
             0,
             "#0d0887"
            ],
            [
             0.1111111111111111,
             "#46039f"
            ],
            [
             0.2222222222222222,
             "#7201a8"
            ],
            [
             0.3333333333333333,
             "#9c179e"
            ],
            [
             0.4444444444444444,
             "#bd3786"
            ],
            [
             0.5555555555555556,
             "#d8576b"
            ],
            [
             0.6666666666666666,
             "#ed7953"
            ],
            [
             0.7777777777777778,
             "#fb9f3a"
            ],
            [
             0.8888888888888888,
             "#fdca26"
            ],
            [
             1,
             "#f0f921"
            ]
           ]
          },
          "colorway": [
           "#636efa",
           "#EF553B",
           "#00cc96",
           "#ab63fa",
           "#FFA15A",
           "#19d3f3",
           "#FF6692",
           "#B6E880",
           "#FF97FF",
           "#FECB52"
          ],
          "font": {
           "color": "#2a3f5f"
          },
          "geo": {
           "bgcolor": "white",
           "lakecolor": "white",
           "landcolor": "white",
           "showlakes": true,
           "showland": true,
           "subunitcolor": "#C8D4E3"
          },
          "hoverlabel": {
           "align": "left"
          },
          "hovermode": "closest",
          "mapbox": {
           "style": "light"
          },
          "paper_bgcolor": "white",
          "plot_bgcolor": "white",
          "polar": {
           "angularaxis": {
            "gridcolor": "#EBF0F8",
            "linecolor": "#EBF0F8",
            "ticks": ""
           },
           "bgcolor": "white",
           "radialaxis": {
            "gridcolor": "#EBF0F8",
            "linecolor": "#EBF0F8",
            "ticks": ""
           }
          },
          "scene": {
           "xaxis": {
            "backgroundcolor": "white",
            "gridcolor": "#DFE8F3",
            "gridwidth": 2,
            "linecolor": "#EBF0F8",
            "showbackground": true,
            "ticks": "",
            "zerolinecolor": "#EBF0F8"
           },
           "yaxis": {
            "backgroundcolor": "white",
            "gridcolor": "#DFE8F3",
            "gridwidth": 2,
            "linecolor": "#EBF0F8",
            "showbackground": true,
            "ticks": "",
            "zerolinecolor": "#EBF0F8"
           },
           "zaxis": {
            "backgroundcolor": "white",
            "gridcolor": "#DFE8F3",
            "gridwidth": 2,
            "linecolor": "#EBF0F8",
            "showbackground": true,
            "ticks": "",
            "zerolinecolor": "#EBF0F8"
           }
          },
          "shapedefaults": {
           "line": {
            "color": "#2a3f5f"
           }
          },
          "ternary": {
           "aaxis": {
            "gridcolor": "#DFE8F3",
            "linecolor": "#A2B1C6",
            "ticks": ""
           },
           "baxis": {
            "gridcolor": "#DFE8F3",
            "linecolor": "#A2B1C6",
            "ticks": ""
           },
           "bgcolor": "white",
           "caxis": {
            "gridcolor": "#DFE8F3",
            "linecolor": "#A2B1C6",
            "ticks": ""
           }
          },
          "title": {
           "x": 0.05
          },
          "xaxis": {
           "automargin": true,
           "gridcolor": "#EBF0F8",
           "linecolor": "#EBF0F8",
           "ticks": "",
           "title": {
            "standoff": 15
           },
           "zerolinecolor": "#EBF0F8",
           "zerolinewidth": 2
          },
          "yaxis": {
           "automargin": true,
           "gridcolor": "#EBF0F8",
           "linecolor": "#EBF0F8",
           "ticks": "",
           "title": {
            "standoff": 15
           },
           "zerolinecolor": "#EBF0F8",
           "zerolinewidth": 2
          }
         }
        },
        "title": {
         "text": ""
        },
        "width": 600,
        "xaxis": {
         "anchor": "y",
         "domain": [
          0,
          0.94
         ],
         "showgrid": true,
         "tickvals": [
          0.05,
          0.5,
          1,
          1.5
         ],
         "title": {
          "font": {
           "size": 18
          },
          "text": "$\\text{Threshold } \\tau$"
         }
        },
        "yaxis": {
         "anchor": "x",
         "domain": [
          0,
          1
         ],
         "title": {
          "text": "Number of Edges"
         }
        },
        "yaxis2": {
         "anchor": "x",
         "nticks": 6,
         "overlaying": "y",
         "showgrid": false,
         "side": "right",
         "title": {
          "text": "MSE"
         },
         "zeroline": false
        }
       }
      },
      "text/html": [
       "<div>                            <div id=\"34333db1-d074-422a-a805-f3dc2942571c\" class=\"plotly-graph-div\" style=\"height:200px; width:600px;\"></div>            <script type=\"text/javascript\">                require([\"plotly\"], function(Plotly) {                    window.PLOTLYENV=window.PLOTLYENV || {};                                    if (document.getElementById(\"34333db1-d074-422a-a805-f3dc2942571c\")) {                    Plotly.newPlot(                        \"34333db1-d074-422a-a805-f3dc2942571c\",                        [{\"error_y\":{\"array\":[0.08124133455302959,0.31221185761932635,0.3488693949671982,0.36598715573747276,0.32350461669607095,0.32173570592623957,0.29426735954701816,0.0300155281808635,0.023626780248184244,0.02688986900602854],\"type\":\"data\",\"visible\":true},\"name\":\"MSE\",\"x\":[-0.5,0.0,0.05,0.15,0.35,0.5,0.752,0.95,1.316,1.692],\"y\":[0.6622075161669811,1.0623806684742696,1.0184620580426451,1.049525359524898,1.0817885939317227,1.0832717585997775,1.1748369498034168,1.3398076970417623,1.3399569522889117,1.3317408926283338],\"type\":\"scatter\",\"xaxis\":\"x\",\"yaxis\":\"y2\"},{\"error_y\":{\"array\":[0.0,0.0,2.9297326385411573,0.816496580927726,1.5275252316519468,1.4999999999999996,0.8506963092234006,2.23606797749979,1.6819474927657674,1.0],\"type\":\"data\",\"visible\":true},\"name\":\"Edges\",\"x\":[-0.5,0.0,0.05,0.15,0.35,0.5,0.752,0.95,1.316,1.692],\"y\":[72.0,36.0,30.6,23.4,18.4,16.8,14.25,11.0,8.75,6.2],\"type\":\"scatter\",\"xaxis\":\"x\",\"yaxis\":\"y\"}],                        {\"template\":{\"data\":{\"barpolar\":[{\"marker\":{\"line\":{\"color\":\"white\",\"width\":0.5},\"pattern\":{\"fillmode\":\"overlay\",\"size\":10,\"solidity\":0.2}},\"type\":\"barpolar\"}],\"bar\":[{\"error_x\":{\"color\":\"#2a3f5f\"},\"error_y\":{\"color\":\"#2a3f5f\"},\"marker\":{\"line\":{\"color\":\"white\",\"width\":0.5},\"pattern\":{\"fillmode\":\"overlay\",\"size\":10,\"solidity\":0.2}},\"type\":\"bar\"}],\"carpet\":[{\"aaxis\":{\"endlinecolor\":\"#2a3f5f\",\"gridcolor\":\"#C8D4E3\",\"linecolor\":\"#C8D4E3\",\"minorgridcolor\":\"#C8D4E3\",\"startlinecolor\":\"#2a3f5f\"},\"baxis\":{\"endlinecolor\":\"#2a3f5f\",\"gridcolor\":\"#C8D4E3\",\"linecolor\":\"#C8D4E3\",\"minorgridcolor\":\"#C8D4E3\",\"startlinecolor\":\"#2a3f5f\"},\"type\":\"carpet\"}],\"choropleth\":[{\"colorbar\":{\"outlinewidth\":0,\"ticks\":\"\"},\"type\":\"choropleth\"}],\"contourcarpet\":[{\"colorbar\":{\"outlinewidth\":0,\"ticks\":\"\"},\"type\":\"contourcarpet\"}],\"contour\":[{\"colorbar\":{\"outlinewidth\":0,\"ticks\":\"\"},\"colorscale\":[[0.0,\"#0d0887\"],[0.1111111111111111,\"#46039f\"],[0.2222222222222222,\"#7201a8\"],[0.3333333333333333,\"#9c179e\"],[0.4444444444444444,\"#bd3786\"],[0.5555555555555556,\"#d8576b\"],[0.6666666666666666,\"#ed7953\"],[0.7777777777777778,\"#fb9f3a\"],[0.8888888888888888,\"#fdca26\"],[1.0,\"#f0f921\"]],\"type\":\"contour\"}],\"heatmapgl\":[{\"colorbar\":{\"outlinewidth\":0,\"ticks\":\"\"},\"colorscale\":[[0.0,\"#0d0887\"],[0.1111111111111111,\"#46039f\"],[0.2222222222222222,\"#7201a8\"],[0.3333333333333333,\"#9c179e\"],[0.4444444444444444,\"#bd3786\"],[0.5555555555555556,\"#d8576b\"],[0.6666666666666666,\"#ed7953\"],[0.7777777777777778,\"#fb9f3a\"],[0.8888888888888888,\"#fdca26\"],[1.0,\"#f0f921\"]],\"type\":\"heatmapgl\"}],\"heatmap\":[{\"colorbar\":{\"outlinewidth\":0,\"ticks\":\"\"},\"colorscale\":[[0.0,\"#0d0887\"],[0.1111111111111111,\"#46039f\"],[0.2222222222222222,\"#7201a8\"],[0.3333333333333333,\"#9c179e\"],[0.4444444444444444,\"#bd3786\"],[0.5555555555555556,\"#d8576b\"],[0.6666666666666666,\"#ed7953\"],[0.7777777777777778,\"#fb9f3a\"],[0.8888888888888888,\"#fdca26\"],[1.0,\"#f0f921\"]],\"type\":\"heatmap\"}],\"histogram2dcontour\":[{\"colorbar\":{\"outlinewidth\":0,\"ticks\":\"\"},\"colorscale\":[[0.0,\"#0d0887\"],[0.1111111111111111,\"#46039f\"],[0.2222222222222222,\"#7201a8\"],[0.3333333333333333,\"#9c179e\"],[0.4444444444444444,\"#bd3786\"],[0.5555555555555556,\"#d8576b\"],[0.6666666666666666,\"#ed7953\"],[0.7777777777777778,\"#fb9f3a\"],[0.8888888888888888,\"#fdca26\"],[1.0,\"#f0f921\"]],\"type\":\"histogram2dcontour\"}],\"histogram2d\":[{\"colorbar\":{\"outlinewidth\":0,\"ticks\":\"\"},\"colorscale\":[[0.0,\"#0d0887\"],[0.1111111111111111,\"#46039f\"],[0.2222222222222222,\"#7201a8\"],[0.3333333333333333,\"#9c179e\"],[0.4444444444444444,\"#bd3786\"],[0.5555555555555556,\"#d8576b\"],[0.6666666666666666,\"#ed7953\"],[0.7777777777777778,\"#fb9f3a\"],[0.8888888888888888,\"#fdca26\"],[1.0,\"#f0f921\"]],\"type\":\"histogram2d\"}],\"histogram\":[{\"marker\":{\"pattern\":{\"fillmode\":\"overlay\",\"size\":10,\"solidity\":0.2}},\"type\":\"histogram\"}],\"mesh3d\":[{\"colorbar\":{\"outlinewidth\":0,\"ticks\":\"\"},\"type\":\"mesh3d\"}],\"parcoords\":[{\"line\":{\"colorbar\":{\"outlinewidth\":0,\"ticks\":\"\"}},\"type\":\"parcoords\"}],\"pie\":[{\"automargin\":true,\"type\":\"pie\"}],\"scatter3d\":[{\"line\":{\"colorbar\":{\"outlinewidth\":0,\"ticks\":\"\"}},\"marker\":{\"colorbar\":{\"outlinewidth\":0,\"ticks\":\"\"}},\"type\":\"scatter3d\"}],\"scattercarpet\":[{\"marker\":{\"colorbar\":{\"outlinewidth\":0,\"ticks\":\"\"}},\"type\":\"scattercarpet\"}],\"scattergeo\":[{\"marker\":{\"colorbar\":{\"outlinewidth\":0,\"ticks\":\"\"}},\"type\":\"scattergeo\"}],\"scattergl\":[{\"marker\":{\"colorbar\":{\"outlinewidth\":0,\"ticks\":\"\"}},\"type\":\"scattergl\"}],\"scattermapbox\":[{\"marker\":{\"colorbar\":{\"outlinewidth\":0,\"ticks\":\"\"}},\"type\":\"scattermapbox\"}],\"scatterpolargl\":[{\"marker\":{\"colorbar\":{\"outlinewidth\":0,\"ticks\":\"\"}},\"type\":\"scatterpolargl\"}],\"scatterpolar\":[{\"marker\":{\"colorbar\":{\"outlinewidth\":0,\"ticks\":\"\"}},\"type\":\"scatterpolar\"}],\"scatter\":[{\"marker\":{\"colorbar\":{\"outlinewidth\":0,\"ticks\":\"\"}},\"type\":\"scatter\"}],\"scatterternary\":[{\"marker\":{\"colorbar\":{\"outlinewidth\":0,\"ticks\":\"\"}},\"type\":\"scatterternary\"}],\"surface\":[{\"colorbar\":{\"outlinewidth\":0,\"ticks\":\"\"},\"colorscale\":[[0.0,\"#0d0887\"],[0.1111111111111111,\"#46039f\"],[0.2222222222222222,\"#7201a8\"],[0.3333333333333333,\"#9c179e\"],[0.4444444444444444,\"#bd3786\"],[0.5555555555555556,\"#d8576b\"],[0.6666666666666666,\"#ed7953\"],[0.7777777777777778,\"#fb9f3a\"],[0.8888888888888888,\"#fdca26\"],[1.0,\"#f0f921\"]],\"type\":\"surface\"}],\"table\":[{\"cells\":{\"fill\":{\"color\":\"#EBF0F8\"},\"line\":{\"color\":\"white\"}},\"header\":{\"fill\":{\"color\":\"#C8D4E3\"},\"line\":{\"color\":\"white\"}},\"type\":\"table\"}]},\"layout\":{\"annotationdefaults\":{\"arrowcolor\":\"#2a3f5f\",\"arrowhead\":0,\"arrowwidth\":1},\"autotypenumbers\":\"strict\",\"coloraxis\":{\"colorbar\":{\"outlinewidth\":0,\"ticks\":\"\"}},\"colorscale\":{\"diverging\":[[0,\"#8e0152\"],[0.1,\"#c51b7d\"],[0.2,\"#de77ae\"],[0.3,\"#f1b6da\"],[0.4,\"#fde0ef\"],[0.5,\"#f7f7f7\"],[0.6,\"#e6f5d0\"],[0.7,\"#b8e186\"],[0.8,\"#7fbc41\"],[0.9,\"#4d9221\"],[1,\"#276419\"]],\"sequential\":[[0.0,\"#0d0887\"],[0.1111111111111111,\"#46039f\"],[0.2222222222222222,\"#7201a8\"],[0.3333333333333333,\"#9c179e\"],[0.4444444444444444,\"#bd3786\"],[0.5555555555555556,\"#d8576b\"],[0.6666666666666666,\"#ed7953\"],[0.7777777777777778,\"#fb9f3a\"],[0.8888888888888888,\"#fdca26\"],[1.0,\"#f0f921\"]],\"sequentialminus\":[[0.0,\"#0d0887\"],[0.1111111111111111,\"#46039f\"],[0.2222222222222222,\"#7201a8\"],[0.3333333333333333,\"#9c179e\"],[0.4444444444444444,\"#bd3786\"],[0.5555555555555556,\"#d8576b\"],[0.6666666666666666,\"#ed7953\"],[0.7777777777777778,\"#fb9f3a\"],[0.8888888888888888,\"#fdca26\"],[1.0,\"#f0f921\"]]},\"colorway\":[\"#636efa\",\"#EF553B\",\"#00cc96\",\"#ab63fa\",\"#FFA15A\",\"#19d3f3\",\"#FF6692\",\"#B6E880\",\"#FF97FF\",\"#FECB52\"],\"font\":{\"color\":\"#2a3f5f\"},\"geo\":{\"bgcolor\":\"white\",\"lakecolor\":\"white\",\"landcolor\":\"white\",\"showlakes\":true,\"showland\":true,\"subunitcolor\":\"#C8D4E3\"},\"hoverlabel\":{\"align\":\"left\"},\"hovermode\":\"closest\",\"mapbox\":{\"style\":\"light\"},\"paper_bgcolor\":\"white\",\"plot_bgcolor\":\"white\",\"polar\":{\"angularaxis\":{\"gridcolor\":\"#EBF0F8\",\"linecolor\":\"#EBF0F8\",\"ticks\":\"\"},\"bgcolor\":\"white\",\"radialaxis\":{\"gridcolor\":\"#EBF0F8\",\"linecolor\":\"#EBF0F8\",\"ticks\":\"\"}},\"scene\":{\"xaxis\":{\"backgroundcolor\":\"white\",\"gridcolor\":\"#DFE8F3\",\"gridwidth\":2,\"linecolor\":\"#EBF0F8\",\"showbackground\":true,\"ticks\":\"\",\"zerolinecolor\":\"#EBF0F8\"},\"yaxis\":{\"backgroundcolor\":\"white\",\"gridcolor\":\"#DFE8F3\",\"gridwidth\":2,\"linecolor\":\"#EBF0F8\",\"showbackground\":true,\"ticks\":\"\",\"zerolinecolor\":\"#EBF0F8\"},\"zaxis\":{\"backgroundcolor\":\"white\",\"gridcolor\":\"#DFE8F3\",\"gridwidth\":2,\"linecolor\":\"#EBF0F8\",\"showbackground\":true,\"ticks\":\"\",\"zerolinecolor\":\"#EBF0F8\"}},\"shapedefaults\":{\"line\":{\"color\":\"#2a3f5f\"}},\"ternary\":{\"aaxis\":{\"gridcolor\":\"#DFE8F3\",\"linecolor\":\"#A2B1C6\",\"ticks\":\"\"},\"baxis\":{\"gridcolor\":\"#DFE8F3\",\"linecolor\":\"#A2B1C6\",\"ticks\":\"\"},\"bgcolor\":\"white\",\"caxis\":{\"gridcolor\":\"#DFE8F3\",\"linecolor\":\"#A2B1C6\",\"ticks\":\"\"}},\"title\":{\"x\":0.05},\"xaxis\":{\"automargin\":true,\"gridcolor\":\"#EBF0F8\",\"linecolor\":\"#EBF0F8\",\"ticks\":\"\",\"title\":{\"standoff\":15},\"zerolinecolor\":\"#EBF0F8\",\"zerolinewidth\":2},\"yaxis\":{\"automargin\":true,\"gridcolor\":\"#EBF0F8\",\"linecolor\":\"#EBF0F8\",\"ticks\":\"\",\"title\":{\"standoff\":15},\"zerolinecolor\":\"#EBF0F8\",\"zerolinewidth\":2}}},\"xaxis\":{\"anchor\":\"y\",\"domain\":[0.0,0.94],\"title\":{\"font\":{\"size\":18},\"text\":\"$\\\\text{Threshold } \\\\tau$\"},\"showgrid\":true,\"tickvals\":[0.05,0.5,1.0,1.5]},\"yaxis\":{\"anchor\":\"x\",\"domain\":[0.0,1.0],\"title\":{\"text\":\"Number of Edges\"}},\"yaxis2\":{\"anchor\":\"x\",\"overlaying\":\"y\",\"side\":\"right\",\"title\":{\"text\":\"MSE\"},\"showgrid\":false,\"nticks\":6,\"zeroline\":false},\"legend\":{\"y\":-0.58,\"x\":0.8,\"orientation\":\"h\",\"xanchor\":\"center\",\"yanchor\":\"bottom\"},\"margin\":{\"l\":10,\"r\":10,\"b\":0,\"t\":25,\"pad\":0},\"font\":{\"family\":\"Serif\",\"size\":18},\"title\":{\"text\":\"\"},\"autosize\":true,\"width\":600,\"height\":200,\"annotations\":[{\"showarrow\":false,\"text\":\"CASTLE\",\"x\":0.02,\"xref\":\"paper\",\"y\":-0.225,\"yref\":\"paper\",\"yshift\":0},{\"ax\":0,\"ay\":0,\"showarrow\":true,\"text\":\"0.05\",\"x\":0.05,\"xref\":\"x\",\"y\":1.0185,\"yref\":\"paper\",\"yshift\":-126},{\"ax\":310,\"ay\":0,\"showarrow\":true,\"text\":\"1.02\",\"x\":0.05,\"xref\":\"x\",\"y\":1.0185,\"yref\":\"y2\",\"yshift\":0},{\"ax\":-120,\"ay\":0,\"showarrow\":true,\"text\":\"31\",\"x\":0.05,\"xref\":\"x\",\"y\":30.6,\"yref\":\"y\",\"yshift\":0}]},                        {\"responsive\": true}                    ).then(function(){\n",
       "                            \n",
       "var gd = document.getElementById('34333db1-d074-422a-a805-f3dc2942571c');\n",
       "var x = new MutationObserver(function (mutations, observer) {{\n",
       "        var display = window.getComputedStyle(gd).display;\n",
       "        if (!display || display === 'none') {{\n",
       "            console.log([gd, 'removed!']);\n",
       "            Plotly.purge(gd);\n",
       "            observer.disconnect();\n",
       "        }}\n",
       "}});\n",
       "\n",
       "// Listen for the removal of the full notebook cells\n",
       "var notebookContainer = gd.closest('#notebook-container');\n",
       "if (notebookContainer) {{\n",
       "    x.observe(notebookContainer, {childList: true});\n",
       "}}\n",
       "\n",
       "// Listen for the clearing of the current output cell\n",
       "var outputEl = gd.closest('.output');\n",
       "if (outputEl) {{\n",
       "    x.observe(outputEl, {childList: true});\n",
       "}}\n",
       "\n",
       "                        })                };                });            </script>        </div>"
      ]
     },
     "metadata": {},
     "output_type": "display_data"
    }
   ],
   "source": [
    "version = 'cali'\n",
    "metric = 'MSE'\n",
    "\n",
    "agg_stats = collect_results(version=version, metric=metric, dsets='100000', res_folder=results_folder, mat_folder=mats_folder)\n",
    "\n",
    "sub = -0.5\n",
    "agg_stats.loc[agg_stats['theta']==-1,'theta'] = sub\n",
    "\n",
    "filter_theta = 1.8\n",
    "filter_list = [0.1, 0.188, 0.2,0.25, 0.3,0.4,0.45, 0.376, 0.55,0.65, 0.7,0.75, 0.8,0.85,0.9,0.94, 1.504,1.88, 2.256,2.632]#[0.1,0.188,0.2,0.3,0.35,0.376,0.45,0.65,0.7,0.8,0.85,0.9,0.95]\n",
    "agg_stats = agg_stats[(agg_stats['theta']<=filter_theta) & (~round(agg_stats['theta'],3).isin(filter_list))]\n",
    "display(agg_stats)\n",
    "\n",
    "### Plot results\n",
    "fig = plot_ly_lines(agg_stats,'MSE', height=200)\n",
    "\n",
    "fig.update_layout(\n",
    "    legend={\n",
    "        'y':-0.58,\n",
    "        'x':0.8,\n",
    "        'orientation':\"h\",\n",
    "        'xanchor': 'center',\n",
    "        'yanchor': 'bottom'},\n",
    "    font=dict(\n",
    "        family='Serif',#\"Courier New, monospace\",\n",
    "        size=18,\n",
    "        # color=\"Black\"\n",
    "    ) ,\n",
    "    margin=dict(\n",
    "            l=10,\n",
    "            r=10,\n",
    "            b=0,\n",
    "            t=25,\n",
    "            pad=0\n",
    "            ),   \n",
    ")\n",
    "\n",
    "# Set x-axis title\n",
    "fig.update_xaxes(showgrid=True,title={'text':r'$\\text{Threshold } \\tau$','font':{'size':18#, 'family': 'Courier New, monospace',\n",
    "}},tickvals=[a for sub in [[0.05],list(np.round(np.arange(0.5, max(agg_stats['theta']), 0.5),1))] for a in sub],\n",
    ")\n",
    "\n",
    "fig.add_annotation(x=0.02, y=-0.225,\n",
    "            text=\"CASTLE\",\n",
    "            showarrow=False,\n",
    "            yshift=0,\n",
    "            xref='paper',\n",
    "            yref='paper',)\n",
    "            \n",
    "chosen_tau=0.05\n",
    "\n",
    "fig.add_annotation(x=chosen_tau, y=1.0185,\n",
    "            text=str(chosen_tau),\n",
    "            showarrow=True,\n",
    "            yshift=-126,#-195,\n",
    "            xref='x',ax=0,\n",
    "            yref='paper',ay=0)\n",
    "fig.add_annotation(x=chosen_tau, y=1.0185,\n",
    "            text=str(1.02),\n",
    "            showarrow=True,\n",
    "            yshift=0,\n",
    "            xref='x',ax=310,\n",
    "            yref='y2',ay=0)\n",
    "fig.add_annotation(x=chosen_tau, y=30.6,\n",
    "            text=str(31),\n",
    "            showarrow=True,\n",
    "            yshift=0,\n",
    "            xref='x',ax=-120,\n",
    "            yref='y',ay=0)\n",
    "            \n",
    "fig.show()\n",
    "\n",
    "if not os.path.exists(output_folder):\n",
    "    os.mkdir(output_folder)\n",
    "\n",
    "out_path = os.path.join(output_folder,f\"plot_tauoptim_{version}.png\")\n",
    "\n",
    "if save_figs:\n",
    "    import kaleido\n",
    "    fig.write_image(out_path)"
   ]
  },
  {
   "cell_type": "markdown",
   "metadata": {},
   "source": [
    "## Table 1 - *Full* DAG Discovery and Injection Experiment"
   ]
  },
  {
   "cell_type": "code",
   "execution_count": 87,
   "metadata": {
    "jupyter": {
     "source_hidden": true
    },
    "tags": []
   },
   "outputs": [],
   "source": [
    "def collect_and_build_tab(\n",
    "                version,\n",
    "                metric,\n",
    "                tau,\n",
    "                sizes = [\"100\", \"500\",\"1000\",\"2000\",\"5000\",\"10000\",\"20000\"],\n",
    "                cols = [\"CASTLE\",\"Injected\"],\n",
    "                out_folds = 5,\n",
    "                debug=False,\n",
    "                display_tab = False,\n",
    "                display_edge = False,\n",
    "                print_latex = True\n",
    "                ):\n",
    "\n",
    "    size_list = [int(i) for i in sizes]\n",
    "\n",
    "    list_edges = []\n",
    "    for filename in os.listdir(mats_folder):\n",
    "        # print(filename)\n",
    "        match = re.search(f'W_est.(.*?)[.](\\d)[.](\\d)[.](.*?)[.]{version}[.]pkl$', filename)\n",
    "        if match:\n",
    "            sz, out_f, in_f, theta = match.groups()\n",
    "            edges = sum(load_pickle(os.path.join(mats_folder,filename), verbose=False).flatten()>0)\n",
    "            list_edges.append((float(theta), out_f, in_f, edges))\n",
    "            # print(list_edges)\n",
    "    n_edges = pd.DataFrame(list_edges).groupby(0, as_index=False).agg({3 : ['count','mean', 'std']})\n",
    "    n_edges.columns = n_edges.columns.droplevel()\n",
    "    n_edges.columns = ['theta','N runs','N_edges','Std']\n",
    "\n",
    "    if display_edge:\n",
    "        display(n_edges)\n",
    "\n",
    "    agg_stats_all = pd.DataFrame()\n",
    "    for size in size_list:\n",
    "        filename = f\"Nested{out_folds}FoldCASTLE.Reg.Synth.{size}.{version}.pkl\"\n",
    "        describe = load_pickle(os.path.join(results_folder,filename), verbose=False)\n",
    "\n",
    "        if debug:\n",
    "            print(size)\n",
    "            print(pd.DataFrame([(describe[c]['theta'],describe[c]['fold'],describe[c][metric]) for c in describe]).groupby(0, as_index=False).agg({1 : ['count'], 2 : ['mean', 'std']}))\n",
    "\n",
    "        agg_stats = pd.DataFrame([(describe[c]['theta'],describe[c]['fold'],describe[c][metric]) for c in describe]).groupby(0, as_index=False).agg({1 : ['count'], 2 : ['mean', 'std']})\n",
    "        agg_stats.columns = ['theta', 'folds', 'accuracy_mean', 'accuracy_std']\n",
    "\n",
    "        agg_stats.loc[agg_stats['theta']==-1,'theta'] = -0.05\n",
    "\n",
    "        agg_stats['Dset_sz'] = size\n",
    "\n",
    "        agg_stats_all = pd.concat([agg_stats_all,agg_stats])\n",
    "\n",
    "    agg_stats_all\n",
    "\n",
    "    ds = agg_stats_all[['theta', 'accuracy_mean', 'accuracy_std','Dset_sz']]\n",
    "\n",
    "    ds['values'] = [\"{0:.2f}\".format(round(mean,3))+\" ({0:.2f})\".format(round(std,2)) for mean,std in zip(ds['accuracy_mean'],ds['accuracy_std']) ]\n",
    "    ds.loc[ds['theta']==-0.05,'theta'] = \"CASTLE\"\n",
    "    ds.loc[ds['theta']==tau,'theta'] = \"Injected\"\n",
    "    if debug:\n",
    "        print(ds)\n",
    "    table = ds.pivot(index='Dset_sz',columns='theta', values='values')\n",
    "    if debug:\n",
    "        display(table)\n",
    "    table = table[cols]\n",
    "\n",
    "    return table\n",
    "\n",
    "\n",
    "def format_tab(table):\n",
    "    def compute_top_2(names):\n",
    "        t = ''\n",
    "        pcount = round(len(names)/len(np.unique(names)))\n",
    "        _, idx = np.unique(names, return_index=True)\n",
    "        names = names[np.sort(idx)]\n",
    "        if debug:\n",
    "            print(names)\n",
    "        for i in range(len(names)):\n",
    "            t += ' & \\multicolumn{' + str(pcount) + '}{c}{' + str(names[i]) + '}'\n",
    "        return t\n",
    "                \n",
    "    # top1 = '\\multirow{2}{*}{Dataset} & \\multirow{2}{*}{BC$^{*}$}' + compute_top(table.columns.values[1:]) + '\\\\\\\\'\n",
    "    top1 = 'Dataset' + compute_top_2(table.columns.values) + '\\\\\\\\ \\n\\hline '\n",
    "\n",
    "    print_table = lambda table, top : table.to_latex(escape = False, index = True, index_names = False, header =False,\n",
    "                        formatters=[(lambda x : '\\!' + str(x) + '\\!') for col in table.columns.values],\n",
    "    #                      header = [f'\\!\\!{nice_relations[col[-1:]] if col != \"BC\" else \"\"}\\!\\!' for col in table.columns.values],\\\n",
    "                        column_format = 'r' + 'c' * (len(table.columns.values)),\n",
    "                        ).replace(r'\\toprule', top).replace(r'\\midrule', r'\\hline').replace(r'\\bottomrule', r'\\hline').replace('.0%', '%').replace('\\!%', '\\!0%').replace('%', '\\%')\n",
    "    print(print_table(table, top1))"
   ]
  },
  {
   "cell_type": "markdown",
   "metadata": {},
   "source": [
    "### Cali"
   ]
  },
  {
   "cell_type": "code",
   "execution_count": 88,
   "metadata": {},
   "outputs": [
    {
     "name": "stderr",
     "output_type": "stream",
     "text": [
      "/tmp/ipykernel_17670/3047696067.py:82: FutureWarning:\n",
      "\n",
      "In future versions `DataFrame.to_latex` is expected to utilise the base implementation of `Styler.to_latex` for formatting and rendering. The arguments signature may therefore change. It is recommended instead to use `DataFrame.style.to_latex` which also contains additional functionality.\n",
      "\n"
     ]
    },
    {
     "name": "stdout",
     "output_type": "stream",
     "text": [
      "\\begin{tabular}{rc}\n",
      "Dataset & \\multicolumn{1}{c}{CASTLE}\\\\ \n",
      "\\hline \n",
      "100   &  \\!7.05 (12.81)\\! \\\\\n",
      "500   &   \\!2.33 (1.39)\\! \\\\\n",
      "1000  &   \\!2.96 (4.12)\\! \\\\\n",
      "2000  &   \\!3.86 (3.68)\\! \\\\\n",
      "5000  &   \\!4.91 (7.41)\\! \\\\\n",
      "10000 &   \\!1.74 (1.70)\\! \\\\\n",
      "20000 &   \\!0.66 (0.08)\\! \\\\\n",
      "\\hline\n",
      "\\end{tabular}\n",
      "\n",
      "\\begin{tabular}{rc}\n",
      "Dataset & \\multicolumn{1}{c}{Injected}\\\\ \n",
      "\\hline \n",
      "100   &  \\!2.94 (2.63)\\! \\\\\n",
      "500   &  \\!2.25 (1.07)\\! \\\\\n",
      "1000  &  \\!1.68 (1.14)\\! \\\\\n",
      "2000  &  \\!1.71 (0.57)\\! \\\\\n",
      "5000  &  \\!1.51 (0.62)\\! \\\\\n",
      "10000 &  \\!1.16 (0.31)\\! \\\\\n",
      "20000 &  \\!1.02 (0.35)\\! \\\\\n",
      "\\hline\n",
      "\\end{tabular}\n",
      "\n"
     ]
    },
    {
     "name": "stderr",
     "output_type": "stream",
     "text": [
      "/tmp/ipykernel_17670/3047696067.py:82: FutureWarning:\n",
      "\n",
      "In future versions `DataFrame.to_latex` is expected to utilise the base implementation of `Styler.to_latex` for formatting and rendering. The arguments signature may therefore change. It is recommended instead to use `DataFrame.style.to_latex` which also contains additional functionality.\n",
      "\n"
     ]
    }
   ],
   "source": [
    "rerun_cali_size = False\n",
    "if rerun_cali_size:\n",
    "    ### Nested\n",
    "    %run -i main_realdata.py --version=\"cali_size3\" --out_folds=5 --in_folds=5 --dataset_szs=\"100\",\"500\",\"1000\",\"2000\",\"5000\",\"10000\",\"20000\" --thetas=\"-1\",\"0.05\"\n",
    "\n",
    "format_tab(collect_and_build_tab(version = f'cali_size3', cols = [\"CASTLE\"], metric = 'MSE', tau = 0.05))\n",
    "format_tab(pd.concat(\n",
    "[collect_and_build_tab(version = f'cali_size3', metric = 'MSE', tau = 0.05, cols = [\"Injected\"], sizes = [\"100\"]),\n",
    "collect_and_build_tab(version = f'cali_lr8', metric = 'MSE', tau = 0.05, cols = [\"Injected\"], sizes = [\"500\"]),\n",
    "collect_and_build_tab(version = f'cali_size3', metric = 'MSE', tau = 0.05, cols = [\"Injected\"], sizes = [\"1000\",\"2000\",\"5000\",\"10000\",\"20000\"])]\n",
    "))"
   ]
  },
  {
   "cell_type": "markdown",
   "metadata": {},
   "source": [
    "### Boston"
   ]
  },
  {
   "cell_type": "code",
   "execution_count": 89,
   "metadata": {},
   "outputs": [
    {
     "name": "stdout",
     "output_type": "stream",
     "text": [
      "\\begin{tabular}{rcc}\n",
      "Dataset & \\multicolumn{1}{c}{CASTLE} & \\multicolumn{1}{c}{Injected}\\\\ \n",
      "\\hline \n",
      "100 &  \\!112.04 (91.06)\\! &  \\!86.17 (13.75)\\! \\\\\n",
      "506 &    \\!21.95 (6.84)\\! &   \\!20.46 (5.12)\\! \\\\\n",
      "\\hline\n",
      "\\end{tabular}\n",
      "\n"
     ]
    },
    {
     "name": "stderr",
     "output_type": "stream",
     "text": [
      "/tmp/ipykernel_17670/3047696067.py:82: FutureWarning:\n",
      "\n",
      "In future versions `DataFrame.to_latex` is expected to utilise the base implementation of `Styler.to_latex` for formatting and rendering. The arguments signature may therefore change. It is recommended instead to use `DataFrame.style.to_latex` which also contains additional functionality.\n",
      "\n"
     ]
    }
   ],
   "source": [
    "rerun_boston_size = False\n",
    "if rerun_boston_size:\n",
    "    %run -i main_realdata.py --version=\"boston_size3\" --out_folds=5 --in_folds=5 --dataset_szs=\"100\",\"506\" --thetas='-1','0.13'\n",
    "\n",
    "format_tab(collect_and_build_tab(version = f'boston_size3', metric = 'MSE', tau = 0.13, sizes = [\"100\", \"506\"]))\n"
   ]
  },
  {
   "cell_type": "markdown",
   "metadata": {},
   "source": [
    "### Fico"
   ]
  },
  {
   "cell_type": "code",
   "execution_count": 90,
   "metadata": {},
   "outputs": [
    {
     "name": "stderr",
     "output_type": "stream",
     "text": [
      "/tmp/ipykernel_17670/3047696067.py:82: FutureWarning:\n",
      "\n",
      "In future versions `DataFrame.to_latex` is expected to utilise the base implementation of `Styler.to_latex` for formatting and rendering. The arguments signature may therefore change. It is recommended instead to use `DataFrame.style.to_latex` which also contains additional functionality.\n",
      "\n"
     ]
    },
    {
     "name": "stdout",
     "output_type": "stream",
     "text": [
      "\\begin{tabular}{rc}\n",
      "Dataset & \\multicolumn{1}{c}{CASTLE}\\\\ \n",
      "\\hline \n",
      "100  &  \\!0.75 (0.02)\\! \\\\\n",
      "500  &  \\!0.79 (0.01)\\! \\\\\n",
      "1000 &  \\!0.78 (0.01)\\! \\\\\n",
      "2000 &  \\!0.79 (0.01)\\! \\\\\n",
      "5000 &  \\!0.79 (0.01)\\! \\\\\n",
      "8000 &  \\!0.80 (0.01)\\! \\\\\n",
      "\\hline\n",
      "\\end{tabular}\n",
      "\n",
      "\\begin{tabular}{rc}\n",
      "Dataset & \\multicolumn{1}{c}{Injected}\\\\ \n",
      "\\hline \n",
      "100  &  \\!0.74 (0.04)\\! \\\\\n",
      "500  &  \\!0.78 (0.01)\\! \\\\\n",
      "1000 &  \\!0.78 (0.01)\\! \\\\\n",
      "2000 &  \\!0.78 (0.01)\\! \\\\\n",
      "5000 &  \\!0.79 (0.01)\\! \\\\\n",
      "8000 &  \\!0.79 (0.01)\\! \\\\\n",
      "\\hline\n",
      "\\end{tabular}\n",
      "\n"
     ]
    },
    {
     "name": "stderr",
     "output_type": "stream",
     "text": [
      "/tmp/ipykernel_17670/3047696067.py:82: FutureWarning:\n",
      "\n",
      "In future versions `DataFrame.to_latex` is expected to utilise the base implementation of `Styler.to_latex` for formatting and rendering. The arguments signature may therefore change. It is recommended instead to use `DataFrame.style.to_latex` which also contains additional functionality.\n",
      "\n"
     ]
    }
   ],
   "source": [
    "rerun_fico_size = False\n",
    "if rerun_fico_size:\n",
    "    %run -i main_realdata.py --version=\"fico_size5\" --out_folds=5 --in_folds=5 --dataset_szs=\"100\",\"500\",\"1000\",\"2000\",\"5000\",\"8000\" --thetas=\"-1\"\n",
    "    %run -i main_realdata.py --version=\"fico_size7\" --out_folds=5 --in_folds=5 --dataset_szs=\"100\",\"500\",\"1000\",\"2000\",\"5000\",\"8000\" --thetas=\"0.004\"\n",
    "\n",
    "format_tab(collect_and_build_tab(version = f'fico_size5', metric = 'auc', tau = -1, cols = [\"CASTLE\"], sizes = [\"100\",\"500\",\"1000\",\"2000\",\"5000\",\"8000\"]))\n",
    "format_tab(pd.concat([\n",
    "collect_and_build_tab(version = f'fico_lr_75', metric = 'auc', tau = 0.004, cols = [\"Injected\"], sizes = [\"100\"]),\n",
    "collect_and_build_tab(version = f'fico_size10', metric = 'auc', tau = 0.004, cols = [\"Injected\"], sizes = [\"500\"]),\n",
    "collect_and_build_tab(version = f'fico_size7', metric = 'auc', tau = 0.004, cols = [\"Injected\"], sizes = [\"1000\",\"2000\",\"5000\",\"8000\"])\n",
    "]))"
   ]
  },
  {
   "cell_type": "markdown",
   "metadata": {},
   "source": [
    "### Adult"
   ]
  },
  {
   "cell_type": "code",
   "execution_count": 91,
   "metadata": {},
   "outputs": [
    {
     "name": "stderr",
     "output_type": "stream",
     "text": [
      "/tmp/ipykernel_17670/3047696067.py:82: FutureWarning:\n",
      "\n",
      "In future versions `DataFrame.to_latex` is expected to utilise the base implementation of `Styler.to_latex` for formatting and rendering. The arguments signature may therefore change. It is recommended instead to use `DataFrame.style.to_latex` which also contains additional functionality.\n",
      "\n"
     ]
    },
    {
     "name": "stdout",
     "output_type": "stream",
     "text": [
      "\\begin{tabular}{rc}\n",
      "Dataset & \\multicolumn{1}{c}{CASTLE}\\\\ \n",
      "\\hline \n",
      "100   &  \\!0.67 (0.03)\\! \\\\\n",
      "500   &  \\!0.72 (0.04)\\! \\\\\n",
      "1000  &  \\!0.75 (0.03)\\! \\\\\n",
      "2000  &  \\!0.74 (0.03)\\! \\\\\n",
      "5000  &  \\!0.75 (0.03)\\! \\\\\n",
      "10000 &  \\!0.75 (0.02)\\! \\\\\n",
      "20000 &  \\!0.76 (0.02)\\! \\\\\n",
      "\\hline\n",
      "\\end{tabular}\n",
      "\n",
      "\\begin{tabular}{rc}\n",
      "Dataset & \\multicolumn{1}{c}{Injected}\\\\ \n",
      "\\hline \n",
      "100   &  \\!0.69 (0.04)\\! \\\\\n",
      "500   &  \\!0.74 (0.02)\\! \\\\\n",
      "1000  &  \\!0.76 (0.03)\\! \\\\\n",
      "2000  &  \\!0.77 (0.01)\\! \\\\\n",
      "5000  &  \\!0.79 (0.03)\\! \\\\\n",
      "10000 &  \\!0.85 (0.01)\\! \\\\\n",
      "20000 &  \\!0.86 (0.01)\\! \\\\\n",
      "\\hline\n",
      "\\end{tabular}\n",
      "\n"
     ]
    },
    {
     "name": "stderr",
     "output_type": "stream",
     "text": [
      "/tmp/ipykernel_17670/3047696067.py:82: FutureWarning:\n",
      "\n",
      "In future versions `DataFrame.to_latex` is expected to utilise the base implementation of `Styler.to_latex` for formatting and rendering. The arguments signature may therefore change. It is recommended instead to use `DataFrame.style.to_latex` which also contains additional functionality.\n",
      "\n"
     ]
    }
   ],
   "source": [
    "rerun_adult_size = False\n",
    "if rerun_adult_size:\n",
    "    %run -i main_realdata.py --version=\"adult_size\" --out_folds=5 --in_folds=5 --dataset_szs=\"100\",\"500\",\"1000\",\"2000\",\"5000\",\"10000\",\"20000\" --thetas=\"-1\"\n",
    "    %run -i main_realdata.py --version=\"adult_size2\" --out_folds=5 --in_folds=5 --dataset_szs=\"100\",\"500\",\"1000\",\"2000\",\"5000\",\"10000\",\"20000\" --thetas=\"0.08\"\n",
    "\n",
    "format_tab(collect_and_build_tab(version = f'adult_size', metric = 'auc', tau = -1, cols = [\"CASTLE\"]))\n",
    "format_tab(pd.concat([\n",
    "collect_and_build_tab(version = f'adult_size5', metric = 'auc', tau = 0.08, cols = [\"Injected\"], sizes = [\"100\"]),\n",
    "collect_and_build_tab(version = f'adult_size4', metric = 'auc', tau = 0.08, cols = [\"Injected\"], sizes = [\"500\"]),\n",
    "collect_and_build_tab(version = f'adult_size2', metric = 'auc', tau = 0.08, cols = [\"Injected\"], sizes = [\"1000\",\"2000\",\"5000\",\"10000\",\"20000\"])\n",
    "]))"
   ]
  },
  {
   "cell_type": "markdown",
   "metadata": {},
   "source": [
    "## Table 1 - Adult Partial Experiment"
   ]
  },
  {
   "cell_type": "markdown",
   "metadata": {},
   "source": [
    "### Create a Partial Input Graph\n",
    "\n",
    "This code is also in utils.py where main_synth.py picks it up from. Here for illustration."
   ]
  },
  {
   "cell_type": "code",
   "execution_count": 92,
   "metadata": {
    "jupyter": {
     "source_hidden": true
    },
    "tags": []
   },
   "outputs": [
    {
     "data": {
      "text/html": [
       "<style type=\"text/css\">\n",
       "#T_80074_row0_col0, #T_80074_row0_col1, #T_80074_row0_col2, #T_80074_row0_col3, #T_80074_row0_col4, #T_80074_row0_col5, #T_80074_row0_col6, #T_80074_row0_col7, #T_80074_row0_col8, #T_80074_row0_col9, #T_80074_row0_col10, #T_80074_row0_col11, #T_80074_row0_col12, #T_80074_row0_col13, #T_80074_row0_col14, #T_80074_row1_col1, #T_80074_row1_col9, #T_80074_row1_col10, #T_80074_row1_col14, #T_80074_row2_col1, #T_80074_row2_col2, #T_80074_row2_col9, #T_80074_row2_col10, #T_80074_row2_col14, #T_80074_row3_col1, #T_80074_row3_col3, #T_80074_row3_col9, #T_80074_row3_col10, #T_80074_row3_col14, #T_80074_row4_col1, #T_80074_row4_col4, #T_80074_row4_col9, #T_80074_row4_col10, #T_80074_row4_col14, #T_80074_row5_col1, #T_80074_row5_col5, #T_80074_row5_col9, #T_80074_row5_col10, #T_80074_row5_col14, #T_80074_row6_col1, #T_80074_row6_col6, #T_80074_row6_col9, #T_80074_row6_col10, #T_80074_row6_col14, #T_80074_row7_col1, #T_80074_row7_col3, #T_80074_row7_col4, #T_80074_row7_col5, #T_80074_row7_col6, #T_80074_row7_col7, #T_80074_row7_col8, #T_80074_row7_col9, #T_80074_row7_col10, #T_80074_row7_col14, #T_80074_row8_col1, #T_80074_row8_col8, #T_80074_row8_col9, #T_80074_row8_col10, #T_80074_row8_col14, #T_80074_row9_col1, #T_80074_row9_col9, #T_80074_row9_col10, #T_80074_row9_col14, #T_80074_row10_col1, #T_80074_row10_col9, #T_80074_row10_col10, #T_80074_row10_col14, #T_80074_row11_col1, #T_80074_row11_col2, #T_80074_row11_col3, #T_80074_row11_col4, #T_80074_row11_col5, #T_80074_row11_col6, #T_80074_row11_col7, #T_80074_row11_col8, #T_80074_row11_col9, #T_80074_row11_col10, #T_80074_row11_col11, #T_80074_row11_col12, #T_80074_row11_col13, #T_80074_row11_col14, #T_80074_row12_col1, #T_80074_row12_col2, #T_80074_row12_col3, #T_80074_row12_col4, #T_80074_row12_col5, #T_80074_row12_col6, #T_80074_row12_col7, #T_80074_row12_col8, #T_80074_row12_col9, #T_80074_row12_col10, #T_80074_row12_col11, #T_80074_row12_col12, #T_80074_row12_col13, #T_80074_row12_col14, #T_80074_row13_col1, #T_80074_row13_col3, #T_80074_row13_col4, #T_80074_row13_col5, #T_80074_row13_col6, #T_80074_row13_col8, #T_80074_row13_col9, #T_80074_row13_col10, #T_80074_row13_col13, #T_80074_row13_col14, #T_80074_row14_col1, #T_80074_row14_col9, #T_80074_row14_col10, #T_80074_row14_col14 {\n",
       "  background-color: #f0f1f3;\n",
       "  color: #000000;\n",
       "}\n",
       "#T_80074_row1_col0, #T_80074_row1_col2, #T_80074_row1_col3, #T_80074_row1_col4, #T_80074_row1_col5, #T_80074_row1_col6, #T_80074_row1_col7, #T_80074_row1_col8, #T_80074_row1_col11, #T_80074_row1_col12, #T_80074_row1_col13, #T_80074_row2_col0, #T_80074_row2_col3, #T_80074_row2_col4, #T_80074_row2_col5, #T_80074_row2_col6, #T_80074_row2_col7, #T_80074_row2_col8, #T_80074_row2_col11, #T_80074_row2_col12, #T_80074_row2_col13, #T_80074_row3_col0, #T_80074_row3_col2, #T_80074_row3_col4, #T_80074_row3_col5, #T_80074_row3_col6, #T_80074_row3_col7, #T_80074_row3_col8, #T_80074_row3_col11, #T_80074_row3_col12, #T_80074_row3_col13, #T_80074_row4_col0, #T_80074_row4_col2, #T_80074_row4_col3, #T_80074_row4_col5, #T_80074_row4_col6, #T_80074_row4_col7, #T_80074_row4_col8, #T_80074_row4_col11, #T_80074_row4_col12, #T_80074_row4_col13, #T_80074_row5_col0, #T_80074_row5_col2, #T_80074_row5_col3, #T_80074_row5_col4, #T_80074_row5_col6, #T_80074_row5_col7, #T_80074_row5_col8, #T_80074_row5_col11, #T_80074_row5_col12, #T_80074_row5_col13, #T_80074_row6_col0, #T_80074_row6_col2, #T_80074_row6_col3, #T_80074_row6_col4, #T_80074_row6_col5, #T_80074_row6_col7, #T_80074_row6_col8, #T_80074_row6_col11, #T_80074_row6_col12, #T_80074_row6_col13, #T_80074_row7_col0, #T_80074_row7_col2, #T_80074_row7_col11, #T_80074_row7_col12, #T_80074_row7_col13, #T_80074_row8_col0, #T_80074_row8_col2, #T_80074_row8_col3, #T_80074_row8_col4, #T_80074_row8_col5, #T_80074_row8_col6, #T_80074_row8_col7, #T_80074_row8_col11, #T_80074_row8_col12, #T_80074_row8_col13, #T_80074_row9_col0, #T_80074_row9_col2, #T_80074_row9_col3, #T_80074_row9_col4, #T_80074_row9_col5, #T_80074_row9_col6, #T_80074_row9_col7, #T_80074_row9_col8, #T_80074_row9_col11, #T_80074_row9_col12, #T_80074_row9_col13, #T_80074_row10_col0, #T_80074_row10_col2, #T_80074_row10_col3, #T_80074_row10_col4, #T_80074_row10_col5, #T_80074_row10_col6, #T_80074_row10_col7, #T_80074_row10_col8, #T_80074_row10_col11, #T_80074_row10_col12, #T_80074_row10_col13, #T_80074_row11_col0, #T_80074_row12_col0, #T_80074_row13_col0, #T_80074_row13_col2, #T_80074_row13_col7, #T_80074_row13_col11, #T_80074_row13_col12, #T_80074_row14_col0, #T_80074_row14_col2, #T_80074_row14_col3, #T_80074_row14_col4, #T_80074_row14_col5, #T_80074_row14_col6, #T_80074_row14_col7, #T_80074_row14_col8, #T_80074_row14_col11, #T_80074_row14_col12, #T_80074_row14_col13 {\n",
       "  background-color: #7797b3;\n",
       "  color: #f1f1f1;\n",
       "}\n",
       "</style>\n",
       "<table id=\"T_80074\">\n",
       "  <thead>\n",
       "    <tr>\n",
       "      <th class=\"blank level0\" >&nbsp;</th>\n",
       "      <th id=\"T_80074_level0_col0\" class=\"col_heading level0 col0\" >target</th>\n",
       "      <th id=\"T_80074_level0_col1\" class=\"col_heading level0 col1\" >age</th>\n",
       "      <th id=\"T_80074_level0_col2\" class=\"col_heading level0 col2\" >workclass</th>\n",
       "      <th id=\"T_80074_level0_col3\" class=\"col_heading level0 col3\" >fnlwgt</th>\n",
       "      <th id=\"T_80074_level0_col4\" class=\"col_heading level0 col4\" >education</th>\n",
       "      <th id=\"T_80074_level0_col5\" class=\"col_heading level0 col5\" >education-num</th>\n",
       "      <th id=\"T_80074_level0_col6\" class=\"col_heading level0 col6\" >marital-status</th>\n",
       "      <th id=\"T_80074_level0_col7\" class=\"col_heading level0 col7\" >occupation</th>\n",
       "      <th id=\"T_80074_level0_col8\" class=\"col_heading level0 col8\" >relationship</th>\n",
       "      <th id=\"T_80074_level0_col9\" class=\"col_heading level0 col9\" >race</th>\n",
       "      <th id=\"T_80074_level0_col10\" class=\"col_heading level0 col10\" >sex</th>\n",
       "      <th id=\"T_80074_level0_col11\" class=\"col_heading level0 col11\" >capital-gain</th>\n",
       "      <th id=\"T_80074_level0_col12\" class=\"col_heading level0 col12\" >capital-loss</th>\n",
       "      <th id=\"T_80074_level0_col13\" class=\"col_heading level0 col13\" >hours-per-week</th>\n",
       "      <th id=\"T_80074_level0_col14\" class=\"col_heading level0 col14\" >native-country</th>\n",
       "    </tr>\n",
       "  </thead>\n",
       "  <tbody>\n",
       "    <tr>\n",
       "      <th id=\"T_80074_level0_row0\" class=\"row_heading level0 row0\" >target</th>\n",
       "      <td id=\"T_80074_row0_col0\" class=\"data row0 col0\" >0.0</td>\n",
       "      <td id=\"T_80074_row0_col1\" class=\"data row0 col1\" >0.0</td>\n",
       "      <td id=\"T_80074_row0_col2\" class=\"data row0 col2\" >0.0</td>\n",
       "      <td id=\"T_80074_row0_col3\" class=\"data row0 col3\" >0.0</td>\n",
       "      <td id=\"T_80074_row0_col4\" class=\"data row0 col4\" >0.0</td>\n",
       "      <td id=\"T_80074_row0_col5\" class=\"data row0 col5\" >0.0</td>\n",
       "      <td id=\"T_80074_row0_col6\" class=\"data row0 col6\" >0.0</td>\n",
       "      <td id=\"T_80074_row0_col7\" class=\"data row0 col7\" >0.0</td>\n",
       "      <td id=\"T_80074_row0_col8\" class=\"data row0 col8\" >0.0</td>\n",
       "      <td id=\"T_80074_row0_col9\" class=\"data row0 col9\" >0.0</td>\n",
       "      <td id=\"T_80074_row0_col10\" class=\"data row0 col10\" >0.0</td>\n",
       "      <td id=\"T_80074_row0_col11\" class=\"data row0 col11\" >0.0</td>\n",
       "      <td id=\"T_80074_row0_col12\" class=\"data row0 col12\" >0.0</td>\n",
       "      <td id=\"T_80074_row0_col13\" class=\"data row0 col13\" >0.0</td>\n",
       "      <td id=\"T_80074_row0_col14\" class=\"data row0 col14\" >0.0</td>\n",
       "    </tr>\n",
       "    <tr>\n",
       "      <th id=\"T_80074_level0_row1\" class=\"row_heading level0 row1\" >age</th>\n",
       "      <td id=\"T_80074_row1_col0\" class=\"data row1 col0\" >1.0</td>\n",
       "      <td id=\"T_80074_row1_col1\" class=\"data row1 col1\" >0.0</td>\n",
       "      <td id=\"T_80074_row1_col2\" class=\"data row1 col2\" >1.0</td>\n",
       "      <td id=\"T_80074_row1_col3\" class=\"data row1 col3\" >1.0</td>\n",
       "      <td id=\"T_80074_row1_col4\" class=\"data row1 col4\" >1.0</td>\n",
       "      <td id=\"T_80074_row1_col5\" class=\"data row1 col5\" >1.0</td>\n",
       "      <td id=\"T_80074_row1_col6\" class=\"data row1 col6\" >1.0</td>\n",
       "      <td id=\"T_80074_row1_col7\" class=\"data row1 col7\" >1.0</td>\n",
       "      <td id=\"T_80074_row1_col8\" class=\"data row1 col8\" >1.0</td>\n",
       "      <td id=\"T_80074_row1_col9\" class=\"data row1 col9\" >0.0</td>\n",
       "      <td id=\"T_80074_row1_col10\" class=\"data row1 col10\" >0.0</td>\n",
       "      <td id=\"T_80074_row1_col11\" class=\"data row1 col11\" >1.0</td>\n",
       "      <td id=\"T_80074_row1_col12\" class=\"data row1 col12\" >1.0</td>\n",
       "      <td id=\"T_80074_row1_col13\" class=\"data row1 col13\" >1.0</td>\n",
       "      <td id=\"T_80074_row1_col14\" class=\"data row1 col14\" >0.0</td>\n",
       "    </tr>\n",
       "    <tr>\n",
       "      <th id=\"T_80074_level0_row2\" class=\"row_heading level0 row2\" >workclass</th>\n",
       "      <td id=\"T_80074_row2_col0\" class=\"data row2 col0\" >1.0</td>\n",
       "      <td id=\"T_80074_row2_col1\" class=\"data row2 col1\" >0.0</td>\n",
       "      <td id=\"T_80074_row2_col2\" class=\"data row2 col2\" >0.0</td>\n",
       "      <td id=\"T_80074_row2_col3\" class=\"data row2 col3\" >1.0</td>\n",
       "      <td id=\"T_80074_row2_col4\" class=\"data row2 col4\" >1.0</td>\n",
       "      <td id=\"T_80074_row2_col5\" class=\"data row2 col5\" >1.0</td>\n",
       "      <td id=\"T_80074_row2_col6\" class=\"data row2 col6\" >1.0</td>\n",
       "      <td id=\"T_80074_row2_col7\" class=\"data row2 col7\" >1.0</td>\n",
       "      <td id=\"T_80074_row2_col8\" class=\"data row2 col8\" >1.0</td>\n",
       "      <td id=\"T_80074_row2_col9\" class=\"data row2 col9\" >0.0</td>\n",
       "      <td id=\"T_80074_row2_col10\" class=\"data row2 col10\" >0.0</td>\n",
       "      <td id=\"T_80074_row2_col11\" class=\"data row2 col11\" >1.0</td>\n",
       "      <td id=\"T_80074_row2_col12\" class=\"data row2 col12\" >1.0</td>\n",
       "      <td id=\"T_80074_row2_col13\" class=\"data row2 col13\" >1.0</td>\n",
       "      <td id=\"T_80074_row2_col14\" class=\"data row2 col14\" >0.0</td>\n",
       "    </tr>\n",
       "    <tr>\n",
       "      <th id=\"T_80074_level0_row3\" class=\"row_heading level0 row3\" >fnlwgt</th>\n",
       "      <td id=\"T_80074_row3_col0\" class=\"data row3 col0\" >1.0</td>\n",
       "      <td id=\"T_80074_row3_col1\" class=\"data row3 col1\" >0.0</td>\n",
       "      <td id=\"T_80074_row3_col2\" class=\"data row3 col2\" >1.0</td>\n",
       "      <td id=\"T_80074_row3_col3\" class=\"data row3 col3\" >0.0</td>\n",
       "      <td id=\"T_80074_row3_col4\" class=\"data row3 col4\" >1.0</td>\n",
       "      <td id=\"T_80074_row3_col5\" class=\"data row3 col5\" >1.0</td>\n",
       "      <td id=\"T_80074_row3_col6\" class=\"data row3 col6\" >1.0</td>\n",
       "      <td id=\"T_80074_row3_col7\" class=\"data row3 col7\" >1.0</td>\n",
       "      <td id=\"T_80074_row3_col8\" class=\"data row3 col8\" >1.0</td>\n",
       "      <td id=\"T_80074_row3_col9\" class=\"data row3 col9\" >0.0</td>\n",
       "      <td id=\"T_80074_row3_col10\" class=\"data row3 col10\" >0.0</td>\n",
       "      <td id=\"T_80074_row3_col11\" class=\"data row3 col11\" >1.0</td>\n",
       "      <td id=\"T_80074_row3_col12\" class=\"data row3 col12\" >1.0</td>\n",
       "      <td id=\"T_80074_row3_col13\" class=\"data row3 col13\" >1.0</td>\n",
       "      <td id=\"T_80074_row3_col14\" class=\"data row3 col14\" >0.0</td>\n",
       "    </tr>\n",
       "    <tr>\n",
       "      <th id=\"T_80074_level0_row4\" class=\"row_heading level0 row4\" >education</th>\n",
       "      <td id=\"T_80074_row4_col0\" class=\"data row4 col0\" >1.0</td>\n",
       "      <td id=\"T_80074_row4_col1\" class=\"data row4 col1\" >0.0</td>\n",
       "      <td id=\"T_80074_row4_col2\" class=\"data row4 col2\" >1.0</td>\n",
       "      <td id=\"T_80074_row4_col3\" class=\"data row4 col3\" >1.0</td>\n",
       "      <td id=\"T_80074_row4_col4\" class=\"data row4 col4\" >0.0</td>\n",
       "      <td id=\"T_80074_row4_col5\" class=\"data row4 col5\" >1.0</td>\n",
       "      <td id=\"T_80074_row4_col6\" class=\"data row4 col6\" >1.0</td>\n",
       "      <td id=\"T_80074_row4_col7\" class=\"data row4 col7\" >1.0</td>\n",
       "      <td id=\"T_80074_row4_col8\" class=\"data row4 col8\" >1.0</td>\n",
       "      <td id=\"T_80074_row4_col9\" class=\"data row4 col9\" >0.0</td>\n",
       "      <td id=\"T_80074_row4_col10\" class=\"data row4 col10\" >0.0</td>\n",
       "      <td id=\"T_80074_row4_col11\" class=\"data row4 col11\" >1.0</td>\n",
       "      <td id=\"T_80074_row4_col12\" class=\"data row4 col12\" >1.0</td>\n",
       "      <td id=\"T_80074_row4_col13\" class=\"data row4 col13\" >1.0</td>\n",
       "      <td id=\"T_80074_row4_col14\" class=\"data row4 col14\" >0.0</td>\n",
       "    </tr>\n",
       "    <tr>\n",
       "      <th id=\"T_80074_level0_row5\" class=\"row_heading level0 row5\" >education-num</th>\n",
       "      <td id=\"T_80074_row5_col0\" class=\"data row5 col0\" >1.0</td>\n",
       "      <td id=\"T_80074_row5_col1\" class=\"data row5 col1\" >0.0</td>\n",
       "      <td id=\"T_80074_row5_col2\" class=\"data row5 col2\" >1.0</td>\n",
       "      <td id=\"T_80074_row5_col3\" class=\"data row5 col3\" >1.0</td>\n",
       "      <td id=\"T_80074_row5_col4\" class=\"data row5 col4\" >1.0</td>\n",
       "      <td id=\"T_80074_row5_col5\" class=\"data row5 col5\" >0.0</td>\n",
       "      <td id=\"T_80074_row5_col6\" class=\"data row5 col6\" >1.0</td>\n",
       "      <td id=\"T_80074_row5_col7\" class=\"data row5 col7\" >1.0</td>\n",
       "      <td id=\"T_80074_row5_col8\" class=\"data row5 col8\" >1.0</td>\n",
       "      <td id=\"T_80074_row5_col9\" class=\"data row5 col9\" >0.0</td>\n",
       "      <td id=\"T_80074_row5_col10\" class=\"data row5 col10\" >0.0</td>\n",
       "      <td id=\"T_80074_row5_col11\" class=\"data row5 col11\" >1.0</td>\n",
       "      <td id=\"T_80074_row5_col12\" class=\"data row5 col12\" >1.0</td>\n",
       "      <td id=\"T_80074_row5_col13\" class=\"data row5 col13\" >1.0</td>\n",
       "      <td id=\"T_80074_row5_col14\" class=\"data row5 col14\" >0.0</td>\n",
       "    </tr>\n",
       "    <tr>\n",
       "      <th id=\"T_80074_level0_row6\" class=\"row_heading level0 row6\" >marital-status</th>\n",
       "      <td id=\"T_80074_row6_col0\" class=\"data row6 col0\" >1.0</td>\n",
       "      <td id=\"T_80074_row6_col1\" class=\"data row6 col1\" >0.0</td>\n",
       "      <td id=\"T_80074_row6_col2\" class=\"data row6 col2\" >1.0</td>\n",
       "      <td id=\"T_80074_row6_col3\" class=\"data row6 col3\" >1.0</td>\n",
       "      <td id=\"T_80074_row6_col4\" class=\"data row6 col4\" >1.0</td>\n",
       "      <td id=\"T_80074_row6_col5\" class=\"data row6 col5\" >1.0</td>\n",
       "      <td id=\"T_80074_row6_col6\" class=\"data row6 col6\" >0.0</td>\n",
       "      <td id=\"T_80074_row6_col7\" class=\"data row6 col7\" >1.0</td>\n",
       "      <td id=\"T_80074_row6_col8\" class=\"data row6 col8\" >1.0</td>\n",
       "      <td id=\"T_80074_row6_col9\" class=\"data row6 col9\" >0.0</td>\n",
       "      <td id=\"T_80074_row6_col10\" class=\"data row6 col10\" >0.0</td>\n",
       "      <td id=\"T_80074_row6_col11\" class=\"data row6 col11\" >1.0</td>\n",
       "      <td id=\"T_80074_row6_col12\" class=\"data row6 col12\" >1.0</td>\n",
       "      <td id=\"T_80074_row6_col13\" class=\"data row6 col13\" >1.0</td>\n",
       "      <td id=\"T_80074_row6_col14\" class=\"data row6 col14\" >0.0</td>\n",
       "    </tr>\n",
       "    <tr>\n",
       "      <th id=\"T_80074_level0_row7\" class=\"row_heading level0 row7\" >occupation</th>\n",
       "      <td id=\"T_80074_row7_col0\" class=\"data row7 col0\" >1.0</td>\n",
       "      <td id=\"T_80074_row7_col1\" class=\"data row7 col1\" >0.0</td>\n",
       "      <td id=\"T_80074_row7_col2\" class=\"data row7 col2\" >1.0</td>\n",
       "      <td id=\"T_80074_row7_col3\" class=\"data row7 col3\" >0.0</td>\n",
       "      <td id=\"T_80074_row7_col4\" class=\"data row7 col4\" >0.0</td>\n",
       "      <td id=\"T_80074_row7_col5\" class=\"data row7 col5\" >0.0</td>\n",
       "      <td id=\"T_80074_row7_col6\" class=\"data row7 col6\" >0.0</td>\n",
       "      <td id=\"T_80074_row7_col7\" class=\"data row7 col7\" >0.0</td>\n",
       "      <td id=\"T_80074_row7_col8\" class=\"data row7 col8\" >0.0</td>\n",
       "      <td id=\"T_80074_row7_col9\" class=\"data row7 col9\" >0.0</td>\n",
       "      <td id=\"T_80074_row7_col10\" class=\"data row7 col10\" >0.0</td>\n",
       "      <td id=\"T_80074_row7_col11\" class=\"data row7 col11\" >1.0</td>\n",
       "      <td id=\"T_80074_row7_col12\" class=\"data row7 col12\" >1.0</td>\n",
       "      <td id=\"T_80074_row7_col13\" class=\"data row7 col13\" >1.0</td>\n",
       "      <td id=\"T_80074_row7_col14\" class=\"data row7 col14\" >0.0</td>\n",
       "    </tr>\n",
       "    <tr>\n",
       "      <th id=\"T_80074_level0_row8\" class=\"row_heading level0 row8\" >relationship</th>\n",
       "      <td id=\"T_80074_row8_col0\" class=\"data row8 col0\" >1.0</td>\n",
       "      <td id=\"T_80074_row8_col1\" class=\"data row8 col1\" >0.0</td>\n",
       "      <td id=\"T_80074_row8_col2\" class=\"data row8 col2\" >1.0</td>\n",
       "      <td id=\"T_80074_row8_col3\" class=\"data row8 col3\" >1.0</td>\n",
       "      <td id=\"T_80074_row8_col4\" class=\"data row8 col4\" >1.0</td>\n",
       "      <td id=\"T_80074_row8_col5\" class=\"data row8 col5\" >1.0</td>\n",
       "      <td id=\"T_80074_row8_col6\" class=\"data row8 col6\" >1.0</td>\n",
       "      <td id=\"T_80074_row8_col7\" class=\"data row8 col7\" >1.0</td>\n",
       "      <td id=\"T_80074_row8_col8\" class=\"data row8 col8\" >0.0</td>\n",
       "      <td id=\"T_80074_row8_col9\" class=\"data row8 col9\" >0.0</td>\n",
       "      <td id=\"T_80074_row8_col10\" class=\"data row8 col10\" >0.0</td>\n",
       "      <td id=\"T_80074_row8_col11\" class=\"data row8 col11\" >1.0</td>\n",
       "      <td id=\"T_80074_row8_col12\" class=\"data row8 col12\" >1.0</td>\n",
       "      <td id=\"T_80074_row8_col13\" class=\"data row8 col13\" >1.0</td>\n",
       "      <td id=\"T_80074_row8_col14\" class=\"data row8 col14\" >0.0</td>\n",
       "    </tr>\n",
       "    <tr>\n",
       "      <th id=\"T_80074_level0_row9\" class=\"row_heading level0 row9\" >race</th>\n",
       "      <td id=\"T_80074_row9_col0\" class=\"data row9 col0\" >1.0</td>\n",
       "      <td id=\"T_80074_row9_col1\" class=\"data row9 col1\" >0.0</td>\n",
       "      <td id=\"T_80074_row9_col2\" class=\"data row9 col2\" >1.0</td>\n",
       "      <td id=\"T_80074_row9_col3\" class=\"data row9 col3\" >1.0</td>\n",
       "      <td id=\"T_80074_row9_col4\" class=\"data row9 col4\" >1.0</td>\n",
       "      <td id=\"T_80074_row9_col5\" class=\"data row9 col5\" >1.0</td>\n",
       "      <td id=\"T_80074_row9_col6\" class=\"data row9 col6\" >1.0</td>\n",
       "      <td id=\"T_80074_row9_col7\" class=\"data row9 col7\" >1.0</td>\n",
       "      <td id=\"T_80074_row9_col8\" class=\"data row9 col8\" >1.0</td>\n",
       "      <td id=\"T_80074_row9_col9\" class=\"data row9 col9\" >0.0</td>\n",
       "      <td id=\"T_80074_row9_col10\" class=\"data row9 col10\" >0.0</td>\n",
       "      <td id=\"T_80074_row9_col11\" class=\"data row9 col11\" >1.0</td>\n",
       "      <td id=\"T_80074_row9_col12\" class=\"data row9 col12\" >1.0</td>\n",
       "      <td id=\"T_80074_row9_col13\" class=\"data row9 col13\" >1.0</td>\n",
       "      <td id=\"T_80074_row9_col14\" class=\"data row9 col14\" >0.0</td>\n",
       "    </tr>\n",
       "    <tr>\n",
       "      <th id=\"T_80074_level0_row10\" class=\"row_heading level0 row10\" >sex</th>\n",
       "      <td id=\"T_80074_row10_col0\" class=\"data row10 col0\" >1.0</td>\n",
       "      <td id=\"T_80074_row10_col1\" class=\"data row10 col1\" >0.0</td>\n",
       "      <td id=\"T_80074_row10_col2\" class=\"data row10 col2\" >1.0</td>\n",
       "      <td id=\"T_80074_row10_col3\" class=\"data row10 col3\" >1.0</td>\n",
       "      <td id=\"T_80074_row10_col4\" class=\"data row10 col4\" >1.0</td>\n",
       "      <td id=\"T_80074_row10_col5\" class=\"data row10 col5\" >1.0</td>\n",
       "      <td id=\"T_80074_row10_col6\" class=\"data row10 col6\" >1.0</td>\n",
       "      <td id=\"T_80074_row10_col7\" class=\"data row10 col7\" >1.0</td>\n",
       "      <td id=\"T_80074_row10_col8\" class=\"data row10 col8\" >1.0</td>\n",
       "      <td id=\"T_80074_row10_col9\" class=\"data row10 col9\" >0.0</td>\n",
       "      <td id=\"T_80074_row10_col10\" class=\"data row10 col10\" >0.0</td>\n",
       "      <td id=\"T_80074_row10_col11\" class=\"data row10 col11\" >1.0</td>\n",
       "      <td id=\"T_80074_row10_col12\" class=\"data row10 col12\" >1.0</td>\n",
       "      <td id=\"T_80074_row10_col13\" class=\"data row10 col13\" >1.0</td>\n",
       "      <td id=\"T_80074_row10_col14\" class=\"data row10 col14\" >0.0</td>\n",
       "    </tr>\n",
       "    <tr>\n",
       "      <th id=\"T_80074_level0_row11\" class=\"row_heading level0 row11\" >capital-gain</th>\n",
       "      <td id=\"T_80074_row11_col0\" class=\"data row11 col0\" >1.0</td>\n",
       "      <td id=\"T_80074_row11_col1\" class=\"data row11 col1\" >0.0</td>\n",
       "      <td id=\"T_80074_row11_col2\" class=\"data row11 col2\" >0.0</td>\n",
       "      <td id=\"T_80074_row11_col3\" class=\"data row11 col3\" >0.0</td>\n",
       "      <td id=\"T_80074_row11_col4\" class=\"data row11 col4\" >0.0</td>\n",
       "      <td id=\"T_80074_row11_col5\" class=\"data row11 col5\" >0.0</td>\n",
       "      <td id=\"T_80074_row11_col6\" class=\"data row11 col6\" >0.0</td>\n",
       "      <td id=\"T_80074_row11_col7\" class=\"data row11 col7\" >0.0</td>\n",
       "      <td id=\"T_80074_row11_col8\" class=\"data row11 col8\" >0.0</td>\n",
       "      <td id=\"T_80074_row11_col9\" class=\"data row11 col9\" >0.0</td>\n",
       "      <td id=\"T_80074_row11_col10\" class=\"data row11 col10\" >0.0</td>\n",
       "      <td id=\"T_80074_row11_col11\" class=\"data row11 col11\" >0.0</td>\n",
       "      <td id=\"T_80074_row11_col12\" class=\"data row11 col12\" >0.0</td>\n",
       "      <td id=\"T_80074_row11_col13\" class=\"data row11 col13\" >0.0</td>\n",
       "      <td id=\"T_80074_row11_col14\" class=\"data row11 col14\" >0.0</td>\n",
       "    </tr>\n",
       "    <tr>\n",
       "      <th id=\"T_80074_level0_row12\" class=\"row_heading level0 row12\" >capital-loss</th>\n",
       "      <td id=\"T_80074_row12_col0\" class=\"data row12 col0\" >1.0</td>\n",
       "      <td id=\"T_80074_row12_col1\" class=\"data row12 col1\" >0.0</td>\n",
       "      <td id=\"T_80074_row12_col2\" class=\"data row12 col2\" >0.0</td>\n",
       "      <td id=\"T_80074_row12_col3\" class=\"data row12 col3\" >0.0</td>\n",
       "      <td id=\"T_80074_row12_col4\" class=\"data row12 col4\" >0.0</td>\n",
       "      <td id=\"T_80074_row12_col5\" class=\"data row12 col5\" >0.0</td>\n",
       "      <td id=\"T_80074_row12_col6\" class=\"data row12 col6\" >0.0</td>\n",
       "      <td id=\"T_80074_row12_col7\" class=\"data row12 col7\" >0.0</td>\n",
       "      <td id=\"T_80074_row12_col8\" class=\"data row12 col8\" >0.0</td>\n",
       "      <td id=\"T_80074_row12_col9\" class=\"data row12 col9\" >0.0</td>\n",
       "      <td id=\"T_80074_row12_col10\" class=\"data row12 col10\" >0.0</td>\n",
       "      <td id=\"T_80074_row12_col11\" class=\"data row12 col11\" >0.0</td>\n",
       "      <td id=\"T_80074_row12_col12\" class=\"data row12 col12\" >0.0</td>\n",
       "      <td id=\"T_80074_row12_col13\" class=\"data row12 col13\" >0.0</td>\n",
       "      <td id=\"T_80074_row12_col14\" class=\"data row12 col14\" >0.0</td>\n",
       "    </tr>\n",
       "    <tr>\n",
       "      <th id=\"T_80074_level0_row13\" class=\"row_heading level0 row13\" >hours-per-week</th>\n",
       "      <td id=\"T_80074_row13_col0\" class=\"data row13 col0\" >1.0</td>\n",
       "      <td id=\"T_80074_row13_col1\" class=\"data row13 col1\" >0.0</td>\n",
       "      <td id=\"T_80074_row13_col2\" class=\"data row13 col2\" >1.0</td>\n",
       "      <td id=\"T_80074_row13_col3\" class=\"data row13 col3\" >0.0</td>\n",
       "      <td id=\"T_80074_row13_col4\" class=\"data row13 col4\" >0.0</td>\n",
       "      <td id=\"T_80074_row13_col5\" class=\"data row13 col5\" >0.0</td>\n",
       "      <td id=\"T_80074_row13_col6\" class=\"data row13 col6\" >0.0</td>\n",
       "      <td id=\"T_80074_row13_col7\" class=\"data row13 col7\" >1.0</td>\n",
       "      <td id=\"T_80074_row13_col8\" class=\"data row13 col8\" >0.0</td>\n",
       "      <td id=\"T_80074_row13_col9\" class=\"data row13 col9\" >0.0</td>\n",
       "      <td id=\"T_80074_row13_col10\" class=\"data row13 col10\" >0.0</td>\n",
       "      <td id=\"T_80074_row13_col11\" class=\"data row13 col11\" >1.0</td>\n",
       "      <td id=\"T_80074_row13_col12\" class=\"data row13 col12\" >1.0</td>\n",
       "      <td id=\"T_80074_row13_col13\" class=\"data row13 col13\" >0.0</td>\n",
       "      <td id=\"T_80074_row13_col14\" class=\"data row13 col14\" >0.0</td>\n",
       "    </tr>\n",
       "    <tr>\n",
       "      <th id=\"T_80074_level0_row14\" class=\"row_heading level0 row14\" >native-country</th>\n",
       "      <td id=\"T_80074_row14_col0\" class=\"data row14 col0\" >1.0</td>\n",
       "      <td id=\"T_80074_row14_col1\" class=\"data row14 col1\" >0.0</td>\n",
       "      <td id=\"T_80074_row14_col2\" class=\"data row14 col2\" >1.0</td>\n",
       "      <td id=\"T_80074_row14_col3\" class=\"data row14 col3\" >1.0</td>\n",
       "      <td id=\"T_80074_row14_col4\" class=\"data row14 col4\" >1.0</td>\n",
       "      <td id=\"T_80074_row14_col5\" class=\"data row14 col5\" >1.0</td>\n",
       "      <td id=\"T_80074_row14_col6\" class=\"data row14 col6\" >1.0</td>\n",
       "      <td id=\"T_80074_row14_col7\" class=\"data row14 col7\" >1.0</td>\n",
       "      <td id=\"T_80074_row14_col8\" class=\"data row14 col8\" >1.0</td>\n",
       "      <td id=\"T_80074_row14_col9\" class=\"data row14 col9\" >0.0</td>\n",
       "      <td id=\"T_80074_row14_col10\" class=\"data row14 col10\" >0.0</td>\n",
       "      <td id=\"T_80074_row14_col11\" class=\"data row14 col11\" >1.0</td>\n",
       "      <td id=\"T_80074_row14_col12\" class=\"data row14 col12\" >1.0</td>\n",
       "      <td id=\"T_80074_row14_col13\" class=\"data row14 col13\" >1.0</td>\n",
       "      <td id=\"T_80074_row14_col14\" class=\"data row14 col14\" >0.0</td>\n",
       "    </tr>\n",
       "  </tbody>\n",
       "</table>\n"
      ],
      "text/plain": [
       "<pandas.io.formats.style.Styler at 0x7f4590727f10>"
      ]
     },
     "metadata": {},
     "output_type": "display_data"
    }
   ],
   "source": [
    "debug = False\n",
    "from pmlb import fetch_data\n",
    "\n",
    "# load dataset and descriptive statistics\n",
    "df_Name = 'adult'; df = fetch_data(df_Name)\n",
    "\n",
    "cols = ['age', 'workclass', 'fnlwgt', 'education', 'education-num',\n",
    "        'marital-status', 'occupation', 'relationship', 'race', 'sex',\n",
    "        'capital-gain', 'capital-loss', 'hours-per-week', 'native-country']\n",
    "\n",
    "cols = list(df.columns)\n",
    "cols = [cols[-1]] + cols[:-1]\n",
    "df = df[cols]\n",
    "\n",
    "partial_mat = 1 - np.identity(df.shape[1])\n",
    "if debug:  \n",
    "    print(partial_mat)\n",
    "    print(df.columns)\n",
    "\n",
    "## Define what cannot be caused by other variables\n",
    "prime_causes = ['age', 'sex', 'race', 'native-country']\n",
    "only_effects = ['target','capital-gain', 'capital-loss']\n",
    "not_caused_by = [('education',['occupation','hours-per-week'])\n",
    "                 ,('education-num',['occupation','hours-per-week'])\n",
    "                 ,('fnlwgt',['occupation','hours-per-week'])\n",
    "                 ,('relationship',['occupation','hours-per-week'])\n",
    "                 ,('marital-status',['occupation','hours-per-week'])\n",
    "                ]\n",
    "\n",
    "for i,col in enumerate(df.columns.values):\n",
    "    if col in prime_causes:\n",
    "        ## the whole column is set to 0\n",
    "        partial_mat[:,i] = 0\n",
    "    elif col in only_effects:\n",
    "        ## the whole row, apart from target, is set to 0\n",
    "        partial_mat[i,1:] = 0    \n",
    "    elif col in [c[0] for c in not_caused_by]:\n",
    "        not_causes = [c[1] for c in not_caused_by if c[0]==col][0]\n",
    "        not_causes_idxs = [i for i in range(len(df.columns)) if list(df.columns)[i] in not_causes]\n",
    "        if debug:\n",
    "            print(\"0ing:\", not_causes_idxs)\n",
    "        partial_mat[not_causes_idxs,i] = 0  \n",
    "if debug:        \n",
    "    print(partial_mat)\n",
    "\n",
    "def heat_mat(mat, names=None, colour=\"#003E74\"):\n",
    "    import seaborn as sns\n",
    "    cm = sns.light_palette(colour, as_cmap=True)\n",
    "    x=pd.DataFrame(mat).round(3)\n",
    "    if names is not None:\n",
    "        x.columns = names\n",
    "        x.index = names\n",
    "    x.style.set_properties(**{\n",
    "    # 'background-color': 'white',\n",
    "    'font-size': '100pt',\n",
    "    })    \n",
    "    x=x.style.background_gradient(cmap=cm, low= np.min(mat.flatten()), high=np.max(mat.flatten())).format(\"{:.3}\")\n",
    "\n",
    "    return display(x) \n",
    "\n",
    "heat_mat(partial_mat, names= df.columns.values)\n"
   ]
  },
  {
   "cell_type": "markdown",
   "metadata": {},
   "source": [
    "### Data Size Experiment"
   ]
  },
  {
   "cell_type": "code",
   "execution_count": 93,
   "metadata": {
    "tags": []
   },
   "outputs": [],
   "source": [
    "rerun_size_p = False\n",
    "if rerun_size_p:\n",
    "    %run -i main_realdata.py --version=\"adult_partial\" --out_folds=5 --in_folds=5 --dataset_szs=\"100\",\"500\",\"1000\",\"2000\",\"5000\",\"10000\",\"20000\" --thetas=\"0.08\"\n",
    "\n",
    "    ## Define what cannot be caused by other variables\n",
    "    # prime_causes = ['age', 'sex', 'race', 'native-country']\n",
    "    # only_effects = ['target','capital-gain', 'capital-loss']\n",
    "    # not_caused_by = [('education',['occupation','hours-per-week'])\n",
    "    #                 ,('education-num',['occupation','hours-per-week'])\n",
    "    #                 ,('fnlwgt',['occupation','hours-per-week'])\n",
    "    #                 ,('relationship',['occupation','hours-per-week'])\n",
    "    #                 ,('marital-status',['occupation','hours-per-week'])\n",
    "    #                 ]"
   ]
  },
  {
   "cell_type": "code",
   "execution_count": 94,
   "metadata": {},
   "outputs": [
    {
     "name": "stdout",
     "output_type": "stream",
     "text": [
      "\\begin{tabular}{rc}\n",
      "Dataset & \\multicolumn{1}{c}{Injected}\\\\ \n",
      "\\hline \n",
      "100   &  \\!0.66 (0.02)\\! \\\\\n",
      "500   &  \\!0.71 (0.02)\\! \\\\\n",
      "1000  &  \\!0.74 (0.03)\\! \\\\\n",
      "2000  &  \\!0.76 (0.03)\\! \\\\\n",
      "5000  &  \\!0.76 (0.02)\\! \\\\\n",
      "10000 &  \\!0.76 (0.02)\\! \\\\\n",
      "20000 &  \\!0.77 (0.02)\\! \\\\\n",
      "\\hline\n",
      "\\end{tabular}\n",
      "\n"
     ]
    },
    {
     "name": "stderr",
     "output_type": "stream",
     "text": [
      "/tmp/ipykernel_17670/3047696067.py:82: FutureWarning:\n",
      "\n",
      "In future versions `DataFrame.to_latex` is expected to utilise the base implementation of `Styler.to_latex` for formatting and rendering. The arguments signature may therefore change. It is recommended instead to use `DataFrame.style.to_latex` which also contains additional functionality.\n",
      "\n"
     ]
    }
   ],
   "source": [
    "format_tab(collect_and_build_tab(version = f'adult_partial', metric = 'auc', tau = 0.08, cols = [\"Injected\"]))"
   ]
  },
  {
   "cell_type": "markdown",
   "metadata": {},
   "source": [
    "## Table 1 - Adult Refine Experiment"
   ]
  },
  {
   "cell_type": "markdown",
   "metadata": {},
   "source": [
    "### Display computed (*full*) DAG"
   ]
  },
  {
   "cell_type": "code",
   "execution_count": 95,
   "metadata": {
    "tags": []
   },
   "outputs": [
    {
     "name": "stdout",
     "output_type": "stream",
     "text": [
      "25\n",
      "tau: 0.08\n"
     ]
    },
    {
     "data": {
      "text/html": [
       "\n",
       "        <iframe\n",
       "            width=\"100%\"\n",
       "            height=\"600px\"\n",
       "            src=\"figures/plot_adult_0.08.html\"\n",
       "            frameborder=\"0\"\n",
       "            allowfullscreen\n",
       "            \n",
       "        ></iframe>\n",
       "        "
      ],
      "text/plain": [
       "<IPython.lib.display.IFrame at 0x7f44ddd3e1f0>"
      ]
     },
     "execution_count": 95,
     "metadata": {},
     "output_type": "execute_result"
    }
   ],
   "source": [
    "debug = False\n",
    "import re\n",
    "dset = '100000'\n",
    "theta = '0.08'\n",
    "version = \"adult\"+\"_fulltest\"\n",
    "folder = \"../results/adjmats/\"\n",
    "list_edges = []\n",
    "count = 0\n",
    "W_est = np.zeros((df.shape[1],df.shape[1]))\n",
    "for filename in os.listdir(folder):\n",
    "    match = re.search(f'W_est.{dset}.(\\d).(\\d).{theta}(\\d+)?.{version}.pkl$', filename)\n",
    "    if match:\n",
    "        if debug:\n",
    "            print(filename)\n",
    "        out_f, in_f, _ = match.groups()\n",
    "        w_est = load_pickle(os.path.join(folder,filename), verbose=False)\n",
    "        W_est += w_est\n",
    "        if debug:\n",
    "            print(W_est)\n",
    "        count += 1\n",
    "W_est = W_est/count\n",
    "print(count)\n",
    "\n",
    "tau = float(theta)\n",
    "print(\"tau:\",tau)\n",
    "maxed_adj = DAG_retreive_np(W_est, 0)\n",
    "maxed_adj = W_est\n",
    "# print(W_est)\n",
    "# heat_mat(maxed_adj, names= df.columns.values)\n",
    "plot_DAG(maxed_adj, graphic_type = \"py\", names = list(df.columns), name= \"adult\", version=theta, output_folder=output_folder)"
   ]
  },
  {
   "cell_type": "markdown",
   "metadata": {},
   "source": [
    "### Data Size Experiment"
   ]
  },
  {
   "cell_type": "code",
   "execution_count": 96,
   "metadata": {
    "tags": []
   },
   "outputs": [],
   "source": [
    "rerun_size_refine = False\n",
    "if rerun_size_refine:\n",
    "    %run -i main_realdata.py --version=\"adult_refine\" --out_folds=5 --in_folds=5 --dataset_szs=\"100\",\"500\",\"1000\",\"2000\",\"5000\",\"10000\",\"20000\" --thetas=\"0.08\"\n",
    "\n",
    "    ## Define what cannot be caused by other variables\n",
    "    # prime_causes = ['age', 'sex', 'race', 'native-country']\n",
    "    # only_effects = ['target','capital-gain', 'capital-loss']\n",
    "    # not_caused_by = [('education',['occupation','hours-per-week'])\n",
    "    #                 ,('education-num',['occupation','hours-per-week'])\n",
    "    #                 ,('fnlwgt',['occupation','hours-per-week'])\n",
    "    #                 ,('relationship',['occupation','hours-per-week'])\n",
    "    #                 ,('marital-status',['occupation','hours-per-week'])\n",
    "    #                 ]"
   ]
  },
  {
   "cell_type": "code",
   "execution_count": 97,
   "metadata": {},
   "outputs": [
    {
     "name": "stdout",
     "output_type": "stream",
     "text": [
      "\\begin{tabular}{rc}\n",
      "Dataset & \\multicolumn{1}{c}{Injected}\\\\ \n",
      "\\hline \n",
      "100   &  \\!0.69 (0.04)\\! \\\\\n",
      "500   &  \\!0.74 (0.02)\\! \\\\\n",
      "1000  &  \\!0.76 (0.02)\\! \\\\\n",
      "2000  &  \\!0.77 (0.02)\\! \\\\\n",
      "5000  &  \\!0.79 (0.03)\\! \\\\\n",
      "10000 &  \\!0.85 (0.01)\\! \\\\\n",
      "20000 &  \\!0.86 (0.01)\\! \\\\\n",
      "\\hline\n",
      "\\end{tabular}\n",
      "\n"
     ]
    },
    {
     "name": "stderr",
     "output_type": "stream",
     "text": [
      "/tmp/ipykernel_17670/3047696067.py:82: FutureWarning:\n",
      "\n",
      "In future versions `DataFrame.to_latex` is expected to utilise the base implementation of `Styler.to_latex` for formatting and rendering. The arguments signature may therefore change. It is recommended instead to use `DataFrame.style.to_latex` which also contains additional functionality.\n",
      "\n"
     ]
    }
   ],
   "source": [
    "format_tab(collect_and_build_tab(version = f'adult_refine', metric = 'auc', tau = 0.08, cols = [\"Injected\"]))"
   ]
  }
 ],
 "metadata": {
  "interpreter": {
   "hash": "17ddb6dd1369b98a9580534afb07762b5ebdbc039cd5b98c3e5a98f1dd9838be"
  },
  "kernelspec": {
   "display_name": "Python 3",
   "language": "python",
   "name": "python3"
  },
  "language_info": {
   "codemirror_mode": {
    "name": "ipython",
    "version": 3
   },
   "file_extension": ".py",
   "mimetype": "text/x-python",
   "name": "python",
   "nbconvert_exporter": "python",
   "pygments_lexer": "ipython3",
   "version": "3.9.9"
  }
 },
 "nbformat": 4,
 "nbformat_minor": 4
}
